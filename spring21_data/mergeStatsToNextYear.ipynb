{
  "cells": [
    {
      "cell_type": "code",
      "metadata": {
        "cell_id": "00000-624dc838-cb81-49e1-898d-4b72b568450b",
        "deepnote_to_be_reexecuted": false,
        "source_hash": "5768dbb4",
        "execution_start": 1616814261990,
        "execution_millis": 1187,
        "deepnote_cell_type": "code"
      },
      "source": "import pandas as pd\nimport numpy as np\nimport xlrd\nimport matplotlib.pyplot as plt\nimport seaborn as sns",
      "execution_count": 1,
      "outputs": []
    },
    {
      "cell_type": "code",
      "metadata": {
        "cell_id": "00001-0d97cbb7-8d03-4a13-b955-da6dd0f439c3",
        "deepnote_to_be_reexecuted": false,
        "source_hash": "b521cfab",
        "execution_start": 1616814264091,
        "execution_millis": 16560,
        "deepnote_cell_type": "code"
      },
      "source": "full = pd.read_excel('Complete_Train_Set_With_Cap_Usage.xlsx')\nstats = pd.read_excel('all_impact_norm_adv_stats.xlsx')\nfa = pd.read_excel(\"FA_16_20.xlsx\")",
      "execution_count": 2,
      "outputs": []
    },
    {
      "cell_type": "code",
      "source": "stats['key'] = stats['Player'] + stats['clean_season'].astype(str)",
      "metadata": {
        "tags": [],
        "cell_id": "00002-215b574a-d820-42cc-b72f-75965937e3ae",
        "deepnote_to_be_reexecuted": false,
        "source_hash": "188437d2",
        "execution_millis": 3,
        "execution_start": 1616816328803,
        "deepnote_cell_type": "code"
      },
      "outputs": [],
      "execution_count": 36
    },
    {
      "cell_type": "markdown",
      "source": "1. merge stats with players' next year contract value\n2. merge result of (1) with free agents",
      "metadata": {
        "cell_id": "00003-d80c543d-ae58-4ab0-9cbb-88d4808652bb",
        "deepnote_cell_type": "markdown"
      }
    },
    {
      "cell_type": "code",
      "metadata": {
        "cell_id": "00004-3b014598-a784-4f54-bc42-8eb3a0109e82",
        "deepnote_to_be_reexecuted": false,
        "source_hash": "ab6f0d69",
        "execution_millis": 13,
        "execution_start": 1616816344313,
        "deepnote_cell_type": "code"
      },
      "source": "stats_salary = stats.merge(full[[\"name\", \"season_start\", \"salary\", \"cap_usage\"]], left_on=[\"Player\", \"clean_season\"], right_on=[\"name\", \"season_start\"]).drop(columns=[\"Player\", \"season_start\"])",
      "execution_count": 38,
      "outputs": []
    },
    {
      "cell_type": "code",
      "metadata": {
        "cell_id": "00005-dd6de035-94ae-4536-a9a0-396f72271550",
        "deepnote_to_be_reexecuted": false,
        "source_hash": "362f3ed5",
        "execution_start": 1616816346872,
        "execution_millis": 22,
        "deepnote_cell_type": "code"
      },
      "source": "final = fa.merge(stats_salary, left_on=[\"Player\", \"end season\"], right_on=[\"name\", \"clean_season\"]).drop_duplicates(subset=[\"Player\", \"clean_season\", \"salary\"])",
      "execution_count": 39,
      "outputs": []
    },
    {
      "cell_type": "code",
      "metadata": {
        "cell_id": "00006-70fb6840-fce7-4b31-8741-d3785c4b13c4",
        "deepnote_to_be_reexecuted": false,
        "source_hash": "b8314270",
        "execution_start": 1616816349905,
        "execution_millis": 8,
        "deepnote_cell_type": "code"
      },
      "source": "[col for col in final.columns.values if final[col].isnull().values.any()] # find columns with null values",
      "execution_count": 40,
      "outputs": [
        {
          "output_type": "execute_result",
          "execution_count": 40,
          "data": {
            "text/plain": "['OTm', 'NTm', 'Terms', 'Notes']"
          },
          "metadata": {}
        }
      ]
    },
    {
      "cell_type": "code",
      "metadata": {
        "cell_id": "00007-d2e7589d-4dc5-4ad1-b88a-6048bad7ed7a",
        "deepnote_to_be_reexecuted": false,
        "source_hash": "818270e2",
        "execution_start": 1616816351825,
        "execution_millis": 0,
        "deepnote_cell_type": "code"
      },
      "source": "fa_stats = final.drop(columns=['OTm', 'NTm', 'Terms', 'Notes']).dropna()",
      "execution_count": 41,
      "outputs": []
    },
    {
      "cell_type": "code",
      "metadata": {
        "cell_id": "00008-77ecc18b-b27e-46a4-a5f6-d08a829aede9",
        "deepnote_to_be_reexecuted": false,
        "source_hash": "ffc25465",
        "execution_start": 1616816357612,
        "execution_millis": 821,
        "deepnote_cell_type": "code"
      },
      "source": "fa_stats.to_excel(\"fa_stats_v2.xlsx\")",
      "execution_count": 42,
      "outputs": []
    },
    {
      "cell_type": "markdown",
      "source": "<a style='text-decoration:none;line-height:16px;display:flex;color:#5B5B62;padding:10px;justify-content:end;' href='https://deepnote.com?utm_source=created-in-deepnote-cell&projectId=3693f1ac-ac59-4c00-845b-c389cfa965dd' target=\"_blank\">\n<img style='display:inline;max-height:16px;margin:0px;margin-right:7.5px;' src='data:image/svg+xml;base64,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' > </img>\nCreated in <span style='font-weight:600;margin-left:4px;'>Deepnote</span></a>",
      "metadata": {
        "tags": [],
        "created_in_deepnote_cell": true,
        "deepnote_cell_type": "markdown"
      }
    }
  ],
  "nbformat": 4,
  "nbformat_minor": 4,
  "metadata": {
    "kernelspec": {
      "display_name": "Python 3",
      "language": "python",
      "name": "python3"
    },
    "language_info": {
      "codemirror_mode": {
        "name": "ipython",
        "version": 3
      },
      "file_extension": ".py",
      "mimetype": "text/x-python",
      "name": "python",
      "nbconvert_exporter": "python",
      "pygments_lexer": "ipython3",
      "version": "3.8.3"
    },
    "deepnote_notebook_id": "835313ba-ad24-4a1e-bff0-901b63a2e6aa",
    "deepnote": {},
    "deepnote_execution_queue": []
  }
}