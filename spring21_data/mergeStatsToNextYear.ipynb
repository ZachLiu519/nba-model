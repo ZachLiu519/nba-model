{
 "cells": [
  {
   "cell_type": "code",
   "execution_count": 105,
   "metadata": {
    "cell_id": "00000-624dc838-cb81-49e1-898d-4b72b568450b",
    "deepnote_cell_type": "code",
    "deepnote_to_be_reexecuted": false,
    "execution_millis": 1187,
    "execution_start": 1616814261990,
    "source_hash": "5768dbb4"
   },
   "outputs": [],
   "source": [
    "import pandas as pd\n",
    "import numpy as np\n",
    "import xlrd\n",
    "import matplotlib.pyplot as plt\n",
    "import seaborn as sns"
   ]
  },
  {
   "cell_type": "code",
   "execution_count": 106,
   "metadata": {
    "cell_id": "00001-0d97cbb7-8d03-4a13-b955-da6dd0f439c3",
    "deepnote_cell_type": "code",
    "deepnote_to_be_reexecuted": false,
    "execution_millis": 16560,
    "execution_start": 1616814264091,
    "source_hash": "b521cfab"
   },
   "outputs": [],
   "source": [
    "full = pd.read_csv('bbr_normal_advanced_cap_usage.csv')\n",
    "stats = pd.read_csv('stats_salary.csv')\n",
    "fa = pd.read_excel(\"FA_16_20.xlsx\")"
   ]
  },
  {
   "cell_type": "markdown",
   "metadata": {
    "cell_id": "00003-d80c543d-ae58-4ab0-9cbb-88d4808652bb",
    "deepnote_cell_type": "markdown"
   },
   "source": [
    "1. merge stats with players' next year contract value\n",
    "2. merge result of (1) with free agents"
   ]
  },
  {
   "cell_type": "code",
   "execution_count": 107,
   "metadata": {},
   "outputs": [],
   "source": [
    "stats = stats.drop(columns=['salary','salary_cap','cap_space_usage'])"
   ]
  },
  {
   "cell_type": "code",
   "execution_count": 108,
   "metadata": {
    "cell_id": "00004-3b014598-a784-4f54-bc42-8eb3a0109e82",
    "deepnote_cell_type": "code",
    "deepnote_to_be_reexecuted": false,
    "execution_millis": 13,
    "execution_start": 1616816344313,
    "source_hash": "ab6f0d69"
   },
   "outputs": [],
   "source": [
    "stats_salary = stats.merge(full[[\"name\", \"season_start\", \"salary\", \"cap_space_usage\"]], left_on=[\"Player\", \"clean_season\"], right_on=[\"name\", \"season_start\"]).drop(columns=[\"Player\", 'Unnamed: 0', 'season_start_x', 'team_y', 'name_y', 'season_start_y', 'names', 'Unnamed: 0.1']).rename(columns={'team_x':'team', 'name_x':'name'})"
   ]
  },
  {
   "cell_type": "code",
   "execution_count": 109,
   "metadata": {
    "cell_id": "00005-dd6de035-94ae-4536-a9a0-396f72271550",
    "deepnote_cell_type": "code",
    "deepnote_to_be_reexecuted": false,
    "execution_millis": 22,
    "execution_start": 1616816346872,
    "source_hash": "362f3ed5"
   },
   "outputs": [],
   "source": [
    "final = fa.merge(stats_salary, left_on=[\"Player\", \"end season\"], right_on=[\"name\", \"clean_season\"]).drop_duplicates(subset=['key'])"
   ]
  },
  {
   "cell_type": "code",
   "execution_count": 110,
   "metadata": {
    "cell_id": "00006-70fb6840-fce7-4b31-8741-d3785c4b13c4",
    "deepnote_cell_type": "code",
    "deepnote_to_be_reexecuted": false,
    "execution_millis": 8,
    "execution_start": 1616816349905,
    "source_hash": "b8314270"
   },
   "outputs": [
    {
     "data": {
      "text/plain": [
       "['OTm', 'NTm', 'Terms', 'Notes']"
      ]
     },
     "execution_count": 110,
     "metadata": {},
     "output_type": "execute_result"
    }
   ],
   "source": [
    "[col for col in final.columns.values if final[col].isnull().values.any()] # find columns with null values"
   ]
  },
  {
   "cell_type": "code",
   "execution_count": 111,
   "metadata": {
    "cell_id": "00007-d2e7589d-4dc5-4ad1-b88a-6048bad7ed7a",
    "deepnote_cell_type": "code",
    "deepnote_to_be_reexecuted": false,
    "execution_millis": 0,
    "execution_start": 1616816351825,
    "source_hash": "818270e2"
   },
   "outputs": [],
   "source": [
    "fa_stats = final.drop(columns=['OTm', 'NTm', 'Terms', 'Notes']).dropna()"
   ]
  },
  {
   "cell_type": "code",
   "execution_count": 112,
   "metadata": {},
   "outputs": [
    {
     "data": {
      "text/plain": [
       "Index(['Unnamed: 0', 'Rk', 'Player', 'Pos', 'Age_x', 'Type', 'WS',\n",
       "       'end season_x', 'Season', 'Team', 'Offensive Archetype', 'Minutes',\n",
       "       'Games', 'Age_y', 'O-LEBRON', 'D-LEBRON', 'Wins Added', 'MPG', 'ORPM',\n",
       "       'DRPM', 'poss', 'raptor_offense', 'raptor_defense', 'war_total',\n",
       "       'war_reg_season', 'war_playoffs', 'predator_offense',\n",
       "       'predator_defense', 'pace_impact', 'LA_RAPM__Def', 'LA_RAPM__Off',\n",
       "       'RA_EFG__Def', 'RA_EFG__Off', 'RA_FTR__Def', 'RA_FTR__Off',\n",
       "       'RA_ORBD__Def', 'RA_ORBD__Off', 'RA_TOV__Def', 'RA_TOV__Off',\n",
       "       'RAPM__Def', 'RAPM__Off', 'clean_season', 'key', 'name', 'positions',\n",
       "       'age', 'team', 'games_played', 'minutes_played',\n",
       "       'player_efficiency_rating', 'true_shooting_percentage',\n",
       "       'three_point_attempt_rate', 'free_throw_attempt_rate',\n",
       "       'offensive_rebound_percentage', 'defensive_rebound_percentage',\n",
       "       'total_rebound_percentage', 'assist_percentage', 'steal_percentage',\n",
       "       'block_percentage', 'turnover_percentage', 'usage_percentage',\n",
       "       'offensive_win_shares', 'defensive_win_shares', 'win_shares',\n",
       "       'win_shares_per_48_minutes', 'offensive_box_plus_minus',\n",
       "       'defensive_box_plus_minus', 'box_plus_minus',\n",
       "       'value_over_replacement_player', 'is_combined_totals', 'Year', 'slug',\n",
       "       'end season_y', 'player_id', 'season', 'season_end', 'salary',\n",
       "       'cap_space_usage'],\n",
       "      dtype='object')"
      ]
     },
     "execution_count": 112,
     "metadata": {},
     "output_type": "execute_result"
    }
   ],
   "source": [
    "fa_stats.columns"
   ]
  },
  {
   "cell_type": "code",
   "execution_count": 114,
   "metadata": {
    "cell_id": "00008-77ecc18b-b27e-46a4-a5f6-d08a829aede9",
    "deepnote_cell_type": "code",
    "deepnote_to_be_reexecuted": false,
    "execution_millis": 821,
    "execution_start": 1616816357612,
    "source_hash": "ffc25465"
   },
   "outputs": [],
   "source": [
    "fa_stats.to_excel(\"fa_stats_v2.xlsx\")"
   ]
  },
  {
   "cell_type": "markdown",
   "metadata": {
    "created_in_deepnote_cell": true,
    "deepnote_cell_type": "markdown",
    "tags": []
   },
   "source": [
    "<a style='text-decoration:none;line-height:16px;display:flex;color:#5B5B62;padding:10px;justify-content:end;' href='https://deepnote.com?utm_source=created-in-deepnote-cell&projectId=3693f1ac-ac59-4c00-845b-c389cfa965dd' target=\"_blank\">\n",
    "<img style='display:inline;max-height:16px;margin:0px;margin-right:7.5px;' src='data:image/svg+xml;base64,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' > </img>\n",
    "Created in <span style='font-weight:600;margin-left:4px;'>Deepnote</span></a>"
   ]
  }
 ],
 "metadata": {
  "deepnote": {},
  "deepnote_execution_queue": [],
  "deepnote_notebook_id": "835313ba-ad24-4a1e-bff0-901b63a2e6aa",
  "kernelspec": {
   "display_name": "Python 3",
   "language": "python",
   "name": "python3"
  },
  "language_info": {
   "codemirror_mode": {
    "name": "ipython",
    "version": 3
   },
   "file_extension": ".py",
   "mimetype": "text/x-python",
   "name": "python",
   "nbconvert_exporter": "python",
   "pygments_lexer": "ipython3",
   "version": "3.8.5"
  }
 },
 "nbformat": 4,
 "nbformat_minor": 4
}
