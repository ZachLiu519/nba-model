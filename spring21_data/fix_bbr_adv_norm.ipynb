{
 "cells": [
  {
   "cell_type": "code",
   "execution_count": 56,
   "metadata": {},
   "outputs": [],
   "source": [
    "import pandas as pd\n",
    "import re\n",
    "import numpy as np"
   ]
  },
  {
   "cell_type": "code",
   "execution_count": 57,
   "metadata": {},
   "outputs": [],
   "source": [
    "stats = pd.read_excel('COMBINED_NORMAL_ADVANCED_STATS_1984-85_to_2019-20_ver2.xlsx', sheet_name=1)"
   ]
  },
  {
   "cell_type": "code",
   "execution_count": 58,
   "metadata": {},
   "outputs": [],
   "source": [
    "stats['error_in_name'] = stats['slug'].apply(lambda x: x is np.nan)"
   ]
  },
  {
   "cell_type": "code",
   "execution_count": 59,
   "metadata": {},
   "outputs": [],
   "source": [
    "stats_need_fix = stats.loc[stats['error_in_name'] == True]"
   ]
  },
  {
   "cell_type": "code",
   "execution_count": 60,
   "metadata": {},
   "outputs": [
    {
     "name": "stderr",
     "output_type": "stream",
     "text": [
      "<ipython-input-60-5b3e32999086>:1: SettingWithCopyWarning: \n",
      "A value is trying to be set on a copy of a slice from a DataFrame.\n",
      "Try using .loc[row_indexer,col_indexer] = value instead\n",
      "\n",
      "See the caveats in the documentation: https://pandas.pydata.org/pandas-docs/stable/user_guide/indexing.html#returning-a-view-versus-a-copy\n",
      "  stats_need_fix['Year'] = '2019-20'\n",
      "<ipython-input-60-5b3e32999086>:4: SettingWithCopyWarning: \n",
      "A value is trying to be set on a copy of a slice from a DataFrame.\n",
      "Try using .loc[row_indexer,col_indexer] = value instead\n",
      "\n",
      "See the caveats in the documentation: https://pandas.pydata.org/pandas-docs/stable/user_guide/indexing.html#returning-a-view-versus-a-copy\n",
      "  stats_need_fix['name'], stats_need_fix['slug'] = name, slug\n"
     ]
    }
   ],
   "source": [
    "stats_need_fix['Year'] = '2019-20'\n",
    "name = stats_need_fix['name'].apply(lambda x: re.sub(r\"\\\\.+\", \"\", x))\n",
    "slug = stats_need_fix['name'].apply(lambda x: re.sub(r\".+\\\\\", \"\", x))\n",
    "stats_need_fix['name'], stats_need_fix['slug'] = name, slug"
   ]
  },
  {
   "cell_type": "code",
   "execution_count": 61,
   "metadata": {},
   "outputs": [],
   "source": [
    "stats = stats.loc[stats['error_in_name'] == False].append(stats_need_fix).drop(columns=['error_in_name'])"
   ]
  },
  {
   "cell_type": "code",
   "execution_count": 62,
   "metadata": {},
   "outputs": [],
   "source": [
    "salaries = pd.read_excel('salaries_1985to2020_final.xlsx')\n",
    "salary_cap = pd.read_excel('salary_caps.xlsx')"
   ]
  },
  {
   "cell_type": "code",
   "execution_count": 63,
   "metadata": {},
   "outputs": [],
   "source": [
    "merged = salaries.merge(salary_cap[['season', 'salary_cap']], on='season')"
   ]
  },
  {
   "cell_type": "code",
   "execution_count": 64,
   "metadata": {},
   "outputs": [],
   "source": [
    "merged['cap_space_usage'] = merged['salary'] / merged['salary_cap']"
   ]
  },
  {
   "cell_type": "code",
   "execution_count": 65,
   "metadata": {},
   "outputs": [],
   "source": [
    "stats['end season'] = stats['Year'].apply(lambda x: '19' + x[-2:] if int(x[-2:]) >= 84 else '20' + x[-2:])"
   ]
  },
  {
   "cell_type": "code",
   "execution_count": 66,
   "metadata": {},
   "outputs": [],
   "source": [
    "stats['key'] = stats['name'] + stats['end season']"
   ]
  },
  {
   "cell_type": "code",
   "execution_count": 67,
   "metadata": {},
   "outputs": [],
   "source": [
    "merged['season_end'] = merged['season_end'].apply(lambda x: str(x))"
   ]
  },
  {
   "cell_type": "code",
   "execution_count": 68,
   "metadata": {},
   "outputs": [],
   "source": [
    "merged['key'] = merged['names'] + merged['season_end']"
   ]
  },
  {
   "cell_type": "code",
   "execution_count": 69,
   "metadata": {},
   "outputs": [],
   "source": [
    "final_table = stats.merge(merged, on='key')"
   ]
  },
  {
   "cell_type": "code",
   "execution_count": 70,
   "metadata": {},
   "outputs": [
    {
     "data": {
      "text/plain": [
       "Index(['name', 'positions', 'age', 'team_x', 'games_played', 'minutes_played',\n",
       "       'player_efficiency_rating', 'true_shooting_percentage',\n",
       "       'three_point_attempt_rate', 'free_throw_attempt_rate',\n",
       "       'offensive_rebound_percentage', 'defensive_rebound_percentage',\n",
       "       'total_rebound_percentage', 'assist_percentage', 'steal_percentage',\n",
       "       'block_percentage', 'turnover_percentage', 'usage_percentage',\n",
       "       'offensive_win_shares', 'defensive_win_shares', 'win_shares',\n",
       "       'win_shares_per_48_minutes', 'offensive_box_plus_minus',\n",
       "       'defensive_box_plus_minus', 'box_plus_minus',\n",
       "       'value_over_replacement_player', 'is_combined_totals', 'key', 'Year',\n",
       "       'slug', 'end season', 'names', 'player_id', 'salary', 'season',\n",
       "       'season_end', 'season_start', 'team_y', 'salary_cap',\n",
       "       'cap_space_usage'],\n",
       "      dtype='object')"
      ]
     },
     "execution_count": 70,
     "metadata": {},
     "output_type": "execute_result"
    }
   ],
   "source": [
    "final_table.columns"
   ]
  },
  {
   "cell_type": "code",
   "execution_count": 71,
   "metadata": {},
   "outputs": [],
   "source": [
    "final_table.to_csv('bbr_normal_advanced_cap_usage.csv')"
   ]
  }
 ],
 "metadata": {
  "kernelspec": {
   "display_name": "Python 3.8.2 64-bit ('DataScience': conda)",
   "language": "python",
   "name": "python38264bitdatascienceconda6647aa692cd647ca976aaa01095ed2f6"
  },
  "language_info": {
   "codemirror_mode": {
    "name": "ipython",
    "version": 3
   },
   "file_extension": ".py",
   "mimetype": "text/x-python",
   "name": "python",
   "nbconvert_exporter": "python",
   "pygments_lexer": "ipython3",
   "version": "3.8.5"
  }
 },
 "nbformat": 4,
 "nbformat_minor": 4
}
