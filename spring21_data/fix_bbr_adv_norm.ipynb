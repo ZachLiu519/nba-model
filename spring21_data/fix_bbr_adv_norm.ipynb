{
 "cells": [
  {
   "cell_type": "code",
   "execution_count": 72,
   "metadata": {},
   "outputs": [],
   "source": [
    "import pandas as pd\n",
    "import re\n",
    "import numpy as np"
   ]
  },
  {
   "cell_type": "code",
   "execution_count": 73,
   "metadata": {},
   "outputs": [],
   "source": [
    "normal = pd.read_excel('COMBINED_NORMAL_ADVANCED_STATS_1984-85_to_2019-20_ver2.xlsx', sheet_name=0)"
   ]
  },
  {
   "cell_type": "code",
   "execution_count": 78,
   "metadata": {},
   "outputs": [],
   "source": [
    "normal = normal[['slug', 'name', 'positions', 'age', 'team', 'games_played',\n",
    "       'games_started', 'minutes_played', 'made_field_goals',\n",
    "       'attempted_field_goals', 'made_three_point_field_goals',\n",
    "       'attempted_three_point_field_goals', 'made_free_throws',\n",
    "       'attempted_free_throws', 'offensive_rebounds', 'defensive_rebounds',\n",
    "       'assists', 'steals', 'blocks', 'turnovers', 'personal_fouls', 'points', 'Year']]"
   ]
  },
  {
   "cell_type": "code",
   "execution_count": 87,
   "metadata": {},
   "outputs": [
    {
     "name": "stderr",
     "output_type": "stream",
     "text": [
      "<ipython-input-87-2a801766409e>:1: SettingWithCopyWarning: \n",
      "A value is trying to be set on a copy of a slice from a DataFrame.\n",
      "Try using .loc[row_indexer,col_indexer] = value instead\n",
      "\n",
      "See the caveats in the documentation: https://pandas.pydata.org/pandas-docs/stable/user_guide/indexing.html#returning-a-view-versus-a-copy\n",
      "  normal['end season'] = normal['Year'].apply(lambda x: '19' + x[-2:] if int(x[-2:]) >= 84 else '20' + x[-2:])\n",
      "<ipython-input-87-2a801766409e>:2: SettingWithCopyWarning: \n",
      "A value is trying to be set on a copy of a slice from a DataFrame.\n",
      "Try using .loc[row_indexer,col_indexer] = value instead\n",
      "\n",
      "See the caveats in the documentation: https://pandas.pydata.org/pandas-docs/stable/user_guide/indexing.html#returning-a-view-versus-a-copy\n",
      "  normal['key'] = normal['name'] + normal['end season']\n"
     ]
    }
   ],
   "source": [
    "normal['end season'] = normal['Year'].apply(lambda x: '19' + x[-2:] if int(x[-2:]) >= 84 else '20' + x[-2:])\n",
    "normal['key'] = normal['name'] + normal['end season']"
   ]
  },
  {
   "cell_type": "code",
   "execution_count": 120,
   "metadata": {},
   "outputs": [],
   "source": [
    "normal = normal.drop(columns=['slug', 'Year'])"
   ]
  },
  {
   "cell_type": "code",
   "execution_count": 133,
   "metadata": {},
   "outputs": [],
   "source": [
    "normal_19_20 = pd.read_excel('COMBINED_NORMAL_ADVANCED_STATS_1984-85_to_2019-20_ver2.xlsx', sheet_name=3)"
   ]
  },
  {
   "cell_type": "code",
   "execution_count": 134,
   "metadata": {},
   "outputs": [],
   "source": [
    "normal_19_20['Player'] = normal_19_20['Player'].apply(lambda x: re.sub(r\"\\\\.+\", \"\", x))"
   ]
  },
  {
   "cell_type": "code",
   "execution_count": 142,
   "metadata": {},
   "outputs": [],
   "source": [
    "columns_change = dict(zip(['Player', 'Pos', 'Age', 'Tm', 'G', 'GS', 'MP', 'FG', 'FGA',\n",
    "       '3P', '3PA', 'FT', 'FTA',\n",
    "       'ORB', 'DRB', 'AST', 'STL', 'BLK', 'TOV', 'PF', 'PTS'],\n",
    "                          ['name', 'positions', 'age', 'team', 'games_played',\n",
    "       'games_started', 'minutes_played', 'made_field_goals',\n",
    "       'attempted_field_goals', 'made_three_point_field_goals',\n",
    "       'attempted_three_point_field_goals', 'made_free_throws',\n",
    "       'attempted_free_throws', 'offensive_rebounds', 'defensive_rebounds',\n",
    "       'assists', 'steals', 'blocks', 'turnovers', 'personal_fouls', 'points']))"
   ]
  },
  {
   "cell_type": "code",
   "execution_count": 143,
   "metadata": {},
   "outputs": [],
   "source": [
    "normal_19_20 = normal_19_20.rename(columns=columns_change)\n",
    "normal_19_20 = normal_19_20.drop(columns=['3P%', '2P', '2PA', '2P%', 'eFG%', 'FG%', 'FT%', 'TRB', 'Rk'])\n",
    "normal_19_20['end season'] = '2020'\n",
    "normal_19_20['key'] = normal_19_20['name'] + normal_19_20['end season']"
   ]
  },
  {
   "cell_type": "code",
   "execution_count": 155,
   "metadata": {},
   "outputs": [],
   "source": [
    "normal_agg = normal.append(normal_19_20)"
   ]
  },
  {
   "cell_type": "code",
   "execution_count": 184,
   "metadata": {},
   "outputs": [],
   "source": [
    "normal_agg = normal_agg.reset_index(drop=True)"
   ]
  },
  {
   "cell_type": "code",
   "execution_count": 147,
   "metadata": {},
   "outputs": [],
   "source": [
    "stats = pd.read_excel('COMBINED_NORMAL_ADVANCED_STATS_1984-85_to_2019-20_ver2.xlsx', sheet_name=1)"
   ]
  },
  {
   "cell_type": "code",
   "execution_count": 148,
   "metadata": {},
   "outputs": [],
   "source": [
    "stats['error_in_name'] = stats['slug'].apply(lambda x: x is np.nan)"
   ]
  },
  {
   "cell_type": "code",
   "execution_count": 149,
   "metadata": {},
   "outputs": [],
   "source": [
    "stats_need_fix = stats.loc[stats['error_in_name'] == True]"
   ]
  },
  {
   "cell_type": "code",
   "execution_count": 150,
   "metadata": {},
   "outputs": [
    {
     "name": "stderr",
     "output_type": "stream",
     "text": [
      "<ipython-input-150-5b3e32999086>:1: SettingWithCopyWarning: \n",
      "A value is trying to be set on a copy of a slice from a DataFrame.\n",
      "Try using .loc[row_indexer,col_indexer] = value instead\n",
      "\n",
      "See the caveats in the documentation: https://pandas.pydata.org/pandas-docs/stable/user_guide/indexing.html#returning-a-view-versus-a-copy\n",
      "  stats_need_fix['Year'] = '2019-20'\n",
      "<ipython-input-150-5b3e32999086>:4: SettingWithCopyWarning: \n",
      "A value is trying to be set on a copy of a slice from a DataFrame.\n",
      "Try using .loc[row_indexer,col_indexer] = value instead\n",
      "\n",
      "See the caveats in the documentation: https://pandas.pydata.org/pandas-docs/stable/user_guide/indexing.html#returning-a-view-versus-a-copy\n",
      "  stats_need_fix['name'], stats_need_fix['slug'] = name, slug\n"
     ]
    }
   ],
   "source": [
    "stats_need_fix['Year'] = '2019-20'\n",
    "name = stats_need_fix['name'].apply(lambda x: re.sub(r\"\\\\.+\", \"\", x))\n",
    "slug = stats_need_fix['name'].apply(lambda x: re.sub(r\".+\\\\\", \"\", x))\n",
    "stats_need_fix['name'], stats_need_fix['slug'] = name, slug"
   ]
  },
  {
   "cell_type": "code",
   "execution_count": 151,
   "metadata": {},
   "outputs": [],
   "source": [
    "stats = stats.loc[stats['error_in_name'] == False].append(stats_need_fix).drop(columns=['error_in_name'])"
   ]
  },
  {
   "cell_type": "code",
   "execution_count": 152,
   "metadata": {},
   "outputs": [],
   "source": [
    "stats['end season'] = stats['Year'].apply(lambda x: '19' + x[-2:] if int(x[-2:]) >= 84 else '20' + x[-2:])"
   ]
  },
  {
   "cell_type": "code",
   "execution_count": 153,
   "metadata": {},
   "outputs": [],
   "source": [
    "stats['key'] = stats['name'] + stats['end season']"
   ]
  },
  {
   "cell_type": "code",
   "execution_count": 186,
   "metadata": {},
   "outputs": [],
   "source": [
    "stats = stats.reset_index(drop=True)"
   ]
  },
  {
   "cell_type": "code",
   "execution_count": 195,
   "metadata": {},
   "outputs": [],
   "source": [
    "stats_agg = pd.concat([normal_agg.drop(columns=['positions', 'team','key']),stats.drop(columns=['name', 'positions',\n",
    "       'age', 'team', 'games_played', 'minutes_played','Year','slug','end season','is_combined_totals'])], axis=1)"
   ]
  },
  {
   "cell_type": "code",
   "execution_count": 196,
   "metadata": {},
   "outputs": [],
   "source": [
    "salaries = pd.read_excel('salaries_1985to2020_final.xlsx')\n",
    "salary_cap = pd.read_excel('salary_caps.xlsx')"
   ]
  },
  {
   "cell_type": "code",
   "execution_count": 197,
   "metadata": {},
   "outputs": [],
   "source": [
    "merged = salaries.merge(salary_cap[['season', 'salary_cap']], on='season')"
   ]
  },
  {
   "cell_type": "code",
   "execution_count": 198,
   "metadata": {},
   "outputs": [],
   "source": [
    "merged['cap_space_usage'] = merged['salary'] / merged['salary_cap']"
   ]
  },
  {
   "cell_type": "code",
   "execution_count": 199,
   "metadata": {},
   "outputs": [],
   "source": [
    "merged['season_end'] = merged['season_end'].apply(lambda x: str(x))"
   ]
  },
  {
   "cell_type": "code",
   "execution_count": 200,
   "metadata": {},
   "outputs": [],
   "source": [
    "merged['key'] = merged['names'] + merged['season_end']"
   ]
  },
  {
   "cell_type": "code",
   "execution_count": 201,
   "metadata": {},
   "outputs": [],
   "source": [
    "final_table = stats_agg.merge(merged, on='key').drop(columns=[])"
   ]
  },
  {
   "cell_type": "code",
   "execution_count": 203,
   "metadata": {},
   "outputs": [],
   "source": [
    "final_table.to_csv('bbr_normal_advanced_cap_usage.csv')"
   ]
  }
 ],
 "metadata": {
  "kernelspec": {
   "display_name": "Python 3.8.2 64-bit ('DataScience': conda)",
   "language": "python",
   "name": "python38264bitdatascienceconda6647aa692cd647ca976aaa01095ed2f6"
  },
  "language_info": {
   "codemirror_mode": {
    "name": "ipython",
    "version": 3
   },
   "file_extension": ".py",
   "mimetype": "text/x-python",
   "name": "python",
   "nbconvert_exporter": "python",
   "pygments_lexer": "ipython3",
   "version": "3.8.5"
  }
 },
 "nbformat": 4,
 "nbformat_minor": 4
}
