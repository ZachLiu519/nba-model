{
  "cells": [
    {
      "cell_type": "code",
      "metadata": {
        "tags": [],
        "cell_id": "00000-f4193345-fa15-4300-9894-006c509a8770",
        "deepnote_to_be_reexecuted": false,
        "source_hash": "5768dbb4",
        "execution_millis": 779,
        "execution_start": 1615420323817,
        "deepnote_cell_type": "code"
      },
      "source": "import pandas as pd\nimport numpy as np\nimport xlrd\nimport matplotlib.pyplot as plt\nimport seaborn as sns",
      "execution_count": 6,
      "outputs": []
    },
    {
      "cell_type": "code",
      "metadata": {
        "tags": [],
        "cell_id": "00002-40cbe062-98da-4aed-ac7e-0df194ccf50c",
        "deepnote_to_be_reexecuted": false,
        "source_hash": "f264abe5",
        "execution_millis": 2988,
        "execution_start": 1615422554899,
        "deepnote_cell_type": "code"
      },
      "source": "dataset = pd.read_excel('all_impact_norm_adv_stats.xlsx').drop(columns=[\"Unnamed: 0\"])\nfree_agents = pd.read_excel('FA_16_20.xlsx').drop(columns=[\"Unnamed: 0\"])",
      "execution_count": 9,
      "outputs": []
    },
    {
      "cell_type": "code",
      "metadata": {
        "tags": [],
        "cell_id": "00003-e710dd0e-28cf-4593-b43c-49210b80d9f7",
        "deepnote_cell_type": "code"
      },
      "source": "",
      "execution_count": null,
      "outputs": []
    },
    {
      "cell_type": "code",
      "source": "dataset.columns",
      "metadata": {
        "tags": [],
        "cell_id": "00003-221ddc32-636b-4a5d-807c-84393c4fce78",
        "deepnote_to_be_reexecuted": false,
        "source_hash": "1bdd0dc9",
        "execution_start": 1615422658993,
        "execution_millis": 12,
        "deepnote_cell_type": "code"
      },
      "outputs": [
        {
          "output_type": "execute_result",
          "execution_count": 12,
          "data": {
            "text/plain": "Index(['Player', 'Season', 'Team', 'Offensive Archetype', 'Minutes', 'Games',\n       'Age', 'O-LEBRON', 'D-LEBRON', 'Wins Added', 'MPG', 'ORPM', 'DRPM',\n       'poss', 'raptor_offense', 'raptor_defense', 'war_total',\n       'war_reg_season', 'war_playoffs', 'predator_offense',\n       'predator_defense', 'pace_impact', 'LA_RAPM__Def', 'LA_RAPM__Off',\n       'RA_EFG__Def', 'RA_EFG__Off', 'RA_FTR__Def', 'RA_FTR__Off',\n       'RA_ORBD__Def', 'RA_ORBD__Off', 'RA_TOV__Def', 'RA_TOV__Off',\n       'RAPM__Def', 'RAPM__Off', 'clean_season', 'slug', 'positions', 'age',\n       'team', 'games_played', 'games_started', 'minutes_played',\n       'made_field_goals', 'attempted_field_goals',\n       'made_three_point_field_goals', 'attempted_three_point_field_goals',\n       'made_free_throws', 'attempted_free_throws', 'offensive_rebounds',\n       'defensive_rebounds', 'assists', 'steals', 'blocks', 'turnovers',\n       'personal_fouls', 'points', 'player_efficiency_rating',\n       'true_shooting_percentage', 'three_point_attempt_rate',\n       'free_throw_attempt_rate', 'offensive_rebound_percentage',\n       'defensive_rebound_percentage', 'total_rebound_percentage',\n       'assist_percentage', 'steal_percentage', 'block_percentage',\n       'turnover_percentage', 'usage_percentage', 'offensive_win_shares',\n       'defensive_win_shares', 'win_shares', 'win_shares_per_48_minutes',\n       'offensive_box_plus_minus', 'defensive_box_plus_minus',\n       'box_plus_minus', 'value_over_replacement_player', 'key'],\n      dtype='object')"
          },
          "metadata": {}
        }
      ],
      "execution_count": 12
    },
    {
      "cell_type": "code",
      "source": "free_agents.columns",
      "metadata": {
        "tags": [],
        "cell_id": "00003-e3937ce1-82f6-4a61-9139-ab84e8a9ba58",
        "deepnote_to_be_reexecuted": false,
        "source_hash": "de921cf8",
        "execution_millis": 7,
        "execution_start": 1615422572450,
        "deepnote_cell_type": "code"
      },
      "outputs": [
        {
          "output_type": "execute_result",
          "execution_count": 11,
          "data": {
            "text/plain": "Index(['Rk', 'Player', 'Pos', 'Age', 'Type', 'OTm', 'WS', 'NTm', 'Terms',\n       'Notes', 'end season'],\n      dtype='object')"
          },
          "metadata": {}
        }
      ],
      "execution_count": 11
    },
    {
      "cell_type": "markdown",
      "source": "the goal is to merge the free agents dataset with the salary dataset from last semester. Then, we'll merge the statistics-dataset with this FA+salary dataset.",
      "metadata": {
        "tags": [],
        "cell_id": "00006-93ff3a8d-d9ac-422a-8d11-ecc826b2261b",
        "deepnote_cell_type": "markdown"
      }
    },
    {
      "cell_type": "code",
      "source": "full = pd.read_excel('Complete_Train_Set_With_Cap_Usage.xlsx')",
      "metadata": {
        "tags": [],
        "cell_id": "00006-ced7ffb3-520d-4c52-85e2-b98190a74c7b",
        "deepnote_to_be_reexecuted": false,
        "source_hash": "2fd233f9",
        "execution_millis": 14793,
        "execution_start": 1615422791939,
        "deepnote_cell_type": "code"
      },
      "outputs": [],
      "execution_count": 14
    },
    {
      "cell_type": "code",
      "source": "full.columns",
      "metadata": {
        "tags": [],
        "cell_id": "00007-abfaa79c-8c6b-4f66-aa43-c25707de23ac",
        "deepnote_to_be_reexecuted": false,
        "source_hash": "f8a22dc1",
        "execution_start": 1615422847134,
        "deepnote_cell_type": "code"
      },
      "outputs": [
        {
          "output_type": "execute_result",
          "execution_count": 16,
          "data": {
            "text/plain": "Index(['Unnamed: 0', 'name', 'positions', 'age', 'team_x', 'games_played',\n       'games_started', 'minutes_played', 'made_field_goals',\n       'attempted_field_goals', 'made_three_point_field_goals',\n       'attempted_three_point_field_goals', 'made_free_throws',\n       'attempted_free_throws', 'offensive_rebounds', 'defensive_rebounds',\n       'assists', 'steals', 'blocks', 'turnovers', 'personal_fouls', 'points',\n       'player_efficiency_rating', 'true_shooting_percentage',\n       'three_point_attempt_rate', 'free_throw_attempt_rate',\n       'offensive_rebound_percentage', 'defensive_rebound_percentage',\n       'total_rebound_percentage', 'assist_percentage', 'steal_percentage',\n       'block_percentage', 'turnover_percentage', 'usage_percentage',\n       'offensive_win_shares', 'defensive_win_shares', 'win_shares',\n       'win_shares_per_48_minutes', 'offensive_box_plus_minus',\n       'defensive_box_plus_minus', 'box_plus_minus',\n       'value_over_replacement_player', 'season', 'player_id', 'salary',\n       'season_end', 'season_start', 'team_y', 'key', 'salary_cap_x',\n       'salary_cap_y', 'cap_usage'],\n      dtype='object')"
          },
          "metadata": {}
        }
      ],
      "execution_count": 16
    },
    {
      "cell_type": "code",
      "source": "full.head()",
      "metadata": {
        "tags": [],
        "cell_id": "00007-0daf25fb-f22d-4e56-8df7-cce1b4d38fda",
        "deepnote_to_be_reexecuted": false,
        "source_hash": "3e039c9b",
        "execution_start": 1615422812715,
        "execution_millis": 132,
        "deepnote_cell_type": "code"
      },
      "outputs": [
        {
          "output_type": "execute_result",
          "execution_count": 15,
          "data": {
            "application/vnd.deepnote.dataframe.v2+json": {
              "row_count": 5,
              "column_count": 52,
              "columns": [
                {
                  "name": "Unnamed: 0",
                  "dtype": "int64",
                  "stats": {
                    "unique_count": 5,
                    "nan_count": 0,
                    "min": 0,
                    "max": 4,
                    "histogram": [
                      {
                        "bin_start": 0,
                        "bin_end": 0.4,
                        "count": 1
                      },
                      {
                        "bin_start": 0.4,
                        "bin_end": 0.8,
                        "count": 0
                      },
                      {
                        "bin_start": 0.8,
                        "bin_end": 1.2000000000000002,
                        "count": 1
                      },
                      {
                        "bin_start": 1.2000000000000002,
                        "bin_end": 1.6,
                        "count": 0
                      },
                      {
                        "bin_start": 1.6,
                        "bin_end": 2,
                        "count": 0
                      },
                      {
                        "bin_start": 2,
                        "bin_end": 2.4000000000000004,
                        "count": 1
                      },
                      {
                        "bin_start": 2.4000000000000004,
                        "bin_end": 2.8000000000000003,
                        "count": 0
                      },
                      {
                        "bin_start": 2.8000000000000003,
                        "bin_end": 3.2,
                        "count": 1
                      },
                      {
                        "bin_start": 3.2,
                        "bin_end": 3.6,
                        "count": 0
                      },
                      {
                        "bin_start": 3.6,
                        "bin_end": 4,
                        "count": 1
                      }
                    ]
                  }
                },
                {
                  "name": "name",
                  "dtype": "object",
                  "stats": {
                    "unique_count": 5,
                    "nan_count": 0,
                    "categories": [
                      {
                        "name": "Kareem Abdul-Jabbar",
                        "count": 1
                      },
                      {
                        "name": "Alvan Adams",
                        "count": 1
                      },
                      {
                        "name": "3 others",
                        "count": 3
                      }
                    ]
                  }
                },
                {
                  "name": "positions",
                  "dtype": "object",
                  "stats": {
                    "unique_count": 5,
                    "nan_count": 0,
                    "categories": [
                      {
                        "name": "CENTER",
                        "count": 1
                      },
                      {
                        "name": "POWER FORWARD",
                        "count": 1
                      },
                      {
                        "name": "3 others",
                        "count": 3
                      }
                    ]
                  }
                },
                {
                  "name": "age",
                  "dtype": "int64",
                  "stats": {
                    "unique_count": 4,
                    "nan_count": 0,
                    "min": 24,
                    "max": 37,
                    "histogram": [
                      {
                        "bin_start": 24,
                        "bin_end": 25.3,
                        "count": 3
                      },
                      {
                        "bin_start": 25.3,
                        "bin_end": 26.6,
                        "count": 0
                      },
                      {
                        "bin_start": 26.6,
                        "bin_end": 27.9,
                        "count": 0
                      },
                      {
                        "bin_start": 27.9,
                        "bin_end": 29.2,
                        "count": 0
                      },
                      {
                        "bin_start": 29.2,
                        "bin_end": 30.5,
                        "count": 1
                      },
                      {
                        "bin_start": 30.5,
                        "bin_end": 31.8,
                        "count": 0
                      },
                      {
                        "bin_start": 31.8,
                        "bin_end": 33.1,
                        "count": 0
                      },
                      {
                        "bin_start": 33.1,
                        "bin_end": 34.4,
                        "count": 0
                      },
                      {
                        "bin_start": 34.4,
                        "bin_end": 35.7,
                        "count": 0
                      },
                      {
                        "bin_start": 35.7,
                        "bin_end": 37,
                        "count": 1
                      }
                    ]
                  }
                },
                {
                  "name": "team_x",
                  "dtype": "object",
                  "stats": {
                    "unique_count": 5,
                    "nan_count": 0,
                    "categories": [
                      {
                        "name": "LOS ANGELES LAKERS",
                        "count": 1
                      },
                      {
                        "name": "PHOENIX SUNS",
                        "count": 1
                      },
                      {
                        "name": "3 others",
                        "count": 3
                      }
                    ]
                  }
                },
                {
                  "name": "games_played",
                  "dtype": "int64",
                  "stats": {
                    "unique_count": 5,
                    "nan_count": 0,
                    "min": 75,
                    "max": 82,
                    "histogram": [
                      {
                        "bin_start": 75,
                        "bin_end": 75.7,
                        "count": 1
                      },
                      {
                        "bin_start": 75.7,
                        "bin_end": 76.4,
                        "count": 0
                      },
                      {
                        "bin_start": 76.4,
                        "bin_end": 77.1,
                        "count": 0
                      },
                      {
                        "bin_start": 77.1,
                        "bin_end": 77.8,
                        "count": 0
                      },
                      {
                        "bin_start": 77.8,
                        "bin_end": 78.5,
                        "count": 0
                      },
                      {
                        "bin_start": 78.5,
                        "bin_end": 79.2,
                        "count": 1
                      },
                      {
                        "bin_start": 79.2,
                        "bin_end": 79.9,
                        "count": 0
                      },
                      {
                        "bin_start": 79.9,
                        "bin_end": 80.6,
                        "count": 1
                      },
                      {
                        "bin_start": 80.6,
                        "bin_end": 81.3,
                        "count": 1
                      },
                      {
                        "bin_start": 81.3,
                        "bin_end": 82,
                        "count": 1
                      }
                    ]
                  }
                },
                {
                  "name": "games_started",
                  "dtype": "float64",
                  "stats": {
                    "unique_count": 5,
                    "nan_count": 0,
                    "min": 0.8024691358024691,
                    "max": 1,
                    "histogram": [
                      {
                        "bin_start": 0.8024691358024691,
                        "bin_end": 0.8222222222222222,
                        "count": 1
                      },
                      {
                        "bin_start": 0.8222222222222222,
                        "bin_end": 0.8419753086419753,
                        "count": 1
                      },
                      {
                        "bin_start": 0.8419753086419753,
                        "bin_end": 0.8617283950617284,
                        "count": 0
                      },
                      {
                        "bin_start": 0.8617283950617284,
                        "bin_end": 0.8814814814814815,
                        "count": 0
                      },
                      {
                        "bin_start": 0.8814814814814815,
                        "bin_end": 0.9012345679012346,
                        "count": 0
                      },
                      {
                        "bin_start": 0.9012345679012346,
                        "bin_end": 0.9209876543209876,
                        "count": 0
                      },
                      {
                        "bin_start": 0.9209876543209876,
                        "bin_end": 0.9407407407407408,
                        "count": 0
                      },
                      {
                        "bin_start": 0.9407407407407408,
                        "bin_end": 0.9604938271604938,
                        "count": 0
                      },
                      {
                        "bin_start": 0.9604938271604938,
                        "bin_end": 0.980246913580247,
                        "count": 1
                      },
                      {
                        "bin_start": 0.980246913580247,
                        "bin_end": 1,
                        "count": 2
                      }
                    ]
                  }
                },
                {
                  "name": "minutes_played",
                  "dtype": "float64",
                  "stats": {
                    "unique_count": 5,
                    "nan_count": 0,
                    "min": 26.04878048780488,
                    "max": 34.18666666666667,
                    "histogram": [
                      {
                        "bin_start": 26.04878048780488,
                        "bin_end": 26.86256910569106,
                        "count": 1
                      },
                      {
                        "bin_start": 26.86256910569106,
                        "bin_end": 27.676357723577237,
                        "count": 0
                      },
                      {
                        "bin_start": 27.676357723577237,
                        "bin_end": 28.490146341463415,
                        "count": 0
                      },
                      {
                        "bin_start": 28.490146341463415,
                        "bin_end": 29.303934959349593,
                        "count": 0
                      },
                      {
                        "bin_start": 29.303934959349593,
                        "bin_end": 30.117723577235772,
                        "count": 1
                      },
                      {
                        "bin_start": 30.117723577235772,
                        "bin_end": 30.931512195121954,
                        "count": 0
                      },
                      {
                        "bin_start": 30.931512195121954,
                        "bin_end": 31.745300813008132,
                        "count": 0
                      },
                      {
                        "bin_start": 31.745300813008132,
                        "bin_end": 32.55908943089431,
                        "count": 0
                      },
                      {
                        "bin_start": 32.55908943089431,
                        "bin_end": 33.372878048780485,
                        "count": 1
                      },
                      {
                        "bin_start": 33.372878048780485,
                        "bin_end": 34.18666666666667,
                        "count": 2
                      }
                    ]
                  }
                },
                {
                  "name": "made_field_goals",
                  "dtype": "float64",
                  "stats": {
                    "unique_count": 5,
                    "nan_count": 0,
                    "min": 4.172839506172839,
                    "max": 9.925,
                    "histogram": [
                      {
                        "bin_start": 4.172839506172839,
                        "bin_end": 4.748055555555555,
                        "count": 1
                      },
                      {
                        "bin_start": 4.748055555555555,
                        "bin_end": 5.323271604938272,
                        "count": 0
                      },
                      {
                        "bin_start": 5.323271604938272,
                        "bin_end": 5.898487654320988,
                        "count": 2
                      },
                      {
                        "bin_start": 5.898487654320988,
                        "bin_end": 6.473703703703704,
                        "count": 0
                      },
                      {
                        "bin_start": 6.473703703703704,
                        "bin_end": 7.04891975308642,
                        "count": 0
                      },
                      {
                        "bin_start": 7.04891975308642,
                        "bin_end": 7.6241358024691355,
                        "count": 0
                      },
                      {
                        "bin_start": 7.6241358024691355,
                        "bin_end": 8.199351851851851,
                        "count": 0
                      },
                      {
                        "bin_start": 8.199351851851851,
                        "bin_end": 8.774567901234569,
                        "count": 0
                      },
                      {
                        "bin_start": 8.774567901234569,
                        "bin_end": 9.349783950617283,
                        "count": 1
                      },
                      {
                        "bin_start": 9.349783950617283,
                        "bin_end": 9.925,
                        "count": 1
                      }
                    ]
                  }
                },
                {
                  "name": "attempted_field_goals",
                  "dtype": "float64",
                  "stats": {
                    "unique_count": 5,
                    "nan_count": 0,
                    "min": 8.555555555555555,
                    "max": 19.6125,
                    "histogram": [
                      {
                        "bin_start": 8.555555555555555,
                        "bin_end": 9.661249999999999,
                        "count": 1
                      },
                      {
                        "bin_start": 9.661249999999999,
                        "bin_end": 10.766944444444444,
                        "count": 1
                      },
                      {
                        "bin_start": 10.766944444444444,
                        "bin_end": 11.87263888888889,
                        "count": 1
                      },
                      {
                        "bin_start": 11.87263888888889,
                        "bin_end": 12.978333333333333,
                        "count": 0
                      },
                      {
                        "bin_start": 12.978333333333333,
                        "bin_end": 14.084027777777777,
                        "count": 0
                      },
                      {
                        "bin_start": 14.084027777777777,
                        "bin_end": 15.189722222222223,
                        "count": 0
                      },
                      {
                        "bin_start": 15.189722222222223,
                        "bin_end": 16.295416666666668,
                        "count": 1
                      },
                      {
                        "bin_start": 16.295416666666668,
                        "bin_end": 17.401111111111113,
                        "count": 0
                      },
                      {
                        "bin_start": 17.401111111111113,
                        "bin_end": 18.50680555555556,
                        "count": 0
                      },
                      {
                        "bin_start": 18.50680555555556,
                        "bin_end": 19.6125,
                        "count": 1
                      }
                    ]
                  }
                },
                {
                  "name": "made_three_point_field_goals",
                  "dtype": "float64",
                  "stats": {
                    "unique_count": 4,
                    "nan_count": 0,
                    "min": 0,
                    "max": 0.3375,
                    "histogram": [
                      {
                        "bin_start": 0,
                        "bin_end": 0.03375,
                        "count": 2
                      },
                      {
                        "bin_start": 0.03375,
                        "bin_end": 0.0675,
                        "count": 1
                      },
                      {
                        "bin_start": 0.0675,
                        "bin_end": 0.10125,
                        "count": 0
                      },
                      {
                        "bin_start": 0.10125,
                        "bin_end": 0.135,
                        "count": 0
                      },
                      {
                        "bin_start": 0.135,
                        "bin_end": 0.16875,
                        "count": 0
                      },
                      {
                        "bin_start": 0.16875,
                        "bin_end": 0.2025,
                        "count": 1
                      },
                      {
                        "bin_start": 0.2025,
                        "bin_end": 0.23625000000000002,
                        "count": 0
                      },
                      {
                        "bin_start": 0.23625000000000002,
                        "bin_end": 0.27,
                        "count": 0
                      },
                      {
                        "bin_start": 0.27,
                        "bin_end": 0.30375,
                        "count": 0
                      },
                      {
                        "bin_start": 0.30375,
                        "bin_end": 0.3375,
                        "count": 1
                      }
                    ]
                  }
                },
                {
                  "name": "attempted_three_point_field_goals",
                  "dtype": "float64",
                  "stats": {
                    "unique_count": 5,
                    "nan_count": 0,
                    "min": 0,
                    "max": 1.0625,
                    "histogram": [
                      {
                        "bin_start": 0,
                        "bin_end": 0.10625,
                        "count": 2
                      },
                      {
                        "bin_start": 0.10625,
                        "bin_end": 0.2125,
                        "count": 0
                      },
                      {
                        "bin_start": 0.2125,
                        "bin_end": 0.31875,
                        "count": 0
                      },
                      {
                        "bin_start": 0.31875,
                        "bin_end": 0.425,
                        "count": 1
                      },
                      {
                        "bin_start": 0.425,
                        "bin_end": 0.53125,
                        "count": 0
                      },
                      {
                        "bin_start": 0.53125,
                        "bin_end": 0.6375,
                        "count": 0
                      },
                      {
                        "bin_start": 0.6375,
                        "bin_end": 0.74375,
                        "count": 0
                      },
                      {
                        "bin_start": 0.74375,
                        "bin_end": 0.85,
                        "count": 1
                      },
                      {
                        "bin_start": 0.85,
                        "bin_end": 0.9562499999999999,
                        "count": 0
                      },
                      {
                        "bin_start": 0.9562499999999999,
                        "bin_end": 1.0625,
                        "count": 1
                      }
                    ]
                  }
                },
                {
                  "name": "made_free_throws",
                  "dtype": "float64",
                  "stats": {
                    "unique_count": 5,
                    "nan_count": 0,
                    "min": 1.54320987654321,
                    "max": 5.5,
                    "histogram": [
                      {
                        "bin_start": 1.54320987654321,
                        "bin_end": 1.938888888888889,
                        "count": 2
                      },
                      {
                        "bin_start": 1.938888888888889,
                        "bin_end": 2.334567901234568,
                        "count": 0
                      },
                      {
                        "bin_start": 2.334567901234568,
                        "bin_end": 2.730246913580247,
                        "count": 0
                      },
                      {
                        "bin_start": 2.730246913580247,
                        "bin_end": 3.1259259259259258,
                        "count": 1
                      },
                      {
                        "bin_start": 3.1259259259259258,
                        "bin_end": 3.5216049382716053,
                        "count": 0
                      },
                      {
                        "bin_start": 3.5216049382716053,
                        "bin_end": 3.917283950617284,
                        "count": 1
                      },
                      {
                        "bin_start": 3.917283950617284,
                        "bin_end": 4.312962962962963,
                        "count": 0
                      },
                      {
                        "bin_start": 4.312962962962963,
                        "bin_end": 4.708641975308642,
                        "count": 0
                      },
                      {
                        "bin_start": 4.708641975308642,
                        "bin_end": 5.1043209876543205,
                        "count": 0
                      },
                      {
                        "bin_start": 5.1043209876543205,
                        "bin_end": 5.5,
                        "count": 1
                      }
                    ]
                  }
                },
                {
                  "name": "attempted_free_throws",
                  "dtype": "float64",
                  "stats": {
                    "unique_count": 5,
                    "nan_count": 0,
                    "min": 1.813333333333333,
                    "max": 7.25,
                    "histogram": [
                      {
                        "bin_start": 1.813333333333333,
                        "bin_end": 2.3569999999999998,
                        "count": 2
                      },
                      {
                        "bin_start": 2.3569999999999998,
                        "bin_end": 2.9006666666666665,
                        "count": 0
                      },
                      {
                        "bin_start": 2.9006666666666665,
                        "bin_end": 3.4443333333333332,
                        "count": 0
                      },
                      {
                        "bin_start": 3.4443333333333332,
                        "bin_end": 3.988,
                        "count": 1
                      },
                      {
                        "bin_start": 3.988,
                        "bin_end": 4.531666666666666,
                        "count": 0
                      },
                      {
                        "bin_start": 4.531666666666666,
                        "bin_end": 5.075333333333333,
                        "count": 1
                      },
                      {
                        "bin_start": 5.075333333333333,
                        "bin_end": 5.619,
                        "count": 0
                      },
                      {
                        "bin_start": 5.619,
                        "bin_end": 6.1626666666666665,
                        "count": 0
                      },
                      {
                        "bin_start": 6.1626666666666665,
                        "bin_end": 6.706333333333333,
                        "count": 0
                      },
                      {
                        "bin_start": 6.706333333333333,
                        "bin_end": 7.25,
                        "count": 1
                      }
                    ]
                  }
                },
                {
                  "name": "offensive_rebounds",
                  "dtype": "float64",
                  "stats": {
                    "unique_count": 5,
                    "nan_count": 0,
                    "min": 0.6666666666666666,
                    "max": 2.35,
                    "histogram": [
                      {
                        "bin_start": 0.6666666666666666,
                        "bin_end": 0.835,
                        "count": 1
                      },
                      {
                        "bin_start": 0.835,
                        "bin_end": 1.0033333333333334,
                        "count": 0
                      },
                      {
                        "bin_start": 1.0033333333333334,
                        "bin_end": 1.1716666666666669,
                        "count": 1
                      },
                      {
                        "bin_start": 1.1716666666666669,
                        "bin_end": 1.34,
                        "count": 0
                      },
                      {
                        "bin_start": 1.34,
                        "bin_end": 1.5083333333333333,
                        "count": 0
                      },
                      {
                        "bin_start": 1.5083333333333333,
                        "bin_end": 1.6766666666666667,
                        "count": 0
                      },
                      {
                        "bin_start": 1.6766666666666667,
                        "bin_end": 1.8450000000000002,
                        "count": 0
                      },
                      {
                        "bin_start": 1.8450000000000002,
                        "bin_end": 2.0133333333333336,
                        "count": 1
                      },
                      {
                        "bin_start": 2.0133333333333336,
                        "bin_end": 2.181666666666667,
                        "count": 1
                      },
                      {
                        "bin_start": 2.181666666666667,
                        "bin_end": 2.35,
                        "count": 1
                      }
                    ]
                  }
                },
                {
                  "name": "defensive_rebounds",
                  "dtype": "float64",
                  "stats": {
                    "unique_count": 5,
                    "nan_count": 0,
                    "min": 2.56,
                    "max": 5.822784810126582,
                    "histogram": [
                      {
                        "bin_start": 2.56,
                        "bin_end": 2.886278481012658,
                        "count": 1
                      },
                      {
                        "bin_start": 2.886278481012658,
                        "bin_end": 3.2125569620253165,
                        "count": 1
                      },
                      {
                        "bin_start": 3.2125569620253165,
                        "bin_end": 3.538835443037975,
                        "count": 0
                      },
                      {
                        "bin_start": 3.538835443037975,
                        "bin_end": 3.865113924050633,
                        "count": 1
                      },
                      {
                        "bin_start": 3.865113924050633,
                        "bin_end": 4.191392405063291,
                        "count": 0
                      },
                      {
                        "bin_start": 4.191392405063291,
                        "bin_end": 4.517670886075949,
                        "count": 1
                      },
                      {
                        "bin_start": 4.517670886075949,
                        "bin_end": 4.843949367088607,
                        "count": 0
                      },
                      {
                        "bin_start": 4.843949367088607,
                        "bin_end": 5.170227848101266,
                        "count": 0
                      },
                      {
                        "bin_start": 5.170227848101266,
                        "bin_end": 5.496506329113924,
                        "count": 0
                      },
                      {
                        "bin_start": 5.496506329113924,
                        "bin_end": 5.822784810126582,
                        "count": 1
                      }
                    ]
                  }
                },
                {
                  "name": "assists",
                  "dtype": "float64",
                  "stats": {
                    "unique_count": 5,
                    "nan_count": 0,
                    "min": 3.1125,
                    "max": 8.604938271604938,
                    "histogram": [
                      {
                        "bin_start": 3.1125,
                        "bin_end": 3.6617438271604934,
                        "count": 2
                      },
                      {
                        "bin_start": 3.6617438271604934,
                        "bin_end": 4.210987654320988,
                        "count": 1
                      },
                      {
                        "bin_start": 4.210987654320988,
                        "bin_end": 4.7602314814814815,
                        "count": 0
                      },
                      {
                        "bin_start": 4.7602314814814815,
                        "bin_end": 5.309475308641975,
                        "count": 0
                      },
                      {
                        "bin_start": 5.309475308641975,
                        "bin_end": 5.858719135802469,
                        "count": 1
                      },
                      {
                        "bin_start": 5.858719135802469,
                        "bin_end": 6.407962962962962,
                        "count": 0
                      },
                      {
                        "bin_start": 6.407962962962962,
                        "bin_end": 6.957206790123457,
                        "count": 0
                      },
                      {
                        "bin_start": 6.957206790123457,
                        "bin_end": 7.50645061728395,
                        "count": 0
                      },
                      {
                        "bin_start": 7.50645061728395,
                        "bin_end": 8.055694444444445,
                        "count": 0
                      },
                      {
                        "bin_start": 8.055694444444445,
                        "bin_end": 8.604938271604938,
                        "count": 1
                      }
                    ]
                  }
                },
                {
                  "name": "steals",
                  "dtype": "float64",
                  "stats": {
                    "unique_count": 5,
                    "nan_count": 0,
                    "min": 0.75,
                    "max": 1.626666666666667,
                    "histogram": [
                      {
                        "bin_start": 0.75,
                        "bin_end": 0.8376666666666667,
                        "count": 2
                      },
                      {
                        "bin_start": 0.8376666666666667,
                        "bin_end": 0.9253333333333333,
                        "count": 0
                      },
                      {
                        "bin_start": 0.9253333333333333,
                        "bin_end": 1.0130000000000001,
                        "count": 0
                      },
                      {
                        "bin_start": 1.0130000000000001,
                        "bin_end": 1.1006666666666667,
                        "count": 0
                      },
                      {
                        "bin_start": 1.1006666666666667,
                        "bin_end": 1.1883333333333335,
                        "count": 0
                      },
                      {
                        "bin_start": 1.1883333333333335,
                        "bin_end": 1.2760000000000002,
                        "count": 0
                      },
                      {
                        "bin_start": 1.2760000000000002,
                        "bin_end": 1.363666666666667,
                        "count": 0
                      },
                      {
                        "bin_start": 1.363666666666667,
                        "bin_end": 1.4513333333333336,
                        "count": 1
                      },
                      {
                        "bin_start": 1.4513333333333336,
                        "bin_end": 1.5390000000000001,
                        "count": 0
                      },
                      {
                        "bin_start": 1.5390000000000001,
                        "bin_end": 1.626666666666667,
                        "count": 2
                      }
                    ]
                  }
                },
                {
                  "name": "blocks",
                  "dtype": "float64",
                  "stats": {
                    "unique_count": 5,
                    "nan_count": 0,
                    "min": 0.06172839506172839,
                    "max": 2.050632911392405,
                    "histogram": [
                      {
                        "bin_start": 0.06172839506172839,
                        "bin_end": 0.26061884669479607,
                        "count": 2
                      },
                      {
                        "bin_start": 0.26061884669479607,
                        "bin_end": 0.4595092983278637,
                        "count": 1
                      },
                      {
                        "bin_start": 0.4595092983278637,
                        "bin_end": 0.6583997499609313,
                        "count": 1
                      },
                      {
                        "bin_start": 0.6583997499609313,
                        "bin_end": 0.8572902015939989,
                        "count": 0
                      },
                      {
                        "bin_start": 0.8572902015939989,
                        "bin_end": 1.0561806532270666,
                        "count": 0
                      },
                      {
                        "bin_start": 1.0561806532270666,
                        "bin_end": 1.2550711048601344,
                        "count": 0
                      },
                      {
                        "bin_start": 1.2550711048601344,
                        "bin_end": 1.453961556493202,
                        "count": 0
                      },
                      {
                        "bin_start": 1.453961556493202,
                        "bin_end": 1.6528520081262696,
                        "count": 0
                      },
                      {
                        "bin_start": 1.6528520081262696,
                        "bin_end": 1.8517424597593373,
                        "count": 0
                      },
                      {
                        "bin_start": 1.8517424597593373,
                        "bin_end": 2.050632911392405,
                        "count": 1
                      }
                    ]
                  }
                },
                {
                  "name": "turnovers",
                  "dtype": "float64",
                  "stats": {
                    "unique_count": 5,
                    "nan_count": 0,
                    "min": 1.986666666666667,
                    "max": 3.1625,
                    "histogram": [
                      {
                        "bin_start": 1.986666666666667,
                        "bin_end": 2.1042500000000004,
                        "count": 1
                      },
                      {
                        "bin_start": 2.1042500000000004,
                        "bin_end": 2.2218333333333335,
                        "count": 0
                      },
                      {
                        "bin_start": 2.2218333333333335,
                        "bin_end": 2.3394166666666667,
                        "count": 0
                      },
                      {
                        "bin_start": 2.3394166666666667,
                        "bin_end": 2.4570000000000003,
                        "count": 1
                      },
                      {
                        "bin_start": 2.4570000000000003,
                        "bin_end": 2.5745833333333334,
                        "count": 2
                      },
                      {
                        "bin_start": 2.5745833333333334,
                        "bin_end": 2.692166666666667,
                        "count": 0
                      },
                      {
                        "bin_start": 2.692166666666667,
                        "bin_end": 2.80975,
                        "count": 0
                      },
                      {
                        "bin_start": 2.80975,
                        "bin_end": 2.9273333333333333,
                        "count": 0
                      },
                      {
                        "bin_start": 2.9273333333333333,
                        "bin_end": 3.0449166666666665,
                        "count": 0
                      },
                      {
                        "bin_start": 3.0449166666666665,
                        "bin_end": 3.1625,
                        "count": 1
                      }
                    ]
                  }
                },
                {
                  "name": "personal_fouls",
                  "dtype": "float64",
                  "stats": {
                    "unique_count": 5,
                    "nan_count": 0,
                    "min": 1.62962962962963,
                    "max": 3.125,
                    "histogram": [
                      {
                        "bin_start": 1.62962962962963,
                        "bin_end": 1.779166666666667,
                        "count": 1
                      },
                      {
                        "bin_start": 1.779166666666667,
                        "bin_end": 1.928703703703704,
                        "count": 0
                      },
                      {
                        "bin_start": 1.928703703703704,
                        "bin_end": 2.078240740740741,
                        "count": 0
                      },
                      {
                        "bin_start": 2.078240740740741,
                        "bin_end": 2.227777777777778,
                        "count": 0
                      },
                      {
                        "bin_start": 2.227777777777778,
                        "bin_end": 2.377314814814815,
                        "count": 0
                      },
                      {
                        "bin_start": 2.377314814814815,
                        "bin_end": 2.526851851851852,
                        "count": 0
                      },
                      {
                        "bin_start": 2.526851851851852,
                        "bin_end": 2.676388888888889,
                        "count": 0
                      },
                      {
                        "bin_start": 2.676388888888889,
                        "bin_end": 2.825925925925926,
                        "count": 0
                      },
                      {
                        "bin_start": 2.825925925925926,
                        "bin_end": 2.975462962962963,
                        "count": 0
                      },
                      {
                        "bin_start": 2.975462962962963,
                        "bin_end": 3.125,
                        "count": 4
                      }
                    ]
                  }
                },
                {
                  "name": "points",
                  "dtype": "float64",
                  "stats": {
                    "unique_count": 5,
                    "nan_count": 0,
                    "min": 9.925925925925926,
                    "max": 25.6875,
                    "histogram": [
                      {
                        "bin_start": 9.925925925925926,
                        "bin_end": 11.502083333333333,
                        "count": 1
                      },
                      {
                        "bin_start": 11.502083333333333,
                        "bin_end": 13.07824074074074,
                        "count": 1
                      },
                      {
                        "bin_start": 13.07824074074074,
                        "bin_end": 14.654398148148147,
                        "count": 0
                      },
                      {
                        "bin_start": 14.654398148148147,
                        "bin_end": 16.230555555555554,
                        "count": 1
                      },
                      {
                        "bin_start": 16.230555555555554,
                        "bin_end": 17.806712962962962,
                        "count": 0
                      },
                      {
                        "bin_start": 17.806712962962962,
                        "bin_end": 19.38287037037037,
                        "count": 0
                      },
                      {
                        "bin_start": 19.38287037037037,
                        "bin_end": 20.959027777777777,
                        "count": 0
                      },
                      {
                        "bin_start": 20.959027777777777,
                        "bin_end": 22.535185185185185,
                        "count": 1
                      },
                      {
                        "bin_start": 22.535185185185185,
                        "bin_end": 24.111342592592592,
                        "count": 0
                      },
                      {
                        "bin_start": 24.111342592592592,
                        "bin_end": 25.6875,
                        "count": 1
                      }
                    ]
                  }
                },
                {
                  "name": "player_efficiency_rating",
                  "dtype": "float64",
                  "stats": {
                    "unique_count": 5,
                    "nan_count": 0,
                    "min": 14.2,
                    "max": 22.9,
                    "histogram": [
                      {
                        "bin_start": 14.2,
                        "bin_end": 15.069999999999999,
                        "count": 1
                      },
                      {
                        "bin_start": 15.069999999999999,
                        "bin_end": 15.94,
                        "count": 0
                      },
                      {
                        "bin_start": 15.94,
                        "bin_end": 16.81,
                        "count": 1
                      },
                      {
                        "bin_start": 16.81,
                        "bin_end": 17.68,
                        "count": 0
                      },
                      {
                        "bin_start": 17.68,
                        "bin_end": 18.549999999999997,
                        "count": 0
                      },
                      {
                        "bin_start": 18.549999999999997,
                        "bin_end": 19.419999999999998,
                        "count": 0
                      },
                      {
                        "bin_start": 19.419999999999998,
                        "bin_end": 20.29,
                        "count": 1
                      },
                      {
                        "bin_start": 20.29,
                        "bin_end": 21.159999999999997,
                        "count": 0
                      },
                      {
                        "bin_start": 21.159999999999997,
                        "bin_end": 22.029999999999998,
                        "count": 1
                      },
                      {
                        "bin_start": 22.029999999999998,
                        "bin_end": 22.9,
                        "count": 1
                      }
                    ]
                  }
                },
                {
                  "name": "true_shooting_percentage",
                  "dtype": "float64",
                  "stats": {
                    "unique_count": 5,
                    "nan_count": 0,
                    "min": 0.524,
                    "max": 0.628,
                    "histogram": [
                      {
                        "bin_start": 0.524,
                        "bin_end": 0.5344,
                        "count": 1
                      },
                      {
                        "bin_start": 0.5344,
                        "bin_end": 0.5448000000000001,
                        "count": 0
                      },
                      {
                        "bin_start": 0.5448000000000001,
                        "bin_end": 0.5552,
                        "count": 0
                      },
                      {
                        "bin_start": 0.5552,
                        "bin_end": 0.5656,
                        "count": 1
                      },
                      {
                        "bin_start": 0.5656,
                        "bin_end": 0.5760000000000001,
                        "count": 1
                      },
                      {
                        "bin_start": 0.5760000000000001,
                        "bin_end": 0.5864,
                        "count": 1
                      },
                      {
                        "bin_start": 0.5864,
                        "bin_end": 0.5968,
                        "count": 0
                      },
                      {
                        "bin_start": 0.5968,
                        "bin_end": 0.6072,
                        "count": 0
                      },
                      {
                        "bin_start": 0.6072,
                        "bin_end": 0.6176,
                        "count": 0
                      },
                      {
                        "bin_start": 0.6176,
                        "bin_end": 0.628,
                        "count": 1
                      }
                    ]
                  }
                },
                {
                  "name": "three_point_attempt_rate",
                  "dtype": "float64",
                  "stats": {
                    "unique_count": 5,
                    "nan_count": 0,
                    "min": 0,
                    "max": 0.071,
                    "histogram": [
                      {
                        "bin_start": 0,
                        "bin_end": 0.0070999999999999995,
                        "count": 2
                      },
                      {
                        "bin_start": 0.0070999999999999995,
                        "bin_end": 0.014199999999999999,
                        "count": 0
                      },
                      {
                        "bin_start": 0.014199999999999999,
                        "bin_end": 0.0213,
                        "count": 0
                      },
                      {
                        "bin_start": 0.0213,
                        "bin_end": 0.028399999999999998,
                        "count": 0
                      },
                      {
                        "bin_start": 0.028399999999999998,
                        "bin_end": 0.0355,
                        "count": 0
                      },
                      {
                        "bin_start": 0.0355,
                        "bin_end": 0.0426,
                        "count": 1
                      },
                      {
                        "bin_start": 0.0426,
                        "bin_end": 0.049699999999999994,
                        "count": 0
                      },
                      {
                        "bin_start": 0.049699999999999994,
                        "bin_end": 0.056799999999999996,
                        "count": 1
                      },
                      {
                        "bin_start": 0.056799999999999996,
                        "bin_end": 0.0639,
                        "count": 0
                      },
                      {
                        "bin_start": 0.0639,
                        "bin_end": 0.071,
                        "count": 1
                      }
                    ]
                  }
                },
                {
                  "name": "free_throw_attempt_rate",
                  "dtype": "float64",
                  "stats": {
                    "unique_count": 5,
                    "nan_count": 0,
                    "min": 0.172,
                    "max": 0.37,
                    "histogram": [
                      {
                        "bin_start": 0.172,
                        "bin_end": 0.1918,
                        "count": 1
                      },
                      {
                        "bin_start": 0.1918,
                        "bin_end": 0.21159999999999998,
                        "count": 0
                      },
                      {
                        "bin_start": 0.21159999999999998,
                        "bin_end": 0.2314,
                        "count": 0
                      },
                      {
                        "bin_start": 0.2314,
                        "bin_end": 0.2512,
                        "count": 1
                      },
                      {
                        "bin_start": 0.2512,
                        "bin_end": 0.271,
                        "count": 0
                      },
                      {
                        "bin_start": 0.271,
                        "bin_end": 0.2908,
                        "count": 0
                      },
                      {
                        "bin_start": 0.2908,
                        "bin_end": 0.3106,
                        "count": 1
                      },
                      {
                        "bin_start": 0.3106,
                        "bin_end": 0.3304,
                        "count": 1
                      },
                      {
                        "bin_start": 0.3304,
                        "bin_end": 0.3502,
                        "count": 0
                      },
                      {
                        "bin_start": 0.3502,
                        "bin_end": 0.37,
                        "count": 1
                      }
                    ]
                  }
                },
                {
                  "name": "offensive_rebound_percentage",
                  "dtype": "float64",
                  "stats": {
                    "unique_count": 5,
                    "nan_count": 0,
                    "min": 2.4,
                    "max": 8.2,
                    "histogram": [
                      {
                        "bin_start": 2.4,
                        "bin_end": 2.9799999999999995,
                        "count": 1
                      },
                      {
                        "bin_start": 2.9799999999999995,
                        "bin_end": 3.5599999999999996,
                        "count": 1
                      },
                      {
                        "bin_start": 3.5599999999999996,
                        "bin_end": 4.14,
                        "count": 0
                      },
                      {
                        "bin_start": 4.14,
                        "bin_end": 4.719999999999999,
                        "count": 0
                      },
                      {
                        "bin_start": 4.719999999999999,
                        "bin_end": 5.299999999999999,
                        "count": 0
                      },
                      {
                        "bin_start": 5.299999999999999,
                        "bin_end": 5.879999999999999,
                        "count": 0
                      },
                      {
                        "bin_start": 5.879999999999999,
                        "bin_end": 6.459999999999999,
                        "count": 0
                      },
                      {
                        "bin_start": 6.459999999999999,
                        "bin_end": 7.039999999999999,
                        "count": 0
                      },
                      {
                        "bin_start": 7.039999999999999,
                        "bin_end": 7.619999999999999,
                        "count": 0
                      },
                      {
                        "bin_start": 7.619999999999999,
                        "bin_end": 8.2,
                        "count": 3
                      }
                    ]
                  }
                },
                {
                  "name": "defensive_rebound_percentage",
                  "dtype": "float64",
                  "stats": {
                    "unique_count": 5,
                    "nan_count": 0,
                    "min": 7.9,
                    "max": 18.2,
                    "histogram": [
                      {
                        "bin_start": 7.9,
                        "bin_end": 8.93,
                        "count": 1
                      },
                      {
                        "bin_start": 8.93,
                        "bin_end": 9.96,
                        "count": 0
                      },
                      {
                        "bin_start": 9.96,
                        "bin_end": 10.99,
                        "count": 1
                      },
                      {
                        "bin_start": 10.99,
                        "bin_end": 12.02,
                        "count": 0
                      },
                      {
                        "bin_start": 12.02,
                        "bin_end": 13.049999999999999,
                        "count": 1
                      },
                      {
                        "bin_start": 13.049999999999999,
                        "bin_end": 14.079999999999998,
                        "count": 0
                      },
                      {
                        "bin_start": 14.079999999999998,
                        "bin_end": 15.11,
                        "count": 0
                      },
                      {
                        "bin_start": 15.11,
                        "bin_end": 16.14,
                        "count": 0
                      },
                      {
                        "bin_start": 16.14,
                        "bin_end": 17.169999999999998,
                        "count": 0
                      },
                      {
                        "bin_start": 17.169999999999998,
                        "bin_end": 18.2,
                        "count": 2
                      }
                    ]
                  }
                },
                {
                  "name": "total_rebound_percentage",
                  "dtype": "float64",
                  "stats": {
                    "unique_count": 5,
                    "nan_count": 0,
                    "min": 5.8,
                    "max": 13.5,
                    "histogram": [
                      {
                        "bin_start": 5.8,
                        "bin_end": 6.57,
                        "count": 1
                      },
                      {
                        "bin_start": 6.57,
                        "bin_end": 7.34,
                        "count": 1
                      },
                      {
                        "bin_start": 7.34,
                        "bin_end": 8.11,
                        "count": 0
                      },
                      {
                        "bin_start": 8.11,
                        "bin_end": 8.879999999999999,
                        "count": 0
                      },
                      {
                        "bin_start": 8.879999999999999,
                        "bin_end": 9.65,
                        "count": 0
                      },
                      {
                        "bin_start": 9.65,
                        "bin_end": 10.42,
                        "count": 1
                      },
                      {
                        "bin_start": 10.42,
                        "bin_end": 11.190000000000001,
                        "count": 0
                      },
                      {
                        "bin_start": 11.190000000000001,
                        "bin_end": 11.96,
                        "count": 0
                      },
                      {
                        "bin_start": 11.96,
                        "bin_end": 12.73,
                        "count": 0
                      },
                      {
                        "bin_start": 12.73,
                        "bin_end": 13.5,
                        "count": 2
                      }
                    ]
                  }
                },
                {
                  "name": "assist_percentage",
                  "dtype": "float64",
                  "stats": {
                    "unique_count": 5,
                    "nan_count": 0,
                    "min": 13.1,
                    "max": 39.4,
                    "histogram": [
                      {
                        "bin_start": 13.1,
                        "bin_end": 15.73,
                        "count": 2
                      },
                      {
                        "bin_start": 15.73,
                        "bin_end": 18.36,
                        "count": 0
                      },
                      {
                        "bin_start": 18.36,
                        "bin_end": 20.99,
                        "count": 1
                      },
                      {
                        "bin_start": 20.99,
                        "bin_end": 23.619999999999997,
                        "count": 1
                      },
                      {
                        "bin_start": 23.619999999999997,
                        "bin_end": 26.25,
                        "count": 0
                      },
                      {
                        "bin_start": 26.25,
                        "bin_end": 28.88,
                        "count": 0
                      },
                      {
                        "bin_start": 28.88,
                        "bin_end": 31.509999999999998,
                        "count": 0
                      },
                      {
                        "bin_start": 31.509999999999998,
                        "bin_end": 34.14,
                        "count": 0
                      },
                      {
                        "bin_start": 34.14,
                        "bin_end": 36.769999999999996,
                        "count": 0
                      },
                      {
                        "bin_start": 36.769999999999996,
                        "bin_end": 39.4,
                        "count": 1
                      }
                    ]
                  }
                },
                {
                  "name": "steal_percentage",
                  "dtype": "float64",
                  "stats": {
                    "unique_count": 3,
                    "nan_count": 0,
                    "min": 1.1,
                    "max": 2.5,
                    "histogram": [
                      {
                        "bin_start": 1.1,
                        "bin_end": 1.24,
                        "count": 2
                      },
                      {
                        "bin_start": 1.24,
                        "bin_end": 1.3800000000000001,
                        "count": 0
                      },
                      {
                        "bin_start": 1.3800000000000001,
                        "bin_end": 1.52,
                        "count": 0
                      },
                      {
                        "bin_start": 1.52,
                        "bin_end": 1.6600000000000001,
                        "count": 0
                      },
                      {
                        "bin_start": 1.6600000000000001,
                        "bin_end": 1.8,
                        "count": 0
                      },
                      {
                        "bin_start": 1.8,
                        "bin_end": 1.94,
                        "count": 0
                      },
                      {
                        "bin_start": 1.94,
                        "bin_end": 2.08,
                        "count": 0
                      },
                      {
                        "bin_start": 2.08,
                        "bin_end": 2.2199999999999998,
                        "count": 1
                      },
                      {
                        "bin_start": 2.2199999999999998,
                        "bin_end": 2.36,
                        "count": 0
                      },
                      {
                        "bin_start": 2.36,
                        "bin_end": 2.5,
                        "count": 2
                      }
                    ]
                  }
                },
                {
                  "name": "block_percentage",
                  "dtype": "float64",
                  "stats": {
                    "unique_count": 4,
                    "nan_count": 0,
                    "min": 0.1,
                    "max": 3.3,
                    "histogram": [
                      {
                        "bin_start": 0.1,
                        "bin_end": 0.41999999999999993,
                        "count": 2
                      },
                      {
                        "bin_start": 0.41999999999999993,
                        "bin_end": 0.7399999999999999,
                        "count": 1
                      },
                      {
                        "bin_start": 0.7399999999999999,
                        "bin_end": 1.0599999999999998,
                        "count": 0
                      },
                      {
                        "bin_start": 1.0599999999999998,
                        "bin_end": 1.38,
                        "count": 1
                      },
                      {
                        "bin_start": 1.38,
                        "bin_end": 1.6999999999999997,
                        "count": 0
                      },
                      {
                        "bin_start": 1.6999999999999997,
                        "bin_end": 2.0199999999999996,
                        "count": 0
                      },
                      {
                        "bin_start": 2.0199999999999996,
                        "bin_end": 2.34,
                        "count": 0
                      },
                      {
                        "bin_start": 2.34,
                        "bin_end": 2.6599999999999997,
                        "count": 0
                      },
                      {
                        "bin_start": 2.6599999999999997,
                        "bin_end": 2.9799999999999995,
                        "count": 0
                      },
                      {
                        "bin_start": 2.9799999999999995,
                        "bin_end": 3.3,
                        "count": 1
                      }
                    ]
                  }
                },
                {
                  "name": "turnover_percentage",
                  "dtype": "float64",
                  "stats": {
                    "unique_count": 5,
                    "nan_count": 0,
                    "min": 12.2,
                    "max": 21.3,
                    "histogram": [
                      {
                        "bin_start": 12.2,
                        "bin_end": 13.11,
                        "count": 2
                      },
                      {
                        "bin_start": 13.11,
                        "bin_end": 14.02,
                        "count": 0
                      },
                      {
                        "bin_start": 14.02,
                        "bin_end": 14.93,
                        "count": 1
                      },
                      {
                        "bin_start": 14.93,
                        "bin_end": 15.84,
                        "count": 0
                      },
                      {
                        "bin_start": 15.84,
                        "bin_end": 16.75,
                        "count": 1
                      },
                      {
                        "bin_start": 16.75,
                        "bin_end": 17.66,
                        "count": 0
                      },
                      {
                        "bin_start": 17.66,
                        "bin_end": 18.57,
                        "count": 0
                      },
                      {
                        "bin_start": 18.57,
                        "bin_end": 19.48,
                        "count": 0
                      },
                      {
                        "bin_start": 19.48,
                        "bin_end": 20.39,
                        "count": 0
                      },
                      {
                        "bin_start": 20.39,
                        "bin_end": 21.3,
                        "count": 1
                      }
                    ]
                  }
                },
                {
                  "name": "usage_percentage",
                  "dtype": "float64",
                  "stats": {
                    "unique_count": 5,
                    "nan_count": 0,
                    "min": 15.9,
                    "max": 32.2,
                    "histogram": [
                      {
                        "bin_start": 15.9,
                        "bin_end": 17.53,
                        "count": 2
                      },
                      {
                        "bin_start": 17.53,
                        "bin_end": 19.16,
                        "count": 0
                      },
                      {
                        "bin_start": 19.16,
                        "bin_end": 20.79,
                        "count": 0
                      },
                      {
                        "bin_start": 20.79,
                        "bin_end": 22.42,
                        "count": 0
                      },
                      {
                        "bin_start": 22.42,
                        "bin_end": 24.050000000000004,
                        "count": 1
                      },
                      {
                        "bin_start": 24.050000000000004,
                        "bin_end": 25.68,
                        "count": 1
                      },
                      {
                        "bin_start": 25.68,
                        "bin_end": 27.310000000000002,
                        "count": 0
                      },
                      {
                        "bin_start": 27.310000000000002,
                        "bin_end": 28.940000000000005,
                        "count": 0
                      },
                      {
                        "bin_start": 28.940000000000005,
                        "bin_end": 30.570000000000004,
                        "count": 0
                      },
                      {
                        "bin_start": 30.570000000000004,
                        "bin_end": 32.2,
                        "count": 1
                      }
                    ]
                  }
                },
                {
                  "name": "offensive_win_shares",
                  "dtype": "float64",
                  "stats": {
                    "unique_count": 5,
                    "nan_count": 0,
                    "min": 2.3,
                    "max": 7.6,
                    "histogram": [
                      {
                        "bin_start": 2.3,
                        "bin_end": 2.83,
                        "count": 1
                      },
                      {
                        "bin_start": 2.83,
                        "bin_end": 3.36,
                        "count": 0
                      },
                      {
                        "bin_start": 3.36,
                        "bin_end": 3.8899999999999997,
                        "count": 1
                      },
                      {
                        "bin_start": 3.8899999999999997,
                        "bin_end": 4.42,
                        "count": 1
                      },
                      {
                        "bin_start": 4.42,
                        "bin_end": 4.95,
                        "count": 0
                      },
                      {
                        "bin_start": 4.95,
                        "bin_end": 5.48,
                        "count": 1
                      },
                      {
                        "bin_start": 5.48,
                        "bin_end": 6.01,
                        "count": 0
                      },
                      {
                        "bin_start": 6.01,
                        "bin_end": 6.54,
                        "count": 0
                      },
                      {
                        "bin_start": 6.54,
                        "bin_end": 7.07,
                        "count": 0
                      },
                      {
                        "bin_start": 7.07,
                        "bin_end": 7.6,
                        "count": 1
                      }
                    ]
                  }
                },
                {
                  "name": "defensive_win_shares",
                  "dtype": "float64",
                  "stats": {
                    "unique_count": 5,
                    "nan_count": 0,
                    "min": 1.9,
                    "max": 3.6,
                    "histogram": [
                      {
                        "bin_start": 1.9,
                        "bin_end": 2.07,
                        "count": 1
                      },
                      {
                        "bin_start": 2.07,
                        "bin_end": 2.2399999999999998,
                        "count": 0
                      },
                      {
                        "bin_start": 2.2399999999999998,
                        "bin_end": 2.41,
                        "count": 1
                      },
                      {
                        "bin_start": 2.41,
                        "bin_end": 2.58,
                        "count": 0
                      },
                      {
                        "bin_start": 2.58,
                        "bin_end": 2.75,
                        "count": 0
                      },
                      {
                        "bin_start": 2.75,
                        "bin_end": 2.92,
                        "count": 1
                      },
                      {
                        "bin_start": 2.92,
                        "bin_end": 3.09,
                        "count": 0
                      },
                      {
                        "bin_start": 3.09,
                        "bin_end": 3.26,
                        "count": 0
                      },
                      {
                        "bin_start": 3.26,
                        "bin_end": 3.4299999999999997,
                        "count": 1
                      },
                      {
                        "bin_start": 3.4299999999999997,
                        "bin_end": 3.6,
                        "count": 1
                      }
                    ]
                  }
                },
                {
                  "name": "win_shares",
                  "dtype": "float64",
                  "stats": {
                    "unique_count": 5,
                    "nan_count": 0,
                    "min": 4.6,
                    "max": 11.2,
                    "histogram": [
                      {
                        "bin_start": 4.6,
                        "bin_end": 5.26,
                        "count": 1
                      },
                      {
                        "bin_start": 5.26,
                        "bin_end": 5.92,
                        "count": 0
                      },
                      {
                        "bin_start": 5.92,
                        "bin_end": 6.579999999999999,
                        "count": 0
                      },
                      {
                        "bin_start": 6.579999999999999,
                        "bin_end": 7.239999999999999,
                        "count": 3
                      },
                      {
                        "bin_start": 7.239999999999999,
                        "bin_end": 7.8999999999999995,
                        "count": 0
                      },
                      {
                        "bin_start": 7.8999999999999995,
                        "bin_end": 8.559999999999999,
                        "count": 0
                      },
                      {
                        "bin_start": 8.559999999999999,
                        "bin_end": 9.219999999999999,
                        "count": 0
                      },
                      {
                        "bin_start": 9.219999999999999,
                        "bin_end": 9.879999999999999,
                        "count": 0
                      },
                      {
                        "bin_start": 9.879999999999999,
                        "bin_end": 10.54,
                        "count": 0
                      },
                      {
                        "bin_start": 10.54,
                        "bin_end": 11.2,
                        "count": 1
                      }
                    ]
                  }
                },
                {
                  "name": "win_shares_per_48_minutes",
                  "dtype": "float64",
                  "stats": {
                    "unique_count": 5,
                    "nan_count": 0,
                    "min": 0.092,
                    "max": 0.204,
                    "histogram": [
                      {
                        "bin_start": 0.092,
                        "bin_end": 0.1032,
                        "count": 1
                      },
                      {
                        "bin_start": 0.1032,
                        "bin_end": 0.1144,
                        "count": 0
                      },
                      {
                        "bin_start": 0.1144,
                        "bin_end": 0.1256,
                        "count": 1
                      },
                      {
                        "bin_start": 0.1256,
                        "bin_end": 0.13679999999999998,
                        "count": 1
                      },
                      {
                        "bin_start": 0.13679999999999998,
                        "bin_end": 0.148,
                        "count": 0
                      },
                      {
                        "bin_start": 0.148,
                        "bin_end": 0.15919999999999998,
                        "count": 1
                      },
                      {
                        "bin_start": 0.15919999999999998,
                        "bin_end": 0.1704,
                        "count": 0
                      },
                      {
                        "bin_start": 0.1704,
                        "bin_end": 0.18159999999999998,
                        "count": 0
                      },
                      {
                        "bin_start": 0.18159999999999998,
                        "bin_end": 0.19279999999999997,
                        "count": 0
                      },
                      {
                        "bin_start": 0.19279999999999997,
                        "bin_end": 0.204,
                        "count": 1
                      }
                    ]
                  }
                },
                {
                  "name": "offensive_box_plus_minus",
                  "dtype": "float64",
                  "stats": {
                    "unique_count": 5,
                    "nan_count": 0,
                    "min": -0.1,
                    "max": 3.9,
                    "histogram": [
                      {
                        "bin_start": -0.1,
                        "bin_end": 0.30000000000000004,
                        "count": 1
                      },
                      {
                        "bin_start": 0.30000000000000004,
                        "bin_end": 0.7000000000000001,
                        "count": 0
                      },
                      {
                        "bin_start": 0.7000000000000001,
                        "bin_end": 1.1,
                        "count": 0
                      },
                      {
                        "bin_start": 1.1,
                        "bin_end": 1.5,
                        "count": 1
                      },
                      {
                        "bin_start": 1.5,
                        "bin_end": 1.9,
                        "count": 0
                      },
                      {
                        "bin_start": 1.9,
                        "bin_end": 2.3000000000000003,
                        "count": 1
                      },
                      {
                        "bin_start": 2.3000000000000003,
                        "bin_end": 2.7,
                        "count": 0
                      },
                      {
                        "bin_start": 2.7,
                        "bin_end": 3.1,
                        "count": 0
                      },
                      {
                        "bin_start": 3.1,
                        "bin_end": 3.5,
                        "count": 0
                      },
                      {
                        "bin_start": 3.5,
                        "bin_end": 3.9,
                        "count": 2
                      }
                    ]
                  }
                },
                {
                  "name": "defensive_box_plus_minus",
                  "dtype": "float64",
                  "stats": {
                    "unique_count": 5,
                    "nan_count": 0,
                    "min": -1.7,
                    "max": 1.7,
                    "histogram": [
                      {
                        "bin_start": -1.7,
                        "bin_end": -1.3599999999999999,
                        "count": 1
                      },
                      {
                        "bin_start": -1.3599999999999999,
                        "bin_end": -1.02,
                        "count": 0
                      },
                      {
                        "bin_start": -1.02,
                        "bin_end": -0.6799999999999999,
                        "count": 0
                      },
                      {
                        "bin_start": -0.6799999999999999,
                        "bin_end": -0.3400000000000001,
                        "count": 0
                      },
                      {
                        "bin_start": -0.3400000000000001,
                        "bin_end": -2.220446049250313e-16,
                        "count": 0
                      },
                      {
                        "bin_start": -2.220446049250313e-16,
                        "bin_end": 0.3400000000000001,
                        "count": 0
                      },
                      {
                        "bin_start": 0.3400000000000001,
                        "bin_end": 0.6799999999999999,
                        "count": 1
                      },
                      {
                        "bin_start": 0.6799999999999999,
                        "bin_end": 1.0199999999999998,
                        "count": 1
                      },
                      {
                        "bin_start": 1.0199999999999998,
                        "bin_end": 1.3599999999999997,
                        "count": 1
                      },
                      {
                        "bin_start": 1.3599999999999997,
                        "bin_end": 1.7,
                        "count": 1
                      }
                    ]
                  }
                },
                {
                  "name": "box_plus_minus",
                  "dtype": "float64",
                  "stats": {
                    "unique_count": 5,
                    "nan_count": 0,
                    "min": 0.7,
                    "max": 5.1,
                    "histogram": [
                      {
                        "bin_start": 0.7,
                        "bin_end": 1.14,
                        "count": 1
                      },
                      {
                        "bin_start": 1.14,
                        "bin_end": 1.5799999999999998,
                        "count": 0
                      },
                      {
                        "bin_start": 1.5799999999999998,
                        "bin_end": 2.0199999999999996,
                        "count": 2
                      },
                      {
                        "bin_start": 2.0199999999999996,
                        "bin_end": 2.46,
                        "count": 0
                      },
                      {
                        "bin_start": 2.46,
                        "bin_end": 2.8999999999999995,
                        "count": 0
                      },
                      {
                        "bin_start": 2.8999999999999995,
                        "bin_end": 3.34,
                        "count": 0
                      },
                      {
                        "bin_start": 3.34,
                        "bin_end": 3.7799999999999994,
                        "count": 0
                      },
                      {
                        "bin_start": 3.7799999999999994,
                        "bin_end": 4.22,
                        "count": 1
                      },
                      {
                        "bin_start": 4.22,
                        "bin_end": 4.659999999999999,
                        "count": 0
                      },
                      {
                        "bin_start": 4.659999999999999,
                        "bin_end": 5.1,
                        "count": 1
                      }
                    ]
                  }
                },
                {
                  "name": "value_over_replacement_player",
                  "dtype": "float64",
                  "stats": {
                    "unique_count": 5,
                    "nan_count": 0,
                    "min": 1.8,
                    "max": 4.8,
                    "histogram": [
                      {
                        "bin_start": 1.8,
                        "bin_end": 2.1,
                        "count": 1
                      },
                      {
                        "bin_start": 2.1,
                        "bin_end": 2.4,
                        "count": 1
                      },
                      {
                        "bin_start": 2.4,
                        "bin_end": 2.7,
                        "count": 1
                      },
                      {
                        "bin_start": 2.7,
                        "bin_end": 3,
                        "count": 0
                      },
                      {
                        "bin_start": 3,
                        "bin_end": 3.3,
                        "count": 1
                      },
                      {
                        "bin_start": 3.3,
                        "bin_end": 3.5999999999999996,
                        "count": 0
                      },
                      {
                        "bin_start": 3.5999999999999996,
                        "bin_end": 3.9000000000000004,
                        "count": 0
                      },
                      {
                        "bin_start": 3.9000000000000004,
                        "bin_end": 4.2,
                        "count": 0
                      },
                      {
                        "bin_start": 4.2,
                        "bin_end": 4.5,
                        "count": 0
                      },
                      {
                        "bin_start": 4.5,
                        "bin_end": 4.8,
                        "count": 1
                      }
                    ]
                  }
                },
                {
                  "name": "season",
                  "dtype": "object",
                  "stats": {
                    "unique_count": 1,
                    "nan_count": 0,
                    "categories": [
                      {
                        "name": "1984-85",
                        "count": 5
                      }
                    ]
                  }
                },
                {
                  "name": "player_id",
                  "dtype": "object",
                  "stats": {
                    "unique_count": 5,
                    "nan_count": 0,
                    "categories": [
                      {
                        "name": "abdulka01",
                        "count": 1
                      },
                      {
                        "name": "adamsal01",
                        "count": 1
                      },
                      {
                        "name": "3 others",
                        "count": 3
                      }
                    ]
                  }
                },
                {
                  "name": "salary",
                  "dtype": "int64",
                  "stats": {
                    "unique_count": 5,
                    "nan_count": 0,
                    "min": 209000,
                    "max": 1530000,
                    "histogram": [
                      {
                        "bin_start": 209000,
                        "bin_end": 341100,
                        "count": 1
                      },
                      {
                        "bin_start": 341100,
                        "bin_end": 473200,
                        "count": 1
                      },
                      {
                        "bin_start": 473200,
                        "bin_end": 605300,
                        "count": 1
                      },
                      {
                        "bin_start": 605300,
                        "bin_end": 737400,
                        "count": 0
                      },
                      {
                        "bin_start": 737400,
                        "bin_end": 869500,
                        "count": 1
                      },
                      {
                        "bin_start": 869500,
                        "bin_end": 1001600,
                        "count": 0
                      },
                      {
                        "bin_start": 1001600,
                        "bin_end": 1133700,
                        "count": 0
                      },
                      {
                        "bin_start": 1133700,
                        "bin_end": 1265800,
                        "count": 0
                      },
                      {
                        "bin_start": 1265800,
                        "bin_end": 1397900,
                        "count": 0
                      },
                      {
                        "bin_start": 1397900,
                        "bin_end": 1530000,
                        "count": 1
                      }
                    ]
                  }
                },
                {
                  "name": "season_end",
                  "dtype": "int64",
                  "stats": {
                    "unique_count": 1,
                    "nan_count": 0,
                    "min": 1985,
                    "max": 1985,
                    "histogram": [
                      {
                        "bin_start": 1984.5,
                        "bin_end": 1984.6,
                        "count": 0
                      },
                      {
                        "bin_start": 1984.6,
                        "bin_end": 1984.7,
                        "count": 0
                      },
                      {
                        "bin_start": 1984.7,
                        "bin_end": 1984.8,
                        "count": 0
                      },
                      {
                        "bin_start": 1984.8,
                        "bin_end": 1984.9,
                        "count": 0
                      },
                      {
                        "bin_start": 1984.9,
                        "bin_end": 1985,
                        "count": 0
                      },
                      {
                        "bin_start": 1985,
                        "bin_end": 1985.1,
                        "count": 5
                      },
                      {
                        "bin_start": 1985.1,
                        "bin_end": 1985.2,
                        "count": 0
                      },
                      {
                        "bin_start": 1985.2,
                        "bin_end": 1985.3,
                        "count": 0
                      },
                      {
                        "bin_start": 1985.3,
                        "bin_end": 1985.4,
                        "count": 0
                      },
                      {
                        "bin_start": 1985.4,
                        "bin_end": 1985.5,
                        "count": 0
                      }
                    ]
                  }
                },
                {
                  "name": "season_start",
                  "dtype": "int64",
                  "stats": {
                    "unique_count": 1,
                    "nan_count": 0,
                    "min": 1984,
                    "max": 1984,
                    "histogram": [
                      {
                        "bin_start": 1983.5,
                        "bin_end": 1983.6,
                        "count": 0
                      },
                      {
                        "bin_start": 1983.6,
                        "bin_end": 1983.7,
                        "count": 0
                      },
                      {
                        "bin_start": 1983.7,
                        "bin_end": 1983.8,
                        "count": 0
                      },
                      {
                        "bin_start": 1983.8,
                        "bin_end": 1983.9,
                        "count": 0
                      },
                      {
                        "bin_start": 1983.9,
                        "bin_end": 1984,
                        "count": 0
                      },
                      {
                        "bin_start": 1984,
                        "bin_end": 1984.1,
                        "count": 5
                      },
                      {
                        "bin_start": 1984.1,
                        "bin_end": 1984.2,
                        "count": 0
                      },
                      {
                        "bin_start": 1984.2,
                        "bin_end": 1984.3,
                        "count": 0
                      },
                      {
                        "bin_start": 1984.3,
                        "bin_end": 1984.4,
                        "count": 0
                      },
                      {
                        "bin_start": 1984.4,
                        "bin_end": 1984.5,
                        "count": 0
                      }
                    ]
                  }
                },
                {
                  "name": "team_y",
                  "dtype": "object",
                  "stats": {
                    "unique_count": 5,
                    "nan_count": 0,
                    "categories": [
                      {
                        "name": "Los Angeles Lakers",
                        "count": 1
                      },
                      {
                        "name": "Phoenix Suns",
                        "count": 1
                      },
                      {
                        "name": "3 others",
                        "count": 3
                      }
                    ]
                  }
                },
                {
                  "name": "key",
                  "dtype": "object",
                  "stats": {
                    "unique_count": 5,
                    "nan_count": 0,
                    "categories": [
                      {
                        "name": "Kareem Abdul-Jabbar1984-85",
                        "count": 1
                      },
                      {
                        "name": "Alvan Adams1984-85",
                        "count": 1
                      },
                      {
                        "name": "3 others",
                        "count": 3
                      }
                    ]
                  }
                },
                {
                  "name": "salary_cap_x",
                  "dtype": "int64",
                  "stats": {
                    "unique_count": 1,
                    "nan_count": 0,
                    "min": 3600000,
                    "max": 3600000,
                    "histogram": [
                      {
                        "bin_start": 3599999.5,
                        "bin_end": 3599999.6,
                        "count": 0
                      },
                      {
                        "bin_start": 3599999.6,
                        "bin_end": 3599999.7,
                        "count": 0
                      },
                      {
                        "bin_start": 3599999.7,
                        "bin_end": 3599999.8,
                        "count": 0
                      },
                      {
                        "bin_start": 3599999.8,
                        "bin_end": 3599999.9,
                        "count": 0
                      },
                      {
                        "bin_start": 3599999.9,
                        "bin_end": 3600000,
                        "count": 0
                      },
                      {
                        "bin_start": 3600000,
                        "bin_end": 3600000.1,
                        "count": 5
                      },
                      {
                        "bin_start": 3600000.1,
                        "bin_end": 3600000.2,
                        "count": 0
                      },
                      {
                        "bin_start": 3600000.2,
                        "bin_end": 3600000.3,
                        "count": 0
                      },
                      {
                        "bin_start": 3600000.3,
                        "bin_end": 3600000.4,
                        "count": 0
                      },
                      {
                        "bin_start": 3600000.4,
                        "bin_end": 3600000.5,
                        "count": 0
                      }
                    ]
                  }
                },
                {
                  "name": "salary_cap_y",
                  "dtype": "int64",
                  "stats": {
                    "unique_count": 1,
                    "nan_count": 0,
                    "min": 3600000,
                    "max": 3600000,
                    "histogram": [
                      {
                        "bin_start": 3599999.5,
                        "bin_end": 3599999.6,
                        "count": 0
                      },
                      {
                        "bin_start": 3599999.6,
                        "bin_end": 3599999.7,
                        "count": 0
                      },
                      {
                        "bin_start": 3599999.7,
                        "bin_end": 3599999.8,
                        "count": 0
                      },
                      {
                        "bin_start": 3599999.8,
                        "bin_end": 3599999.9,
                        "count": 0
                      },
                      {
                        "bin_start": 3599999.9,
                        "bin_end": 3600000,
                        "count": 0
                      },
                      {
                        "bin_start": 3600000,
                        "bin_end": 3600000.1,
                        "count": 5
                      },
                      {
                        "bin_start": 3600000.1,
                        "bin_end": 3600000.2,
                        "count": 0
                      },
                      {
                        "bin_start": 3600000.2,
                        "bin_end": 3600000.3,
                        "count": 0
                      },
                      {
                        "bin_start": 3600000.3,
                        "bin_end": 3600000.4,
                        "count": 0
                      },
                      {
                        "bin_start": 3600000.4,
                        "bin_end": 3600000.5,
                        "count": 0
                      }
                    ]
                  }
                },
                {
                  "name": "cap_usage",
                  "dtype": "float64",
                  "stats": {
                    "unique_count": 5,
                    "nan_count": 0,
                    "min": 0.05805555555555555,
                    "max": 0.425,
                    "histogram": [
                      {
                        "bin_start": 0.05805555555555555,
                        "bin_end": 0.09475,
                        "count": 1
                      },
                      {
                        "bin_start": 0.09475,
                        "bin_end": 0.13144444444444445,
                        "count": 1
                      },
                      {
                        "bin_start": 0.13144444444444445,
                        "bin_end": 0.1681388888888889,
                        "count": 1
                      },
                      {
                        "bin_start": 0.1681388888888889,
                        "bin_end": 0.20483333333333334,
                        "count": 0
                      },
                      {
                        "bin_start": 0.20483333333333334,
                        "bin_end": 0.24152777777777779,
                        "count": 1
                      },
                      {
                        "bin_start": 0.24152777777777779,
                        "bin_end": 0.2782222222222222,
                        "count": 0
                      },
                      {
                        "bin_start": 0.2782222222222222,
                        "bin_end": 0.3149166666666666,
                        "count": 0
                      },
                      {
                        "bin_start": 0.3149166666666666,
                        "bin_end": 0.3516111111111111,
                        "count": 0
                      },
                      {
                        "bin_start": 0.3516111111111111,
                        "bin_end": 0.38830555555555557,
                        "count": 0
                      },
                      {
                        "bin_start": 0.38830555555555557,
                        "bin_end": 0.425,
                        "count": 1
                      }
                    ]
                  }
                },
                {
                  "name": "_deepnote_index_column",
                  "dtype": "int64"
                }
              ],
              "rows_top": [
                {
                  "Unnamed: 0": 0,
                  "name": "Kareem Abdul-Jabbar",
                  "positions": "CENTER",
                  "age": 37,
                  "team_x": "LOS ANGELES LAKERS",
                  "games_played": 79,
                  "games_started": 1,
                  "minutes_played": 33.29113924050633,
                  "made_field_goals": 9.151898734177216,
                  "attempted_field_goals": 15.27848101265823,
                  "made_three_point_field_goals": 0,
                  "attempted_three_point_field_goals": 0.01265822784810127,
                  "made_free_throws": 3.658227848101266,
                  "attempted_free_throws": 5,
                  "offensive_rebounds": 2.050632911392405,
                  "defensive_rebounds": 5.822784810126582,
                  "assists": 3.151898734177215,
                  "steals": 0.7974683544303798,
                  "blocks": 2.050632911392405,
                  "turnovers": 2.493670886075949,
                  "personal_fouls": 3.012658227848101,
                  "points": 21.9620253164557,
                  "player_efficiency_rating": 22.9,
                  "true_shooting_percentage": 0.628,
                  "three_point_attempt_rate": 0.001,
                  "free_throw_attempt_rate": 0.327,
                  "offensive_rebound_percentage": 7.7,
                  "defensive_rebound_percentage": 18.2,
                  "total_rebound_percentage": 13.5,
                  "assist_percentage": 13.1,
                  "steal_percentage": 1.1,
                  "block_percentage": 3.3,
                  "turnover_percentage": 12.5,
                  "usage_percentage": 24.3,
                  "offensive_win_shares": 7.6,
                  "defensive_win_shares": 3.6,
                  "win_shares": 11.2,
                  "win_shares_per_48_minutes": 0.204,
                  "offensive_box_plus_minus": 3.9,
                  "defensive_box_plus_minus": 1.2,
                  "box_plus_minus": 5.1,
                  "value_over_replacement_player": 4.8,
                  "season": "1984-85",
                  "player_id": "abdulka01",
                  "salary": 1530000,
                  "season_end": 1985,
                  "season_start": 1984,
                  "team_y": "Los Angeles Lakers",
                  "key": "Kareem Abdul-Jabbar1984-85",
                  "salary_cap_x": 3600000,
                  "salary_cap_y": 3600000,
                  "cap_usage": 0.425,
                  "_deepnote_index_column": 0
                },
                {
                  "Unnamed: 0": 1,
                  "name": "Alvan Adams",
                  "positions": "POWER FORWARD",
                  "age": 30,
                  "team_x": "PHOENIX SUNS",
                  "games_played": 82,
                  "games_started": 0.8414634146341463,
                  "minutes_played": 26.04878048780488,
                  "made_field_goals": 5.804878048780488,
                  "attempted_field_goals": 11.15853658536585,
                  "made_three_point_field_goals": 0,
                  "attempted_three_point_field_goals": 0,
                  "made_free_throws": 3.048780487804878,
                  "attempted_free_throws": 3.451219512195122,
                  "offensive_rebounds": 1.865853658536585,
                  "defensive_rebounds": 4.23170731707317,
                  "assists": 3.75609756097561,
                  "steals": 1.402439024390244,
                  "blocks": 0.5853658536585366,
                  "turnovers": 2.402439024390244,
                  "personal_fouls": 3.097560975609756,
                  "points": 14.65853658536585,
                  "player_efficiency_rating": 19.8,
                  "true_shooting_percentage": 0.578,
                  "three_point_attempt_rate": 0,
                  "free_throw_attempt_rate": 0.309,
                  "offensive_rebound_percentage": 8.2,
                  "defensive_rebound_percentage": 18.1,
                  "total_rebound_percentage": 13.3,
                  "assist_percentage": 21.8,
                  "steal_percentage": 2.5,
                  "block_percentage": 1.3,
                  "turnover_percentage": 15.9,
                  "usage_percentage": 23.6,
                  "offensive_win_shares": 3.5,
                  "defensive_win_shares": 3.3,
                  "win_shares": 6.8,
                  "win_shares_per_48_minutes": 0.152,
                  "offensive_box_plus_minus": 2.3,
                  "defensive_box_plus_minus": 1.7,
                  "box_plus_minus": 4,
                  "value_over_replacement_player": 3.2,
                  "season": "1984-85",
                  "player_id": "adamsal01",
                  "salary": 500000,
                  "season_end": 1985,
                  "season_start": 1984,
                  "team_y": "Phoenix Suns",
                  "key": "Alvan Adams1984-85",
                  "salary_cap_x": 3600000,
                  "salary_cap_y": 3600000,
                  "cap_usage": 0.1388888888888889,
                  "_deepnote_index_column": 1
                },
                {
                  "Unnamed: 0": 2,
                  "name": "Mark Aguirre",
                  "positions": "SMALL FORWARD",
                  "age": 25,
                  "team_x": "DALLAS MAVERICKS",
                  "games_played": 80,
                  "games_started": 0.9875,
                  "minutes_played": 33.7375,
                  "made_field_goals": 9.925,
                  "attempted_field_goals": 19.6125,
                  "made_three_point_field_goals": 0.3375,
                  "attempted_three_point_field_goals": 1.0625,
                  "made_free_throws": 5.5,
                  "attempted_free_throws": 7.25,
                  "offensive_rebounds": 2.35,
                  "defensive_rebounds": 3.6125,
                  "assists": 3.1125,
                  "steals": 0.75,
                  "blocks": 0.3,
                  "turnovers": 3.1625,
                  "personal_fouls": 3.125,
                  "points": 25.6875,
                  "player_efficiency_rating": 21.3,
                  "true_shooting_percentage": 0.563,
                  "three_point_attempt_rate": 0.054,
                  "free_throw_attempt_rate": 0.37,
                  "offensive_rebound_percentage": 7.8,
                  "defensive_rebound_percentage": 12.5,
                  "total_rebound_percentage": 10.1,
                  "assist_percentage": 15.3,
                  "steal_percentage": 1.1,
                  "block_percentage": 0.5,
                  "turnover_percentage": 12.2,
                  "usage_percentage": 32.2,
                  "offensive_win_shares": 5.3,
                  "defensive_win_shares": 1.9,
                  "win_shares": 7.2,
                  "win_shares_per_48_minutes": 0.128,
                  "offensive_box_plus_minus": 3.5,
                  "defensive_box_plus_minus": -1.7,
                  "box_plus_minus": 1.8,
                  "value_over_replacement_player": 2.6,
                  "season": "1984-85",
                  "player_id": "aguirma01",
                  "salary": 800000,
                  "season_end": 1985,
                  "season_start": 1984,
                  "team_y": "Dallas Mavericks",
                  "key": "Mark Aguirre1984-85",
                  "salary_cap_x": 3600000,
                  "salary_cap_y": 3600000,
                  "cap_usage": 0.2222222222222222,
                  "_deepnote_index_column": 2
                },
                {
                  "Unnamed: 0": 3,
                  "name": "Danny Ainge",
                  "positions": "SHOOTING GUARD",
                  "age": 25,
                  "team_x": "BOSTON CELTICS",
                  "games_played": 75,
                  "games_started": 0.9733333333333334,
                  "minutes_played": 34.18666666666667,
                  "made_field_goals": 5.586666666666667,
                  "attempted_field_goals": 10.56,
                  "made_three_point_field_goals": 0.2,
                  "attempted_three_point_field_goals": 0.7466666666666667,
                  "made_free_throws": 1.573333333333333,
                  "attempted_free_throws": 1.813333333333333,
                  "offensive_rebounds": 1.013333333333333,
                  "defensive_rebounds": 2.56,
                  "assists": 5.32,
                  "steals": 1.626666666666667,
                  "blocks": 0.08,
                  "turnovers": 1.986666666666667,
                  "personal_fouls": 3.04,
                  "points": 12.94666666666667,
                  "player_efficiency_rating": 14.2,
                  "true_shooting_percentage": 0.57,
                  "three_point_attempt_rate": 0.071,
                  "free_throw_attempt_rate": 0.172,
                  "offensive_rebound_percentage": 3.4,
                  "defensive_rebound_percentage": 7.9,
                  "total_rebound_percentage": 5.8,
                  "assist_percentage": 19.9,
                  "steal_percentage": 2.2,
                  "block_percentage": 0.1,
                  "turnover_percentage": 14.9,
                  "usage_percentage": 15.9,
                  "offensive_win_shares": 3.9,
                  "defensive_win_shares": 2.8,
                  "win_shares": 6.6,
                  "win_shares_per_48_minutes": 0.124,
                  "offensive_box_plus_minus": -0.1,
                  "defensive_box_plus_minus": 0.8,
                  "box_plus_minus": 0.7,
                  "value_over_replacement_player": 1.8,
                  "season": "1984-85",
                  "player_id": "aingeda01",
                  "salary": 400000,
                  "season_end": 1985,
                  "season_start": 1984,
                  "team_y": "Boston Celtics",
                  "key": "Danny Ainge1984-85",
                  "salary_cap_x": 3600000,
                  "salary_cap_y": 3600000,
                  "cap_usage": 0.1111111111111111,
                  "_deepnote_index_column": 3
                },
                {
                  "Unnamed: 0": 4,
                  "name": "John Bagley",
                  "positions": "POINT GUARD",
                  "age": 24,
                  "team_x": "CLEVELAND CAVALIERS",
                  "games_played": 81,
                  "games_started": 0.8024691358024691,
                  "minutes_played": 29.64197530864197,
                  "made_field_goals": 4.172839506172839,
                  "attempted_field_goals": 8.555555555555555,
                  "made_three_point_field_goals": 0.03703703703703703,
                  "attempted_three_point_field_goals": 0.3209876543209876,
                  "made_free_throws": 1.54320987654321,
                  "attempted_free_throws": 2.061728395061728,
                  "offensive_rebounds": 0.6666666666666666,
                  "defensive_rebounds": 2.925925925925926,
                  "assists": 8.604938271604938,
                  "steals": 1.592592592592593,
                  "blocks": 0.06172839506172839,
                  "turnovers": 2.555555555555555,
                  "personal_fouls": 1.62962962962963,
                  "points": 9.925925925925926,
                  "player_efficiency_rating": 16,
                  "true_shooting_percentage": 0.524,
                  "three_point_attempt_rate": 0.038,
                  "free_throw_attempt_rate": 0.241,
                  "offensive_rebound_percentage": 2.4,
                  "defensive_rebound_percentage": 10.7,
                  "total_rebound_percentage": 6.6,
                  "assist_percentage": 39.4,
                  "steal_percentage": 2.5,
                  "block_percentage": 0.1,
                  "turnover_percentage": 21.3,
                  "usage_percentage": 16.3,
                  "offensive_win_shares": 2.3,
                  "defensive_win_shares": 2.3,
                  "win_shares": 4.6,
                  "win_shares_per_48_minutes": 0.092,
                  "offensive_box_plus_minus": 1.3,
                  "defensive_box_plus_minus": 0.4,
                  "box_plus_minus": 1.7,
                  "value_over_replacement_player": 2.2,
                  "season": "1984-85",
                  "player_id": "baglejo01",
                  "salary": 209000,
                  "season_end": 1985,
                  "season_start": 1984,
                  "team_y": "Cleveland Cavaliers",
                  "key": "John Bagley1984-85",
                  "salary_cap_x": 3600000,
                  "salary_cap_y": 3600000,
                  "cap_usage": 0.05805555555555555,
                  "_deepnote_index_column": 4
                }
              ],
              "rows_bottom": null
            },
            "text/plain": "   Unnamed: 0                 name       positions  age               team_x  \\\n0           0  Kareem Abdul-Jabbar          CENTER   37   LOS ANGELES LAKERS   \n1           1          Alvan Adams   POWER FORWARD   30         PHOENIX SUNS   \n2           2         Mark Aguirre   SMALL FORWARD   25     DALLAS MAVERICKS   \n3           3          Danny Ainge  SHOOTING GUARD   25       BOSTON CELTICS   \n4           4          John Bagley     POINT GUARD   24  CLEVELAND CAVALIERS   \n\n   games_played  games_started  minutes_played  made_field_goals  \\\n0            79       1.000000       33.291139          9.151899   \n1            82       0.841463       26.048780          5.804878   \n2            80       0.987500       33.737500          9.925000   \n3            75       0.973333       34.186667          5.586667   \n4            81       0.802469       29.641975          4.172840   \n\n   attempted_field_goals  ...   season  player_id   salary  season_end  \\\n0              15.278481  ...  1984-85  abdulka01  1530000        1985   \n1              11.158537  ...  1984-85  adamsal01   500000        1985   \n2              19.612500  ...  1984-85  aguirma01   800000        1985   \n3              10.560000  ...  1984-85  aingeda01   400000        1985   \n4               8.555556  ...  1984-85  baglejo01   209000        1985   \n\n   season_start               team_y                         key  \\\n0          1984   Los Angeles Lakers  Kareem Abdul-Jabbar1984-85   \n1          1984         Phoenix Suns          Alvan Adams1984-85   \n2          1984     Dallas Mavericks         Mark Aguirre1984-85   \n3          1984       Boston Celtics          Danny Ainge1984-85   \n4          1984  Cleveland Cavaliers          John Bagley1984-85   \n\n   salary_cap_x  salary_cap_y  cap_usage  \n0       3600000       3600000   0.425000  \n1       3600000       3600000   0.138889  \n2       3600000       3600000   0.222222  \n3       3600000       3600000   0.111111  \n4       3600000       3600000   0.058056  \n\n[5 rows x 52 columns]",
            "text/html": "<div>\n<style scoped>\n    .dataframe tbody tr th:only-of-type {\n        vertical-align: middle;\n    }\n\n    .dataframe tbody tr th {\n        vertical-align: top;\n    }\n\n    .dataframe thead th {\n        text-align: right;\n    }\n</style>\n<table border=\"1\" class=\"dataframe\">\n  <thead>\n    <tr style=\"text-align: right;\">\n      <th></th>\n      <th>Unnamed: 0</th>\n      <th>name</th>\n      <th>positions</th>\n      <th>age</th>\n      <th>team_x</th>\n      <th>games_played</th>\n      <th>games_started</th>\n      <th>minutes_played</th>\n      <th>made_field_goals</th>\n      <th>attempted_field_goals</th>\n      <th>...</th>\n      <th>season</th>\n      <th>player_id</th>\n      <th>salary</th>\n      <th>season_end</th>\n      <th>season_start</th>\n      <th>team_y</th>\n      <th>key</th>\n      <th>salary_cap_x</th>\n      <th>salary_cap_y</th>\n      <th>cap_usage</th>\n    </tr>\n  </thead>\n  <tbody>\n    <tr>\n      <th>0</th>\n      <td>0</td>\n      <td>Kareem Abdul-Jabbar</td>\n      <td>CENTER</td>\n      <td>37</td>\n      <td>LOS ANGELES LAKERS</td>\n      <td>79</td>\n      <td>1.000000</td>\n      <td>33.291139</td>\n      <td>9.151899</td>\n      <td>15.278481</td>\n      <td>...</td>\n      <td>1984-85</td>\n      <td>abdulka01</td>\n      <td>1530000</td>\n      <td>1985</td>\n      <td>1984</td>\n      <td>Los Angeles Lakers</td>\n      <td>Kareem Abdul-Jabbar1984-85</td>\n      <td>3600000</td>\n      <td>3600000</td>\n      <td>0.425000</td>\n    </tr>\n    <tr>\n      <th>1</th>\n      <td>1</td>\n      <td>Alvan Adams</td>\n      <td>POWER FORWARD</td>\n      <td>30</td>\n      <td>PHOENIX SUNS</td>\n      <td>82</td>\n      <td>0.841463</td>\n      <td>26.048780</td>\n      <td>5.804878</td>\n      <td>11.158537</td>\n      <td>...</td>\n      <td>1984-85</td>\n      <td>adamsal01</td>\n      <td>500000</td>\n      <td>1985</td>\n      <td>1984</td>\n      <td>Phoenix Suns</td>\n      <td>Alvan Adams1984-85</td>\n      <td>3600000</td>\n      <td>3600000</td>\n      <td>0.138889</td>\n    </tr>\n    <tr>\n      <th>2</th>\n      <td>2</td>\n      <td>Mark Aguirre</td>\n      <td>SMALL FORWARD</td>\n      <td>25</td>\n      <td>DALLAS MAVERICKS</td>\n      <td>80</td>\n      <td>0.987500</td>\n      <td>33.737500</td>\n      <td>9.925000</td>\n      <td>19.612500</td>\n      <td>...</td>\n      <td>1984-85</td>\n      <td>aguirma01</td>\n      <td>800000</td>\n      <td>1985</td>\n      <td>1984</td>\n      <td>Dallas Mavericks</td>\n      <td>Mark Aguirre1984-85</td>\n      <td>3600000</td>\n      <td>3600000</td>\n      <td>0.222222</td>\n    </tr>\n    <tr>\n      <th>3</th>\n      <td>3</td>\n      <td>Danny Ainge</td>\n      <td>SHOOTING GUARD</td>\n      <td>25</td>\n      <td>BOSTON CELTICS</td>\n      <td>75</td>\n      <td>0.973333</td>\n      <td>34.186667</td>\n      <td>5.586667</td>\n      <td>10.560000</td>\n      <td>...</td>\n      <td>1984-85</td>\n      <td>aingeda01</td>\n      <td>400000</td>\n      <td>1985</td>\n      <td>1984</td>\n      <td>Boston Celtics</td>\n      <td>Danny Ainge1984-85</td>\n      <td>3600000</td>\n      <td>3600000</td>\n      <td>0.111111</td>\n    </tr>\n    <tr>\n      <th>4</th>\n      <td>4</td>\n      <td>John Bagley</td>\n      <td>POINT GUARD</td>\n      <td>24</td>\n      <td>CLEVELAND CAVALIERS</td>\n      <td>81</td>\n      <td>0.802469</td>\n      <td>29.641975</td>\n      <td>4.172840</td>\n      <td>8.555556</td>\n      <td>...</td>\n      <td>1984-85</td>\n      <td>baglejo01</td>\n      <td>209000</td>\n      <td>1985</td>\n      <td>1984</td>\n      <td>Cleveland Cavaliers</td>\n      <td>John Bagley1984-85</td>\n      <td>3600000</td>\n      <td>3600000</td>\n      <td>0.058056</td>\n    </tr>\n  </tbody>\n</table>\n<p>5 rows × 52 columns</p>\n</div>"
          },
          "metadata": {}
        }
      ],
      "execution_count": 15
    },
    {
      "cell_type": "code",
      "source": "impactDf = pd.read_excel(\"all_impact_metrics.xlsx\")\nimpactDf.drop(columns=['Unnamed: 0'], inplace=True)\nimpactDf.shape",
      "metadata": {
        "tags": [],
        "cell_id": "00009-5235c77b-2a5d-4ece-93ba-4dee726f3ab0",
        "deepnote_to_be_reexecuted": false,
        "source_hash": "e8272322",
        "execution_millis": 1788,
        "execution_start": 1615423024738,
        "deepnote_cell_type": "code"
      },
      "outputs": [
        {
          "output_type": "execute_result",
          "execution_count": 23,
          "data": {
            "text/plain": "(2424, 35)"
          },
          "metadata": {}
        }
      ],
      "execution_count": 23
    },
    {
      "cell_type": "code",
      "source": "#contains stats + salary + cap\nstats_with_impact = full.merge(impactDf, left_on = ['name', 'season'], right_on = ['Player', 'Season']).drop(['name','season'], axis = 1)",
      "metadata": {
        "tags": [],
        "cell_id": "00008-8bceb353-bcd5-4425-970b-a5b4f1ce5c97",
        "deepnote_to_be_reexecuted": false,
        "source_hash": "8a4504a4",
        "execution_millis": 10,
        "execution_start": 1615423075111,
        "deepnote_cell_type": "code"
      },
      "outputs": [],
      "execution_count": 24
    },
    {
      "cell_type": "code",
      "source": "free_agents",
      "metadata": {
        "tags": [],
        "cell_id": "00011-3886ea88-89b9-4b9c-b46f-df99121edeea",
        "deepnote_to_be_reexecuted": false,
        "source_hash": "da86dd99",
        "execution_millis": 27,
        "execution_start": 1615423242561,
        "deepnote_cell_type": "code"
      },
      "outputs": [
        {
          "output_type": "execute_result",
          "execution_count": 31,
          "data": {
            "application/vnd.deepnote.dataframe.v2+json": {
              "row_count": 1111,
              "column_count": 11,
              "columns": [
                {
                  "name": "Rk",
                  "dtype": "int64",
                  "stats": {
                    "unique_count": 300,
                    "nan_count": 0,
                    "min": 1,
                    "max": 300,
                    "histogram": [
                      {
                        "bin_start": 1,
                        "bin_end": 30.9,
                        "count": 150
                      },
                      {
                        "bin_start": 30.9,
                        "bin_end": 60.8,
                        "count": 150
                      },
                      {
                        "bin_start": 60.8,
                        "bin_end": 90.69999999999999,
                        "count": 150
                      },
                      {
                        "bin_start": 90.69999999999999,
                        "bin_end": 120.6,
                        "count": 150
                      },
                      {
                        "bin_start": 120.6,
                        "bin_end": 150.5,
                        "count": 150
                      },
                      {
                        "bin_start": 150.5,
                        "bin_end": 180.39999999999998,
                        "count": 128
                      },
                      {
                        "bin_start": 180.39999999999998,
                        "bin_end": 210.29999999999998,
                        "count": 66
                      },
                      {
                        "bin_start": 210.29999999999998,
                        "bin_end": 240.2,
                        "count": 60
                      },
                      {
                        "bin_start": 240.2,
                        "bin_end": 270.09999999999997,
                        "count": 60
                      },
                      {
                        "bin_start": 270.09999999999997,
                        "bin_end": 300,
                        "count": 47
                      }
                    ]
                  }
                },
                {
                  "name": "Player",
                  "dtype": "object",
                  "stats": {
                    "unique_count": 700,
                    "nan_count": 0,
                    "categories": [
                      {
                        "name": "Rajon Rondo",
                        "count": 5
                      },
                      {
                        "name": "Jamal Crawford",
                        "count": 5
                      },
                      {
                        "name": "698 others",
                        "count": 1101
                      }
                    ]
                  }
                },
                {
                  "name": "Pos",
                  "dtype": "object",
                  "stats": {
                    "unique_count": 7,
                    "nan_count": 1,
                    "categories": [
                      {
                        "name": "G",
                        "count": 443
                      },
                      {
                        "name": "6 others",
                        "count": 667
                      },
                      {
                        "name": "Missing",
                        "count": 1
                      }
                    ]
                  }
                },
                {
                  "name": "Age",
                  "dtype": "object",
                  "stats": {
                    "unique_count": 659,
                    "nan_count": 1,
                    "categories": [
                      {
                        "name": "36-257",
                        "count": 8
                      },
                      {
                        "name": "658 others",
                        "count": 1102
                      },
                      {
                        "name": "Missing",
                        "count": 1
                      }
                    ]
                  }
                },
                {
                  "name": "Type",
                  "dtype": "object",
                  "stats": {
                    "unique_count": 3,
                    "nan_count": 0,
                    "categories": [
                      {
                        "name": "UFA",
                        "count": 986
                      },
                      {
                        "name": "RFA",
                        "count": 124
                      },
                      {
                        "name": "PHI",
                        "count": 1
                      }
                    ]
                  }
                },
                {
                  "name": "OTm",
                  "dtype": "object",
                  "stats": {
                    "unique_count": 33,
                    "nan_count": 53,
                    "categories": [
                      {
                        "name": "LAL",
                        "count": 49
                      },
                      {
                        "name": "32 others",
                        "count": 1009
                      },
                      {
                        "name": "Missing",
                        "count": 53
                      }
                    ]
                  }
                },
                {
                  "name": "WS",
                  "dtype": "float64",
                  "stats": {
                    "unique_count": 103,
                    "nan_count": 115,
                    "min": -0.8,
                    "max": 14.5,
                    "histogram": [
                      {
                        "bin_start": -0.8,
                        "bin_end": 0.73,
                        "count": 418
                      },
                      {
                        "bin_start": 0.73,
                        "bin_end": 2.26,
                        "count": 246
                      },
                      {
                        "bin_start": 2.26,
                        "bin_end": 3.79,
                        "count": 166
                      },
                      {
                        "bin_start": 3.79,
                        "bin_end": 5.32,
                        "count": 87
                      },
                      {
                        "bin_start": 5.32,
                        "bin_end": 6.8500000000000005,
                        "count": 42
                      },
                      {
                        "bin_start": 6.8500000000000005,
                        "bin_end": 8.379999999999999,
                        "count": 14
                      },
                      {
                        "bin_start": 8.379999999999999,
                        "bin_end": 9.91,
                        "count": 8
                      },
                      {
                        "bin_start": 9.91,
                        "bin_end": 11.44,
                        "count": 9
                      },
                      {
                        "bin_start": 11.44,
                        "bin_end": 12.969999999999999,
                        "count": 3
                      },
                      {
                        "bin_start": 12.969999999999999,
                        "bin_end": 14.5,
                        "count": 3
                      }
                    ]
                  }
                },
                {
                  "name": "NTm",
                  "dtype": "object",
                  "stats": {
                    "unique_count": 31,
                    "nan_count": 407,
                    "categories": [
                      {
                        "name": "LAL",
                        "count": 40
                      },
                      {
                        "name": "30 others",
                        "count": 664
                      },
                      {
                        "name": "Missing",
                        "count": 407
                      }
                    ]
                  }
                },
                {
                  "name": "Terms",
                  "dtype": "object",
                  "stats": {
                    "unique_count": 543,
                    "nan_count": 256,
                    "categories": [
                      {
                        "name": "Signed 1-yr minimum salary contract",
                        "count": 34
                      },
                      {
                        "name": "542 others",
                        "count": 821
                      },
                      {
                        "name": "Missing",
                        "count": 256
                      }
                    ]
                  }
                },
                {
                  "name": "Notes",
                  "dtype": "object",
                  "stats": {
                    "unique_count": 2,
                    "nan_count": 1109,
                    "categories": [
                      {
                        "name": "Wizards matched the offer sheet signed with Nets",
                        "count": 1
                      },
                      {
                        "name": "SAC failed to match offer",
                        "count": 1
                      },
                      {
                        "name": "Missing",
                        "count": 1109
                      }
                    ]
                  }
                },
                {
                  "name": "end season",
                  "dtype": "int64",
                  "stats": {
                    "unique_count": 5,
                    "nan_count": 0,
                    "min": 2016,
                    "max": 2020,
                    "histogram": [
                      {
                        "bin_start": 2016,
                        "bin_end": 2016.4,
                        "count": 167
                      },
                      {
                        "bin_start": 2016.4,
                        "bin_end": 2016.8,
                        "count": 0
                      },
                      {
                        "bin_start": 2016.8,
                        "bin_end": 2017.2,
                        "count": 171
                      },
                      {
                        "bin_start": 2017.2,
                        "bin_end": 2017.6,
                        "count": 0
                      },
                      {
                        "bin_start": 2017.6,
                        "bin_end": 2018,
                        "count": 0
                      },
                      {
                        "bin_start": 2018,
                        "bin_end": 2018.4,
                        "count": 186
                      },
                      {
                        "bin_start": 2018.4,
                        "bin_end": 2018.8,
                        "count": 0
                      },
                      {
                        "bin_start": 2018.8,
                        "bin_end": 2019.2,
                        "count": 287
                      },
                      {
                        "bin_start": 2019.2,
                        "bin_end": 2019.6,
                        "count": 0
                      },
                      {
                        "bin_start": 2019.6,
                        "bin_end": 2020,
                        "count": 300
                      }
                    ]
                  }
                },
                {
                  "name": "_deepnote_index_column",
                  "dtype": "int64"
                }
              ],
              "rows_top": [
                {
                  "Rk": 1,
                  "Player": "Kevin Durant",
                  "Pos": "F-G",
                  "Age": "32-162",
                  "Type": "UFA",
                  "OTm": "OKC",
                  "WS": 14.5,
                  "NTm": "GSW",
                  "Terms": "Signed 2-yr/$54M deal with Warriors",
                  "Notes": "nan",
                  "end season": 2016,
                  "_deepnote_index_column": 0
                },
                {
                  "Rk": 2,
                  "Player": "LeBron James",
                  "Pos": "F-G",
                  "Age": "36-070",
                  "Type": "UFA",
                  "OTm": "CLE",
                  "WS": 13.6,
                  "NTm": "CLE",
                  "Terms": "Signed 3-yr/$100M deal with Cavaliers",
                  "Notes": "nan",
                  "end season": 2016,
                  "_deepnote_index_column": 1
                },
                {
                  "Rk": 3,
                  "Player": "Hassan Whiteside",
                  "Pos": "C",
                  "Age": "31-270",
                  "Type": "UFA",
                  "OTm": "MIA",
                  "WS": 10.3,
                  "NTm": "MIA",
                  "Terms": "Signed 4-yr/$98M deal with Heat",
                  "Notes": "nan",
                  "end season": 2016,
                  "_deepnote_index_column": 2
                },
                {
                  "Rk": 4,
                  "Player": "DeMar DeRozan",
                  "Pos": "G-F",
                  "Age": "31-215",
                  "Type": "UFA",
                  "OTm": "TOR",
                  "WS": 9.9,
                  "NTm": "TOR",
                  "Terms": "Signed 5-yr/$139M deal with Raptors",
                  "Notes": "nan",
                  "end season": 2016,
                  "_deepnote_index_column": 3
                },
                {
                  "Rk": 5,
                  "Player": "Al Horford",
                  "Pos": "C-F",
                  "Age": "34-280",
                  "Type": "UFA",
                  "OTm": "ATL",
                  "WS": 9.4,
                  "NTm": "BOS",
                  "Terms": "Signed 4-yr/$113M deal with Celtics",
                  "Notes": "nan",
                  "end season": 2016,
                  "_deepnote_index_column": 4
                },
                {
                  "Rk": 6,
                  "Player": "Marvin Williams",
                  "Pos": "F",
                  "Age": "34-264",
                  "Type": "UFA",
                  "OTm": "CHA",
                  "WS": 7.8,
                  "NTm": "CHA",
                  "Terms": "Signed 4-yr/$54.5M deal with Hornets",
                  "Notes": "nan",
                  "end season": 2016,
                  "_deepnote_index_column": 5
                },
                {
                  "Rk": 7,
                  "Player": "Andre Drummond",
                  "Pos": "C",
                  "Age": "27-212",
                  "Type": "RFA",
                  "OTm": "DET",
                  "WS": 7.4,
                  "NTm": "DET",
                  "Terms": "Signed 5-yr/$130M deal with Pistons",
                  "Notes": "nan",
                  "end season": 2016,
                  "_deepnote_index_column": 6
                },
                {
                  "Rk": 8,
                  "Player": "Pau Gasol",
                  "Pos": "C-F",
                  "Age": "40-247",
                  "Type": "UFA",
                  "OTm": "CHI",
                  "WS": 7.1,
                  "NTm": "SAS",
                  "Terms": "Signed 2-yr/$30M deal with Spurs",
                  "Notes": "nan",
                  "end season": 2016,
                  "_deepnote_index_column": 7
                },
                {
                  "Rk": 9,
                  "Player": "Dirk Nowitzki",
                  "Pos": "F",
                  "Age": "42-264",
                  "Type": "UFA",
                  "OTm": "DAL",
                  "WS": 6.8,
                  "NTm": "DAL",
                  "Terms": "Signed 2-yr/$50M deal with Mavericks",
                  "Notes": "nan",
                  "end season": 2016,
                  "_deepnote_index_column": 8
                },
                {
                  "Rk": 10,
                  "Player": "Dwight Howard",
                  "Pos": "C",
                  "Age": "35-092",
                  "Type": "UFA",
                  "OTm": "HOU",
                  "WS": 6.6,
                  "NTm": "ATL",
                  "Terms": "Signed 3-yr/$70.5M deal with Hawks",
                  "Notes": "nan",
                  "end season": 2016,
                  "_deepnote_index_column": 9
                },
                {
                  "Rk": 11,
                  "Player": "Luol Deng",
                  "Pos": "F",
                  "Age": "35-328",
                  "Type": "UFA",
                  "OTm": "MIA",
                  "WS": 6.4,
                  "NTm": "LAL",
                  "Terms": "Signed 4-yr/$72M deal with Lakers",
                  "Notes": "nan",
                  "end season": 2016,
                  "_deepnote_index_column": 10
                },
                {
                  "Rk": 12,
                  "Player": "Ian Mahinmi",
                  "Pos": "C",
                  "Age": "34-125",
                  "Type": "UFA",
                  "OTm": "IND",
                  "WS": 6.2,
                  "NTm": "WAS",
                  "Terms": "Signed 4-yr/$64M deal with Wizards",
                  "Notes": "nan",
                  "end season": 2016,
                  "_deepnote_index_column": 11
                },
                {
                  "Rk": 13,
                  "Player": "Zaza Pachulia",
                  "Pos": "C",
                  "Age": "37-028",
                  "Type": "UFA",
                  "OTm": "DAL",
                  "WS": 6,
                  "NTm": "GSW",
                  "Terms": "Signed 1-yr/$2.9M deal with Warriors",
                  "Notes": "nan",
                  "end season": 2016,
                  "_deepnote_index_column": 12
                },
                {
                  "Rk": 14,
                  "Player": "Bismack Biyombo",
                  "Pos": "C-F",
                  "Age": "28-194",
                  "Type": "UFA",
                  "OTm": "TOR",
                  "WS": 5.9,
                  "NTm": "ORL",
                  "Terms": "Signed 4-yr/$72M deal with Magic",
                  "Notes": "nan",
                  "end season": 2016,
                  "_deepnote_index_column": 13
                },
                {
                  "Rk": 15,
                  "Player": "Evan Fournier",
                  "Pos": "G-F",
                  "Age": "28-132",
                  "Type": "RFA",
                  "OTm": "ORL",
                  "WS": 5.7,
                  "NTm": "ORL",
                  "Terms": "Signed 5-yr/$85M deal with Magic",
                  "Notes": "nan",
                  "end season": 2016,
                  "_deepnote_index_column": 14
                },
                {
                  "Rk": 16,
                  "Player": "J.R. Smith",
                  "Pos": "G-F",
                  "Age": "35-182",
                  "Type": "UFA",
                  "OTm": "CLE",
                  "WS": 5.5,
                  "NTm": "CLE",
                  "Terms": "Signed 4-yr/$57M deal with Cavaliers",
                  "Notes": "nan",
                  "end season": 2016,
                  "_deepnote_index_column": 15
                },
                {
                  "Rk": 17,
                  "Player": "David West",
                  "Pos": "F-C",
                  "Age": "40-193",
                  "Type": "UFA",
                  "OTm": "SAS",
                  "WS": 5.4,
                  "NTm": "GSW",
                  "Terms": "Signed 1-yr/$1.5M deal with Warriors",
                  "Notes": "nan",
                  "end season": 2016,
                  "_deepnote_index_column": 16
                },
                {
                  "Rk": 18,
                  "Player": "Mike Conley",
                  "Pos": "G",
                  "Age": "33-150",
                  "Type": "UFA",
                  "OTm": "MEM",
                  "WS": 5.3,
                  "NTm": "MEM",
                  "Terms": "Signed 5-yr/$153M deal with Grizzlies",
                  "Notes": "nan",
                  "end season": 2016,
                  "_deepnote_index_column": 17
                },
                {
                  "Rk": 19,
                  "Player": "Nicolas Batum",
                  "Pos": "F-G",
                  "Age": "32-086",
                  "Type": "UFA",
                  "OTm": "CHO",
                  "WS": 5,
                  "NTm": "CHO",
                  "Terms": "Signed 5-yr/$120M deal with Hornets",
                  "Notes": "nan",
                  "end season": 2016,
                  "_deepnote_index_column": 18
                },
                {
                  "Rk": 20,
                  "Player": "Harrison Barnes",
                  "Pos": "F",
                  "Age": "28-284",
                  "Type": "UFA",
                  "OTm": "GSW",
                  "WS": 4.9,
                  "NTm": "DAL",
                  "Terms": "Signed 4-yr/$94M deal with Mavericks",
                  "Notes": "nan",
                  "end season": 2016,
                  "_deepnote_index_column": 19
                },
                {
                  "Rk": 21,
                  "Player": "Dwyane Wade",
                  "Pos": "G",
                  "Age": "39-052",
                  "Type": "UFA",
                  "OTm": "MIA",
                  "WS": 4.9,
                  "NTm": "CHI",
                  "Terms": "Signed 2-yr/$47M deal with Bulls",
                  "Notes": "nan",
                  "end season": 2016,
                  "_deepnote_index_column": 20
                },
                {
                  "Rk": 22,
                  "Player": "Jared Sullinger",
                  "Pos": "F",
                  "Age": "29-006",
                  "Type": "UFA",
                  "OTm": "BOS",
                  "WS": 4.8,
                  "NTm": "TOR",
                  "Terms": "Signed 1-yr deal with Raptors",
                  "Notes": "nan",
                  "end season": 2016,
                  "_deepnote_index_column": 21
                },
                {
                  "Rk": 23,
                  "Player": "Jared Dudley",
                  "Pos": "F-G",
                  "Age": "35-243",
                  "Type": "UFA",
                  "OTm": "WAS",
                  "WS": 4.6,
                  "NTm": "PHO",
                  "Terms": "Signed 3-yr/$30M deal with Suns",
                  "Notes": "nan",
                  "end season": 2016,
                  "_deepnote_index_column": 22
                },
                {
                  "Rk": 24,
                  "Player": "Rajon Rondo",
                  "Pos": "G",
                  "Age": "35-016",
                  "Type": "UFA",
                  "OTm": "SAC",
                  "WS": 4.6,
                  "NTm": "CHI",
                  "Terms": "Signed 2-yr/$28M deal with Bulls",
                  "Notes": "nan",
                  "end season": 2016,
                  "_deepnote_index_column": 23
                },
                {
                  "Rk": 25,
                  "Player": "Trevor Booker",
                  "Pos": "F",
                  "Age": "33-105",
                  "Type": "UFA",
                  "OTm": "UTA",
                  "WS": 4.3,
                  "NTm": "BRK",
                  "Terms": "Signed 2-yr/$18M deal with Nets",
                  "Notes": "nan",
                  "end season": 2016,
                  "_deepnote_index_column": 24
                },
                {
                  "Rk": 26,
                  "Player": "Allen Crabbe",
                  "Pos": "G-F",
                  "Age": "28-335",
                  "Type": "RFA",
                  "OTm": "POR",
                  "WS": 4.3,
                  "NTm": "POR",
                  "Terms": "Signed 4-yr/$75M deal with Trail Blazers",
                  "Notes": "nan",
                  "end season": 2016,
                  "_deepnote_index_column": 25
                },
                {
                  "Rk": 27,
                  "Player": "Chandler Parsons",
                  "Pos": "F",
                  "Age": "32-136",
                  "Type": "UFA",
                  "OTm": "DAL",
                  "WS": 4.3,
                  "NTm": "MEM",
                  "Terms": "Signed 4-yr/$94M deal with Grizzlies",
                  "Notes": "nan",
                  "end season": 2016,
                  "_deepnote_index_column": 26
                },
                {
                  "Rk": 28,
                  "Player": "Brandon Bass",
                  "Pos": "F",
                  "Age": "35-314",
                  "Type": "UFA",
                  "OTm": "LAL",
                  "WS": 4.1,
                  "NTm": "LAC",
                  "Terms": "Signed 1-yr deal with Clippers",
                  "Notes": "nan",
                  "end season": 2016,
                  "_deepnote_index_column": 27
                },
                {
                  "Rk": 29,
                  "Player": "Kent Bazemore",
                  "Pos": "G-F",
                  "Age": "31-252",
                  "Type": "UFA",
                  "OTm": "ATL",
                  "WS": 4.1,
                  "NTm": "ATL",
                  "Terms": "Signed 4-yr/$70M deal with Hawks",
                  "Notes": "nan",
                  "end season": 2016,
                  "_deepnote_index_column": 28
                },
                {
                  "Rk": 30,
                  "Player": "Evan Turner",
                  "Pos": "G",
                  "Age": "32-134",
                  "Type": "UFA",
                  "OTm": "BOS",
                  "WS": 4,
                  "NTm": "POR",
                  "Terms": "Signed 4-yr/$70M deal with Blazers",
                  "Notes": "nan",
                  "end season": 2016,
                  "_deepnote_index_column": 29
                },
                {
                  "Rk": 31,
                  "Player": "Ryan Anderson",
                  "Pos": "F",
                  "Age": "32-308",
                  "Type": "UFA",
                  "OTm": "NOP",
                  "WS": 3.9,
                  "NTm": "HOU",
                  "Terms": "Signed 4-yr/$80M deal with Rockets",
                  "Notes": "nan",
                  "end season": 2016,
                  "_deepnote_index_column": 30
                },
                {
                  "Rk": 32,
                  "Player": "Jordan Hill",
                  "Pos": "C-F",
                  "Age": "33-226",
                  "Type": "UFA",
                  "OTm": "IND",
                  "WS": 3.9,
                  "NTm": "MIN",
                  "Terms": "Signed 2-yr/$8M deal with Timberwolves",
                  "Notes": "nan",
                  "end season": 2016,
                  "_deepnote_index_column": 31
                },
                {
                  "Rk": 33,
                  "Player": "Courtney Lee",
                  "Pos": "G",
                  "Age": "35-158",
                  "Type": "UFA",
                  "OTm": "CHA",
                  "WS": 3.9,
                  "NTm": "NYK",
                  "Terms": "Signed 4-yr/$48M deal with Knicks",
                  "Notes": "nan",
                  "end season": 2016,
                  "_deepnote_index_column": 32
                },
                {
                  "Rk": 34,
                  "Player": "Mario Chalmers",
                  "Pos": "G",
                  "Age": "34-295",
                  "Type": "UFA",
                  "OTm": "MEM",
                  "WS": 3.8,
                  "NTm": "nan",
                  "Terms": "nan",
                  "Notes": "nan",
                  "end season": 2016,
                  "_deepnote_index_column": 33
                },
                {
                  "Rk": 35,
                  "Player": "Matthew Dellavedova",
                  "Pos": "G",
                  "Age": "30-183",
                  "Type": "RFA",
                  "OTm": "CLE",
                  "WS": 3.8,
                  "NTm": "MIL",
                  "Terms": "Traded to Bucks via sign-and-trade",
                  "Notes": "nan",
                  "end season": 2016,
                  "_deepnote_index_column": 34
                },
                {
                  "Rk": 36,
                  "Player": "Manu Ginóbili",
                  "Pos": "G",
                  "Age": "43-225",
                  "Type": "UFA",
                  "OTm": "SAS",
                  "WS": 3.8,
                  "NTm": "SAS",
                  "Terms": "Signed 1-yr/$14M deal with Spurs",
                  "Notes": "nan",
                  "end season": 2016,
                  "_deepnote_index_column": 35
                },
                {
                  "Rk": 37,
                  "Player": "Ramon Sessions",
                  "Pos": "G",
                  "Age": "34-333",
                  "Type": "UFA",
                  "OTm": "WAS",
                  "WS": 3.8,
                  "NTm": "CHA",
                  "Terms": "Signed 2-yr/$12.3M deal with Hornets",
                  "Notes": "nan",
                  "end season": 2016,
                  "_deepnote_index_column": 36
                },
                {
                  "Rk": 38,
                  "Player": "Mirza Teletović",
                  "Pos": "F",
                  "Age": "35-173",
                  "Type": "UFA",
                  "OTm": "PHO",
                  "WS": 3.8,
                  "NTm": "MIL",
                  "Terms": "Signed 3-yr/$30M deal with Bucks",
                  "Notes": "nan",
                  "end season": 2016,
                  "_deepnote_index_column": 37
                },
                {
                  "Rk": 39,
                  "Player": "Timofey Mozgov",
                  "Pos": "C",
                  "Age": "34-237",
                  "Type": "UFA",
                  "OTm": "CLE",
                  "WS": 3.7,
                  "NTm": "LAL",
                  "Terms": "Signed 4-yr/$64M deal with Lakers",
                  "Notes": "nan",
                  "end season": 2016,
                  "_deepnote_index_column": 38
                },
                {
                  "Rk": 40,
                  "Player": "Deron Williams",
                  "Pos": "G",
                  "Age": "36-257",
                  "Type": "UFA",
                  "OTm": "DAL",
                  "WS": 3.7,
                  "NTm": "DAL",
                  "Terms": "Signed 1-yr/$10M deal with Mavericks",
                  "Notes": "nan",
                  "end season": 2016,
                  "_deepnote_index_column": 39
                },
                {
                  "Rk": 41,
                  "Player": "Derrick Williams",
                  "Pos": "F",
                  "Age": "29-289",
                  "Type": "UFA",
                  "OTm": "NYK",
                  "WS": 3.6,
                  "NTm": "MIA",
                  "Terms": "Reportedly agreed to 1-yr/$5M deal with Heat",
                  "Notes": "nan",
                  "end season": 2016,
                  "_deepnote_index_column": 40
                },
                {
                  "Rk": 42,
                  "Player": "Cole Aldrich",
                  "Pos": "C",
                  "Age": "32-130",
                  "Type": "UFA",
                  "OTm": "LAC",
                  "WS": 3.5,
                  "NTm": "MIN",
                  "Terms": "Signed 3-yr/$22M deal with Timberwolves",
                  "Notes": "nan",
                  "end season": 2016,
                  "_deepnote_index_column": 41
                },
                {
                  "Rk": 43,
                  "Player": "Jeremy Lin",
                  "Pos": "G",
                  "Age": "32-199",
                  "Type": "UFA",
                  "OTm": "CHA",
                  "WS": 3.5,
                  "NTm": "BRK",
                  "Terms": "Signed 3-yr/$36M deal with Nets",
                  "Notes": "nan",
                  "end season": 2016,
                  "_deepnote_index_column": 42
                },
                {
                  "Rk": 44,
                  "Player": "Boban Marjanović",
                  "Pos": "C",
                  "Age": "32-207",
                  "Type": "RFA",
                  "OTm": "SAS",
                  "WS": 3.4,
                  "NTm": "DET",
                  "Terms": "Signed 3-yr/$21M deal with Pistons",
                  "Notes": "nan",
                  "end season": 2016,
                  "_deepnote_index_column": 43
                },
                {
                  "Rk": 45,
                  "Player": "Jamal Crawford",
                  "Pos": "G",
                  "Age": "40-355",
                  "Type": "UFA",
                  "OTm": "LAC",
                  "WS": 3.3,
                  "NTm": "LAC",
                  "Terms": "Signed 3-yr/$42M deal with Clippers",
                  "Notes": "nan",
                  "end season": 2016,
                  "_deepnote_index_column": 44
                }
              ],
              "rows_bottom": [
                {
                  "Rk": 256,
                  "Player": "Gerald Green",
                  "Pos": "G-F",
                  "Age": "35-043",
                  "Type": "UFA",
                  "OTm": "HOU",
                  "WS": "nan",
                  "NTm": "nan",
                  "Terms": "nan",
                  "Notes": "nan",
                  "end season": 2020,
                  "_deepnote_index_column": 1066
                },
                {
                  "Rk": 257,
                  "Player": "Tyler Hall",
                  "Pos": "G",
                  "Age": "23-350",
                  "Type": "UFA",
                  "OTm": "NYK",
                  "WS": "nan",
                  "NTm": "nan",
                  "Terms": "nan",
                  "Notes": "nan",
                  "end season": 2020,
                  "_deepnote_index_column": 1067
                },
                {
                  "Rk": 258,
                  "Player": "Rayshaun Hammonds",
                  "Pos": "F",
                  "Age": "22-120",
                  "Type": "UFA",
                  "OTm": "IND",
                  "WS": "nan",
                  "NTm": "nan",
                  "Terms": "nan",
                  "Notes": "nan",
                  "end season": 2020,
                  "_deepnote_index_column": 1068
                },
                {
                  "Rk": 259,
                  "Player": "Kevon Harris",
                  "Pos": "G",
                  "Age": "23-259",
                  "Type": "UFA",
                  "OTm": "LAL",
                  "WS": "nan",
                  "NTm": "nan",
                  "Terms": "nan",
                  "Notes": "nan",
                  "end season": 2020,
                  "_deepnote_index_column": 1069
                },
                {
                  "Rk": 260,
                  "Player": "Caleb Homesley",
                  "Pos": "G",
                  "Age": "24-103",
                  "Type": "UFA",
                  "OTm": "WAS",
                  "WS": "nan",
                  "NTm": "nan",
                  "Terms": "nan",
                  "Notes": "nan",
                  "end season": 2020,
                  "_deepnote_index_column": 1070
                },
                {
                  "Rk": 261,
                  "Player": "Kylor Kelley",
                  "Pos": "F",
                  "Age": "23-196",
                  "Type": "UFA",
                  "OTm": "SAS",
                  "WS": "nan",
                  "NTm": "nan",
                  "Terms": "nan",
                  "Notes": "nan",
                  "end season": 2020,
                  "_deepnote_index_column": 1071
                },
                {
                  "Rk": 262,
                  "Player": "Anthony Lamb",
                  "Pos": "F",
                  "Age": "23-049",
                  "Type": "UFA",
                  "OTm": "DET",
                  "WS": "nan",
                  "NTm": "HOU",
                  "Terms": "Signed two-way contract with Houston 03/08/21",
                  "Notes": "nan",
                  "end season": 2020,
                  "_deepnote_index_column": 1072
                },
                {
                  "Rk": 263,
                  "Player": "Charles Matthews",
                  "Pos": "G",
                  "Age": "24-115",
                  "Type": "UFA",
                  "OTm": "CLE",
                  "WS": "nan",
                  "NTm": "nan",
                  "Terms": "nan",
                  "Notes": "nan",
                  "end season": 2020,
                  "_deepnote_index_column": 1073
                },
                {
                  "Rk": 264,
                  "Player": "William McDowell-White",
                  "Pos": "G",
                  "Age": "22-331",
                  "Type": "UFA",
                  "OTm": "HOU",
                  "WS": "nan",
                  "NTm": "nan",
                  "Terms": "nan",
                  "Notes": "nan",
                  "end season": 2020,
                  "_deepnote_index_column": 1074
                },
                {
                  "Rk": 265,
                  "Player": "E.J. Montgomery",
                  "Pos": "F",
                  "Age": "21-179",
                  "Type": "UFA",
                  "OTm": "MIL",
                  "WS": "nan",
                  "NTm": "nan",
                  "Terms": "nan",
                  "Notes": "nan",
                  "end season": 2020,
                  "_deepnote_index_column": 1075
                },
                {
                  "Rk": 266,
                  "Player": "Trey Mourning",
                  "Pos": "F",
                  "Age": "24-201",
                  "Type": "UFA",
                  "OTm": "HOU",
                  "WS": "nan",
                  "NTm": "nan",
                  "Terms": "nan",
                  "Notes": "nan",
                  "end season": 2020,
                  "_deepnote_index_column": 1076
                },
                {
                  "Rk": 267,
                  "Player": "Ade Murkey",
                  "Pos": "G",
                  "Age": "23-040",
                  "Type": "UFA",
                  "OTm": "MIN",
                  "WS": "nan",
                  "NTm": "nan",
                  "Terms": "nan",
                  "Notes": "nan",
                  "end season": 2020,
                  "_deepnote_index_column": 1077
                },
                {
                  "Rk": 268,
                  "Player": "Devonte Patterson",
                  "Pos": "F",
                  "Age": "24-129",
                  "Type": "UFA",
                  "OTm": "DAL",
                  "WS": "nan",
                  "NTm": "nan",
                  "Terms": "nan",
                  "Notes": "nan",
                  "end season": 2020,
                  "_deepnote_index_column": 1078
                },
                {
                  "Rk": 269,
                  "Player": "Elijah Pemberton",
                  "Pos": "G",
                  "Age": "23-283",
                  "Type": "UFA",
                  "OTm": "GSW",
                  "WS": "nan",
                  "NTm": "nan",
                  "Terms": "nan",
                  "Notes": "nan",
                  "end season": 2020,
                  "_deepnote_index_column": 1079
                },
                {
                  "Rk": 270,
                  "Player": "London Perrantes",
                  "Pos": "G",
                  "Age": "26-158",
                  "Type": "UFA",
                  "OTm": "SAS",
                  "WS": "nan",
                  "NTm": "nan",
                  "Terms": "nan",
                  "Notes": "nan",
                  "end season": 2020,
                  "_deepnote_index_column": 1080
                },
                {
                  "Rk": 271,
                  "Player": "Jontay Porter",
                  "Pos": "F-C",
                  "Age": "21-115",
                  "Type": "RFA",
                  "OTm": "MEM",
                  "WS": "nan",
                  "NTm": "MEM",
                  "Terms": "Signed 3-yr/$6M contract",
                  "Notes": "nan",
                  "end season": 2020,
                  "_deepnote_index_column": 1081
                },
                {
                  "Rk": 272,
                  "Player": "Myles Powell",
                  "Pos": "G",
                  "Age": "23-246",
                  "Type": "UFA",
                  "OTm": "NYK",
                  "WS": "nan",
                  "NTm": "nan",
                  "Terms": "nan",
                  "Notes": "nan",
                  "end season": 2020,
                  "_deepnote_index_column": 1082
                },
                {
                  "Rk": 273,
                  "Player": "Trevelin Queen",
                  "Pos": "G",
                  "Age": "24-013",
                  "Type": "UFA",
                  "OTm": "HOU",
                  "WS": "nan",
                  "NTm": "nan",
                  "Terms": "nan",
                  "Notes": "nan",
                  "end season": 2020,
                  "_deepnote_index_column": 1083
                },
                {
                  "Rk": 274,
                  "Player": "Levi Randolph",
                  "Pos": "G",
                  "Age": "28-158",
                  "Type": "UFA",
                  "OTm": "CLE",
                  "WS": "nan",
                  "NTm": "nan",
                  "Terms": "nan",
                  "Notes": "nan",
                  "end season": 2020,
                  "_deepnote_index_column": 1084
                },
                {
                  "Rk": 275,
                  "Player": "Cameron Reynolds",
                  "Pos": "G",
                  "Age": "26-031",
                  "Type": "RFA",
                  "OTm": "MIL",
                  "WS": "nan",
                  "NTm": "nan",
                  "Terms": "Signed and waived by SAS",
                  "Notes": "nan",
                  "end season": 2020,
                  "_deepnote_index_column": 1085
                },
                {
                  "Rk": 276,
                  "Player": "Devin Robinson",
                  "Pos": "F",
                  "Age": "26-003",
                  "Type": "UFA",
                  "OTm": "IND",
                  "WS": "nan",
                  "NTm": "nan",
                  "Terms": "nan",
                  "Notes": "nan",
                  "end season": 2020,
                  "_deepnote_index_column": 1086
                },
                {
                  "Rk": 277,
                  "Player": "Quinton Rose",
                  "Pos": "G",
                  "Age": "23-043",
                  "Type": "UFA",
                  "OTm": "BRK",
                  "WS": "nan",
                  "NTm": "nan",
                  "Terms": "Signed and waived by SAC",
                  "Notes": "nan",
                  "end season": 2020,
                  "_deepnote_index_column": 1087
                },
                {
                  "Rk": 278,
                  "Player": "Tre Scott",
                  "Pos": "F",
                  "Age": "24-105",
                  "Type": "UFA",
                  "OTm": "UTA",
                  "WS": "nan",
                  "NTm": "nan",
                  "Terms": "nan",
                  "Notes": "nan",
                  "end season": 2020,
                  "_deepnote_index_column": 1088
                },
                {
                  "Rk": 279,
                  "Player": "Nate Sestina",
                  "Pos": "F",
                  "Age": "23-302",
                  "Type": "UFA",
                  "OTm": "BRK",
                  "WS": "nan",
                  "NTm": "nan",
                  "Terms": "nan",
                  "Notes": "nan",
                  "end season": 2020,
                  "_deepnote_index_column": 1089
                },
                {
                  "Rk": 280,
                  "Player": "Simisola Shittu",
                  "Pos": "F",
                  "Age": "21-123",
                  "Type": "UFA",
                  "OTm": "CHI",
                  "WS": "nan",
                  "NTm": "nan",
                  "Terms": "nan",
                  "Notes": "nan",
                  "end season": 2020,
                  "_deepnote_index_column": 1090
                },
                {
                  "Rk": 281,
                  "Player": "Kobi Simmons",
                  "Pos": "G",
                  "Age": "23-249",
                  "Type": "UFA",
                  "OTm": "CHO",
                  "WS": "nan",
                  "NTm": "nan",
                  "Terms": "nan",
                  "Notes": "nan",
                  "end season": 2020,
                  "_deepnote_index_column": 1091
                },
                {
                  "Rk": 282,
                  "Player": "Zavier Simpson",
                  "Pos": "G",
                  "Age": "24-027",
                  "Type": "UFA",
                  "OTm": "LAL",
                  "WS": "nan",
                  "NTm": "nan",
                  "Terms": "nan",
                  "Notes": "nan",
                  "end season": 2020,
                  "_deepnote_index_column": 1092
                },
                {
                  "Rk": 283,
                  "Player": "Xavier Sneed",
                  "Pos": "F",
                  "Age": "23-079",
                  "Type": "UFA",
                  "OTm": "CHO",
                  "WS": "nan",
                  "NTm": "nan",
                  "Terms": "nan",
                  "Notes": "nan",
                  "end season": 2020,
                  "_deepnote_index_column": 1093
                },
                {
                  "Rk": 284,
                  "Player": "Ray Spalding",
                  "Pos": "F",
                  "Age": "23-364",
                  "Type": "UFA",
                  "OTm": "CHO",
                  "WS": "nan",
                  "NTm": "nan",
                  "Terms": "nan",
                  "Notes": "nan",
                  "end season": 2020,
                  "_deepnote_index_column": 1094
                },
                {
                  "Rk": 285,
                  "Player": "Nik Stauskas",
                  "Pos": "G",
                  "Age": "27-154",
                  "Type": "UFA",
                  "OTm": "MIL",
                  "WS": "nan",
                  "NTm": "nan",
                  "Terms": "nan",
                  "Notes": "nan",
                  "end season": 2020,
                  "_deepnote_index_column": 1095
                },
                {
                  "Rk": 286,
                  "Player": "Dwayne Sutton",
                  "Pos": "F",
                  "Age": "24-012",
                  "Type": "UFA",
                  "OTm": "GSW",
                  "WS": "nan",
                  "NTm": "nan",
                  "Terms": "nan",
                  "Notes": "nan",
                  "end season": 2020,
                  "_deepnote_index_column": 1096
                },
                {
                  "Rk": 287,
                  "Player": "Marlon Taylor",
                  "Pos": "G",
                  "Age": "23-206",
                  "Type": "UFA",
                  "OTm": "WAS",
                  "WS": "nan",
                  "NTm": "nan",
                  "Terms": "nan",
                  "Notes": "nan",
                  "end season": 2020,
                  "_deepnote_index_column": 1097
                },
                {
                  "Rk": 288,
                  "Player": "Jon Teske",
                  "Pos": "C",
                  "Age": "23-310",
                  "Type": "UFA",
                  "OTm": "ORL",
                  "WS": "nan",
                  "NTm": "nan",
                  "Terms": "nan",
                  "Notes": "nan",
                  "end season": 2020,
                  "_deepnote_index_column": 1098
                },
                {
                  "Rk": 289,
                  "Player": "Tres Tinkle",
                  "Pos": "F",
                  "Age": "24-280",
                  "Type": "UFA",
                  "OTm": "LAL",
                  "WS": "nan",
                  "NTm": "nan",
                  "Terms": "Signed and waived by TOR",
                  "Notes": "nan",
                  "end season": 2020,
                  "_deepnote_index_column": 1099
                },
                {
                  "Rk": 290,
                  "Player": "Jake Toolson",
                  "Pos": "G",
                  "Age": "25-004",
                  "Type": "UFA",
                  "OTm": "UTA",
                  "WS": "nan",
                  "NTm": "nan",
                  "Terms": "nan",
                  "Notes": "nan",
                  "end season": 2020,
                  "_deepnote_index_column": 1100
                },
                {
                  "Rk": 291,
                  "Player": "Axel Toupane",
                  "Pos": "G-F",
                  "Age": "28-230",
                  "Type": "UFA",
                  "OTm": "GSW",
                  "WS": "nan",
                  "NTm": "nan",
                  "Terms": "nan",
                  "Notes": "nan",
                  "end season": 2020,
                  "_deepnote_index_column": 1101
                },
                {
                  "Rk": 292,
                  "Player": "Jahlil Tripp",
                  "Pos": "F",
                  "Age": "23-169",
                  "Type": "UFA",
                  "OTm": "MEM",
                  "WS": "nan",
                  "NTm": "nan",
                  "Terms": "nan",
                  "Notes": "nan",
                  "end season": 2020,
                  "_deepnote_index_column": 1102
                },
                {
                  "Rk": 293,
                  "Player": "Breein Tyree",
                  "Pos": "G",
                  "Age": "23-056",
                  "Type": "UFA",
                  "OTm": "MIA",
                  "WS": "nan",
                  "NTm": "nan",
                  "Terms": "Signed and waived by Toronto",
                  "Notes": "nan",
                  "end season": 2020,
                  "_deepnote_index_column": 1103
                },
                {
                  "Rk": 294,
                  "Player": "Christian Vital",
                  "Pos": "G",
                  "Age": "23-354",
                  "Type": "UFA",
                  "OTm": "MEM",
                  "WS": "nan",
                  "NTm": "nan",
                  "Terms": "nan",
                  "Notes": "nan",
                  "end season": 2020,
                  "_deepnote_index_column": 1104
                },
                {
                  "Rk": 295,
                  "Player": "Kaleb Wesson",
                  "Pos": "F",
                  "Age": "21-226",
                  "Type": "UFA",
                  "OTm": "GSW",
                  "WS": "nan",
                  "NTm": "nan",
                  "Terms": "nan",
                  "Notes": "nan",
                  "end season": 2020,
                  "_deepnote_index_column": 1105
                },
                {
                  "Rk": 296,
                  "Player": "Andrew White",
                  "Pos": "G",
                  "Age": "27-267",
                  "Type": "UFA",
                  "OTm": "NYK",
                  "WS": "nan",
                  "NTm": "nan",
                  "Terms": "nan",
                  "Notes": "nan",
                  "end season": 2020,
                  "_deepnote_index_column": 1106
                },
                {
                  "Rk": 297,
                  "Player": "Kahlil Whitney",
                  "Pos": "F",
                  "Age": "20-061",
                  "Type": "UFA",
                  "OTm": "CHO",
                  "WS": "nan",
                  "NTm": "nan",
                  "Terms": "nan",
                  "Notes": "nan",
                  "end season": 2020,
                  "_deepnote_index_column": 1107
                },
                {
                  "Rk": 298,
                  "Player": "Kenny Wooten",
                  "Pos": "F",
                  "Age": "22-327",
                  "Type": "UFA",
                  "OTm": "NYK",
                  "WS": "nan",
                  "NTm": "nan",
                  "Terms": "Claimed by Houston on two-way contract and waived",
                  "Notes": "nan",
                  "end season": 2020,
                  "_deepnote_index_column": 1108
                },
                {
                  "Rk": 299,
                  "Player": "James Young",
                  "Pos": "G-F",
                  "Age": "25-206",
                  "Type": "UFA",
                  "OTm": "NYK",
                  "WS": "nan",
                  "NTm": "nan",
                  "Terms": "nan",
                  "Notes": "nan",
                  "end season": 2020,
                  "_deepnote_index_column": 1109
                },
                {
                  "Rk": 300,
                  "Player": "Omer Yurtseven",
                  "Pos": "C",
                  "Age": "22-264",
                  "Type": "UFA",
                  "OTm": "OKC",
                  "WS": "nan",
                  "NTm": "nan",
                  "Terms": "nan",
                  "Notes": "nan",
                  "end season": 2020,
                  "_deepnote_index_column": 1110
                }
              ]
            },
            "text/plain": "       Rk            Player  Pos     Age Type  OTm    WS  NTm  \\\n0       1      Kevin Durant  F-G  32-162  UFA  OKC  14.5  GSW   \n1       2      LeBron James  F-G  36-070  UFA  CLE  13.6  CLE   \n2       3  Hassan Whiteside    C  31-270  UFA  MIA  10.3  MIA   \n3       4     DeMar DeRozan  G-F  31-215  UFA  TOR   9.9  TOR   \n4       5        Al Horford  C-F  34-280  UFA  ATL   9.4  BOS   \n...   ...               ...  ...     ...  ...  ...   ...  ...   \n1106  296      Andrew White    G  27-267  UFA  NYK   NaN  NaN   \n1107  297    Kahlil Whitney    F  20-061  UFA  CHO   NaN  NaN   \n1108  298      Kenny Wooten    F  22-327  UFA  NYK   NaN  NaN   \n1109  299       James Young  G-F  25-206  UFA  NYK   NaN  NaN   \n1110  300    Omer Yurtseven    C  22-264  UFA  OKC   NaN  NaN   \n\n                                                  Terms Notes  end season  \n0                   Signed 2-yr/$54M deal with Warriors   NaN        2016  \n1                 Signed 3-yr/$100M deal with Cavaliers   NaN        2016  \n2                       Signed 4-yr/$98M deal with Heat   NaN        2016  \n3                   Signed 5-yr/$139M deal with Raptors   NaN        2016  \n4                   Signed 4-yr/$113M deal with Celtics   NaN        2016  \n...                                                 ...   ...         ...  \n1106                                                NaN   NaN        2020  \n1107                                                NaN   NaN        2020  \n1108  Claimed by Houston on two-way contract and waived   NaN        2020  \n1109                                                NaN   NaN        2020  \n1110                                                NaN   NaN        2020  \n\n[1111 rows x 11 columns]",
            "text/html": "<div>\n<style scoped>\n    .dataframe tbody tr th:only-of-type {\n        vertical-align: middle;\n    }\n\n    .dataframe tbody tr th {\n        vertical-align: top;\n    }\n\n    .dataframe thead th {\n        text-align: right;\n    }\n</style>\n<table border=\"1\" class=\"dataframe\">\n  <thead>\n    <tr style=\"text-align: right;\">\n      <th></th>\n      <th>Rk</th>\n      <th>Player</th>\n      <th>Pos</th>\n      <th>Age</th>\n      <th>Type</th>\n      <th>OTm</th>\n      <th>WS</th>\n      <th>NTm</th>\n      <th>Terms</th>\n      <th>Notes</th>\n      <th>end season</th>\n    </tr>\n  </thead>\n  <tbody>\n    <tr>\n      <th>0</th>\n      <td>1</td>\n      <td>Kevin Durant</td>\n      <td>F-G</td>\n      <td>32-162</td>\n      <td>UFA</td>\n      <td>OKC</td>\n      <td>14.5</td>\n      <td>GSW</td>\n      <td>Signed 2-yr/$54M deal with Warriors</td>\n      <td>NaN</td>\n      <td>2016</td>\n    </tr>\n    <tr>\n      <th>1</th>\n      <td>2</td>\n      <td>LeBron James</td>\n      <td>F-G</td>\n      <td>36-070</td>\n      <td>UFA</td>\n      <td>CLE</td>\n      <td>13.6</td>\n      <td>CLE</td>\n      <td>Signed 3-yr/$100M deal with Cavaliers</td>\n      <td>NaN</td>\n      <td>2016</td>\n    </tr>\n    <tr>\n      <th>2</th>\n      <td>3</td>\n      <td>Hassan Whiteside</td>\n      <td>C</td>\n      <td>31-270</td>\n      <td>UFA</td>\n      <td>MIA</td>\n      <td>10.3</td>\n      <td>MIA</td>\n      <td>Signed 4-yr/$98M deal with Heat</td>\n      <td>NaN</td>\n      <td>2016</td>\n    </tr>\n    <tr>\n      <th>3</th>\n      <td>4</td>\n      <td>DeMar DeRozan</td>\n      <td>G-F</td>\n      <td>31-215</td>\n      <td>UFA</td>\n      <td>TOR</td>\n      <td>9.9</td>\n      <td>TOR</td>\n      <td>Signed 5-yr/$139M deal with Raptors</td>\n      <td>NaN</td>\n      <td>2016</td>\n    </tr>\n    <tr>\n      <th>4</th>\n      <td>5</td>\n      <td>Al Horford</td>\n      <td>C-F</td>\n      <td>34-280</td>\n      <td>UFA</td>\n      <td>ATL</td>\n      <td>9.4</td>\n      <td>BOS</td>\n      <td>Signed 4-yr/$113M deal with Celtics</td>\n      <td>NaN</td>\n      <td>2016</td>\n    </tr>\n    <tr>\n      <th>...</th>\n      <td>...</td>\n      <td>...</td>\n      <td>...</td>\n      <td>...</td>\n      <td>...</td>\n      <td>...</td>\n      <td>...</td>\n      <td>...</td>\n      <td>...</td>\n      <td>...</td>\n      <td>...</td>\n    </tr>\n    <tr>\n      <th>1106</th>\n      <td>296</td>\n      <td>Andrew White</td>\n      <td>G</td>\n      <td>27-267</td>\n      <td>UFA</td>\n      <td>NYK</td>\n      <td>NaN</td>\n      <td>NaN</td>\n      <td>NaN</td>\n      <td>NaN</td>\n      <td>2020</td>\n    </tr>\n    <tr>\n      <th>1107</th>\n      <td>297</td>\n      <td>Kahlil Whitney</td>\n      <td>F</td>\n      <td>20-061</td>\n      <td>UFA</td>\n      <td>CHO</td>\n      <td>NaN</td>\n      <td>NaN</td>\n      <td>NaN</td>\n      <td>NaN</td>\n      <td>2020</td>\n    </tr>\n    <tr>\n      <th>1108</th>\n      <td>298</td>\n      <td>Kenny Wooten</td>\n      <td>F</td>\n      <td>22-327</td>\n      <td>UFA</td>\n      <td>NYK</td>\n      <td>NaN</td>\n      <td>NaN</td>\n      <td>Claimed by Houston on two-way contract and waived</td>\n      <td>NaN</td>\n      <td>2020</td>\n    </tr>\n    <tr>\n      <th>1109</th>\n      <td>299</td>\n      <td>James Young</td>\n      <td>G-F</td>\n      <td>25-206</td>\n      <td>UFA</td>\n      <td>NYK</td>\n      <td>NaN</td>\n      <td>NaN</td>\n      <td>NaN</td>\n      <td>NaN</td>\n      <td>2020</td>\n    </tr>\n    <tr>\n      <th>1110</th>\n      <td>300</td>\n      <td>Omer Yurtseven</td>\n      <td>C</td>\n      <td>22-264</td>\n      <td>UFA</td>\n      <td>OKC</td>\n      <td>NaN</td>\n      <td>NaN</td>\n      <td>NaN</td>\n      <td>NaN</td>\n      <td>2020</td>\n    </tr>\n  </tbody>\n</table>\n<p>1111 rows × 11 columns</p>\n</div>"
          },
          "metadata": {}
        }
      ],
      "execution_count": 31
    },
    {
      "cell_type": "code",
      "source": "#merging stats_with_impact with free_agents\nFINAL_FA_STATS_DF = free_agents.merge(stats_with_impact, left_on = ['Player', \"end season\"], right_on=[\"Player\", \"season_end\"])",
      "metadata": {
        "tags": [],
        "cell_id": "00014-abce6148-6fee-40d6-91c2-e8e90937ffdf",
        "deepnote_to_be_reexecuted": false,
        "source_hash": "c65c2ac5",
        "execution_millis": 9,
        "execution_start": 1615423322362,
        "deepnote_cell_type": "code"
      },
      "outputs": [],
      "execution_count": 33
    },
    {
      "cell_type": "code",
      "source": "",
      "metadata": {
        "tags": [],
        "cell_id": "00014-e3d9a00c-5d3d-4a5f-b9e8-4289604918ba",
        "deepnote_cell_type": "code"
      },
      "outputs": [],
      "execution_count": null
    },
    {
      "cell_type": "code",
      "source": "columns_to_drop = ['NTm', 'Terms','Notes','Unnamed: 0', 'Rk', 'team_x', 'Age_x', 'Age_y','end season', 'Team', 'Minutes', 'MPG', 'team_y']",
      "metadata": {
        "tags": [],
        "cell_id": "00014-3ad56c77-f969-4b4d-8def-97bb8b0ceea0",
        "deepnote_to_be_reexecuted": false,
        "source_hash": "dbde6f0b",
        "execution_start": 1615423633553,
        "execution_millis": 1,
        "deepnote_cell_type": "code"
      },
      "outputs": [],
      "execution_count": 38
    },
    {
      "cell_type": "code",
      "source": "FINAL_FA_STATS_DF.drop(columns=columns_to_drop, inplace=True)",
      "metadata": {
        "tags": [],
        "cell_id": "00016-d583e21c-50c5-4788-a2f5-ecd268931802",
        "deepnote_to_be_reexecuted": false,
        "source_hash": "5fbb71f8",
        "execution_millis": 29,
        "execution_start": 1615423683330,
        "deepnote_cell_type": "code"
      },
      "outputs": [
        {
          "output_type": "error",
          "ename": "KeyError",
          "evalue": "\"['NTm' 'Terms' 'Notes' 'Unnamed: 0' 'Rk' 'team_x' 'Age_x' 'Age_y'\\n 'end season' 'Team' 'Minutes' 'MPG' 'team_y'] not found in axis\"",
          "traceback": [
            "\u001b[0;31m---------------------------------------------------------------------------\u001b[0m",
            "\u001b[0;31mKeyError\u001b[0m                                  Traceback (most recent call last)",
            "\u001b[0;32m<ipython-input-40-25bd514c0370>\u001b[0m in \u001b[0;36m<module>\u001b[0;34m\u001b[0m\n\u001b[0;32m----> 1\u001b[0;31m \u001b[0mFINAL_FA_STATS_DF\u001b[0m\u001b[0;34m.\u001b[0m\u001b[0mdrop\u001b[0m\u001b[0;34m(\u001b[0m\u001b[0mcolumns\u001b[0m\u001b[0;34m=\u001b[0m\u001b[0mcolumns_to_drop\u001b[0m\u001b[0;34m,\u001b[0m \u001b[0minplace\u001b[0m\u001b[0;34m=\u001b[0m\u001b[0;32mTrue\u001b[0m\u001b[0;34m)\u001b[0m\u001b[0;34m\u001b[0m\u001b[0;34m\u001b[0m\u001b[0m\n\u001b[0m\u001b[1;32m      2\u001b[0m \u001b[0mFINAL_FA_STATS_DF\u001b[0m\u001b[0;34m.\u001b[0m\u001b[0mcolumns\u001b[0m\u001b[0;34m[\u001b[0m\u001b[0;36m3\u001b[0m\u001b[0;34m]\u001b[0m\u001b[0;34m\u001b[0m\u001b[0;34m\u001b[0m\u001b[0m\n",
            "\u001b[0;32m/shared-libs/python3.7/py/lib/python3.7/site-packages/pandas/core/frame.py\u001b[0m in \u001b[0;36mdrop\u001b[0;34m(self, labels, axis, index, columns, level, inplace, errors)\u001b[0m\n\u001b[1;32m   4313\u001b[0m             \u001b[0mlevel\u001b[0m\u001b[0;34m=\u001b[0m\u001b[0mlevel\u001b[0m\u001b[0;34m,\u001b[0m\u001b[0;34m\u001b[0m\u001b[0;34m\u001b[0m\u001b[0m\n\u001b[1;32m   4314\u001b[0m             \u001b[0minplace\u001b[0m\u001b[0;34m=\u001b[0m\u001b[0minplace\u001b[0m\u001b[0;34m,\u001b[0m\u001b[0;34m\u001b[0m\u001b[0;34m\u001b[0m\u001b[0m\n\u001b[0;32m-> 4315\u001b[0;31m             \u001b[0merrors\u001b[0m\u001b[0;34m=\u001b[0m\u001b[0merrors\u001b[0m\u001b[0;34m,\u001b[0m\u001b[0;34m\u001b[0m\u001b[0;34m\u001b[0m\u001b[0m\n\u001b[0m\u001b[1;32m   4316\u001b[0m         )\n\u001b[1;32m   4317\u001b[0m \u001b[0;34m\u001b[0m\u001b[0m\n",
            "\u001b[0;32m/shared-libs/python3.7/py/lib/python3.7/site-packages/pandas/core/generic.py\u001b[0m in \u001b[0;36mdrop\u001b[0;34m(self, labels, axis, index, columns, level, inplace, errors)\u001b[0m\n\u001b[1;32m   4151\u001b[0m         \u001b[0;32mfor\u001b[0m \u001b[0maxis\u001b[0m\u001b[0;34m,\u001b[0m \u001b[0mlabels\u001b[0m \u001b[0;32min\u001b[0m \u001b[0maxes\u001b[0m\u001b[0;34m.\u001b[0m\u001b[0mitems\u001b[0m\u001b[0;34m(\u001b[0m\u001b[0;34m)\u001b[0m\u001b[0;34m:\u001b[0m\u001b[0;34m\u001b[0m\u001b[0;34m\u001b[0m\u001b[0m\n\u001b[1;32m   4152\u001b[0m             \u001b[0;32mif\u001b[0m \u001b[0mlabels\u001b[0m \u001b[0;32mis\u001b[0m \u001b[0;32mnot\u001b[0m \u001b[0;32mNone\u001b[0m\u001b[0;34m:\u001b[0m\u001b[0;34m\u001b[0m\u001b[0;34m\u001b[0m\u001b[0m\n\u001b[0;32m-> 4153\u001b[0;31m                 \u001b[0mobj\u001b[0m \u001b[0;34m=\u001b[0m \u001b[0mobj\u001b[0m\u001b[0;34m.\u001b[0m\u001b[0m_drop_axis\u001b[0m\u001b[0;34m(\u001b[0m\u001b[0mlabels\u001b[0m\u001b[0;34m,\u001b[0m \u001b[0maxis\u001b[0m\u001b[0;34m,\u001b[0m \u001b[0mlevel\u001b[0m\u001b[0;34m=\u001b[0m\u001b[0mlevel\u001b[0m\u001b[0;34m,\u001b[0m \u001b[0merrors\u001b[0m\u001b[0;34m=\u001b[0m\u001b[0merrors\u001b[0m\u001b[0;34m)\u001b[0m\u001b[0;34m\u001b[0m\u001b[0;34m\u001b[0m\u001b[0m\n\u001b[0m\u001b[1;32m   4154\u001b[0m \u001b[0;34m\u001b[0m\u001b[0m\n\u001b[1;32m   4155\u001b[0m         \u001b[0;32mif\u001b[0m \u001b[0minplace\u001b[0m\u001b[0;34m:\u001b[0m\u001b[0;34m\u001b[0m\u001b[0;34m\u001b[0m\u001b[0m\n",
            "\u001b[0;32m/shared-libs/python3.7/py/lib/python3.7/site-packages/pandas/core/generic.py\u001b[0m in \u001b[0;36m_drop_axis\u001b[0;34m(self, labels, axis, level, errors)\u001b[0m\n\u001b[1;32m   4186\u001b[0m                 \u001b[0mnew_axis\u001b[0m \u001b[0;34m=\u001b[0m \u001b[0maxis\u001b[0m\u001b[0;34m.\u001b[0m\u001b[0mdrop\u001b[0m\u001b[0;34m(\u001b[0m\u001b[0mlabels\u001b[0m\u001b[0;34m,\u001b[0m \u001b[0mlevel\u001b[0m\u001b[0;34m=\u001b[0m\u001b[0mlevel\u001b[0m\u001b[0;34m,\u001b[0m \u001b[0merrors\u001b[0m\u001b[0;34m=\u001b[0m\u001b[0merrors\u001b[0m\u001b[0;34m)\u001b[0m\u001b[0;34m\u001b[0m\u001b[0;34m\u001b[0m\u001b[0m\n\u001b[1;32m   4187\u001b[0m             \u001b[0;32melse\u001b[0m\u001b[0;34m:\u001b[0m\u001b[0;34m\u001b[0m\u001b[0;34m\u001b[0m\u001b[0m\n\u001b[0;32m-> 4188\u001b[0;31m                 \u001b[0mnew_axis\u001b[0m \u001b[0;34m=\u001b[0m \u001b[0maxis\u001b[0m\u001b[0;34m.\u001b[0m\u001b[0mdrop\u001b[0m\u001b[0;34m(\u001b[0m\u001b[0mlabels\u001b[0m\u001b[0;34m,\u001b[0m \u001b[0merrors\u001b[0m\u001b[0;34m=\u001b[0m\u001b[0merrors\u001b[0m\u001b[0;34m)\u001b[0m\u001b[0;34m\u001b[0m\u001b[0;34m\u001b[0m\u001b[0m\n\u001b[0m\u001b[1;32m   4189\u001b[0m             \u001b[0mresult\u001b[0m \u001b[0;34m=\u001b[0m \u001b[0mself\u001b[0m\u001b[0;34m.\u001b[0m\u001b[0mreindex\u001b[0m\u001b[0;34m(\u001b[0m\u001b[0;34m**\u001b[0m\u001b[0;34m{\u001b[0m\u001b[0maxis_name\u001b[0m\u001b[0;34m:\u001b[0m \u001b[0mnew_axis\u001b[0m\u001b[0;34m}\u001b[0m\u001b[0;34m)\u001b[0m\u001b[0;34m\u001b[0m\u001b[0;34m\u001b[0m\u001b[0m\n\u001b[1;32m   4190\u001b[0m \u001b[0;34m\u001b[0m\u001b[0m\n",
            "\u001b[0;32m/shared-libs/python3.7/py/lib/python3.7/site-packages/pandas/core/indexes/base.py\u001b[0m in \u001b[0;36mdrop\u001b[0;34m(self, labels, errors)\u001b[0m\n\u001b[1;32m   5589\u001b[0m         \u001b[0;32mif\u001b[0m \u001b[0mmask\u001b[0m\u001b[0;34m.\u001b[0m\u001b[0many\u001b[0m\u001b[0;34m(\u001b[0m\u001b[0;34m)\u001b[0m\u001b[0;34m:\u001b[0m\u001b[0;34m\u001b[0m\u001b[0;34m\u001b[0m\u001b[0m\n\u001b[1;32m   5590\u001b[0m             \u001b[0;32mif\u001b[0m \u001b[0merrors\u001b[0m \u001b[0;34m!=\u001b[0m \u001b[0;34m\"ignore\"\u001b[0m\u001b[0;34m:\u001b[0m\u001b[0;34m\u001b[0m\u001b[0;34m\u001b[0m\u001b[0m\n\u001b[0;32m-> 5591\u001b[0;31m                 \u001b[0;32mraise\u001b[0m \u001b[0mKeyError\u001b[0m\u001b[0;34m(\u001b[0m\u001b[0;34mf\"{labels[mask]} not found in axis\"\u001b[0m\u001b[0;34m)\u001b[0m\u001b[0;34m\u001b[0m\u001b[0;34m\u001b[0m\u001b[0m\n\u001b[0m\u001b[1;32m   5592\u001b[0m             \u001b[0mindexer\u001b[0m \u001b[0;34m=\u001b[0m \u001b[0mindexer\u001b[0m\u001b[0;34m[\u001b[0m\u001b[0;34m~\u001b[0m\u001b[0mmask\u001b[0m\u001b[0;34m]\u001b[0m\u001b[0;34m\u001b[0m\u001b[0;34m\u001b[0m\u001b[0m\n\u001b[1;32m   5593\u001b[0m         \u001b[0;32mreturn\u001b[0m \u001b[0mself\u001b[0m\u001b[0;34m.\u001b[0m\u001b[0mdelete\u001b[0m\u001b[0;34m(\u001b[0m\u001b[0mindexer\u001b[0m\u001b[0;34m)\u001b[0m\u001b[0;34m\u001b[0m\u001b[0;34m\u001b[0m\u001b[0m\n",
            "\u001b[0;31mKeyError\u001b[0m: \"['NTm' 'Terms' 'Notes' 'Unnamed: 0' 'Rk' 'team_x' 'Age_x' 'Age_y'\\n 'end season' 'Team' 'Minutes' 'MPG' 'team_y'] not found in axis\""
          ]
        }
      ],
      "execution_count": 40
    },
    {
      "cell_type": "code",
      "source": "FINAL_FA_STATS_DF.rename(columns={\"OTm\":\"Team\"}, inplace=True)",
      "metadata": {
        "tags": [],
        "cell_id": "00016-3262d971-576b-4012-97f9-8f81e23adf1f",
        "deepnote_to_be_reexecuted": false,
        "source_hash": "8496d53b",
        "execution_millis": 1,
        "execution_start": 1615423770572,
        "deepnote_cell_type": "code"
      },
      "outputs": [],
      "execution_count": 46
    },
    {
      "cell_type": "code",
      "source": "FINAL_FA_STATS_DF.drop(columns=['clean_season'], inplace=True)",
      "metadata": {
        "tags": [],
        "cell_id": "00017-4b2e0d65-fa56-4147-b779-43003984c8b2",
        "deepnote_to_be_reexecuted": false,
        "source_hash": "78d59899",
        "execution_millis": 2,
        "execution_start": 1615423809448,
        "deepnote_cell_type": "code"
      },
      "outputs": [],
      "execution_count": 50
    },
    {
      "cell_type": "code",
      "source": "FINAL_FA_STATS_DF.drop(columns = [\"salary_cap_x\", \"salary_cap_y\"], inplace=True)",
      "metadata": {
        "tags": [],
        "cell_id": "00018-60f3121e-e43e-4d36-97b7-1ba55888c487",
        "deepnote_to_be_reexecuted": false,
        "source_hash": "483ab33",
        "execution_millis": 3,
        "execution_start": 1615423889436,
        "deepnote_cell_type": "code"
      },
      "outputs": [],
      "execution_count": 52
    },
    {
      "cell_type": "code",
      "source": "FINAL_FA_STATS_DF.isnull().sum().value_counts()",
      "metadata": {
        "tags": [],
        "cell_id": "00019-ba0a2c64-e2a6-43b6-87b2-4657c913267d",
        "deepnote_to_be_reexecuted": false,
        "source_hash": "f23c8dc2",
        "execution_millis": 18,
        "execution_start": 1615424233135,
        "deepnote_cell_type": "code"
      },
      "outputs": [
        {
          "output_type": "execute_result",
          "execution_count": 67,
          "data": {
            "text/plain": "0    78\ndtype: int64"
          },
          "metadata": {}
        }
      ],
      "execution_count": 67
    },
    {
      "cell_type": "code",
      "source": "FINAL_FA_STATS_DF.loc[FINAL_FA_STATS_DF[\"Team\"].isnull()]\nFINAL_FA_STATS_DF.drop(columns=[\"Team\"], inplace=True)",
      "metadata": {
        "tags": [],
        "cell_id": "00020-fe70940e-6c1b-45c6-bcd2-c56f4534e7ba",
        "deepnote_to_be_reexecuted": false,
        "source_hash": "a44cd966",
        "execution_millis": 1,
        "execution_start": 1615424196393,
        "deepnote_cell_type": "code"
      },
      "outputs": [],
      "execution_count": 65
    },
    {
      "cell_type": "code",
      "source": "FINAL_FA_STATS_DF.isnull().values.any()",
      "metadata": {
        "tags": [],
        "cell_id": "00021-098abc49-e57e-4fa8-8eeb-f23cff06629f",
        "deepnote_to_be_reexecuted": false,
        "source_hash": "135c51c6",
        "execution_millis": 7,
        "execution_start": 1615424258170,
        "deepnote_cell_type": "code"
      },
      "outputs": [
        {
          "output_type": "execute_result",
          "execution_count": 68,
          "data": {
            "text/plain": "False"
          },
          "metadata": {}
        }
      ],
      "execution_count": 68
    },
    {
      "cell_type": "code",
      "source": "FINAL_FA_STATS_DF.to_excel(\"FA_STATS_DF.xlsx\")",
      "metadata": {
        "tags": [],
        "cell_id": "00022-5f66d267-791f-4cc7-a3e1-88ac077d9b16",
        "deepnote_to_be_reexecuted": false,
        "source_hash": "22144e57",
        "execution_start": 1615424278294,
        "execution_millis": 1484,
        "deepnote_cell_type": "code"
      },
      "outputs": [],
      "execution_count": 69
    },
    {
      "cell_type": "markdown",
      "source": "<a style='text-decoration:none;line-height:16px;display:flex;color:#5B5B62;padding:10px;justify-content:end;' href='https://deepnote.com?utm_source=created-in-deepnote-cell&projectId=b68f3b00-c35b-4bac-a12a-e3809890e0e9' target=\"_blank\">\n<img style='display:inline;max-height:16px;margin:0px;margin-right:7.5px;' src='data:image/svg+xml;base64,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' > </img>\nCreated in <span style='font-weight:600;margin-left:4px;'>Deepnote</span></a>",
      "metadata": {
        "tags": [],
        "created_in_deepnote_cell": true,
        "deepnote_cell_type": "markdown"
      }
    }
  ],
  "nbformat": 4,
  "nbformat_minor": 2,
  "metadata": {
    "orig_nbformat": 2,
    "deepnote_notebook_id": "f7d823f4-25fd-40a4-a187-83d04a4fb251",
    "deepnote": {},
    "deepnote_execution_queue": []
  }
}