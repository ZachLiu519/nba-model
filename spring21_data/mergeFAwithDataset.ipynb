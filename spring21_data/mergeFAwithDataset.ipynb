{
 "cells": [
  {
   "cell_type": "code",
   "execution_count": 1,
   "metadata": {
    "cell_id": "00000-f4193345-fa15-4300-9894-006c509a8770",
    "deepnote_cell_type": "code",
    "deepnote_to_be_reexecuted": false,
    "execution_millis": 779,
    "execution_start": 1615420323817,
    "source_hash": "5768dbb4",
    "tags": []
   },
   "outputs": [],
   "source": [
    "import pandas as pd\n",
    "import numpy as np\n",
    "import xlrd\n",
    "import matplotlib.pyplot as plt\n",
    "import seaborn as sns"
   ]
  },
  {
   "cell_type": "code",
   "execution_count": 2,
   "metadata": {
    "cell_id": "00002-40cbe062-98da-4aed-ac7e-0df194ccf50c",
    "deepnote_cell_type": "code",
    "deepnote_to_be_reexecuted": false,
    "execution_millis": 2988,
    "execution_start": 1615422554899,
    "source_hash": "f264abe5",
    "tags": []
   },
   "outputs": [],
   "source": [
    "dataset = pd.read_excel('all_impact_norm_adv_stats.xlsx').drop(columns=[\"Unnamed: 0\"])\n",
    "free_agents = pd.read_excel('FA_16_20.xlsx').drop(columns=[\"Unnamed: 0\"])"
   ]
  },
  {
   "cell_type": "code",
   "execution_count": 3,
   "metadata": {
    "cell_id": "00003-221ddc32-636b-4a5d-807c-84393c4fce78",
    "deepnote_cell_type": "code",
    "deepnote_to_be_reexecuted": false,
    "execution_millis": 12,
    "execution_start": 1615422658993,
    "source_hash": "1bdd0dc9",
    "tags": []
   },
   "outputs": [
    {
     "data": {
      "text/plain": [
       "Index(['Player', 'Season', 'Team', 'Offensive Archetype', 'Minutes', 'Games',\n",
       "       'Age', 'O-LEBRON', 'D-LEBRON', 'Wins Added', 'MPG', 'ORPM', 'DRPM',\n",
       "       'poss', 'raptor_offense', 'raptor_defense', 'war_total',\n",
       "       'war_reg_season', 'war_playoffs', 'predator_offense',\n",
       "       'predator_defense', 'pace_impact', 'LA_RAPM__Def', 'LA_RAPM__Off',\n",
       "       'RA_EFG__Def', 'RA_EFG__Off', 'RA_FTR__Def', 'RA_FTR__Off',\n",
       "       'RA_ORBD__Def', 'RA_ORBD__Off', 'RA_TOV__Def', 'RA_TOV__Off',\n",
       "       'RAPM__Def', 'RAPM__Off', 'clean_season', 'slug', 'positions', 'age',\n",
       "       'team', 'games_played', 'games_started', 'minutes_played',\n",
       "       'made_field_goals', 'attempted_field_goals',\n",
       "       'made_three_point_field_goals', 'attempted_three_point_field_goals',\n",
       "       'made_free_throws', 'attempted_free_throws', 'offensive_rebounds',\n",
       "       'defensive_rebounds', 'assists', 'steals', 'blocks', 'turnovers',\n",
       "       'personal_fouls', 'points', 'player_efficiency_rating',\n",
       "       'true_shooting_percentage', 'three_point_attempt_rate',\n",
       "       'free_throw_attempt_rate', 'offensive_rebound_percentage',\n",
       "       'defensive_rebound_percentage', 'total_rebound_percentage',\n",
       "       'assist_percentage', 'steal_percentage', 'block_percentage',\n",
       "       'turnover_percentage', 'usage_percentage', 'offensive_win_shares',\n",
       "       'defensive_win_shares', 'win_shares', 'win_shares_per_48_minutes',\n",
       "       'offensive_box_plus_minus', 'defensive_box_plus_minus',\n",
       "       'box_plus_minus', 'value_over_replacement_player', 'key'],\n",
       "      dtype='object')"
      ]
     },
     "execution_count": 3,
     "metadata": {},
     "output_type": "execute_result"
    }
   ],
   "source": [
    "dataset.columns"
   ]
  },
  {
   "cell_type": "code",
   "execution_count": 4,
   "metadata": {
    "cell_id": "00003-e3937ce1-82f6-4a61-9139-ab84e8a9ba58",
    "deepnote_cell_type": "code",
    "deepnote_to_be_reexecuted": false,
    "execution_millis": 7,
    "execution_start": 1615422572450,
    "source_hash": "de921cf8",
    "tags": []
   },
   "outputs": [
    {
     "data": {
      "text/plain": [
       "Index(['Rk', 'Player', 'Pos', 'Age', 'Type', 'OTm', 'WS', 'NTm', 'Terms',\n",
       "       'Notes', 'end season'],\n",
       "      dtype='object')"
      ]
     },
     "execution_count": 4,
     "metadata": {},
     "output_type": "execute_result"
    }
   ],
   "source": [
    "free_agents.columns"
   ]
  },
  {
   "cell_type": "markdown",
   "metadata": {
    "cell_id": "00006-93ff3a8d-d9ac-422a-8d11-ecc826b2261b",
    "deepnote_cell_type": "markdown",
    "tags": []
   },
   "source": [
    "the goal is to merge the free agents dataset with the salary dataset from last semester. Then, we'll merge the statistics-dataset with this FA+salary dataset."
   ]
  },
  {
   "cell_type": "code",
   "execution_count": 5,
   "metadata": {
    "cell_id": "00006-ced7ffb3-520d-4c52-85e2-b98190a74c7b",
    "deepnote_cell_type": "code",
    "deepnote_to_be_reexecuted": false,
    "execution_millis": 14793,
    "execution_start": 1615422791939,
    "source_hash": "2fd233f9",
    "tags": []
   },
   "outputs": [],
   "source": [
    "full = pd.read_excel('Complete_Train_Set_With_Cap_Usage.xlsx')"
   ]
  },
  {
   "cell_type": "code",
   "execution_count": 6,
   "metadata": {
    "cell_id": "00007-abfaa79c-8c6b-4f66-aa43-c25707de23ac",
    "deepnote_cell_type": "code",
    "deepnote_to_be_reexecuted": false,
    "execution_start": 1615422847134,
    "source_hash": "f8a22dc1",
    "tags": []
   },
   "outputs": [
    {
     "data": {
      "text/plain": [
       "Index(['Unnamed: 0', 'name', 'positions', 'age', 'team_x', 'games_played',\n",
       "       'games_started', 'minutes_played', 'made_field_goals',\n",
       "       'attempted_field_goals', 'made_three_point_field_goals',\n",
       "       'attempted_three_point_field_goals', 'made_free_throws',\n",
       "       'attempted_free_throws', 'offensive_rebounds', 'defensive_rebounds',\n",
       "       'assists', 'steals', 'blocks', 'turnovers', 'personal_fouls', 'points',\n",
       "       'player_efficiency_rating', 'true_shooting_percentage',\n",
       "       'three_point_attempt_rate', 'free_throw_attempt_rate',\n",
       "       'offensive_rebound_percentage', 'defensive_rebound_percentage',\n",
       "       'total_rebound_percentage', 'assist_percentage', 'steal_percentage',\n",
       "       'block_percentage', 'turnover_percentage', 'usage_percentage',\n",
       "       'offensive_win_shares', 'defensive_win_shares', 'win_shares',\n",
       "       'win_shares_per_48_minutes', 'offensive_box_plus_minus',\n",
       "       'defensive_box_plus_minus', 'box_plus_minus',\n",
       "       'value_over_replacement_player', 'season', 'player_id', 'salary',\n",
       "       'season_end', 'season_start', 'team_y', 'key', 'salary_cap_x',\n",
       "       'salary_cap_y', 'cap_usage'],\n",
       "      dtype='object')"
      ]
     },
     "execution_count": 6,
     "metadata": {},
     "output_type": "execute_result"
    }
   ],
   "source": [
    "full.columns"
   ]
  },
  {
   "cell_type": "code",
   "execution_count": 7,
   "metadata": {
    "cell_id": "00007-0daf25fb-f22d-4e56-8df7-cce1b4d38fda",
    "deepnote_cell_type": "code",
    "deepnote_to_be_reexecuted": false,
    "execution_millis": 132,
    "execution_start": 1615422812715,
    "source_hash": "3e039c9b",
    "tags": []
   },
   "outputs": [
    {
     "data": {
      "text/html": [
       "<div>\n",
       "<style scoped>\n",
       "    .dataframe tbody tr th:only-of-type {\n",
       "        vertical-align: middle;\n",
       "    }\n",
       "\n",
       "    .dataframe tbody tr th {\n",
       "        vertical-align: top;\n",
       "    }\n",
       "\n",
       "    .dataframe thead th {\n",
       "        text-align: right;\n",
       "    }\n",
       "</style>\n",
       "<table border=\"1\" class=\"dataframe\">\n",
       "  <thead>\n",
       "    <tr style=\"text-align: right;\">\n",
       "      <th></th>\n",
       "      <th>Unnamed: 0</th>\n",
       "      <th>name</th>\n",
       "      <th>positions</th>\n",
       "      <th>age</th>\n",
       "      <th>team_x</th>\n",
       "      <th>games_played</th>\n",
       "      <th>games_started</th>\n",
       "      <th>minutes_played</th>\n",
       "      <th>made_field_goals</th>\n",
       "      <th>attempted_field_goals</th>\n",
       "      <th>...</th>\n",
       "      <th>season</th>\n",
       "      <th>player_id</th>\n",
       "      <th>salary</th>\n",
       "      <th>season_end</th>\n",
       "      <th>season_start</th>\n",
       "      <th>team_y</th>\n",
       "      <th>key</th>\n",
       "      <th>salary_cap_x</th>\n",
       "      <th>salary_cap_y</th>\n",
       "      <th>cap_usage</th>\n",
       "    </tr>\n",
       "  </thead>\n",
       "  <tbody>\n",
       "    <tr>\n",
       "      <th>0</th>\n",
       "      <td>0</td>\n",
       "      <td>Kareem Abdul-Jabbar</td>\n",
       "      <td>CENTER</td>\n",
       "      <td>37</td>\n",
       "      <td>LOS ANGELES LAKERS</td>\n",
       "      <td>79</td>\n",
       "      <td>1.000000</td>\n",
       "      <td>33.291139</td>\n",
       "      <td>9.151899</td>\n",
       "      <td>15.278481</td>\n",
       "      <td>...</td>\n",
       "      <td>1984-85</td>\n",
       "      <td>abdulka01</td>\n",
       "      <td>1530000</td>\n",
       "      <td>1985</td>\n",
       "      <td>1984</td>\n",
       "      <td>Los Angeles Lakers</td>\n",
       "      <td>Kareem Abdul-Jabbar1984-85</td>\n",
       "      <td>3600000</td>\n",
       "      <td>3600000</td>\n",
       "      <td>0.425000</td>\n",
       "    </tr>\n",
       "    <tr>\n",
       "      <th>1</th>\n",
       "      <td>1</td>\n",
       "      <td>Alvan Adams</td>\n",
       "      <td>POWER FORWARD</td>\n",
       "      <td>30</td>\n",
       "      <td>PHOENIX SUNS</td>\n",
       "      <td>82</td>\n",
       "      <td>0.841463</td>\n",
       "      <td>26.048780</td>\n",
       "      <td>5.804878</td>\n",
       "      <td>11.158537</td>\n",
       "      <td>...</td>\n",
       "      <td>1984-85</td>\n",
       "      <td>adamsal01</td>\n",
       "      <td>500000</td>\n",
       "      <td>1985</td>\n",
       "      <td>1984</td>\n",
       "      <td>Phoenix Suns</td>\n",
       "      <td>Alvan Adams1984-85</td>\n",
       "      <td>3600000</td>\n",
       "      <td>3600000</td>\n",
       "      <td>0.138889</td>\n",
       "    </tr>\n",
       "    <tr>\n",
       "      <th>2</th>\n",
       "      <td>2</td>\n",
       "      <td>Mark Aguirre</td>\n",
       "      <td>SMALL FORWARD</td>\n",
       "      <td>25</td>\n",
       "      <td>DALLAS MAVERICKS</td>\n",
       "      <td>80</td>\n",
       "      <td>0.987500</td>\n",
       "      <td>33.737500</td>\n",
       "      <td>9.925000</td>\n",
       "      <td>19.612500</td>\n",
       "      <td>...</td>\n",
       "      <td>1984-85</td>\n",
       "      <td>aguirma01</td>\n",
       "      <td>800000</td>\n",
       "      <td>1985</td>\n",
       "      <td>1984</td>\n",
       "      <td>Dallas Mavericks</td>\n",
       "      <td>Mark Aguirre1984-85</td>\n",
       "      <td>3600000</td>\n",
       "      <td>3600000</td>\n",
       "      <td>0.222222</td>\n",
       "    </tr>\n",
       "    <tr>\n",
       "      <th>3</th>\n",
       "      <td>3</td>\n",
       "      <td>Danny Ainge</td>\n",
       "      <td>SHOOTING GUARD</td>\n",
       "      <td>25</td>\n",
       "      <td>BOSTON CELTICS</td>\n",
       "      <td>75</td>\n",
       "      <td>0.973333</td>\n",
       "      <td>34.186667</td>\n",
       "      <td>5.586667</td>\n",
       "      <td>10.560000</td>\n",
       "      <td>...</td>\n",
       "      <td>1984-85</td>\n",
       "      <td>aingeda01</td>\n",
       "      <td>400000</td>\n",
       "      <td>1985</td>\n",
       "      <td>1984</td>\n",
       "      <td>Boston Celtics</td>\n",
       "      <td>Danny Ainge1984-85</td>\n",
       "      <td>3600000</td>\n",
       "      <td>3600000</td>\n",
       "      <td>0.111111</td>\n",
       "    </tr>\n",
       "    <tr>\n",
       "      <th>4</th>\n",
       "      <td>4</td>\n",
       "      <td>John Bagley</td>\n",
       "      <td>POINT GUARD</td>\n",
       "      <td>24</td>\n",
       "      <td>CLEVELAND CAVALIERS</td>\n",
       "      <td>81</td>\n",
       "      <td>0.802469</td>\n",
       "      <td>29.641975</td>\n",
       "      <td>4.172840</td>\n",
       "      <td>8.555556</td>\n",
       "      <td>...</td>\n",
       "      <td>1984-85</td>\n",
       "      <td>baglejo01</td>\n",
       "      <td>209000</td>\n",
       "      <td>1985</td>\n",
       "      <td>1984</td>\n",
       "      <td>Cleveland Cavaliers</td>\n",
       "      <td>John Bagley1984-85</td>\n",
       "      <td>3600000</td>\n",
       "      <td>3600000</td>\n",
       "      <td>0.058056</td>\n",
       "    </tr>\n",
       "  </tbody>\n",
       "</table>\n",
       "<p>5 rows × 52 columns</p>\n",
       "</div>"
      ],
      "text/plain": [
       "   Unnamed: 0                 name       positions  age               team_x  \\\n",
       "0           0  Kareem Abdul-Jabbar          CENTER   37   LOS ANGELES LAKERS   \n",
       "1           1          Alvan Adams   POWER FORWARD   30         PHOENIX SUNS   \n",
       "2           2         Mark Aguirre   SMALL FORWARD   25     DALLAS MAVERICKS   \n",
       "3           3          Danny Ainge  SHOOTING GUARD   25       BOSTON CELTICS   \n",
       "4           4          John Bagley     POINT GUARD   24  CLEVELAND CAVALIERS   \n",
       "\n",
       "   games_played  games_started  minutes_played  made_field_goals  \\\n",
       "0            79       1.000000       33.291139          9.151899   \n",
       "1            82       0.841463       26.048780          5.804878   \n",
       "2            80       0.987500       33.737500          9.925000   \n",
       "3            75       0.973333       34.186667          5.586667   \n",
       "4            81       0.802469       29.641975          4.172840   \n",
       "\n",
       "   attempted_field_goals  ...   season  player_id   salary  season_end  \\\n",
       "0              15.278481  ...  1984-85  abdulka01  1530000        1985   \n",
       "1              11.158537  ...  1984-85  adamsal01   500000        1985   \n",
       "2              19.612500  ...  1984-85  aguirma01   800000        1985   \n",
       "3              10.560000  ...  1984-85  aingeda01   400000        1985   \n",
       "4               8.555556  ...  1984-85  baglejo01   209000        1985   \n",
       "\n",
       "   season_start               team_y                         key  \\\n",
       "0          1984   Los Angeles Lakers  Kareem Abdul-Jabbar1984-85   \n",
       "1          1984         Phoenix Suns          Alvan Adams1984-85   \n",
       "2          1984     Dallas Mavericks         Mark Aguirre1984-85   \n",
       "3          1984       Boston Celtics          Danny Ainge1984-85   \n",
       "4          1984  Cleveland Cavaliers          John Bagley1984-85   \n",
       "\n",
       "   salary_cap_x  salary_cap_y  cap_usage  \n",
       "0       3600000       3600000   0.425000  \n",
       "1       3600000       3600000   0.138889  \n",
       "2       3600000       3600000   0.222222  \n",
       "3       3600000       3600000   0.111111  \n",
       "4       3600000       3600000   0.058056  \n",
       "\n",
       "[5 rows x 52 columns]"
      ]
     },
     "execution_count": 7,
     "metadata": {},
     "output_type": "execute_result"
    }
   ],
   "source": [
    "full.head()"
   ]
  },
  {
   "cell_type": "code",
   "execution_count": 8,
   "metadata": {
    "cell_id": "00009-5235c77b-2a5d-4ece-93ba-4dee726f3ab0",
    "deepnote_cell_type": "code",
    "deepnote_to_be_reexecuted": false,
    "execution_millis": 1788,
    "execution_start": 1615423024738,
    "source_hash": "e8272322",
    "tags": []
   },
   "outputs": [
    {
     "data": {
      "text/plain": [
       "(2424, 35)"
      ]
     },
     "execution_count": 8,
     "metadata": {},
     "output_type": "execute_result"
    }
   ],
   "source": [
    "impactDf = pd.read_excel(\"all_impact_metrics.xlsx\")\n",
    "impactDf.drop(columns=['Unnamed: 0'], inplace=True)\n",
    "impactDf.shape"
   ]
  },
  {
   "cell_type": "code",
   "execution_count": 9,
   "metadata": {
    "cell_id": "00008-8bceb353-bcd5-4425-970b-a5b4f1ce5c97",
    "deepnote_cell_type": "code",
    "deepnote_to_be_reexecuted": false,
    "execution_millis": 10,
    "execution_start": 1615423075111,
    "source_hash": "8a4504a4",
    "tags": []
   },
   "outputs": [],
   "source": [
    "#contains stats + salary + cap\n",
    "stats_with_impact = full.merge(impactDf, left_on = ['name', 'season'], right_on = ['Player', 'Season']).drop(['name','season'], axis = 1)"
   ]
  },
  {
   "cell_type": "code",
   "execution_count": 11,
   "metadata": {
    "cell_id": "00011-3886ea88-89b9-4b9c-b46f-df99121edeea",
    "deepnote_cell_type": "code",
    "deepnote_to_be_reexecuted": false,
    "execution_millis": 27,
    "execution_start": 1615423242561,
    "source_hash": "da86dd99",
    "tags": []
   },
   "outputs": [
    {
     "data": {
      "text/html": [
       "<div>\n",
       "<style scoped>\n",
       "    .dataframe tbody tr th:only-of-type {\n",
       "        vertical-align: middle;\n",
       "    }\n",
       "\n",
       "    .dataframe tbody tr th {\n",
       "        vertical-align: top;\n",
       "    }\n",
       "\n",
       "    .dataframe thead th {\n",
       "        text-align: right;\n",
       "    }\n",
       "</style>\n",
       "<table border=\"1\" class=\"dataframe\">\n",
       "  <thead>\n",
       "    <tr style=\"text-align: right;\">\n",
       "      <th></th>\n",
       "      <th>Unnamed: 0</th>\n",
       "      <th>positions</th>\n",
       "      <th>age</th>\n",
       "      <th>team_x</th>\n",
       "      <th>games_played</th>\n",
       "      <th>games_started</th>\n",
       "      <th>minutes_played</th>\n",
       "      <th>made_field_goals</th>\n",
       "      <th>attempted_field_goals</th>\n",
       "      <th>made_three_point_field_goals</th>\n",
       "      <th>...</th>\n",
       "      <th>RA_FTR__Def</th>\n",
       "      <th>RA_FTR__Off</th>\n",
       "      <th>RA_ORBD__Def</th>\n",
       "      <th>RA_ORBD__Off</th>\n",
       "      <th>RA_TOV__Def</th>\n",
       "      <th>RA_TOV__Off</th>\n",
       "      <th>RAPM__Def</th>\n",
       "      <th>RAPM__Off</th>\n",
       "      <th>clean_season</th>\n",
       "      <th>next_season</th>\n",
       "    </tr>\n",
       "  </thead>\n",
       "  <tbody>\n",
       "    <tr>\n",
       "      <th>0</th>\n",
       "      <td>12782</td>\n",
       "      <td>POWER FORWARD</td>\n",
       "      <td>25</td>\n",
       "      <td>SACRAMENTO KINGS</td>\n",
       "      <td>59</td>\n",
       "      <td>0.491525</td>\n",
       "      <td>14.847458</td>\n",
       "      <td>2.016949</td>\n",
       "      <td>3.627119</td>\n",
       "      <td>0.322034</td>\n",
       "      <td>...</td>\n",
       "      <td>0.02</td>\n",
       "      <td>-0.67</td>\n",
       "      <td>-0.15</td>\n",
       "      <td>0.43</td>\n",
       "      <td>0.70</td>\n",
       "      <td>-0.73</td>\n",
       "      <td>0.16</td>\n",
       "      <td>-1.15</td>\n",
       "      <td>2016</td>\n",
       "      <td>2017</td>\n",
       "    </tr>\n",
       "    <tr>\n",
       "      <th>1</th>\n",
       "      <td>12783</td>\n",
       "      <td>SHOOTING GUARD</td>\n",
       "      <td>21</td>\n",
       "      <td>MEMPHIS GRIZZLIES</td>\n",
       "      <td>2</td>\n",
       "      <td>0.000000</td>\n",
       "      <td>7.500000</td>\n",
       "      <td>1.000000</td>\n",
       "      <td>3.000000</td>\n",
       "      <td>0.000000</td>\n",
       "      <td>...</td>\n",
       "      <td>-0.04</td>\n",
       "      <td>0.09</td>\n",
       "      <td>-0.02</td>\n",
       "      <td>-0.09</td>\n",
       "      <td>0.09</td>\n",
       "      <td>0.02</td>\n",
       "      <td>0.06</td>\n",
       "      <td>0.01</td>\n",
       "      <td>2016</td>\n",
       "      <td>2017</td>\n",
       "    </tr>\n",
       "    <tr>\n",
       "      <th>2</th>\n",
       "      <td>12784</td>\n",
       "      <td>CENTER</td>\n",
       "      <td>22</td>\n",
       "      <td>OKLAHOMA CITY THUNDER</td>\n",
       "      <td>80</td>\n",
       "      <td>1.000000</td>\n",
       "      <td>25.175000</td>\n",
       "      <td>3.262500</td>\n",
       "      <td>5.325000</td>\n",
       "      <td>0.000000</td>\n",
       "      <td>...</td>\n",
       "      <td>1.16</td>\n",
       "      <td>0.01</td>\n",
       "      <td>0.75</td>\n",
       "      <td>1.23</td>\n",
       "      <td>0.13</td>\n",
       "      <td>-0.07</td>\n",
       "      <td>1.66</td>\n",
       "      <td>0.32</td>\n",
       "      <td>2016</td>\n",
       "      <td>2017</td>\n",
       "    </tr>\n",
       "    <tr>\n",
       "      <th>3</th>\n",
       "      <td>12785</td>\n",
       "      <td>SHOOTING GUARD</td>\n",
       "      <td>30</td>\n",
       "      <td>NEW YORK KNICKS</td>\n",
       "      <td>71</td>\n",
       "      <td>0.802817</td>\n",
       "      <td>33.394366</td>\n",
       "      <td>4.985915</td>\n",
       "      <td>11.253521</td>\n",
       "      <td>1.281690</td>\n",
       "      <td>...</td>\n",
       "      <td>0.68</td>\n",
       "      <td>-0.40</td>\n",
       "      <td>0.62</td>\n",
       "      <td>-0.78</td>\n",
       "      <td>-1.51</td>\n",
       "      <td>0.45</td>\n",
       "      <td>-0.41</td>\n",
       "      <td>0.19</td>\n",
       "      <td>2016</td>\n",
       "      <td>2017</td>\n",
       "    </tr>\n",
       "    <tr>\n",
       "      <th>4</th>\n",
       "      <td>12786</td>\n",
       "      <td>CENTER</td>\n",
       "      <td>27</td>\n",
       "      <td>LOS ANGELES CLIPPERS</td>\n",
       "      <td>60</td>\n",
       "      <td>0.083333</td>\n",
       "      <td>13.333333</td>\n",
       "      <td>2.233333</td>\n",
       "      <td>3.750000</td>\n",
       "      <td>0.000000</td>\n",
       "      <td>...</td>\n",
       "      <td>-0.11</td>\n",
       "      <td>-1.04</td>\n",
       "      <td>-0.50</td>\n",
       "      <td>-0.27</td>\n",
       "      <td>0.68</td>\n",
       "      <td>-0.15</td>\n",
       "      <td>0.56</td>\n",
       "      <td>-0.42</td>\n",
       "      <td>2016</td>\n",
       "      <td>2017</td>\n",
       "    </tr>\n",
       "  </tbody>\n",
       "</table>\n",
       "<p>5 rows × 86 columns</p>\n",
       "</div>"
      ],
      "text/plain": [
       "   Unnamed: 0       positions  age                 team_x  games_played  \\\n",
       "0       12782   POWER FORWARD   25       SACRAMENTO KINGS            59   \n",
       "1       12783  SHOOTING GUARD   21      MEMPHIS GRIZZLIES             2   \n",
       "2       12784          CENTER   22  OKLAHOMA CITY THUNDER            80   \n",
       "3       12785  SHOOTING GUARD   30        NEW YORK KNICKS            71   \n",
       "4       12786          CENTER   27   LOS ANGELES CLIPPERS            60   \n",
       "\n",
       "   games_started  minutes_played  made_field_goals  attempted_field_goals  \\\n",
       "0       0.491525       14.847458          2.016949               3.627119   \n",
       "1       0.000000        7.500000          1.000000               3.000000   \n",
       "2       1.000000       25.175000          3.262500               5.325000   \n",
       "3       0.802817       33.394366          4.985915              11.253521   \n",
       "4       0.083333       13.333333          2.233333               3.750000   \n",
       "\n",
       "   made_three_point_field_goals  ...  RA_FTR__Def  RA_FTR__Off  RA_ORBD__Def  \\\n",
       "0                      0.322034  ...         0.02        -0.67         -0.15   \n",
       "1                      0.000000  ...        -0.04         0.09         -0.02   \n",
       "2                      0.000000  ...         1.16         0.01          0.75   \n",
       "3                      1.281690  ...         0.68        -0.40          0.62   \n",
       "4                      0.000000  ...        -0.11        -1.04         -0.50   \n",
       "\n",
       "   RA_ORBD__Off  RA_TOV__Def  RA_TOV__Off  RAPM__Def  RAPM__Off  clean_season  \\\n",
       "0          0.43         0.70        -0.73       0.16      -1.15          2016   \n",
       "1         -0.09         0.09         0.02       0.06       0.01          2016   \n",
       "2          1.23         0.13        -0.07       1.66       0.32          2016   \n",
       "3         -0.78        -1.51         0.45      -0.41       0.19          2016   \n",
       "4         -0.27         0.68        -0.15       0.56      -0.42          2016   \n",
       "\n",
       "   next_season  \n",
       "0         2017  \n",
       "1         2017  \n",
       "2         2017  \n",
       "3         2017  \n",
       "4         2017  \n",
       "\n",
       "[5 rows x 86 columns]"
      ]
     },
     "execution_count": 11,
     "metadata": {},
     "output_type": "execute_result"
    }
   ],
   "source": [
    "stats_with_impact[\"next_season\"] = stats_with_impact[\"season_end\"] + 1\n",
    "stats_with_impact.head()"
   ]
  },
  {
   "cell_type": "code",
   "execution_count": 33,
   "metadata": {
    "cell_id": "00014-abce6148-6fee-40d6-91c2-e8e90937ffdf",
    "deepnote_cell_type": "code",
    "deepnote_to_be_reexecuted": false,
    "execution_millis": 9,
    "execution_start": 1615423322362,
    "source_hash": "c65c2ac5",
    "tags": []
   },
   "outputs": [],
   "source": [
    "#merging stats_with_impact with free_agents\n",
    "FINAL_FA_STATS_DF = free_agents.merge(stats_with_impact, left_on = ['Player', \"end season\"], right_on=[\"Player\", \"season_end\"])"
   ]
  },
  {
   "cell_type": "code",
   "execution_count": null,
   "metadata": {
    "cell_id": "00014-e3d9a00c-5d3d-4a5f-b9e8-4289604918ba",
    "deepnote_cell_type": "code",
    "tags": []
   },
   "outputs": [],
   "source": []
  },
  {
   "cell_type": "code",
   "execution_count": 38,
   "metadata": {
    "cell_id": "00014-3ad56c77-f969-4b4d-8def-97bb8b0ceea0",
    "deepnote_cell_type": "code",
    "deepnote_to_be_reexecuted": false,
    "execution_millis": 1,
    "execution_start": 1615423633553,
    "source_hash": "dbde6f0b",
    "tags": []
   },
   "outputs": [],
   "source": [
    "columns_to_drop = ['NTm', 'Terms','Notes','Unnamed: 0', 'Rk', 'team_x', 'Age_x', 'Age_y','end season', 'Team', 'Minutes', 'MPG', 'team_y']"
   ]
  },
  {
   "cell_type": "code",
   "execution_count": 40,
   "metadata": {
    "cell_id": "00016-d583e21c-50c5-4788-a2f5-ecd268931802",
    "deepnote_cell_type": "code",
    "deepnote_to_be_reexecuted": false,
    "execution_millis": 29,
    "execution_start": 1615423683330,
    "source_hash": "5fbb71f8",
    "tags": []
   },
   "outputs": [
    {
     "ename": "KeyError",
     "evalue": "\"['NTm' 'Terms' 'Notes' 'Unnamed: 0' 'Rk' 'team_x' 'Age_x' 'Age_y'\\n 'end season' 'Team' 'Minutes' 'MPG' 'team_y'] not found in axis\"",
     "output_type": "error",
     "traceback": [
      "\u001b[0;31m---------------------------------------------------------------------------\u001b[0m",
      "\u001b[0;31mKeyError\u001b[0m                                  Traceback (most recent call last)",
      "\u001b[0;32m<ipython-input-40-25bd514c0370>\u001b[0m in \u001b[0;36m<module>\u001b[0;34m\u001b[0m\n\u001b[0;32m----> 1\u001b[0;31m \u001b[0mFINAL_FA_STATS_DF\u001b[0m\u001b[0;34m.\u001b[0m\u001b[0mdrop\u001b[0m\u001b[0;34m(\u001b[0m\u001b[0mcolumns\u001b[0m\u001b[0;34m=\u001b[0m\u001b[0mcolumns_to_drop\u001b[0m\u001b[0;34m,\u001b[0m \u001b[0minplace\u001b[0m\u001b[0;34m=\u001b[0m\u001b[0;32mTrue\u001b[0m\u001b[0;34m)\u001b[0m\u001b[0;34m\u001b[0m\u001b[0;34m\u001b[0m\u001b[0m\n\u001b[0m\u001b[1;32m      2\u001b[0m \u001b[0mFINAL_FA_STATS_DF\u001b[0m\u001b[0;34m.\u001b[0m\u001b[0mcolumns\u001b[0m\u001b[0;34m[\u001b[0m\u001b[0;36m3\u001b[0m\u001b[0;34m]\u001b[0m\u001b[0;34m\u001b[0m\u001b[0;34m\u001b[0m\u001b[0m\n",
      "\u001b[0;32m/shared-libs/python3.7/py/lib/python3.7/site-packages/pandas/core/frame.py\u001b[0m in \u001b[0;36mdrop\u001b[0;34m(self, labels, axis, index, columns, level, inplace, errors)\u001b[0m\n\u001b[1;32m   4313\u001b[0m             \u001b[0mlevel\u001b[0m\u001b[0;34m=\u001b[0m\u001b[0mlevel\u001b[0m\u001b[0;34m,\u001b[0m\u001b[0;34m\u001b[0m\u001b[0;34m\u001b[0m\u001b[0m\n\u001b[1;32m   4314\u001b[0m             \u001b[0minplace\u001b[0m\u001b[0;34m=\u001b[0m\u001b[0minplace\u001b[0m\u001b[0;34m,\u001b[0m\u001b[0;34m\u001b[0m\u001b[0;34m\u001b[0m\u001b[0m\n\u001b[0;32m-> 4315\u001b[0;31m             \u001b[0merrors\u001b[0m\u001b[0;34m=\u001b[0m\u001b[0merrors\u001b[0m\u001b[0;34m,\u001b[0m\u001b[0;34m\u001b[0m\u001b[0;34m\u001b[0m\u001b[0m\n\u001b[0m\u001b[1;32m   4316\u001b[0m         )\n\u001b[1;32m   4317\u001b[0m \u001b[0;34m\u001b[0m\u001b[0m\n",
      "\u001b[0;32m/shared-libs/python3.7/py/lib/python3.7/site-packages/pandas/core/generic.py\u001b[0m in \u001b[0;36mdrop\u001b[0;34m(self, labels, axis, index, columns, level, inplace, errors)\u001b[0m\n\u001b[1;32m   4151\u001b[0m         \u001b[0;32mfor\u001b[0m \u001b[0maxis\u001b[0m\u001b[0;34m,\u001b[0m \u001b[0mlabels\u001b[0m \u001b[0;32min\u001b[0m \u001b[0maxes\u001b[0m\u001b[0;34m.\u001b[0m\u001b[0mitems\u001b[0m\u001b[0;34m(\u001b[0m\u001b[0;34m)\u001b[0m\u001b[0;34m:\u001b[0m\u001b[0;34m\u001b[0m\u001b[0;34m\u001b[0m\u001b[0m\n\u001b[1;32m   4152\u001b[0m             \u001b[0;32mif\u001b[0m \u001b[0mlabels\u001b[0m \u001b[0;32mis\u001b[0m \u001b[0;32mnot\u001b[0m \u001b[0;32mNone\u001b[0m\u001b[0;34m:\u001b[0m\u001b[0;34m\u001b[0m\u001b[0;34m\u001b[0m\u001b[0m\n\u001b[0;32m-> 4153\u001b[0;31m                 \u001b[0mobj\u001b[0m \u001b[0;34m=\u001b[0m \u001b[0mobj\u001b[0m\u001b[0;34m.\u001b[0m\u001b[0m_drop_axis\u001b[0m\u001b[0;34m(\u001b[0m\u001b[0mlabels\u001b[0m\u001b[0;34m,\u001b[0m \u001b[0maxis\u001b[0m\u001b[0;34m,\u001b[0m \u001b[0mlevel\u001b[0m\u001b[0;34m=\u001b[0m\u001b[0mlevel\u001b[0m\u001b[0;34m,\u001b[0m \u001b[0merrors\u001b[0m\u001b[0;34m=\u001b[0m\u001b[0merrors\u001b[0m\u001b[0;34m)\u001b[0m\u001b[0;34m\u001b[0m\u001b[0;34m\u001b[0m\u001b[0m\n\u001b[0m\u001b[1;32m   4154\u001b[0m \u001b[0;34m\u001b[0m\u001b[0m\n\u001b[1;32m   4155\u001b[0m         \u001b[0;32mif\u001b[0m \u001b[0minplace\u001b[0m\u001b[0;34m:\u001b[0m\u001b[0;34m\u001b[0m\u001b[0;34m\u001b[0m\u001b[0m\n",
      "\u001b[0;32m/shared-libs/python3.7/py/lib/python3.7/site-packages/pandas/core/generic.py\u001b[0m in \u001b[0;36m_drop_axis\u001b[0;34m(self, labels, axis, level, errors)\u001b[0m\n\u001b[1;32m   4186\u001b[0m                 \u001b[0mnew_axis\u001b[0m \u001b[0;34m=\u001b[0m \u001b[0maxis\u001b[0m\u001b[0;34m.\u001b[0m\u001b[0mdrop\u001b[0m\u001b[0;34m(\u001b[0m\u001b[0mlabels\u001b[0m\u001b[0;34m,\u001b[0m \u001b[0mlevel\u001b[0m\u001b[0;34m=\u001b[0m\u001b[0mlevel\u001b[0m\u001b[0;34m,\u001b[0m \u001b[0merrors\u001b[0m\u001b[0;34m=\u001b[0m\u001b[0merrors\u001b[0m\u001b[0;34m)\u001b[0m\u001b[0;34m\u001b[0m\u001b[0;34m\u001b[0m\u001b[0m\n\u001b[1;32m   4187\u001b[0m             \u001b[0;32melse\u001b[0m\u001b[0;34m:\u001b[0m\u001b[0;34m\u001b[0m\u001b[0;34m\u001b[0m\u001b[0m\n\u001b[0;32m-> 4188\u001b[0;31m                 \u001b[0mnew_axis\u001b[0m \u001b[0;34m=\u001b[0m \u001b[0maxis\u001b[0m\u001b[0;34m.\u001b[0m\u001b[0mdrop\u001b[0m\u001b[0;34m(\u001b[0m\u001b[0mlabels\u001b[0m\u001b[0;34m,\u001b[0m \u001b[0merrors\u001b[0m\u001b[0;34m=\u001b[0m\u001b[0merrors\u001b[0m\u001b[0;34m)\u001b[0m\u001b[0;34m\u001b[0m\u001b[0;34m\u001b[0m\u001b[0m\n\u001b[0m\u001b[1;32m   4189\u001b[0m             \u001b[0mresult\u001b[0m \u001b[0;34m=\u001b[0m \u001b[0mself\u001b[0m\u001b[0;34m.\u001b[0m\u001b[0mreindex\u001b[0m\u001b[0;34m(\u001b[0m\u001b[0;34m**\u001b[0m\u001b[0;34m{\u001b[0m\u001b[0maxis_name\u001b[0m\u001b[0;34m:\u001b[0m \u001b[0mnew_axis\u001b[0m\u001b[0;34m}\u001b[0m\u001b[0;34m)\u001b[0m\u001b[0;34m\u001b[0m\u001b[0;34m\u001b[0m\u001b[0m\n\u001b[1;32m   4190\u001b[0m \u001b[0;34m\u001b[0m\u001b[0m\n",
      "\u001b[0;32m/shared-libs/python3.7/py/lib/python3.7/site-packages/pandas/core/indexes/base.py\u001b[0m in \u001b[0;36mdrop\u001b[0;34m(self, labels, errors)\u001b[0m\n\u001b[1;32m   5589\u001b[0m         \u001b[0;32mif\u001b[0m \u001b[0mmask\u001b[0m\u001b[0;34m.\u001b[0m\u001b[0many\u001b[0m\u001b[0;34m(\u001b[0m\u001b[0;34m)\u001b[0m\u001b[0;34m:\u001b[0m\u001b[0;34m\u001b[0m\u001b[0;34m\u001b[0m\u001b[0m\n\u001b[1;32m   5590\u001b[0m             \u001b[0;32mif\u001b[0m \u001b[0merrors\u001b[0m \u001b[0;34m!=\u001b[0m \u001b[0;34m\"ignore\"\u001b[0m\u001b[0;34m:\u001b[0m\u001b[0;34m\u001b[0m\u001b[0;34m\u001b[0m\u001b[0m\n\u001b[0;32m-> 5591\u001b[0;31m                 \u001b[0;32mraise\u001b[0m \u001b[0mKeyError\u001b[0m\u001b[0;34m(\u001b[0m\u001b[0;34mf\"{labels[mask]} not found in axis\"\u001b[0m\u001b[0;34m)\u001b[0m\u001b[0;34m\u001b[0m\u001b[0;34m\u001b[0m\u001b[0m\n\u001b[0m\u001b[1;32m   5592\u001b[0m             \u001b[0mindexer\u001b[0m \u001b[0;34m=\u001b[0m \u001b[0mindexer\u001b[0m\u001b[0;34m[\u001b[0m\u001b[0;34m~\u001b[0m\u001b[0mmask\u001b[0m\u001b[0;34m]\u001b[0m\u001b[0;34m\u001b[0m\u001b[0;34m\u001b[0m\u001b[0m\n\u001b[1;32m   5593\u001b[0m         \u001b[0;32mreturn\u001b[0m \u001b[0mself\u001b[0m\u001b[0;34m.\u001b[0m\u001b[0mdelete\u001b[0m\u001b[0;34m(\u001b[0m\u001b[0mindexer\u001b[0m\u001b[0;34m)\u001b[0m\u001b[0;34m\u001b[0m\u001b[0;34m\u001b[0m\u001b[0m\n",
      "\u001b[0;31mKeyError\u001b[0m: \"['NTm' 'Terms' 'Notes' 'Unnamed: 0' 'Rk' 'team_x' 'Age_x' 'Age_y'\\n 'end season' 'Team' 'Minutes' 'MPG' 'team_y'] not found in axis\""
     ]
    }
   ],
   "source": [
    "FINAL_FA_STATS_DF.drop(columns=columns_to_drop, inplace=True)"
   ]
  },
  {
   "cell_type": "code",
   "execution_count": 46,
   "metadata": {
    "cell_id": "00016-3262d971-576b-4012-97f9-8f81e23adf1f",
    "deepnote_cell_type": "code",
    "deepnote_to_be_reexecuted": false,
    "execution_millis": 1,
    "execution_start": 1615423770572,
    "source_hash": "8496d53b",
    "tags": []
   },
   "outputs": [],
   "source": [
    "FINAL_FA_STATS_DF.rename(columns={\"OTm\":\"Team\"}, inplace=True)"
   ]
  },
  {
   "cell_type": "code",
   "execution_count": 50,
   "metadata": {
    "cell_id": "00017-4b2e0d65-fa56-4147-b779-43003984c8b2",
    "deepnote_cell_type": "code",
    "deepnote_to_be_reexecuted": false,
    "execution_millis": 2,
    "execution_start": 1615423809448,
    "source_hash": "78d59899",
    "tags": []
   },
   "outputs": [],
   "source": [
    "FINAL_FA_STATS_DF.drop(columns=['clean_season'], inplace=True)"
   ]
  },
  {
   "cell_type": "code",
   "execution_count": 52,
   "metadata": {
    "cell_id": "00018-60f3121e-e43e-4d36-97b7-1ba55888c487",
    "deepnote_cell_type": "code",
    "deepnote_to_be_reexecuted": false,
    "execution_millis": 3,
    "execution_start": 1615423889436,
    "source_hash": "483ab33",
    "tags": []
   },
   "outputs": [],
   "source": [
    "FINAL_FA_STATS_DF.drop(columns = [\"salary_cap_x\", \"salary_cap_y\"], inplace=True)"
   ]
  },
  {
   "cell_type": "code",
   "execution_count": 67,
   "metadata": {
    "cell_id": "00019-ba0a2c64-e2a6-43b6-87b2-4657c913267d",
    "deepnote_cell_type": "code",
    "deepnote_to_be_reexecuted": false,
    "execution_millis": 18,
    "execution_start": 1615424233135,
    "source_hash": "f23c8dc2",
    "tags": []
   },
   "outputs": [
    {
     "data": {
      "text/plain": [
       "0    78\n",
       "dtype: int64"
      ]
     },
     "execution_count": 67,
     "metadata": {},
     "output_type": "execute_result"
    }
   ],
   "source": [
    "FINAL_FA_STATS_DF.isnull().sum().value_counts()"
   ]
  },
  {
   "cell_type": "code",
   "execution_count": 65,
   "metadata": {
    "cell_id": "00020-fe70940e-6c1b-45c6-bcd2-c56f4534e7ba",
    "deepnote_cell_type": "code",
    "deepnote_to_be_reexecuted": false,
    "execution_millis": 1,
    "execution_start": 1615424196393,
    "source_hash": "a44cd966",
    "tags": []
   },
   "outputs": [],
   "source": [
    "FINAL_FA_STATS_DF.loc[FINAL_FA_STATS_DF[\"Team\"].isnull()]\n",
    "FINAL_FA_STATS_DF.drop(columns=[\"Team\"], inplace=True)"
   ]
  },
  {
   "cell_type": "code",
   "execution_count": 68,
   "metadata": {
    "cell_id": "00021-098abc49-e57e-4fa8-8eeb-f23cff06629f",
    "deepnote_cell_type": "code",
    "deepnote_to_be_reexecuted": false,
    "execution_millis": 7,
    "execution_start": 1615424258170,
    "source_hash": "135c51c6",
    "tags": []
   },
   "outputs": [
    {
     "data": {
      "text/plain": [
       "False"
      ]
     },
     "execution_count": 68,
     "metadata": {},
     "output_type": "execute_result"
    }
   ],
   "source": [
    "FINAL_FA_STATS_DF.isnull().values.any()"
   ]
  },
  {
   "cell_type": "code",
   "execution_count": 69,
   "metadata": {
    "cell_id": "00022-5f66d267-791f-4cc7-a3e1-88ac077d9b16",
    "deepnote_cell_type": "code",
    "deepnote_to_be_reexecuted": false,
    "execution_millis": 1484,
    "execution_start": 1615424278294,
    "source_hash": "22144e57",
    "tags": []
   },
   "outputs": [],
   "source": [
    "FINAL_FA_STATS_DF.to_excel(\"FA_STATS_DF.xlsx\")"
   ]
  },
  {
   "cell_type": "markdown",
   "metadata": {
    "created_in_deepnote_cell": true,
    "deepnote_cell_type": "markdown",
    "tags": []
   },
   "source": [
    "<a style='text-decoration:none;line-height:16px;display:flex;color:#5B5B62;padding:10px;justify-content:end;' href='https://deepnote.com?utm_source=created-in-deepnote-cell&projectId=b68f3b00-c35b-4bac-a12a-e3809890e0e9' target=\"_blank\">\n",
    "<img style='display:inline;max-height:16px;margin:0px;margin-right:7.5px;' src='data:image/svg+xml;base64,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' > </img>\n",
    "Created in <span style='font-weight:600;margin-left:4px;'>Deepnote</span></a>"
   ]
  }
 ],
 "metadata": {
  "deepnote": {},
  "deepnote_execution_queue": [],
  "deepnote_notebook_id": "f7d823f4-25fd-40a4-a187-83d04a4fb251",
  "kernelspec": {
   "display_name": "Python 3",
   "language": "python",
   "name": "python3"
  },
  "language_info": {
   "codemirror_mode": {
    "name": "ipython",
    "version": 3
   },
   "file_extension": ".py",
   "mimetype": "text/x-python",
   "name": "python",
   "nbconvert_exporter": "python",
   "pygments_lexer": "ipython3",
   "version": "3.8.3"
  }
 },
 "nbformat": 4,
 "nbformat_minor": 2
}
