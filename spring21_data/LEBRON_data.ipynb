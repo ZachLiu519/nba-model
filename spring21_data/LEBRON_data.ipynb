{
 "cells": [
  {
   "cell_type": "code",
   "execution_count": 1,
   "metadata": {},
   "outputs": [],
   "source": [
    "import pandas as pd\n",
    "import numpy as np"
   ]
  },
  {
   "cell_type": "code",
   "execution_count": 2,
   "metadata": {},
   "outputs": [],
   "source": [
    "xlsx = pd.ExcelFile('LEBRON_data.xlsx')"
   ]
  },
  {
   "cell_type": "code",
   "execution_count": 3,
   "metadata": {},
   "outputs": [],
   "source": [
    "data = pd.read_excel(xlsx, 'Data')"
   ]
  },
  {
   "cell_type": "code",
   "execution_count": 4,
   "metadata": {},
   "outputs": [],
   "source": [
    "data = data.dropna(subset=['bref_id'])"
   ]
  },
  {
   "cell_type": "code",
   "execution_count": 5,
   "metadata": {},
   "outputs": [
    {
     "data": {
      "text/plain": [
       "Index(['bref_id', 'Player', 'Season', 'Team', 'Offensive Archetype', 'Minutes',\n",
       "       'Games', 'Position', 'Age', 'LEBRON', 'O-LEBRON', 'D-LEBRON',\n",
       "       'Wins Added', 'MPG', 'LEBRON Rank', 'O-LEBRON Rank', 'D-LEBRON Rank',\n",
       "       'BRON Rk Year', 'Query', 'Pos True', 'Season True', 'Min True',\n",
       "       'Age True', 'Team True', 'Name Code', 'LEBRON Growth',\n",
       "       'O-LEBRON Growth', 'D-LEBRON Growth', 'Team Code'],\n",
       "      dtype='object')"
      ]
     },
     "execution_count": 5,
     "metadata": {},
     "output_type": "execute_result"
    }
   ],
   "source": [
    "data.columns"
   ]
  },
  {
   "cell_type": "code",
   "execution_count": 6,
   "metadata": {},
   "outputs": [],
   "source": [
    "data['Key'] = data['Player'] + \" \" + data['Season']"
   ]
  },
  {
   "cell_type": "code",
   "execution_count": 7,
   "metadata": {},
   "outputs": [],
   "source": [
    "data = data.loc[data['Season'] != \"2020-21\"]\n",
    "data = data.loc[data['Season'] != \"2013-14\"]\n",
    "data = data.loc[data['Season'] != \"2014-15\"]"
   ]
  },
  {
   "cell_type": "code",
   "execution_count": 8,
   "metadata": {},
   "outputs": [],
   "source": [
    "data = data[['bref_id', 'Player', 'Season', 'Team', 'Offensive Archetype', 'Minutes',\n",
    "       'Games', 'Age', 'LEBRON', 'O-LEBRON', 'D-LEBRON',\n",
    "       'Wins Added', 'Key']]"
   ]
  },
  {
   "cell_type": "code",
   "execution_count": 9,
   "metadata": {},
   "outputs": [
    {
     "data": {
      "text/plain": [
       "True"
      ]
     },
     "execution_count": 9,
     "metadata": {},
     "output_type": "execute_result"
    }
   ],
   "source": [
    "not any(data.duplicated(subset=[\"Key\"]))  ## Check for duplicate"
   ]
  },
  {
   "cell_type": "code",
   "execution_count": 10,
   "metadata": {},
   "outputs": [],
   "source": [
    "data.to_excel('LEBRON_15_20.xlsx')"
   ]
  }
 ],
 "metadata": {
  "kernelspec": {
   "display_name": "Python 3.8.2 64-bit ('DataScience': conda)",
   "language": "python",
   "name": "python38264bitdatascienceconda6647aa692cd647ca976aaa01095ed2f6"
  },
  "language_info": {
   "codemirror_mode": {
    "name": "ipython",
    "version": 3
   },
   "file_extension": ".py",
   "mimetype": "text/x-python",
   "name": "python",
   "nbconvert_exporter": "python",
   "pygments_lexer": "ipython3",
   "version": "3.8.5"
  }
 },
 "nbformat": 4,
 "nbformat_minor": 4
}
