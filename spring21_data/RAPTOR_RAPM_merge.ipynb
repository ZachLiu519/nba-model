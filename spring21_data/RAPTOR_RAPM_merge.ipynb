{
 "cells": [
  {
   "cell_type": "code",
   "execution_count": 1,
   "metadata": {},
   "outputs": [],
   "source": [
    "import pandas as pd\n",
    "import numpy as np"
   ]
  },
  {
   "cell_type": "code",
   "execution_count": 2,
   "metadata": {},
   "outputs": [],
   "source": [
    "RAPM = pd.read_csv(\"FourFactorsRAPM.csv\")\n",
    "hist_RAPT_player = pd.read_csv(\"historical_RAPTOR_by_player.csv\")\n",
    "hist_RAPT_team = pd.read_csv(\"historical_RAPTOR_by_team.csv\")\n",
    "modern_RAPT_player = pd.read_csv(\"modern_RAPTOR_by_player.csv\")\n",
    "modern_RAPT_team = pd.read_csv(\"modern_RAPTOR_by_team.csv\")"
   ]
  },
  {
   "cell_type": "code",
   "execution_count": 3,
   "metadata": {},
   "outputs": [
    {
     "data": {
      "text/plain": [
       "Index(['player_name', 'player_id', 'season', 'poss', 'mp',\n",
       "       'raptor_box_offense', 'raptor_box_defense', 'raptor_box_total',\n",
       "       'raptor_onoff_offense', 'raptor_onoff_defense', 'raptor_onoff_total',\n",
       "       'raptor_offense', 'raptor_defense', 'raptor_total', 'war_total',\n",
       "       'war_reg_season', 'war_playoffs', 'predator_offense',\n",
       "       'predator_defense', 'predator_total', 'pace_impact'],\n",
       "      dtype='object')"
      ]
     },
     "execution_count": 3,
     "metadata": {},
     "output_type": "execute_result"
    }
   ],
   "source": [
    "modern_RAPT_player.columns"
   ]
  },
  {
   "cell_type": "code",
   "execution_count": 4,
   "metadata": {},
   "outputs": [
    {
     "data": {
      "text/plain": [
       "Index(['player_name', 'player_id', 'season', 'poss', 'mp', 'raptor_offense',\n",
       "       'raptor_defense', 'raptor_total', 'war_total', 'war_reg_season',\n",
       "       'war_playoffs', 'predator_offense', 'predator_defense',\n",
       "       'predator_total', 'pace_impact'],\n",
       "      dtype='object')"
      ]
     },
     "execution_count": 4,
     "metadata": {},
     "output_type": "execute_result"
    }
   ],
   "source": [
    "hist_RAPT_player.columns"
   ]
  },
  {
   "cell_type": "code",
   "execution_count": 5,
   "metadata": {},
   "outputs": [
    {
     "name": "stdout",
     "output_type": "stream",
     "text": [
      "raptor_box_offense\n",
      "raptor_box_defense\n",
      "raptor_box_total\n",
      "raptor_onoff_offense\n",
      "raptor_onoff_defense\n",
      "raptor_onoff_total\n"
     ]
    }
   ],
   "source": [
    "#checks if columns in modern_RAPT match with hist_RAPT\n",
    "for column in modern_RAPT_player.columns.values:\n",
    "    if column not in hist_RAPT_player.columns.values:\n",
    "        print(column)"
   ]
  },
  {
   "cell_type": "code",
   "execution_count": 6,
   "metadata": {},
   "outputs": [],
   "source": [
    "modern_RAPT_player.drop(columns=['raptor_box_offense',\n",
    "'raptor_box_defense',\n",
    "'raptor_box_total',\n",
    "'raptor_onoff_offense',\n",
    "'raptor_onoff_defense',\n",
    "'raptor_onoff_total'], inplace=True)"
   ]
  },
  {
   "cell_type": "code",
   "execution_count": 7,
   "metadata": {},
   "outputs": [],
   "source": [
    "#nothing should print here because the columns should be the same in both dfs\n",
    "for column in modern_RAPT_player.columns.values:\n",
    "    if column not in hist_RAPT_player.columns.values:\n",
    "        print(column)"
   ]
  },
  {
   "cell_type": "code",
   "execution_count": 8,
   "metadata": {},
   "outputs": [],
   "source": [
    "#we decided to just use historial RAPTOR because modern includes other junk stats that we don't need\n",
    "\"\"\"all_RAPTOR = pd.concat([modern_RAPT_player, hist_RAPT_player])\n",
    "all_RAPTOR.dropna(inplace=True)\n",
    "all_RAPTOR.drop_duplicates(inplace=True)\n",
    "all_RAPTOR.to_csv(\"all_RAPTOR.csv\")\"\"\""
   ]
  },
  {
   "cell_type": "code",
   "execution_count": 38,
   "metadata": {},
   "outputs": [],
   "source": [
    "RAPM['clean_season'] = RAPM[\"season\"].apply(lambda season:  int(season[:4]) + 1)"
   ]
  },
  {
   "cell_type": "code",
   "execution_count": null,
   "metadata": {},
   "outputs": [],
   "source": [
    "#merging hist_RAPT_player with RAPM\n",
    "#keys are 1. player_name 2. season (end_year only)\n",
    "RAPTOR_RAPM = hist_RAPT_player.merge(RAPM, left_on=['player_name', 'season'], right_on=['playerName', 'clean_season'])"
   ]
  },
  {
   "cell_type": "code",
   "execution_count": 45,
   "metadata": {},
   "outputs": [],
   "source": [
    "RAPTOR_RAPM.drop(columns=['teamName'], inplace=True)"
   ]
  },
  {
   "cell_type": "code",
   "execution_count": 47,
   "metadata": {},
   "outputs": [],
   "source": [
    "RAPTOR_RAPM.to_excel(\"RAPTOR_with_RAPM.xlsx\")"
   ]
  },
  {
   "cell_type": "code",
   "execution_count": null,
   "metadata": {},
   "outputs": [],
   "source": []
  }
 ],
 "metadata": {
  "kernelspec": {
   "display_name": "Python 3",
   "language": "python",
   "name": "python3"
  },
  "language_info": {
   "codemirror_mode": {
    "name": "ipython",
    "version": 3
   },
   "file_extension": ".py",
   "mimetype": "text/x-python",
   "name": "python",
   "nbconvert_exporter": "python",
   "pygments_lexer": "ipython3",
   "version": "3.7.9"
  }
 },
 "nbformat": 4,
 "nbformat_minor": 4
}
