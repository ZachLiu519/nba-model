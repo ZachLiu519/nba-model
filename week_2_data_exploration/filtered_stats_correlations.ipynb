{
 "cells": [
  {
   "cell_type": "code",
   "execution_count": 1,
   "metadata": {},
   "outputs": [],
   "source": [
    "import warnings\n",
    "warnings.simplefilter(action='ignore', category=FutureWarning)\n",
    "import numpy as np\n",
    "import matplotlib.pyplot as plt\n",
    "import seaborn as sns\n",
    "import re\n",
    "import pandas as pd"
   ]
  },
  {
   "cell_type": "code",
   "execution_count": 2,
   "metadata": {},
   "outputs": [],
   "source": [
    "pd.set_option('display.max_rows', 150)\n",
    "pd.set_option('display.max_columns', 50)"
   ]
  },
  {
   "cell_type": "code",
   "execution_count": 3,
   "metadata": {},
   "outputs": [],
   "source": [
    "salary_file = pd.ExcelFile('../contract_data/salaries_1985to2020_final.xlsx')\n",
    "salaries = pd.read_excel(salary_file, 0)\n",
    "players_info = pd.read_excel(salary_file, 1)"
   ]
  },
  {
   "cell_type": "code",
   "execution_count": 4,
   "metadata": {},
   "outputs": [],
   "source": [
    "### add years of the contract\n",
    "years = list(salaries.groupby('player_id').apply(lambda x: [i for i in range(1, len(x)+1)]))\n",
    "flatten = lambda l: [item for sublist in l for item in sublist]\n",
    "salaries['years'] = flatten(years)"
   ]
  },
  {
   "cell_type": "code",
   "execution_count": 5,
   "metadata": {},
   "outputs": [],
   "source": [
    "salaries_98_20 = salaries.loc[salaries['season_end'] >= 1999]\n",
    "unique_ids = list(pd.unique(salaries_98_20['player_id']))\n",
    "filtered_players_info = players_info.loc[[True if pid in unique_ids else False for pid in players_info['_id']]]"
   ]
  },
  {
   "cell_type": "code",
   "execution_count": 6,
   "metadata": {},
   "outputs": [],
   "source": [
    "# Deal with rookie contracts of first round picks and second round picks\n",
    "# separately. \n",
    "first_round_picks = filtered_players_info.loc[filtered_players_info['draft_round'] == '1st round']\n",
    "second_round_picks = filtered_players_info.loc[filtered_players_info['draft_round'] == '2nd round']"
   ]
  },
  {
   "cell_type": "code",
   "execution_count": 7,
   "metadata": {},
   "outputs": [],
   "source": [
    "salaries_first_round = salaries_98_20.loc[[True if pid in list(first_round_picks['_id']) else False for pid in salaries_98_20['player_id']]].drop(columns=['team'])\n",
    "# Drop entries with 'years' being 4 or less\n",
    "# Prior to 2011 CBA, first round rookie contract is a 3+1 contract with the fourth year being team option\n",
    "# After 2011 CBA, first round rookie contract is a 2+2 contract with both the 3rd and 4th year being team options\n",
    "# Dropping values will potentially over-dropping some datapoints\n",
    "salaries_first_round = salaries_first_round.loc[salaries_first_round['years'] > 4]\n",
    "\n",
    "salaries_second_round = salaries_98_20.loc[[True if pid in list(second_round_picks['_id']) else False for pid in salaries_98_20['player_id']]].drop(columns=['team'])\n",
    "# Drop entries with 'years' being 3 or less\n",
    "salaries_second_round = salaries_second_round.loc[salaries_second_round['years'] > 3]"
   ]
  },
  {
   "cell_type": "code",
   "execution_count": 8,
   "metadata": {},
   "outputs": [],
   "source": [
    "# Following part is for fixing data in all stats"
   ]
  },
  {
   "cell_type": "code",
   "execution_count": 9,
   "metadata": {},
   "outputs": [],
   "source": [
    "stats = pd.read_excel('../season_data/advanced_stats/FINAL_ADVANCED_STATS/all_seasons_advanced_stats.xlsx')"
   ]
  },
  {
   "cell_type": "code",
   "execution_count": 10,
   "metadata": {},
   "outputs": [],
   "source": [
    "stats['error_in_name'] = stats['Year'].apply(lambda x: x is np.nan)\n",
    "stats_need_fix = stats.loc[stats['error_in_name'] == True]"
   ]
  },
  {
   "cell_type": "code",
   "execution_count": 11,
   "metadata": {
    "scrolled": true
   },
   "outputs": [],
   "source": [
    "stats_need_fix['Year'] = '2019-20'\n",
    "name = stats_need_fix['name'].apply(lambda x: re.sub(r\"\\\\.+\", \"\", x))\n",
    "slug = stats_need_fix['name'].apply(lambda x: re.sub(r\".+\\\\\", \"\", x))\n",
    "stats_need_fix['name'], stats_need_fix['slug'] = name, slug"
   ]
  },
  {
   "cell_type": "code",
   "execution_count": 12,
   "metadata": {},
   "outputs": [],
   "source": [
    "stats = stats.loc[stats['error_in_name'] == False].append(stats_need_fix).drop(columns=['error_in_name'])"
   ]
  },
  {
   "cell_type": "code",
   "execution_count": 13,
   "metadata": {},
   "outputs": [],
   "source": [
    "# Create a primary key in two salaries table for joins\n",
    "salaries_first_round['key'] = salaries_first_round['player_id'] + \" \" + salaries_first_round['season']\n",
    "salaries_second_round['key'] = salaries_second_round['player_id'] + \" \" + salaries_second_round['season']\n",
    "stats['key'] = stats['slug'] + \" \" + stats['Year']"
   ]
  },
  {
   "cell_type": "code",
   "execution_count": 14,
   "metadata": {},
   "outputs": [],
   "source": [
    "salaries_stats_first_round = salaries_first_round.join(stats.set_index('key'), on='key', how='left').dropna()\n",
    "salaries_stats_second_round = salaries_second_round.join(stats.set_index('key'), on='key', how='left').dropna()"
   ]
  },
  {
   "cell_type": "code",
   "execution_count": 15,
   "metadata": {},
   "outputs": [],
   "source": [
    "first_round_counts = salaries_stats_first_round[['names', 'key']].groupby('key').count()\n",
    "second_round_counts = salaries_stats_second_round[['names', 'key']].groupby('key').count()\n",
    "not_traded_mid_season_first_round = list(first_round_counts.loc[first_round_counts['names'] == 1].index)\n",
    "not_traded_mid_season_second_round = list(second_round_counts.loc[second_round_counts['names'] == 1].index)"
   ]
  },
  {
   "cell_type": "code",
   "execution_count": 16,
   "metadata": {},
   "outputs": [],
   "source": [
    "salary_caps_file = pd.ExcelFile('salary_caps.xlsx')\n",
    "salary_caps = pd.read_excel(salary_caps_file, 0)\n",
    "salary_caps = salary_caps.drop(columns=salary_caps.columns[0])\n",
    "salary_caps_99_20 = salary_caps.set_index('season').loc[np.unique(salaries_stats_first_round['season'])]"
   ]
  },
  {
   "cell_type": "code",
   "execution_count": 17,
   "metadata": {},
   "outputs": [],
   "source": [
    "salaries_stats_first_round = salaries_stats_first_round.join(salary_caps_99_20, on='season', how='left')\n",
    "salaries_stats_first_round = salaries_stats_first_round[salaries_stats_first_round['name'].notna()]\n",
    "salaries_stats_second_round = salaries_stats_second_round.join(salary_caps_99_20, on='season', how='left')\n",
    "salaries_stats_second_round = salaries_stats_second_round[salaries_stats_second_round['name'].notna()]"
   ]
  },
  {
   "cell_type": "code",
   "execution_count": 18,
   "metadata": {},
   "outputs": [],
   "source": [
    "salaries_stats_first_round['cap_space_usage'] = salaries_stats_first_round['salary'] / salaries_stats_first_round['salary_cap']\n",
    "salaries_stats_second_round['cap_space_usage'] = salaries_stats_second_round['salary'] / salaries_stats_second_round['salary_cap']\n",
    "salaries_stats_first_round['minutes_per_game'] = salaries_stats_first_round['minutes_played'] / salaries_stats_first_round['games_played']\n",
    "salaries_stats_second_round['minutes_per_game'] = salaries_stats_second_round['minutes_played'] / salaries_stats_second_round['games_played']\n",
    "salaries_stats_first_round['ast/tov_percentage'] = salaries_stats_first_round['assist_percentage'] / salaries_stats_first_round['turnover_percentage']\n",
    "salaries_stats_second_round['ast/tov_percentage'] = salaries_stats_second_round['assist_percentage'] / salaries_stats_second_round['turnover_percentage']\n",
    "salaries_stats_first_round['true_shooting*usage'] = salaries_stats_first_round['true_shooting_percentage'] * salaries_stats_first_round['usage_percentage']\n",
    "salaries_stats_second_round['true_shooting*usage'] = salaries_stats_second_round['true_shooting_percentage'] * salaries_stats_second_round['usage_percentage']"
   ]
  },
  {
   "cell_type": "code",
   "execution_count": 19,
   "metadata": {},
   "outputs": [],
   "source": [
    "salaries_stats_first_round['ast/tov_percentage'] = salaries_stats_first_round['ast/tov_percentage'].replace([0, np.inf], np.nan)\n",
    "salaries_stats_second_round['ast/tov_percentage'] = salaries_stats_second_round['ast/tov_percentage'].replace([0, np.inf], np.nan)\n",
    "salaries_stats_first_round['true_shooting*usage'] = salaries_stats_first_round['true_shooting*usage'].replace([0], np.nan)\n",
    "salaries_stats_second_round['true_shooting*usage'] = salaries_stats_second_round['true_shooting*usage'].replace([0], np.nan)"
   ]
  },
  {
   "cell_type": "code",
   "execution_count": 20,
   "metadata": {},
   "outputs": [],
   "source": [
    "salaries_stats_first_round = salaries_stats_first_round.drop(columns=['names', 'player_id', 'season', 'season_end',\n",
    "                                        'season_start', 'years', 'name', 'team',\n",
    "                                        'slug', 'is_combined_totals', 'Year', 'salary', 'salary_cap'])\n",
    "salaries_stats_second_round = salaries_stats_second_round.drop(columns=['names', 'player_id', 'season', 'season_end',\n",
    "                                        'season_start', 'years', 'name', 'team',\n",
    "                                        'slug', 'is_combined_totals', 'Year', 'salary', 'salary_cap'])\n",
    "salaries_stats_first_round = salaries_stats_first_round.loc[salaries_stats_first_round['minutes_played'] >= 700]\n",
    "salaries_stats_second_round = salaries_stats_second_round.loc[salaries_stats_second_round['minutes_played'] >= 700]"
   ]
  },
  {
   "cell_type": "code",
   "execution_count": 21,
   "metadata": {},
   "outputs": [
    {
     "data": {
      "text/plain": [
       "Index(['key', 'positions', 'age', 'games_played', 'minutes_played',\n",
       "       'player_efficiency_rating', 'true_shooting_percentage',\n",
       "       'three_point_attempt_rate', 'free_throw_attempt_rate',\n",
       "       'offensive_rebound_percentage', 'defensive_rebound_percentage',\n",
       "       'total_rebound_percentage', 'assist_percentage', 'steal_percentage',\n",
       "       'block_percentage', 'turnover_percentage', 'usage_percentage',\n",
       "       'offensive_win_shares', 'defensive_win_shares', 'win_shares',\n",
       "       'win_shares_per_48_minutes', 'offensive_box_plus_minus',\n",
       "       'defensive_box_plus_minus', 'box_plus_minus',\n",
       "       'value_over_replacement_player', 'cap_space_usage', 'minutes_per_game',\n",
       "       'ast/tov_percentage', 'true_shooting*usage'],\n",
       "      dtype='object')"
      ]
     },
     "execution_count": 21,
     "metadata": {},
     "output_type": "execute_result"
    }
   ],
   "source": [
    "salaries_stats_first_round.columns"
   ]
  },
  {
   "cell_type": "code",
   "execution_count": 22,
   "metadata": {},
   "outputs": [],
   "source": [
    "pg_first_round = salaries_stats_first_round.loc[salaries_stats_first_round['positions'] == \"POINT GUARD\"].dropna()\n",
    "sg_first_round = salaries_stats_first_round.loc[salaries_stats_first_round['positions'] == \"SHOOTING GUARD\"].dropna()\n",
    "sf_first_round = salaries_stats_first_round.loc[salaries_stats_first_round['positions'] == \"SMALL FORWARD\"].dropna()\n",
    "pf_first_round = salaries_stats_first_round.loc[salaries_stats_first_round['positions'] == \"POWER FORWARD\"].dropna()\n",
    "c_first_round = salaries_stats_first_round.loc[salaries_stats_first_round['positions'] == \"CENTER\"].dropna()"
   ]
  },
  {
   "cell_type": "code",
   "execution_count": 23,
   "metadata": {},
   "outputs": [],
   "source": [
    "pg_second_round = salaries_stats_second_round.loc[salaries_stats_second_round['positions'] == \"POINT GUARD\"].dropna()\n",
    "sg_second_round = salaries_stats_second_round.loc[salaries_stats_second_round['positions'] == \"SHOOTING GUARD\"].dropna()\n",
    "sf_second_round = salaries_stats_second_round.loc[salaries_stats_second_round['positions'] == \"SMALL FORWARD\"].dropna()\n",
    "pf_second_round = salaries_stats_second_round.loc[salaries_stats_second_round['positions'] == \"POWER FORWARD\"].dropna()\n",
    "c_second_round = salaries_stats_second_round.loc[salaries_stats_second_round['positions'] == \"CENTER\"].dropna()"
   ]
  },
  {
   "cell_type": "code",
   "execution_count": 37,
   "metadata": {},
   "outputs": [],
   "source": [
    "def find_percentile_for_feature(data, feature, percentile, position):\n",
    "    return np.percentile(data.loc[(data['positions'] == position) & (data['minutes_played'] >= 700)][feature], percentile)"
   ]
  },
  {
   "cell_type": "code",
   "execution_count": 35,
   "metadata": {},
   "outputs": [],
   "source": [
    "types = ['total_rebound_percentage',\n",
    "        'assist_percentage',\n",
    "        'three_point_attempt_rate',\n",
    "        'block_percentage',\n",
    "        'defensive_box_plus_minus',\n",
    "        'steal_percentage']"
   ]
  },
  {
   "cell_type": "code",
   "execution_count": 41,
   "metadata": {},
   "outputs": [],
   "source": [
    "def archtype_rewards_punishments(dataset, data, upper_p, lower_p, archtypes):\n",
    "    # data: a Series containing data of a player\n",
    "    # upper_p: upper percentile for specific statline\n",
    "    # lower_p: lower percentile for specific statline\n",
    "    # types: archtypes\n",
    "    # return a list of weights\n",
    "    pos = data.positions\n",
    "    weights = []\n",
    "    position_data = dataset.loc[dataset['positions'] == pos]\n",
    "    cap_usage_mean = position_data['cap_space_usage'].mean()\n",
    "    \n",
    "    for archtype in archtypes:\n",
    "        upper_value = find_percentile_for_feature(dataset, archtype, upper_p, pos)\n",
    "        lower_value = find_percentile_for_feature(dataset, archtype, lower_p, pos)\n",
    "        if data[archtype] >= upper_value:\n",
    "            upper_mean = position_data.loc[position_data[archtype] >= upper_value]['cap_space_usage'].mean()\n",
    "            weights.append(upper_mean - cap_usage_mean)\n",
    "        elif data[archtype] <= lower_value:\n",
    "            lower_mean = position_data.loc[position_data[archtype] <= lower_value]['cap_space_usage'].mean()\n",
    "            weights.append(cap_usage_mean - lower_mean)\n",
    "        else:\n",
    "            weights.append(0)\n",
    "                \n",
    "    return weights"
   ]
  },
  {
   "cell_type": "code",
   "execution_count": 49,
   "metadata": {},
   "outputs": [
    {
     "data": {
      "text/plain": [
       "key                              stackje01 2001-02\n",
       "positions                            SMALL FORWARD\n",
       "age                                             27\n",
       "games_played                                    76\n",
       "minutes_played                                2685\n",
       "player_efficiency_rating                        19\n",
       "true_shooting_percentage                     0.518\n",
       "three_point_attempt_rate                     0.227\n",
       "free_throw_attempt_rate                      0.437\n",
       "offensive_rebound_percentage                   3.4\n",
       "defensive_rebound_percentage                  10.4\n",
       "total_rebound_percentage                       6.9\n",
       "assist_percentage                             28.4\n",
       "steal_percentage                               1.5\n",
       "block_percentage                                 1\n",
       "turnover_percentage                           14.5\n",
       "usage_percentage                              32.3\n",
       "offensive_win_shares                           3.2\n",
       "defensive_win_shares                           2.6\n",
       "win_shares                                     5.8\n",
       "win_shares_per_48_minutes                    0.104\n",
       "offensive_box_plus_minus                       2.7\n",
       "defensive_box_plus_minus                      -1.2\n",
       "box_plus_minus                                 1.5\n",
       "value_over_replacement_player                  2.4\n",
       "cap_space_usage                             0.1375\n",
       "minutes_per_game                           35.3289\n",
       "ast/tov_percentage                         1.95862\n",
       "true_shooting*usage                        16.7314\n",
       "Name: 12806, dtype: object"
      ]
     },
     "execution_count": 49,
     "metadata": {},
     "output_type": "execute_result"
    }
   ],
   "source": [
    "salaries_stats_first_round.iloc[2365]"
   ]
  },
  {
   "cell_type": "code",
   "execution_count": 50,
   "metadata": {},
   "outputs": [
    {
     "data": {
      "text/plain": [
       "[0, 0.08306775350082735, 0, 0, -0.023521342410948748, 0]"
      ]
     },
     "execution_count": 50,
     "metadata": {},
     "output_type": "execute_result"
    }
   ],
   "source": [
    "player = salaries_stats_first_round.iloc[2365]\n",
    "archtype_rewards_punishments(salaries_stats_first_round,\n",
    "                            player,\n",
    "                            85, 15, types)"
   ]
  },
  {
   "cell_type": "code",
   "execution_count": 57,
   "metadata": {},
   "outputs": [
    {
     "name": "stdout",
     "output_type": "stream",
     "text": [
      "1.3\n"
     ]
    },
    {
     "data": {
      "text/plain": [
       "0.20366632897256312"
      ]
     },
     "execution_count": 57,
     "metadata": {},
     "output_type": "execute_result"
    },
    {
     "data": {
      "image/png": "[encoded data removed]",
      "text/plain": [
       "<Figure size 432x288 with 1 Axes>"
      ]
     },
     "metadata": {
      "needs_background": "light"
     },
     "output_type": "display_data"
    }
   ],
   "source": [
    "# Example 1\n",
    "sns.distplot(salaries_stats_first_round.loc[(salaries_stats_first_round['positions'] == \"CENTER\") & (salaries_stats_first_round['minutes_played'] >= 700)]['offensive_box_plus_minus'], bins=np.arange(0, 1, 0.1))\n",
    "p = find_percentile_for_feature(salaries_stats_first_round, \n",
    "                                 'offensive_box_plus_minus', 80, 'CENTER')\n",
    "print(p)\n",
    "c = salaries_stats_first_round.loc[(salaries_stats_first_round['positions'] == \"CENTER\") & \n",
    "                               (salaries_stats_first_round['minutes_played'] >= 700) & \n",
    "                               (salaries_stats_first_round['offensive_box_plus_minus'] >= p) &\n",
    "                                (salaries_stats_first_round['cap_space_usage'] <= 0.3)]\n",
    "c['cap_space_usage'].mean()"
   ]
  },
  {
   "cell_type": "code",
   "execution_count": 63,
   "metadata": {
    "scrolled": false
   },
   "outputs": [
    {
     "name": "stdout",
     "output_type": "stream",
     "text": [
      "0.1678\n"
     ]
    },
    {
     "data": {
      "text/plain": [
       "0.1420170617566977"
      ]
     },
     "execution_count": 63,
     "metadata": {},
     "output_type": "execute_result"
    },
    {
     "data": {
      "image/png": "[encoded data removed]",
      "text/plain": [
       "<Figure size 432x288 with 1 Axes>"
      ]
     },
     "metadata": {
      "needs_background": "light"
     },
     "output_type": "display_data"
    }
   ],
   "source": [
    "# Example 2\n",
    "sns.distplot(salaries_stats_first_round.loc[(salaries_stats_first_round['positions'] == \"SHOOTING GUARD\") &\n",
    "                                                (salaries_stats_first_round['minutes_played'] >= 700)]['three_point_attempt_rate'],\n",
    "                                                 bins=np.arange(0, 1, 0.1))\n",
    "p = find_percentile_for_feature(salaries_stats_first_round, \n",
    "                                 'three_point_attempt_rate', 15, 'SHOOTING GUARD')\n",
    "print(p)\n",
    "sg = salaries_stats_first_round.loc[(salaries_stats_first_round['positions'] == \"SHOOTING GUARD\") & \n",
    "                               (salaries_stats_first_round['minutes_played'] >= 700) & \n",
    "                               (salaries_stats_first_round['three_point_attempt_rate'] <= p)]\n",
    "sg['cap_space_usage'].mean()"
   ]
  },
  {
   "cell_type": "code",
   "execution_count": 64,
   "metadata": {},
   "outputs": [
    {
     "name": "stdout",
     "output_type": "stream",
     "text": [
      "0.126\n"
     ]
    },
    {
     "data": {
      "text/plain": [
       "0.128253101373178"
      ]
     },
     "execution_count": 64,
     "metadata": {},
     "output_type": "execute_result"
    },
    {
     "data": {
      "image/png": "[encoded data removed]",
      "text/plain": [
       "<Figure size 432x288 with 1 Axes>"
      ]
     },
     "metadata": {
      "needs_background": "light"
     },
     "output_type": "display_data"
    }
   ],
   "source": [
    "# Example 3\n",
    "pos = 'SMALL FORWARD'\n",
    "\n",
    "sns.distplot(salaries_stats_first_round.loc[(salaries_stats_first_round['positions'] == pos) &\n",
    "                                                (salaries_stats_first_round['minutes_played'] >= 700)]['three_point_attempt_rate'],\n",
    "                                                 bins=np.arange(0, 1, 0.1))\n",
    "p = find_percentile_for_feature(salaries_stats_first_round, \n",
    "                                 'three_point_attempt_rate', 15, pos)\n",
    "print(p)\n",
    "sf = salaries_stats_first_round.loc[(salaries_stats_first_round['positions'] == pos) & \n",
    "                               (salaries_stats_first_round['minutes_played'] >= 700) & \n",
    "                               (salaries_stats_first_round['three_point_attempt_rate'] <= p)]\n",
    "sf['cap_space_usage'].mean()"
   ]
  },
  {
   "cell_type": "code",
   "execution_count": 46,
   "metadata": {},
   "outputs": [
    {
     "name": "stdout",
     "output_type": "stream",
     "text": [
      "22.8\n"
     ]
    },
    {
     "data": {
      "text/plain": [
       "<AxesSubplot:xlabel='cap_space_usage'>"
      ]
     },
     "execution_count": 46,
     "metadata": {},
     "output_type": "execute_result"
    },
    {
     "data": {
      "image/png": "[encoded data removed]",
      "text/plain": [
       "<Figure size 432x288 with 1 Axes>"
      ]
     },
     "metadata": {
      "needs_background": "light"
     },
     "output_type": "display_data"
    }
   ],
   "source": [
    "# Example 4\n",
    "\n",
    "p = find_percentile_for_feature(salaries_stats_first_round, \n",
    "                                 'defensive_rebound_percentage', 80, 'POWER FORWARD')\n",
    "print(p)\n",
    "pf = salaries_stats_first_round.loc[(salaries_stats_first_round['positions'] == \"POWER FORWARD\") & \n",
    "                               (salaries_stats_first_round['minutes_played'] >= 700) & \n",
    "                               (salaries_stats_first_round['defensive_rebound_percentage'] >= p)]\n",
    "sns.distplot(pf['cap_space_usage'], bins=np.arange(0, 1, 0.1))"
   ]
  },
  {
   "cell_type": "code",
   "execution_count": 66,
   "metadata": {},
   "outputs": [
    {
     "name": "stdout",
     "output_type": "stream",
     "text": [
      "2.5600000000000023\n"
     ]
    },
    {
     "data": {
      "text/plain": [
       "0.1769962435425184"
      ]
     },
     "execution_count": 66,
     "metadata": {},
     "output_type": "execute_result"
    },
    {
     "data": {
      "image/png": "[encoded data removed]",
      "text/plain": [
       "<Figure size 432x288 with 1 Axes>"
      ]
     },
     "metadata": {
      "needs_background": "light"
     },
     "output_type": "display_data"
    }
   ],
   "source": [
    "# Example 4\n",
    "\n",
    "p = find_percentile_for_feature(salaries_stats_first_round, \n",
    "                                 'steal_percentage', 80, 'POINT GUARD')\n",
    "print(p)\n",
    "pg = salaries_stats_first_round.loc[(salaries_stats_first_round['positions'] == 'POINT GUARD') & \n",
    "                               (salaries_stats_first_round['minutes_played'] >= 700) & \n",
    "                               (salaries_stats_first_round['steal_percentage'] >= p)]\n",
    "sns.distplot(pg['cap_space_usage'], bins=np.arange(0, 1, 0.1))\n",
    "pg['cap_space_usage'].mean()"
   ]
  },
  {
   "cell_type": "code",
   "execution_count": 24,
   "metadata": {},
   "outputs": [],
   "source": [
    "def standardize(df, column):\n",
    "    series = []\n",
    "    for i in df[column]:\n",
    "        series.append((i - df[column].mean())/df[column].std())\n",
    "    return series\n",
    "\n",
    "def correlation(df, column_1, column_2):\n",
    "    return np.mean(df[column_1] * df[column_2])\n",
    "\n",
    "def scatter_and_correlation(df, column_1, column_2, ax, order):\n",
    "    copy = df.copy()\n",
    "    copy[column_1 + \"_standard\"] = standardize(df, column_1)\n",
    "    copy[column_2 + \"_standard\"] = standardize(df, column_2)\n",
    "    copy.plot.scatter(x = column_1 + \"_standard\", y = column_2 + '_standard', ax=ax[order])\n",
    "    return correlation(copy, column_1 + '_standard', column_2 + '_standard')"
   ]
  },
  {
   "cell_type": "code",
   "execution_count": 25,
   "metadata": {},
   "outputs": [],
   "source": [
    "def side_by_side_correlation(filtered_data, unfiltered_data, feature):\n",
    "    fig, ax = plt.subplots(1,2,figsize=(10, 5))\n",
    "    corr_filtered = scatter_and_correlation(filtered_data, feature, 'cap_space_usage', ax, 0)\n",
    "    corr_unfiltered = scatter_and_correlation(unfiltered_data, feature, 'cap_space_usage', ax, 1)\n",
    "    return (corr_filtered, corr_unfiltered, feature)"
   ]
  },
  {
   "cell_type": "code",
   "execution_count": null,
   "metadata": {},
   "outputs": [],
   "source": [
    "# Blocks below are for visualizations of unified 6 features\n",
    "\n",
    "# No need to run them"
   ]
  },
  {
   "cell_type": "code",
   "execution_count": null,
   "metadata": {},
   "outputs": [],
   "source": [
    "features = ['player_efficiency_rating',\n",
    "              'ast/tov_percentage', 'true_shooting*usage', 'offensive_box_plus_minus', 'value_over_replacement_player', 'win_shares']"
   ]
  },
  {
   "cell_type": "code",
   "execution_count": null,
   "metadata": {},
   "outputs": [],
   "source": [
    "correlations = {\"C\":{}, \"PF\":{}, \"SF\":{}, \"SG\":{}, \"PG\":{}}"
   ]
  },
  {
   "cell_type": "code",
   "execution_count": null,
   "metadata": {},
   "outputs": [],
   "source": [
    "for feature in features:\n",
    "    filtered, unfiltered, feature = side_by_side_correlation(c_first_round.loc[c_first_round[\"minutes_played\"] >= 700], c_first_round, feature)\n",
    "    print(filtered, unfiltered, feature)\n",
    "    correlations[\"C\"][feature] = filtered\n",
    "    \n",
    "for feature in features:\n",
    "    filtered, unfiltered, feature = side_by_side_correlation(pf_first_round.loc[pf_first_round[\"minutes_played\"] >= 700], pf_first_round, feature)\n",
    "    correlations[\"PF\"][feature] = filtered\n",
    "    \n",
    "for feature in features:\n",
    "    filtered, unfiltered, feature = side_by_side_correlation(sf_first_round.loc[sf_first_round[\"minutes_played\"] >= 700], sf_first_round, feature)\n",
    "    correlations[\"SF\"][feature] = filtered\n",
    "    \n",
    "for feature in features:\n",
    "    filtered, unfiltered, feature = side_by_side_correlation(sg_first_round.loc[sg_first_round[\"minutes_played\"] >= 700], sg_first_round, feature)\n",
    "    print(filtered, unfiltered, feature)\n",
    "    correlations[\"SG\"][feature] = filtered\n",
    "\n",
    "for feature in features:\n",
    "    filtered, unfiltered, feature = side_by_side_correlation(pg_first_round.loc[pg_first_round[\"minutes_played\"] >= 700], pg_first_round, feature)\n",
    "    correlations[\"PG\"][feature] = filtered"
   ]
  },
  {
   "cell_type": "code",
   "execution_count": null,
   "metadata": {},
   "outputs": [],
   "source": [
    "df = pd.DataFrame.from_dict({(i,j): correlations[i][j] \n",
    "                            for i in correlations.keys() \n",
    "                            for j in correlations[i].keys()},\n",
    "                            orient='index')\n",
    "df.index = pd.MultiIndex.from_tuples(df.index)\n",
    "df = df.reset_index()\n",
    "df = df.rename(columns={'level_0': \"Position\", \"level_1\": \"Feature\", 0: \"Correlation with cap space usage\"})"
   ]
  },
  {
   "cell_type": "code",
   "execution_count": null,
   "metadata": {},
   "outputs": [],
   "source": [
    "for feature in features:\n",
    "    print(side_by_side_correlation(c_second_round.loc[c_second_round[\"minutes_played\"] >= 350], c_second_round, feature))\n",
    "\n",
    "for feature in features:\n",
    "    print(side_by_side_correlation(pf_second_round.loc[pf_second_round[\"minutes_played\"] >= 350], pf_second_round, feature))\n",
    "\n",
    "for feature in features:\n",
    "    print(side_by_side_correlation(sf_second_round.loc[sf_second_round[\"minutes_played\"] >= 350], sf_second_round, feature))\n",
    "\n",
    "for feature in features:\n",
    "    print(side_by_side_correlation(sg_second_round.loc[sg_second_round[\"minutes_played\"] >= 350], sg_second_round, feature))\n",
    "\n",
    "for feature in features:\n",
    "    print(side_by_side_correlation(pg_second_round.loc[pg_second_round[\"minutes_played\"] >= 350], pg_second_round, feature))"
   ]
  }
 ],
 "metadata": {
  "kernelspec": {
   "display_name": "Python 3",
   "language": "python",
   "name": "python3"
  },
  "language_info": {
   "codemirror_mode": {
    "name": "ipython",
    "version": 3
   },
   "file_extension": ".py",
   "mimetype": "text/x-python",
   "name": "python",
   "nbconvert_exporter": "python",
   "pygments_lexer": "ipython3",
   "version": "3.8.5"
  }
 },
 "nbformat": 4,
 "nbformat_minor": 4
}
