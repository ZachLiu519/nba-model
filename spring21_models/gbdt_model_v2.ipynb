{
 "cells": [
  {
   "cell_type": "code",
   "execution_count": 1,
   "metadata": {},
   "outputs": [],
   "source": [
    "import numpy as np\n",
    "import pandas as pd\n",
    "import sklearn"
   ]
  },
  {
   "cell_type": "code",
   "execution_count": 2,
   "metadata": {},
   "outputs": [],
   "source": [
    "np.random.seed(10)"
   ]
  },
  {
   "cell_type": "code",
   "execution_count": 3,
   "metadata": {},
   "outputs": [],
   "source": [
    "X = pd.read_excel(\"X_v3.xlsx\").drop(columns=[\"Unnamed: 0\"])\n",
    "y = pd.read_excel(\"y_v3.xlsx\").drop(columns=[\"Unnamed: 0\"])"
   ]
  },
  {
   "cell_type": "code",
   "execution_count": 4,
   "metadata": {},
   "outputs": [
    {
     "name": "stdout",
     "output_type": "stream",
     "text": [
      "['WS' 'points' 'Wins Added' 'made_field_goals' 'MPG' 'win_shares'\n",
      " 'value_over_replacement_player' 'minutes_played' 'poss'\n",
      " 'attempted_field_goals' 'war_total' 'offensive_box_plus_minus'\n",
      " 'offensive_win_shares' 'made_free_throws' 'war_reg_season'\n",
      " 'attempted_free_throws' 'box_plus_minus' 'predator_offense' 'O-LEBRON'\n",
      " 'raptor_offense' 'player_efficiency_rating' 'defensive_win_shares'\n",
      " 'war_playoffs' 'games_started' 'win_shares_per_48_minutes' 'turnovers'\n",
      " 'ORPM' 'RAPM__Off' 'defensive_rebounds' 'usage_percentage' 'RA_EFG__Off'\n",
      " 'LA_RAPM__Off' 'steals' 'assists' 'made_three_point_field_goals'\n",
      " 'attempted_three_point_field_goals' 'free_throw_attempt_rate' 'blocks'\n",
      " 'assist_percentage' 'pace_impact' 'RA_FTR__Off'\n",
      " 'true_shooting_percentage' 'personal_fouls' 'RA_FTR__Def' 'LA_RAPM__Def'\n",
      " 'RAPM__Def' 'D-LEBRON' 'RA_EFG__Def' 'games_played' 'offensive_rebounds'\n",
      " 'Games' 'defensive_rebound_percentage' 'RA_TOV__Off' 'predator_defense'\n",
      " 'defensive_box_plus_minus' 'total_rebound_percentage'\n",
      " 'three_point_attempt_rate' 'raptor_defense' 'RA_ORBD__Def'\n",
      " 'turnover_percentage' 'block_percentage' 'RA_TOV__Def' 'steal_percentage'\n",
      " 'DRPM' 'offensive_rebound_percentage']\n"
     ]
    },
    {
     "name": "stderr",
     "output_type": "stream",
     "text": [
      "C:\\Users\\Rishab\\anaconda3\\lib\\site-packages\\sklearn\\utils\\validation.py:73: DataConversionWarning: A column-vector y was passed when a 1d array was expected. Please change the shape of y to (n_samples, ), for example using ravel().\n",
      "  return f(**kwargs)\n"
     ]
    }
   ],
   "source": [
    "from sklearn.feature_selection import SelectKBest, f_regression\n",
    "select = SelectKBest(f_regression, k=20)\n",
    "\n",
    "best_features = select.fit_transform(X, y)\n",
    "feature_scores = pd.concat([pd.Series(X.columns), pd.Series(select.scores_)], axis=1)\n",
    "feature_scores.columns = [\"features\", \"score\"]\n",
    "features = list(feature_scores.sort_values(by=[\"score\"], ascending=False).head(65)['features'])\n",
    "\n",
    "X = X[features]\n",
    "print(X.columns.values)"
   ]
  },
  {
   "cell_type": "code",
   "execution_count": 5,
   "metadata": {},
   "outputs": [],
   "source": [
    "from sklearn.preprocessing import StandardScaler\n",
    "from sklearn.pipeline import make_pipeline, Pipeline\n",
    "from sklearn.ensemble import GradientBoostingRegressor\n",
    "from sklearn.preprocessing import Normalizer"
   ]
  },
  {
   "cell_type": "code",
   "execution_count": 6,
   "metadata": {},
   "outputs": [],
   "source": [
    "from sklearn.model_selection import cross_val_score\n",
    "def performance(model):\n",
    "    etr = make_pipeline(Normalizer(), model)\n",
    "    scores = cross_val_score(etr, X, y, cv=5, scoring=\"explained_variance\")\n",
    "    print(\"%0.2f accuracy with a standard deviation of %0.2f\" % (scores.mean(), scores.std()))\n",
    "    return scores"
   ]
  },
  {
   "cell_type": "code",
   "execution_count": 7,
   "metadata": {},
   "outputs": [
    {
     "name": "stderr",
     "output_type": "stream",
     "text": [
      "C:\\Users\\Rishab\\anaconda3\\lib\\site-packages\\sklearn\\utils\\validation.py:73: DataConversionWarning: A column-vector y was passed when a 1d array was expected. Please change the shape of y to (n_samples, ), for example using ravel().\n",
      "  return f(**kwargs)\n",
      "C:\\Users\\Rishab\\anaconda3\\lib\\site-packages\\sklearn\\utils\\validation.py:73: DataConversionWarning: A column-vector y was passed when a 1d array was expected. Please change the shape of y to (n_samples, ), for example using ravel().\n",
      "  return f(**kwargs)\n",
      "C:\\Users\\Rishab\\anaconda3\\lib\\site-packages\\sklearn\\utils\\validation.py:73: DataConversionWarning: A column-vector y was passed when a 1d array was expected. Please change the shape of y to (n_samples, ), for example using ravel().\n",
      "  return f(**kwargs)\n",
      "C:\\Users\\Rishab\\anaconda3\\lib\\site-packages\\sklearn\\utils\\validation.py:73: DataConversionWarning: A column-vector y was passed when a 1d array was expected. Please change the shape of y to (n_samples, ), for example using ravel().\n",
      "  return f(**kwargs)\n",
      "C:\\Users\\Rishab\\anaconda3\\lib\\site-packages\\sklearn\\utils\\validation.py:73: DataConversionWarning: A column-vector y was passed when a 1d array was expected. Please change the shape of y to (n_samples, ), for example using ravel().\n",
      "  return f(**kwargs)\n"
     ]
    },
    {
     "name": "stdout",
     "output_type": "stream",
     "text": [
      "0.62 accuracy with a standard deviation of 0.05\n"
     ]
    },
    {
     "data": {
      "text/plain": [
       "array([0.64270221, 0.65144367, 0.68459653, 0.53667841, 0.58430726])"
      ]
     },
     "execution_count": 7,
     "metadata": {},
     "output_type": "execute_result"
    }
   ],
   "source": [
    "performance(GradientBoostingRegressor())"
   ]
  },
  {
   "cell_type": "code",
   "execution_count": 8,
   "metadata": {},
   "outputs": [
    {
     "name": "stderr",
     "output_type": "stream",
     "text": [
      "C:\\Users\\Rishab\\anaconda3\\lib\\site-packages\\sklearn\\utils\\validation.py:73: DataConversionWarning: A column-vector y was passed when a 1d array was expected. Please change the shape of y to (n_samples, ), for example using ravel().\n",
      "  return f(**kwargs)\n",
      "C:\\Users\\Rishab\\anaconda3\\lib\\site-packages\\sklearn\\utils\\validation.py:73: DataConversionWarning: A column-vector y was passed when a 1d array was expected. Please change the shape of y to (n_samples, ), for example using ravel().\n",
      "  return f(**kwargs)\n",
      "C:\\Users\\Rishab\\anaconda3\\lib\\site-packages\\sklearn\\utils\\validation.py:73: DataConversionWarning: A column-vector y was passed when a 1d array was expected. Please change the shape of y to (n_samples, ), for example using ravel().\n",
      "  return f(**kwargs)\n",
      "C:\\Users\\Rishab\\anaconda3\\lib\\site-packages\\sklearn\\utils\\validation.py:73: DataConversionWarning: A column-vector y was passed when a 1d array was expected. Please change the shape of y to (n_samples, ), for example using ravel().\n",
      "  return f(**kwargs)\n",
      "C:\\Users\\Rishab\\anaconda3\\lib\\site-packages\\sklearn\\utils\\validation.py:73: DataConversionWarning: A column-vector y was passed when a 1d array was expected. Please change the shape of y to (n_samples, ), for example using ravel().\n",
      "  return f(**kwargs)\n"
     ]
    },
    {
     "name": "stdout",
     "output_type": "stream",
     "text": [
      "0.63 accuracy with a standard deviation of 0.08\n"
     ]
    },
    {
     "data": {
      "text/plain": [
       "array([0.64771997, 0.66976134, 0.75335119, 0.52671058, 0.56441865])"
      ]
     },
     "execution_count": 8,
     "metadata": {},
     "output_type": "execute_result"
    }
   ],
   "source": [
    "gbr = params = {'n_estimators': 600,\n",
    " 'min_samples_split': 8,\n",
    " 'min_samples_leaf': 9,\n",
    " 'max_features': 'log2',\n",
    " 'max_depth': 2,\n",
    " 'learning_rate': 0.05,\n",
    " 'alpha': 0.55,\n",
    "  'subsample': 0.75,\n",
    " 'loss': 'quantile'}\n",
    "gbr = GradientBoostingRegressor(**params)\n",
    "performance(gbr)"
   ]
  }
 ],
 "metadata": {
  "kernelspec": {
   "display_name": "Python 3",
   "language": "python",
   "name": "python3"
  },
  "language_info": {
   "codemirror_mode": {
    "name": "ipython",
    "version": 3
   },
   "file_extension": ".py",
   "mimetype": "text/x-python",
   "name": "python",
   "nbconvert_exporter": "python",
   "pygments_lexer": "ipython3",
   "version": "3.8.3"
  }
 },
 "nbformat": 4,
 "nbformat_minor": 4
}
