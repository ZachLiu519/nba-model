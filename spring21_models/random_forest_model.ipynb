{
 "cells": [
  {
   "cell_type": "code",
   "execution_count": 1,
   "metadata": {},
   "outputs": [],
   "source": [
    "import pandas as pd\n",
    "import numpy as np\n",
    "import sklearn"
   ]
  },
  {
   "cell_type": "code",
   "execution_count": 2,
   "metadata": {},
   "outputs": [],
   "source": [
    "import warnings\n",
    "warnings.filterwarnings('ignore')"
   ]
  },
  {
   "cell_type": "code",
   "execution_count": 17,
   "metadata": {},
   "outputs": [],
   "source": [
    "X = pd.read_csv(\"X.csv\")\n",
    "y = pd.read_csv(\"y.csv\")"
   ]
  },
  {
   "cell_type": "code",
   "execution_count": 4,
   "metadata": {},
   "outputs": [],
   "source": [
    "numerical = ['age',\n",
    "       'games_played', 'minutes_played', \n",
    "       'player_efficiency_rating', 'true_shooting_percentage',\n",
    "       'three_point_attempt_rate', 'free_throw_attempt_rate',\n",
    "       'offensive_rebound_percentage', 'defensive_rebound_percentage',\n",
    "       'assist_percentage', 'steal_percentage',\n",
    "       'block_percentage', 'turnover_percentage', 'usage_percentage',\n",
    "       'offensive_win_shares', 'defensive_win_shares',\n",
    "       'win_shares_per_48_minutes', 'offensive_box_plus_minus',\n",
    "       'defensive_box_plus_minus',\n",
    "       'value_over_replacement_player','O-LEBRON', 'D-LEBRON', 'Wins Added', 'ORPM', 'DRPM', 'poss',\n",
    "       'raptor_offense', 'raptor_defense', 'war_total', 'war_reg_season',\n",
    "       'war_playoffs', 'predator_offense', 'predator_defense', 'pace_impact',\n",
    "       'LA_RAPM__Def', 'LA_RAPM__Off', 'RA_EFG__Def', 'RA_EFG__Off',\n",
    "       'RA_FTR__Def', 'RA_FTR__Off', 'RA_ORBD__Def', 'RA_ORBD__Off',\n",
    "       'RA_TOV__Def', 'RA_TOV__Off', 'RAPM__Def', 'RAPM__Off']\n",
    "\n",
    "categorical = [\"Type\"]"
   ]
  },
  {
   "cell_type": "code",
   "execution_count": 5,
   "metadata": {},
   "outputs": [],
   "source": [
    "from sklearn.model_selection import train_test_split\n",
    "X_train, X_test, y_train, y_test = train_test_split(X, y, test_size=0.13, random_state=42)\n",
    "X_train, X_val, y_train, y_val = train_test_split(X_train, y_train, test_size=0.13, random_state=42)\n",
    "\n",
    "# scale the numerical features only (this leaves out the dummy features from earlier)\n",
    "from sklearn.preprocessing import StandardScaler\n",
    "features = numerical\n",
    "scaler = StandardScaler()\n",
    "\n",
    "X_train[features] = scaler.fit_transform(X_train[features])\n",
    "X_test[features] = scaler.transform(X_test[features])\n",
    "X_val[features] = scaler.transform(X_val[features])"
   ]
  },
  {
   "cell_type": "code",
   "execution_count": 6,
   "metadata": {},
   "outputs": [],
   "source": [
    "from sklearn.metrics import mean_squared_error, r2_score, explained_variance_score, mean_squared_log_error\n",
    "def evaluate(y_pred, y_test):\n",
    "    \"\"\" Prints out the evaluation metrics of the experiment\n",
    "        parameters:\n",
    "            y_pred\n",
    "                DataFrame or array-like, the predictions\n",
    "            y_test\n",
    "                DataFrame or array-like, the actual y-values\n",
    "                \n",
    "            these two parameters must have the same dimensions\n",
    "    \"\"\"\n",
    "    print(\"r^2: \", r2_score(y_test, y_pred))\n",
    "    print(\"mse: \", mean_squared_error(y_test, y_pred))\n",
    "    print(\"variance_score: \", explained_variance_score(y_test, y_pred))\n",
    "    print(\"mse-log: \", mean_squared_log_error(y_test, y_pred))"
   ]
  },
  {
   "cell_type": "code",
   "execution_count": 7,
   "metadata": {},
   "outputs": [],
   "source": [
    "def run(model, model_name, x_train, x_val):\n",
    "    \"\"\" Fits the model and prints out results from calling evaluate on the training and validation set\n",
    "        parameters:\n",
    "            model\n",
    "                the unfitted model, from sklearn (has to have a fit and predict method)\n",
    "            model_name\n",
    "                String, the name of the model\n",
    "            x_train\n",
    "                DataFrame, the training set\n",
    "            x_val\n",
    "                DataFrame, the validation set\n",
    "                \n",
    "        returns:\n",
    "            nothing\n",
    "        \n",
    "    \"\"\"\n",
    "    model = model.fit(x_train, y_train)\n",
    "    y_pred = np.clip(model.predict(x_train), 0, 1000) # since negative results are meaningless\n",
    "    \n",
    "    print(\"[{0}] These are the results for the training set.\".format(model_name))\n",
    "    \n",
    "    evaluate(y_pred, y_train)\n",
    "    print(\"--------------------------------------\")\n",
    "    \n",
    "    print(\"[{0}] These are the results for the validation set.\".format(model_name))\n",
    "    y_pred = np.clip(model.predict(x_val), 0, 1000) # since negative results are meaningless\n",
    "    \n",
    "    evaluate(y_pred, y_val)\n",
    "    \n",
    "    print(\"_____________________________________________\")"
   ]
  },
  {
   "cell_type": "code",
   "execution_count": 8,
   "metadata": {},
   "outputs": [],
   "source": [
    "from sklearn.ensemble import RandomForestRegressor"
   ]
  },
  {
   "cell_type": "code",
   "execution_count": 16,
   "metadata": {},
   "outputs": [
    {
     "name": "stdout",
     "output_type": "stream",
     "text": [
      "[Random Forest] These are the results for the training set.\n",
      "r^2:  1.0\n",
      "mse:  7.284838582401666e-23\n",
      "variance_score:  1.0\n",
      "mse-log:  6.954157785935871e-23\n",
      "--------------------------------------\n",
      "[Random Forest] These are the results for the validation set.\n",
      "r^2:  -0.09151534141010198\n",
      "mse:  0.008459679540358478\n",
      "variance_score:  -0.09150459911720521\n",
      "mse-log:  0.006742892957208533\n",
      "_____________________________________________\n"
     ]
    }
   ],
   "source": [
    "rf = RandomForestRegressor(n_estimators=100, criterion='mse', \n",
    "                                  max_depth=None, min_samples_split=2, min_samples_leaf=1, min_weight_fraction_leaf=0.0, \n",
    "                                  max_features='auto', max_leaf_nodes=None, min_impurity_decrease=0.0, min_impurity_split=None, \n",
    "                                  bootstrap=False, oob_score=False, n_jobs=None, random_state=None, verbose=0, warm_start=False, \n",
    "                                  ccp_alpha=0.0, max_samples=None)\n",
    "\n",
    "run(rf, \"Random Forest\", X_train, X_val)"
   ]
  },
  {
   "cell_type": "code",
   "execution_count": 80,
   "metadata": {},
   "outputs": [],
   "source": [
    "from sklearn.model_selection import RandomizedSearchCV\n",
    "# Number of trees in random forest\n",
    "n_estimators = [int(x) for x in np.linspace(start = 200, stop = 2000, num = 10)]\n",
    "# Number of features to consider at every split\n",
    "max_features = ['auto', 'sqrt']\n",
    "# Maximum number of levels in tree\n",
    "max_depth = [int(x) for x in np.linspace(10, 110, num = 11)]\n",
    "max_depth.append(None)\n",
    "# Minimum number of samples required to split a node\n",
    "min_samples_split = [2, 5, 10]\n",
    "# Minimum number of samples required at each leaf node\n",
    "min_samples_leaf = [1, 2, 4]\n",
    "# Method of selecting samples for training each tree\n",
    "bootstrap = [True, False]\n",
    "# Create the random grid\n",
    "random_grid = {'n_estimators': n_estimators,\n",
    "               'max_features': max_features,\n",
    "               'max_depth': max_depth,\n",
    "               'min_samples_split': min_samples_split,\n",
    "               'min_samples_leaf': min_samples_leaf,\n",
    "               'bootstrap': bootstrap}"
   ]
  },
  {
   "cell_type": "code",
   "execution_count": 81,
   "metadata": {
    "scrolled": true
   },
   "outputs": [
    {
     "name": "stdout",
     "output_type": "stream",
     "text": [
      "Fitting 3 folds for each of 100 candidates, totalling 300 fits\n"
     ]
    },
    {
     "name": "stderr",
     "output_type": "stream",
     "text": [
      "[Parallel(n_jobs=-1)]: Using backend LokyBackend with 12 concurrent workers.\n",
      "[Parallel(n_jobs=-1)]: Done  17 tasks      | elapsed:    6.3s\n",
      "[Parallel(n_jobs=-1)]: Done 138 tasks      | elapsed:   43.8s\n",
      "[Parallel(n_jobs=-1)]: Done 300 out of 300 | elapsed:  1.8min finished\n"
     ]
    },
    {
     "data": {
      "text/plain": [
       "RandomizedSearchCV(cv=3, estimator=RandomForestRegressor(warm_start=True),\n",
       "                   n_iter=100, n_jobs=-1,\n",
       "                   param_distributions={'bootstrap': [True, False],\n",
       "                                        'max_depth': [10, 20, 30, 40, 50, 60,\n",
       "                                                      70, 80, 90, 100, 110,\n",
       "                                                      None],\n",
       "                                        'max_features': ['auto', 'sqrt'],\n",
       "                                        'min_samples_leaf': [1, 2, 4],\n",
       "                                        'min_samples_split': [2, 5, 10],\n",
       "                                        'n_estimators': [200, 400, 600, 800,\n",
       "                                                         1000, 1200, 1400, 1600,\n",
       "                                                         1800, 2000]},\n",
       "                   random_state=42, verbose=2)"
      ]
     },
     "execution_count": 81,
     "metadata": {},
     "output_type": "execute_result"
    }
   ],
   "source": [
    "# Use the random grid to search for best hyperparameters\n",
    "# First create the base model to tune\n",
    "rf = RandomForestRegressor(warm_start=True)\n",
    "# Random search of parameters, using 3 fold cross validation, \n",
    "# search across 100 different combinations, and use all available cores\n",
    "rf_random = RandomizedSearchCV(estimator = rf, param_distributions = random_grid, n_iter = 100, cv = 3, verbose=2, random_state=42, n_jobs = -1)\n",
    "# Fit the random search model\n",
    "rf_random.fit(X_train, y_train)"
   ]
  },
  {
   "cell_type": "code",
   "execution_count": 82,
   "metadata": {},
   "outputs": [
    {
     "data": {
      "text/plain": [
       "{'n_estimators': 1000,\n",
       " 'min_samples_split': 5,\n",
       " 'min_samples_leaf': 4,\n",
       " 'max_features': 'auto',\n",
       " 'max_depth': 100,\n",
       " 'bootstrap': True}"
      ]
     },
     "execution_count": 82,
     "metadata": {},
     "output_type": "execute_result"
    }
   ],
   "source": [
    "rf_random.best_params_"
   ]
  },
  {
   "cell_type": "code",
   "execution_count": 83,
   "metadata": {},
   "outputs": [
    {
     "name": "stdout",
     "output_type": "stream",
     "text": [
      "[Random Forest] These are the results for the training set.\n",
      "r^2:  0.8985123791949006\n",
      "mse:  0.0006552698442502188\n",
      "variance_score:  0.8985246470373783\n",
      "mse-log:  0.0005197822697426773\n",
      "--------------------------------------\n",
      "[Random Forest] These are the results for the validation set.\n",
      "r^2:  0.6714626352695847\n",
      "mse:  0.0025462957021407033\n",
      "variance_score:  0.6735305107554102\n",
      "mse-log:  0.002079142866670283\n",
      "_____________________________________________\n"
     ]
    }
   ],
   "source": [
    "rf = RandomForestRegressor(n_estimators=1000, criterion='mse', \n",
    "                                  max_depth=100, min_samples_split=5, min_samples_leaf=4, min_weight_fraction_leaf=0.0, \n",
    "                                  max_features='auto', max_leaf_nodes=None, min_impurity_decrease=0.0, min_impurity_split=None, \n",
    "                                  bootstrap=True, oob_score=False, n_jobs=None, random_state=None, verbose=0, warm_start=False, \n",
    "                                  ccp_alpha=0.0, max_samples=None)\n",
    "\n",
    "run(rf, \"Random Forest\", X_train, X_val)"
   ]
  },
  {
   "cell_type": "code",
   "execution_count": 84,
   "metadata": {},
   "outputs": [
    {
     "name": "stdout",
     "output_type": "stream",
     "text": [
      "r^2:  0.6347031496705295\n",
      "mse:  0.001732051341484594\n",
      "variance_score:  0.6555078279940925\n",
      "mse-log:  0.0014266260181123476\n"
     ]
    }
   ],
   "source": [
    "evaluate(rf.predict(X_test), y_test)"
   ]
  },
  {
   "cell_type": "markdown",
   "metadata": {},
   "source": [
    "### Without train-validation-test split\n",
    "**Since we have bootstrap in random forest, as it is based on the idea of bagging**, we can use oob_score as score for validation set and **save the trouble of using train-validation-test split.**\n",
    "\n",
    "**Below is the experimentation**"
   ]
  },
  {
   "cell_type": "code",
   "execution_count": 85,
   "metadata": {},
   "outputs": [],
   "source": [
    "from sklearn.model_selection import train_test_split\n",
    "X_train, X_test, y_train, y_test = train_test_split(X, y, test_size=0.13, random_state=42)\n",
    "\n",
    "# scale the numerical features only (this leaves out the dummy features from earlier)\n",
    "from sklearn.preprocessing import StandardScaler\n",
    "features = numerical\n",
    "scaler = StandardScaler()\n",
    "\n",
    "X_train[features] = scaler.fit_transform(X_train[features])\n",
    "X_test[features] = scaler.transform(X_test[features])"
   ]
  },
  {
   "cell_type": "code",
   "execution_count": 86,
   "metadata": {},
   "outputs": [
    {
     "name": "stdout",
     "output_type": "stream",
     "text": [
      "r^2:  0.9528335873065455\n",
      "mse:  0.0003140883001178565\n",
      "variance_score:  0.9528411067643342\n",
      "mse-log:  0.0002473485519838058\n"
     ]
    }
   ],
   "source": [
    "rf = RandomForestRegressor(n_estimators=100, criterion='mse', \n",
    "                                  max_depth=None, min_samples_split=2, min_samples_leaf=1, min_weight_fraction_leaf=0.0, \n",
    "                                  max_features='auto', max_leaf_nodes=None, min_impurity_decrease=0.0, min_impurity_split=None, \n",
    "                                  bootstrap=True, oob_score=True, n_jobs=None, random_state=None, verbose=0, warm_start=False, \n",
    "                                  ccp_alpha=0.0, max_samples=None)\n",
    "rf.fit(X_train, y_train)\n",
    "evaluate(rf.predict(X_train), y_train)"
   ]
  },
  {
   "cell_type": "code",
   "execution_count": 88,
   "metadata": {},
   "outputs": [],
   "source": [
    "# Number of trees in random forest\n",
    "n_estimators = [int(x) for x in np.linspace(start = 100, stop = 3000, num = 50)]\n",
    "# Number of features to consider at every split\n",
    "max_features = ['auto', 'sqrt', 'log2']\n",
    "# Maximum number of levels in tree\n",
    "max_depth = [int(x) for x in np.linspace(10, 300, num = 15)]\n",
    "max_depth.append(None)\n",
    "# Minimum number of samples required to split a node\n",
    "min_samples_split = [2, 5, 10]\n",
    "# Minimum number of samples required at each leaf node\n",
    "min_samples_leaf = [1, 2, 4]\n",
    "# Create the random grid\n",
    "random_grid = {'n_estimators': n_estimators,\n",
    "               'max_features': max_features,\n",
    "               'max_depth': max_depth,\n",
    "               'min_samples_split': min_samples_split,\n",
    "               'min_samples_leaf': min_samples_leaf}"
   ]
  },
  {
   "cell_type": "code",
   "execution_count": 89,
   "metadata": {},
   "outputs": [
    {
     "name": "stdout",
     "output_type": "stream",
     "text": [
      "Fitting 3 folds for each of 300 candidates, totalling 900 fits\n"
     ]
    },
    {
     "name": "stderr",
     "output_type": "stream",
     "text": [
      "[Parallel(n_jobs=-1)]: Using backend LokyBackend with 12 concurrent workers.\n",
      "[Parallel(n_jobs=-1)]: Done  17 tasks      | elapsed:    7.4s\n",
      "[Parallel(n_jobs=-1)]: Done 138 tasks      | elapsed:  1.3min\n",
      "[Parallel(n_jobs=-1)]: Done 341 tasks      | elapsed:  3.0min\n",
      "[Parallel(n_jobs=-1)]: Done 624 tasks      | elapsed:  5.5min\n",
      "[Parallel(n_jobs=-1)]: Done 900 out of 900 | elapsed:  8.0min finished\n"
     ]
    },
    {
     "data": {
      "text/plain": [
       "RandomizedSearchCV(cv=3,\n",
       "                   estimator=RandomForestRegressor(oob_score=True,\n",
       "                                                   warm_start=True),\n",
       "                   n_iter=300, n_jobs=-1,\n",
       "                   param_distributions={'max_depth': [10, 30, 51, 72, 92, 113,\n",
       "                                                      134, 155, 175, 196, 217,\n",
       "                                                      237, 258, 279, 300,\n",
       "                                                      None],\n",
       "                                        'max_features': ['auto', 'sqrt',\n",
       "                                                         'log2'],\n",
       "                                        'min_samples_leaf': [1, 2, 4],\n",
       "                                        'min_samples_split': [2, 5, 10],\n",
       "                                        'n_estimators': [100, 159, 218, 277,\n",
       "                                                         336, 395, 455, 514,\n",
       "                                                         573, 632, 691, 751,\n",
       "                                                         810, 869, 928, 987,\n",
       "                                                         1046, 1106, 1165, 1224,\n",
       "                                                         1283, 1342, 1402, 1461,\n",
       "                                                         1520, 1579, 1638, 1697,\n",
       "                                                         1757, 1816, ...]},\n",
       "                   random_state=42, verbose=2)"
      ]
     },
     "execution_count": 89,
     "metadata": {},
     "output_type": "execute_result"
    }
   ],
   "source": [
    "# Use the random grid to search for best hyperparameters\n",
    "# First create the base model to tune\n",
    "rf = RandomForestRegressor(warm_start=True, bootstrap=True, oob_score=True) # use warm_start to speed up\n",
    "# Random search of parameters, using 3 fold cross validation, \n",
    "# search across 100 different combinations, and use all available cores\n",
    "rf_random = RandomizedSearchCV(estimator = rf, param_distributions = random_grid, n_iter = 300, cv = 3, verbose=2, random_state=42, n_jobs = -1)\n",
    "# Fit the random search model\n",
    "rf_random.fit(X_train, y_train)"
   ]
  },
  {
   "cell_type": "code",
   "execution_count": 90,
   "metadata": {},
   "outputs": [
    {
     "data": {
      "text/plain": [
       "{'n_estimators': 928,\n",
       " 'min_samples_split': 2,\n",
       " 'min_samples_leaf': 2,\n",
       " 'max_features': 'auto',\n",
       " 'max_depth': 92}"
      ]
     },
     "execution_count": 90,
     "metadata": {},
     "output_type": "execute_result"
    }
   ],
   "source": [
    "rf_random.best_params_"
   ]
  },
  {
   "cell_type": "code",
   "execution_count": 91,
   "metadata": {},
   "outputs": [
    {
     "name": "stdout",
     "output_type": "stream",
     "text": [
      "r^2:  0.9398487459468825\n",
      "mse:  0.0004005563293161549\n",
      "variance_score:  0.9398535331011802\n",
      "mse-log:  0.00031675325949312964\n"
     ]
    }
   ],
   "source": [
    "best = RandomForestRegressor(n_estimators=928, criterion='mse', \n",
    "                                  max_depth=92, min_samples_split=2, min_samples_leaf=2, min_weight_fraction_leaf=0.0, \n",
    "                                  max_features='auto', max_leaf_nodes=None, min_impurity_decrease=0.0, min_impurity_split=None, \n",
    "                                  bootstrap=True, oob_score=True, n_jobs=None, random_state=None, verbose=0, warm_start=False, \n",
    "                                  ccp_alpha=0.0, max_samples=None)\n",
    "best.fit(X_train, y_train)\n",
    "evaluate(best.predict(X_train), y_train)"
   ]
  },
  {
   "cell_type": "code",
   "execution_count": 92,
   "metadata": {},
   "outputs": [
    {
     "data": {
      "text/plain": [
       "0.6598515312016768"
      ]
     },
     "execution_count": 92,
     "metadata": {},
     "output_type": "execute_result"
    }
   ],
   "source": [
    "best.oob_score_"
   ]
  },
  {
   "cell_type": "code",
   "execution_count": 93,
   "metadata": {},
   "outputs": [
    {
     "name": "stdout",
     "output_type": "stream",
     "text": [
      "r^2:  0.6174761762058201\n",
      "mse:  0.0018137328628893305\n",
      "variance_score:  0.6332516712244566\n",
      "mse-log:  0.00149470668004219\n"
     ]
    }
   ],
   "source": [
    "evaluate(best.predict(X_test), y_test)"
   ]
  }
 ],
 "metadata": {
  "kernelspec": {
   "display_name": "Python 3",
   "language": "python",
   "name": "python3"
  },
  "language_info": {
   "codemirror_mode": {
    "name": "ipython",
    "version": 3
   },
   "file_extension": ".py",
   "mimetype": "text/x-python",
   "name": "python",
   "nbconvert_exporter": "python",
   "pygments_lexer": "ipython3",
   "version": "3.8.3"
  }
 },
 "nbformat": 4,
 "nbformat_minor": 4
}
