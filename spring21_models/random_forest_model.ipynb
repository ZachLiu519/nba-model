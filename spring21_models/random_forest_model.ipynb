{
 "cells": [
  {
   "cell_type": "code",
   "execution_count": 1,
   "metadata": {},
   "outputs": [],
   "source": [
    "import pandas as pd\n",
    "import numpy as np\n",
    "import sklearn"
   ]
  },
  {
   "cell_type": "code",
   "execution_count": 34,
   "metadata": {},
   "outputs": [],
   "source": [
    "import warnings\n",
    "warnings.filterwarnings('ignore')"
   ]
  },
  {
   "cell_type": "code",
   "execution_count": 2,
   "metadata": {},
   "outputs": [],
   "source": [
    "X = pd.read_excel(\"X.xlsx\")\n",
    "y = pd.read_excel(\"y.xlsx\")"
   ]
  },
  {
   "cell_type": "code",
   "execution_count": 3,
   "metadata": {},
   "outputs": [],
   "source": [
    "numerical = ['age',\n",
    "       'games_played', 'minutes_played', \n",
    "       'player_efficiency_rating', 'true_shooting_percentage',\n",
    "       'three_point_attempt_rate', 'free_throw_attempt_rate',\n",
    "       'offensive_rebound_percentage', 'defensive_rebound_percentage',\n",
    "       'assist_percentage', 'steal_percentage',\n",
    "       'block_percentage', 'turnover_percentage', 'usage_percentage',\n",
    "       'offensive_win_shares', 'defensive_win_shares',\n",
    "       'win_shares_per_48_minutes', 'offensive_box_plus_minus',\n",
    "       'defensive_box_plus_minus',\n",
    "       'value_over_replacement_player','O-LEBRON', 'D-LEBRON', 'Wins Added', 'ORPM', 'DRPM', 'poss',\n",
    "       'raptor_offense', 'raptor_defense', 'war_total', 'war_reg_season',\n",
    "       'war_playoffs', 'predator_offense', 'predator_defense', 'pace_impact',\n",
    "       'LA_RAPM__Def', 'LA_RAPM__Off', 'RA_EFG__Def', 'RA_EFG__Off',\n",
    "       'RA_FTR__Def', 'RA_FTR__Off', 'RA_ORBD__Def', 'RA_ORBD__Off',\n",
    "       'RA_TOV__Def', 'RA_TOV__Off', 'RAPM__Def', 'RAPM__Off']\n",
    "\n",
    "categorical = [\"Type\"]"
   ]
  },
  {
   "cell_type": "code",
   "execution_count": 51,
   "metadata": {},
   "outputs": [],
   "source": [
    "from sklearn.model_selection import train_test_split\n",
    "X_train, X_test, y_train, y_test = train_test_split(X, y, test_size=0.13, random_state=42)\n",
    "X_train, X_val, y_train, y_val = train_test_split(X_train, y_train, test_size=0.13, random_state=42)\n",
    "\n",
    "# scale the numerical features only (this leaves out the dummy features from earlier)\n",
    "from sklearn.preprocessing import StandardScaler\n",
    "features = numerical\n",
    "scaler = StandardScaler()\n",
    "\n",
    "X_train[features] = scaler.fit_transform(X_train[features])\n",
    "X_test[features] = scaler.transform(X_test[features])\n",
    "X_val[features] = scaler.transform(X_val[features])"
   ]
  },
  {
   "cell_type": "code",
   "execution_count": 5,
   "metadata": {},
   "outputs": [],
   "source": [
    "from sklearn.metrics import mean_squared_error, r2_score, explained_variance_score, mean_squared_log_error\n",
    "def evaluate(y_pred, y_test):\n",
    "    \"\"\" Prints out the evaluation metrics of the experiment\n",
    "        parameters:\n",
    "            y_pred\n",
    "                DataFrame or array-like, the predictions\n",
    "            y_test\n",
    "                DataFrame or array-like, the actual y-values\n",
    "                \n",
    "            these two parameters must have the same dimensions\n",
    "    \"\"\"\n",
    "    print(\"r^2: \", r2_score(y_test, y_pred))\n",
    "    print(\"mse: \", mean_squared_error(y_test, y_pred))\n",
    "    print(\"variance_score: \", explained_variance_score(y_test, y_pred))\n",
    "    print(\"mse-log: \", mean_squared_log_error(y_test, y_pred))"
   ]
  },
  {
   "cell_type": "code",
   "execution_count": 6,
   "metadata": {},
   "outputs": [],
   "source": [
    "def run(model, model_name, x_train, x_val):\n",
    "    \"\"\" Fits the model and prints out results from calling evaluate on the training and validation set\n",
    "        parameters:\n",
    "            model\n",
    "                the unfitted model, from sklearn (has to have a fit and predict method)\n",
    "            model_name\n",
    "                String, the name of the model\n",
    "            x_train\n",
    "                DataFrame, the training set\n",
    "            x_val\n",
    "                DataFrame, the validation set\n",
    "                \n",
    "        returns:\n",
    "            nothing\n",
    "        \n",
    "    \"\"\"\n",
    "    model = model.fit(x_train, y_train)\n",
    "    y_pred = np.clip(model.predict(x_train), 0, 1000) # since negative results are meaningless\n",
    "    \n",
    "    print(\"[{0}] These are the results for the training set.\".format(model_name))\n",
    "    \n",
    "    evaluate(y_pred, y_train)\n",
    "    print(\"--------------------------------------\")\n",
    "    \n",
    "    print(\"[{0}] These are the results for the validation set.\".format(model_name))\n",
    "    y_pred = np.clip(model.predict(x_val), 0, 1000) # since negative results are meaningless\n",
    "    \n",
    "    evaluate(y_pred, y_val)\n",
    "    \n",
    "    print(\"_____________________________________________\")"
   ]
  },
  {
   "cell_type": "code",
   "execution_count": 7,
   "metadata": {},
   "outputs": [],
   "source": [
    "from sklearn.ensemble import RandomForestRegressor"
   ]
  },
  {
   "cell_type": "code",
   "execution_count": 61,
   "metadata": {},
   "outputs": [
    {
     "name": "stdout",
     "output_type": "stream",
     "text": [
      "[Random Forest] These are the results for the training set.\n",
      "r^2:  0.9671785602016063\n",
      "mse:  0.29801359626710455\n",
      "variance_score:  0.9672022622075356\n",
      "mse-log:  0.0027716999227042375\n",
      "--------------------------------------\n",
      "[Random Forest] These are the results for the validation set.\n",
      "r^2:  0.8321836109457652\n",
      "mse:  2.065483344080938\n",
      "variance_score:  0.8322278788728974\n",
      "mse-log:  0.013414942450687566\n",
      "_____________________________________________\n"
     ]
    }
   ],
   "source": [
    "rf = RandomForestRegressor(n_estimators=100, criterion='mse', \n",
    "                                  max_depth=None, min_samples_split=2, min_samples_leaf=1, min_weight_fraction_leaf=0.0, \n",
    "                                  max_features='auto', max_leaf_nodes=None, min_impurity_decrease=0.0, min_impurity_split=None, \n",
    "                                  bootstrap=True, oob_score=False, n_jobs=None, random_state=None, verbose=0, warm_start=False, \n",
    "                                  ccp_alpha=0.0, max_samples=None)\n",
    "\n",
    "run(rf, \"Random Forest\", X_train, X_val)"
   ]
  },
  {
   "cell_type": "code",
   "execution_count": 62,
   "metadata": {},
   "outputs": [],
   "source": [
    "from sklearn.model_selection import RandomizedSearchCV\n",
    "# Number of trees in random forest\n",
    "n_estimators = [int(x) for x in np.linspace(start = 200, stop = 2000, num = 10)]\n",
    "# Number of features to consider at every split\n",
    "max_features = ['auto', 'sqrt']\n",
    "# Maximum number of levels in tree\n",
    "max_depth = [int(x) for x in np.linspace(10, 110, num = 11)]\n",
    "max_depth.append(None)\n",
    "# Minimum number of samples required to split a node\n",
    "min_samples_split = [2, 5, 10]\n",
    "# Minimum number of samples required at each leaf node\n",
    "min_samples_leaf = [1, 2, 4]\n",
    "# Method of selecting samples for training each tree\n",
    "bootstrap = [True, False]\n",
    "# Create the random grid\n",
    "random_grid = {'n_estimators': n_estimators,\n",
    "               'max_features': max_features,\n",
    "               'max_depth': max_depth,\n",
    "               'min_samples_split': min_samples_split,\n",
    "               'min_samples_leaf': min_samples_leaf,\n",
    "               'bootstrap': bootstrap}"
   ]
  },
  {
   "cell_type": "code",
   "execution_count": null,
   "metadata": {
    "scrolled": true
   },
   "outputs": [
    {
     "name": "stdout",
     "output_type": "stream",
     "text": [
      "Fitting 3 folds for each of 100 candidates, totalling 300 fits\n"
     ]
    },
    {
     "name": "stderr",
     "output_type": "stream",
     "text": [
      "[Parallel(n_jobs=-1)]: Using backend LokyBackend with 12 concurrent workers.\n",
      "[Parallel(n_jobs=-1)]: Done  17 tasks      | elapsed:    5.8s\n",
      "[Parallel(n_jobs=-1)]: Done 138 tasks      | elapsed:   40.5s\n"
     ]
    }
   ],
   "source": [
    "# Use the random grid to search for best hyperparameters\n",
    "# First create the base model to tune\n",
    "rf = RandomForestRegressor(warm_start=True)\n",
    "# Random search of parameters, using 3 fold cross validation, \n",
    "# search across 100 different combinations, and use all available cores\n",
    "rf_random = RandomizedSearchCV(estimator = rf, param_distributions = random_grid, n_iter = 100, cv = 3, verbose=2, random_state=42, n_jobs = -1)\n",
    "# Fit the random search model\n",
    "rf_random.fit(X_train, y_train)"
   ]
  },
  {
   "cell_type": "code",
   "execution_count": 64,
   "metadata": {},
   "outputs": [
    {
     "data": {
      "text/plain": [
       "{'n_estimators': 800,\n",
       " 'min_samples_split': 2,\n",
       " 'min_samples_leaf': 1,\n",
       " 'max_features': 'auto',\n",
       " 'max_depth': 100,\n",
       " 'bootstrap': True}"
      ]
     },
     "execution_count": 64,
     "metadata": {},
     "output_type": "execute_result"
    }
   ],
   "source": [
    "rf_random.best_params_"
   ]
  },
  {
   "cell_type": "code",
   "execution_count": 65,
   "metadata": {},
   "outputs": [
    {
     "name": "stdout",
     "output_type": "stream",
     "text": [
      "[Random Forest] These are the results for the training set.\n",
      "r^2:  0.9703348398782663\n",
      "mse:  0.21853824974665376\n",
      "variance_score:  0.9703364368004344\n",
      "mse-log:  0.0028540853922784408\n",
      "--------------------------------------\n",
      "[Random Forest] These are the results for the validation set.\n",
      "r^2:  0.8273756475329619\n",
      "mse:  1.5820386865558473\n",
      "variance_score:  0.827477299710151\n",
      "mse-log:  0.012353862919188057\n",
      "_____________________________________________\n"
     ]
    }
   ],
   "source": [
    "rf = RandomForestRegressor(n_estimators=800, criterion='mse', \n",
    "                                  max_depth=100, min_samples_split=2, min_samples_leaf=1, min_weight_fraction_leaf=0.0, \n",
    "                                  max_features='auto', max_leaf_nodes=None, min_impurity_decrease=0.0, min_impurity_split=None, \n",
    "                                  bootstrap=True, oob_score=True, n_jobs=None, random_state=None, verbose=0, warm_start=False, \n",
    "                                  ccp_alpha=0.0, max_samples=None)\n",
    "\n",
    "run(rf, \"Random Forest\", X_train, X_val)"
   ]
  },
  {
   "cell_type": "code",
   "execution_count": 66,
   "metadata": {},
   "outputs": [
    {
     "name": "stdout",
     "output_type": "stream",
     "text": [
      "r^2:  0.7445568832128984\n",
      "mse:  1.0811114939746114\n",
      "variance_score:  0.7595695902456807\n",
      "mse-log:  0.001436092943883526\n"
     ]
    }
   ],
   "source": [
    "evaluate(rf.predict(X_test), y_test)"
   ]
  },
  {
   "cell_type": "markdown",
   "metadata": {},
   "source": [
    "### Without train-validation-test split\n",
    "**Since we have bootstrap in random forest, as it is based on the idea of bagging**, we can use oob_score as score for validation set and **save the trouble of using train-validation-test split.**\n",
    "\n",
    "**Below is the experimentation**"
   ]
  },
  {
   "cell_type": "code",
   "execution_count": 38,
   "metadata": {},
   "outputs": [],
   "source": [
    "from sklearn.model_selection import train_test_split\n",
    "X_train, X_test, y_train, y_test = train_test_split(X, y, test_size=0.13, random_state=42)\n",
    "\n",
    "# scale the numerical features only (this leaves out the dummy features from earlier)\n",
    "from sklearn.preprocessing import StandardScaler\n",
    "features = numerical\n",
    "scaler = StandardScaler()\n",
    "\n",
    "X_train[features] = scaler.fit_transform(X_train[features])\n",
    "X_test[features] = scaler.transform(X_test[features])"
   ]
  },
  {
   "cell_type": "code",
   "execution_count": 40,
   "metadata": {},
   "outputs": [
    {
     "name": "stdout",
     "output_type": "stream",
     "text": [
      "r^2:  0.9708716956005706\n",
      "mse:  0.193868070322277\n",
      "variance_score:  0.9708726445695811\n",
      "mse-log:  0.0020347526095008954\n"
     ]
    }
   ],
   "source": [
    "rf = RandomForestRegressor(n_estimators=100, criterion='mse', \n",
    "                                  max_depth=None, min_samples_split=2, min_samples_leaf=1, min_weight_fraction_leaf=0.0, \n",
    "                                  max_features='auto', max_leaf_nodes=None, min_impurity_decrease=0.0, min_impurity_split=None, \n",
    "                                  bootstrap=True, oob_score=True, n_jobs=None, random_state=None, verbose=0, warm_start=False, \n",
    "                                  ccp_alpha=0.0, max_samples=None)\n",
    "rf.fit(X_train, y_train)\n",
    "evaluate(rf.predict(X_train), y_train)"
   ]
  },
  {
   "cell_type": "code",
   "execution_count": 42,
   "metadata": {},
   "outputs": [],
   "source": [
    "# Number of trees in random forest\n",
    "n_estimators = [int(x) for x in np.linspace(start = 100, stop = 3000, num = 50)]\n",
    "# Number of features to consider at every split\n",
    "max_features = ['auto', 'sqrt', 'log2']\n",
    "# Maximum number of levels in tree\n",
    "max_depth = [int(x) for x in np.linspace(10, 300, num = 15)]\n",
    "max_depth.append(None)\n",
    "# Minimum number of samples required to split a node\n",
    "min_samples_split = [2, 5, 10]\n",
    "# Minimum number of samples required at each leaf node\n",
    "min_samples_leaf = [1, 2, 4]\n",
    "# Create the random grid\n",
    "random_grid = {'n_estimators': n_estimators,\n",
    "               'max_features': max_features,\n",
    "               'max_depth': max_depth,\n",
    "               'min_samples_split': min_samples_split,\n",
    "               'min_samples_leaf': min_samples_leaf}"
   ]
  },
  {
   "cell_type": "code",
   "execution_count": 43,
   "metadata": {},
   "outputs": [
    {
     "name": "stdout",
     "output_type": "stream",
     "text": [
      "Fitting 3 folds for each of 500 candidates, totalling 1500 fits\n"
     ]
    },
    {
     "name": "stderr",
     "output_type": "stream",
     "text": [
      "[Parallel(n_jobs=-1)]: Using backend LokyBackend with 12 concurrent workers.\n",
      "[Parallel(n_jobs=-1)]: Done  17 tasks      | elapsed:    9.7s\n",
      "[Parallel(n_jobs=-1)]: Done 138 tasks      | elapsed:  1.2min\n",
      "[Parallel(n_jobs=-1)]: Done 341 tasks      | elapsed:  2.6min\n",
      "[Parallel(n_jobs=-1)]: Done 624 tasks      | elapsed:  4.8min\n",
      "[Parallel(n_jobs=-1)]: Done 989 tasks      | elapsed:  7.8min\n",
      "[Parallel(n_jobs=-1)]: Done 1434 tasks      | elapsed: 11.1min\n",
      "[Parallel(n_jobs=-1)]: Done 1500 out of 1500 | elapsed: 11.7min finished\n"
     ]
    },
    {
     "data": {
      "text/plain": [
       "RandomizedSearchCV(cv=3,\n",
       "                   estimator=RandomForestRegressor(oob_score=True,\n",
       "                                                   warm_start=True),\n",
       "                   n_iter=500, n_jobs=-1,\n",
       "                   param_distributions={'max_depth': [10, 30, 51, 72, 92, 113,\n",
       "                                                      134, 155, 175, 196, 217,\n",
       "                                                      237, 258, 279, 300,\n",
       "                                                      None],\n",
       "                                        'max_features': ['auto', 'sqrt',\n",
       "                                                         'log2'],\n",
       "                                        'min_samples_leaf': [1, 2, 4],\n",
       "                                        'min_samples_split': [2, 5, 10],\n",
       "                                        'n_estimators': [100, 159, 218, 277,\n",
       "                                                         336, 395, 455, 514,\n",
       "                                                         573, 632, 691, 751,\n",
       "                                                         810, 869, 928, 987,\n",
       "                                                         1046, 1106, 1165, 1224,\n",
       "                                                         1283, 1342, 1402, 1461,\n",
       "                                                         1520, 1579, 1638, 1697,\n",
       "                                                         1757, 1816, ...]},\n",
       "                   random_state=42, verbose=2)"
      ]
     },
     "execution_count": 43,
     "metadata": {},
     "output_type": "execute_result"
    }
   ],
   "source": [
    "# Use the random grid to search for best hyperparameters\n",
    "# First create the base model to tune\n",
    "rf = RandomForestRegressor(warm_start=True, bootstrap=True, oob_score=True) # use warm_start to speed up\n",
    "# Random search of parameters, using 3 fold cross validation, \n",
    "# search across 100 different combinations, and use all available cores\n",
    "rf_random = RandomizedSearchCV(estimator = rf, param_distributions = random_grid, n_iter = 500, cv = 3, verbose=2, random_state=42, n_jobs = -1)\n",
    "# Fit the random search model\n",
    "rf_random.fit(X_train, y_train)"
   ]
  },
  {
   "cell_type": "code",
   "execution_count": 44,
   "metadata": {},
   "outputs": [
    {
     "data": {
      "text/plain": [
       "{'n_estimators': 1579,\n",
       " 'min_samples_split': 2,\n",
       " 'min_samples_leaf': 1,\n",
       " 'max_features': 'auto',\n",
       " 'max_depth': 51}"
      ]
     },
     "execution_count": 44,
     "metadata": {},
     "output_type": "execute_result"
    }
   ],
   "source": [
    "rf_random.best_params_"
   ]
  },
  {
   "cell_type": "code",
   "execution_count": 45,
   "metadata": {},
   "outputs": [
    {
     "name": "stdout",
     "output_type": "stream",
     "text": [
      "r^2:  0.9726083035151413\n",
      "mse:  0.14520930712856336\n",
      "variance_score:  0.9726093417318531\n",
      "mse-log:  0.0018014463897726726\n"
     ]
    }
   ],
   "source": [
    "best = RandomForestRegressor(n_estimators=1579, criterion='mse', \n",
    "                                  max_depth=51, min_samples_split=2, min_samples_leaf=1, min_weight_fraction_leaf=0.0, \n",
    "                                  max_features='auto', max_leaf_nodes=None, min_impurity_decrease=0.0, min_impurity_split=None, \n",
    "                                  bootstrap=True, oob_score=True, n_jobs=None, random_state=None, verbose=0, warm_start=False, \n",
    "                                  ccp_alpha=0.0, max_samples=None)\n",
    "best.fit(X_train, y_train)\n",
    "evaluate(best.predict(X_train), y_train)"
   ]
  },
  {
   "cell_type": "code",
   "execution_count": 46,
   "metadata": {},
   "outputs": [
    {
     "data": {
      "text/plain": [
       "0.798206361476876"
      ]
     },
     "execution_count": 46,
     "metadata": {},
     "output_type": "execute_result"
    }
   ],
   "source": [
    "best.oob_score_"
   ]
  },
  {
   "cell_type": "code",
   "execution_count": 47,
   "metadata": {},
   "outputs": [
    {
     "name": "stdout",
     "output_type": "stream",
     "text": [
      "r^2:  0.78013155575543\n",
      "mse:  0.4568993833108036\n",
      "variance_score:  0.7943483021442108\n",
      "mse-log:  0.001005881801599879\n"
     ]
    }
   ],
   "source": [
    "evaluate(best.predict(X_test), y_test)"
   ]
  }
 ],
 "metadata": {
  "kernelspec": {
   "display_name": "Python 3",
   "language": "python",
   "name": "python3"
  },
  "language_info": {
   "codemirror_mode": {
    "name": "ipython",
    "version": 3
   },
   "file_extension": ".py",
   "mimetype": "text/x-python",
   "name": "python",
   "nbconvert_exporter": "python",
   "pygments_lexer": "ipython3",
   "version": "3.8.5"
  }
 },
 "nbformat": 4,
 "nbformat_minor": 4
}
