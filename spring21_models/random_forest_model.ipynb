{
 "cells": [
  {
   "cell_type": "code",
   "execution_count": 14,
   "metadata": {},
   "outputs": [],
   "source": [
    "import pandas as pd\n",
    "import numpy as np\n",
    "import sklearn\n",
    "import seaborn as sns"
   ]
  },
  {
   "cell_type": "code",
   "execution_count": 2,
   "metadata": {},
   "outputs": [],
   "source": [
    "import warnings\n",
    "warnings.filterwarnings('ignore')"
   ]
  },
  {
   "cell_type": "code",
   "execution_count": 136,
   "metadata": {},
   "outputs": [],
   "source": [
    "seed = 2"
   ]
  },
  {
   "cell_type": "code",
   "execution_count": 164,
   "metadata": {},
   "outputs": [
    {
     "output_type": "stream",
     "name": "stderr",
     "text": [
      "dist_matrix: 100%|##########| 27/27 [00:00<00:00, 45.18it/s]\n",
      "synth_matrix: 100%|##########| 27/27 [00:00<00:00, 34.50it/s]\n",
      "r_index: 100%|##########| 17/17 [00:00<00:00, 134.80it/s]\n",
      "dist_matrix: 100%|##########| 73/73 [00:04<00:00, 16.76it/s]\n",
      "synth_matrix: 100%|##########| 73/73 [00:00<00:00, 145.00it/s]\n",
      "r_index: 100%|##########| 14/14 [00:00<00:00, 245.39it/s]\n",
      "dist_matrix: 100%|##########| 148/148 [00:17<00:00,  8.27it/s]\n",
      "r_index: 100%|##########| 14/14 [00:00<00:00, 304.07it/s]\n"
     ]
    }
   ],
   "source": [
    "df = pd.read_excel(\"../spring21_data/fa_stats_v3.xlsx\")\n",
    "injury = pd.read_excel(\"../spring21_data/season_ending_and_indefinitely.xlsx\")\n",
    "injury_fa = df.merge(right=injury, how='inner', left_on=['clean_season', 'Player'], right_on=['clean_season', 'Player']).rename(columns={'Unnamed: 0': 'index'})\n",
    "df = df[~df['Unnamed: 0'].isin(injury_fa['index'])]\n",
    "df = df.select_dtypes(exclude=['object'])\n",
    "df.drop(columns=[\"Unnamed: 0\", \"Minutes\", \"salary\", \"clean_season\", \"age\", \"end season_y\", \"season_end\"], inplace=True)\n",
    "\n",
    "X = df.drop(columns=[\"cap_space_usage\"])\n",
    "y = df[\"cap_space_usage\"]\n",
    "\n",
    "X_train, X_test, y_train, y_test = train_test_split(X, y, test_size=0.15, random_state=seed)\n",
    "both = pd.concat([X_train, y_train], axis=1).reset_index().drop(columns=[\"index\"])\n",
    "smote_data_high = smogn.smoter(data = both,\n",
    "                           y = 'cap_space_usage',\n",
    "                           rel_xtrm_type = 'high',\n",
    "                           rel_thres = 0.85,\n",
    "                           k = 11,\n",
    "                           drop_na_col = True,       ## boolean (True or False)\n",
    "                           drop_na_row = True,\n",
    "                           samp_method = 'balance')\n",
    "smote_data_mid = smogn.smoter(data = both,\n",
    "                           y = 'cap_space_usage',\n",
    "                           rel_xtrm_type = 'both',\n",
    "                           rel_thres = 0.25,\n",
    "                           k = 11,\n",
    "                           drop_na_col = True,       ## boolean (True or False)\n",
    "                           drop_na_row = True,\n",
    "                           samp_method = 'extreme')\n",
    "smote_data_low = smogn.smoter(data = both,\n",
    "                           y = 'cap_space_usage',\n",
    "                           rel_xtrm_type = 'both',\n",
    "                           rel_thres = 0.001,\n",
    "                           k = 11,\n",
    "                           drop_na_col = True,       ## boolean (True or False)\n",
    "                           drop_na_row = True,\n",
    "                           samp_method = 'extreme')\n",
    "smote_data = pd.concat([smote_data_high, smote_data_mid, smote_data_low], ignore_index=True).drop_duplicates()\n",
    "sm = smote_data.sample(frac=1) ## make sure to shuffle the rows otherwise the cross validation will be scuffed\n",
    "y = sm[['cap_space_usage']]\n",
    "X = sm.drop(columns=['cap_space_usage'])"
   ]
  },
  {
   "cell_type": "code",
   "execution_count": 165,
   "metadata": {},
   "outputs": [
    {
     "output_type": "execute_result",
     "data": {
      "text/plain": [
       "<seaborn.axisgrid.FacetGrid at 0x21ff5ca0a00>"
      ]
     },
     "metadata": {},
     "execution_count": 165
    },
    {
     "output_type": "display_data",
     "data": {
      "text/plain": "<Figure size 483.375x360 with 1 Axes>",
      "image/svg+xml": "<?xml version=\"1.0\" encoding=\"utf-8\" standalone=\"no\"?>\r\n<!DOCTYPE svg PUBLIC \"-//W3C//DTD SVG 1.1//EN\"\r\n  \"http://www.w3.org/Graphics/SVG/1.1/DTD/svg11.dtd\">\r\n<!-- Created with matplotlib (https://matplotlib.org/) -->\r\n<svg height=\"352.478125pt\" version=\"1.1\" viewBox=\"0 0 481.615625 352.478125\" width=\"481.615625pt\" xmlns=\"http://www.w3.org/2000/svg\" xmlns:xlink=\"http://www.w3.org/1999/xlink\">\r\n <metadata>\r\n  <rdf:RDF xmlns:cc=\"http://creativecommons.org/ns#\" xmlns:dc=\"http://purl.org/dc/elements/1.1/\" xmlns:rdf=\"http://www.w3.org/1999/02/22-rdf-syntax-ns#\">\r\n   <cc:Work>\r\n    <dc:type rdf:resource=\"http://purl.org/dc/dcmitype/StillImage\"/>\r\n    <dc:date>2021-05-28T16:29:24.564289</dc:date>\r\n    <dc:format>image/svg+xml</dc:format>\r\n    <dc:creator>\r\n     <cc:Agent>\r\n      <dc:title>Matplotlib v3.3.4, https://matplotlib.org/</dc:title>\r\n     </cc:Agent>\r\n    </dc:creator>\r\n   </cc:Work>\r\n  </rdf:RDF>\r\n </metadata>\r\n <defs>\r\n  <style type=\"text/css\">*{stroke-linecap:butt;stroke-linejoin:round;}</style>\r\n </defs>\r\n <g id=\"figure_1\">\r\n  <g id=\"patch_1\">\r\n   <path d=\"M 0 352.478125 \r\nL 481.615625 352.478125 \r\nL 481.615625 0 \r\nL 0 0 \r\nz\r\n\" style=\"fill:none;\"/>\r\n  </g>\r\n  <g id=\"axes_1\">\r\n   <g id=\"patch_2\">\r\n    <path d=\"M 46.965625 328.6 \r\nL 340.406875 328.6 \r\nL 340.406875 7.2 \r\nL 46.965625 7.2 \r\nz\r\n\" style=\"fill:#ffffff;\"/>\r\n   </g>\r\n   <g id=\"patch_3\">\r\n    <path clip-path=\"url(#pdf6ab9331b)\" d=\"M 60.303864 328.6 \r\nL 84.555207 328.6 \r\nL 84.555207 22.504762 \r\nL 60.303864 22.504762 \r\nz\r\n\" style=\"fill:#1f77b4;fill-opacity:0.75;stroke:#000000;stroke-linejoin:miter;\"/>\r\n   </g>\r\n   <g id=\"patch_4\">\r\n    <path clip-path=\"url(#pdf6ab9331b)\" d=\"M 84.555207 328.6 \r\nL 108.80655 328.6 \r\nL 108.80655 129.216863 \r\nL 84.555207 129.216863 \r\nz\r\n\" style=\"fill:#1f77b4;fill-opacity:0.75;stroke:#000000;stroke-linejoin:miter;\"/>\r\n   </g>\r\n   <g id=\"patch_5\">\r\n    <path clip-path=\"url(#pdf6ab9331b)\" d=\"M 108.80655 328.6 \r\nL 133.057893 328.6 \r\nL 133.057893 182.572914 \r\nL 108.80655 182.572914 \r\nz\r\n\" style=\"fill:#1f77b4;fill-opacity:0.75;stroke:#000000;stroke-linejoin:miter;\"/>\r\n   </g>\r\n   <g id=\"patch_6\">\r\n    <path clip-path=\"url(#pdf6ab9331b)\" d=\"M 133.057893 328.6 \r\nL 157.309236 328.6 \r\nL 157.309236 92.710092 \r\nL 133.057893 92.710092 \r\nz\r\n\" style=\"fill:#1f77b4;fill-opacity:0.75;stroke:#000000;stroke-linejoin:miter;\"/>\r\n   </g>\r\n   <g id=\"patch_7\">\r\n    <path clip-path=\"url(#pdf6ab9331b)\" d=\"M 157.309236 328.6 \r\nL 181.560579 328.6 \r\nL 181.560579 137.641503 \r\nL 157.309236 137.641503 \r\nz\r\n\" style=\"fill:#1f77b4;fill-opacity:0.75;stroke:#000000;stroke-linejoin:miter;\"/>\r\n   </g>\r\n   <g id=\"patch_8\">\r\n    <path clip-path=\"url(#pdf6ab9331b)\" d=\"M 181.560579 328.6 \r\nL 205.811921 328.6 \r\nL 205.811921 171.340061 \r\nL 181.560579 171.340061 \r\nz\r\n\" style=\"fill:#1f77b4;fill-opacity:0.75;stroke:#000000;stroke-linejoin:miter;\"/>\r\n   </g>\r\n   <g id=\"patch_9\">\r\n    <path clip-path=\"url(#pdf6ab9331b)\" d=\"M 205.811921 328.6 \r\nL 230.063264 328.6 \r\nL 230.063264 92.710092 \r\nL 205.811921 92.710092 \r\nz\r\n\" style=\"fill:#1f77b4;fill-opacity:0.75;stroke:#000000;stroke-linejoin:miter;\"/>\r\n   </g>\r\n   <g id=\"patch_10\">\r\n    <path clip-path=\"url(#pdf6ab9331b)\" d=\"M 230.063264 328.6 \r\nL 254.314607 328.6 \r\nL 254.314607 202.230406 \r\nL 230.063264 202.230406 \r\nz\r\n\" style=\"fill:#1f77b4;fill-opacity:0.75;stroke:#000000;stroke-linejoin:miter;\"/>\r\n   </g>\r\n   <g id=\"patch_11\">\r\n    <path clip-path=\"url(#pdf6ab9331b)\" d=\"M 254.314607 328.6 \r\nL 278.56595 328.6 \r\nL 278.56595 314.558934 \r\nL 254.314607 314.558934 \r\nz\r\n\" style=\"fill:#1f77b4;fill-opacity:0.75;stroke:#000000;stroke-linejoin:miter;\"/>\r\n   </g>\r\n   <g id=\"patch_12\">\r\n    <path clip-path=\"url(#pdf6ab9331b)\" d=\"M 278.56595 328.6 \r\nL 302.817293 328.6 \r\nL 302.817293 328.6 \r\nL 278.56595 328.6 \r\nz\r\n\" style=\"fill:#1f77b4;fill-opacity:0.75;stroke:#000000;stroke-linejoin:miter;\"/>\r\n   </g>\r\n   <g id=\"patch_13\">\r\n    <path clip-path=\"url(#pdf6ab9331b)\" d=\"M 302.817293 328.6 \r\nL 327.068636 328.6 \r\nL 327.068636 322.983574 \r\nL 302.817293 322.983574 \r\nz\r\n\" style=\"fill:#1f77b4;fill-opacity:0.75;stroke:#000000;stroke-linejoin:miter;\"/>\r\n   </g>\r\n   <g id=\"matplotlib.axis_1\">\r\n    <g id=\"xtick_1\">\r\n     <g id=\"line2d_1\">\r\n      <defs>\r\n       <path d=\"M 0 0 \r\nL 0 3.5 \r\n\" id=\"m4916ee70a1\" style=\"stroke:#000000;stroke-width:0.8;\"/>\r\n      </defs>\r\n      <g>\r\n       <use style=\"stroke:#000000;stroke-width:0.8;\" x=\"59.848494\" xlink:href=\"#m4916ee70a1\" y=\"328.6\"/>\r\n      </g>\r\n     </g>\r\n     <g id=\"text_1\">\r\n      <!-- 0.0 -->\r\n      <g transform=\"translate(51.896932 343.198437)scale(0.1 -0.1)\">\r\n       <defs>\r\n        <path d=\"M 31.78125 66.40625 \r\nQ 24.171875 66.40625 20.328125 58.90625 \r\nQ 16.5 51.421875 16.5 36.375 \r\nQ 16.5 21.390625 20.328125 13.890625 \r\nQ 24.171875 6.390625 31.78125 6.390625 \r\nQ 39.453125 6.390625 43.28125 13.890625 \r\nQ 47.125 21.390625 47.125 36.375 \r\nQ 47.125 51.421875 43.28125 58.90625 \r\nQ 39.453125 66.40625 31.78125 66.40625 \r\nz\r\nM 31.78125 74.21875 \r\nQ 44.046875 74.21875 50.515625 64.515625 \r\nQ 56.984375 54.828125 56.984375 36.375 \r\nQ 56.984375 17.96875 50.515625 8.265625 \r\nQ 44.046875 -1.421875 31.78125 -1.421875 \r\nQ 19.53125 -1.421875 13.0625 8.265625 \r\nQ 6.59375 17.96875 6.59375 36.375 \r\nQ 6.59375 54.828125 13.0625 64.515625 \r\nQ 19.53125 74.21875 31.78125 74.21875 \r\nz\r\n\" id=\"DejaVuSans-48\"/>\r\n        <path d=\"M 10.6875 12.40625 \r\nL 21 12.40625 \r\nL 21 0 \r\nL 10.6875 0 \r\nz\r\n\" id=\"DejaVuSans-46\"/>\r\n       </defs>\r\n       <use xlink:href=\"#DejaVuSans-48\"/>\r\n       <use x=\"63.623047\" xlink:href=\"#DejaVuSans-46\"/>\r\n       <use x=\"95.410156\" xlink:href=\"#DejaVuSans-48\"/>\r\n      </g>\r\n     </g>\r\n    </g>\r\n    <g id=\"xtick_2\">\r\n     <g id=\"line2d_2\">\r\n      <g>\r\n       <use style=\"stroke:#000000;stroke-width:0.8;\" x=\"119.230748\" xlink:href=\"#m4916ee70a1\" y=\"328.6\"/>\r\n      </g>\r\n     </g>\r\n     <g id=\"text_2\">\r\n      <!-- 0.1 -->\r\n      <g transform=\"translate(111.279186 343.198437)scale(0.1 -0.1)\">\r\n       <defs>\r\n        <path d=\"M 12.40625 8.296875 \r\nL 28.515625 8.296875 \r\nL 28.515625 63.921875 \r\nL 10.984375 60.40625 \r\nL 10.984375 69.390625 \r\nL 28.421875 72.90625 \r\nL 38.28125 72.90625 \r\nL 38.28125 8.296875 \r\nL 54.390625 8.296875 \r\nL 54.390625 0 \r\nL 12.40625 0 \r\nz\r\n\" id=\"DejaVuSans-49\"/>\r\n       </defs>\r\n       <use xlink:href=\"#DejaVuSans-48\"/>\r\n       <use x=\"63.623047\" xlink:href=\"#DejaVuSans-46\"/>\r\n       <use x=\"95.410156\" xlink:href=\"#DejaVuSans-49\"/>\r\n      </g>\r\n     </g>\r\n    </g>\r\n    <g id=\"xtick_3\">\r\n     <g id=\"line2d_3\">\r\n      <g>\r\n       <use style=\"stroke:#000000;stroke-width:0.8;\" x=\"178.613002\" xlink:href=\"#m4916ee70a1\" y=\"328.6\"/>\r\n      </g>\r\n     </g>\r\n     <g id=\"text_3\">\r\n      <!-- 0.2 -->\r\n      <g transform=\"translate(170.661439 343.198437)scale(0.1 -0.1)\">\r\n       <defs>\r\n        <path d=\"M 19.1875 8.296875 \r\nL 53.609375 8.296875 \r\nL 53.609375 0 \r\nL 7.328125 0 \r\nL 7.328125 8.296875 \r\nQ 12.9375 14.109375 22.625 23.890625 \r\nQ 32.328125 33.6875 34.8125 36.53125 \r\nQ 39.546875 41.84375 41.421875 45.53125 \r\nQ 43.3125 49.21875 43.3125 52.78125 \r\nQ 43.3125 58.59375 39.234375 62.25 \r\nQ 35.15625 65.921875 28.609375 65.921875 \r\nQ 23.96875 65.921875 18.8125 64.3125 \r\nQ 13.671875 62.703125 7.8125 59.421875 \r\nL 7.8125 69.390625 \r\nQ 13.765625 71.78125 18.9375 73 \r\nQ 24.125 74.21875 28.421875 74.21875 \r\nQ 39.75 74.21875 46.484375 68.546875 \r\nQ 53.21875 62.890625 53.21875 53.421875 \r\nQ 53.21875 48.921875 51.53125 44.890625 \r\nQ 49.859375 40.875 45.40625 35.40625 \r\nQ 44.1875 33.984375 37.640625 27.21875 \r\nQ 31.109375 20.453125 19.1875 8.296875 \r\nz\r\n\" id=\"DejaVuSans-50\"/>\r\n       </defs>\r\n       <use xlink:href=\"#DejaVuSans-48\"/>\r\n       <use x=\"63.623047\" xlink:href=\"#DejaVuSans-46\"/>\r\n       <use x=\"95.410156\" xlink:href=\"#DejaVuSans-50\"/>\r\n      </g>\r\n     </g>\r\n    </g>\r\n    <g id=\"xtick_4\">\r\n     <g id=\"line2d_4\">\r\n      <g>\r\n       <use style=\"stroke:#000000;stroke-width:0.8;\" x=\"237.995256\" xlink:href=\"#m4916ee70a1\" y=\"328.6\"/>\r\n      </g>\r\n     </g>\r\n     <g id=\"text_4\">\r\n      <!-- 0.3 -->\r\n      <g transform=\"translate(230.043693 343.198437)scale(0.1 -0.1)\">\r\n       <defs>\r\n        <path d=\"M 40.578125 39.3125 \r\nQ 47.65625 37.796875 51.625 33 \r\nQ 55.609375 28.21875 55.609375 21.1875 \r\nQ 55.609375 10.40625 48.1875 4.484375 \r\nQ 40.765625 -1.421875 27.09375 -1.421875 \r\nQ 22.515625 -1.421875 17.65625 -0.515625 \r\nQ 12.796875 0.390625 7.625 2.203125 \r\nL 7.625 11.71875 \r\nQ 11.71875 9.328125 16.59375 8.109375 \r\nQ 21.484375 6.890625 26.8125 6.890625 \r\nQ 36.078125 6.890625 40.9375 10.546875 \r\nQ 45.796875 14.203125 45.796875 21.1875 \r\nQ 45.796875 27.640625 41.28125 31.265625 \r\nQ 36.765625 34.90625 28.71875 34.90625 \r\nL 20.21875 34.90625 \r\nL 20.21875 43.015625 \r\nL 29.109375 43.015625 \r\nQ 36.375 43.015625 40.234375 45.921875 \r\nQ 44.09375 48.828125 44.09375 54.296875 \r\nQ 44.09375 59.90625 40.109375 62.90625 \r\nQ 36.140625 65.921875 28.71875 65.921875 \r\nQ 24.65625 65.921875 20.015625 65.03125 \r\nQ 15.375 64.15625 9.8125 62.3125 \r\nL 9.8125 71.09375 \r\nQ 15.4375 72.65625 20.34375 73.4375 \r\nQ 25.25 74.21875 29.59375 74.21875 \r\nQ 40.828125 74.21875 47.359375 69.109375 \r\nQ 53.90625 64.015625 53.90625 55.328125 \r\nQ 53.90625 49.265625 50.4375 45.09375 \r\nQ 46.96875 40.921875 40.578125 39.3125 \r\nz\r\n\" id=\"DejaVuSans-51\"/>\r\n       </defs>\r\n       <use xlink:href=\"#DejaVuSans-48\"/>\r\n       <use x=\"63.623047\" xlink:href=\"#DejaVuSans-46\"/>\r\n       <use x=\"95.410156\" xlink:href=\"#DejaVuSans-51\"/>\r\n      </g>\r\n     </g>\r\n    </g>\r\n    <g id=\"xtick_5\">\r\n     <g id=\"line2d_5\">\r\n      <g>\r\n       <use style=\"stroke:#000000;stroke-width:0.8;\" x=\"297.377509\" xlink:href=\"#m4916ee70a1\" y=\"328.6\"/>\r\n      </g>\r\n     </g>\r\n     <g id=\"text_5\">\r\n      <!-- 0.4 -->\r\n      <g transform=\"translate(289.425947 343.198437)scale(0.1 -0.1)\">\r\n       <defs>\r\n        <path d=\"M 37.796875 64.3125 \r\nL 12.890625 25.390625 \r\nL 37.796875 25.390625 \r\nz\r\nM 35.203125 72.90625 \r\nL 47.609375 72.90625 \r\nL 47.609375 25.390625 \r\nL 58.015625 25.390625 \r\nL 58.015625 17.1875 \r\nL 47.609375 17.1875 \r\nL 47.609375 0 \r\nL 37.796875 0 \r\nL 37.796875 17.1875 \r\nL 4.890625 17.1875 \r\nL 4.890625 26.703125 \r\nz\r\n\" id=\"DejaVuSans-52\"/>\r\n       </defs>\r\n       <use xlink:href=\"#DejaVuSans-48\"/>\r\n       <use x=\"63.623047\" xlink:href=\"#DejaVuSans-46\"/>\r\n       <use x=\"95.410156\" xlink:href=\"#DejaVuSans-52\"/>\r\n      </g>\r\n     </g>\r\n    </g>\r\n   </g>\r\n   <g id=\"matplotlib.axis_2\">\r\n    <g id=\"ytick_1\">\r\n     <g id=\"line2d_6\">\r\n      <defs>\r\n       <path d=\"M 0 0 \r\nL -3.5 0 \r\n\" id=\"m77adf106d6\" style=\"stroke:#000000;stroke-width:0.8;\"/>\r\n      </defs>\r\n      <g>\r\n       <use style=\"stroke:#000000;stroke-width:0.8;\" x=\"46.965625\" xlink:href=\"#m77adf106d6\" y=\"328.6\"/>\r\n      </g>\r\n     </g>\r\n     <g id=\"text_6\">\r\n      <!-- 0 -->\r\n      <g transform=\"translate(33.603125 332.399219)scale(0.1 -0.1)\">\r\n       <use xlink:href=\"#DejaVuSans-48\"/>\r\n      </g>\r\n     </g>\r\n    </g>\r\n    <g id=\"ytick_2\">\r\n     <g id=\"line2d_7\">\r\n      <g>\r\n       <use style=\"stroke:#000000;stroke-width:0.8;\" x=\"46.965625\" xlink:href=\"#m77adf106d6\" y=\"272.435736\"/>\r\n      </g>\r\n     </g>\r\n     <g id=\"text_7\">\r\n      <!-- 20 -->\r\n      <g transform=\"translate(27.240625 276.234955)scale(0.1 -0.1)\">\r\n       <use xlink:href=\"#DejaVuSans-50\"/>\r\n       <use x=\"63.623047\" xlink:href=\"#DejaVuSans-48\"/>\r\n      </g>\r\n     </g>\r\n    </g>\r\n    <g id=\"ytick_3\">\r\n     <g id=\"line2d_8\">\r\n      <g>\r\n       <use style=\"stroke:#000000;stroke-width:0.8;\" x=\"46.965625\" xlink:href=\"#m77adf106d6\" y=\"216.271472\"/>\r\n      </g>\r\n     </g>\r\n     <g id=\"text_8\">\r\n      <!-- 40 -->\r\n      <g transform=\"translate(27.240625 220.070691)scale(0.1 -0.1)\">\r\n       <use xlink:href=\"#DejaVuSans-52\"/>\r\n       <use x=\"63.623047\" xlink:href=\"#DejaVuSans-48\"/>\r\n      </g>\r\n     </g>\r\n    </g>\r\n    <g id=\"ytick_4\">\r\n     <g id=\"line2d_9\">\r\n      <g>\r\n       <use style=\"stroke:#000000;stroke-width:0.8;\" x=\"46.965625\" xlink:href=\"#m77adf106d6\" y=\"160.107208\"/>\r\n      </g>\r\n     </g>\r\n     <g id=\"text_9\">\r\n      <!-- 60 -->\r\n      <g transform=\"translate(27.240625 163.906427)scale(0.1 -0.1)\">\r\n       <defs>\r\n        <path d=\"M 33.015625 40.375 \r\nQ 26.375 40.375 22.484375 35.828125 \r\nQ 18.609375 31.296875 18.609375 23.390625 \r\nQ 18.609375 15.53125 22.484375 10.953125 \r\nQ 26.375 6.390625 33.015625 6.390625 \r\nQ 39.65625 6.390625 43.53125 10.953125 \r\nQ 47.40625 15.53125 47.40625 23.390625 \r\nQ 47.40625 31.296875 43.53125 35.828125 \r\nQ 39.65625 40.375 33.015625 40.375 \r\nz\r\nM 52.59375 71.296875 \r\nL 52.59375 62.3125 \r\nQ 48.875 64.0625 45.09375 64.984375 \r\nQ 41.3125 65.921875 37.59375 65.921875 \r\nQ 27.828125 65.921875 22.671875 59.328125 \r\nQ 17.53125 52.734375 16.796875 39.40625 \r\nQ 19.671875 43.65625 24.015625 45.921875 \r\nQ 28.375 48.1875 33.59375 48.1875 \r\nQ 44.578125 48.1875 50.953125 41.515625 \r\nQ 57.328125 34.859375 57.328125 23.390625 \r\nQ 57.328125 12.15625 50.6875 5.359375 \r\nQ 44.046875 -1.421875 33.015625 -1.421875 \r\nQ 20.359375 -1.421875 13.671875 8.265625 \r\nQ 6.984375 17.96875 6.984375 36.375 \r\nQ 6.984375 53.65625 15.1875 63.9375 \r\nQ 23.390625 74.21875 37.203125 74.21875 \r\nQ 40.921875 74.21875 44.703125 73.484375 \r\nQ 48.484375 72.75 52.59375 71.296875 \r\nz\r\n\" id=\"DejaVuSans-54\"/>\r\n       </defs>\r\n       <use xlink:href=\"#DejaVuSans-54\"/>\r\n       <use x=\"63.623047\" xlink:href=\"#DejaVuSans-48\"/>\r\n      </g>\r\n     </g>\r\n    </g>\r\n    <g id=\"ytick_5\">\r\n     <g id=\"line2d_10\">\r\n      <g>\r\n       <use style=\"stroke:#000000;stroke-width:0.8;\" x=\"46.965625\" xlink:href=\"#m77adf106d6\" y=\"103.942945\"/>\r\n      </g>\r\n     </g>\r\n     <g id=\"text_10\">\r\n      <!-- 80 -->\r\n      <g transform=\"translate(27.240625 107.742163)scale(0.1 -0.1)\">\r\n       <defs>\r\n        <path d=\"M 31.78125 34.625 \r\nQ 24.75 34.625 20.71875 30.859375 \r\nQ 16.703125 27.09375 16.703125 20.515625 \r\nQ 16.703125 13.921875 20.71875 10.15625 \r\nQ 24.75 6.390625 31.78125 6.390625 \r\nQ 38.8125 6.390625 42.859375 10.171875 \r\nQ 46.921875 13.96875 46.921875 20.515625 \r\nQ 46.921875 27.09375 42.890625 30.859375 \r\nQ 38.875 34.625 31.78125 34.625 \r\nz\r\nM 21.921875 38.8125 \r\nQ 15.578125 40.375 12.03125 44.71875 \r\nQ 8.5 49.078125 8.5 55.328125 \r\nQ 8.5 64.0625 14.71875 69.140625 \r\nQ 20.953125 74.21875 31.78125 74.21875 \r\nQ 42.671875 74.21875 48.875 69.140625 \r\nQ 55.078125 64.0625 55.078125 55.328125 \r\nQ 55.078125 49.078125 51.53125 44.71875 \r\nQ 48 40.375 41.703125 38.8125 \r\nQ 48.828125 37.15625 52.796875 32.3125 \r\nQ 56.78125 27.484375 56.78125 20.515625 \r\nQ 56.78125 9.90625 50.3125 4.234375 \r\nQ 43.84375 -1.421875 31.78125 -1.421875 \r\nQ 19.734375 -1.421875 13.25 4.234375 \r\nQ 6.78125 9.90625 6.78125 20.515625 \r\nQ 6.78125 27.484375 10.78125 32.3125 \r\nQ 14.796875 37.15625 21.921875 38.8125 \r\nz\r\nM 18.3125 54.390625 \r\nQ 18.3125 48.734375 21.84375 45.5625 \r\nQ 25.390625 42.390625 31.78125 42.390625 \r\nQ 38.140625 42.390625 41.71875 45.5625 \r\nQ 45.3125 48.734375 45.3125 54.390625 \r\nQ 45.3125 60.0625 41.71875 63.234375 \r\nQ 38.140625 66.40625 31.78125 66.40625 \r\nQ 25.390625 66.40625 21.84375 63.234375 \r\nQ 18.3125 60.0625 18.3125 54.390625 \r\nz\r\n\" id=\"DejaVuSans-56\"/>\r\n       </defs>\r\n       <use xlink:href=\"#DejaVuSans-56\"/>\r\n       <use x=\"63.623047\" xlink:href=\"#DejaVuSans-48\"/>\r\n      </g>\r\n     </g>\r\n    </g>\r\n    <g id=\"ytick_6\">\r\n     <g id=\"line2d_11\">\r\n      <g>\r\n       <use style=\"stroke:#000000;stroke-width:0.8;\" x=\"46.965625\" xlink:href=\"#m77adf106d6\" y=\"47.778681\"/>\r\n      </g>\r\n     </g>\r\n     <g id=\"text_11\">\r\n      <!-- 100 -->\r\n      <g transform=\"translate(20.878125 51.577899)scale(0.1 -0.1)\">\r\n       <use xlink:href=\"#DejaVuSans-49\"/>\r\n       <use x=\"63.623047\" xlink:href=\"#DejaVuSans-48\"/>\r\n       <use x=\"127.246094\" xlink:href=\"#DejaVuSans-48\"/>\r\n      </g>\r\n     </g>\r\n    </g>\r\n    <g id=\"text_12\">\r\n     <!-- Count -->\r\n     <g transform=\"translate(14.798438 182.748437)rotate(-90)scale(0.1 -0.1)\">\r\n      <defs>\r\n       <path d=\"M 64.40625 67.28125 \r\nL 64.40625 56.890625 \r\nQ 59.421875 61.53125 53.78125 63.8125 \r\nQ 48.140625 66.109375 41.796875 66.109375 \r\nQ 29.296875 66.109375 22.65625 58.46875 \r\nQ 16.015625 50.828125 16.015625 36.375 \r\nQ 16.015625 21.96875 22.65625 14.328125 \r\nQ 29.296875 6.6875 41.796875 6.6875 \r\nQ 48.140625 6.6875 53.78125 8.984375 \r\nQ 59.421875 11.28125 64.40625 15.921875 \r\nL 64.40625 5.609375 \r\nQ 59.234375 2.09375 53.4375 0.328125 \r\nQ 47.65625 -1.421875 41.21875 -1.421875 \r\nQ 24.65625 -1.421875 15.125 8.703125 \r\nQ 5.609375 18.84375 5.609375 36.375 \r\nQ 5.609375 53.953125 15.125 64.078125 \r\nQ 24.65625 74.21875 41.21875 74.21875 \r\nQ 47.75 74.21875 53.53125 72.484375 \r\nQ 59.328125 70.75 64.40625 67.28125 \r\nz\r\n\" id=\"DejaVuSans-67\"/>\r\n       <path d=\"M 30.609375 48.390625 \r\nQ 23.390625 48.390625 19.1875 42.75 \r\nQ 14.984375 37.109375 14.984375 27.296875 \r\nQ 14.984375 17.484375 19.15625 11.84375 \r\nQ 23.34375 6.203125 30.609375 6.203125 \r\nQ 37.796875 6.203125 41.984375 11.859375 \r\nQ 46.1875 17.53125 46.1875 27.296875 \r\nQ 46.1875 37.015625 41.984375 42.703125 \r\nQ 37.796875 48.390625 30.609375 48.390625 \r\nz\r\nM 30.609375 56 \r\nQ 42.328125 56 49.015625 48.375 \r\nQ 55.71875 40.765625 55.71875 27.296875 \r\nQ 55.71875 13.875 49.015625 6.21875 \r\nQ 42.328125 -1.421875 30.609375 -1.421875 \r\nQ 18.84375 -1.421875 12.171875 6.21875 \r\nQ 5.515625 13.875 5.515625 27.296875 \r\nQ 5.515625 40.765625 12.171875 48.375 \r\nQ 18.84375 56 30.609375 56 \r\nz\r\n\" id=\"DejaVuSans-111\"/>\r\n       <path d=\"M 8.5 21.578125 \r\nL 8.5 54.6875 \r\nL 17.484375 54.6875 \r\nL 17.484375 21.921875 \r\nQ 17.484375 14.15625 20.5 10.265625 \r\nQ 23.53125 6.390625 29.59375 6.390625 \r\nQ 36.859375 6.390625 41.078125 11.03125 \r\nQ 45.3125 15.671875 45.3125 23.6875 \r\nL 45.3125 54.6875 \r\nL 54.296875 54.6875 \r\nL 54.296875 0 \r\nL 45.3125 0 \r\nL 45.3125 8.40625 \r\nQ 42.046875 3.421875 37.71875 1 \r\nQ 33.40625 -1.421875 27.6875 -1.421875 \r\nQ 18.265625 -1.421875 13.375 4.4375 \r\nQ 8.5 10.296875 8.5 21.578125 \r\nz\r\nM 31.109375 56 \r\nz\r\n\" id=\"DejaVuSans-117\"/>\r\n       <path d=\"M 54.890625 33.015625 \r\nL 54.890625 0 \r\nL 45.90625 0 \r\nL 45.90625 32.71875 \r\nQ 45.90625 40.484375 42.875 44.328125 \r\nQ 39.84375 48.1875 33.796875 48.1875 \r\nQ 26.515625 48.1875 22.3125 43.546875 \r\nQ 18.109375 38.921875 18.109375 30.90625 \r\nL 18.109375 0 \r\nL 9.078125 0 \r\nL 9.078125 54.6875 \r\nL 18.109375 54.6875 \r\nL 18.109375 46.1875 \r\nQ 21.34375 51.125 25.703125 53.5625 \r\nQ 30.078125 56 35.796875 56 \r\nQ 45.21875 56 50.046875 50.171875 \r\nQ 54.890625 44.34375 54.890625 33.015625 \r\nz\r\n\" id=\"DejaVuSans-110\"/>\r\n       <path d=\"M 18.3125 70.21875 \r\nL 18.3125 54.6875 \r\nL 36.8125 54.6875 \r\nL 36.8125 47.703125 \r\nL 18.3125 47.703125 \r\nL 18.3125 18.015625 \r\nQ 18.3125 11.328125 20.140625 9.421875 \r\nQ 21.96875 7.515625 27.59375 7.515625 \r\nL 36.8125 7.515625 \r\nL 36.8125 0 \r\nL 27.59375 0 \r\nQ 17.1875 0 13.234375 3.875 \r\nQ 9.28125 7.765625 9.28125 18.015625 \r\nL 9.28125 47.703125 \r\nL 2.6875 47.703125 \r\nL 2.6875 54.6875 \r\nL 9.28125 54.6875 \r\nL 9.28125 70.21875 \r\nz\r\n\" id=\"DejaVuSans-116\"/>\r\n      </defs>\r\n      <use xlink:href=\"#DejaVuSans-67\"/>\r\n      <use x=\"69.824219\" xlink:href=\"#DejaVuSans-111\"/>\r\n      <use x=\"131.005859\" xlink:href=\"#DejaVuSans-117\"/>\r\n      <use x=\"194.384766\" xlink:href=\"#DejaVuSans-110\"/>\r\n      <use x=\"257.763672\" xlink:href=\"#DejaVuSans-116\"/>\r\n     </g>\r\n    </g>\r\n   </g>\r\n   <g id=\"patch_14\">\r\n    <path d=\"M 46.965625 328.6 \r\nL 46.965625 7.2 \r\n\" style=\"fill:none;stroke:#000000;stroke-linecap:square;stroke-linejoin:miter;stroke-width:0.8;\"/>\r\n   </g>\r\n   <g id=\"patch_15\">\r\n    <path d=\"M 46.965625 328.6 \r\nL 340.406875 328.6 \r\n\" style=\"fill:none;stroke:#000000;stroke-linecap:square;stroke-linejoin:miter;stroke-width:0.8;\"/>\r\n   </g>\r\n  </g>\r\n  <g id=\"legend_1\">\r\n   <g id=\"patch_16\">\r\n    <path d=\"M 357.126562 178.859375 \r\nL 377.126562 178.859375 \r\nL 377.126562 171.859375 \r\nL 357.126562 171.859375 \r\nz\r\n\" style=\"fill:#1f77b4;fill-opacity:0.75;stroke:#000000;stroke-linejoin:miter;\"/>\r\n   </g>\r\n   <g id=\"text_13\">\r\n    <!-- cap_space_usage -->\r\n    <g transform=\"translate(385.126562 178.859375)scale(0.1 -0.1)\">\r\n     <defs>\r\n      <path d=\"M 48.78125 52.59375 \r\nL 48.78125 44.1875 \r\nQ 44.96875 46.296875 41.140625 47.34375 \r\nQ 37.3125 48.390625 33.40625 48.390625 \r\nQ 24.65625 48.390625 19.8125 42.84375 \r\nQ 14.984375 37.3125 14.984375 27.296875 \r\nQ 14.984375 17.28125 19.8125 11.734375 \r\nQ 24.65625 6.203125 33.40625 6.203125 \r\nQ 37.3125 6.203125 41.140625 7.25 \r\nQ 44.96875 8.296875 48.78125 10.40625 \r\nL 48.78125 2.09375 \r\nQ 45.015625 0.34375 40.984375 -0.53125 \r\nQ 36.96875 -1.421875 32.421875 -1.421875 \r\nQ 20.0625 -1.421875 12.78125 6.34375 \r\nQ 5.515625 14.109375 5.515625 27.296875 \r\nQ 5.515625 40.671875 12.859375 48.328125 \r\nQ 20.21875 56 33.015625 56 \r\nQ 37.15625 56 41.109375 55.140625 \r\nQ 45.0625 54.296875 48.78125 52.59375 \r\nz\r\n\" id=\"DejaVuSans-99\"/>\r\n      <path d=\"M 34.28125 27.484375 \r\nQ 23.390625 27.484375 19.1875 25 \r\nQ 14.984375 22.515625 14.984375 16.5 \r\nQ 14.984375 11.71875 18.140625 8.90625 \r\nQ 21.296875 6.109375 26.703125 6.109375 \r\nQ 34.1875 6.109375 38.703125 11.40625 \r\nQ 43.21875 16.703125 43.21875 25.484375 \r\nL 43.21875 27.484375 \r\nz\r\nM 52.203125 31.203125 \r\nL 52.203125 0 \r\nL 43.21875 0 \r\nL 43.21875 8.296875 \r\nQ 40.140625 3.328125 35.546875 0.953125 \r\nQ 30.953125 -1.421875 24.3125 -1.421875 \r\nQ 15.921875 -1.421875 10.953125 3.296875 \r\nQ 6 8.015625 6 15.921875 \r\nQ 6 25.140625 12.171875 29.828125 \r\nQ 18.359375 34.515625 30.609375 34.515625 \r\nL 43.21875 34.515625 \r\nL 43.21875 35.40625 \r\nQ 43.21875 41.609375 39.140625 45 \r\nQ 35.0625 48.390625 27.6875 48.390625 \r\nQ 23 48.390625 18.546875 47.265625 \r\nQ 14.109375 46.140625 10.015625 43.890625 \r\nL 10.015625 52.203125 \r\nQ 14.9375 54.109375 19.578125 55.046875 \r\nQ 24.21875 56 28.609375 56 \r\nQ 40.484375 56 46.34375 49.84375 \r\nQ 52.203125 43.703125 52.203125 31.203125 \r\nz\r\n\" id=\"DejaVuSans-97\"/>\r\n      <path d=\"M 18.109375 8.203125 \r\nL 18.109375 -20.796875 \r\nL 9.078125 -20.796875 \r\nL 9.078125 54.6875 \r\nL 18.109375 54.6875 \r\nL 18.109375 46.390625 \r\nQ 20.953125 51.265625 25.265625 53.625 \r\nQ 29.59375 56 35.59375 56 \r\nQ 45.5625 56 51.78125 48.09375 \r\nQ 58.015625 40.1875 58.015625 27.296875 \r\nQ 58.015625 14.40625 51.78125 6.484375 \r\nQ 45.5625 -1.421875 35.59375 -1.421875 \r\nQ 29.59375 -1.421875 25.265625 0.953125 \r\nQ 20.953125 3.328125 18.109375 8.203125 \r\nz\r\nM 48.6875 27.296875 \r\nQ 48.6875 37.203125 44.609375 42.84375 \r\nQ 40.53125 48.484375 33.40625 48.484375 \r\nQ 26.265625 48.484375 22.1875 42.84375 \r\nQ 18.109375 37.203125 18.109375 27.296875 \r\nQ 18.109375 17.390625 22.1875 11.75 \r\nQ 26.265625 6.109375 33.40625 6.109375 \r\nQ 40.53125 6.109375 44.609375 11.75 \r\nQ 48.6875 17.390625 48.6875 27.296875 \r\nz\r\n\" id=\"DejaVuSans-112\"/>\r\n      <path d=\"M 50.984375 -16.609375 \r\nL 50.984375 -23.578125 \r\nL -0.984375 -23.578125 \r\nL -0.984375 -16.609375 \r\nz\r\n\" id=\"DejaVuSans-95\"/>\r\n      <path d=\"M 44.28125 53.078125 \r\nL 44.28125 44.578125 \r\nQ 40.484375 46.53125 36.375 47.5 \r\nQ 32.28125 48.484375 27.875 48.484375 \r\nQ 21.1875 48.484375 17.84375 46.4375 \r\nQ 14.5 44.390625 14.5 40.28125 \r\nQ 14.5 37.15625 16.890625 35.375 \r\nQ 19.28125 33.59375 26.515625 31.984375 \r\nL 29.59375 31.296875 \r\nQ 39.15625 29.25 43.1875 25.515625 \r\nQ 47.21875 21.78125 47.21875 15.09375 \r\nQ 47.21875 7.46875 41.1875 3.015625 \r\nQ 35.15625 -1.421875 24.609375 -1.421875 \r\nQ 20.21875 -1.421875 15.453125 -0.5625 \r\nQ 10.6875 0.296875 5.421875 2 \r\nL 5.421875 11.28125 \r\nQ 10.40625 8.6875 15.234375 7.390625 \r\nQ 20.0625 6.109375 24.8125 6.109375 \r\nQ 31.15625 6.109375 34.5625 8.28125 \r\nQ 37.984375 10.453125 37.984375 14.40625 \r\nQ 37.984375 18.0625 35.515625 20.015625 \r\nQ 33.0625 21.96875 24.703125 23.78125 \r\nL 21.578125 24.515625 \r\nQ 13.234375 26.265625 9.515625 29.90625 \r\nQ 5.8125 33.546875 5.8125 39.890625 \r\nQ 5.8125 47.609375 11.28125 51.796875 \r\nQ 16.75 56 26.8125 56 \r\nQ 31.78125 56 36.171875 55.265625 \r\nQ 40.578125 54.546875 44.28125 53.078125 \r\nz\r\n\" id=\"DejaVuSans-115\"/>\r\n      <path d=\"M 56.203125 29.59375 \r\nL 56.203125 25.203125 \r\nL 14.890625 25.203125 \r\nQ 15.484375 15.921875 20.484375 11.0625 \r\nQ 25.484375 6.203125 34.421875 6.203125 \r\nQ 39.59375 6.203125 44.453125 7.46875 \r\nQ 49.3125 8.734375 54.109375 11.28125 \r\nL 54.109375 2.78125 \r\nQ 49.265625 0.734375 44.1875 -0.34375 \r\nQ 39.109375 -1.421875 33.890625 -1.421875 \r\nQ 20.796875 -1.421875 13.15625 6.1875 \r\nQ 5.515625 13.8125 5.515625 26.8125 \r\nQ 5.515625 40.234375 12.765625 48.109375 \r\nQ 20.015625 56 32.328125 56 \r\nQ 43.359375 56 49.78125 48.890625 \r\nQ 56.203125 41.796875 56.203125 29.59375 \r\nz\r\nM 47.21875 32.234375 \r\nQ 47.125 39.59375 43.09375 43.984375 \r\nQ 39.0625 48.390625 32.421875 48.390625 \r\nQ 24.90625 48.390625 20.390625 44.140625 \r\nQ 15.875 39.890625 15.1875 32.171875 \r\nz\r\n\" id=\"DejaVuSans-101\"/>\r\n      <path d=\"M 45.40625 27.984375 \r\nQ 45.40625 37.75 41.375 43.109375 \r\nQ 37.359375 48.484375 30.078125 48.484375 \r\nQ 22.859375 48.484375 18.828125 43.109375 \r\nQ 14.796875 37.75 14.796875 27.984375 \r\nQ 14.796875 18.265625 18.828125 12.890625 \r\nQ 22.859375 7.515625 30.078125 7.515625 \r\nQ 37.359375 7.515625 41.375 12.890625 \r\nQ 45.40625 18.265625 45.40625 27.984375 \r\nz\r\nM 54.390625 6.78125 \r\nQ 54.390625 -7.171875 48.1875 -13.984375 \r\nQ 42 -20.796875 29.203125 -20.796875 \r\nQ 24.46875 -20.796875 20.265625 -20.09375 \r\nQ 16.0625 -19.390625 12.109375 -17.921875 \r\nL 12.109375 -9.1875 \r\nQ 16.0625 -11.328125 19.921875 -12.34375 \r\nQ 23.78125 -13.375 27.78125 -13.375 \r\nQ 36.625 -13.375 41.015625 -8.765625 \r\nQ 45.40625 -4.15625 45.40625 5.171875 \r\nL 45.40625 9.625 \r\nQ 42.625 4.78125 38.28125 2.390625 \r\nQ 33.9375 0 27.875 0 \r\nQ 17.828125 0 11.671875 7.65625 \r\nQ 5.515625 15.328125 5.515625 27.984375 \r\nQ 5.515625 40.671875 11.671875 48.328125 \r\nQ 17.828125 56 27.875 56 \r\nQ 33.9375 56 38.28125 53.609375 \r\nQ 42.625 51.21875 45.40625 46.390625 \r\nL 45.40625 54.6875 \r\nL 54.390625 54.6875 \r\nz\r\n\" id=\"DejaVuSans-103\"/>\r\n     </defs>\r\n     <use xlink:href=\"#DejaVuSans-99\"/>\r\n     <use x=\"54.980469\" xlink:href=\"#DejaVuSans-97\"/>\r\n     <use x=\"116.259766\" xlink:href=\"#DejaVuSans-112\"/>\r\n     <use x=\"179.736328\" xlink:href=\"#DejaVuSans-95\"/>\r\n     <use x=\"229.736328\" xlink:href=\"#DejaVuSans-115\"/>\r\n     <use x=\"281.835938\" xlink:href=\"#DejaVuSans-112\"/>\r\n     <use x=\"345.3125\" xlink:href=\"#DejaVuSans-97\"/>\r\n     <use x=\"406.591797\" xlink:href=\"#DejaVuSans-99\"/>\r\n     <use x=\"461.572266\" xlink:href=\"#DejaVuSans-101\"/>\r\n     <use x=\"523.095703\" xlink:href=\"#DejaVuSans-95\"/>\r\n     <use x=\"573.095703\" xlink:href=\"#DejaVuSans-117\"/>\r\n     <use x=\"636.474609\" xlink:href=\"#DejaVuSans-115\"/>\r\n     <use x=\"688.574219\" xlink:href=\"#DejaVuSans-97\"/>\r\n     <use x=\"749.853516\" xlink:href=\"#DejaVuSans-103\"/>\r\n     <use x=\"813.330078\" xlink:href=\"#DejaVuSans-101\"/>\r\n    </g>\r\n   </g>\r\n  </g>\r\n </g>\r\n <defs>\r\n  <clipPath id=\"pdf6ab9331b\">\r\n   <rect height=\"321.4\" width=\"293.44125\" x=\"46.965625\" y=\"7.2\"/>\r\n  </clipPath>\r\n </defs>\r\n</svg>\r\n",
      "image/png": "[encoded data removed]"
     },
     "metadata": {
      "needs_background": "light"
     }
    }
   ],
   "source": [
    "sns.displot(y)"
   ]
  },
  {
   "cell_type": "code",
   "execution_count": 184,
   "metadata": {},
   "outputs": [],
   "source": [
    "from sklearn.feature_selection import SelectKBest, f_regression\n",
    "select = SelectKBest(f_regression, k=30)\n",
    "\n",
    "best_features = select.fit_transform(X, y)\n",
    "feature_scores = pd.concat([pd.Series(X.columns), pd.Series(select.scores_)], axis=1)\n",
    "feature_scores.columns = [\"features\", \"score\"]\n",
    "features = list(feature_scores.sort_values(by=[\"score\"], ascending=False).head(20)['features'])"
   ]
  },
  {
   "cell_type": "code",
   "execution_count": 5,
   "metadata": {},
   "outputs": [],
   "source": [
    "from sklearn.metrics import mean_squared_error, r2_score, explained_variance_score, mean_squared_log_error\n",
    "def evaluate(y_pred, y_test):\n",
    "    \"\"\" Prints out the evaluation metrics of the experiment\n",
    "        parameters:\n",
    "            y_pred\n",
    "                DataFrame or array-like, the predictions\n",
    "            y_test\n",
    "                DataFrame or array-like, the actual y-values\n",
    "                \n",
    "            these two parameters must have the same dimensions\n",
    "    \"\"\"\n",
    "    print(\"r^2: \", r2_score(y_test, y_pred))\n",
    "    print(\"mse: \", mean_squared_error(y_test, y_pred))\n",
    "    print(\"variance_score: \", explained_variance_score(y_test, y_pred))\n",
    "    print(\"mse-log: \", mean_squared_log_error(y_test, y_pred))"
   ]
  },
  {
   "cell_type": "code",
   "execution_count": 6,
   "metadata": {},
   "outputs": [],
   "source": [
    "def run(model, model_name, x_train, x_val):\n",
    "    \"\"\" Fits the model and prints out results from calling evaluate on the training and validation set\n",
    "        parameters:\n",
    "            model\n",
    "                the unfitted model, from sklearn (has to have a fit and predict method)\n",
    "            model_name\n",
    "                String, the name of the model\n",
    "            x_train\n",
    "                DataFrame, the training set\n",
    "            x_val\n",
    "                DataFrame, the validation set\n",
    "                \n",
    "        returns:\n",
    "            nothing\n",
    "        \n",
    "    \"\"\"\n",
    "    model = model.fit(x_train, y_train)\n",
    "    y_pred = np.clip(model.predict(x_train), 0, 1000) # since negative results are meaningless\n",
    "    \n",
    "    print(\"[{0}] These are the results for the training set.\".format(model_name))\n",
    "    \n",
    "    evaluate(y_pred, y_train)\n",
    "    print(\"--------------------------------------\")\n",
    "    \n",
    "    print(\"[{0}] These are the results for the validation set.\".format(model_name))\n",
    "    y_pred = np.clip(model.predict(x_val), 0, 1000) # since negative results are meaningless\n",
    "    \n",
    "    evaluate(y_pred, y_val)\n",
    "    \n",
    "    print(\"_____________________________________________\")"
   ]
  },
  {
   "cell_type": "code",
   "execution_count": 7,
   "metadata": {},
   "outputs": [],
   "source": [
    "from sklearn.ensemble import RandomForestRegressor\n",
    "from sklearn.model_selection import RandomizedSearchCV"
   ]
  },
  {
   "cell_type": "markdown",
   "metadata": {},
   "source": [
    "### Without train-validation-test split\n",
    "**Since we have bootstrap in random forest, as it is based on the idea of bagging**, we can use oob_score as score for validation set and **save the trouble of using train-validation-test split.**\n",
    "\n",
    "**Below is the experimentation**"
   ]
  },
  {
   "cell_type": "code",
   "execution_count": 185,
   "metadata": {},
   "outputs": [
    {
     "output_type": "stream",
     "name": "stdout",
     "text": [
      "r^2:  0.9817118654082057\nmse:  0.00017676524573190168\nvariance_score:  0.9818042692402338\nmse-log:  0.00013993858017771957\n"
     ]
    }
   ],
   "source": [
    "rf = RandomForestRegressor(n_estimators=100, criterion='mse', \n",
    "                                  max_depth=None, min_samples_split=2, min_samples_leaf=1, min_weight_fraction_leaf=0.0, \n",
    "                                  max_features='auto', max_leaf_nodes=None, min_impurity_decrease=0.0, min_impurity_split=None, \n",
    "                                  bootstrap=True, oob_score=True, n_jobs=-1, random_state=77, verbose=0, warm_start=False, \n",
    "                                  ccp_alpha=0.0, max_samples=None)\n",
    "rf.fit(X[features], y)\n",
    "evaluate(rf.predict(X[features]), y)"
   ]
  },
  {
   "cell_type": "code",
   "execution_count": 186,
   "metadata": {},
   "outputs": [
    {
     "output_type": "execute_result",
     "data": {
      "text/plain": [
       "0.8645554265310493"
      ]
     },
     "metadata": {},
     "execution_count": 186
    }
   ],
   "source": [
    "rf.oob_score_"
   ]
  },
  {
   "cell_type": "code",
   "execution_count": 187,
   "metadata": {},
   "outputs": [
    {
     "output_type": "stream",
     "name": "stdout",
     "text": [
      "r^2:  0.8034890309023355\nmse:  0.0017879270764853941\nvariance_score:  0.803676829018898\nmse-log:  0.0013754600367511696\n"
     ]
    }
   ],
   "source": [
    "evaluate(rf.predict(X_test[features]), y_test)"
   ]
  },
  {
   "cell_type": "code",
   "execution_count": 188,
   "metadata": {},
   "outputs": [],
   "source": [
    "# Number of trees in random forest\n",
    "n_estimators = [int(x) for x in np.linspace(start = 100, stop = 1100, num = 50)]\n",
    "# Number of features to consider at every split\n",
    "max_features = ['auto', 'sqrt', 'log2']\n",
    "# Maximum number of levels in tree\n",
    "max_depth = [int(x) for x in np.linspace(10, 500, num = 25)]\n",
    "max_depth.append(None)\n",
    "# Minimum number of samples required to split a node\n",
    "min_samples_split = [i for i in range(1, 10)]\n",
    "# Minimum number of samples required at each leaf node\n",
    "min_samples_leaf = [i for i in range(1, 10)]\n",
    "# Create the random grid\n",
    "random_grid = {'n_estimators': n_estimators,\n",
    "               'max_features': max_features,\n",
    "               'max_depth': max_depth,\n",
    "               'min_samples_split': min_samples_split,\n",
    "               'min_samples_leaf': min_samples_leaf}"
   ]
  },
  {
   "cell_type": "code",
   "execution_count": 190,
   "metadata": {},
   "outputs": [
    {
     "output_type": "stream",
     "name": "stdout",
     "text": [
      "Fitting 5 folds for each of 500 candidates, totalling 2500 fits\n"
     ]
    },
    {
     "output_type": "execute_result",
     "data": {
      "text/plain": [
       "RandomizedSearchCV(cv=5,\n",
       "                   estimator=RandomForestRegressor(oob_score=True,\n",
       "                                                   warm_start=True),\n",
       "                   n_iter=500, n_jobs=-1,\n",
       "                   param_distributions={'max_depth': [10, 30, 50, 71, 91, 112,\n",
       "                                                      132, 152, 173, 193, 214,\n",
       "                                                      234, 255, 275, 295, 316,\n",
       "                                                      336, 357, 377, 397, 418,\n",
       "                                                      438, 459, 479, 500,\n",
       "                                                      None],\n",
       "                                        'max_features': ['auto', 'sqrt',\n",
       "                                                         'log2'],\n",
       "                                        'min_samples_leaf': [1, 2, 3, 4, 5, 6,\n",
       "                                                             7, 8, 9],\n",
       "                                        'min_samples_split': [1, 2, 3, 4, 5, 6,\n",
       "                                                              7, 8, 9],\n",
       "                                        'n_estimators': [100, 120, 140, 161,\n",
       "                                                         181, 202, 222, 242,\n",
       "                                                         263, 283, 304, 324,\n",
       "                                                         344, 365, 385, 406,\n",
       "                                                         426, 446, 467, 487,\n",
       "                                                         508, 528, 548, 569,\n",
       "                                                         589, 610, 630, 651,\n",
       "                                                         671, 691, ...]},\n",
       "                   random_state=2, verbose=2)"
      ]
     },
     "metadata": {},
     "execution_count": 190
    }
   ],
   "source": [
    "# Use the random grid to search for best hyperparameters\n",
    "# First create the base model to tune\n",
    "rf = RandomForestRegressor(warm_start=True, bootstrap=True, oob_score=True) # use warm_start to speed up\n",
    "# Random search of parameters, using 3 fold cross validation, \n",
    "# search across 100 different combinations, and use all available cores\n",
    "rf_random = RandomizedSearchCV(estimator = rf, param_distributions = random_grid, n_iter = 500, cv = 5, verbose=2, random_state=2, n_jobs = -1)\n",
    "# Fit the random search model\n",
    "rf_random.fit(X, y)"
   ]
  },
  {
   "cell_type": "code",
   "execution_count": 191,
   "metadata": {},
   "outputs": [
    {
     "output_type": "execute_result",
     "data": {
      "text/plain": [
       "{'n_estimators': 1100,\n",
       " 'min_samples_split': 2,\n",
       " 'min_samples_leaf': 1,\n",
       " 'max_features': 'log2',\n",
       " 'max_depth': 112}"
      ]
     },
     "metadata": {},
     "execution_count": 191
    }
   ],
   "source": [
    "rf_random.best_params_"
   ]
  },
  {
   "cell_type": "code",
   "execution_count": 192,
   "metadata": {},
   "outputs": [
    {
     "output_type": "stream",
     "name": "stdout",
     "text": [
      "r^2:  0.9827681968955846\nmse:  0.0001665551997589967\nvariance_score:  0.9828422504108941\nmse-log:  0.0001322119935330594\n"
     ]
    }
   ],
   "source": [
    "best = RandomForestRegressor(n_estimators=1100,\n",
    "                                  max_depth=112, min_samples_split=2, min_samples_leaf=1, \n",
    "                                  max_features='log2', \n",
    "                                  bootstrap=True, oob_score=True, n_jobs=-1, random_state = 2)\n",
    "best.fit(X[features], y)\n",
    "evaluate(best.predict(X[features]), y)"
   ]
  },
  {
   "cell_type": "code",
   "execution_count": 193,
   "metadata": {},
   "outputs": [
    {
     "output_type": "execute_result",
     "data": {
      "text/plain": [
       "0.8725898268113365"
      ]
     },
     "metadata": {},
     "execution_count": 193
    }
   ],
   "source": [
    "best.oob_score_"
   ]
  },
  {
   "cell_type": "code",
   "execution_count": 194,
   "metadata": {},
   "outputs": [
    {
     "output_type": "stream",
     "name": "stdout",
     "text": [
      "r^2:  0.8150856460120612\nmse:  0.001682416924836029\nvariance_score:  0.8153413972352037\nmse-log:  0.00129125207568586\n"
     ]
    }
   ],
   "source": [
    "evaluate(best.predict(X_test[features]), y_test)"
   ]
  },
  {
   "cell_type": "code",
   "execution_count": 133,
   "metadata": {},
   "outputs": [],
   "source": [
    "data = pd.read_excel(\"../spring21_data/fa_stats_v3.xlsx\")"
   ]
  },
  {
   "cell_type": "code",
   "execution_count": 182,
   "metadata": {},
   "outputs": [],
   "source": [
    "test_index = X_test.index\n",
    "test_data = data.iloc[test_index][['clean_season','Player','MPG', 'attempted_field_goals', 'minutes_played', 'WS', 'Wins Added', 'poss','cap_space_usage']]\n",
    "results = pd.concat([test_data, pd.DataFrame(index=test_index, data=best.predict(X_test[features]))], axis=1)"
   ]
  },
  {
   "cell_type": "code",
   "execution_count": 183,
   "metadata": {},
   "outputs": [
    {
     "output_type": "execute_result",
     "data": {
      "text/plain": [
       "     clean_season                    Player   MPG  attempted_field_goals  \\\n",
       "25           2016          Chandler Parsons  29.5              10.672131   \n",
       "140          2017  Kentavious Caldwell-Pope  33.3              12.210526   \n",
       "73           2016              Brandon Rush  14.7               3.611111   \n",
       "325          2019           DeMarre Carroll  25.4               8.582090   \n",
       "20           2016           Jared Sullinger  23.6               9.950617   \n",
       "109          2016             Udonis Haslem   7.0               1.648649   \n",
       "142          2017         Marreese Speights  15.7               6.682927   \n",
       "7            2016                 Pau Gasol  31.8              13.819444   \n",
       "176          2017            Jamal Crawford  26.3              10.609756   \n",
       "215          2018                Chris Paul  31.8              13.758621   \n",
       "75           2016             Austin Rivers  21.9               7.701493   \n",
       "231          2018             Fred VanVleet  20.0               7.171053   \n",
       "24           2016              Allen Crabbe  26.0               8.370370   \n",
       "111          2016             Alan Anderson  14.8               4.538462   \n",
       "213          2018              LeBron James  36.9              19.268293   \n",
       "299          2019               Danny Green  27.7               7.875000   \n",
       "250          2018          Luc Mbah a Moute  25.6               5.655738   \n",
       "317          2019                Jeff Green  27.2               8.922078   \n",
       "132          2017            JaMychal Green  27.3               6.493506   \n",
       "93           2016             James Johnson  16.2               4.210526   \n",
       "202          2017             Troy Williams  18.6               5.125000   \n",
       "211          2017                 Ron Baker  16.5               4.173077   \n",
       "60           2016            Dewayne Dedmon  12.2               3.051724   \n",
       "264          2018              Shelvin Mack  19.8               6.000000   \n",
       "393          2019           Marquese Chriss  11.6               2.125000   \n",
       "261          2018            Raymond Felton  16.6               6.731707   \n",
       "185          2017             Arron Afflalo  25.9               6.885246   \n",
       "172          2017          Anthony Tolliver  22.7               5.400000   \n",
       "374          2019   Michael Carter-Williams  13.3               3.812500   \n",
       "127          2017          Danilo Gallinari  33.9              11.904762   \n",
       "160          2017               Aron Baynes  15.5               3.720000   \n",
       "175          2017          Jonathon Simmons  17.8               5.397436   \n",
       "347          2019                Quinn Cook  14.3               5.932432   \n",
       "257          2018          Dante Cunningham  21.4               4.411765   \n",
       "210          2017              Wayne Selden  16.9               2.666667   \n",
       "17           2016             Nicolas Batum  35.0              12.471429   \n",
       "31           2016              Courtney Lee  29.5               8.215686   \n",
       "197          2017             Isaiah Canaan  15.2               4.435897   \n",
       "220          2018             Julius Randle  26.7              11.024390   \n",
       "387          2019              Lance Thomas  17.0               4.282609   \n",
       "372          2019                J.J. Barea  19.8              10.131579   \n",
       "72           2016             Tyler Johnson  24.0               6.750000   \n",
       "3            2016             DeMar DeRozan  35.9              17.653846   \n",
       "155          2017           Thabo Sefolosha  25.7               6.370968   \n",
       "288          2019                Al Horford  29.0              10.632353   \n",
       "311          2019             Terrence Ross  26.5              12.679012   \n",
       "221          2018             Kyle Anderson  26.7               5.918919   \n",
       "316          2019           Harrison Barnes  32.9              14.632653   \n",
       "85           2016          Brandon Jennings  18.1               6.217391   \n",
       "120          2017             Stephen Curry  33.4              18.265823   \n",
       "209          2017             Jordan Mickey   5.6               1.360000   \n",
       "303          2019             Thomas Bryant  20.8               6.972222   \n",
       "190          2017              Tyler Zeller  10.3               3.098039   \n",
       "178          2017              Luke Babbitt  15.7               4.132353   \n",
       "\n",
       "     minutes_played    WS  Wins Added  poss  cap_space_usage         0  \n",
       "25        29.491803   4.3    2.176462  3585         0.234927  0.149839  \n",
       "140       33.276316   4.5    3.698056  5081         0.179083  0.172689  \n",
       "73        14.652778   2.0   -0.113257  2456         0.037177  0.060345  \n",
       "325       25.417910   3.1    1.821788  3915         0.062693  0.085615  \n",
       "20        23.641975   4.8    5.133590  4129         0.059781  0.135045  \n",
       "109        7.027027   0.4    0.278786   683         0.042489  0.019159  \n",
       "142       15.682927   4.2    2.323350  2832         0.014848  0.058150  \n",
       "7         31.819444   7.1    7.273018  4652         0.164643  0.246755  \n",
       "176       26.304878   1.9   -0.456838  4810         0.110429  0.077975  \n",
       "215       31.844828  10.2    9.189805  4854         0.350000  0.255348  \n",
       "75        21.850746   1.9   -0.874043  3334         0.116844  0.040573  \n",
       "231       20.000000   4.7    4.728443  3316         0.088349  0.079509  \n",
       "24        25.987654   4.3    1.163052  4976         0.196510  0.100274  \n",
       "111       14.769231   0.3    0.339625   403         0.013973  0.016217  \n",
       "213       36.902439  14.0   13.272992  8026         0.350000  0.307990  \n",
       "299       27.700000   5.9    6.081768  6053         0.134086  0.131438  \n",
       "250       25.639344   2.8    2.345739  3541         0.042412  0.061943  \n",
       "317       27.233766   3.6    1.534547  4474         0.023500  0.128731  \n",
       "132       27.285714   5.8    2.014838  4314         0.086114  0.110742  \n",
       "93        16.245614   1.3    0.592360  2006         0.042489  0.034844  \n",
       "202       17.416667   0.4    0.067751  1172         0.014848  0.022999  \n",
       "211       16.480769  -0.1    0.340434  1718         0.043676  0.026435  \n",
       "60        12.155172   2.4    1.009431  1434         0.030783  0.044413  \n",
       "264       19.782609   1.9    1.071403  2779         0.009817  0.047038  \n",
       "393        6.500000  -0.2    0.449622  1045         0.006953  0.020117  \n",
       "261       16.646341   2.2    1.468220  2891         0.023500  0.059796  \n",
       "185       25.901639   1.4   -1.743250  3146         0.015137  0.039849  \n",
       "172       22.723077   2.3    0.214893  3004         0.033201  0.060381  \n",
       "374        9.062500   0.8    0.664893  1012         0.018587  0.019141  \n",
       "127       33.873016   6.8    6.290129  4413         0.207478  0.241644  \n",
       "160       15.506667   3.0    2.198660  2381         0.043676  0.051912  \n",
       "175       17.846154   2.0    0.950851  3459         0.063577  0.048047  \n",
       "347       14.310811   1.8   -0.405645  2626         0.027488  0.039535  \n",
       "257       21.862745   2.4    0.645933  3323         0.024541  0.042796  \n",
       "210       15.666667   0.1    0.091500   662         0.013246  0.040181  \n",
       "17        34.971429   5.0    4.939924  5216         0.221679  0.203996  \n",
       "31        29.196078   3.9    2.630354  5118         0.119414  0.100118  \n",
       "197       15.179487   0.5    0.031142  1377         0.010067  0.015704  \n",
       "220       26.707317   6.6    3.050279  4622         0.084825  0.157909  \n",
       "387       17.021739   0.1   -0.547539  1665         0.002402  0.021268  \n",
       "372       19.789474   1.0    1.922429  1609         0.023500  0.057062  \n",
       "72        23.972222   2.0    0.677395  1806         0.059781  0.073708  \n",
       "3         35.948718   9.9    6.367356  6934         0.281913  0.286272  \n",
       "155       25.741935   3.3    2.585279  3313         0.052981  0.072583  \n",
       "288       29.014706   7.5    6.275977  4796         0.256551  0.177051  \n",
       "311       26.543210   4.3    1.594962  4766         0.114532  0.138980  \n",
       "221       26.729730   6.2    4.931316  4136         0.084825  0.132975  \n",
       "316       32.326531   3.6    0.327092  5395         0.221255  0.173601  \n",
       "85        18.086957   1.5    1.921673  1809         0.051383  0.047361  \n",
       "120       33.392405  12.6   15.248441  6963         0.350000  0.294325  \n",
       "209        5.640000   0.1    0.096161   329         0.014848  0.019820  \n",
       "303       20.777778   5.6    3.403753  3219         0.072719  0.080281  \n",
       "190       10.294118   1.0    0.260816  1249         0.017252  0.019371  \n",
       "178       15.661765   1.8    0.659584  2129         0.019922  0.043703  "
      ],
      "text/html": "<div>\n<style scoped>\n    .dataframe tbody tr th:only-of-type {\n        vertical-align: middle;\n    }\n\n    .dataframe tbody tr th {\n        vertical-align: top;\n    }\n\n    .dataframe thead th {\n        text-align: right;\n    }\n</style>\n<table border=\"1\" class=\"dataframe\">\n  <thead>\n    <tr style=\"text-align: right;\">\n      <th></th>\n      <th>clean_season</th>\n      <th>Player</th>\n      <th>MPG</th>\n      <th>attempted_field_goals</th>\n      <th>minutes_played</th>\n      <th>WS</th>\n      <th>Wins Added</th>\n      <th>poss</th>\n      <th>cap_space_usage</th>\n      <th>0</th>\n    </tr>\n  </thead>\n  <tbody>\n    <tr>\n      <th>25</th>\n      <td>2016</td>\n      <td>Chandler Parsons</td>\n      <td>29.5</td>\n      <td>10.672131</td>\n      <td>29.491803</td>\n      <td>4.3</td>\n      <td>2.176462</td>\n      <td>3585</td>\n      <td>0.234927</td>\n      <td>0.149839</td>\n    </tr>\n    <tr>\n      <th>140</th>\n      <td>2017</td>\n      <td>Kentavious Caldwell-Pope</td>\n      <td>33.3</td>\n      <td>12.210526</td>\n      <td>33.276316</td>\n      <td>4.5</td>\n      <td>3.698056</td>\n      <td>5081</td>\n      <td>0.179083</td>\n      <td>0.172689</td>\n    </tr>\n    <tr>\n      <th>73</th>\n      <td>2016</td>\n      <td>Brandon Rush</td>\n      <td>14.7</td>\n      <td>3.611111</td>\n      <td>14.652778</td>\n      <td>2.0</td>\n      <td>-0.113257</td>\n      <td>2456</td>\n      <td>0.037177</td>\n      <td>0.060345</td>\n    </tr>\n    <tr>\n      <th>325</th>\n      <td>2019</td>\n      <td>DeMarre Carroll</td>\n      <td>25.4</td>\n      <td>8.582090</td>\n      <td>25.417910</td>\n      <td>3.1</td>\n      <td>1.821788</td>\n      <td>3915</td>\n      <td>0.062693</td>\n      <td>0.085615</td>\n    </tr>\n    <tr>\n      <th>20</th>\n      <td>2016</td>\n      <td>Jared Sullinger</td>\n      <td>23.6</td>\n      <td>9.950617</td>\n      <td>23.641975</td>\n      <td>4.8</td>\n      <td>5.133590</td>\n      <td>4129</td>\n      <td>0.059781</td>\n      <td>0.135045</td>\n    </tr>\n    <tr>\n      <th>109</th>\n      <td>2016</td>\n      <td>Udonis Haslem</td>\n      <td>7.0</td>\n      <td>1.648649</td>\n      <td>7.027027</td>\n      <td>0.4</td>\n      <td>0.278786</td>\n      <td>683</td>\n      <td>0.042489</td>\n      <td>0.019159</td>\n    </tr>\n    <tr>\n      <th>142</th>\n      <td>2017</td>\n      <td>Marreese Speights</td>\n      <td>15.7</td>\n      <td>6.682927</td>\n      <td>15.682927</td>\n      <td>4.2</td>\n      <td>2.323350</td>\n      <td>2832</td>\n      <td>0.014848</td>\n      <td>0.058150</td>\n    </tr>\n    <tr>\n      <th>7</th>\n      <td>2016</td>\n      <td>Pau Gasol</td>\n      <td>31.8</td>\n      <td>13.819444</td>\n      <td>31.819444</td>\n      <td>7.1</td>\n      <td>7.273018</td>\n      <td>4652</td>\n      <td>0.164643</td>\n      <td>0.246755</td>\n    </tr>\n    <tr>\n      <th>176</th>\n      <td>2017</td>\n      <td>Jamal Crawford</td>\n      <td>26.3</td>\n      <td>10.609756</td>\n      <td>26.304878</td>\n      <td>1.9</td>\n      <td>-0.456838</td>\n      <td>4810</td>\n      <td>0.110429</td>\n      <td>0.077975</td>\n    </tr>\n    <tr>\n      <th>215</th>\n      <td>2018</td>\n      <td>Chris Paul</td>\n      <td>31.8</td>\n      <td>13.758621</td>\n      <td>31.844828</td>\n      <td>10.2</td>\n      <td>9.189805</td>\n      <td>4854</td>\n      <td>0.350000</td>\n      <td>0.255348</td>\n    </tr>\n    <tr>\n      <th>75</th>\n      <td>2016</td>\n      <td>Austin Rivers</td>\n      <td>21.9</td>\n      <td>7.701493</td>\n      <td>21.850746</td>\n      <td>1.9</td>\n      <td>-0.874043</td>\n      <td>3334</td>\n      <td>0.116844</td>\n      <td>0.040573</td>\n    </tr>\n    <tr>\n      <th>231</th>\n      <td>2018</td>\n      <td>Fred VanVleet</td>\n      <td>20.0</td>\n      <td>7.171053</td>\n      <td>20.000000</td>\n      <td>4.7</td>\n      <td>4.728443</td>\n      <td>3316</td>\n      <td>0.088349</td>\n      <td>0.079509</td>\n    </tr>\n    <tr>\n      <th>24</th>\n      <td>2016</td>\n      <td>Allen Crabbe</td>\n      <td>26.0</td>\n      <td>8.370370</td>\n      <td>25.987654</td>\n      <td>4.3</td>\n      <td>1.163052</td>\n      <td>4976</td>\n      <td>0.196510</td>\n      <td>0.100274</td>\n    </tr>\n    <tr>\n      <th>111</th>\n      <td>2016</td>\n      <td>Alan Anderson</td>\n      <td>14.8</td>\n      <td>4.538462</td>\n      <td>14.769231</td>\n      <td>0.3</td>\n      <td>0.339625</td>\n      <td>403</td>\n      <td>0.013973</td>\n      <td>0.016217</td>\n    </tr>\n    <tr>\n      <th>213</th>\n      <td>2018</td>\n      <td>LeBron James</td>\n      <td>36.9</td>\n      <td>19.268293</td>\n      <td>36.902439</td>\n      <td>14.0</td>\n      <td>13.272992</td>\n      <td>8026</td>\n      <td>0.350000</td>\n      <td>0.307990</td>\n    </tr>\n    <tr>\n      <th>299</th>\n      <td>2019</td>\n      <td>Danny Green</td>\n      <td>27.7</td>\n      <td>7.875000</td>\n      <td>27.700000</td>\n      <td>5.9</td>\n      <td>6.081768</td>\n      <td>6053</td>\n      <td>0.134086</td>\n      <td>0.131438</td>\n    </tr>\n    <tr>\n      <th>250</th>\n      <td>2018</td>\n      <td>Luc Mbah a Moute</td>\n      <td>25.6</td>\n      <td>5.655738</td>\n      <td>25.639344</td>\n      <td>2.8</td>\n      <td>2.345739</td>\n      <td>3541</td>\n      <td>0.042412</td>\n      <td>0.061943</td>\n    </tr>\n    <tr>\n      <th>317</th>\n      <td>2019</td>\n      <td>Jeff Green</td>\n      <td>27.2</td>\n      <td>8.922078</td>\n      <td>27.233766</td>\n      <td>3.6</td>\n      <td>1.534547</td>\n      <td>4474</td>\n      <td>0.023500</td>\n      <td>0.128731</td>\n    </tr>\n    <tr>\n      <th>132</th>\n      <td>2017</td>\n      <td>JaMychal Green</td>\n      <td>27.3</td>\n      <td>6.493506</td>\n      <td>27.285714</td>\n      <td>5.8</td>\n      <td>2.014838</td>\n      <td>4314</td>\n      <td>0.086114</td>\n      <td>0.110742</td>\n    </tr>\n    <tr>\n      <th>93</th>\n      <td>2016</td>\n      <td>James Johnson</td>\n      <td>16.2</td>\n      <td>4.210526</td>\n      <td>16.245614</td>\n      <td>1.3</td>\n      <td>0.592360</td>\n      <td>2006</td>\n      <td>0.042489</td>\n      <td>0.034844</td>\n    </tr>\n    <tr>\n      <th>202</th>\n      <td>2017</td>\n      <td>Troy Williams</td>\n      <td>18.6</td>\n      <td>5.125000</td>\n      <td>17.416667</td>\n      <td>0.4</td>\n      <td>0.067751</td>\n      <td>1172</td>\n      <td>0.014848</td>\n      <td>0.022999</td>\n    </tr>\n    <tr>\n      <th>211</th>\n      <td>2017</td>\n      <td>Ron Baker</td>\n      <td>16.5</td>\n      <td>4.173077</td>\n      <td>16.480769</td>\n      <td>-0.1</td>\n      <td>0.340434</td>\n      <td>1718</td>\n      <td>0.043676</td>\n      <td>0.026435</td>\n    </tr>\n    <tr>\n      <th>60</th>\n      <td>2016</td>\n      <td>Dewayne Dedmon</td>\n      <td>12.2</td>\n      <td>3.051724</td>\n      <td>12.155172</td>\n      <td>2.4</td>\n      <td>1.009431</td>\n      <td>1434</td>\n      <td>0.030783</td>\n      <td>0.044413</td>\n    </tr>\n    <tr>\n      <th>264</th>\n      <td>2018</td>\n      <td>Shelvin Mack</td>\n      <td>19.8</td>\n      <td>6.000000</td>\n      <td>19.782609</td>\n      <td>1.9</td>\n      <td>1.071403</td>\n      <td>2779</td>\n      <td>0.009817</td>\n      <td>0.047038</td>\n    </tr>\n    <tr>\n      <th>393</th>\n      <td>2019</td>\n      <td>Marquese Chriss</td>\n      <td>11.6</td>\n      <td>2.125000</td>\n      <td>6.500000</td>\n      <td>-0.2</td>\n      <td>0.449622</td>\n      <td>1045</td>\n      <td>0.006953</td>\n      <td>0.020117</td>\n    </tr>\n    <tr>\n      <th>261</th>\n      <td>2018</td>\n      <td>Raymond Felton</td>\n      <td>16.6</td>\n      <td>6.731707</td>\n      <td>16.646341</td>\n      <td>2.2</td>\n      <td>1.468220</td>\n      <td>2891</td>\n      <td>0.023500</td>\n      <td>0.059796</td>\n    </tr>\n    <tr>\n      <th>185</th>\n      <td>2017</td>\n      <td>Arron Afflalo</td>\n      <td>25.9</td>\n      <td>6.885246</td>\n      <td>25.901639</td>\n      <td>1.4</td>\n      <td>-1.743250</td>\n      <td>3146</td>\n      <td>0.015137</td>\n      <td>0.039849</td>\n    </tr>\n    <tr>\n      <th>172</th>\n      <td>2017</td>\n      <td>Anthony Tolliver</td>\n      <td>22.7</td>\n      <td>5.400000</td>\n      <td>22.723077</td>\n      <td>2.3</td>\n      <td>0.214893</td>\n      <td>3004</td>\n      <td>0.033201</td>\n      <td>0.060381</td>\n    </tr>\n    <tr>\n      <th>374</th>\n      <td>2019</td>\n      <td>Michael Carter-Williams</td>\n      <td>13.3</td>\n      <td>3.812500</td>\n      <td>9.062500</td>\n      <td>0.8</td>\n      <td>0.664893</td>\n      <td>1012</td>\n      <td>0.018587</td>\n      <td>0.019141</td>\n    </tr>\n    <tr>\n      <th>127</th>\n      <td>2017</td>\n      <td>Danilo Gallinari</td>\n      <td>33.9</td>\n      <td>11.904762</td>\n      <td>33.873016</td>\n      <td>6.8</td>\n      <td>6.290129</td>\n      <td>4413</td>\n      <td>0.207478</td>\n      <td>0.241644</td>\n    </tr>\n    <tr>\n      <th>160</th>\n      <td>2017</td>\n      <td>Aron Baynes</td>\n      <td>15.5</td>\n      <td>3.720000</td>\n      <td>15.506667</td>\n      <td>3.0</td>\n      <td>2.198660</td>\n      <td>2381</td>\n      <td>0.043676</td>\n      <td>0.051912</td>\n    </tr>\n    <tr>\n      <th>175</th>\n      <td>2017</td>\n      <td>Jonathon Simmons</td>\n      <td>17.8</td>\n      <td>5.397436</td>\n      <td>17.846154</td>\n      <td>2.0</td>\n      <td>0.950851</td>\n      <td>3459</td>\n      <td>0.063577</td>\n      <td>0.048047</td>\n    </tr>\n    <tr>\n      <th>347</th>\n      <td>2019</td>\n      <td>Quinn Cook</td>\n      <td>14.3</td>\n      <td>5.932432</td>\n      <td>14.310811</td>\n      <td>1.8</td>\n      <td>-0.405645</td>\n      <td>2626</td>\n      <td>0.027488</td>\n      <td>0.039535</td>\n    </tr>\n    <tr>\n      <th>257</th>\n      <td>2018</td>\n      <td>Dante Cunningham</td>\n      <td>21.4</td>\n      <td>4.411765</td>\n      <td>21.862745</td>\n      <td>2.4</td>\n      <td>0.645933</td>\n      <td>3323</td>\n      <td>0.024541</td>\n      <td>0.042796</td>\n    </tr>\n    <tr>\n      <th>210</th>\n      <td>2017</td>\n      <td>Wayne Selden</td>\n      <td>16.9</td>\n      <td>2.666667</td>\n      <td>15.666667</td>\n      <td>0.1</td>\n      <td>0.091500</td>\n      <td>662</td>\n      <td>0.013246</td>\n      <td>0.040181</td>\n    </tr>\n    <tr>\n      <th>17</th>\n      <td>2016</td>\n      <td>Nicolas Batum</td>\n      <td>35.0</td>\n      <td>12.471429</td>\n      <td>34.971429</td>\n      <td>5.0</td>\n      <td>4.939924</td>\n      <td>5216</td>\n      <td>0.221679</td>\n      <td>0.203996</td>\n    </tr>\n    <tr>\n      <th>31</th>\n      <td>2016</td>\n      <td>Courtney Lee</td>\n      <td>29.5</td>\n      <td>8.215686</td>\n      <td>29.196078</td>\n      <td>3.9</td>\n      <td>2.630354</td>\n      <td>5118</td>\n      <td>0.119414</td>\n      <td>0.100118</td>\n    </tr>\n    <tr>\n      <th>197</th>\n      <td>2017</td>\n      <td>Isaiah Canaan</td>\n      <td>15.2</td>\n      <td>4.435897</td>\n      <td>15.179487</td>\n      <td>0.5</td>\n      <td>0.031142</td>\n      <td>1377</td>\n      <td>0.010067</td>\n      <td>0.015704</td>\n    </tr>\n    <tr>\n      <th>220</th>\n      <td>2018</td>\n      <td>Julius Randle</td>\n      <td>26.7</td>\n      <td>11.024390</td>\n      <td>26.707317</td>\n      <td>6.6</td>\n      <td>3.050279</td>\n      <td>4622</td>\n      <td>0.084825</td>\n      <td>0.157909</td>\n    </tr>\n    <tr>\n      <th>387</th>\n      <td>2019</td>\n      <td>Lance Thomas</td>\n      <td>17.0</td>\n      <td>4.282609</td>\n      <td>17.021739</td>\n      <td>0.1</td>\n      <td>-0.547539</td>\n      <td>1665</td>\n      <td>0.002402</td>\n      <td>0.021268</td>\n    </tr>\n    <tr>\n      <th>372</th>\n      <td>2019</td>\n      <td>J.J. Barea</td>\n      <td>19.8</td>\n      <td>10.131579</td>\n      <td>19.789474</td>\n      <td>1.0</td>\n      <td>1.922429</td>\n      <td>1609</td>\n      <td>0.023500</td>\n      <td>0.057062</td>\n    </tr>\n    <tr>\n      <th>72</th>\n      <td>2016</td>\n      <td>Tyler Johnson</td>\n      <td>24.0</td>\n      <td>6.750000</td>\n      <td>23.972222</td>\n      <td>2.0</td>\n      <td>0.677395</td>\n      <td>1806</td>\n      <td>0.059781</td>\n      <td>0.073708</td>\n    </tr>\n    <tr>\n      <th>3</th>\n      <td>2016</td>\n      <td>DeMar DeRozan</td>\n      <td>35.9</td>\n      <td>17.653846</td>\n      <td>35.948718</td>\n      <td>9.9</td>\n      <td>6.367356</td>\n      <td>6934</td>\n      <td>0.281913</td>\n      <td>0.286272</td>\n    </tr>\n    <tr>\n      <th>155</th>\n      <td>2017</td>\n      <td>Thabo Sefolosha</td>\n      <td>25.7</td>\n      <td>6.370968</td>\n      <td>25.741935</td>\n      <td>3.3</td>\n      <td>2.585279</td>\n      <td>3313</td>\n      <td>0.052981</td>\n      <td>0.072583</td>\n    </tr>\n    <tr>\n      <th>288</th>\n      <td>2019</td>\n      <td>Al Horford</td>\n      <td>29.0</td>\n      <td>10.632353</td>\n      <td>29.014706</td>\n      <td>7.5</td>\n      <td>6.275977</td>\n      <td>4796</td>\n      <td>0.256551</td>\n      <td>0.177051</td>\n    </tr>\n    <tr>\n      <th>311</th>\n      <td>2019</td>\n      <td>Terrence Ross</td>\n      <td>26.5</td>\n      <td>12.679012</td>\n      <td>26.543210</td>\n      <td>4.3</td>\n      <td>1.594962</td>\n      <td>4766</td>\n      <td>0.114532</td>\n      <td>0.138980</td>\n    </tr>\n    <tr>\n      <th>221</th>\n      <td>2018</td>\n      <td>Kyle Anderson</td>\n      <td>26.7</td>\n      <td>5.918919</td>\n      <td>26.729730</td>\n      <td>6.2</td>\n      <td>4.931316</td>\n      <td>4136</td>\n      <td>0.084825</td>\n      <td>0.132975</td>\n    </tr>\n    <tr>\n      <th>316</th>\n      <td>2019</td>\n      <td>Harrison Barnes</td>\n      <td>32.9</td>\n      <td>14.632653</td>\n      <td>32.326531</td>\n      <td>3.6</td>\n      <td>0.327092</td>\n      <td>5395</td>\n      <td>0.221255</td>\n      <td>0.173601</td>\n    </tr>\n    <tr>\n      <th>85</th>\n      <td>2016</td>\n      <td>Brandon Jennings</td>\n      <td>18.1</td>\n      <td>6.217391</td>\n      <td>18.086957</td>\n      <td>1.5</td>\n      <td>1.921673</td>\n      <td>1809</td>\n      <td>0.051383</td>\n      <td>0.047361</td>\n    </tr>\n    <tr>\n      <th>120</th>\n      <td>2017</td>\n      <td>Stephen Curry</td>\n      <td>33.4</td>\n      <td>18.265823</td>\n      <td>33.392405</td>\n      <td>12.6</td>\n      <td>15.248441</td>\n      <td>6963</td>\n      <td>0.350000</td>\n      <td>0.294325</td>\n    </tr>\n    <tr>\n      <th>209</th>\n      <td>2017</td>\n      <td>Jordan Mickey</td>\n      <td>5.6</td>\n      <td>1.360000</td>\n      <td>5.640000</td>\n      <td>0.1</td>\n      <td>0.096161</td>\n      <td>329</td>\n      <td>0.014848</td>\n      <td>0.019820</td>\n    </tr>\n    <tr>\n      <th>303</th>\n      <td>2019</td>\n      <td>Thomas Bryant</td>\n      <td>20.8</td>\n      <td>6.972222</td>\n      <td>20.777778</td>\n      <td>5.6</td>\n      <td>3.403753</td>\n      <td>3219</td>\n      <td>0.072719</td>\n      <td>0.080281</td>\n    </tr>\n    <tr>\n      <th>190</th>\n      <td>2017</td>\n      <td>Tyler Zeller</td>\n      <td>10.3</td>\n      <td>3.098039</td>\n      <td>10.294118</td>\n      <td>1.0</td>\n      <td>0.260816</td>\n      <td>1249</td>\n      <td>0.017252</td>\n      <td>0.019371</td>\n    </tr>\n    <tr>\n      <th>178</th>\n      <td>2017</td>\n      <td>Luke Babbitt</td>\n      <td>15.7</td>\n      <td>4.132353</td>\n      <td>15.661765</td>\n      <td>1.8</td>\n      <td>0.659584</td>\n      <td>2129</td>\n      <td>0.019922</td>\n      <td>0.043703</td>\n    </tr>\n  </tbody>\n</table>\n</div>"
     },
     "metadata": {},
     "execution_count": 183
    }
   ],
   "source": [
    "results"
   ]
  }
 ],
 "metadata": {
  "kernelspec": {
   "name": "python382jvsc74a57bd0f6e5de00158004fca4bed140e7e3786d910834eb74025be550c3cf8f536996b9",
   "display_name": "Python 3.8.2 64-bit ('nba-model': conda)"
  },
  "language_info": {
   "codemirror_mode": {
    "name": "ipython",
    "version": 3
   },
   "file_extension": ".py",
   "mimetype": "text/x-python",
   "name": "python",
   "nbconvert_exporter": "python",
   "pygments_lexer": "ipython3",
   "version": "3.8.2"
  },
  "metadata": {
   "interpreter": {
    "hash": "f6e5de00158004fca4bed140e7e3786d910834eb74025be550c3cf8f536996b9"
   }
  }
 },
 "nbformat": 4,
 "nbformat_minor": 4
}