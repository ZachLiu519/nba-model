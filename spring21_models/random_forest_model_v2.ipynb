{
 "cells": [
  {
   "cell_type": "code",
   "execution_count": 6,
   "metadata": {},
   "outputs": [],
   "source": [
    "import numpy as np\n",
    "import pandas as pd\n",
    "import sklearn"
   ]
  },
  {
   "cell_type": "code",
   "execution_count": 7,
   "metadata": {},
   "outputs": [],
   "source": [
    "np.random.seed(10)"
   ]
  },
  {
   "cell_type": "code",
   "execution_count": 8,
   "metadata": {},
   "outputs": [],
   "source": [
    "X = pd.read_excel(\"X_v3.xlsx\").drop(columns=[\"Unnamed: 0\"])\n",
    "y = pd.read_excel(\"y_v3.xlsx\").drop(columns=[\"Unnamed: 0\"])"
   ]
  },
  {
   "cell_type": "code",
   "execution_count": 9,
   "metadata": {},
   "outputs": [
    {
     "name": "stdout",
     "output_type": "stream",
     "text": [
      "['WS' 'points' 'Wins Added' 'made_field_goals' 'MPG' 'win_shares'\n",
      " 'value_over_replacement_player' 'minutes_played' 'poss'\n",
      " 'attempted_field_goals' 'war_total' 'offensive_box_plus_minus'\n",
      " 'offensive_win_shares' 'made_free_throws' 'war_reg_season'\n",
      " 'attempted_free_throws' 'box_plus_minus' 'predator_offense' 'O-LEBRON'\n",
      " 'raptor_offense' 'player_efficiency_rating' 'defensive_win_shares'\n",
      " 'war_playoffs' 'games_started' 'win_shares_per_48_minutes' 'turnovers'\n",
      " 'ORPM' 'RAPM__Off' 'defensive_rebounds' 'usage_percentage' 'RA_EFG__Off'\n",
      " 'LA_RAPM__Off' 'steals' 'assists' 'made_three_point_field_goals'\n",
      " 'attempted_three_point_field_goals' 'free_throw_attempt_rate' 'blocks'\n",
      " 'assist_percentage' 'pace_impact' 'RA_FTR__Off'\n",
      " 'true_shooting_percentage' 'personal_fouls' 'RA_FTR__Def' 'LA_RAPM__Def'\n",
      " 'RAPM__Def' 'D-LEBRON' 'RA_EFG__Def' 'games_played' 'offensive_rebounds'\n",
      " 'Games' 'defensive_rebound_percentage' 'RA_TOV__Off' 'predator_defense'\n",
      " 'defensive_box_plus_minus' 'total_rebound_percentage'\n",
      " 'three_point_attempt_rate' 'raptor_defense' 'RA_ORBD__Def'\n",
      " 'turnover_percentage' 'block_percentage' 'RA_TOV__Def' 'steal_percentage'\n",
      " 'DRPM' 'offensive_rebound_percentage']\n"
     ]
    },
    {
     "name": "stderr",
     "output_type": "stream",
     "text": [
      "C:\\Users\\Rishab\\anaconda3\\lib\\site-packages\\sklearn\\utils\\validation.py:73: DataConversionWarning: A column-vector y was passed when a 1d array was expected. Please change the shape of y to (n_samples, ), for example using ravel().\n",
      "  return f(**kwargs)\n"
     ]
    }
   ],
   "source": [
    "from sklearn.feature_selection import SelectKBest, f_regression\n",
    "select = SelectKBest(f_regression, k=20)\n",
    "\n",
    "best_features = select.fit_transform(X, y)\n",
    "feature_scores = pd.concat([pd.Series(X.columns), pd.Series(select.scores_)], axis=1)\n",
    "feature_scores.columns = [\"features\", \"score\"]\n",
    "features = list(feature_scores.sort_values(by=[\"score\"], ascending=False).head(65)['features'])\n",
    "\n",
    "X = X[features]\n",
    "print(X.columns.values)"
   ]
  },
  {
   "cell_type": "code",
   "execution_count": 14,
   "metadata": {},
   "outputs": [],
   "source": [
    "from sklearn.preprocessing import StandardScaler\n",
    "from sklearn.pipeline import make_pipeline, Pipeline\n",
    "from sklearn.ensemble import RandomForestRegressor\n",
    "from sklearn.preprocessing import Normalizer"
   ]
  },
  {
   "cell_type": "code",
   "execution_count": 17,
   "metadata": {},
   "outputs": [],
   "source": [
    "from sklearn.model_selection import cross_val_score\n",
    "def performance(model):\n",
    "    etr = make_pipeline(Normalizer(), model)\n",
    "    scores = cross_val_score(etr, X, y, cv=5, scoring=\"explained_variance\")\n",
    "    print(\"%0.2f accuracy with a standard deviation of %0.2f\" % (scores.mean(), scores.std()))\n",
    "    return scores"
   ]
  },
  {
   "cell_type": "code",
   "execution_count": 18,
   "metadata": {},
   "outputs": [
    {
     "name": "stderr",
     "output_type": "stream",
     "text": [
      "C:\\Users\\Rishab\\anaconda3\\lib\\site-packages\\sklearn\\pipeline.py:335: DataConversionWarning: A column-vector y was passed when a 1d array was expected. Please change the shape of y to (n_samples,), for example using ravel().\n",
      "  self._final_estimator.fit(Xt, y, **fit_params_last_step)\n",
      "C:\\Users\\Rishab\\anaconda3\\lib\\site-packages\\sklearn\\pipeline.py:335: DataConversionWarning: A column-vector y was passed when a 1d array was expected. Please change the shape of y to (n_samples,), for example using ravel().\n",
      "  self._final_estimator.fit(Xt, y, **fit_params_last_step)\n",
      "C:\\Users\\Rishab\\anaconda3\\lib\\site-packages\\sklearn\\pipeline.py:335: DataConversionWarning: A column-vector y was passed when a 1d array was expected. Please change the shape of y to (n_samples,), for example using ravel().\n",
      "  self._final_estimator.fit(Xt, y, **fit_params_last_step)\n",
      "C:\\Users\\Rishab\\anaconda3\\lib\\site-packages\\sklearn\\pipeline.py:335: DataConversionWarning: A column-vector y was passed when a 1d array was expected. Please change the shape of y to (n_samples,), for example using ravel().\n",
      "  self._final_estimator.fit(Xt, y, **fit_params_last_step)\n",
      "C:\\Users\\Rishab\\anaconda3\\lib\\site-packages\\sklearn\\pipeline.py:335: DataConversionWarning: A column-vector y was passed when a 1d array was expected. Please change the shape of y to (n_samples,), for example using ravel().\n",
      "  self._final_estimator.fit(Xt, y, **fit_params_last_step)\n"
     ]
    },
    {
     "name": "stdout",
     "output_type": "stream",
     "text": [
      "0.65 accuracy with a standard deviation of 0.07\n"
     ]
    },
    {
     "data": {
      "text/plain": [
       "array([0.7090196 , 0.6688628 , 0.72741564, 0.52171963, 0.62794461])"
      ]
     },
     "execution_count": 18,
     "metadata": {},
     "output_type": "execute_result"
    }
   ],
   "source": [
    "performance(RandomForestRegressor())"
   ]
  },
  {
   "cell_type": "code",
   "execution_count": 19,
   "metadata": {},
   "outputs": [
    {
     "name": "stderr",
     "output_type": "stream",
     "text": [
      "C:\\Users\\Rishab\\anaconda3\\lib\\site-packages\\sklearn\\pipeline.py:335: DataConversionWarning: A column-vector y was passed when a 1d array was expected. Please change the shape of y to (n_samples,), for example using ravel().\n",
      "  self._final_estimator.fit(Xt, y, **fit_params_last_step)\n",
      "C:\\Users\\Rishab\\anaconda3\\lib\\site-packages\\sklearn\\pipeline.py:335: DataConversionWarning: A column-vector y was passed when a 1d array was expected. Please change the shape of y to (n_samples,), for example using ravel().\n",
      "  self._final_estimator.fit(Xt, y, **fit_params_last_step)\n",
      "C:\\Users\\Rishab\\anaconda3\\lib\\site-packages\\sklearn\\pipeline.py:335: DataConversionWarning: A column-vector y was passed when a 1d array was expected. Please change the shape of y to (n_samples,), for example using ravel().\n",
      "  self._final_estimator.fit(Xt, y, **fit_params_last_step)\n",
      "C:\\Users\\Rishab\\anaconda3\\lib\\site-packages\\sklearn\\pipeline.py:335: DataConversionWarning: A column-vector y was passed when a 1d array was expected. Please change the shape of y to (n_samples,), for example using ravel().\n",
      "  self._final_estimator.fit(Xt, y, **fit_params_last_step)\n",
      "C:\\Users\\Rishab\\anaconda3\\lib\\site-packages\\sklearn\\pipeline.py:335: DataConversionWarning: A column-vector y was passed when a 1d array was expected. Please change the shape of y to (n_samples,), for example using ravel().\n",
      "  self._final_estimator.fit(Xt, y, **fit_params_last_step)\n"
     ]
    },
    {
     "name": "stdout",
     "output_type": "stream",
     "text": [
      "0.65 accuracy with a standard deviation of 0.07\n"
     ]
    },
    {
     "data": {
      "text/plain": [
       "array([0.70019027, 0.65710227, 0.70749403, 0.52511515, 0.63538862])"
      ]
     },
     "execution_count": 19,
     "metadata": {},
     "output_type": "execute_result"
    }
   ],
   "source": [
    "performance(RandomForestRegressor(n_estimators=928, criterion='mse', \n",
    "                                  max_depth=92, min_samples_split=2, min_samples_leaf=2, min_weight_fraction_leaf=0.0, \n",
    "                                  max_features='auto', max_leaf_nodes=None, min_impurity_decrease=0.0, min_impurity_split=None, \n",
    "                                  bootstrap=True, oob_score=True, n_jobs=None, random_state=None, verbose=0, warm_start=False, \n",
    "                                  ccp_alpha=0.0, max_samples=None))"
   ]
  }
 ],
 "metadata": {
  "kernelspec": {
   "display_name": "Python 3",
   "language": "python",
   "name": "python3"
  },
  "language_info": {
   "codemirror_mode": {
    "name": "ipython",
    "version": 3
   },
   "file_extension": ".py",
   "mimetype": "text/x-python",
   "name": "python",
   "nbconvert_exporter": "python",
   "pygments_lexer": "ipython3",
   "version": "3.8.3"
  }
 },
 "nbformat": 4,
 "nbformat_minor": 4
}
