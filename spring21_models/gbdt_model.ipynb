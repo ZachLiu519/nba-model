{
 "cells": [
  {
   "cell_type": "code",
   "execution_count": 1,
   "metadata": {},
   "outputs": [],
   "source": [
    "import pandas as pd\n",
    "import numpy as np\n",
    "import sklearn"
   ]
  },
  {
   "cell_type": "code",
   "execution_count": 14,
   "metadata": {},
   "outputs": [],
   "source": [
    "from sklearn.metrics import *\n",
    "import seaborn as sns\n",
    "import matplotlib.pyplot as plt"
   ]
  },
  {
   "cell_type": "code",
   "execution_count": 2,
   "metadata": {},
   "outputs": [],
   "source": [
    "import warnings\n",
    "warnings.filterwarnings('ignore')"
   ]
  },
  {
   "cell_type": "code",
   "execution_count": 3,
   "metadata": {},
   "outputs": [],
   "source": [
    "X = pd.read_excel(\"X.xlsx\")\n",
    "y = pd.read_excel(\"y.xlsx\")"
   ]
  },
  {
   "cell_type": "code",
   "execution_count": 4,
   "metadata": {},
   "outputs": [],
   "source": [
    "X = X.drop(columns=['Unnamed: 0'])\n",
    "y = y.drop(columns=['Unnamed: 0'])"
   ]
  },
  {
   "cell_type": "code",
   "execution_count": 5,
   "metadata": {},
   "outputs": [],
   "source": [
    "numerical = ['age',\n",
    "       'games_played', 'minutes_played', \n",
    "       'player_efficiency_rating', 'true_shooting_percentage',\n",
    "       'three_point_attempt_rate', 'free_throw_attempt_rate',\n",
    "       'offensive_rebound_percentage', 'defensive_rebound_percentage',\n",
    "       'assist_percentage', 'steal_percentage',\n",
    "       'block_percentage', 'turnover_percentage', 'usage_percentage',\n",
    "       'offensive_win_shares', 'defensive_win_shares',\n",
    "       'win_shares_per_48_minutes', 'offensive_box_plus_minus',\n",
    "       'defensive_box_plus_minus',\n",
    "       'value_over_replacement_player','O-LEBRON', 'D-LEBRON', 'Wins Added', 'ORPM', 'DRPM', 'poss',\n",
    "       'raptor_offense', 'raptor_defense', 'war_total', 'war_reg_season',\n",
    "       'war_playoffs', 'predator_offense', 'predator_defense', 'pace_impact',\n",
    "       'LA_RAPM__Def', 'LA_RAPM__Off', 'RA_EFG__Def', 'RA_EFG__Off',\n",
    "       'RA_FTR__Def', 'RA_FTR__Off', 'RA_ORBD__Def', 'RA_ORBD__Off',\n",
    "       'RA_TOV__Def', 'RA_TOV__Off', 'RAPM__Def', 'RAPM__Off']\n",
    "\n",
    "categorical = [\"Type\"]"
   ]
  },
  {
   "cell_type": "code",
   "execution_count": 6,
   "metadata": {},
   "outputs": [],
   "source": [
    "from sklearn.model_selection import train_test_split\n",
    "X_train, X_test, y_train, y_test = train_test_split(X, y, test_size=0.13, random_state=42)\n",
    "X_train, X_val, y_train, y_val = train_test_split(X_train, y_train, test_size=0.13, random_state=42)\n",
    "\n",
    "# scale the numerical features only (this leaves out the dummy features from earlier)\n",
    "from sklearn.preprocessing import StandardScaler\n",
    "features = numerical\n",
    "scaler = StandardScaler()\n",
    "\n",
    "X_train[features] = scaler.fit_transform(X_train[features])\n",
    "X_test[features] = scaler.transform(X_test[features])\n",
    "X_val[features] = scaler.transform(X_val[features])"
   ]
  },
  {
   "cell_type": "code",
   "execution_count": 7,
   "metadata": {},
   "outputs": [],
   "source": [
    "from sklearn.feature_selection import SelectKBest, f_regression\n",
    "select = SelectKBest(f_regression, k=20)\n",
    "\n",
    "best_features = select.fit_transform(X_train, y_train)\n",
    "feature_scores = pd.concat([pd.Series(X_train.columns), pd.Series(select.scores_)], axis=1)\n",
    "feature_scores.columns = [\"features\", \"score\"]"
   ]
  },
  {
   "cell_type": "code",
   "execution_count": 8,
   "metadata": {},
   "outputs": [],
   "source": [
    "features = list(feature_scores.sort_values(by=[\"score\"], ascending=False).head(15)['features'])"
   ]
  },
  {
   "cell_type": "code",
   "execution_count": 9,
   "metadata": {},
   "outputs": [],
   "source": [
    "X_train = X_train[features]\n",
    "X_test = X_test[features]\n",
    "X_val = X_val[features]"
   ]
  },
  {
   "cell_type": "code",
   "execution_count": 10,
   "metadata": {},
   "outputs": [],
   "source": [
    "from sklearn.metrics import mean_squared_error, r2_score, explained_variance_score, mean_squared_log_error\n",
    "def evaluate(y_pred, y_test):\n",
    "    \"\"\" Prints out the evaluation metrics of the experiment\n",
    "        parameters:\n",
    "            y_pred\n",
    "                DataFrame or array-like, the predictions\n",
    "            y_test\n",
    "                DataFrame or array-like, the actual y-values\n",
    "                \n",
    "            these two parameters must have the same dimensions\n",
    "    \"\"\"\n",
    "    print(\"r^2: \", r2_score(y_test, y_pred))\n",
    "    print(\"mse: \", mean_squared_error(y_test, y_pred))\n",
    "    print(\"variance_score: \", explained_variance_score(y_test, y_pred))\n",
    "    print(\"mse-log: \", mean_squared_log_error(y_test, y_pred))"
   ]
  },
  {
   "cell_type": "code",
   "execution_count": 11,
   "metadata": {},
   "outputs": [],
   "source": [
    "def run(model, model_name, x_train, x_val):\n",
    "    \"\"\" Fits the model and prints out results from calling evaluate on the training and validation set\n",
    "        parameters:\n",
    "            model\n",
    "                the unfitted model, from sklearn (has to have a fit and predict method)\n",
    "            model_name\n",
    "                String, the name of the model\n",
    "            x_train\n",
    "                DataFrame, the training set\n",
    "            x_val\n",
    "                DataFrame, the validation set\n",
    "                \n",
    "        returns:\n",
    "            nothing\n",
    "        \n",
    "    \"\"\"\n",
    "    model = model.fit(x_train, y_train)\n",
    "    y_pred = np.clip(model.predict(x_train), 0, 1000) # since negative results are meaningless\n",
    "    \n",
    "    print(\"[{0}] These are the results for the training set.\".format(model_name))\n",
    "    \n",
    "    evaluate(y_pred, y_train)\n",
    "    print(\"--------------------------------------\")\n",
    "    \n",
    "    print(\"[{0}] These are the results for the validation set.\".format(model_name))\n",
    "    y_pred = np.clip(model.predict(x_val), 0, 1000) # since negative results are meaningless\n",
    "    \n",
    "    evaluate(y_pred, y_val)\n",
    "    \n",
    "    print(\"_____________________________________________\")"
   ]
  },
  {
   "cell_type": "code",
   "execution_count": 42,
   "metadata": {},
   "outputs": [],
   "source": [
    "from sklearn.ensemble import GradientBoostingRegressor\n",
    "from sklearn.metrics import *"
   ]
  },
  {
   "cell_type": "code",
   "execution_count": 317,
   "metadata": {},
   "outputs": [
    {
     "data": {
      "text/plain": [
       "GradientBoostingRegressor(alpha=0.55, learning_rate=0.05, loss='huber',\n",
       "                          max_depth=2, max_features='log2', min_samples_leaf=9,\n",
       "                          min_samples_split=8, n_estimators=600,\n",
       "                          subsample=0.75)"
      ]
     },
     "execution_count": 317,
     "metadata": {},
     "output_type": "execute_result"
    }
   ],
   "source": [
    "params = {'n_estimators': 600,\n",
    " 'min_samples_split': 8,\n",
    " 'min_samples_leaf': 9,\n",
    " 'max_features': 'log2',\n",
    " 'max_depth': 2,\n",
    " 'learning_rate': 0.05,\n",
    " 'alpha': 0.55,\n",
    "  'subsample': 0.75,\n",
    " 'loss': 'quantile'}\n",
    "model_gbr = GradientBoostingRegressor(**params)\n",
    "model_gbr.fit(X_train[features], y_train)"
   ]
  },
  {
   "cell_type": "code",
   "execution_count": 318,
   "metadata": {
    "scrolled": true
   },
   "outputs": [
    {
     "data": {
      "image/png": "[encoded data removed]",
      "text/plain": [
       "<Figure size 720x720 with 1 Axes>"
      ]
     },
     "metadata": {
      "needs_background": "light"
     },
     "output_type": "display_data"
    }
   ],
   "source": [
    "test_score = np.zeros((params['n_estimators'],), dtype=np.float64)\n",
    "for i, y_pred in enumerate(model_gbr.staged_predict(X_val[features])):\n",
    "    test_score[i] = mean_squared_error(y_val, y_pred)\n",
    "\n",
    "fig = plt.figure(figsize=(10, 10))\n",
    "plt.subplot(1, 1, 1)\n",
    "plt.title('Deviance')\n",
    "plt.plot(np.arange(params['n_estimators']) + 1, model_gbr.train_score_, 'b-',\n",
    "         label='Training Set Deviance')\n",
    "plt.plot(np.arange(params['n_estimators']) + 1, test_score, 'r-',\n",
    "         label='Test Set Deviance')\n",
    "plt.legend(loc='upper right')\n",
    "plt.xlabel('Boosting Iterations')\n",
    "plt.ylabel('Deviance')\n",
    "fig.tight_layout()\n",
    "plt.show()"
   ]
  },
  {
   "cell_type": "code",
   "execution_count": 275,
   "metadata": {},
   "outputs": [],
   "source": [
    "from sklearn.model_selection import *\n",
    "# Number of boosting iterations\n",
    "n_estimators = [int(x) for x in np.linspace(start = 100, stop = 1000, num = 25)]\n",
    "# Number of features to consider at every split\n",
    "max_features = ['auto', 'sqrt', 'log2']\n",
    "# Maximum number of levels in tree\n",
    "max_depth = [int(x) for x in np.arange(1, 3)]\n",
    "max_depth.append(None)\n",
    "# Minimum number of samples required to split a node\n",
    "min_samples_split = [2, 4, 6, 8, 10]\n",
    "# Minimum number of samples required at each leaf node\n",
    "min_samples_leaf = [1, 3, 5, 7, 9]\n",
    "alphas = [x for x in np.arange(0.05, 0.85, 0.05)]\n",
    "learning_rates = [x for x in np.arange(0.05, 0.001, -0.01)]\n",
    "# Create the random grid\n",
    "random_grid = {'n_estimators': n_estimators,\n",
    "               'max_features': max_features,\n",
    "               'max_depth': max_depth,\n",
    "               'min_samples_split': min_samples_split,\n",
    "               'min_samples_leaf': min_samples_leaf,\n",
    "              'learning_rate': learning_rates,\n",
    "               'alpha': alphas}"
   ]
  },
  {
   "cell_type": "code",
   "execution_count": 188,
   "metadata": {},
   "outputs": [
    {
     "name": "stdout",
     "output_type": "stream",
     "text": [
      "Fitting 5 folds for each of 250 candidates, totalling 1250 fits\n"
     ]
    },
    {
     "name": "stderr",
     "output_type": "stream",
     "text": [
      "[Parallel(n_jobs=-1)]: Using backend LokyBackend with 12 concurrent workers.\n",
      "[Parallel(n_jobs=-1)]: Done  17 tasks      | elapsed:    9.0s\n",
      "[Parallel(n_jobs=-1)]: Done 138 tasks      | elapsed:  1.5min\n",
      "[Parallel(n_jobs=-1)]: Done 341 tasks      | elapsed:  3.3min\n",
      "[Parallel(n_jobs=-1)]: Done 624 tasks      | elapsed:  6.9min\n",
      "[Parallel(n_jobs=-1)]: Done 989 tasks      | elapsed: 11.8min\n",
      "[Parallel(n_jobs=-1)]: Done 1250 out of 1250 | elapsed: 15.6min finished\n"
     ]
    },
    {
     "data": {
      "text/plain": [
       "RandomizedSearchCV(cv=5, estimator=GradientBoostingRegressor(loss='quantile'),\n",
       "                   n_iter=250, n_jobs=-1,\n",
       "                   param_distributions={'alpha': [0.05, 0.1,\n",
       "                                                  0.15000000000000002, 0.2,\n",
       "                                                  0.25, 0.3,\n",
       "                                                  0.35000000000000003, 0.4,\n",
       "                                                  0.45, 0.5, 0.55,\n",
       "                                                  0.6000000000000001,\n",
       "                                                  0.6500000000000001,\n",
       "                                                  0.7000000000000001,\n",
       "                                                  0.7500000000000001, 0.8],\n",
       "                                        'learning_rate': [0.05, 0.04, 0.03,\n",
       "                                                          0.019999999999999997,\n",
       "                                                          0.009999999999999995],\n",
       "                                        'max_depth': [1, 2, None],\n",
       "                                        'max_features': ['auto', 'sqrt',\n",
       "                                                         'log2'],\n",
       "                                        'min_samples_leaf': [1, 3, 5, 7, 9],\n",
       "                                        'min_samples_split': [2, 4, 6, 8, 10],\n",
       "                                        'n_estimators': [100, 202, 304, 406,\n",
       "                                                         508, 610, 712, 814,\n",
       "                                                         916, 1018, 1120, 1222,\n",
       "                                                         1324, 1426, 1528, 1630,\n",
       "                                                         1732, 1834, 1936, 2038,\n",
       "                                                         2140, 2242, 2344, 2446,\n",
       "                                                         2548, 2651, 2753, 2855,\n",
       "                                                         2957, 3059, ...]},\n",
       "                   random_state=42, verbose=2)"
      ]
     },
     "execution_count": 188,
     "metadata": {},
     "output_type": "execute_result"
    }
   ],
   "source": [
    "rf_random = RandomizedSearchCV(estimator = GradientBoostingRegressor(loss='quantile'), param_distributions = random_grid, n_iter = 250, cv = 5, verbose=2, random_state=42, n_jobs = -1)\n",
    "rf_random.fit(X_train, y_train)"
   ]
  },
  {
   "cell_type": "code",
   "execution_count": 319,
   "metadata": {},
   "outputs": [
    {
     "name": "stdout",
     "output_type": "stream",
     "text": [
      "[Gradient Boost Decision Tree] These are the results for the training set.\n",
      "r^2:  0.8448572629251406\n",
      "mse:  0.0010017020435904005\n",
      "variance_score:  0.8514425249197921\n",
      "mse-log:  0.0007885424378499227\n",
      "--------------------------------------\n",
      "[Gradient Boost Decision Tree] These are the results for the validation set.\n",
      "r^2:  0.6923994736085777\n",
      "mse:  0.0023840268487250868\n",
      "variance_score:  0.6928952285833152\n",
      "mse-log:  0.0019702881744336435\n",
      "_____________________________________________\n"
     ]
    }
   ],
   "source": [
    "run(model_gbr, \"Gradient Boost Decision Tree\", X_train, X_val)"
   ]
  },
  {
   "cell_type": "code",
   "execution_count": 320,
   "metadata": {},
   "outputs": [
    {
     "name": "stdout",
     "output_type": "stream",
     "text": [
      "r^2:  0.5855440060247474\n",
      "mse:  0.0019651389266119096\n",
      "variance_score:  0.5855623183731034\n",
      "mse-log:  0.0015753961775554944\n"
     ]
    }
   ],
   "source": [
    "evaluate(model_gbr.predict(X_test), y_test)"
   ]
  }
 ],
 "metadata": {
  "kernelspec": {
   "display_name": "Python 3",
   "language": "python",
   "name": "python3"
  },
  "language_info": {
   "codemirror_mode": {
    "name": "ipython",
    "version": 3
   },
   "file_extension": ".py",
   "mimetype": "text/x-python",
   "name": "python",
   "nbconvert_exporter": "python",
   "pygments_lexer": "ipython3",
   "version": "3.8.3"
  }
 },
 "nbformat": 4,
 "nbformat_minor": 4
}
