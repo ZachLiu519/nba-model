{
 "cells": [
  {
   "cell_type": "code",
   "execution_count": 115,
   "metadata": {},
   "outputs": [],
   "source": [
    "import pandas as pd\n",
    "import numpy as np\n",
    "import sklearn\n",
    "from sklearn.model_selection import train_test_split\n",
    "from sklearn.preprocessing import StandardScaler\n",
    "from xgboost import XGBRegressor\n",
    "import smogn\n",
    "import seaborn as sns"
   ]
  },
  {
   "cell_type": "code",
   "execution_count": 133,
   "metadata": {},
   "outputs": [],
   "source": [
    "seed = 77"
   ]
  },
  {
   "cell_type": "code",
   "execution_count": 135,
   "metadata": {},
   "outputs": [
    {
     "output_type": "stream",
     "name": "stderr",
     "text": [
      "dist_matrix: 100%|##########| 28/28 [00:00<00:00, 43.85it/s]\n",
      "synth_matrix: 100%|##########| 28/28 [00:01<00:00, 16.82it/s]\n",
      "dist_matrix: 100%|##########| 118/118 [00:11<00:00, 10.47it/s]\n",
      "r_index: 100%|##########| 94/94 [00:00<00:00, 312.00it/s]\n",
      "D:\\Users\\chengmingliu\\Anaconda3\\envs\\nba-model\\lib\\site-packages\\sklearn\\utils\\validation.py:63: DataConversionWarning: A column-vector y was passed when a 1d array was expected. Please change the shape of y to (n_samples, ), for example using ravel().\n",
      "  return f(*args, **kwargs)\n"
     ]
    }
   ],
   "source": [
    "df = pd.read_excel(\"../spring21_data/fa_stats_v3.xlsx\")\n",
    "df = df.select_dtypes(exclude=['object'])\n",
    "df.drop(columns=[\"Unnamed: 0\", \"Minutes\", \"salary\", \"clean_season\", \"age\", \"end season_y\", \"season_end\"], inplace=True)\n",
    "\n",
    "X = df.drop(columns=[\"cap_space_usage\"])\n",
    "y = df[\"cap_space_usage\"]\n",
    "\n",
    "X_train, X_test, y_train, y_test = train_test_split(X, y, test_size=0.15, random_state=seed)\n",
    "both = pd.concat([X_train, y_train], axis=1).reset_index().drop(columns=[\"index\"])\n",
    "smote_data_high = smogn.smoter(data = both,\n",
    "                           y = 'cap_space_usage',\n",
    "                           rel_xtrm_type = 'high',\n",
    "                           rel_thres = 0.9,\n",
    "                           k = 9,\n",
    "                           drop_na_col = True,       ## boolean (True or False)\n",
    "                           drop_na_row = True,\n",
    "                           samp_method = 'extreme')\n",
    "smote_data_low = smogn.smoter(data = both,\n",
    "                           y = 'cap_space_usage',\n",
    "                           rel_xtrm_type = 'both',\n",
    "                           rel_thres = 0.08,\n",
    "                           k = 9,\n",
    "                           drop_na_col = True,       ## boolean (True or False)\n",
    "                           drop_na_row = True,\n",
    "                           samp_method = 'extreme')\n",
    "smote_data = pd.concat([smote_data_high, smote_data_low], ignore_index=True).drop_duplicates()\n",
    "sm = smote_data.sample(frac=1) ## make sure to shuffle the rows otherwise the cross validation will be scuffed\n",
    "y = sm[['cap_space_usage']]\n",
    "X = sm.drop(columns=['cap_space_usage'])\n",
    "\n",
    "X_train, X_val, y_train, y_val = train_test_split(X, y, test_size=0.15, random_state=seed)\n",
    "\n",
    "# scale the numerical features only (this leaves out the dummy features from earlier)\n",
    "\n",
    "from sklearn.feature_selection import SelectKBest, f_regression\n",
    "select = SelectKBest(f_regression, k=20)\n",
    "\n",
    "best_features = select.fit_transform(X, y)\n",
    "feature_scores = pd.concat([pd.Series(X.columns), pd.Series(select.scores_)], axis=1)\n",
    "feature_scores.columns = [\"features\", \"score\"]\n",
    "features = list(feature_scores.sort_values(by=[\"score\"], ascending=False).head(40)['features'])\n",
    "\n",
    "X_train = X_train[features]\n",
    "X_test = X_test[features]\n",
    "X_val = X_val[features]\n",
    "\n",
    "from sklearn.metrics import mean_squared_error, r2_score, explained_variance_score, mean_squared_log_error\n",
    "def evaluate(y_pred, y_test):\n",
    "    \"\"\" Prints out the evaluation metrics of the experiment\n",
    "        parameters:\n",
    "            y_pred\n",
    "                DataFrame or array-like, the predictions\n",
    "            y_test\n",
    "                DataFrame or array-like, the actual y-values\n",
    "                \n",
    "            these two parameters must have the same dimensions\n",
    "    \"\"\"\n",
    "    print(\"r^2: \", r2_score(y_test, y_pred))\n",
    "    print(\"mse: \", mean_squared_error(y_test, y_pred))\n",
    "    print(\"variance_score: \", explained_variance_score(y_test, y_pred))\n",
    "    print(\"mse-log: \", mean_squared_log_error(y_test, y_pred))\n",
    "    \n",
    "def run(model, model_name, x_train, x_val):\n",
    "    \"\"\" Fits the model and prints out results from calling evaluate on the training and validation set\n",
    "        parameters:\n",
    "            model\n",
    "                the unfitted model, from sklearn (has to have a fit and predict method)\n",
    "            model_name\n",
    "                String, the name of the model\n",
    "            x_train\n",
    "                DataFrame, the training set\n",
    "            x_val\n",
    "                DataFrame, the validation set\n",
    "                \n",
    "        returns:\n",
    "            nothing\n",
    "        \n",
    "    \"\"\"\n",
    "    model = model.fit(x_train, y_train)\n",
    "    y_pred = np.clip(model.predict(x_train), 0, 1000) # since negative results are meaningless\n",
    "    \n",
    "    print(\"[{0}] These are the results for the training set.\".format(model_name))\n",
    "    \n",
    "    evaluate(y_pred, y_train)\n",
    "    print(\"--------------------------------------\")\n",
    "    \n",
    "    print(\"[{0}] These are the results for the validation set.\".format(model_name))\n",
    "    y_pred = np.clip(model.predict(x_val), 0, 1000) # since negative results are meaningless\n",
    "    \n",
    "    evaluate(y_pred, y_val)\n",
    "    \n",
    "    print(\"_____________________________________________\")"
   ]
  },
  {
   "cell_type": "code",
   "execution_count": 136,
   "metadata": {},
   "outputs": [
    {
     "output_type": "stream",
     "name": "stderr",
     "text": [
      "D:\\Users\\chengmingliu\\Anaconda3\\envs\\nba-model\\lib\\site-packages\\seaborn\\distributions.py:2557: FutureWarning: `distplot` is a deprecated function and will be removed in a future version. Please adapt your code to use either `displot` (a figure-level function with similar flexibility) or `histplot` (an axes-level function for histograms).\n  warnings.warn(msg, FutureWarning)\n"
     ]
    },
    {
     "output_type": "execute_result",
     "data": {
      "text/plain": [
       "<AxesSubplot:ylabel='Density'>"
      ]
     },
     "metadata": {},
     "execution_count": 136
    },
    {
     "output_type": "display_data",
     "data": {
      "text/plain": "<Figure size 432x288 with 1 Axes>",
      "image/svg+xml": "<?xml version=\"1.0\" encoding=\"utf-8\" standalone=\"no\"?>\r\n<!DOCTYPE svg PUBLIC \"-//W3C//DTD SVG 1.1//EN\"\r\n  \"http://www.w3.org/Graphics/SVG/1.1/DTD/svg11.dtd\">\r\n<!-- Created with matplotlib (https://matplotlib.org/) -->\r\n<svg height=\"248.518125pt\" version=\"1.1\" viewBox=\"0 0 376.240625 248.518125\" width=\"376.240625pt\" xmlns=\"http://www.w3.org/2000/svg\" xmlns:xlink=\"http://www.w3.org/1999/xlink\">\r\n <metadata>\r\n  <rdf:RDF xmlns:cc=\"http://creativecommons.org/ns#\" xmlns:dc=\"http://purl.org/dc/elements/1.1/\" xmlns:rdf=\"http://www.w3.org/1999/02/22-rdf-syntax-ns#\">\r\n   <cc:Work>\r\n    <dc:type rdf:resource=\"http://purl.org/dc/dcmitype/StillImage\"/>\r\n    <dc:date>2021-05-20T18:21:03.207660</dc:date>\r\n    <dc:format>image/svg+xml</dc:format>\r\n    <dc:creator>\r\n     <cc:Agent>\r\n      <dc:title>Matplotlib v3.3.4, https://matplotlib.org/</dc:title>\r\n     </cc:Agent>\r\n    </dc:creator>\r\n   </cc:Work>\r\n  </rdf:RDF>\r\n </metadata>\r\n <defs>\r\n  <style type=\"text/css\">*{stroke-linecap:butt;stroke-linejoin:round;}</style>\r\n </defs>\r\n <g id=\"figure_1\">\r\n  <g id=\"patch_1\">\r\n   <path d=\"M 0 248.518125 \r\nL 376.240625 248.518125 \r\nL 376.240625 0 \r\nL 0 0 \r\nz\r\n\" style=\"fill:none;\"/>\r\n  </g>\r\n  <g id=\"axes_1\">\r\n   <g id=\"patch_2\">\r\n    <path d=\"M 34.240625 224.64 \r\nL 369.040625 224.64 \r\nL 369.040625 7.2 \r\nL 34.240625 7.2 \r\nz\r\n\" style=\"fill:#ffffff;\"/>\r\n   </g>\r\n   <g id=\"patch_3\">\r\n    <path clip-path=\"url(#pfef254e272)\" d=\"M 89.448062 224.64 \r\nL 109.846709 224.64 \r\nL 109.846709 17.554286 \r\nL 89.448062 17.554286 \r\nz\r\n\" style=\"fill:#1f77b4;opacity:0.4;\"/>\r\n   </g>\r\n   <g id=\"patch_4\">\r\n    <path clip-path=\"url(#pfef254e272)\" d=\"M 109.846709 224.64 \r\nL 130.245357 224.64 \r\nL 130.245357 125.713703 \r\nL 109.846709 125.713703 \r\nz\r\n\" style=\"fill:#1f77b4;opacity:0.4;\"/>\r\n   </g>\r\n   <g id=\"patch_5\">\r\n    <path clip-path=\"url(#pfef254e272)\" d=\"M 130.245357 224.64 \r\nL 150.644005 224.64 \r\nL 150.644005 116.480582 \r\nL 130.245357 116.480582 \r\nz\r\n\" style=\"fill:#1f77b4;opacity:0.4;\"/>\r\n   </g>\r\n   <g id=\"patch_6\">\r\n    <path clip-path=\"url(#pfef254e272)\" d=\"M 150.644005 224.64 \r\nL 171.042653 224.64 \r\nL 171.042653 163.965205 \r\nL 150.644005 163.965205 \r\nz\r\n\" style=\"fill:#1f77b4;opacity:0.4;\"/>\r\n   </g>\r\n   <g id=\"patch_7\">\r\n    <path clip-path=\"url(#pfef254e272)\" d=\"M 171.042653 224.64 \r\nL 191.441301 224.64 \r\nL 191.441301 105.928444 \r\nL 171.042653 105.928444 \r\nz\r\n\" style=\"fill:#1f77b4;opacity:0.4;\"/>\r\n   </g>\r\n   <g id=\"patch_8\">\r\n    <path clip-path=\"url(#pfef254e272)\" d=\"M 191.441301 224.64 \r\nL 211.839949 224.64 \r\nL 211.839949 55.805787 \r\nL 191.441301 55.805787 \r\nz\r\n\" style=\"fill:#1f77b4;opacity:0.4;\"/>\r\n   </g>\r\n   <g id=\"patch_9\">\r\n    <path clip-path=\"url(#pfef254e272)\" d=\"M 211.839949 224.64 \r\nL 232.238597 224.64 \r\nL 232.238597 113.842548 \r\nL 211.839949 113.842548 \r\nz\r\n\" style=\"fill:#1f77b4;opacity:0.4;\"/>\r\n   </g>\r\n   <g id=\"patch_10\">\r\n    <path clip-path=\"url(#pfef254e272)\" d=\"M 232.238597 224.64 \r\nL 252.637245 224.64 \r\nL 252.637245 196.940637 \r\nL 232.238597 196.940637 \r\nz\r\n\" style=\"fill:#1f77b4;opacity:0.4;\"/>\r\n   </g>\r\n   <g id=\"patch_11\">\r\n    <path clip-path=\"url(#pfef254e272)\" d=\"M 252.637245 224.64 \r\nL 273.035893 224.64 \r\nL 273.035893 220.682948 \r\nL 252.637245 220.682948 \r\nz\r\n\" style=\"fill:#1f77b4;opacity:0.4;\"/>\r\n   </g>\r\n   <g id=\"patch_12\">\r\n    <path clip-path=\"url(#pfef254e272)\" d=\"M 273.035893 224.64 \r\nL 293.434541 224.64 \r\nL 293.434541 211.449827 \r\nL 273.035893 211.449827 \r\nz\r\n\" style=\"fill:#1f77b4;opacity:0.4;\"/>\r\n   </g>\r\n   <g id=\"patch_13\">\r\n    <path clip-path=\"url(#pfef254e272)\" d=\"M 293.434541 224.64 \r\nL 313.833188 224.64 \r\nL 313.833188 223.320983 \r\nL 293.434541 223.320983 \r\nz\r\n\" style=\"fill:#1f77b4;opacity:0.4;\"/>\r\n   </g>\r\n   <g id=\"matplotlib.axis_1\">\r\n    <g id=\"xtick_1\">\r\n     <g id=\"line2d_1\">\r\n      <defs>\r\n       <path d=\"M 0 0 \r\nL 0 3.5 \r\n\" id=\"m117884e750\" style=\"stroke:#000000;stroke-width:0.8;\"/>\r\n      </defs>\r\n      <g>\r\n       <use style=\"stroke:#000000;stroke-width:0.8;\" x=\"46.093567\" xlink:href=\"#m117884e750\" y=\"224.64\"/>\r\n      </g>\r\n     </g>\r\n     <g id=\"text_1\">\r\n      <!-- −0.1 -->\r\n      <g transform=\"translate(33.952161 239.238437)scale(0.1 -0.1)\">\r\n       <defs>\r\n        <path d=\"M 10.59375 35.5 \r\nL 73.1875 35.5 \r\nL 73.1875 27.203125 \r\nL 10.59375 27.203125 \r\nz\r\n\" id=\"DejaVuSans-8722\"/>\r\n        <path d=\"M 31.78125 66.40625 \r\nQ 24.171875 66.40625 20.328125 58.90625 \r\nQ 16.5 51.421875 16.5 36.375 \r\nQ 16.5 21.390625 20.328125 13.890625 \r\nQ 24.171875 6.390625 31.78125 6.390625 \r\nQ 39.453125 6.390625 43.28125 13.890625 \r\nQ 47.125 21.390625 47.125 36.375 \r\nQ 47.125 51.421875 43.28125 58.90625 \r\nQ 39.453125 66.40625 31.78125 66.40625 \r\nz\r\nM 31.78125 74.21875 \r\nQ 44.046875 74.21875 50.515625 64.515625 \r\nQ 56.984375 54.828125 56.984375 36.375 \r\nQ 56.984375 17.96875 50.515625 8.265625 \r\nQ 44.046875 -1.421875 31.78125 -1.421875 \r\nQ 19.53125 -1.421875 13.0625 8.265625 \r\nQ 6.59375 17.96875 6.59375 36.375 \r\nQ 6.59375 54.828125 13.0625 64.515625 \r\nQ 19.53125 74.21875 31.78125 74.21875 \r\nz\r\n\" id=\"DejaVuSans-48\"/>\r\n        <path d=\"M 10.6875 12.40625 \r\nL 21 12.40625 \r\nL 21 0 \r\nL 10.6875 0 \r\nz\r\n\" id=\"DejaVuSans-46\"/>\r\n        <path d=\"M 12.40625 8.296875 \r\nL 28.515625 8.296875 \r\nL 28.515625 63.921875 \r\nL 10.984375 60.40625 \r\nL 10.984375 69.390625 \r\nL 28.421875 72.90625 \r\nL 38.28125 72.90625 \r\nL 38.28125 8.296875 \r\nL 54.390625 8.296875 \r\nL 54.390625 0 \r\nL 12.40625 0 \r\nz\r\n\" id=\"DejaVuSans-49\"/>\r\n       </defs>\r\n       <use xlink:href=\"#DejaVuSans-8722\"/>\r\n       <use x=\"83.789062\" xlink:href=\"#DejaVuSans-48\"/>\r\n       <use x=\"147.412109\" xlink:href=\"#DejaVuSans-46\"/>\r\n       <use x=\"179.199219\" xlink:href=\"#DejaVuSans-49\"/>\r\n      </g>\r\n     </g>\r\n    </g>\r\n    <g id=\"xtick_2\">\r\n     <g id=\"line2d_2\">\r\n      <g>\r\n       <use style=\"stroke:#000000;stroke-width:0.8;\" x=\"88.931906\" xlink:href=\"#m117884e750\" y=\"224.64\"/>\r\n      </g>\r\n     </g>\r\n     <g id=\"text_2\">\r\n      <!-- 0.0 -->\r\n      <g transform=\"translate(80.980344 239.238437)scale(0.1 -0.1)\">\r\n       <use xlink:href=\"#DejaVuSans-48\"/>\r\n       <use x=\"63.623047\" xlink:href=\"#DejaVuSans-46\"/>\r\n       <use x=\"95.410156\" xlink:href=\"#DejaVuSans-48\"/>\r\n      </g>\r\n     </g>\r\n    </g>\r\n    <g id=\"xtick_3\">\r\n     <g id=\"line2d_3\">\r\n      <g>\r\n       <use style=\"stroke:#000000;stroke-width:0.8;\" x=\"131.770246\" xlink:href=\"#m117884e750\" y=\"224.64\"/>\r\n      </g>\r\n     </g>\r\n     <g id=\"text_3\">\r\n      <!-- 0.1 -->\r\n      <g transform=\"translate(123.818683 239.238437)scale(0.1 -0.1)\">\r\n       <use xlink:href=\"#DejaVuSans-48\"/>\r\n       <use x=\"63.623047\" xlink:href=\"#DejaVuSans-46\"/>\r\n       <use x=\"95.410156\" xlink:href=\"#DejaVuSans-49\"/>\r\n      </g>\r\n     </g>\r\n    </g>\r\n    <g id=\"xtick_4\">\r\n     <g id=\"line2d_4\">\r\n      <g>\r\n       <use style=\"stroke:#000000;stroke-width:0.8;\" x=\"174.608585\" xlink:href=\"#m117884e750\" y=\"224.64\"/>\r\n      </g>\r\n     </g>\r\n     <g id=\"text_4\">\r\n      <!-- 0.2 -->\r\n      <g transform=\"translate(166.657023 239.238437)scale(0.1 -0.1)\">\r\n       <defs>\r\n        <path d=\"M 19.1875 8.296875 \r\nL 53.609375 8.296875 \r\nL 53.609375 0 \r\nL 7.328125 0 \r\nL 7.328125 8.296875 \r\nQ 12.9375 14.109375 22.625 23.890625 \r\nQ 32.328125 33.6875 34.8125 36.53125 \r\nQ 39.546875 41.84375 41.421875 45.53125 \r\nQ 43.3125 49.21875 43.3125 52.78125 \r\nQ 43.3125 58.59375 39.234375 62.25 \r\nQ 35.15625 65.921875 28.609375 65.921875 \r\nQ 23.96875 65.921875 18.8125 64.3125 \r\nQ 13.671875 62.703125 7.8125 59.421875 \r\nL 7.8125 69.390625 \r\nQ 13.765625 71.78125 18.9375 73 \r\nQ 24.125 74.21875 28.421875 74.21875 \r\nQ 39.75 74.21875 46.484375 68.546875 \r\nQ 53.21875 62.890625 53.21875 53.421875 \r\nQ 53.21875 48.921875 51.53125 44.890625 \r\nQ 49.859375 40.875 45.40625 35.40625 \r\nQ 44.1875 33.984375 37.640625 27.21875 \r\nQ 31.109375 20.453125 19.1875 8.296875 \r\nz\r\n\" id=\"DejaVuSans-50\"/>\r\n       </defs>\r\n       <use xlink:href=\"#DejaVuSans-48\"/>\r\n       <use x=\"63.623047\" xlink:href=\"#DejaVuSans-46\"/>\r\n       <use x=\"95.410156\" xlink:href=\"#DejaVuSans-50\"/>\r\n      </g>\r\n     </g>\r\n    </g>\r\n    <g id=\"xtick_5\">\r\n     <g id=\"line2d_5\">\r\n      <g>\r\n       <use style=\"stroke:#000000;stroke-width:0.8;\" x=\"217.446925\" xlink:href=\"#m117884e750\" y=\"224.64\"/>\r\n      </g>\r\n     </g>\r\n     <g id=\"text_5\">\r\n      <!-- 0.3 -->\r\n      <g transform=\"translate(209.495362 239.238437)scale(0.1 -0.1)\">\r\n       <defs>\r\n        <path d=\"M 40.578125 39.3125 \r\nQ 47.65625 37.796875 51.625 33 \r\nQ 55.609375 28.21875 55.609375 21.1875 \r\nQ 55.609375 10.40625 48.1875 4.484375 \r\nQ 40.765625 -1.421875 27.09375 -1.421875 \r\nQ 22.515625 -1.421875 17.65625 -0.515625 \r\nQ 12.796875 0.390625 7.625 2.203125 \r\nL 7.625 11.71875 \r\nQ 11.71875 9.328125 16.59375 8.109375 \r\nQ 21.484375 6.890625 26.8125 6.890625 \r\nQ 36.078125 6.890625 40.9375 10.546875 \r\nQ 45.796875 14.203125 45.796875 21.1875 \r\nQ 45.796875 27.640625 41.28125 31.265625 \r\nQ 36.765625 34.90625 28.71875 34.90625 \r\nL 20.21875 34.90625 \r\nL 20.21875 43.015625 \r\nL 29.109375 43.015625 \r\nQ 36.375 43.015625 40.234375 45.921875 \r\nQ 44.09375 48.828125 44.09375 54.296875 \r\nQ 44.09375 59.90625 40.109375 62.90625 \r\nQ 36.140625 65.921875 28.71875 65.921875 \r\nQ 24.65625 65.921875 20.015625 65.03125 \r\nQ 15.375 64.15625 9.8125 62.3125 \r\nL 9.8125 71.09375 \r\nQ 15.4375 72.65625 20.34375 73.4375 \r\nQ 25.25 74.21875 29.59375 74.21875 \r\nQ 40.828125 74.21875 47.359375 69.109375 \r\nQ 53.90625 64.015625 53.90625 55.328125 \r\nQ 53.90625 49.265625 50.4375 45.09375 \r\nQ 46.96875 40.921875 40.578125 39.3125 \r\nz\r\n\" id=\"DejaVuSans-51\"/>\r\n       </defs>\r\n       <use xlink:href=\"#DejaVuSans-48\"/>\r\n       <use x=\"63.623047\" xlink:href=\"#DejaVuSans-46\"/>\r\n       <use x=\"95.410156\" xlink:href=\"#DejaVuSans-51\"/>\r\n      </g>\r\n     </g>\r\n    </g>\r\n    <g id=\"xtick_6\">\r\n     <g id=\"line2d_6\">\r\n      <g>\r\n       <use style=\"stroke:#000000;stroke-width:0.8;\" x=\"260.285264\" xlink:href=\"#m117884e750\" y=\"224.64\"/>\r\n      </g>\r\n     </g>\r\n     <g id=\"text_6\">\r\n      <!-- 0.4 -->\r\n      <g transform=\"translate(252.333702 239.238437)scale(0.1 -0.1)\">\r\n       <defs>\r\n        <path d=\"M 37.796875 64.3125 \r\nL 12.890625 25.390625 \r\nL 37.796875 25.390625 \r\nz\r\nM 35.203125 72.90625 \r\nL 47.609375 72.90625 \r\nL 47.609375 25.390625 \r\nL 58.015625 25.390625 \r\nL 58.015625 17.1875 \r\nL 47.609375 17.1875 \r\nL 47.609375 0 \r\nL 37.796875 0 \r\nL 37.796875 17.1875 \r\nL 4.890625 17.1875 \r\nL 4.890625 26.703125 \r\nz\r\n\" id=\"DejaVuSans-52\"/>\r\n       </defs>\r\n       <use xlink:href=\"#DejaVuSans-48\"/>\r\n       <use x=\"63.623047\" xlink:href=\"#DejaVuSans-46\"/>\r\n       <use x=\"95.410156\" xlink:href=\"#DejaVuSans-52\"/>\r\n      </g>\r\n     </g>\r\n    </g>\r\n    <g id=\"xtick_7\">\r\n     <g id=\"line2d_7\">\r\n      <g>\r\n       <use style=\"stroke:#000000;stroke-width:0.8;\" x=\"303.123604\" xlink:href=\"#m117884e750\" y=\"224.64\"/>\r\n      </g>\r\n     </g>\r\n     <g id=\"text_7\">\r\n      <!-- 0.5 -->\r\n      <g transform=\"translate(295.172041 239.238437)scale(0.1 -0.1)\">\r\n       <defs>\r\n        <path d=\"M 10.796875 72.90625 \r\nL 49.515625 72.90625 \r\nL 49.515625 64.59375 \r\nL 19.828125 64.59375 \r\nL 19.828125 46.734375 \r\nQ 21.96875 47.46875 24.109375 47.828125 \r\nQ 26.265625 48.1875 28.421875 48.1875 \r\nQ 40.625 48.1875 47.75 41.5 \r\nQ 54.890625 34.8125 54.890625 23.390625 \r\nQ 54.890625 11.625 47.5625 5.09375 \r\nQ 40.234375 -1.421875 26.90625 -1.421875 \r\nQ 22.3125 -1.421875 17.546875 -0.640625 \r\nQ 12.796875 0.140625 7.71875 1.703125 \r\nL 7.71875 11.625 \r\nQ 12.109375 9.234375 16.796875 8.0625 \r\nQ 21.484375 6.890625 26.703125 6.890625 \r\nQ 35.15625 6.890625 40.078125 11.328125 \r\nQ 45.015625 15.765625 45.015625 23.390625 \r\nQ 45.015625 31 40.078125 35.4375 \r\nQ 35.15625 39.890625 26.703125 39.890625 \r\nQ 22.75 39.890625 18.8125 39.015625 \r\nQ 14.890625 38.140625 10.796875 36.28125 \r\nz\r\n\" id=\"DejaVuSans-53\"/>\r\n       </defs>\r\n       <use xlink:href=\"#DejaVuSans-48\"/>\r\n       <use x=\"63.623047\" xlink:href=\"#DejaVuSans-46\"/>\r\n       <use x=\"95.410156\" xlink:href=\"#DejaVuSans-53\"/>\r\n      </g>\r\n     </g>\r\n    </g>\r\n    <g id=\"xtick_8\">\r\n     <g id=\"line2d_8\">\r\n      <g>\r\n       <use style=\"stroke:#000000;stroke-width:0.8;\" x=\"345.961943\" xlink:href=\"#m117884e750\" y=\"224.64\"/>\r\n      </g>\r\n     </g>\r\n     <g id=\"text_8\">\r\n      <!-- 0.6 -->\r\n      <g transform=\"translate(338.010381 239.238437)scale(0.1 -0.1)\">\r\n       <defs>\r\n        <path d=\"M 33.015625 40.375 \r\nQ 26.375 40.375 22.484375 35.828125 \r\nQ 18.609375 31.296875 18.609375 23.390625 \r\nQ 18.609375 15.53125 22.484375 10.953125 \r\nQ 26.375 6.390625 33.015625 6.390625 \r\nQ 39.65625 6.390625 43.53125 10.953125 \r\nQ 47.40625 15.53125 47.40625 23.390625 \r\nQ 47.40625 31.296875 43.53125 35.828125 \r\nQ 39.65625 40.375 33.015625 40.375 \r\nz\r\nM 52.59375 71.296875 \r\nL 52.59375 62.3125 \r\nQ 48.875 64.0625 45.09375 64.984375 \r\nQ 41.3125 65.921875 37.59375 65.921875 \r\nQ 27.828125 65.921875 22.671875 59.328125 \r\nQ 17.53125 52.734375 16.796875 39.40625 \r\nQ 19.671875 43.65625 24.015625 45.921875 \r\nQ 28.375 48.1875 33.59375 48.1875 \r\nQ 44.578125 48.1875 50.953125 41.515625 \r\nQ 57.328125 34.859375 57.328125 23.390625 \r\nQ 57.328125 12.15625 50.6875 5.359375 \r\nQ 44.046875 -1.421875 33.015625 -1.421875 \r\nQ 20.359375 -1.421875 13.671875 8.265625 \r\nQ 6.984375 17.96875 6.984375 36.375 \r\nQ 6.984375 53.65625 15.1875 63.9375 \r\nQ 23.390625 74.21875 37.203125 74.21875 \r\nQ 40.921875 74.21875 44.703125 73.484375 \r\nQ 48.484375 72.75 52.59375 71.296875 \r\nz\r\n\" id=\"DejaVuSans-54\"/>\r\n       </defs>\r\n       <use xlink:href=\"#DejaVuSans-48\"/>\r\n       <use x=\"63.623047\" xlink:href=\"#DejaVuSans-46\"/>\r\n       <use x=\"95.410156\" xlink:href=\"#DejaVuSans-54\"/>\r\n      </g>\r\n     </g>\r\n    </g>\r\n   </g>\r\n   <g id=\"matplotlib.axis_2\">\r\n    <g id=\"ytick_1\">\r\n     <g id=\"line2d_9\">\r\n      <defs>\r\n       <path d=\"M 0 0 \r\nL -3.5 0 \r\n\" id=\"m0b16f79ac5\" style=\"stroke:#000000;stroke-width:0.8;\"/>\r\n      </defs>\r\n      <g>\r\n       <use style=\"stroke:#000000;stroke-width:0.8;\" x=\"34.240625\" xlink:href=\"#m0b16f79ac5\" y=\"224.64\"/>\r\n      </g>\r\n     </g>\r\n     <g id=\"text_9\">\r\n      <!-- 0 -->\r\n      <g transform=\"translate(20.878125 228.439219)scale(0.1 -0.1)\">\r\n       <use xlink:href=\"#DejaVuSans-48\"/>\r\n      </g>\r\n     </g>\r\n    </g>\r\n    <g id=\"ytick_2\">\r\n     <g id=\"line2d_10\">\r\n      <g>\r\n       <use style=\"stroke:#000000;stroke-width:0.8;\" x=\"34.240625\" xlink:href=\"#m0b16f79ac5\" y=\"180.862393\"/>\r\n      </g>\r\n     </g>\r\n     <g id=\"text_10\">\r\n      <!-- 1 -->\r\n      <g transform=\"translate(20.878125 184.661612)scale(0.1 -0.1)\">\r\n       <use xlink:href=\"#DejaVuSans-49\"/>\r\n      </g>\r\n     </g>\r\n    </g>\r\n    <g id=\"ytick_3\">\r\n     <g id=\"line2d_11\">\r\n      <g>\r\n       <use style=\"stroke:#000000;stroke-width:0.8;\" x=\"34.240625\" xlink:href=\"#m0b16f79ac5\" y=\"137.084786\"/>\r\n      </g>\r\n     </g>\r\n     <g id=\"text_11\">\r\n      <!-- 2 -->\r\n      <g transform=\"translate(20.878125 140.884004)scale(0.1 -0.1)\">\r\n       <use xlink:href=\"#DejaVuSans-50\"/>\r\n      </g>\r\n     </g>\r\n    </g>\r\n    <g id=\"ytick_4\">\r\n     <g id=\"line2d_12\">\r\n      <g>\r\n       <use style=\"stroke:#000000;stroke-width:0.8;\" x=\"34.240625\" xlink:href=\"#m0b16f79ac5\" y=\"93.307178\"/>\r\n      </g>\r\n     </g>\r\n     <g id=\"text_12\">\r\n      <!-- 3 -->\r\n      <g transform=\"translate(20.878125 97.106397)scale(0.1 -0.1)\">\r\n       <use xlink:href=\"#DejaVuSans-51\"/>\r\n      </g>\r\n     </g>\r\n    </g>\r\n    <g id=\"ytick_5\">\r\n     <g id=\"line2d_13\">\r\n      <g>\r\n       <use style=\"stroke:#000000;stroke-width:0.8;\" x=\"34.240625\" xlink:href=\"#m0b16f79ac5\" y=\"49.529571\"/>\r\n      </g>\r\n     </g>\r\n     <g id=\"text_13\">\r\n      <!-- 4 -->\r\n      <g transform=\"translate(20.878125 53.32879)scale(0.1 -0.1)\">\r\n       <use xlink:href=\"#DejaVuSans-52\"/>\r\n      </g>\r\n     </g>\r\n    </g>\r\n    <g id=\"text_14\">\r\n     <!-- Density -->\r\n     <g transform=\"translate(14.798437 134.928594)rotate(-90)scale(0.1 -0.1)\">\r\n      <defs>\r\n       <path d=\"M 19.671875 64.796875 \r\nL 19.671875 8.109375 \r\nL 31.59375 8.109375 \r\nQ 46.6875 8.109375 53.6875 14.9375 \r\nQ 60.6875 21.78125 60.6875 36.53125 \r\nQ 60.6875 51.171875 53.6875 57.984375 \r\nQ 46.6875 64.796875 31.59375 64.796875 \r\nz\r\nM 9.8125 72.90625 \r\nL 30.078125 72.90625 \r\nQ 51.265625 72.90625 61.171875 64.09375 \r\nQ 71.09375 55.28125 71.09375 36.53125 \r\nQ 71.09375 17.671875 61.125 8.828125 \r\nQ 51.171875 0 30.078125 0 \r\nL 9.8125 0 \r\nz\r\n\" id=\"DejaVuSans-68\"/>\r\n       <path d=\"M 56.203125 29.59375 \r\nL 56.203125 25.203125 \r\nL 14.890625 25.203125 \r\nQ 15.484375 15.921875 20.484375 11.0625 \r\nQ 25.484375 6.203125 34.421875 6.203125 \r\nQ 39.59375 6.203125 44.453125 7.46875 \r\nQ 49.3125 8.734375 54.109375 11.28125 \r\nL 54.109375 2.78125 \r\nQ 49.265625 0.734375 44.1875 -0.34375 \r\nQ 39.109375 -1.421875 33.890625 -1.421875 \r\nQ 20.796875 -1.421875 13.15625 6.1875 \r\nQ 5.515625 13.8125 5.515625 26.8125 \r\nQ 5.515625 40.234375 12.765625 48.109375 \r\nQ 20.015625 56 32.328125 56 \r\nQ 43.359375 56 49.78125 48.890625 \r\nQ 56.203125 41.796875 56.203125 29.59375 \r\nz\r\nM 47.21875 32.234375 \r\nQ 47.125 39.59375 43.09375 43.984375 \r\nQ 39.0625 48.390625 32.421875 48.390625 \r\nQ 24.90625 48.390625 20.390625 44.140625 \r\nQ 15.875 39.890625 15.1875 32.171875 \r\nz\r\n\" id=\"DejaVuSans-101\"/>\r\n       <path d=\"M 54.890625 33.015625 \r\nL 54.890625 0 \r\nL 45.90625 0 \r\nL 45.90625 32.71875 \r\nQ 45.90625 40.484375 42.875 44.328125 \r\nQ 39.84375 48.1875 33.796875 48.1875 \r\nQ 26.515625 48.1875 22.3125 43.546875 \r\nQ 18.109375 38.921875 18.109375 30.90625 \r\nL 18.109375 0 \r\nL 9.078125 0 \r\nL 9.078125 54.6875 \r\nL 18.109375 54.6875 \r\nL 18.109375 46.1875 \r\nQ 21.34375 51.125 25.703125 53.5625 \r\nQ 30.078125 56 35.796875 56 \r\nQ 45.21875 56 50.046875 50.171875 \r\nQ 54.890625 44.34375 54.890625 33.015625 \r\nz\r\n\" id=\"DejaVuSans-110\"/>\r\n       <path d=\"M 44.28125 53.078125 \r\nL 44.28125 44.578125 \r\nQ 40.484375 46.53125 36.375 47.5 \r\nQ 32.28125 48.484375 27.875 48.484375 \r\nQ 21.1875 48.484375 17.84375 46.4375 \r\nQ 14.5 44.390625 14.5 40.28125 \r\nQ 14.5 37.15625 16.890625 35.375 \r\nQ 19.28125 33.59375 26.515625 31.984375 \r\nL 29.59375 31.296875 \r\nQ 39.15625 29.25 43.1875 25.515625 \r\nQ 47.21875 21.78125 47.21875 15.09375 \r\nQ 47.21875 7.46875 41.1875 3.015625 \r\nQ 35.15625 -1.421875 24.609375 -1.421875 \r\nQ 20.21875 -1.421875 15.453125 -0.5625 \r\nQ 10.6875 0.296875 5.421875 2 \r\nL 5.421875 11.28125 \r\nQ 10.40625 8.6875 15.234375 7.390625 \r\nQ 20.0625 6.109375 24.8125 6.109375 \r\nQ 31.15625 6.109375 34.5625 8.28125 \r\nQ 37.984375 10.453125 37.984375 14.40625 \r\nQ 37.984375 18.0625 35.515625 20.015625 \r\nQ 33.0625 21.96875 24.703125 23.78125 \r\nL 21.578125 24.515625 \r\nQ 13.234375 26.265625 9.515625 29.90625 \r\nQ 5.8125 33.546875 5.8125 39.890625 \r\nQ 5.8125 47.609375 11.28125 51.796875 \r\nQ 16.75 56 26.8125 56 \r\nQ 31.78125 56 36.171875 55.265625 \r\nQ 40.578125 54.546875 44.28125 53.078125 \r\nz\r\n\" id=\"DejaVuSans-115\"/>\r\n       <path d=\"M 9.421875 54.6875 \r\nL 18.40625 54.6875 \r\nL 18.40625 0 \r\nL 9.421875 0 \r\nz\r\nM 9.421875 75.984375 \r\nL 18.40625 75.984375 \r\nL 18.40625 64.59375 \r\nL 9.421875 64.59375 \r\nz\r\n\" id=\"DejaVuSans-105\"/>\r\n       <path d=\"M 18.3125 70.21875 \r\nL 18.3125 54.6875 \r\nL 36.8125 54.6875 \r\nL 36.8125 47.703125 \r\nL 18.3125 47.703125 \r\nL 18.3125 18.015625 \r\nQ 18.3125 11.328125 20.140625 9.421875 \r\nQ 21.96875 7.515625 27.59375 7.515625 \r\nL 36.8125 7.515625 \r\nL 36.8125 0 \r\nL 27.59375 0 \r\nQ 17.1875 0 13.234375 3.875 \r\nQ 9.28125 7.765625 9.28125 18.015625 \r\nL 9.28125 47.703125 \r\nL 2.6875 47.703125 \r\nL 2.6875 54.6875 \r\nL 9.28125 54.6875 \r\nL 9.28125 70.21875 \r\nz\r\n\" id=\"DejaVuSans-116\"/>\r\n       <path d=\"M 32.171875 -5.078125 \r\nQ 28.375 -14.84375 24.75 -17.8125 \r\nQ 21.140625 -20.796875 15.09375 -20.796875 \r\nL 7.90625 -20.796875 \r\nL 7.90625 -13.28125 \r\nL 13.1875 -13.28125 \r\nQ 16.890625 -13.28125 18.9375 -11.515625 \r\nQ 21 -9.765625 23.484375 -3.21875 \r\nL 25.09375 0.875 \r\nL 2.984375 54.6875 \r\nL 12.5 54.6875 \r\nL 29.59375 11.921875 \r\nL 46.6875 54.6875 \r\nL 56.203125 54.6875 \r\nz\r\n\" id=\"DejaVuSans-121\"/>\r\n      </defs>\r\n      <use xlink:href=\"#DejaVuSans-68\"/>\r\n      <use x=\"77.001953\" xlink:href=\"#DejaVuSans-101\"/>\r\n      <use x=\"138.525391\" xlink:href=\"#DejaVuSans-110\"/>\r\n      <use x=\"201.904297\" xlink:href=\"#DejaVuSans-115\"/>\r\n      <use x=\"254.003906\" xlink:href=\"#DejaVuSans-105\"/>\r\n      <use x=\"281.787109\" xlink:href=\"#DejaVuSans-116\"/>\r\n      <use x=\"320.996094\" xlink:href=\"#DejaVuSans-121\"/>\r\n     </g>\r\n    </g>\r\n   </g>\r\n   <g id=\"line2d_14\">\r\n    <path clip-path=\"url(#pfef254e272)\" d=\"M 49.458807 224.348074 \r\nL 52.517738 224.028215 \r\nL 55.576669 223.419372 \r\nL 57.106134 222.947237 \r\nL 58.6356 222.320988 \r\nL 60.165065 221.501545 \r\nL 61.694531 220.443886 \r\nL 63.223996 219.09743 \r\nL 64.753462 217.406929 \r\nL 66.282927 215.313928 \r\nL 67.812393 212.758873 \r\nL 69.341858 209.683846 \r\nL 70.871324 206.03592 \r\nL 72.400789 201.770976 \r\nL 73.930255 196.857826 \r\nL 75.45972 191.282371 \r\nL 76.989186 185.051477 \r\nL 78.518651 178.196221 \r\nL 81.577583 162.870205 \r\nL 86.165979 137.501739 \r\nL 89.22491 120.785743 \r\nL 90.754376 113.010743 \r\nL 92.283841 105.85103 \r\nL 93.813307 99.456502 \r\nL 95.342772 93.951796 \r\nL 96.872238 89.430085 \r\nL 98.401703 85.948682 \r\nL 99.931169 83.526766 \r\nL 101.460634 82.145362 \r\nL 102.9901 81.749535 \r\nL 104.519565 82.252601 \r\nL 106.049031 83.541974 \r\nL 107.578496 85.4862 \r\nL 109.107962 87.942633 \r\nL 112.166893 93.811925 \r\nL 116.755289 103.065386 \r\nL 118.284755 105.871463 \r\nL 119.81422 108.436102 \r\nL 121.343686 110.73264 \r\nL 122.873151 112.755846 \r\nL 124.402617 114.519305 \r\nL 125.932082 116.052061 \r\nL 128.991013 118.595889 \r\nL 136.638341 124.233483 \r\nL 139.697272 127.049625 \r\nL 142.756203 130.399402 \r\nL 145.815134 134.213828 \r\nL 153.462461 144.262492 \r\nL 154.991927 146.030493 \r\nL 156.521392 147.6067 \r\nL 158.050858 148.940875 \r\nL 159.580323 149.982992 \r\nL 161.109789 150.684283 \r\nL 162.639255 150.998509 \r\nL 164.16872 150.883436 \r\nL 165.698186 150.302509 \r\nL 167.227651 149.226623 \r\nL 168.757117 147.635889 \r\nL 170.286582 145.521239 \r\nL 171.816048 142.885718 \r\nL 173.345513 139.74531 \r\nL 174.874979 136.129162 \r\nL 176.404444 132.079146 \r\nL 179.463375 122.901269 \r\nL 182.522306 112.744086 \r\nL 188.640168 91.950032 \r\nL 191.699099 82.500606 \r\nL 193.228565 78.244265 \r\nL 194.75803 74.378798 \r\nL 196.287496 70.960357 \r\nL 197.816961 68.043755 \r\nL 199.346427 65.682741 \r\nL 200.875892 63.929635 \r\nL 202.405358 62.834186 \r\nL 203.934823 62.441672 \r\nL 205.464289 62.790366 \r\nL 206.993754 63.908617 \r\nL 208.52322 65.811855 \r\nL 210.052685 68.499914 \r\nL 211.582151 71.955007 \r\nL 213.111616 76.14067 \r\nL 214.641082 81.001884 \r\nL 216.170547 86.466453 \r\nL 219.229478 98.847474 \r\nL 222.288409 112.483528 \r\nL 228.406271 140.290996 \r\nL 231.465202 153.195802 \r\nL 234.524133 164.941393 \r\nL 237.583064 175.401643 \r\nL 240.641995 184.57049 \r\nL 243.700927 192.490022 \r\nL 245.230392 195.99458 \r\nL 246.759858 199.200225 \r\nL 248.289323 202.108735 \r\nL 249.818789 204.721188 \r\nL 251.348254 207.03878 \r\nL 252.87772 209.063748 \r\nL 254.407185 210.800289 \r\nL 255.936651 212.255366 \r\nL 257.466116 213.439325 \r\nL 258.995582 214.366289 \r\nL 260.525047 215.05429 \r\nL 262.054513 215.525152 \r\nL 263.583978 215.804149 \r\nL 265.113444 215.91945 \r\nL 268.172375 215.781721 \r\nL 277.349168 214.634593 \r\nL 280.408099 214.667178 \r\nL 283.46703 215.075023 \r\nL 286.525961 215.841454 \r\nL 289.584892 216.884127 \r\nL 300.29115 220.92761 \r\nL 303.350081 221.787063 \r\nL 306.409012 222.445799 \r\nL 309.467943 222.925769 \r\nL 314.05634 223.400906 \r\nL 321.703667 223.872954 \r\nL 333.939392 224.378086 \r\nL 344.64565 224.584209 \r\nL 353.822443 224.631051 \r\nL 353.822443 224.631051 \r\n\" style=\"fill:none;stroke:#1f77b4;stroke-linecap:square;stroke-width:1.5;\"/>\r\n   </g>\r\n   <g id=\"patch_14\">\r\n    <path d=\"M 34.240625 224.64 \r\nL 34.240625 7.2 \r\n\" style=\"fill:none;stroke:#000000;stroke-linecap:square;stroke-linejoin:miter;stroke-width:0.8;\"/>\r\n   </g>\r\n   <g id=\"patch_15\">\r\n    <path d=\"M 369.040625 224.64 \r\nL 369.040625 7.2 \r\n\" style=\"fill:none;stroke:#000000;stroke-linecap:square;stroke-linejoin:miter;stroke-width:0.8;\"/>\r\n   </g>\r\n   <g id=\"patch_16\">\r\n    <path d=\"M 34.240625 224.64 \r\nL 369.040625 224.64 \r\n\" style=\"fill:none;stroke:#000000;stroke-linecap:square;stroke-linejoin:miter;stroke-width:0.8;\"/>\r\n   </g>\r\n   <g id=\"patch_17\">\r\n    <path d=\"M 34.240625 7.2 \r\nL 369.040625 7.2 \r\n\" style=\"fill:none;stroke:#000000;stroke-linecap:square;stroke-linejoin:miter;stroke-width:0.8;\"/>\r\n   </g>\r\n  </g>\r\n </g>\r\n <defs>\r\n  <clipPath id=\"pfef254e272\">\r\n   <rect height=\"217.44\" width=\"334.8\" x=\"34.240625\" y=\"7.2\"/>\r\n  </clipPath>\r\n </defs>\r\n</svg>\r\n",
      "image/png": "[encoded data removed]"
     },
     "metadata": {
      "needs_background": "light"
     }
    }
   ],
   "source": [
    "sns.distplot(y)"
   ]
  },
  {
   "cell_type": "code",
   "execution_count": 117,
   "metadata": {},
   "outputs": [],
   "source": [
    "from sklearn.model_selection import RandomizedSearchCV\n",
    "# Number of trees in tree\n",
    "n_estimators = range(25, 450, 15)\n",
    "\n",
    "# Maximum number of levels in tree\n",
    "max_depth = range(3, 10, 2)\n",
    "\n",
    "min_child_weight = range(1,7)\n",
    "# Create the random grid\n",
    "random_grid = {'n_estimators': n_estimators,\n",
    "               'max_depth': max_depth,\n",
    "               'min_child_weight': min_child_weight,\n",
    "               'gamma':[i/10.0 for i in range(0,20)],\n",
    "               'colsample_bytree': [i/100.0 for i in range(60, 90, 5)],\n",
    "               'learning_rate': [i/100.0 for i in range(5, 20, 5)],\n",
    "               'reg_alpha':[1e-5, 1e-2, 0.1, 1, 100]}"
   ]
  },
  {
   "cell_type": "code",
   "execution_count": 137,
   "metadata": {},
   "outputs": [
    {
     "output_type": "stream",
     "name": "stdout",
     "text": [
      "Fitting 7 folds for each of 300 candidates, totalling 2100 fits\n"
     ]
    },
    {
     "output_type": "execute_result",
     "data": {
      "text/plain": [
       "RandomizedSearchCV(cv=7,\n",
       "                   estimator=XGBRegressor(base_score=None, booster=None,\n",
       "                                          colsample_bylevel=None,\n",
       "                                          colsample_bynode=None,\n",
       "                                          colsample_bytree=None, gamma=None,\n",
       "                                          gpu_id=None, importance_type='gain',\n",
       "                                          interaction_constraints=None,\n",
       "                                          learning_rate=None,\n",
       "                                          max_delta_step=None, max_depth=None,\n",
       "                                          min_child_weight=None, missing=nan,\n",
       "                                          monotone_constraints=None,\n",
       "                                          n_estimators=100, n...\n",
       "                   n_iter=300, n_jobs=-1,\n",
       "                   param_distributions={'colsample_bytree': [0.6, 0.65, 0.7,\n",
       "                                                             0.75, 0.8, 0.85],\n",
       "                                        'gamma': [0.0, 0.1, 0.2, 0.3, 0.4, 0.5,\n",
       "                                                  0.6, 0.7, 0.8, 0.9, 1.0, 1.1,\n",
       "                                                  1.2, 1.3, 1.4, 1.5, 1.6, 1.7,\n",
       "                                                  1.8, 1.9],\n",
       "                                        'learning_rate': [0.05, 0.1, 0.15],\n",
       "                                        'max_depth': range(3, 10, 2),\n",
       "                                        'min_child_weight': range(1, 7),\n",
       "                                        'n_estimators': range(25, 450, 15),\n",
       "                                        'reg_alpha': [1e-05, 0.01, 0.1, 1,\n",
       "                                                      100]},\n",
       "                   random_state=77, verbose=3)"
      ]
     },
     "metadata": {},
     "execution_count": 137
    }
   ],
   "source": [
    "# Use the random grid to search for best hyperparameters\n",
    "# First create the base model to tune\n",
    "xgb = XGBRegressor()\n",
    "# Random search of parameters, using 3 fold cross validation, \n",
    "# search across 100 different combinations, and use all available cores\n",
    "xgb_random = RandomizedSearchCV(estimator = xgb, param_distributions = random_grid, n_iter = 300, cv = 7, verbose=3, random_state=seed, n_jobs = -1)\n",
    "# Fit the random search model\n",
    "xgb_random.fit(X_train, y_train)"
   ]
  },
  {
   "cell_type": "code",
   "execution_count": 138,
   "metadata": {},
   "outputs": [
    {
     "output_type": "execute_result",
     "data": {
      "text/plain": [
       "{'reg_alpha': 1e-05,\n",
       " 'n_estimators': 370,\n",
       " 'min_child_weight': 3,\n",
       " 'max_depth': 9,\n",
       " 'learning_rate': 0.05,\n",
       " 'gamma': 0.0,\n",
       " 'colsample_bytree': 0.8}"
      ]
     },
     "metadata": {},
     "execution_count": 138
    }
   ],
   "source": [
    "xgb_random.best_params_"
   ]
  },
  {
   "cell_type": "code",
   "execution_count": null,
   "metadata": {},
   "outputs": [],
   "source": [
    "reg_alpha= 1e-05,\n",
    " n_estimators= 370,\n",
    " min_child_weight= 3,\n",
    " max_depth= 9,\n",
    " learning_rate= 0.05,\n",
    " gamma= 0.0,\n",
    " colsample_bytree= 0.8"
   ]
  },
  {
   "cell_type": "code",
   "execution_count": 76,
   "metadata": {},
   "outputs": [],
   "source": [
    "from sklearn.model_selection import GridSearchCV"
   ]
  },
  {
   "cell_type": "code",
   "execution_count": 77,
   "metadata": {},
   "outputs": [
    {
     "output_type": "execute_result",
     "data": {
      "text/plain": [
       "GridSearchCV(cv=5,\n",
       "             estimator=XGBRegressor(base_score=None, booster=None,\n",
       "                                    colsample_bylevel=None,\n",
       "                                    colsample_bynode=None, colsample_bytree=0.7,\n",
       "                                    gamma=0.0, gpu_id=None,\n",
       "                                    importance_type='gain',\n",
       "                                    interaction_constraints=None,\n",
       "                                    learning_rate=0.1, max_delta_step=None,\n",
       "                                    max_depth=5, min_child_weight=3,\n",
       "                                    missing=nan, monotone_constraints=None,\n",
       "                                    n_estimators=85, n_jobs=None,\n",
       "                                    num_parallel_tree=None, random_state=None,\n",
       "                                    reg_alpha=None, reg_lambda=None,\n",
       "                                    scale_pos_weight=1, subsample=None,\n",
       "                                    tree_method=None, validate_parameters=None,\n",
       "                                    verbosity=None),\n",
       "             n_jobs=-1, param_grid={'reg_alpha': [1e-05, 0.01, 0.1, 1, 100]})"
      ]
     },
     "metadata": {},
     "execution_count": 77
    }
   ],
   "source": [
    "xgb = XGBRegressor(reg_alpha= 0.1,\n",
    " n_estimators= 130,\n",
    " min_child_weight= 4,\n",
    " max_depth= 5,\n",
    " learning_rate= 0.15,\n",
    " gamma= 0.0,\n",
    " colsample_bytree= 0.7,\n",
    "scale_pos_weight = 1)\n",
    "\n",
    "grid = {\n",
    "    'reg_alpha':[1e-5, 1e-2, 0.1, 1, 100]\n",
    "}\n",
    "\n",
    "gsearch = GridSearchCV(estimator = xgb, \n",
    "                       param_grid = grid, n_jobs=-1, cv=5)\n",
    "gsearch.fit(X_train, y_train)"
   ]
  },
  {
   "cell_type": "code",
   "execution_count": 78,
   "metadata": {},
   "outputs": [
    {
     "output_type": "execute_result",
     "data": {
      "text/plain": [
       "{'reg_alpha': 1e-05}"
      ]
     },
     "metadata": {},
     "execution_count": 78
    }
   ],
   "source": [
    "gsearch.best_params_"
   ]
  },
  {
   "cell_type": "code",
   "execution_count": 139,
   "metadata": {},
   "outputs": [
    {
     "output_type": "stream",
     "name": "stdout",
     "text": [
      "[XGB] These are the results for the training set.\nr^2:  0.9999321634040292\nmse:  8.83443942737195e-07\nvariance_score:  0.9999321634319438\nmse-log:  6.183726134380546e-07\n--------------------------------------\n[XGB] These are the results for the validation set.\nr^2:  0.8703553073848966\nmse:  0.001879737799785272\nvariance_score:  0.8703762839018823\nmse-log:  0.0012417455603565453\n_____________________________________________\n"
     ]
    }
   ],
   "source": [
    "xgb = XGBRegressor(reg_alpha= 1e-05,\n",
    " n_estimators= 370,\n",
    " min_child_weight= 3,\n",
    " max_depth= 9,\n",
    " learning_rate= 0.05,\n",
    " gamma= 0.0,\n",
    " colsample_bytree= 0.8)\n",
    "\n",
    "run(xgb, \"XGB\", X_train, X_val)"
   ]
  },
  {
   "cell_type": "code",
   "execution_count": 140,
   "metadata": {},
   "outputs": [
    {
     "output_type": "stream",
     "name": "stdout",
     "text": [
      "r^2:  0.7771266677359601\nmse:  0.0017146940394034923\nvariance_score:  0.7925521816590111\nmse-log:  0.0013942991324292719\n"
     ]
    }
   ],
   "source": [
    "evaluate(xgb.predict(X_test), y_test)"
   ]
  },
  {
   "cell_type": "code",
   "execution_count": 141,
   "metadata": {},
   "outputs": [],
   "source": [
    "data = pd.read_excel(\"../spring21_data/fa_stats_v3.xlsx\")"
   ]
  },
  {
   "cell_type": "code",
   "execution_count": 142,
   "metadata": {},
   "outputs": [],
   "source": [
    "test_index = X_test.index\n",
    "test_data = data.iloc[test_index][['clean_season','Player','MPG', 'attempted_field_goals', 'minutes_played', 'WS', 'Wins Added', 'poss','cap_space_usage']]\n",
    "results = pd.concat([test_data, pd.DataFrame(index=test_index, data=xgb.predict(X_test))], axis=1)"
   ]
  },
  {
   "cell_type": "code",
   "execution_count": 143,
   "metadata": {},
   "outputs": [
    {
     "output_type": "execute_result",
     "data": {
      "text/plain": [
       "     clean_season               Player   MPG  attempted_field_goals  \\\n",
       "108          2016           Randy Foye  20.3               6.166667   \n",
       "326          2019          Jake Layman  18.7               5.971831   \n",
       "250          2018     Luc Mbah a Moute  25.6               5.655738   \n",
       "87           2016          Jason Terry  17.5               5.222222   \n",
       "360          2019   Shaquille Harrison  19.6               5.835616   \n",
       "324          2019       Reggie Bullock  29.8              10.022727   \n",
       "320          2019         Daniel Theis  13.8               4.030303   \n",
       "77           2016    Marreese Speights  11.6               6.333333   \n",
       "347          2019           Quinn Cook  14.3               5.932432   \n",
       "204          2017       Josh McRoberts  17.3               5.363636   \n",
       "46           2016         Al Jefferson  23.3              10.744681   \n",
       "125          2017        Blake Griffin  34.0              15.918033   \n",
       "223          2018     Montrezl Harrell  17.0               7.210526   \n",
       "15           2016           David West  18.0               5.743590   \n",
       "175          2017     Jonathon Simmons  17.8               5.397436   \n",
       "356          2019           Alec Burks  21.5               6.705882   \n",
       "243          2018       Shabazz Napier  20.7               7.175676   \n",
       "176          2017       Jamal Crawford  26.3              10.609756   \n",
       "180          2017             Rudy Gay  33.8              14.733333   \n",
       "260          2018          Omri Casspi  14.0               3.905660   \n",
       "203          2017         Aaron Brooks  13.8               4.615385   \n",
       "148          2017         Jrue Holiday  32.7              13.328358   \n",
       "177          2017       Raymond Felton  21.3               6.425000   \n",
       "119          2016          Norris Cole  26.6              10.755556   \n",
       "13           2016      Bismack Biyombo  22.0               3.512195   \n",
       "58           2016           Quincy Acy  14.8               3.627119   \n",
       "155          2017      Thabo Sefolosha  25.7               6.370968   \n",
       "335          2019        Cheick Diallo  14.0               4.234375   \n",
       "264          2018         Shelvin Mack  19.8               6.000000   \n",
       "370          2019            Raul Neto  12.8               4.351351   \n",
       "52           2016          Joe Johnson  33.4              10.666667   \n",
       "362          2019        Jabari Parker  26.9              11.897436   \n",
       "45           2016     Maurice Harkless  18.7               5.269231   \n",
       "188          2017          Jodie Meeks  20.5               7.111111   \n",
       "232          2018      Wayne Ellington  26.5               9.090909   \n",
       "214          2018         Kevin Durant  34.2              17.970588   \n",
       "279          2018        Isaiah Thomas  26.9              12.933333   \n",
       "93           2016        James Johnson  16.2               4.210526   \n",
       "19           2016          Dwyane Wade  30.5              15.986486   \n",
       "251          2018        Elfrid Payton  28.7              10.409091   \n",
       "72           2016        Tyler Johnson  24.0               6.750000   \n",
       "247          2018         Aaron Gordon  32.9              14.913793   \n",
       "295          2019      Malcolm Brogdon  28.6              11.687500   \n",
       "94           2016            Ish Smith  29.1               8.444444   \n",
       "282          2018          Abdel Nader  10.9               3.104167   \n",
       "20           2016      Jared Sullinger  23.6               9.950617   \n",
       "16           2016          Mike Conley  31.4              12.428571   \n",
       "367          2019        Austin Rivers  26.7               6.689655   \n",
       "288          2019           Al Horford  29.0              10.632353   \n",
       "32           2016  Matthew Dellavedova  24.6               6.723684   \n",
       "162          2017             Alex Len  20.3               6.012987   \n",
       "8            2016        Dirk Nowitzki  31.5              14.826667   \n",
       "170          2017            Ian Clark  14.8               5.623377   \n",
       "338          2019         Mike Muscala  20.4               5.914894   \n",
       "269          2018       Jamal Crawford  20.7               9.275000   \n",
       "106          2016          Tarik Black  12.7               2.666667   \n",
       "286          2019         Kyrie Irving  33.0              18.522388   \n",
       "278          2018         Nik Stauskas  12.8               0.666667   \n",
       "364          2019          Rajon Rondo  29.8               9.391304   \n",
       "262          2018          Bryn Forbes  19.0               6.212500   \n",
       "\n",
       "     minutes_played    WS  Wins Added  poss  cap_space_usage         0  \n",
       "108       19.814815   0.4    1.047210  3708         0.026555  0.028488  \n",
       "326       18.690141   3.1    1.047391  2836         0.032820  0.040779  \n",
       "250       25.639344   2.8    2.345739  3541         0.042412  0.100842  \n",
       "87        17.472222   1.5    0.185474  2883         0.016482  0.036233  \n",
       "360       19.589041   1.4   -0.100122  3009         0.008231  0.026086  \n",
       "324       30.795455   3.1    0.530684  3957         0.036650  0.077106  \n",
       "320       13.757576   3.5    1.453792  2039         0.045813  0.035457  \n",
       "77        11.555556   1.8    0.392331  2157         0.014909  0.055495  \n",
       "347       14.310811   1.8   -0.405645  2626         0.027488  0.050801  \n",
       "204       17.318182   0.3    0.060565   739         0.060763  0.028356  \n",
       "46        23.319149   2.8    1.845755  2529         0.108666  0.067606  \n",
       "125       34.032787   7.7    7.041186  4393         0.300000  0.206110  \n",
       "223       17.013158   5.5    3.942883  2758         0.058899  0.088227  \n",
       "15        18.000000   5.4    3.495108  3163         0.016482  0.059717  \n",
       "175       17.846154   2.0    0.950851  3459         0.063577  0.059423  \n",
       "356       15.823529   1.5    0.672982  2850         0.021258  0.038626  \n",
       "243       20.743243   3.2    2.740723  3187         0.019068  0.092886  \n",
       "176       26.304878   1.9   -0.456838  4810         0.110429  0.093959  \n",
       "180       33.766667   1.8    2.916619  2036         0.084829  0.177194  \n",
       "260       13.962264   2.2    0.984506  1573         0.020781  0.036501  \n",
       "203       13.753846   0.3   -0.158780  1819         0.014848  0.020261  \n",
       "148       32.686567   3.8    4.714773  4533         0.259218  0.190627  \n",
       "177       21.250000   1.9    0.297612  3736         0.014848  0.057399  \n",
       "119       26.622222  -0.1   -0.053711  2469         0.002634  0.042609  \n",
       "13        22.048780   5.9    3.580105  4509         0.180576  0.106396  \n",
       "58        14.847458   2.5    0.876735  1852         0.020337  0.024972  \n",
       "155       25.741935   3.3    2.585279  3313         0.052981  0.092910  \n",
       "335       14.000000   2.6    1.296424  2001         0.015383  0.044446  \n",
       "264       19.782609   1.9    1.071403  2779         0.009817  0.055461  \n",
       "370       12.810811   1.1    0.662465  1079         0.015917  0.058898  \n",
       "52        33.929825   2.7    3.481817  6355         0.116844  0.126844  \n",
       "362       26.717949   1.4    1.662402  3694         0.059557  0.037622  \n",
       "45        18.679487   2.9    1.842955  3550         0.095480  0.047721  \n",
       "188       20.500000   1.1    0.685160  1525         0.033201  0.074129  \n",
       "232       26.506494   4.5    2.589305  4309         0.061550  0.083030  \n",
       "214       34.191176  10.4    9.362797  6604         0.294496  0.296110  \n",
       "279       27.066667   0.2    0.548278  1850         0.019922  0.099144  \n",
       "93        16.245614   1.3    0.592360  2006         0.042489  0.023697  \n",
       "19        30.513514   4.9    3.374626  5388         0.246434  0.206378  \n",
       "251       28.568182   2.8    2.977743  3822         0.026505  0.073042  \n",
       "72        23.972222   2.0    0.677395  1806         0.059781  0.078115  \n",
       "247       32.913793   2.9    4.144279  3994         0.206147  0.209380  \n",
       "295       28.625000   6.5    4.825757  4412         0.183251  0.159171  \n",
       "94        22.851852   1.3    4.108775  4636         0.063733  0.097745  \n",
       "282       10.875000  -0.1   -0.027702  1159         0.013530  0.011218  \n",
       "20        23.641975   4.8    5.133590  4129         0.059781  0.107982  \n",
       "16        31.446429   5.3    5.954051  3439         0.281913  0.179165  \n",
       "367       23.551724   1.2    0.727550  4724         0.019922  0.079159  \n",
       "288       29.014706   7.5    6.275977  4796         0.256551  0.201137  \n",
       "32        24.565789   3.8    3.885353  4174         0.102052  0.096986  \n",
       "162       20.259740   3.0    0.335676  3318         0.042259  0.060930  \n",
       "8         31.520000   6.8    7.452673  5095         0.265553  0.272422  \n",
       "170       14.766234   2.3   -0.341139  2838         0.014848  0.057575  \n",
       "338       22.148936   2.5    1.048672  2858         0.018587  0.057953  \n",
       "269       20.662500   1.3   -1.355448  3636         0.022620  0.050782  \n",
       "106       12.717949   0.7    0.794243  1001         0.065762  0.049332  \n",
       "286       33.044776   9.1    9.146498  5404         0.290837  0.313810  \n",
       "278        7.500000   0.3   -0.012369  1089         0.015917  0.032040  \n",
       "364       29.760870   1.3    0.410864  2982         0.023500  0.078316  \n",
       "262       18.962500   2.1    0.769528  3205         0.030677  0.035194  "
      ],
      "text/html": "<div>\n<style scoped>\n    .dataframe tbody tr th:only-of-type {\n        vertical-align: middle;\n    }\n\n    .dataframe tbody tr th {\n        vertical-align: top;\n    }\n\n    .dataframe thead th {\n        text-align: right;\n    }\n</style>\n<table border=\"1\" class=\"dataframe\">\n  <thead>\n    <tr style=\"text-align: right;\">\n      <th></th>\n      <th>clean_season</th>\n      <th>Player</th>\n      <th>MPG</th>\n      <th>attempted_field_goals</th>\n      <th>minutes_played</th>\n      <th>WS</th>\n      <th>Wins Added</th>\n      <th>poss</th>\n      <th>cap_space_usage</th>\n      <th>0</th>\n    </tr>\n  </thead>\n  <tbody>\n    <tr>\n      <th>108</th>\n      <td>2016</td>\n      <td>Randy Foye</td>\n      <td>20.3</td>\n      <td>6.166667</td>\n      <td>19.814815</td>\n      <td>0.4</td>\n      <td>1.047210</td>\n      <td>3708</td>\n      <td>0.026555</td>\n      <td>0.028488</td>\n    </tr>\n    <tr>\n      <th>326</th>\n      <td>2019</td>\n      <td>Jake Layman</td>\n      <td>18.7</td>\n      <td>5.971831</td>\n      <td>18.690141</td>\n      <td>3.1</td>\n      <td>1.047391</td>\n      <td>2836</td>\n      <td>0.032820</td>\n      <td>0.040779</td>\n    </tr>\n    <tr>\n      <th>250</th>\n      <td>2018</td>\n      <td>Luc Mbah a Moute</td>\n      <td>25.6</td>\n      <td>5.655738</td>\n      <td>25.639344</td>\n      <td>2.8</td>\n      <td>2.345739</td>\n      <td>3541</td>\n      <td>0.042412</td>\n      <td>0.100842</td>\n    </tr>\n    <tr>\n      <th>87</th>\n      <td>2016</td>\n      <td>Jason Terry</td>\n      <td>17.5</td>\n      <td>5.222222</td>\n      <td>17.472222</td>\n      <td>1.5</td>\n      <td>0.185474</td>\n      <td>2883</td>\n      <td>0.016482</td>\n      <td>0.036233</td>\n    </tr>\n    <tr>\n      <th>360</th>\n      <td>2019</td>\n      <td>Shaquille Harrison</td>\n      <td>19.6</td>\n      <td>5.835616</td>\n      <td>19.589041</td>\n      <td>1.4</td>\n      <td>-0.100122</td>\n      <td>3009</td>\n      <td>0.008231</td>\n      <td>0.026086</td>\n    </tr>\n    <tr>\n      <th>324</th>\n      <td>2019</td>\n      <td>Reggie Bullock</td>\n      <td>29.8</td>\n      <td>10.022727</td>\n      <td>30.795455</td>\n      <td>3.1</td>\n      <td>0.530684</td>\n      <td>3957</td>\n      <td>0.036650</td>\n      <td>0.077106</td>\n    </tr>\n    <tr>\n      <th>320</th>\n      <td>2019</td>\n      <td>Daniel Theis</td>\n      <td>13.8</td>\n      <td>4.030303</td>\n      <td>13.757576</td>\n      <td>3.5</td>\n      <td>1.453792</td>\n      <td>2039</td>\n      <td>0.045813</td>\n      <td>0.035457</td>\n    </tr>\n    <tr>\n      <th>77</th>\n      <td>2016</td>\n      <td>Marreese Speights</td>\n      <td>11.6</td>\n      <td>6.333333</td>\n      <td>11.555556</td>\n      <td>1.8</td>\n      <td>0.392331</td>\n      <td>2157</td>\n      <td>0.014909</td>\n      <td>0.055495</td>\n    </tr>\n    <tr>\n      <th>347</th>\n      <td>2019</td>\n      <td>Quinn Cook</td>\n      <td>14.3</td>\n      <td>5.932432</td>\n      <td>14.310811</td>\n      <td>1.8</td>\n      <td>-0.405645</td>\n      <td>2626</td>\n      <td>0.027488</td>\n      <td>0.050801</td>\n    </tr>\n    <tr>\n      <th>204</th>\n      <td>2017</td>\n      <td>Josh McRoberts</td>\n      <td>17.3</td>\n      <td>5.363636</td>\n      <td>17.318182</td>\n      <td>0.3</td>\n      <td>0.060565</td>\n      <td>739</td>\n      <td>0.060763</td>\n      <td>0.028356</td>\n    </tr>\n    <tr>\n      <th>46</th>\n      <td>2016</td>\n      <td>Al Jefferson</td>\n      <td>23.3</td>\n      <td>10.744681</td>\n      <td>23.319149</td>\n      <td>2.8</td>\n      <td>1.845755</td>\n      <td>2529</td>\n      <td>0.108666</td>\n      <td>0.067606</td>\n    </tr>\n    <tr>\n      <th>125</th>\n      <td>2017</td>\n      <td>Blake Griffin</td>\n      <td>34.0</td>\n      <td>15.918033</td>\n      <td>34.032787</td>\n      <td>7.7</td>\n      <td>7.041186</td>\n      <td>4393</td>\n      <td>0.300000</td>\n      <td>0.206110</td>\n    </tr>\n    <tr>\n      <th>223</th>\n      <td>2018</td>\n      <td>Montrezl Harrell</td>\n      <td>17.0</td>\n      <td>7.210526</td>\n      <td>17.013158</td>\n      <td>5.5</td>\n      <td>3.942883</td>\n      <td>2758</td>\n      <td>0.058899</td>\n      <td>0.088227</td>\n    </tr>\n    <tr>\n      <th>15</th>\n      <td>2016</td>\n      <td>David West</td>\n      <td>18.0</td>\n      <td>5.743590</td>\n      <td>18.000000</td>\n      <td>5.4</td>\n      <td>3.495108</td>\n      <td>3163</td>\n      <td>0.016482</td>\n      <td>0.059717</td>\n    </tr>\n    <tr>\n      <th>175</th>\n      <td>2017</td>\n      <td>Jonathon Simmons</td>\n      <td>17.8</td>\n      <td>5.397436</td>\n      <td>17.846154</td>\n      <td>2.0</td>\n      <td>0.950851</td>\n      <td>3459</td>\n      <td>0.063577</td>\n      <td>0.059423</td>\n    </tr>\n    <tr>\n      <th>356</th>\n      <td>2019</td>\n      <td>Alec Burks</td>\n      <td>21.5</td>\n      <td>6.705882</td>\n      <td>15.823529</td>\n      <td>1.5</td>\n      <td>0.672982</td>\n      <td>2850</td>\n      <td>0.021258</td>\n      <td>0.038626</td>\n    </tr>\n    <tr>\n      <th>243</th>\n      <td>2018</td>\n      <td>Shabazz Napier</td>\n      <td>20.7</td>\n      <td>7.175676</td>\n      <td>20.743243</td>\n      <td>3.2</td>\n      <td>2.740723</td>\n      <td>3187</td>\n      <td>0.019068</td>\n      <td>0.092886</td>\n    </tr>\n    <tr>\n      <th>176</th>\n      <td>2017</td>\n      <td>Jamal Crawford</td>\n      <td>26.3</td>\n      <td>10.609756</td>\n      <td>26.304878</td>\n      <td>1.9</td>\n      <td>-0.456838</td>\n      <td>4810</td>\n      <td>0.110429</td>\n      <td>0.093959</td>\n    </tr>\n    <tr>\n      <th>180</th>\n      <td>2017</td>\n      <td>Rudy Gay</td>\n      <td>33.8</td>\n      <td>14.733333</td>\n      <td>33.766667</td>\n      <td>1.8</td>\n      <td>2.916619</td>\n      <td>2036</td>\n      <td>0.084829</td>\n      <td>0.177194</td>\n    </tr>\n    <tr>\n      <th>260</th>\n      <td>2018</td>\n      <td>Omri Casspi</td>\n      <td>14.0</td>\n      <td>3.905660</td>\n      <td>13.962264</td>\n      <td>2.2</td>\n      <td>0.984506</td>\n      <td>1573</td>\n      <td>0.020781</td>\n      <td>0.036501</td>\n    </tr>\n    <tr>\n      <th>203</th>\n      <td>2017</td>\n      <td>Aaron Brooks</td>\n      <td>13.8</td>\n      <td>4.615385</td>\n      <td>13.753846</td>\n      <td>0.3</td>\n      <td>-0.158780</td>\n      <td>1819</td>\n      <td>0.014848</td>\n      <td>0.020261</td>\n    </tr>\n    <tr>\n      <th>148</th>\n      <td>2017</td>\n      <td>Jrue Holiday</td>\n      <td>32.7</td>\n      <td>13.328358</td>\n      <td>32.686567</td>\n      <td>3.8</td>\n      <td>4.714773</td>\n      <td>4533</td>\n      <td>0.259218</td>\n      <td>0.190627</td>\n    </tr>\n    <tr>\n      <th>177</th>\n      <td>2017</td>\n      <td>Raymond Felton</td>\n      <td>21.3</td>\n      <td>6.425000</td>\n      <td>21.250000</td>\n      <td>1.9</td>\n      <td>0.297612</td>\n      <td>3736</td>\n      <td>0.014848</td>\n      <td>0.057399</td>\n    </tr>\n    <tr>\n      <th>119</th>\n      <td>2016</td>\n      <td>Norris Cole</td>\n      <td>26.6</td>\n      <td>10.755556</td>\n      <td>26.622222</td>\n      <td>-0.1</td>\n      <td>-0.053711</td>\n      <td>2469</td>\n      <td>0.002634</td>\n      <td>0.042609</td>\n    </tr>\n    <tr>\n      <th>13</th>\n      <td>2016</td>\n      <td>Bismack Biyombo</td>\n      <td>22.0</td>\n      <td>3.512195</td>\n      <td>22.048780</td>\n      <td>5.9</td>\n      <td>3.580105</td>\n      <td>4509</td>\n      <td>0.180576</td>\n      <td>0.106396</td>\n    </tr>\n    <tr>\n      <th>58</th>\n      <td>2016</td>\n      <td>Quincy Acy</td>\n      <td>14.8</td>\n      <td>3.627119</td>\n      <td>14.847458</td>\n      <td>2.5</td>\n      <td>0.876735</td>\n      <td>1852</td>\n      <td>0.020337</td>\n      <td>0.024972</td>\n    </tr>\n    <tr>\n      <th>155</th>\n      <td>2017</td>\n      <td>Thabo Sefolosha</td>\n      <td>25.7</td>\n      <td>6.370968</td>\n      <td>25.741935</td>\n      <td>3.3</td>\n      <td>2.585279</td>\n      <td>3313</td>\n      <td>0.052981</td>\n      <td>0.092910</td>\n    </tr>\n    <tr>\n      <th>335</th>\n      <td>2019</td>\n      <td>Cheick Diallo</td>\n      <td>14.0</td>\n      <td>4.234375</td>\n      <td>14.000000</td>\n      <td>2.6</td>\n      <td>1.296424</td>\n      <td>2001</td>\n      <td>0.015383</td>\n      <td>0.044446</td>\n    </tr>\n    <tr>\n      <th>264</th>\n      <td>2018</td>\n      <td>Shelvin Mack</td>\n      <td>19.8</td>\n      <td>6.000000</td>\n      <td>19.782609</td>\n      <td>1.9</td>\n      <td>1.071403</td>\n      <td>2779</td>\n      <td>0.009817</td>\n      <td>0.055461</td>\n    </tr>\n    <tr>\n      <th>370</th>\n      <td>2019</td>\n      <td>Raul Neto</td>\n      <td>12.8</td>\n      <td>4.351351</td>\n      <td>12.810811</td>\n      <td>1.1</td>\n      <td>0.662465</td>\n      <td>1079</td>\n      <td>0.015917</td>\n      <td>0.058898</td>\n    </tr>\n    <tr>\n      <th>52</th>\n      <td>2016</td>\n      <td>Joe Johnson</td>\n      <td>33.4</td>\n      <td>10.666667</td>\n      <td>33.929825</td>\n      <td>2.7</td>\n      <td>3.481817</td>\n      <td>6355</td>\n      <td>0.116844</td>\n      <td>0.126844</td>\n    </tr>\n    <tr>\n      <th>362</th>\n      <td>2019</td>\n      <td>Jabari Parker</td>\n      <td>26.9</td>\n      <td>11.897436</td>\n      <td>26.717949</td>\n      <td>1.4</td>\n      <td>1.662402</td>\n      <td>3694</td>\n      <td>0.059557</td>\n      <td>0.037622</td>\n    </tr>\n    <tr>\n      <th>45</th>\n      <td>2016</td>\n      <td>Maurice Harkless</td>\n      <td>18.7</td>\n      <td>5.269231</td>\n      <td>18.679487</td>\n      <td>2.9</td>\n      <td>1.842955</td>\n      <td>3550</td>\n      <td>0.095480</td>\n      <td>0.047721</td>\n    </tr>\n    <tr>\n      <th>188</th>\n      <td>2017</td>\n      <td>Jodie Meeks</td>\n      <td>20.5</td>\n      <td>7.111111</td>\n      <td>20.500000</td>\n      <td>1.1</td>\n      <td>0.685160</td>\n      <td>1525</td>\n      <td>0.033201</td>\n      <td>0.074129</td>\n    </tr>\n    <tr>\n      <th>232</th>\n      <td>2018</td>\n      <td>Wayne Ellington</td>\n      <td>26.5</td>\n      <td>9.090909</td>\n      <td>26.506494</td>\n      <td>4.5</td>\n      <td>2.589305</td>\n      <td>4309</td>\n      <td>0.061550</td>\n      <td>0.083030</td>\n    </tr>\n    <tr>\n      <th>214</th>\n      <td>2018</td>\n      <td>Kevin Durant</td>\n      <td>34.2</td>\n      <td>17.970588</td>\n      <td>34.191176</td>\n      <td>10.4</td>\n      <td>9.362797</td>\n      <td>6604</td>\n      <td>0.294496</td>\n      <td>0.296110</td>\n    </tr>\n    <tr>\n      <th>279</th>\n      <td>2018</td>\n      <td>Isaiah Thomas</td>\n      <td>26.9</td>\n      <td>12.933333</td>\n      <td>27.066667</td>\n      <td>0.2</td>\n      <td>0.548278</td>\n      <td>1850</td>\n      <td>0.019922</td>\n      <td>0.099144</td>\n    </tr>\n    <tr>\n      <th>93</th>\n      <td>2016</td>\n      <td>James Johnson</td>\n      <td>16.2</td>\n      <td>4.210526</td>\n      <td>16.245614</td>\n      <td>1.3</td>\n      <td>0.592360</td>\n      <td>2006</td>\n      <td>0.042489</td>\n      <td>0.023697</td>\n    </tr>\n    <tr>\n      <th>19</th>\n      <td>2016</td>\n      <td>Dwyane Wade</td>\n      <td>30.5</td>\n      <td>15.986486</td>\n      <td>30.513514</td>\n      <td>4.9</td>\n      <td>3.374626</td>\n      <td>5388</td>\n      <td>0.246434</td>\n      <td>0.206378</td>\n    </tr>\n    <tr>\n      <th>251</th>\n      <td>2018</td>\n      <td>Elfrid Payton</td>\n      <td>28.7</td>\n      <td>10.409091</td>\n      <td>28.568182</td>\n      <td>2.8</td>\n      <td>2.977743</td>\n      <td>3822</td>\n      <td>0.026505</td>\n      <td>0.073042</td>\n    </tr>\n    <tr>\n      <th>72</th>\n      <td>2016</td>\n      <td>Tyler Johnson</td>\n      <td>24.0</td>\n      <td>6.750000</td>\n      <td>23.972222</td>\n      <td>2.0</td>\n      <td>0.677395</td>\n      <td>1806</td>\n      <td>0.059781</td>\n      <td>0.078115</td>\n    </tr>\n    <tr>\n      <th>247</th>\n      <td>2018</td>\n      <td>Aaron Gordon</td>\n      <td>32.9</td>\n      <td>14.913793</td>\n      <td>32.913793</td>\n      <td>2.9</td>\n      <td>4.144279</td>\n      <td>3994</td>\n      <td>0.206147</td>\n      <td>0.209380</td>\n    </tr>\n    <tr>\n      <th>295</th>\n      <td>2019</td>\n      <td>Malcolm Brogdon</td>\n      <td>28.6</td>\n      <td>11.687500</td>\n      <td>28.625000</td>\n      <td>6.5</td>\n      <td>4.825757</td>\n      <td>4412</td>\n      <td>0.183251</td>\n      <td>0.159171</td>\n    </tr>\n    <tr>\n      <th>94</th>\n      <td>2016</td>\n      <td>Ish Smith</td>\n      <td>29.1</td>\n      <td>8.444444</td>\n      <td>22.851852</td>\n      <td>1.3</td>\n      <td>4.108775</td>\n      <td>4636</td>\n      <td>0.063733</td>\n      <td>0.097745</td>\n    </tr>\n    <tr>\n      <th>282</th>\n      <td>2018</td>\n      <td>Abdel Nader</td>\n      <td>10.9</td>\n      <td>3.104167</td>\n      <td>10.875000</td>\n      <td>-0.1</td>\n      <td>-0.027702</td>\n      <td>1159</td>\n      <td>0.013530</td>\n      <td>0.011218</td>\n    </tr>\n    <tr>\n      <th>20</th>\n      <td>2016</td>\n      <td>Jared Sullinger</td>\n      <td>23.6</td>\n      <td>9.950617</td>\n      <td>23.641975</td>\n      <td>4.8</td>\n      <td>5.133590</td>\n      <td>4129</td>\n      <td>0.059781</td>\n      <td>0.107982</td>\n    </tr>\n    <tr>\n      <th>16</th>\n      <td>2016</td>\n      <td>Mike Conley</td>\n      <td>31.4</td>\n      <td>12.428571</td>\n      <td>31.446429</td>\n      <td>5.3</td>\n      <td>5.954051</td>\n      <td>3439</td>\n      <td>0.281913</td>\n      <td>0.179165</td>\n    </tr>\n    <tr>\n      <th>367</th>\n      <td>2019</td>\n      <td>Austin Rivers</td>\n      <td>26.7</td>\n      <td>6.689655</td>\n      <td>23.551724</td>\n      <td>1.2</td>\n      <td>0.727550</td>\n      <td>4724</td>\n      <td>0.019922</td>\n      <td>0.079159</td>\n    </tr>\n    <tr>\n      <th>288</th>\n      <td>2019</td>\n      <td>Al Horford</td>\n      <td>29.0</td>\n      <td>10.632353</td>\n      <td>29.014706</td>\n      <td>7.5</td>\n      <td>6.275977</td>\n      <td>4796</td>\n      <td>0.256551</td>\n      <td>0.201137</td>\n    </tr>\n    <tr>\n      <th>32</th>\n      <td>2016</td>\n      <td>Matthew Dellavedova</td>\n      <td>24.6</td>\n      <td>6.723684</td>\n      <td>24.565789</td>\n      <td>3.8</td>\n      <td>3.885353</td>\n      <td>4174</td>\n      <td>0.102052</td>\n      <td>0.096986</td>\n    </tr>\n    <tr>\n      <th>162</th>\n      <td>2017</td>\n      <td>Alex Len</td>\n      <td>20.3</td>\n      <td>6.012987</td>\n      <td>20.259740</td>\n      <td>3.0</td>\n      <td>0.335676</td>\n      <td>3318</td>\n      <td>0.042259</td>\n      <td>0.060930</td>\n    </tr>\n    <tr>\n      <th>8</th>\n      <td>2016</td>\n      <td>Dirk Nowitzki</td>\n      <td>31.5</td>\n      <td>14.826667</td>\n      <td>31.520000</td>\n      <td>6.8</td>\n      <td>7.452673</td>\n      <td>5095</td>\n      <td>0.265553</td>\n      <td>0.272422</td>\n    </tr>\n    <tr>\n      <th>170</th>\n      <td>2017</td>\n      <td>Ian Clark</td>\n      <td>14.8</td>\n      <td>5.623377</td>\n      <td>14.766234</td>\n      <td>2.3</td>\n      <td>-0.341139</td>\n      <td>2838</td>\n      <td>0.014848</td>\n      <td>0.057575</td>\n    </tr>\n    <tr>\n      <th>338</th>\n      <td>2019</td>\n      <td>Mike Muscala</td>\n      <td>20.4</td>\n      <td>5.914894</td>\n      <td>22.148936</td>\n      <td>2.5</td>\n      <td>1.048672</td>\n      <td>2858</td>\n      <td>0.018587</td>\n      <td>0.057953</td>\n    </tr>\n    <tr>\n      <th>269</th>\n      <td>2018</td>\n      <td>Jamal Crawford</td>\n      <td>20.7</td>\n      <td>9.275000</td>\n      <td>20.662500</td>\n      <td>1.3</td>\n      <td>-1.355448</td>\n      <td>3636</td>\n      <td>0.022620</td>\n      <td>0.050782</td>\n    </tr>\n    <tr>\n      <th>106</th>\n      <td>2016</td>\n      <td>Tarik Black</td>\n      <td>12.7</td>\n      <td>2.666667</td>\n      <td>12.717949</td>\n      <td>0.7</td>\n      <td>0.794243</td>\n      <td>1001</td>\n      <td>0.065762</td>\n      <td>0.049332</td>\n    </tr>\n    <tr>\n      <th>286</th>\n      <td>2019</td>\n      <td>Kyrie Irving</td>\n      <td>33.0</td>\n      <td>18.522388</td>\n      <td>33.044776</td>\n      <td>9.1</td>\n      <td>9.146498</td>\n      <td>5404</td>\n      <td>0.290837</td>\n      <td>0.313810</td>\n    </tr>\n    <tr>\n      <th>278</th>\n      <td>2018</td>\n      <td>Nik Stauskas</td>\n      <td>12.8</td>\n      <td>0.666667</td>\n      <td>7.500000</td>\n      <td>0.3</td>\n      <td>-0.012369</td>\n      <td>1089</td>\n      <td>0.015917</td>\n      <td>0.032040</td>\n    </tr>\n    <tr>\n      <th>364</th>\n      <td>2019</td>\n      <td>Rajon Rondo</td>\n      <td>29.8</td>\n      <td>9.391304</td>\n      <td>29.760870</td>\n      <td>1.3</td>\n      <td>0.410864</td>\n      <td>2982</td>\n      <td>0.023500</td>\n      <td>0.078316</td>\n    </tr>\n    <tr>\n      <th>262</th>\n      <td>2018</td>\n      <td>Bryn Forbes</td>\n      <td>19.0</td>\n      <td>6.212500</td>\n      <td>18.962500</td>\n      <td>2.1</td>\n      <td>0.769528</td>\n      <td>3205</td>\n      <td>0.030677</td>\n      <td>0.035194</td>\n    </tr>\n  </tbody>\n</table>\n</div>"
     },
     "metadata": {},
     "execution_count": 143
    }
   ],
   "source": [
    "results"
   ]
  }
 ],
 "metadata": {
  "kernelspec": {
   "name": "python382jvsc74a57bd0f6e5de00158004fca4bed140e7e3786d910834eb74025be550c3cf8f536996b9",
   "display_name": "Python 3.8.2 64-bit ('nba-model': conda)"
  },
  "language_info": {
   "codemirror_mode": {
    "name": "ipython",
    "version": 3
   },
   "file_extension": ".py",
   "mimetype": "text/x-python",
   "name": "python",
   "nbconvert_exporter": "python",
   "pygments_lexer": "ipython3",
   "version": "3.8.2"
  },
  "metadata": {
   "interpreter": {
    "hash": "f6e5de00158004fca4bed140e7e3786d910834eb74025be550c3cf8f536996b9"
   }
  }
 },
 "nbformat": 4,
 "nbformat_minor": 4
}