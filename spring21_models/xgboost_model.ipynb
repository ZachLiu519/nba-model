{
 "cells": [
  {
   "cell_type": "code",
   "execution_count": 115,
   "metadata": {},
   "outputs": [],
   "source": [
    "import pandas as pd\n",
    "import numpy as np\n",
    "import sklearn\n",
    "from sklearn.model_selection import train_test_split\n",
    "from sklearn.preprocessing import StandardScaler\n",
    "from xgboost import XGBRegressor\n",
    "import smogn\n",
    "import seaborn as sns"
   ]
  },
  {
   "cell_type": "code",
   "execution_count": 171,
   "metadata": {},
   "outputs": [],
   "source": [
    "seed = 2013"
   ]
  },
  {
   "cell_type": "code",
   "execution_count": 172,
   "metadata": {},
   "outputs": [
    {
     "output_type": "stream",
     "name": "stderr",
     "text": [
      "dist_matrix: 100%|##########| 33/33 [00:00<00:00, 36.27it/s]\n",
      "synth_matrix: 100%|##########| 33/33 [00:01<00:00, 21.99it/s]\n",
      "r_index: 100%|##########| 6/6 [00:00<00:00, 157.75it/s]\n",
      "dist_matrix: 100%|##########| 86/86 [00:06<00:00, 14.33it/s]\n",
      "synth_matrix: 100%|##########| 86/86 [00:00<00:00, 313.58it/s]\n",
      "r_index: 100%|##########| 77/77 [00:00<00:00, 306.49it/s]\n",
      "dist_matrix: 100%|##########| 158/158 [00:20<00:00,  7.66it/s]\n",
      "r_index: 100%|##########| 15/15 [00:00<00:00, 305.84it/s]\n",
      "D:\\Users\\chengmingliu\\Anaconda3\\envs\\nba-model\\lib\\site-packages\\sklearn\\utils\\validation.py:63: DataConversionWarning: A column-vector y was passed when a 1d array was expected. Please change the shape of y to (n_samples, ), for example using ravel().\n",
      "  return f(*args, **kwargs)\n"
     ]
    }
   ],
   "source": [
    "df = pd.read_excel(\"../spring21_data/fa_stats_v3.xlsx\")\n",
    "df = df.select_dtypes(exclude=['object'])\n",
    "df.drop(columns=[\"Unnamed: 0\", \"Minutes\", \"salary\", \"clean_season\", \"age\", \"end season_y\", \"season_end\"], inplace=True)\n",
    "\n",
    "X = df.drop(columns=[\"cap_space_usage\"])\n",
    "y = df[\"cap_space_usage\"]\n",
    "\n",
    "X_train, X_test, y_train, y_test = train_test_split(X, y, test_size=0.15, random_state=seed)\n",
    "both = pd.concat([X_train, y_train], axis=1).reset_index().drop(columns=[\"index\"])\n",
    "smote_data_high = smogn.smoter(data = both,\n",
    "                           y = 'cap_space_usage',\n",
    "                           rel_xtrm_type = 'high',\n",
    "                           rel_thres = 0.85,\n",
    "                           k = 9,\n",
    "                           drop_na_col = True,       ## boolean (True or False)\n",
    "                           drop_na_row = True,\n",
    "                           samp_method = 'extreme')\n",
    "smote_data_mid = smogn.smoter(data = both,\n",
    "                           y = 'cap_space_usage',\n",
    "                           rel_xtrm_type = 'high',\n",
    "                           rel_thres = 0.25,\n",
    "                           k = 9,\n",
    "                           drop_na_col = True,       ## boolean (True or False)\n",
    "                           drop_na_row = True,\n",
    "                           samp_method = 'extreme')\n",
    "smote_data_low = smogn.smoter(data = both,\n",
    "                           y = 'cap_space_usage',\n",
    "                           rel_xtrm_type = 'both',\n",
    "                           rel_thres = 0.001,\n",
    "                           k = 9,\n",
    "                           drop_na_col = True,       ## boolean (True or False)\n",
    "                           drop_na_row = True,\n",
    "                           samp_method = 'extreme')\n",
    "smote_data = pd.concat([smote_data_high, smote_data_mid, smote_data_low], ignore_index=True).drop_duplicates()\n",
    "sm = smote_data.sample(frac=1) ## make sure to shuffle the rows otherwise the cross validation will be scuffed\n",
    "y = sm[['cap_space_usage']]\n",
    "X = sm.drop(columns=['cap_space_usage'])\n",
    "\n",
    "X_train, X_val, y_train, y_val = train_test_split(X, y, test_size=0.15, random_state=seed)\n",
    "\n",
    "# scale the numerical features only (this leaves out the dummy features from earlier)\n",
    "\n",
    "from sklearn.feature_selection import SelectKBest, f_regression\n",
    "select = SelectKBest(f_regression, k=20)\n",
    "\n",
    "best_features = select.fit_transform(X, y)\n",
    "feature_scores = pd.concat([pd.Series(X.columns), pd.Series(select.scores_)], axis=1)\n",
    "feature_scores.columns = [\"features\", \"score\"]\n",
    "features = list(feature_scores.sort_values(by=[\"score\"], ascending=False).head(40)['features'])\n",
    "\n",
    "X_train = X_train[features]\n",
    "X_test = X_test[features]\n",
    "X_val = X_val[features]\n",
    "\n",
    "from sklearn.metrics import mean_squared_error, r2_score, explained_variance_score, mean_squared_log_error\n",
    "def evaluate(y_pred, y_test):\n",
    "    \"\"\" Prints out the evaluation metrics of the experiment\n",
    "        parameters:\n",
    "            y_pred\n",
    "                DataFrame or array-like, the predictions\n",
    "            y_test\n",
    "                DataFrame or array-like, the actual y-values\n",
    "                \n",
    "            these two parameters must have the same dimensions\n",
    "    \"\"\"\n",
    "    print(\"r^2: \", r2_score(y_test, y_pred))\n",
    "    print(\"mse: \", mean_squared_error(y_test, y_pred))\n",
    "    print(\"variance_score: \", explained_variance_score(y_test, y_pred))\n",
    "    print(\"mse-log: \", mean_squared_log_error(y_test, y_pred))\n",
    "    \n",
    "def run(model, model_name, x_train, x_val):\n",
    "    \"\"\" Fits the model and prints out results from calling evaluate on the training and validation set\n",
    "        parameters:\n",
    "            model\n",
    "                the unfitted model, from sklearn (has to have a fit and predict method)\n",
    "            model_name\n",
    "                String, the name of the model\n",
    "            x_train\n",
    "                DataFrame, the training set\n",
    "            x_val\n",
    "                DataFrame, the validation set\n",
    "                \n",
    "        returns:\n",
    "            nothing\n",
    "        \n",
    "    \"\"\"\n",
    "    model = model.fit(x_train, y_train)\n",
    "    y_pred = np.clip(model.predict(x_train), 0, 1000) # since negative results are meaningless\n",
    "    \n",
    "    print(\"[{0}] These are the results for the training set.\".format(model_name))\n",
    "    \n",
    "    evaluate(y_pred, y_train)\n",
    "    print(\"--------------------------------------\")\n",
    "    \n",
    "    print(\"[{0}] These are the results for the validation set.\".format(model_name))\n",
    "    y_pred = np.clip(model.predict(x_val), 0, 1000) # since negative results are meaningless\n",
    "    \n",
    "    evaluate(y_pred, y_val)\n",
    "    \n",
    "    print(\"_____________________________________________\")"
   ]
  },
  {
   "cell_type": "code",
   "execution_count": 173,
   "metadata": {},
   "outputs": [
    {
     "output_type": "execute_result",
     "data": {
      "text/plain": [
       "<seaborn.axisgrid.FacetGrid at 0x2b58996e220>"
      ]
     },
     "metadata": {},
     "execution_count": 173
    },
    {
     "output_type": "display_data",
     "data": {
      "text/plain": "<Figure size 483.375x360 with 1 Axes>",
      "image/svg+xml": "<?xml version=\"1.0\" encoding=\"utf-8\" standalone=\"no\"?>\r\n<!DOCTYPE svg PUBLIC \"-//W3C//DTD SVG 1.1//EN\"\r\n  \"http://www.w3.org/Graphics/SVG/1.1/DTD/svg11.dtd\">\r\n<!-- Created with matplotlib (https://matplotlib.org/) -->\r\n<svg height=\"352.478125pt\" version=\"1.1\" viewBox=\"0 0 481.615625 352.478125\" width=\"481.615625pt\" xmlns=\"http://www.w3.org/2000/svg\" xmlns:xlink=\"http://www.w3.org/1999/xlink\">\r\n <metadata>\r\n  <rdf:RDF xmlns:cc=\"http://creativecommons.org/ns#\" xmlns:dc=\"http://purl.org/dc/elements/1.1/\" xmlns:rdf=\"http://www.w3.org/1999/02/22-rdf-syntax-ns#\">\r\n   <cc:Work>\r\n    <dc:type rdf:resource=\"http://purl.org/dc/dcmitype/StillImage\"/>\r\n    <dc:date>2021-05-21T13:11:22.514809</dc:date>\r\n    <dc:format>image/svg+xml</dc:format>\r\n    <dc:creator>\r\n     <cc:Agent>\r\n      <dc:title>Matplotlib v3.3.4, https://matplotlib.org/</dc:title>\r\n     </cc:Agent>\r\n    </dc:creator>\r\n   </cc:Work>\r\n  </rdf:RDF>\r\n </metadata>\r\n <defs>\r\n  <style type=\"text/css\">*{stroke-linecap:butt;stroke-linejoin:round;}</style>\r\n </defs>\r\n <g id=\"figure_1\">\r\n  <g id=\"patch_1\">\r\n   <path d=\"M 0 352.478125 \r\nL 481.615625 352.478125 \r\nL 481.615625 0 \r\nL 0 0 \r\nz\r\n\" style=\"fill:none;\"/>\r\n  </g>\r\n  <g id=\"axes_1\">\r\n   <g id=\"patch_2\">\r\n    <path d=\"M 46.965625 328.6 \r\nL 340.406875 328.6 \r\nL 340.406875 7.2 \r\nL 46.965625 7.2 \r\nz\r\n\" style=\"fill:#ffffff;\"/>\r\n   </g>\r\n   <g id=\"patch_3\">\r\n    <path clip-path=\"url(#p6c5144ca71)\" d=\"M 60.303864 328.6 \r\nL 84.555207 328.6 \r\nL 84.555207 22.504762 \r\nL 60.303864 22.504762 \r\nz\r\n\" style=\"fill:#1f77b4;fill-opacity:0.75;stroke:#000000;stroke-linejoin:miter;\"/>\r\n   </g>\r\n   <g id=\"patch_4\">\r\n    <path clip-path=\"url(#p6c5144ca71)\" d=\"M 84.555207 328.6 \r\nL 108.80655 328.6 \r\nL 108.80655 165.211326 \r\nL 84.555207 165.211326 \r\nz\r\n\" style=\"fill:#1f77b4;fill-opacity:0.75;stroke:#000000;stroke-linejoin:miter;\"/>\r\n   </g>\r\n   <g id=\"patch_5\">\r\n    <path clip-path=\"url(#p6c5144ca71)\" d=\"M 108.80655 328.6 \r\nL 133.057893 328.6 \r\nL 133.057893 206.575547 \r\nL 108.80655 206.575547 \r\nz\r\n\" style=\"fill:#1f77b4;fill-opacity:0.75;stroke:#000000;stroke-linejoin:miter;\"/>\r\n   </g>\r\n   <g id=\"patch_6\">\r\n    <path clip-path=\"url(#p6c5144ca71)\" d=\"M 133.057893 328.6 \r\nL 157.309236 328.6 \r\nL 157.309236 165.211326 \r\nL 133.057893 165.211326 \r\nz\r\n\" style=\"fill:#1f77b4;fill-opacity:0.75;stroke:#000000;stroke-linejoin:miter;\"/>\r\n   </g>\r\n   <g id=\"patch_7\">\r\n    <path clip-path=\"url(#p6c5144ca71)\" d=\"M 157.309236 328.6 \r\nL 181.560579 328.6 \r\nL 181.560579 171.415959 \r\nL 157.309236 171.415959 \r\nz\r\n\" style=\"fill:#1f77b4;fill-opacity:0.75;stroke:#000000;stroke-linejoin:miter;\"/>\r\n   </g>\r\n   <g id=\"patch_8\">\r\n    <path clip-path=\"url(#p6c5144ca71)\" d=\"M 181.560579 328.6 \r\nL 205.811921 328.6 \r\nL 205.811921 63.868983 \r\nL 181.560579 63.868983 \r\nz\r\n\" style=\"fill:#1f77b4;fill-opacity:0.75;stroke:#000000;stroke-linejoin:miter;\"/>\r\n   </g>\r\n   <g id=\"patch_9\">\r\n    <path clip-path=\"url(#p6c5144ca71)\" d=\"M 205.811921 328.6 \r\nL 230.063264 328.6 \r\nL 230.063264 113.506049 \r\nL 205.811921 113.506049 \r\nz\r\n\" style=\"fill:#1f77b4;fill-opacity:0.75;stroke:#000000;stroke-linejoin:miter;\"/>\r\n   </g>\r\n   <g id=\"patch_10\">\r\n    <path clip-path=\"url(#p6c5144ca71)\" d=\"M 230.063264 328.6 \r\nL 254.314607 328.6 \r\nL 254.314607 167.279537 \r\nL 230.063264 167.279537 \r\nz\r\n\" style=\"fill:#1f77b4;fill-opacity:0.75;stroke:#000000;stroke-linejoin:miter;\"/>\r\n   </g>\r\n   <g id=\"patch_11\">\r\n    <path clip-path=\"url(#p6c5144ca71)\" d=\"M 254.314607 328.6 \r\nL 278.56595 328.6 \r\nL 278.56595 293.440412 \r\nL 254.314607 293.440412 \r\nz\r\n\" style=\"fill:#1f77b4;fill-opacity:0.75;stroke:#000000;stroke-linejoin:miter;\"/>\r\n   </g>\r\n   <g id=\"patch_12\">\r\n    <path clip-path=\"url(#p6c5144ca71)\" d=\"M 278.56595 328.6 \r\nL 302.817293 328.6 \r\nL 302.817293 324.463578 \r\nL 278.56595 324.463578 \r\nz\r\n\" style=\"fill:#1f77b4;fill-opacity:0.75;stroke:#000000;stroke-linejoin:miter;\"/>\r\n   </g>\r\n   <g id=\"patch_13\">\r\n    <path clip-path=\"url(#p6c5144ca71)\" d=\"M 302.817293 328.6 \r\nL 327.068636 328.6 \r\nL 327.068636 314.122523 \r\nL 302.817293 314.122523 \r\nz\r\n\" style=\"fill:#1f77b4;fill-opacity:0.75;stroke:#000000;stroke-linejoin:miter;\"/>\r\n   </g>\r\n   <g id=\"matplotlib.axis_1\">\r\n    <g id=\"xtick_1\">\r\n     <g id=\"line2d_1\">\r\n      <defs>\r\n       <path d=\"M 0 0 \r\nL 0 3.5 \r\n\" id=\"m66c3926860\" style=\"stroke:#000000;stroke-width:0.8;\"/>\r\n      </defs>\r\n      <g>\r\n       <use style=\"stroke:#000000;stroke-width:0.8;\" x=\"59.848494\" xlink:href=\"#m66c3926860\" y=\"328.6\"/>\r\n      </g>\r\n     </g>\r\n     <g id=\"text_1\">\r\n      <!-- 0.0 -->\r\n      <g transform=\"translate(51.896932 343.198437)scale(0.1 -0.1)\">\r\n       <defs>\r\n        <path d=\"M 31.78125 66.40625 \r\nQ 24.171875 66.40625 20.328125 58.90625 \r\nQ 16.5 51.421875 16.5 36.375 \r\nQ 16.5 21.390625 20.328125 13.890625 \r\nQ 24.171875 6.390625 31.78125 6.390625 \r\nQ 39.453125 6.390625 43.28125 13.890625 \r\nQ 47.125 21.390625 47.125 36.375 \r\nQ 47.125 51.421875 43.28125 58.90625 \r\nQ 39.453125 66.40625 31.78125 66.40625 \r\nz\r\nM 31.78125 74.21875 \r\nQ 44.046875 74.21875 50.515625 64.515625 \r\nQ 56.984375 54.828125 56.984375 36.375 \r\nQ 56.984375 17.96875 50.515625 8.265625 \r\nQ 44.046875 -1.421875 31.78125 -1.421875 \r\nQ 19.53125 -1.421875 13.0625 8.265625 \r\nQ 6.59375 17.96875 6.59375 36.375 \r\nQ 6.59375 54.828125 13.0625 64.515625 \r\nQ 19.53125 74.21875 31.78125 74.21875 \r\nz\r\n\" id=\"DejaVuSans-48\"/>\r\n        <path d=\"M 10.6875 12.40625 \r\nL 21 12.40625 \r\nL 21 0 \r\nL 10.6875 0 \r\nz\r\n\" id=\"DejaVuSans-46\"/>\r\n       </defs>\r\n       <use xlink:href=\"#DejaVuSans-48\"/>\r\n       <use x=\"63.623047\" xlink:href=\"#DejaVuSans-46\"/>\r\n       <use x=\"95.410156\" xlink:href=\"#DejaVuSans-48\"/>\r\n      </g>\r\n     </g>\r\n    </g>\r\n    <g id=\"xtick_2\">\r\n     <g id=\"line2d_2\">\r\n      <g>\r\n       <use style=\"stroke:#000000;stroke-width:0.8;\" x=\"119.230748\" xlink:href=\"#m66c3926860\" y=\"328.6\"/>\r\n      </g>\r\n     </g>\r\n     <g id=\"text_2\">\r\n      <!-- 0.1 -->\r\n      <g transform=\"translate(111.279186 343.198437)scale(0.1 -0.1)\">\r\n       <defs>\r\n        <path d=\"M 12.40625 8.296875 \r\nL 28.515625 8.296875 \r\nL 28.515625 63.921875 \r\nL 10.984375 60.40625 \r\nL 10.984375 69.390625 \r\nL 28.421875 72.90625 \r\nL 38.28125 72.90625 \r\nL 38.28125 8.296875 \r\nL 54.390625 8.296875 \r\nL 54.390625 0 \r\nL 12.40625 0 \r\nz\r\n\" id=\"DejaVuSans-49\"/>\r\n       </defs>\r\n       <use xlink:href=\"#DejaVuSans-48\"/>\r\n       <use x=\"63.623047\" xlink:href=\"#DejaVuSans-46\"/>\r\n       <use x=\"95.410156\" xlink:href=\"#DejaVuSans-49\"/>\r\n      </g>\r\n     </g>\r\n    </g>\r\n    <g id=\"xtick_3\">\r\n     <g id=\"line2d_3\">\r\n      <g>\r\n       <use style=\"stroke:#000000;stroke-width:0.8;\" x=\"178.613002\" xlink:href=\"#m66c3926860\" y=\"328.6\"/>\r\n      </g>\r\n     </g>\r\n     <g id=\"text_3\">\r\n      <!-- 0.2 -->\r\n      <g transform=\"translate(170.661439 343.198437)scale(0.1 -0.1)\">\r\n       <defs>\r\n        <path d=\"M 19.1875 8.296875 \r\nL 53.609375 8.296875 \r\nL 53.609375 0 \r\nL 7.328125 0 \r\nL 7.328125 8.296875 \r\nQ 12.9375 14.109375 22.625 23.890625 \r\nQ 32.328125 33.6875 34.8125 36.53125 \r\nQ 39.546875 41.84375 41.421875 45.53125 \r\nQ 43.3125 49.21875 43.3125 52.78125 \r\nQ 43.3125 58.59375 39.234375 62.25 \r\nQ 35.15625 65.921875 28.609375 65.921875 \r\nQ 23.96875 65.921875 18.8125 64.3125 \r\nQ 13.671875 62.703125 7.8125 59.421875 \r\nL 7.8125 69.390625 \r\nQ 13.765625 71.78125 18.9375 73 \r\nQ 24.125 74.21875 28.421875 74.21875 \r\nQ 39.75 74.21875 46.484375 68.546875 \r\nQ 53.21875 62.890625 53.21875 53.421875 \r\nQ 53.21875 48.921875 51.53125 44.890625 \r\nQ 49.859375 40.875 45.40625 35.40625 \r\nQ 44.1875 33.984375 37.640625 27.21875 \r\nQ 31.109375 20.453125 19.1875 8.296875 \r\nz\r\n\" id=\"DejaVuSans-50\"/>\r\n       </defs>\r\n       <use xlink:href=\"#DejaVuSans-48\"/>\r\n       <use x=\"63.623047\" xlink:href=\"#DejaVuSans-46\"/>\r\n       <use x=\"95.410156\" xlink:href=\"#DejaVuSans-50\"/>\r\n      </g>\r\n     </g>\r\n    </g>\r\n    <g id=\"xtick_4\">\r\n     <g id=\"line2d_4\">\r\n      <g>\r\n       <use style=\"stroke:#000000;stroke-width:0.8;\" x=\"237.995256\" xlink:href=\"#m66c3926860\" y=\"328.6\"/>\r\n      </g>\r\n     </g>\r\n     <g id=\"text_4\">\r\n      <!-- 0.3 -->\r\n      <g transform=\"translate(230.043693 343.198437)scale(0.1 -0.1)\">\r\n       <defs>\r\n        <path d=\"M 40.578125 39.3125 \r\nQ 47.65625 37.796875 51.625 33 \r\nQ 55.609375 28.21875 55.609375 21.1875 \r\nQ 55.609375 10.40625 48.1875 4.484375 \r\nQ 40.765625 -1.421875 27.09375 -1.421875 \r\nQ 22.515625 -1.421875 17.65625 -0.515625 \r\nQ 12.796875 0.390625 7.625 2.203125 \r\nL 7.625 11.71875 \r\nQ 11.71875 9.328125 16.59375 8.109375 \r\nQ 21.484375 6.890625 26.8125 6.890625 \r\nQ 36.078125 6.890625 40.9375 10.546875 \r\nQ 45.796875 14.203125 45.796875 21.1875 \r\nQ 45.796875 27.640625 41.28125 31.265625 \r\nQ 36.765625 34.90625 28.71875 34.90625 \r\nL 20.21875 34.90625 \r\nL 20.21875 43.015625 \r\nL 29.109375 43.015625 \r\nQ 36.375 43.015625 40.234375 45.921875 \r\nQ 44.09375 48.828125 44.09375 54.296875 \r\nQ 44.09375 59.90625 40.109375 62.90625 \r\nQ 36.140625 65.921875 28.71875 65.921875 \r\nQ 24.65625 65.921875 20.015625 65.03125 \r\nQ 15.375 64.15625 9.8125 62.3125 \r\nL 9.8125 71.09375 \r\nQ 15.4375 72.65625 20.34375 73.4375 \r\nQ 25.25 74.21875 29.59375 74.21875 \r\nQ 40.828125 74.21875 47.359375 69.109375 \r\nQ 53.90625 64.015625 53.90625 55.328125 \r\nQ 53.90625 49.265625 50.4375 45.09375 \r\nQ 46.96875 40.921875 40.578125 39.3125 \r\nz\r\n\" id=\"DejaVuSans-51\"/>\r\n       </defs>\r\n       <use xlink:href=\"#DejaVuSans-48\"/>\r\n       <use x=\"63.623047\" xlink:href=\"#DejaVuSans-46\"/>\r\n       <use x=\"95.410156\" xlink:href=\"#DejaVuSans-51\"/>\r\n      </g>\r\n     </g>\r\n    </g>\r\n    <g id=\"xtick_5\">\r\n     <g id=\"line2d_5\">\r\n      <g>\r\n       <use style=\"stroke:#000000;stroke-width:0.8;\" x=\"297.377509\" xlink:href=\"#m66c3926860\" y=\"328.6\"/>\r\n      </g>\r\n     </g>\r\n     <g id=\"text_5\">\r\n      <!-- 0.4 -->\r\n      <g transform=\"translate(289.425947 343.198437)scale(0.1 -0.1)\">\r\n       <defs>\r\n        <path d=\"M 37.796875 64.3125 \r\nL 12.890625 25.390625 \r\nL 37.796875 25.390625 \r\nz\r\nM 35.203125 72.90625 \r\nL 47.609375 72.90625 \r\nL 47.609375 25.390625 \r\nL 58.015625 25.390625 \r\nL 58.015625 17.1875 \r\nL 47.609375 17.1875 \r\nL 47.609375 0 \r\nL 37.796875 0 \r\nL 37.796875 17.1875 \r\nL 4.890625 17.1875 \r\nL 4.890625 26.703125 \r\nz\r\n\" id=\"DejaVuSans-52\"/>\r\n       </defs>\r\n       <use xlink:href=\"#DejaVuSans-48\"/>\r\n       <use x=\"63.623047\" xlink:href=\"#DejaVuSans-46\"/>\r\n       <use x=\"95.410156\" xlink:href=\"#DejaVuSans-52\"/>\r\n      </g>\r\n     </g>\r\n    </g>\r\n   </g>\r\n   <g id=\"matplotlib.axis_2\">\r\n    <g id=\"ytick_1\">\r\n     <g id=\"line2d_6\">\r\n      <defs>\r\n       <path d=\"M 0 0 \r\nL -3.5 0 \r\n\" id=\"m5b12bd5cf9\" style=\"stroke:#000000;stroke-width:0.8;\"/>\r\n      </defs>\r\n      <g>\r\n       <use style=\"stroke:#000000;stroke-width:0.8;\" x=\"46.965625\" xlink:href=\"#m5b12bd5cf9\" y=\"328.6\"/>\r\n      </g>\r\n     </g>\r\n     <g id=\"text_6\">\r\n      <!-- 0 -->\r\n      <g transform=\"translate(33.603125 332.399219)scale(0.1 -0.1)\">\r\n       <use xlink:href=\"#DejaVuSans-48\"/>\r\n      </g>\r\n     </g>\r\n    </g>\r\n    <g id=\"ytick_2\">\r\n     <g id=\"line2d_7\">\r\n      <g>\r\n       <use style=\"stroke:#000000;stroke-width:0.8;\" x=\"46.965625\" xlink:href=\"#m5b12bd5cf9\" y=\"287.235779\"/>\r\n      </g>\r\n     </g>\r\n     <g id=\"text_7\">\r\n      <!-- 20 -->\r\n      <g transform=\"translate(27.240625 291.034997)scale(0.1 -0.1)\">\r\n       <use xlink:href=\"#DejaVuSans-50\"/>\r\n       <use x=\"63.623047\" xlink:href=\"#DejaVuSans-48\"/>\r\n      </g>\r\n     </g>\r\n    </g>\r\n    <g id=\"ytick_3\">\r\n     <g id=\"line2d_8\">\r\n      <g>\r\n       <use style=\"stroke:#000000;stroke-width:0.8;\" x=\"46.965625\" xlink:href=\"#m5b12bd5cf9\" y=\"245.871557\"/>\r\n      </g>\r\n     </g>\r\n     <g id=\"text_8\">\r\n      <!-- 40 -->\r\n      <g transform=\"translate(27.240625 249.670776)scale(0.1 -0.1)\">\r\n       <use xlink:href=\"#DejaVuSans-52\"/>\r\n       <use x=\"63.623047\" xlink:href=\"#DejaVuSans-48\"/>\r\n      </g>\r\n     </g>\r\n    </g>\r\n    <g id=\"ytick_4\">\r\n     <g id=\"line2d_9\">\r\n      <g>\r\n       <use style=\"stroke:#000000;stroke-width:0.8;\" x=\"46.965625\" xlink:href=\"#m5b12bd5cf9\" y=\"204.507336\"/>\r\n      </g>\r\n     </g>\r\n     <g id=\"text_9\">\r\n      <!-- 60 -->\r\n      <g transform=\"translate(27.240625 208.306555)scale(0.1 -0.1)\">\r\n       <defs>\r\n        <path d=\"M 33.015625 40.375 \r\nQ 26.375 40.375 22.484375 35.828125 \r\nQ 18.609375 31.296875 18.609375 23.390625 \r\nQ 18.609375 15.53125 22.484375 10.953125 \r\nQ 26.375 6.390625 33.015625 6.390625 \r\nQ 39.65625 6.390625 43.53125 10.953125 \r\nQ 47.40625 15.53125 47.40625 23.390625 \r\nQ 47.40625 31.296875 43.53125 35.828125 \r\nQ 39.65625 40.375 33.015625 40.375 \r\nz\r\nM 52.59375 71.296875 \r\nL 52.59375 62.3125 \r\nQ 48.875 64.0625 45.09375 64.984375 \r\nQ 41.3125 65.921875 37.59375 65.921875 \r\nQ 27.828125 65.921875 22.671875 59.328125 \r\nQ 17.53125 52.734375 16.796875 39.40625 \r\nQ 19.671875 43.65625 24.015625 45.921875 \r\nQ 28.375 48.1875 33.59375 48.1875 \r\nQ 44.578125 48.1875 50.953125 41.515625 \r\nQ 57.328125 34.859375 57.328125 23.390625 \r\nQ 57.328125 12.15625 50.6875 5.359375 \r\nQ 44.046875 -1.421875 33.015625 -1.421875 \r\nQ 20.359375 -1.421875 13.671875 8.265625 \r\nQ 6.984375 17.96875 6.984375 36.375 \r\nQ 6.984375 53.65625 15.1875 63.9375 \r\nQ 23.390625 74.21875 37.203125 74.21875 \r\nQ 40.921875 74.21875 44.703125 73.484375 \r\nQ 48.484375 72.75 52.59375 71.296875 \r\nz\r\n\" id=\"DejaVuSans-54\"/>\r\n       </defs>\r\n       <use xlink:href=\"#DejaVuSans-54\"/>\r\n       <use x=\"63.623047\" xlink:href=\"#DejaVuSans-48\"/>\r\n      </g>\r\n     </g>\r\n    </g>\r\n    <g id=\"ytick_5\">\r\n     <g id=\"line2d_10\">\r\n      <g>\r\n       <use style=\"stroke:#000000;stroke-width:0.8;\" x=\"46.965625\" xlink:href=\"#m5b12bd5cf9\" y=\"163.143115\"/>\r\n      </g>\r\n     </g>\r\n     <g id=\"text_10\">\r\n      <!-- 80 -->\r\n      <g transform=\"translate(27.240625 166.942333)scale(0.1 -0.1)\">\r\n       <defs>\r\n        <path d=\"M 31.78125 34.625 \r\nQ 24.75 34.625 20.71875 30.859375 \r\nQ 16.703125 27.09375 16.703125 20.515625 \r\nQ 16.703125 13.921875 20.71875 10.15625 \r\nQ 24.75 6.390625 31.78125 6.390625 \r\nQ 38.8125 6.390625 42.859375 10.171875 \r\nQ 46.921875 13.96875 46.921875 20.515625 \r\nQ 46.921875 27.09375 42.890625 30.859375 \r\nQ 38.875 34.625 31.78125 34.625 \r\nz\r\nM 21.921875 38.8125 \r\nQ 15.578125 40.375 12.03125 44.71875 \r\nQ 8.5 49.078125 8.5 55.328125 \r\nQ 8.5 64.0625 14.71875 69.140625 \r\nQ 20.953125 74.21875 31.78125 74.21875 \r\nQ 42.671875 74.21875 48.875 69.140625 \r\nQ 55.078125 64.0625 55.078125 55.328125 \r\nQ 55.078125 49.078125 51.53125 44.71875 \r\nQ 48 40.375 41.703125 38.8125 \r\nQ 48.828125 37.15625 52.796875 32.3125 \r\nQ 56.78125 27.484375 56.78125 20.515625 \r\nQ 56.78125 9.90625 50.3125 4.234375 \r\nQ 43.84375 -1.421875 31.78125 -1.421875 \r\nQ 19.734375 -1.421875 13.25 4.234375 \r\nQ 6.78125 9.90625 6.78125 20.515625 \r\nQ 6.78125 27.484375 10.78125 32.3125 \r\nQ 14.796875 37.15625 21.921875 38.8125 \r\nz\r\nM 18.3125 54.390625 \r\nQ 18.3125 48.734375 21.84375 45.5625 \r\nQ 25.390625 42.390625 31.78125 42.390625 \r\nQ 38.140625 42.390625 41.71875 45.5625 \r\nQ 45.3125 48.734375 45.3125 54.390625 \r\nQ 45.3125 60.0625 41.71875 63.234375 \r\nQ 38.140625 66.40625 31.78125 66.40625 \r\nQ 25.390625 66.40625 21.84375 63.234375 \r\nQ 18.3125 60.0625 18.3125 54.390625 \r\nz\r\n\" id=\"DejaVuSans-56\"/>\r\n       </defs>\r\n       <use xlink:href=\"#DejaVuSans-56\"/>\r\n       <use x=\"63.623047\" xlink:href=\"#DejaVuSans-48\"/>\r\n      </g>\r\n     </g>\r\n    </g>\r\n    <g id=\"ytick_6\">\r\n     <g id=\"line2d_11\">\r\n      <g>\r\n       <use style=\"stroke:#000000;stroke-width:0.8;\" x=\"46.965625\" xlink:href=\"#m5b12bd5cf9\" y=\"121.778893\"/>\r\n      </g>\r\n     </g>\r\n     <g id=\"text_11\">\r\n      <!-- 100 -->\r\n      <g transform=\"translate(20.878125 125.578112)scale(0.1 -0.1)\">\r\n       <use xlink:href=\"#DejaVuSans-49\"/>\r\n       <use x=\"63.623047\" xlink:href=\"#DejaVuSans-48\"/>\r\n       <use x=\"127.246094\" xlink:href=\"#DejaVuSans-48\"/>\r\n      </g>\r\n     </g>\r\n    </g>\r\n    <g id=\"ytick_7\">\r\n     <g id=\"line2d_12\">\r\n      <g>\r\n       <use style=\"stroke:#000000;stroke-width:0.8;\" x=\"46.965625\" xlink:href=\"#m5b12bd5cf9\" y=\"80.414672\"/>\r\n      </g>\r\n     </g>\r\n     <g id=\"text_12\">\r\n      <!-- 120 -->\r\n      <g transform=\"translate(20.878125 84.213891)scale(0.1 -0.1)\">\r\n       <use xlink:href=\"#DejaVuSans-49\"/>\r\n       <use x=\"63.623047\" xlink:href=\"#DejaVuSans-50\"/>\r\n       <use x=\"127.246094\" xlink:href=\"#DejaVuSans-48\"/>\r\n      </g>\r\n     </g>\r\n    </g>\r\n    <g id=\"ytick_8\">\r\n     <g id=\"line2d_13\">\r\n      <g>\r\n       <use style=\"stroke:#000000;stroke-width:0.8;\" x=\"46.965625\" xlink:href=\"#m5b12bd5cf9\" y=\"39.05045\"/>\r\n      </g>\r\n     </g>\r\n     <g id=\"text_13\">\r\n      <!-- 140 -->\r\n      <g transform=\"translate(20.878125 42.849669)scale(0.1 -0.1)\">\r\n       <use xlink:href=\"#DejaVuSans-49\"/>\r\n       <use x=\"63.623047\" xlink:href=\"#DejaVuSans-52\"/>\r\n       <use x=\"127.246094\" xlink:href=\"#DejaVuSans-48\"/>\r\n      </g>\r\n     </g>\r\n    </g>\r\n    <g id=\"text_14\">\r\n     <!-- Count -->\r\n     <g transform=\"translate(14.798438 182.748437)rotate(-90)scale(0.1 -0.1)\">\r\n      <defs>\r\n       <path d=\"M 64.40625 67.28125 \r\nL 64.40625 56.890625 \r\nQ 59.421875 61.53125 53.78125 63.8125 \r\nQ 48.140625 66.109375 41.796875 66.109375 \r\nQ 29.296875 66.109375 22.65625 58.46875 \r\nQ 16.015625 50.828125 16.015625 36.375 \r\nQ 16.015625 21.96875 22.65625 14.328125 \r\nQ 29.296875 6.6875 41.796875 6.6875 \r\nQ 48.140625 6.6875 53.78125 8.984375 \r\nQ 59.421875 11.28125 64.40625 15.921875 \r\nL 64.40625 5.609375 \r\nQ 59.234375 2.09375 53.4375 0.328125 \r\nQ 47.65625 -1.421875 41.21875 -1.421875 \r\nQ 24.65625 -1.421875 15.125 8.703125 \r\nQ 5.609375 18.84375 5.609375 36.375 \r\nQ 5.609375 53.953125 15.125 64.078125 \r\nQ 24.65625 74.21875 41.21875 74.21875 \r\nQ 47.75 74.21875 53.53125 72.484375 \r\nQ 59.328125 70.75 64.40625 67.28125 \r\nz\r\n\" id=\"DejaVuSans-67\"/>\r\n       <path d=\"M 30.609375 48.390625 \r\nQ 23.390625 48.390625 19.1875 42.75 \r\nQ 14.984375 37.109375 14.984375 27.296875 \r\nQ 14.984375 17.484375 19.15625 11.84375 \r\nQ 23.34375 6.203125 30.609375 6.203125 \r\nQ 37.796875 6.203125 41.984375 11.859375 \r\nQ 46.1875 17.53125 46.1875 27.296875 \r\nQ 46.1875 37.015625 41.984375 42.703125 \r\nQ 37.796875 48.390625 30.609375 48.390625 \r\nz\r\nM 30.609375 56 \r\nQ 42.328125 56 49.015625 48.375 \r\nQ 55.71875 40.765625 55.71875 27.296875 \r\nQ 55.71875 13.875 49.015625 6.21875 \r\nQ 42.328125 -1.421875 30.609375 -1.421875 \r\nQ 18.84375 -1.421875 12.171875 6.21875 \r\nQ 5.515625 13.875 5.515625 27.296875 \r\nQ 5.515625 40.765625 12.171875 48.375 \r\nQ 18.84375 56 30.609375 56 \r\nz\r\n\" id=\"DejaVuSans-111\"/>\r\n       <path d=\"M 8.5 21.578125 \r\nL 8.5 54.6875 \r\nL 17.484375 54.6875 \r\nL 17.484375 21.921875 \r\nQ 17.484375 14.15625 20.5 10.265625 \r\nQ 23.53125 6.390625 29.59375 6.390625 \r\nQ 36.859375 6.390625 41.078125 11.03125 \r\nQ 45.3125 15.671875 45.3125 23.6875 \r\nL 45.3125 54.6875 \r\nL 54.296875 54.6875 \r\nL 54.296875 0 \r\nL 45.3125 0 \r\nL 45.3125 8.40625 \r\nQ 42.046875 3.421875 37.71875 1 \r\nQ 33.40625 -1.421875 27.6875 -1.421875 \r\nQ 18.265625 -1.421875 13.375 4.4375 \r\nQ 8.5 10.296875 8.5 21.578125 \r\nz\r\nM 31.109375 56 \r\nz\r\n\" id=\"DejaVuSans-117\"/>\r\n       <path d=\"M 54.890625 33.015625 \r\nL 54.890625 0 \r\nL 45.90625 0 \r\nL 45.90625 32.71875 \r\nQ 45.90625 40.484375 42.875 44.328125 \r\nQ 39.84375 48.1875 33.796875 48.1875 \r\nQ 26.515625 48.1875 22.3125 43.546875 \r\nQ 18.109375 38.921875 18.109375 30.90625 \r\nL 18.109375 0 \r\nL 9.078125 0 \r\nL 9.078125 54.6875 \r\nL 18.109375 54.6875 \r\nL 18.109375 46.1875 \r\nQ 21.34375 51.125 25.703125 53.5625 \r\nQ 30.078125 56 35.796875 56 \r\nQ 45.21875 56 50.046875 50.171875 \r\nQ 54.890625 44.34375 54.890625 33.015625 \r\nz\r\n\" id=\"DejaVuSans-110\"/>\r\n       <path d=\"M 18.3125 70.21875 \r\nL 18.3125 54.6875 \r\nL 36.8125 54.6875 \r\nL 36.8125 47.703125 \r\nL 18.3125 47.703125 \r\nL 18.3125 18.015625 \r\nQ 18.3125 11.328125 20.140625 9.421875 \r\nQ 21.96875 7.515625 27.59375 7.515625 \r\nL 36.8125 7.515625 \r\nL 36.8125 0 \r\nL 27.59375 0 \r\nQ 17.1875 0 13.234375 3.875 \r\nQ 9.28125 7.765625 9.28125 18.015625 \r\nL 9.28125 47.703125 \r\nL 2.6875 47.703125 \r\nL 2.6875 54.6875 \r\nL 9.28125 54.6875 \r\nL 9.28125 70.21875 \r\nz\r\n\" id=\"DejaVuSans-116\"/>\r\n      </defs>\r\n      <use xlink:href=\"#DejaVuSans-67\"/>\r\n      <use x=\"69.824219\" xlink:href=\"#DejaVuSans-111\"/>\r\n      <use x=\"131.005859\" xlink:href=\"#DejaVuSans-117\"/>\r\n      <use x=\"194.384766\" xlink:href=\"#DejaVuSans-110\"/>\r\n      <use x=\"257.763672\" xlink:href=\"#DejaVuSans-116\"/>\r\n     </g>\r\n    </g>\r\n   </g>\r\n   <g id=\"patch_14\">\r\n    <path d=\"M 46.965625 328.6 \r\nL 46.965625 7.2 \r\n\" style=\"fill:none;stroke:#000000;stroke-linecap:square;stroke-linejoin:miter;stroke-width:0.8;\"/>\r\n   </g>\r\n   <g id=\"patch_15\">\r\n    <path d=\"M 46.965625 328.6 \r\nL 340.406875 328.6 \r\n\" style=\"fill:none;stroke:#000000;stroke-linecap:square;stroke-linejoin:miter;stroke-width:0.8;\"/>\r\n   </g>\r\n  </g>\r\n  <g id=\"legend_1\">\r\n   <g id=\"patch_16\">\r\n    <path d=\"M 357.126562 178.859375 \r\nL 377.126562 178.859375 \r\nL 377.126562 171.859375 \r\nL 357.126562 171.859375 \r\nz\r\n\" style=\"fill:#1f77b4;fill-opacity:0.75;stroke:#000000;stroke-linejoin:miter;\"/>\r\n   </g>\r\n   <g id=\"text_15\">\r\n    <!-- cap_space_usage -->\r\n    <g transform=\"translate(385.126562 178.859375)scale(0.1 -0.1)\">\r\n     <defs>\r\n      <path d=\"M 48.78125 52.59375 \r\nL 48.78125 44.1875 \r\nQ 44.96875 46.296875 41.140625 47.34375 \r\nQ 37.3125 48.390625 33.40625 48.390625 \r\nQ 24.65625 48.390625 19.8125 42.84375 \r\nQ 14.984375 37.3125 14.984375 27.296875 \r\nQ 14.984375 17.28125 19.8125 11.734375 \r\nQ 24.65625 6.203125 33.40625 6.203125 \r\nQ 37.3125 6.203125 41.140625 7.25 \r\nQ 44.96875 8.296875 48.78125 10.40625 \r\nL 48.78125 2.09375 \r\nQ 45.015625 0.34375 40.984375 -0.53125 \r\nQ 36.96875 -1.421875 32.421875 -1.421875 \r\nQ 20.0625 -1.421875 12.78125 6.34375 \r\nQ 5.515625 14.109375 5.515625 27.296875 \r\nQ 5.515625 40.671875 12.859375 48.328125 \r\nQ 20.21875 56 33.015625 56 \r\nQ 37.15625 56 41.109375 55.140625 \r\nQ 45.0625 54.296875 48.78125 52.59375 \r\nz\r\n\" id=\"DejaVuSans-99\"/>\r\n      <path d=\"M 34.28125 27.484375 \r\nQ 23.390625 27.484375 19.1875 25 \r\nQ 14.984375 22.515625 14.984375 16.5 \r\nQ 14.984375 11.71875 18.140625 8.90625 \r\nQ 21.296875 6.109375 26.703125 6.109375 \r\nQ 34.1875 6.109375 38.703125 11.40625 \r\nQ 43.21875 16.703125 43.21875 25.484375 \r\nL 43.21875 27.484375 \r\nz\r\nM 52.203125 31.203125 \r\nL 52.203125 0 \r\nL 43.21875 0 \r\nL 43.21875 8.296875 \r\nQ 40.140625 3.328125 35.546875 0.953125 \r\nQ 30.953125 -1.421875 24.3125 -1.421875 \r\nQ 15.921875 -1.421875 10.953125 3.296875 \r\nQ 6 8.015625 6 15.921875 \r\nQ 6 25.140625 12.171875 29.828125 \r\nQ 18.359375 34.515625 30.609375 34.515625 \r\nL 43.21875 34.515625 \r\nL 43.21875 35.40625 \r\nQ 43.21875 41.609375 39.140625 45 \r\nQ 35.0625 48.390625 27.6875 48.390625 \r\nQ 23 48.390625 18.546875 47.265625 \r\nQ 14.109375 46.140625 10.015625 43.890625 \r\nL 10.015625 52.203125 \r\nQ 14.9375 54.109375 19.578125 55.046875 \r\nQ 24.21875 56 28.609375 56 \r\nQ 40.484375 56 46.34375 49.84375 \r\nQ 52.203125 43.703125 52.203125 31.203125 \r\nz\r\n\" id=\"DejaVuSans-97\"/>\r\n      <path d=\"M 18.109375 8.203125 \r\nL 18.109375 -20.796875 \r\nL 9.078125 -20.796875 \r\nL 9.078125 54.6875 \r\nL 18.109375 54.6875 \r\nL 18.109375 46.390625 \r\nQ 20.953125 51.265625 25.265625 53.625 \r\nQ 29.59375 56 35.59375 56 \r\nQ 45.5625 56 51.78125 48.09375 \r\nQ 58.015625 40.1875 58.015625 27.296875 \r\nQ 58.015625 14.40625 51.78125 6.484375 \r\nQ 45.5625 -1.421875 35.59375 -1.421875 \r\nQ 29.59375 -1.421875 25.265625 0.953125 \r\nQ 20.953125 3.328125 18.109375 8.203125 \r\nz\r\nM 48.6875 27.296875 \r\nQ 48.6875 37.203125 44.609375 42.84375 \r\nQ 40.53125 48.484375 33.40625 48.484375 \r\nQ 26.265625 48.484375 22.1875 42.84375 \r\nQ 18.109375 37.203125 18.109375 27.296875 \r\nQ 18.109375 17.390625 22.1875 11.75 \r\nQ 26.265625 6.109375 33.40625 6.109375 \r\nQ 40.53125 6.109375 44.609375 11.75 \r\nQ 48.6875 17.390625 48.6875 27.296875 \r\nz\r\n\" id=\"DejaVuSans-112\"/>\r\n      <path d=\"M 50.984375 -16.609375 \r\nL 50.984375 -23.578125 \r\nL -0.984375 -23.578125 \r\nL -0.984375 -16.609375 \r\nz\r\n\" id=\"DejaVuSans-95\"/>\r\n      <path d=\"M 44.28125 53.078125 \r\nL 44.28125 44.578125 \r\nQ 40.484375 46.53125 36.375 47.5 \r\nQ 32.28125 48.484375 27.875 48.484375 \r\nQ 21.1875 48.484375 17.84375 46.4375 \r\nQ 14.5 44.390625 14.5 40.28125 \r\nQ 14.5 37.15625 16.890625 35.375 \r\nQ 19.28125 33.59375 26.515625 31.984375 \r\nL 29.59375 31.296875 \r\nQ 39.15625 29.25 43.1875 25.515625 \r\nQ 47.21875 21.78125 47.21875 15.09375 \r\nQ 47.21875 7.46875 41.1875 3.015625 \r\nQ 35.15625 -1.421875 24.609375 -1.421875 \r\nQ 20.21875 -1.421875 15.453125 -0.5625 \r\nQ 10.6875 0.296875 5.421875 2 \r\nL 5.421875 11.28125 \r\nQ 10.40625 8.6875 15.234375 7.390625 \r\nQ 20.0625 6.109375 24.8125 6.109375 \r\nQ 31.15625 6.109375 34.5625 8.28125 \r\nQ 37.984375 10.453125 37.984375 14.40625 \r\nQ 37.984375 18.0625 35.515625 20.015625 \r\nQ 33.0625 21.96875 24.703125 23.78125 \r\nL 21.578125 24.515625 \r\nQ 13.234375 26.265625 9.515625 29.90625 \r\nQ 5.8125 33.546875 5.8125 39.890625 \r\nQ 5.8125 47.609375 11.28125 51.796875 \r\nQ 16.75 56 26.8125 56 \r\nQ 31.78125 56 36.171875 55.265625 \r\nQ 40.578125 54.546875 44.28125 53.078125 \r\nz\r\n\" id=\"DejaVuSans-115\"/>\r\n      <path d=\"M 56.203125 29.59375 \r\nL 56.203125 25.203125 \r\nL 14.890625 25.203125 \r\nQ 15.484375 15.921875 20.484375 11.0625 \r\nQ 25.484375 6.203125 34.421875 6.203125 \r\nQ 39.59375 6.203125 44.453125 7.46875 \r\nQ 49.3125 8.734375 54.109375 11.28125 \r\nL 54.109375 2.78125 \r\nQ 49.265625 0.734375 44.1875 -0.34375 \r\nQ 39.109375 -1.421875 33.890625 -1.421875 \r\nQ 20.796875 -1.421875 13.15625 6.1875 \r\nQ 5.515625 13.8125 5.515625 26.8125 \r\nQ 5.515625 40.234375 12.765625 48.109375 \r\nQ 20.015625 56 32.328125 56 \r\nQ 43.359375 56 49.78125 48.890625 \r\nQ 56.203125 41.796875 56.203125 29.59375 \r\nz\r\nM 47.21875 32.234375 \r\nQ 47.125 39.59375 43.09375 43.984375 \r\nQ 39.0625 48.390625 32.421875 48.390625 \r\nQ 24.90625 48.390625 20.390625 44.140625 \r\nQ 15.875 39.890625 15.1875 32.171875 \r\nz\r\n\" id=\"DejaVuSans-101\"/>\r\n      <path d=\"M 45.40625 27.984375 \r\nQ 45.40625 37.75 41.375 43.109375 \r\nQ 37.359375 48.484375 30.078125 48.484375 \r\nQ 22.859375 48.484375 18.828125 43.109375 \r\nQ 14.796875 37.75 14.796875 27.984375 \r\nQ 14.796875 18.265625 18.828125 12.890625 \r\nQ 22.859375 7.515625 30.078125 7.515625 \r\nQ 37.359375 7.515625 41.375 12.890625 \r\nQ 45.40625 18.265625 45.40625 27.984375 \r\nz\r\nM 54.390625 6.78125 \r\nQ 54.390625 -7.171875 48.1875 -13.984375 \r\nQ 42 -20.796875 29.203125 -20.796875 \r\nQ 24.46875 -20.796875 20.265625 -20.09375 \r\nQ 16.0625 -19.390625 12.109375 -17.921875 \r\nL 12.109375 -9.1875 \r\nQ 16.0625 -11.328125 19.921875 -12.34375 \r\nQ 23.78125 -13.375 27.78125 -13.375 \r\nQ 36.625 -13.375 41.015625 -8.765625 \r\nQ 45.40625 -4.15625 45.40625 5.171875 \r\nL 45.40625 9.625 \r\nQ 42.625 4.78125 38.28125 2.390625 \r\nQ 33.9375 0 27.875 0 \r\nQ 17.828125 0 11.671875 7.65625 \r\nQ 5.515625 15.328125 5.515625 27.984375 \r\nQ 5.515625 40.671875 11.671875 48.328125 \r\nQ 17.828125 56 27.875 56 \r\nQ 33.9375 56 38.28125 53.609375 \r\nQ 42.625 51.21875 45.40625 46.390625 \r\nL 45.40625 54.6875 \r\nL 54.390625 54.6875 \r\nz\r\n\" id=\"DejaVuSans-103\"/>\r\n     </defs>\r\n     <use xlink:href=\"#DejaVuSans-99\"/>\r\n     <use x=\"54.980469\" xlink:href=\"#DejaVuSans-97\"/>\r\n     <use x=\"116.259766\" xlink:href=\"#DejaVuSans-112\"/>\r\n     <use x=\"179.736328\" xlink:href=\"#DejaVuSans-95\"/>\r\n     <use x=\"229.736328\" xlink:href=\"#DejaVuSans-115\"/>\r\n     <use x=\"281.835938\" xlink:href=\"#DejaVuSans-112\"/>\r\n     <use x=\"345.3125\" xlink:href=\"#DejaVuSans-97\"/>\r\n     <use x=\"406.591797\" xlink:href=\"#DejaVuSans-99\"/>\r\n     <use x=\"461.572266\" xlink:href=\"#DejaVuSans-101\"/>\r\n     <use x=\"523.095703\" xlink:href=\"#DejaVuSans-95\"/>\r\n     <use x=\"573.095703\" xlink:href=\"#DejaVuSans-117\"/>\r\n     <use x=\"636.474609\" xlink:href=\"#DejaVuSans-115\"/>\r\n     <use x=\"688.574219\" xlink:href=\"#DejaVuSans-97\"/>\r\n     <use x=\"749.853516\" xlink:href=\"#DejaVuSans-103\"/>\r\n     <use x=\"813.330078\" xlink:href=\"#DejaVuSans-101\"/>\r\n    </g>\r\n   </g>\r\n  </g>\r\n </g>\r\n <defs>\r\n  <clipPath id=\"p6c5144ca71\">\r\n   <rect height=\"321.4\" width=\"293.44125\" x=\"46.965625\" y=\"7.2\"/>\r\n  </clipPath>\r\n </defs>\r\n</svg>\r\n",
      "image/png": "[encoded data removed]"
     },
     "metadata": {
      "needs_background": "light"
     }
    }
   ],
   "source": [
    "sns.displot(y)"
   ]
  },
  {
   "cell_type": "code",
   "execution_count": 117,
   "metadata": {},
   "outputs": [],
   "source": [
    "from sklearn.model_selection import RandomizedSearchCV\n",
    "# Number of trees in tree\n",
    "n_estimators = range(25, 450, 15)\n",
    "\n",
    "# Maximum number of levels in tree\n",
    "max_depth = range(3, 10, 2)\n",
    "\n",
    "min_child_weight = range(1,7)\n",
    "# Create the random grid\n",
    "random_grid = {'n_estimators': n_estimators,\n",
    "               'max_depth': max_depth,\n",
    "               'min_child_weight': min_child_weight,\n",
    "               'gamma':[i/10.0 for i in range(0,20)],\n",
    "               'colsample_bytree': [i/100.0 for i in range(60, 90, 5)],\n",
    "               'learning_rate': [i/100.0 for i in range(5, 20, 5)],\n",
    "               'reg_alpha':[1e-5, 1e-2, 0.1, 1, 100]}"
   ]
  },
  {
   "cell_type": "code",
   "execution_count": 174,
   "metadata": {},
   "outputs": [
    {
     "output_type": "stream",
     "name": "stdout",
     "text": [
      "Fitting 7 folds for each of 300 candidates, totalling 2100 fits\n"
     ]
    },
    {
     "output_type": "error",
     "ename": "KeyboardInterrupt",
     "evalue": "",
     "traceback": [
      "\u001b[1;31m---------------------------------------------------------------------------\u001b[0m",
      "\u001b[1;31mKeyboardInterrupt\u001b[0m                         Traceback (most recent call last)",
      "\u001b[1;32m<ipython-input-174-c8c5a79471b5>\u001b[0m in \u001b[0;36m<module>\u001b[1;34m\u001b[0m\n\u001b[0;32m      6\u001b[0m \u001b[0mxgb_random\u001b[0m \u001b[1;33m=\u001b[0m \u001b[0mRandomizedSearchCV\u001b[0m\u001b[1;33m(\u001b[0m\u001b[0mestimator\u001b[0m \u001b[1;33m=\u001b[0m \u001b[0mxgb\u001b[0m\u001b[1;33m,\u001b[0m \u001b[0mparam_distributions\u001b[0m \u001b[1;33m=\u001b[0m \u001b[0mrandom_grid\u001b[0m\u001b[1;33m,\u001b[0m \u001b[0mn_iter\u001b[0m \u001b[1;33m=\u001b[0m \u001b[1;36m300\u001b[0m\u001b[1;33m,\u001b[0m \u001b[0mcv\u001b[0m \u001b[1;33m=\u001b[0m \u001b[1;36m7\u001b[0m\u001b[1;33m,\u001b[0m \u001b[0mverbose\u001b[0m\u001b[1;33m=\u001b[0m\u001b[1;36m3\u001b[0m\u001b[1;33m,\u001b[0m \u001b[0mrandom_state\u001b[0m\u001b[1;33m=\u001b[0m\u001b[0mseed\u001b[0m\u001b[1;33m,\u001b[0m \u001b[0mn_jobs\u001b[0m \u001b[1;33m=\u001b[0m \u001b[1;33m-\u001b[0m\u001b[1;36m1\u001b[0m\u001b[1;33m)\u001b[0m\u001b[1;33m\u001b[0m\u001b[1;33m\u001b[0m\u001b[0m\n\u001b[0;32m      7\u001b[0m \u001b[1;31m# Fit the random search model\u001b[0m\u001b[1;33m\u001b[0m\u001b[1;33m\u001b[0m\u001b[1;33m\u001b[0m\u001b[0m\n\u001b[1;32m----> 8\u001b[1;33m \u001b[0mxgb_random\u001b[0m\u001b[1;33m.\u001b[0m\u001b[0mfit\u001b[0m\u001b[1;33m(\u001b[0m\u001b[0mX_train\u001b[0m\u001b[1;33m,\u001b[0m \u001b[0my_train\u001b[0m\u001b[1;33m)\u001b[0m\u001b[1;33m\u001b[0m\u001b[1;33m\u001b[0m\u001b[0m\n\u001b[0m",
      "\u001b[1;32m~\\Anaconda3\\envs\\nba-model\\lib\\site-packages\\sklearn\\utils\\validation.py\u001b[0m in \u001b[0;36minner_f\u001b[1;34m(*args, **kwargs)\u001b[0m\n\u001b[0;32m     61\u001b[0m             \u001b[0mextra_args\u001b[0m \u001b[1;33m=\u001b[0m \u001b[0mlen\u001b[0m\u001b[1;33m(\u001b[0m\u001b[0margs\u001b[0m\u001b[1;33m)\u001b[0m \u001b[1;33m-\u001b[0m \u001b[0mlen\u001b[0m\u001b[1;33m(\u001b[0m\u001b[0mall_args\u001b[0m\u001b[1;33m)\u001b[0m\u001b[1;33m\u001b[0m\u001b[1;33m\u001b[0m\u001b[0m\n\u001b[0;32m     62\u001b[0m             \u001b[1;32mif\u001b[0m \u001b[0mextra_args\u001b[0m \u001b[1;33m<=\u001b[0m \u001b[1;36m0\u001b[0m\u001b[1;33m:\u001b[0m\u001b[1;33m\u001b[0m\u001b[1;33m\u001b[0m\u001b[0m\n\u001b[1;32m---> 63\u001b[1;33m                 \u001b[1;32mreturn\u001b[0m \u001b[0mf\u001b[0m\u001b[1;33m(\u001b[0m\u001b[1;33m*\u001b[0m\u001b[0margs\u001b[0m\u001b[1;33m,\u001b[0m \u001b[1;33m**\u001b[0m\u001b[0mkwargs\u001b[0m\u001b[1;33m)\u001b[0m\u001b[1;33m\u001b[0m\u001b[1;33m\u001b[0m\u001b[0m\n\u001b[0m\u001b[0;32m     64\u001b[0m \u001b[1;33m\u001b[0m\u001b[0m\n\u001b[0;32m     65\u001b[0m             \u001b[1;31m# extra_args > 0\u001b[0m\u001b[1;33m\u001b[0m\u001b[1;33m\u001b[0m\u001b[1;33m\u001b[0m\u001b[0m\n",
      "\u001b[1;32m~\\Anaconda3\\envs\\nba-model\\lib\\site-packages\\sklearn\\model_selection\\_search.py\u001b[0m in \u001b[0;36mfit\u001b[1;34m(self, X, y, groups, **fit_params)\u001b[0m\n\u001b[0;32m    839\u001b[0m                 \u001b[1;32mreturn\u001b[0m \u001b[0mresults\u001b[0m\u001b[1;33m\u001b[0m\u001b[1;33m\u001b[0m\u001b[0m\n\u001b[0;32m    840\u001b[0m \u001b[1;33m\u001b[0m\u001b[0m\n\u001b[1;32m--> 841\u001b[1;33m             \u001b[0mself\u001b[0m\u001b[1;33m.\u001b[0m\u001b[0m_run_search\u001b[0m\u001b[1;33m(\u001b[0m\u001b[0mevaluate_candidates\u001b[0m\u001b[1;33m)\u001b[0m\u001b[1;33m\u001b[0m\u001b[1;33m\u001b[0m\u001b[0m\n\u001b[0m\u001b[0;32m    842\u001b[0m \u001b[1;33m\u001b[0m\u001b[0m\n\u001b[0;32m    843\u001b[0m             \u001b[1;31m# multimetric is determined here because in the case of a callable\u001b[0m\u001b[1;33m\u001b[0m\u001b[1;33m\u001b[0m\u001b[1;33m\u001b[0m\u001b[0m\n",
      "\u001b[1;32m~\\Anaconda3\\envs\\nba-model\\lib\\site-packages\\sklearn\\model_selection\\_search.py\u001b[0m in \u001b[0;36m_run_search\u001b[1;34m(self, evaluate_candidates)\u001b[0m\n\u001b[0;32m   1617\u001b[0m     \u001b[1;32mdef\u001b[0m \u001b[0m_run_search\u001b[0m\u001b[1;33m(\u001b[0m\u001b[0mself\u001b[0m\u001b[1;33m,\u001b[0m \u001b[0mevaluate_candidates\u001b[0m\u001b[1;33m)\u001b[0m\u001b[1;33m:\u001b[0m\u001b[1;33m\u001b[0m\u001b[1;33m\u001b[0m\u001b[0m\n\u001b[0;32m   1618\u001b[0m         \u001b[1;34m\"\"\"Search n_iter candidates from param_distributions\"\"\"\u001b[0m\u001b[1;33m\u001b[0m\u001b[1;33m\u001b[0m\u001b[0m\n\u001b[1;32m-> 1619\u001b[1;33m         evaluate_candidates(ParameterSampler(\n\u001b[0m\u001b[0;32m   1620\u001b[0m             \u001b[0mself\u001b[0m\u001b[1;33m.\u001b[0m\u001b[0mparam_distributions\u001b[0m\u001b[1;33m,\u001b[0m \u001b[0mself\u001b[0m\u001b[1;33m.\u001b[0m\u001b[0mn_iter\u001b[0m\u001b[1;33m,\u001b[0m\u001b[1;33m\u001b[0m\u001b[1;33m\u001b[0m\u001b[0m\n\u001b[0;32m   1621\u001b[0m             random_state=self.random_state))\n",
      "\u001b[1;32m~\\Anaconda3\\envs\\nba-model\\lib\\site-packages\\sklearn\\model_selection\\_search.py\u001b[0m in \u001b[0;36mevaluate_candidates\u001b[1;34m(candidate_params, cv, more_results)\u001b[0m\n\u001b[0;32m    793\u001b[0m                               n_splits, n_candidates, n_candidates * n_splits))\n\u001b[0;32m    794\u001b[0m \u001b[1;33m\u001b[0m\u001b[0m\n\u001b[1;32m--> 795\u001b[1;33m                 out = parallel(delayed(_fit_and_score)(clone(base_estimator),\n\u001b[0m\u001b[0;32m    796\u001b[0m                                                        \u001b[0mX\u001b[0m\u001b[1;33m,\u001b[0m \u001b[0my\u001b[0m\u001b[1;33m,\u001b[0m\u001b[1;33m\u001b[0m\u001b[1;33m\u001b[0m\u001b[0m\n\u001b[0;32m    797\u001b[0m                                                        \u001b[0mtrain\u001b[0m\u001b[1;33m=\u001b[0m\u001b[0mtrain\u001b[0m\u001b[1;33m,\u001b[0m \u001b[0mtest\u001b[0m\u001b[1;33m=\u001b[0m\u001b[0mtest\u001b[0m\u001b[1;33m,\u001b[0m\u001b[1;33m\u001b[0m\u001b[1;33m\u001b[0m\u001b[0m\n",
      "\u001b[1;32m~\\Anaconda3\\envs\\nba-model\\lib\\site-packages\\joblib\\parallel.py\u001b[0m in \u001b[0;36m__call__\u001b[1;34m(self, iterable)\u001b[0m\n\u001b[0;32m   1052\u001b[0m \u001b[1;33m\u001b[0m\u001b[0m\n\u001b[0;32m   1053\u001b[0m             \u001b[1;32mwith\u001b[0m \u001b[0mself\u001b[0m\u001b[1;33m.\u001b[0m\u001b[0m_backend\u001b[0m\u001b[1;33m.\u001b[0m\u001b[0mretrieval_context\u001b[0m\u001b[1;33m(\u001b[0m\u001b[1;33m)\u001b[0m\u001b[1;33m:\u001b[0m\u001b[1;33m\u001b[0m\u001b[1;33m\u001b[0m\u001b[0m\n\u001b[1;32m-> 1054\u001b[1;33m                 \u001b[0mself\u001b[0m\u001b[1;33m.\u001b[0m\u001b[0mretrieve\u001b[0m\u001b[1;33m(\u001b[0m\u001b[1;33m)\u001b[0m\u001b[1;33m\u001b[0m\u001b[1;33m\u001b[0m\u001b[0m\n\u001b[0m\u001b[0;32m   1055\u001b[0m             \u001b[1;31m# Make sure that we get a last message telling us we are done\u001b[0m\u001b[1;33m\u001b[0m\u001b[1;33m\u001b[0m\u001b[1;33m\u001b[0m\u001b[0m\n\u001b[0;32m   1056\u001b[0m             \u001b[0melapsed_time\u001b[0m \u001b[1;33m=\u001b[0m \u001b[0mtime\u001b[0m\u001b[1;33m.\u001b[0m\u001b[0mtime\u001b[0m\u001b[1;33m(\u001b[0m\u001b[1;33m)\u001b[0m \u001b[1;33m-\u001b[0m \u001b[0mself\u001b[0m\u001b[1;33m.\u001b[0m\u001b[0m_start_time\u001b[0m\u001b[1;33m\u001b[0m\u001b[1;33m\u001b[0m\u001b[0m\n",
      "\u001b[1;32m~\\Anaconda3\\envs\\nba-model\\lib\\site-packages\\joblib\\parallel.py\u001b[0m in \u001b[0;36mretrieve\u001b[1;34m(self)\u001b[0m\n\u001b[0;32m    931\u001b[0m             \u001b[1;32mtry\u001b[0m\u001b[1;33m:\u001b[0m\u001b[1;33m\u001b[0m\u001b[1;33m\u001b[0m\u001b[0m\n\u001b[0;32m    932\u001b[0m                 \u001b[1;32mif\u001b[0m \u001b[0mgetattr\u001b[0m\u001b[1;33m(\u001b[0m\u001b[0mself\u001b[0m\u001b[1;33m.\u001b[0m\u001b[0m_backend\u001b[0m\u001b[1;33m,\u001b[0m \u001b[1;34m'supports_timeout'\u001b[0m\u001b[1;33m,\u001b[0m \u001b[1;32mFalse\u001b[0m\u001b[1;33m)\u001b[0m\u001b[1;33m:\u001b[0m\u001b[1;33m\u001b[0m\u001b[1;33m\u001b[0m\u001b[0m\n\u001b[1;32m--> 933\u001b[1;33m                     \u001b[0mself\u001b[0m\u001b[1;33m.\u001b[0m\u001b[0m_output\u001b[0m\u001b[1;33m.\u001b[0m\u001b[0mextend\u001b[0m\u001b[1;33m(\u001b[0m\u001b[0mjob\u001b[0m\u001b[1;33m.\u001b[0m\u001b[0mget\u001b[0m\u001b[1;33m(\u001b[0m\u001b[0mtimeout\u001b[0m\u001b[1;33m=\u001b[0m\u001b[0mself\u001b[0m\u001b[1;33m.\u001b[0m\u001b[0mtimeout\u001b[0m\u001b[1;33m)\u001b[0m\u001b[1;33m)\u001b[0m\u001b[1;33m\u001b[0m\u001b[1;33m\u001b[0m\u001b[0m\n\u001b[0m\u001b[0;32m    934\u001b[0m                 \u001b[1;32melse\u001b[0m\u001b[1;33m:\u001b[0m\u001b[1;33m\u001b[0m\u001b[1;33m\u001b[0m\u001b[0m\n\u001b[0;32m    935\u001b[0m                     \u001b[0mself\u001b[0m\u001b[1;33m.\u001b[0m\u001b[0m_output\u001b[0m\u001b[1;33m.\u001b[0m\u001b[0mextend\u001b[0m\u001b[1;33m(\u001b[0m\u001b[0mjob\u001b[0m\u001b[1;33m.\u001b[0m\u001b[0mget\u001b[0m\u001b[1;33m(\u001b[0m\u001b[1;33m)\u001b[0m\u001b[1;33m)\u001b[0m\u001b[1;33m\u001b[0m\u001b[1;33m\u001b[0m\u001b[0m\n",
      "\u001b[1;32m~\\Anaconda3\\envs\\nba-model\\lib\\site-packages\\joblib\\_parallel_backends.py\u001b[0m in \u001b[0;36mwrap_future_result\u001b[1;34m(future, timeout)\u001b[0m\n\u001b[0;32m    540\u001b[0m         AsyncResults.get from multiprocessing.\"\"\"\n\u001b[0;32m    541\u001b[0m         \u001b[1;32mtry\u001b[0m\u001b[1;33m:\u001b[0m\u001b[1;33m\u001b[0m\u001b[1;33m\u001b[0m\u001b[0m\n\u001b[1;32m--> 542\u001b[1;33m             \u001b[1;32mreturn\u001b[0m \u001b[0mfuture\u001b[0m\u001b[1;33m.\u001b[0m\u001b[0mresult\u001b[0m\u001b[1;33m(\u001b[0m\u001b[0mtimeout\u001b[0m\u001b[1;33m=\u001b[0m\u001b[0mtimeout\u001b[0m\u001b[1;33m)\u001b[0m\u001b[1;33m\u001b[0m\u001b[1;33m\u001b[0m\u001b[0m\n\u001b[0m\u001b[0;32m    543\u001b[0m         \u001b[1;32mexcept\u001b[0m \u001b[0mCfTimeoutError\u001b[0m \u001b[1;32mas\u001b[0m \u001b[0me\u001b[0m\u001b[1;33m:\u001b[0m\u001b[1;33m\u001b[0m\u001b[1;33m\u001b[0m\u001b[0m\n\u001b[0;32m    544\u001b[0m             \u001b[1;32mraise\u001b[0m \u001b[0mTimeoutError\u001b[0m \u001b[1;32mfrom\u001b[0m \u001b[0me\u001b[0m\u001b[1;33m\u001b[0m\u001b[1;33m\u001b[0m\u001b[0m\n",
      "\u001b[1;32m~\\Anaconda3\\envs\\nba-model\\lib\\concurrent\\futures\\_base.py\u001b[0m in \u001b[0;36mresult\u001b[1;34m(self, timeout)\u001b[0m\n\u001b[0;32m    432\u001b[0m                 \u001b[1;32mreturn\u001b[0m \u001b[0mself\u001b[0m\u001b[1;33m.\u001b[0m\u001b[0m__get_result\u001b[0m\u001b[1;33m(\u001b[0m\u001b[1;33m)\u001b[0m\u001b[1;33m\u001b[0m\u001b[1;33m\u001b[0m\u001b[0m\n\u001b[0;32m    433\u001b[0m \u001b[1;33m\u001b[0m\u001b[0m\n\u001b[1;32m--> 434\u001b[1;33m             \u001b[0mself\u001b[0m\u001b[1;33m.\u001b[0m\u001b[0m_condition\u001b[0m\u001b[1;33m.\u001b[0m\u001b[0mwait\u001b[0m\u001b[1;33m(\u001b[0m\u001b[0mtimeout\u001b[0m\u001b[1;33m)\u001b[0m\u001b[1;33m\u001b[0m\u001b[1;33m\u001b[0m\u001b[0m\n\u001b[0m\u001b[0;32m    435\u001b[0m \u001b[1;33m\u001b[0m\u001b[0m\n\u001b[0;32m    436\u001b[0m             \u001b[1;32mif\u001b[0m \u001b[0mself\u001b[0m\u001b[1;33m.\u001b[0m\u001b[0m_state\u001b[0m \u001b[1;32min\u001b[0m \u001b[1;33m[\u001b[0m\u001b[0mCANCELLED\u001b[0m\u001b[1;33m,\u001b[0m \u001b[0mCANCELLED_AND_NOTIFIED\u001b[0m\u001b[1;33m]\u001b[0m\u001b[1;33m:\u001b[0m\u001b[1;33m\u001b[0m\u001b[1;33m\u001b[0m\u001b[0m\n",
      "\u001b[1;32m~\\Anaconda3\\envs\\nba-model\\lib\\threading.py\u001b[0m in \u001b[0;36mwait\u001b[1;34m(self, timeout)\u001b[0m\n\u001b[0;32m    300\u001b[0m         \u001b[1;32mtry\u001b[0m\u001b[1;33m:\u001b[0m    \u001b[1;31m# restore state no matter what (e.g., KeyboardInterrupt)\u001b[0m\u001b[1;33m\u001b[0m\u001b[1;33m\u001b[0m\u001b[0m\n\u001b[0;32m    301\u001b[0m             \u001b[1;32mif\u001b[0m \u001b[0mtimeout\u001b[0m \u001b[1;32mis\u001b[0m \u001b[1;32mNone\u001b[0m\u001b[1;33m:\u001b[0m\u001b[1;33m\u001b[0m\u001b[1;33m\u001b[0m\u001b[0m\n\u001b[1;32m--> 302\u001b[1;33m                 \u001b[0mwaiter\u001b[0m\u001b[1;33m.\u001b[0m\u001b[0macquire\u001b[0m\u001b[1;33m(\u001b[0m\u001b[1;33m)\u001b[0m\u001b[1;33m\u001b[0m\u001b[1;33m\u001b[0m\u001b[0m\n\u001b[0m\u001b[0;32m    303\u001b[0m                 \u001b[0mgotit\u001b[0m \u001b[1;33m=\u001b[0m \u001b[1;32mTrue\u001b[0m\u001b[1;33m\u001b[0m\u001b[1;33m\u001b[0m\u001b[0m\n\u001b[0;32m    304\u001b[0m             \u001b[1;32melse\u001b[0m\u001b[1;33m:\u001b[0m\u001b[1;33m\u001b[0m\u001b[1;33m\u001b[0m\u001b[0m\n",
      "\u001b[1;31mKeyboardInterrupt\u001b[0m: "
     ]
    }
   ],
   "source": [
    "# Use the random grid to search for best hyperparameters\n",
    "# First create the base model to tune\n",
    "xgb = XGBRegressor()\n",
    "# Random search of parameters, using 3 fold cross validation, \n",
    "# search across 100 different combinations, and use all available cores\n",
    "xgb_random = RandomizedSearchCV(estimator = xgb, param_distributions = random_grid, n_iter = 300, cv = 7, verbose=3, random_state=seed, n_jobs = -1)\n",
    "# Fit the random search model\n",
    "xgb_random.fit(X_train, y_train)"
   ]
  },
  {
   "cell_type": "code",
   "execution_count": 138,
   "metadata": {},
   "outputs": [
    {
     "output_type": "execute_result",
     "data": {
      "text/plain": [
       "{'reg_alpha': 1e-05,\n",
       " 'n_estimators': 370,\n",
       " 'min_child_weight': 3,\n",
       " 'max_depth': 9,\n",
       " 'learning_rate': 0.05,\n",
       " 'gamma': 0.0,\n",
       " 'colsample_bytree': 0.8}"
      ]
     },
     "metadata": {},
     "execution_count": 138
    }
   ],
   "source": [
    "xgb_random.best_params_"
   ]
  },
  {
   "cell_type": "code",
   "execution_count": null,
   "metadata": {},
   "outputs": [],
   "source": [
    "reg_alpha= 1e-05,\n",
    " n_estimators= 370,\n",
    " min_child_weight= 3,\n",
    " max_depth= 9,\n",
    " learning_rate= 0.05,\n",
    " gamma= 0.0,\n",
    " colsample_bytree= 0.8"
   ]
  },
  {
   "cell_type": "code",
   "execution_count": 76,
   "metadata": {},
   "outputs": [],
   "source": [
    "from sklearn.model_selection import GridSearchCV"
   ]
  },
  {
   "cell_type": "code",
   "execution_count": 77,
   "metadata": {},
   "outputs": [
    {
     "output_type": "execute_result",
     "data": {
      "text/plain": [
       "GridSearchCV(cv=5,\n",
       "             estimator=XGBRegressor(base_score=None, booster=None,\n",
       "                                    colsample_bylevel=None,\n",
       "                                    colsample_bynode=None, colsample_bytree=0.7,\n",
       "                                    gamma=0.0, gpu_id=None,\n",
       "                                    importance_type='gain',\n",
       "                                    interaction_constraints=None,\n",
       "                                    learning_rate=0.1, max_delta_step=None,\n",
       "                                    max_depth=5, min_child_weight=3,\n",
       "                                    missing=nan, monotone_constraints=None,\n",
       "                                    n_estimators=85, n_jobs=None,\n",
       "                                    num_parallel_tree=None, random_state=None,\n",
       "                                    reg_alpha=None, reg_lambda=None,\n",
       "                                    scale_pos_weight=1, subsample=None,\n",
       "                                    tree_method=None, validate_parameters=None,\n",
       "                                    verbosity=None),\n",
       "             n_jobs=-1, param_grid={'reg_alpha': [1e-05, 0.01, 0.1, 1, 100]})"
      ]
     },
     "metadata": {},
     "execution_count": 77
    }
   ],
   "source": [
    "xgb = XGBRegressor(reg_alpha= 0.1,\n",
    " n_estimators= 130,\n",
    " min_child_weight= 4,\n",
    " max_depth= 5,\n",
    " learning_rate= 0.15,\n",
    " gamma= 0.0,\n",
    " colsample_bytree= 0.7,\n",
    "scale_pos_weight = 1)\n",
    "\n",
    "grid = {\n",
    "    'reg_alpha':[1e-5, 1e-2, 0.1, 1, 100]\n",
    "}\n",
    "\n",
    "gsearch = GridSearchCV(estimator = xgb, \n",
    "                       param_grid = grid, n_jobs=-1, cv=5)\n",
    "gsearch.fit(X_train, y_train)"
   ]
  },
  {
   "cell_type": "code",
   "execution_count": 78,
   "metadata": {},
   "outputs": [
    {
     "output_type": "execute_result",
     "data": {
      "text/plain": [
       "{'reg_alpha': 1e-05}"
      ]
     },
     "metadata": {},
     "execution_count": 78
    }
   ],
   "source": [
    "gsearch.best_params_"
   ]
  },
  {
   "cell_type": "code",
   "execution_count": 175,
   "metadata": {},
   "outputs": [
    {
     "output_type": "stream",
     "name": "stdout",
     "text": [
      "[XGB] These are the results for the training set.\nr^2:  0.9999426993110806\nmse:  6.30474514464779e-07\nvariance_score:  0.9999426993304197\nmse-log:  4.6101838576406485e-07\n--------------------------------------\n[XGB] These are the results for the validation set.\nr^2:  0.8686033716325174\nmse:  0.0015273165057489424\nvariance_score:  0.8689777226071521\nmse-log:  0.0011252606688407715\n_____________________________________________\n"
     ]
    }
   ],
   "source": [
    "xgb = XGBRegressor(reg_alpha= 1e-05,\n",
    " n_estimators= 370,\n",
    " min_child_weight= 3,\n",
    " max_depth= 9,\n",
    " learning_rate= 0.05,\n",
    " gamma= 0.0,\n",
    " colsample_bytree= 0.8)\n",
    "\n",
    "run(xgb, \"XGB\", X_train, X_val)"
   ]
  },
  {
   "cell_type": "code",
   "execution_count": 176,
   "metadata": {},
   "outputs": [
    {
     "output_type": "stream",
     "name": "stdout",
     "text": [
      "r^2:  0.8295635393643167\nmse:  0.0014866386745883188\nvariance_score:  0.8313024845783531\nmse-log:  0.0011435842725534193\n"
     ]
    }
   ],
   "source": [
    "evaluate(xgb.predict(X_test), y_test)"
   ]
  },
  {
   "cell_type": "code",
   "execution_count": 177,
   "metadata": {},
   "outputs": [],
   "source": [
    "data = pd.read_excel(\"../spring21_data/fa_stats_v3.xlsx\")"
   ]
  },
  {
   "cell_type": "code",
   "execution_count": 178,
   "metadata": {},
   "outputs": [],
   "source": [
    "test_index = X_test.index\n",
    "test_data = data.iloc[test_index][['clean_season','Player','MPG', 'attempted_field_goals', 'minutes_played', 'WS', 'Wins Added', 'poss','cap_space_usage']]\n",
    "results = pd.concat([test_data, pd.DataFrame(index=test_index, data=xgb.predict(X_test))], axis=1)"
   ]
  },
  {
   "cell_type": "code",
   "execution_count": 179,
   "metadata": {},
   "outputs": [
    {
     "output_type": "execute_result",
     "data": {
      "text/plain": [
       "     clean_season                    Player   MPG  attempted_field_goals  \\\n",
       "362          2019             Jabari Parker  26.9              11.897436   \n",
       "274          2018                 Raul Neto  12.1               3.682927   \n",
       "232          2018           Wayne Ellington  26.5               9.090909   \n",
       "373          2019            Brad Wanamaker   9.5               2.916667   \n",
       "107          2016           Thomas Robinson  12.9               4.098592   \n",
       "23           2016             Trevor Booker  20.7               4.911392   \n",
       "231          2018             Fred VanVleet  20.0               7.171053   \n",
       "111          2016             Alan Anderson  14.8               4.538462   \n",
       "394          2019             Isaiah Thomas  15.1               8.250000   \n",
       "124          2017               Jeff Teague  32.4              11.085366   \n",
       "270          2018              Nerlens Noel  15.7               3.500000   \n",
       "296          2019           Khris Middleton  31.1              14.909091   \n",
       "140          2017  Kentavious Caldwell-Pope  33.3              12.210526   \n",
       "161          2017          Dante Cunningham  25.0               5.439394   \n",
       "47           2016          Anthony Tolliver  18.6               4.611111   \n",
       "22           2016               Rajon Rondo  35.2              10.861111   \n",
       "280          2018               Okaro White  13.3               2.666667   \n",
       "179          2017           Michael Beasley  16.7               7.250000   \n",
       "158          2017                Tony Allen  27.0               8.380282   \n",
       "3            2016             DeMar DeRozan  35.9              17.653846   \n",
       "134          2017               Serge Ibaka  30.7              12.553571   \n",
       "220          2018             Julius Randle  26.7              11.024390   \n",
       "366          2019                Trey Lyles  17.5               7.734375   \n",
       "101          2016              Aaron Brooks  16.1               6.797101   \n",
       "327          2019                Tyus Jones  22.9               6.558824   \n",
       "8            2016             Dirk Nowitzki  31.5              14.826667   \n",
       "203          2017              Aaron Brooks  13.8               4.615385   \n",
       "208          2017               Bobby Brown   4.9               2.400000   \n",
       "341          2019               Joakim Noah  16.5               5.071429   \n",
       "247          2018              Aaron Gordon  32.9              14.913793   \n",
       "338          2019              Mike Muscala  20.4               5.914894   \n",
       "6            2016            Andre Drummond  32.9              13.086420   \n",
       "174          2017             Alan Williams  15.1               5.680851   \n",
       "240          2018               Rajon Rondo  26.2               7.600000   \n",
       "29           2016             Ryan Anderson  30.4              14.075758   \n",
       "130          2017             Mason Plumlee  26.5               8.185185   \n",
       "148          2017              Jrue Holiday  32.7              13.328358   \n",
       "287          2019              Jimmy Butler  33.6              15.700000   \n",
       "343          2019            Tyson Chandler  15.9               1.714286   \n",
       "215          2018                Chris Paul  31.8              13.758621   \n",
       "85           2016          Brandon Jennings  18.1               6.217391   \n",
       "334          2019           Wesley Matthews  30.3              10.659091   \n",
       "260          2018               Omri Casspi  14.0               3.905660   \n",
       "253          2018               Salah Mejri  12.0               2.245902   \n",
       "337          2019              Trevor Ariza  34.0               8.730769   \n",
       "213          2018              LeBron James  36.9              19.268293   \n",
       "201          2017              Ben McLemore  19.3               6.868852   \n",
       "156          2017             Zach Randolph  24.5              13.205479   \n",
       "57           2016            Wesley Johnson  20.8               6.437500   \n",
       "189          2017            Reggie Bullock  15.1               4.129032   \n",
       "311          2019             Terrence Ross  26.5              12.679012   \n",
       "368          2019          Anthony Tolliver  16.6               3.984615   \n",
       "43           2016             Dwight Powell  14.4               4.289855   \n",
       "40           2016         Langston Galloway  24.8               7.170732   \n",
       "63           2016            Meyers Leonard  21.9               7.131148   \n",
       "94           2016                 Ish Smith  29.1               8.444444   \n",
       "188          2017               Jodie Meeks  20.5               7.111111   \n",
       "126          2017            Andre Iguodala  26.3               5.460526   \n",
       "361          2019               Luke Kornet  17.0               6.152174   \n",
       "12           2016             Zaza Pachulia  26.4               6.184211   \n",
       "\n",
       "     minutes_played    WS  Wins Added  poss  cap_space_usage         0  \n",
       "362       26.717949   1.4    1.662402  3694         0.059557  0.064579  \n",
       "274       12.146341   0.9    0.416141  1201         0.021106  0.025246  \n",
       "232       26.506494   4.5    2.589305  4309         0.061550  0.100303  \n",
       "373        9.527778   1.0    0.451722   775         0.013246  0.014579  \n",
       "107       12.915493   0.6    0.655749  1879         0.011163  0.022567  \n",
       "23        20.658228   4.3    2.731892  3203         0.098255  0.074470  \n",
       "231       20.000000   4.7    4.728443  3316         0.088349  0.076572  \n",
       "111       14.769231   0.3    0.339625   403         0.013973  0.034777  \n",
       "394       15.083333  -0.3    0.117090   403         0.021258  0.034493  \n",
       "124       32.402439   8.1    6.991121  5710         0.191739  0.251240  \n",
       "270       15.733333   1.3    0.703203   976         0.017252  0.049044  \n",
       "296       31.077922   6.1    6.003798  6287         0.280405  0.233623  \n",
       "140       33.276316   4.5    3.698056  5081         0.179083  0.159277  \n",
       "161       24.984848   3.0    0.340172  3421         0.023211  0.031240  \n",
       "47        18.625000   2.8    2.470668  2733         0.084977  0.043392  \n",
       "22        35.236111   4.6    3.435171  5396         0.148710  0.173382  \n",
       "280       13.333333   0.2    0.080001   167         0.015166  0.025560  \n",
       "179       16.696429   1.8    0.622438  1991         0.014848  0.050863  \n",
       "158       26.957746   3.1    2.920640  3722         0.014848  0.049840  \n",
       "3         35.948718   9.9    6.367356  6934         0.281913  0.285626  \n",
       "134       30.535714   5.1    4.227561  5458         0.202454  0.174669  \n",
       "220       26.707317   6.6    3.050279  4622         0.084825  0.125227  \n",
       "366       17.500000   1.2    1.182404  2370         0.050394  0.019039  \n",
       "101       16.057971   0.9    0.507429  2256         0.028680  0.037909  \n",
       "327       22.941176   3.0    3.210259  3329         0.077039  0.034284  \n",
       "8         31.520000   6.8    7.452673  5095         0.265553  0.253549  \n",
       "203       13.753846   0.3   -0.158780  1819         0.014848  0.018091  \n",
       "208        4.920000   0.1    0.038639   317         0.012414  0.019275  \n",
       "341       16.500000   2.2    1.835171  1450         0.058930  0.049200  \n",
       "247       32.913793   2.9    4.144279  3994         0.206147  0.201939  \n",
       "338       22.148936   2.5    1.048672  2858         0.018587  0.033575  \n",
       "6         32.913580   7.4   11.192345  5575         0.234927  0.205285  \n",
       "174       15.063830   2.1    1.968842  1517         0.060549  0.049116  \n",
       "240       26.230769   3.6    2.092345  4341         0.088349  0.129301  \n",
       "29        30.424242   3.9    3.032152  4154         0.199010  0.166530  \n",
       "130       28.074074   6.0    6.096758  4392         0.141696  0.086972  \n",
       "148       32.686567   3.8    4.714773  4533         0.259218  0.184887  \n",
       "287       36.100000   7.9    6.199849  5528         0.300000  0.204946  \n",
       "343       12.714286   2.1    0.745843  1919         0.023500  0.080675  \n",
       "215       31.844828  10.2    9.189805  4854         0.350000  0.233634  \n",
       "85        18.086957   1.5    1.921673  1809         0.051383  0.031211  \n",
       "334       29.818182   2.7    1.695761  4623         0.023500  0.102776  \n",
       "260       13.962264   2.2    0.984506  1573         0.020781  0.029279  \n",
       "253       11.950820   2.7    2.065030  1471         0.015383  0.020998  \n",
       "337       34.000000   2.5    1.270101  4978         0.111783  0.103346  \n",
       "213       36.902439  14.0   13.272992  8026         0.350000  0.313538  \n",
       "201       19.278689   0.4    0.297211  2374         0.052476  0.025093  \n",
       "156       24.465753   3.2    2.474544  3814         0.124203  0.091119  \n",
       "57        20.825000   2.6    2.323851  3616         0.059781  0.055770  \n",
       "189       15.064516   1.0    0.732975   950         0.025229  0.030499  \n",
       "311       26.543210   4.3    1.594962  4766         0.114532  0.146361  \n",
       "368       16.600000   1.2    0.759132  2306         0.022172  0.017596  \n",
       "43        14.376812   3.1    1.189560  2173         0.088960  0.036075  \n",
       "40        24.792683   3.3    1.434784  4082         0.055235  0.043080  \n",
       "63        21.852459   2.2    0.866824  2702         0.097867  0.037408  \n",
       "94        22.851852   1.3    4.108775  4636         0.063733  0.056955  \n",
       "188       20.500000   1.1    0.685160  1525         0.033201  0.056769  \n",
       "126       26.289474   6.9    5.790783  5120         0.149504  0.112304  \n",
       "361       17.043478   1.4    1.683549  1665         0.020113  0.046520  \n",
       "12        26.368421   6.0    3.256223  4153         0.030783  0.129198  "
      ],
      "text/html": "<div>\n<style scoped>\n    .dataframe tbody tr th:only-of-type {\n        vertical-align: middle;\n    }\n\n    .dataframe tbody tr th {\n        vertical-align: top;\n    }\n\n    .dataframe thead th {\n        text-align: right;\n    }\n</style>\n<table border=\"1\" class=\"dataframe\">\n  <thead>\n    <tr style=\"text-align: right;\">\n      <th></th>\n      <th>clean_season</th>\n      <th>Player</th>\n      <th>MPG</th>\n      <th>attempted_field_goals</th>\n      <th>minutes_played</th>\n      <th>WS</th>\n      <th>Wins Added</th>\n      <th>poss</th>\n      <th>cap_space_usage</th>\n      <th>0</th>\n    </tr>\n  </thead>\n  <tbody>\n    <tr>\n      <th>362</th>\n      <td>2019</td>\n      <td>Jabari Parker</td>\n      <td>26.9</td>\n      <td>11.897436</td>\n      <td>26.717949</td>\n      <td>1.4</td>\n      <td>1.662402</td>\n      <td>3694</td>\n      <td>0.059557</td>\n      <td>0.064579</td>\n    </tr>\n    <tr>\n      <th>274</th>\n      <td>2018</td>\n      <td>Raul Neto</td>\n      <td>12.1</td>\n      <td>3.682927</td>\n      <td>12.146341</td>\n      <td>0.9</td>\n      <td>0.416141</td>\n      <td>1201</td>\n      <td>0.021106</td>\n      <td>0.025246</td>\n    </tr>\n    <tr>\n      <th>232</th>\n      <td>2018</td>\n      <td>Wayne Ellington</td>\n      <td>26.5</td>\n      <td>9.090909</td>\n      <td>26.506494</td>\n      <td>4.5</td>\n      <td>2.589305</td>\n      <td>4309</td>\n      <td>0.061550</td>\n      <td>0.100303</td>\n    </tr>\n    <tr>\n      <th>373</th>\n      <td>2019</td>\n      <td>Brad Wanamaker</td>\n      <td>9.5</td>\n      <td>2.916667</td>\n      <td>9.527778</td>\n      <td>1.0</td>\n      <td>0.451722</td>\n      <td>775</td>\n      <td>0.013246</td>\n      <td>0.014579</td>\n    </tr>\n    <tr>\n      <th>107</th>\n      <td>2016</td>\n      <td>Thomas Robinson</td>\n      <td>12.9</td>\n      <td>4.098592</td>\n      <td>12.915493</td>\n      <td>0.6</td>\n      <td>0.655749</td>\n      <td>1879</td>\n      <td>0.011163</td>\n      <td>0.022567</td>\n    </tr>\n    <tr>\n      <th>23</th>\n      <td>2016</td>\n      <td>Trevor Booker</td>\n      <td>20.7</td>\n      <td>4.911392</td>\n      <td>20.658228</td>\n      <td>4.3</td>\n      <td>2.731892</td>\n      <td>3203</td>\n      <td>0.098255</td>\n      <td>0.074470</td>\n    </tr>\n    <tr>\n      <th>231</th>\n      <td>2018</td>\n      <td>Fred VanVleet</td>\n      <td>20.0</td>\n      <td>7.171053</td>\n      <td>20.000000</td>\n      <td>4.7</td>\n      <td>4.728443</td>\n      <td>3316</td>\n      <td>0.088349</td>\n      <td>0.076572</td>\n    </tr>\n    <tr>\n      <th>111</th>\n      <td>2016</td>\n      <td>Alan Anderson</td>\n      <td>14.8</td>\n      <td>4.538462</td>\n      <td>14.769231</td>\n      <td>0.3</td>\n      <td>0.339625</td>\n      <td>403</td>\n      <td>0.013973</td>\n      <td>0.034777</td>\n    </tr>\n    <tr>\n      <th>394</th>\n      <td>2019</td>\n      <td>Isaiah Thomas</td>\n      <td>15.1</td>\n      <td>8.250000</td>\n      <td>15.083333</td>\n      <td>-0.3</td>\n      <td>0.117090</td>\n      <td>403</td>\n      <td>0.021258</td>\n      <td>0.034493</td>\n    </tr>\n    <tr>\n      <th>124</th>\n      <td>2017</td>\n      <td>Jeff Teague</td>\n      <td>32.4</td>\n      <td>11.085366</td>\n      <td>32.402439</td>\n      <td>8.1</td>\n      <td>6.991121</td>\n      <td>5710</td>\n      <td>0.191739</td>\n      <td>0.251240</td>\n    </tr>\n    <tr>\n      <th>270</th>\n      <td>2018</td>\n      <td>Nerlens Noel</td>\n      <td>15.7</td>\n      <td>3.500000</td>\n      <td>15.733333</td>\n      <td>1.3</td>\n      <td>0.703203</td>\n      <td>976</td>\n      <td>0.017252</td>\n      <td>0.049044</td>\n    </tr>\n    <tr>\n      <th>296</th>\n      <td>2019</td>\n      <td>Khris Middleton</td>\n      <td>31.1</td>\n      <td>14.909091</td>\n      <td>31.077922</td>\n      <td>6.1</td>\n      <td>6.003798</td>\n      <td>6287</td>\n      <td>0.280405</td>\n      <td>0.233623</td>\n    </tr>\n    <tr>\n      <th>140</th>\n      <td>2017</td>\n      <td>Kentavious Caldwell-Pope</td>\n      <td>33.3</td>\n      <td>12.210526</td>\n      <td>33.276316</td>\n      <td>4.5</td>\n      <td>3.698056</td>\n      <td>5081</td>\n      <td>0.179083</td>\n      <td>0.159277</td>\n    </tr>\n    <tr>\n      <th>161</th>\n      <td>2017</td>\n      <td>Dante Cunningham</td>\n      <td>25.0</td>\n      <td>5.439394</td>\n      <td>24.984848</td>\n      <td>3.0</td>\n      <td>0.340172</td>\n      <td>3421</td>\n      <td>0.023211</td>\n      <td>0.031240</td>\n    </tr>\n    <tr>\n      <th>47</th>\n      <td>2016</td>\n      <td>Anthony Tolliver</td>\n      <td>18.6</td>\n      <td>4.611111</td>\n      <td>18.625000</td>\n      <td>2.8</td>\n      <td>2.470668</td>\n      <td>2733</td>\n      <td>0.084977</td>\n      <td>0.043392</td>\n    </tr>\n    <tr>\n      <th>22</th>\n      <td>2016</td>\n      <td>Rajon Rondo</td>\n      <td>35.2</td>\n      <td>10.861111</td>\n      <td>35.236111</td>\n      <td>4.6</td>\n      <td>3.435171</td>\n      <td>5396</td>\n      <td>0.148710</td>\n      <td>0.173382</td>\n    </tr>\n    <tr>\n      <th>280</th>\n      <td>2018</td>\n      <td>Okaro White</td>\n      <td>13.3</td>\n      <td>2.666667</td>\n      <td>13.333333</td>\n      <td>0.2</td>\n      <td>0.080001</td>\n      <td>167</td>\n      <td>0.015166</td>\n      <td>0.025560</td>\n    </tr>\n    <tr>\n      <th>179</th>\n      <td>2017</td>\n      <td>Michael Beasley</td>\n      <td>16.7</td>\n      <td>7.250000</td>\n      <td>16.696429</td>\n      <td>1.8</td>\n      <td>0.622438</td>\n      <td>1991</td>\n      <td>0.014848</td>\n      <td>0.050863</td>\n    </tr>\n    <tr>\n      <th>158</th>\n      <td>2017</td>\n      <td>Tony Allen</td>\n      <td>27.0</td>\n      <td>8.380282</td>\n      <td>26.957746</td>\n      <td>3.1</td>\n      <td>2.920640</td>\n      <td>3722</td>\n      <td>0.014848</td>\n      <td>0.049840</td>\n    </tr>\n    <tr>\n      <th>3</th>\n      <td>2016</td>\n      <td>DeMar DeRozan</td>\n      <td>35.9</td>\n      <td>17.653846</td>\n      <td>35.948718</td>\n      <td>9.9</td>\n      <td>6.367356</td>\n      <td>6934</td>\n      <td>0.281913</td>\n      <td>0.285626</td>\n    </tr>\n    <tr>\n      <th>134</th>\n      <td>2017</td>\n      <td>Serge Ibaka</td>\n      <td>30.7</td>\n      <td>12.553571</td>\n      <td>30.535714</td>\n      <td>5.1</td>\n      <td>4.227561</td>\n      <td>5458</td>\n      <td>0.202454</td>\n      <td>0.174669</td>\n    </tr>\n    <tr>\n      <th>220</th>\n      <td>2018</td>\n      <td>Julius Randle</td>\n      <td>26.7</td>\n      <td>11.024390</td>\n      <td>26.707317</td>\n      <td>6.6</td>\n      <td>3.050279</td>\n      <td>4622</td>\n      <td>0.084825</td>\n      <td>0.125227</td>\n    </tr>\n    <tr>\n      <th>366</th>\n      <td>2019</td>\n      <td>Trey Lyles</td>\n      <td>17.5</td>\n      <td>7.734375</td>\n      <td>17.500000</td>\n      <td>1.2</td>\n      <td>1.182404</td>\n      <td>2370</td>\n      <td>0.050394</td>\n      <td>0.019039</td>\n    </tr>\n    <tr>\n      <th>101</th>\n      <td>2016</td>\n      <td>Aaron Brooks</td>\n      <td>16.1</td>\n      <td>6.797101</td>\n      <td>16.057971</td>\n      <td>0.9</td>\n      <td>0.507429</td>\n      <td>2256</td>\n      <td>0.028680</td>\n      <td>0.037909</td>\n    </tr>\n    <tr>\n      <th>327</th>\n      <td>2019</td>\n      <td>Tyus Jones</td>\n      <td>22.9</td>\n      <td>6.558824</td>\n      <td>22.941176</td>\n      <td>3.0</td>\n      <td>3.210259</td>\n      <td>3329</td>\n      <td>0.077039</td>\n      <td>0.034284</td>\n    </tr>\n    <tr>\n      <th>8</th>\n      <td>2016</td>\n      <td>Dirk Nowitzki</td>\n      <td>31.5</td>\n      <td>14.826667</td>\n      <td>31.520000</td>\n      <td>6.8</td>\n      <td>7.452673</td>\n      <td>5095</td>\n      <td>0.265553</td>\n      <td>0.253549</td>\n    </tr>\n    <tr>\n      <th>203</th>\n      <td>2017</td>\n      <td>Aaron Brooks</td>\n      <td>13.8</td>\n      <td>4.615385</td>\n      <td>13.753846</td>\n      <td>0.3</td>\n      <td>-0.158780</td>\n      <td>1819</td>\n      <td>0.014848</td>\n      <td>0.018091</td>\n    </tr>\n    <tr>\n      <th>208</th>\n      <td>2017</td>\n      <td>Bobby Brown</td>\n      <td>4.9</td>\n      <td>2.400000</td>\n      <td>4.920000</td>\n      <td>0.1</td>\n      <td>0.038639</td>\n      <td>317</td>\n      <td>0.012414</td>\n      <td>0.019275</td>\n    </tr>\n    <tr>\n      <th>341</th>\n      <td>2019</td>\n      <td>Joakim Noah</td>\n      <td>16.5</td>\n      <td>5.071429</td>\n      <td>16.500000</td>\n      <td>2.2</td>\n      <td>1.835171</td>\n      <td>1450</td>\n      <td>0.058930</td>\n      <td>0.049200</td>\n    </tr>\n    <tr>\n      <th>247</th>\n      <td>2018</td>\n      <td>Aaron Gordon</td>\n      <td>32.9</td>\n      <td>14.913793</td>\n      <td>32.913793</td>\n      <td>2.9</td>\n      <td>4.144279</td>\n      <td>3994</td>\n      <td>0.206147</td>\n      <td>0.201939</td>\n    </tr>\n    <tr>\n      <th>338</th>\n      <td>2019</td>\n      <td>Mike Muscala</td>\n      <td>20.4</td>\n      <td>5.914894</td>\n      <td>22.148936</td>\n      <td>2.5</td>\n      <td>1.048672</td>\n      <td>2858</td>\n      <td>0.018587</td>\n      <td>0.033575</td>\n    </tr>\n    <tr>\n      <th>6</th>\n      <td>2016</td>\n      <td>Andre Drummond</td>\n      <td>32.9</td>\n      <td>13.086420</td>\n      <td>32.913580</td>\n      <td>7.4</td>\n      <td>11.192345</td>\n      <td>5575</td>\n      <td>0.234927</td>\n      <td>0.205285</td>\n    </tr>\n    <tr>\n      <th>174</th>\n      <td>2017</td>\n      <td>Alan Williams</td>\n      <td>15.1</td>\n      <td>5.680851</td>\n      <td>15.063830</td>\n      <td>2.1</td>\n      <td>1.968842</td>\n      <td>1517</td>\n      <td>0.060549</td>\n      <td>0.049116</td>\n    </tr>\n    <tr>\n      <th>240</th>\n      <td>2018</td>\n      <td>Rajon Rondo</td>\n      <td>26.2</td>\n      <td>7.600000</td>\n      <td>26.230769</td>\n      <td>3.6</td>\n      <td>2.092345</td>\n      <td>4341</td>\n      <td>0.088349</td>\n      <td>0.129301</td>\n    </tr>\n    <tr>\n      <th>29</th>\n      <td>2016</td>\n      <td>Ryan Anderson</td>\n      <td>30.4</td>\n      <td>14.075758</td>\n      <td>30.424242</td>\n      <td>3.9</td>\n      <td>3.032152</td>\n      <td>4154</td>\n      <td>0.199010</td>\n      <td>0.166530</td>\n    </tr>\n    <tr>\n      <th>130</th>\n      <td>2017</td>\n      <td>Mason Plumlee</td>\n      <td>26.5</td>\n      <td>8.185185</td>\n      <td>28.074074</td>\n      <td>6.0</td>\n      <td>6.096758</td>\n      <td>4392</td>\n      <td>0.141696</td>\n      <td>0.086972</td>\n    </tr>\n    <tr>\n      <th>148</th>\n      <td>2017</td>\n      <td>Jrue Holiday</td>\n      <td>32.7</td>\n      <td>13.328358</td>\n      <td>32.686567</td>\n      <td>3.8</td>\n      <td>4.714773</td>\n      <td>4533</td>\n      <td>0.259218</td>\n      <td>0.184887</td>\n    </tr>\n    <tr>\n      <th>287</th>\n      <td>2019</td>\n      <td>Jimmy Butler</td>\n      <td>33.6</td>\n      <td>15.700000</td>\n      <td>36.100000</td>\n      <td>7.9</td>\n      <td>6.199849</td>\n      <td>5528</td>\n      <td>0.300000</td>\n      <td>0.204946</td>\n    </tr>\n    <tr>\n      <th>343</th>\n      <td>2019</td>\n      <td>Tyson Chandler</td>\n      <td>15.9</td>\n      <td>1.714286</td>\n      <td>12.714286</td>\n      <td>2.1</td>\n      <td>0.745843</td>\n      <td>1919</td>\n      <td>0.023500</td>\n      <td>0.080675</td>\n    </tr>\n    <tr>\n      <th>215</th>\n      <td>2018</td>\n      <td>Chris Paul</td>\n      <td>31.8</td>\n      <td>13.758621</td>\n      <td>31.844828</td>\n      <td>10.2</td>\n      <td>9.189805</td>\n      <td>4854</td>\n      <td>0.350000</td>\n      <td>0.233634</td>\n    </tr>\n    <tr>\n      <th>85</th>\n      <td>2016</td>\n      <td>Brandon Jennings</td>\n      <td>18.1</td>\n      <td>6.217391</td>\n      <td>18.086957</td>\n      <td>1.5</td>\n      <td>1.921673</td>\n      <td>1809</td>\n      <td>0.051383</td>\n      <td>0.031211</td>\n    </tr>\n    <tr>\n      <th>334</th>\n      <td>2019</td>\n      <td>Wesley Matthews</td>\n      <td>30.3</td>\n      <td>10.659091</td>\n      <td>29.818182</td>\n      <td>2.7</td>\n      <td>1.695761</td>\n      <td>4623</td>\n      <td>0.023500</td>\n      <td>0.102776</td>\n    </tr>\n    <tr>\n      <th>260</th>\n      <td>2018</td>\n      <td>Omri Casspi</td>\n      <td>14.0</td>\n      <td>3.905660</td>\n      <td>13.962264</td>\n      <td>2.2</td>\n      <td>0.984506</td>\n      <td>1573</td>\n      <td>0.020781</td>\n      <td>0.029279</td>\n    </tr>\n    <tr>\n      <th>253</th>\n      <td>2018</td>\n      <td>Salah Mejri</td>\n      <td>12.0</td>\n      <td>2.245902</td>\n      <td>11.950820</td>\n      <td>2.7</td>\n      <td>2.065030</td>\n      <td>1471</td>\n      <td>0.015383</td>\n      <td>0.020998</td>\n    </tr>\n    <tr>\n      <th>337</th>\n      <td>2019</td>\n      <td>Trevor Ariza</td>\n      <td>34.0</td>\n      <td>8.730769</td>\n      <td>34.000000</td>\n      <td>2.5</td>\n      <td>1.270101</td>\n      <td>4978</td>\n      <td>0.111783</td>\n      <td>0.103346</td>\n    </tr>\n    <tr>\n      <th>213</th>\n      <td>2018</td>\n      <td>LeBron James</td>\n      <td>36.9</td>\n      <td>19.268293</td>\n      <td>36.902439</td>\n      <td>14.0</td>\n      <td>13.272992</td>\n      <td>8026</td>\n      <td>0.350000</td>\n      <td>0.313538</td>\n    </tr>\n    <tr>\n      <th>201</th>\n      <td>2017</td>\n      <td>Ben McLemore</td>\n      <td>19.3</td>\n      <td>6.868852</td>\n      <td>19.278689</td>\n      <td>0.4</td>\n      <td>0.297211</td>\n      <td>2374</td>\n      <td>0.052476</td>\n      <td>0.025093</td>\n    </tr>\n    <tr>\n      <th>156</th>\n      <td>2017</td>\n      <td>Zach Randolph</td>\n      <td>24.5</td>\n      <td>13.205479</td>\n      <td>24.465753</td>\n      <td>3.2</td>\n      <td>2.474544</td>\n      <td>3814</td>\n      <td>0.124203</td>\n      <td>0.091119</td>\n    </tr>\n    <tr>\n      <th>57</th>\n      <td>2016</td>\n      <td>Wesley Johnson</td>\n      <td>20.8</td>\n      <td>6.437500</td>\n      <td>20.825000</td>\n      <td>2.6</td>\n      <td>2.323851</td>\n      <td>3616</td>\n      <td>0.059781</td>\n      <td>0.055770</td>\n    </tr>\n    <tr>\n      <th>189</th>\n      <td>2017</td>\n      <td>Reggie Bullock</td>\n      <td>15.1</td>\n      <td>4.129032</td>\n      <td>15.064516</td>\n      <td>1.0</td>\n      <td>0.732975</td>\n      <td>950</td>\n      <td>0.025229</td>\n      <td>0.030499</td>\n    </tr>\n    <tr>\n      <th>311</th>\n      <td>2019</td>\n      <td>Terrence Ross</td>\n      <td>26.5</td>\n      <td>12.679012</td>\n      <td>26.543210</td>\n      <td>4.3</td>\n      <td>1.594962</td>\n      <td>4766</td>\n      <td>0.114532</td>\n      <td>0.146361</td>\n    </tr>\n    <tr>\n      <th>368</th>\n      <td>2019</td>\n      <td>Anthony Tolliver</td>\n      <td>16.6</td>\n      <td>3.984615</td>\n      <td>16.600000</td>\n      <td>1.2</td>\n      <td>0.759132</td>\n      <td>2306</td>\n      <td>0.022172</td>\n      <td>0.017596</td>\n    </tr>\n    <tr>\n      <th>43</th>\n      <td>2016</td>\n      <td>Dwight Powell</td>\n      <td>14.4</td>\n      <td>4.289855</td>\n      <td>14.376812</td>\n      <td>3.1</td>\n      <td>1.189560</td>\n      <td>2173</td>\n      <td>0.088960</td>\n      <td>0.036075</td>\n    </tr>\n    <tr>\n      <th>40</th>\n      <td>2016</td>\n      <td>Langston Galloway</td>\n      <td>24.8</td>\n      <td>7.170732</td>\n      <td>24.792683</td>\n      <td>3.3</td>\n      <td>1.434784</td>\n      <td>4082</td>\n      <td>0.055235</td>\n      <td>0.043080</td>\n    </tr>\n    <tr>\n      <th>63</th>\n      <td>2016</td>\n      <td>Meyers Leonard</td>\n      <td>21.9</td>\n      <td>7.131148</td>\n      <td>21.852459</td>\n      <td>2.2</td>\n      <td>0.866824</td>\n      <td>2702</td>\n      <td>0.097867</td>\n      <td>0.037408</td>\n    </tr>\n    <tr>\n      <th>94</th>\n      <td>2016</td>\n      <td>Ish Smith</td>\n      <td>29.1</td>\n      <td>8.444444</td>\n      <td>22.851852</td>\n      <td>1.3</td>\n      <td>4.108775</td>\n      <td>4636</td>\n      <td>0.063733</td>\n      <td>0.056955</td>\n    </tr>\n    <tr>\n      <th>188</th>\n      <td>2017</td>\n      <td>Jodie Meeks</td>\n      <td>20.5</td>\n      <td>7.111111</td>\n      <td>20.500000</td>\n      <td>1.1</td>\n      <td>0.685160</td>\n      <td>1525</td>\n      <td>0.033201</td>\n      <td>0.056769</td>\n    </tr>\n    <tr>\n      <th>126</th>\n      <td>2017</td>\n      <td>Andre Iguodala</td>\n      <td>26.3</td>\n      <td>5.460526</td>\n      <td>26.289474</td>\n      <td>6.9</td>\n      <td>5.790783</td>\n      <td>5120</td>\n      <td>0.149504</td>\n      <td>0.112304</td>\n    </tr>\n    <tr>\n      <th>361</th>\n      <td>2019</td>\n      <td>Luke Kornet</td>\n      <td>17.0</td>\n      <td>6.152174</td>\n      <td>17.043478</td>\n      <td>1.4</td>\n      <td>1.683549</td>\n      <td>1665</td>\n      <td>0.020113</td>\n      <td>0.046520</td>\n    </tr>\n    <tr>\n      <th>12</th>\n      <td>2016</td>\n      <td>Zaza Pachulia</td>\n      <td>26.4</td>\n      <td>6.184211</td>\n      <td>26.368421</td>\n      <td>6.0</td>\n      <td>3.256223</td>\n      <td>4153</td>\n      <td>0.030783</td>\n      <td>0.129198</td>\n    </tr>\n  </tbody>\n</table>\n</div>"
     },
     "metadata": {},
     "execution_count": 179
    }
   ],
   "source": [
    "results"
   ]
  }
 ],
 "metadata": {
  "kernelspec": {
   "name": "python382jvsc74a57bd0f6e5de00158004fca4bed140e7e3786d910834eb74025be550c3cf8f536996b9",
   "display_name": "Python 3.8.2 64-bit ('nba-model': conda)"
  },
  "language_info": {
   "codemirror_mode": {
    "name": "ipython",
    "version": 3
   },
   "file_extension": ".py",
   "mimetype": "text/x-python",
   "name": "python",
   "nbconvert_exporter": "python",
   "pygments_lexer": "ipython3",
   "version": "3.8.2"
  },
  "metadata": {
   "interpreter": {
    "hash": "f6e5de00158004fca4bed140e7e3786d910834eb74025be550c3cf8f536996b9"
   }
  }
 },
 "nbformat": 4,
 "nbformat_minor": 4
}