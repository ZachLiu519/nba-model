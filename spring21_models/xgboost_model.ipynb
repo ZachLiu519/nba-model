{
 "cells": [
  {
   "cell_type": "code",
   "execution_count": 1,
   "metadata": {},
   "outputs": [],
   "source": [
    "import pandas as pd\n",
    "import numpy as np\n",
    "import sklearn\n",
    "from sklearn.model_selection import train_test_split\n",
    "from sklearn.preprocessing import StandardScaler\n",
    "from xgboost import XGBRegressor\n",
    "import smogn\n",
    "import seaborn as sns"
   ]
  },
  {
   "cell_type": "code",
   "execution_count": 3,
   "metadata": {},
   "outputs": [],
   "source": [
    "seed = 8"
   ]
  },
  {
   "cell_type": "code",
   "execution_count": 12,
   "metadata": {},
   "outputs": [],
   "source": [
    "from sklearn.metrics import mean_squared_error, r2_score, explained_variance_score, mean_squared_log_error\n",
    "def evaluate(y_pred, y_test):\n",
    "    \"\"\" Prints out the evaluation metrics of the experiment\n",
    "        parameters:\n",
    "            y_pred\n",
    "                DataFrame or array-like, the predictions\n",
    "            y_test\n",
    "                DataFrame or array-like, the actual y-values\n",
    "                \n",
    "            these two parameters must have the same dimensions\n",
    "    \"\"\"\n",
    "    print(\"r^2: \", r2_score(y_test, y_pred))\n",
    "    print(\"mse: \", mean_squared_error(y_test, y_pred))\n",
    "    print(\"variance_score: \", explained_variance_score(y_test, y_pred))\n",
    "    print(\"mse-log: \", mean_squared_log_error(y_test, y_pred))"
   ]
  },
  {
   "cell_type": "code",
   "execution_count": 13,
   "metadata": {},
   "outputs": [],
   "source": [
    "def run(model, model_name, x_train, x_val):\n",
    "    \"\"\" Fits the model and prints out results from calling evaluate on the training and validation set\n",
    "        parameters:\n",
    "            model\n",
    "                the unfitted model, from sklearn (has to have a fit and predict method)\n",
    "            model_name\n",
    "                String, the name of the model\n",
    "            x_train\n",
    "                DataFrame, the training set\n",
    "            x_val\n",
    "                DataFrame, the validation set\n",
    "                \n",
    "        returns:\n",
    "            nothing\n",
    "        \n",
    "    \"\"\"\n",
    "    model = model.fit(x_train, y_train)\n",
    "    y_pred = np.clip(model.predict(x_train), 0, 1000) # since negative results are meaningless\n",
    "    \n",
    "    print(\"[{0}] These are the results for the training set.\".format(model_name))\n",
    "    \n",
    "    evaluate(y_pred, y_train)\n",
    "    print(\"--------------------------------------\")\n",
    "    \n",
    "    print(\"[{0}] These are the results for the validation set.\".format(model_name))\n",
    "    y_pred = np.clip(model.predict(x_val), 0, 1000) # since negative results are meaningless\n",
    "    \n",
    "    evaluate(y_pred, y_val)\n",
    "    \n",
    "    print(\"_____________________________________________\")"
   ]
  },
  {
   "cell_type": "code",
   "execution_count": 247,
   "metadata": {},
   "outputs": [
    {
     "output_type": "stream",
     "name": "stderr",
     "text": [
      "dist_matrix: 100%|##########| 30/30 [00:00<00:00, 40.72it/s]\n",
      "synth_matrix: 100%|##########| 30/30 [00:00<00:00, 34.33it/s]\n",
      "dist_matrix: 100%|##########| 75/75 [00:04<00:00, 16.20it/s]\n",
      "synth_matrix: 100%|##########| 75/75 [00:00<00:00, 143.82it/s]\n",
      "dist_matrix: 100%|##########| 139/139 [00:15<00:00,  8.79it/s]\n",
      "r_index: 100%|##########| 27/27 [00:00<00:00, 299.72it/s]\n"
     ]
    }
   ],
   "source": [
    "df = pd.read_excel(\"../spring21_data/fa_stats_v3.xlsx\")\n",
    "df = df[df['poss'] >= 500]\n",
    "injury = pd.read_excel(\"../spring21_data/season_ending_injury.xlsx\")\n",
    "injury_fa = df.merge(right=injury, how='inner', left_on=['clean_season', 'Player'], right_on=['clean_season', 'Player']).rename(columns={'Unnamed: 0': 'index'})\n",
    "df = df[~df['Unnamed: 0'].isin(injury_fa['index'])]\n",
    "df = df.select_dtypes(exclude=['object'])\n",
    "df.drop(columns=[\"Unnamed: 0\", \"Minutes\", \"salary\", \"clean_season\", \"age\", \"end season_y\", \"season_end\"], inplace=True)\n",
    "\n",
    "X = df.drop(columns=[\"cap_space_usage\"])\n",
    "y = df[\"cap_space_usage\"]\n",
    "\n",
    "X_train, X_test, y_train, y_test = train_test_split(X, y, test_size=0.15, random_state=seed)\n",
    "both = pd.concat([X_train, y_train], axis=1).reset_index().drop(columns=[\"index\"])\n",
    "smote_data_high = smogn.smoter(data = both,\n",
    "                           y = 'cap_space_usage',\n",
    "                           rel_xtrm_type = 'high',\n",
    "                           rel_thres = 0.85,\n",
    "                           k = 11,\n",
    "                           drop_na_col = True,       ## boolean (True or False)\n",
    "                           drop_na_row = True,\n",
    "                           samp_method = 'balance')\n",
    "smote_data_mid = smogn.smoter(data = both,\n",
    "                           y = 'cap_space_usage',\n",
    "                           rel_xtrm_type = 'both',\n",
    "                           rel_thres = 0.25,\n",
    "                           k = 11,\n",
    "                           drop_na_col = True,       ## boolean (True or False)\n",
    "                           drop_na_row = True,\n",
    "                           samp_method = 'extreme')\n",
    "smote_data_low = smogn.smoter(data = both,\n",
    "                           y = 'cap_space_usage',\n",
    "                           rel_xtrm_type = 'both',\n",
    "                           rel_thres = 0.001,\n",
    "                           k = 11,\n",
    "                           drop_na_col = True,       ## boolean (True or False)\n",
    "                           drop_na_row = True,\n",
    "                           samp_method = 'extreme')\n",
    "smote_data = pd.concat([smote_data_high, smote_data_mid, smote_data_low], ignore_index=True).drop_duplicates()\n",
    "sm = smote_data.sample(frac=1) ## make sure to shuffle the rows otherwise the cross validation will be scuffed\n",
    "y = sm[['cap_space_usage']]\n",
    "X = sm.drop(columns=['cap_space_usage'])"
   ]
  },
  {
   "cell_type": "code",
   "execution_count": 248,
   "metadata": {},
   "outputs": [
    {
     "output_type": "execute_result",
     "data": {
      "text/plain": [
       "<seaborn.axisgrid.FacetGrid at 0x2b58cfe4190>"
      ]
     },
     "metadata": {},
     "execution_count": 248
    },
    {
     "output_type": "display_data",
     "data": {
      "text/plain": "<Figure size 483.375x360 with 1 Axes>",
      "image/svg+xml": "<?xml version=\"1.0\" encoding=\"utf-8\" standalone=\"no\"?>\r\n<!DOCTYPE svg PUBLIC \"-//W3C//DTD SVG 1.1//EN\"\r\n  \"http://www.w3.org/Graphics/SVG/1.1/DTD/svg11.dtd\">\r\n<!-- Created with matplotlib (https://matplotlib.org/) -->\r\n<svg height=\"352.478125pt\" version=\"1.1\" viewBox=\"0 0 481.615625 352.478125\" width=\"481.615625pt\" xmlns=\"http://www.w3.org/2000/svg\" xmlns:xlink=\"http://www.w3.org/1999/xlink\">\r\n <metadata>\r\n  <rdf:RDF xmlns:cc=\"http://creativecommons.org/ns#\" xmlns:dc=\"http://purl.org/dc/elements/1.1/\" xmlns:rdf=\"http://www.w3.org/1999/02/22-rdf-syntax-ns#\">\r\n   <cc:Work>\r\n    <dc:type rdf:resource=\"http://purl.org/dc/dcmitype/StillImage\"/>\r\n    <dc:date>2021-05-28T17:17:58.565787</dc:date>\r\n    <dc:format>image/svg+xml</dc:format>\r\n    <dc:creator>\r\n     <cc:Agent>\r\n      <dc:title>Matplotlib v3.3.4, https://matplotlib.org/</dc:title>\r\n     </cc:Agent>\r\n    </dc:creator>\r\n   </cc:Work>\r\n  </rdf:RDF>\r\n </metadata>\r\n <defs>\r\n  <style type=\"text/css\">*{stroke-linecap:butt;stroke-linejoin:round;}</style>\r\n </defs>\r\n <g id=\"figure_1\">\r\n  <g id=\"patch_1\">\r\n   <path d=\"M 0 352.478125 \r\nL 481.615625 352.478125 \r\nL 481.615625 0 \r\nL 0 0 \r\nz\r\n\" style=\"fill:none;\"/>\r\n  </g>\r\n  <g id=\"axes_1\">\r\n   <g id=\"patch_2\">\r\n    <path d=\"M 46.965625 328.6 \r\nL 340.406875 328.6 \r\nL 340.406875 7.2 \r\nL 46.965625 7.2 \r\nz\r\n\" style=\"fill:#ffffff;\"/>\r\n   </g>\r\n   <g id=\"patch_3\">\r\n    <path clip-path=\"url(#p4c38ab4572)\" d=\"M 60.303864 328.6 \r\nL 80.824231 328.6 \r\nL 80.824231 22.504762 \r\nL 60.303864 22.504762 \r\nz\r\n\" style=\"fill:#1f77b4;fill-opacity:0.75;stroke:#000000;stroke-linejoin:miter;\"/>\r\n   </g>\r\n   <g id=\"patch_4\">\r\n    <path clip-path=\"url(#p4c38ab4572)\" d=\"M 80.824231 328.6 \r\nL 101.344598 328.6 \r\nL 101.344598 110.801465 \r\nL 80.824231 110.801465 \r\nz\r\n\" style=\"fill:#1f77b4;fill-opacity:0.75;stroke:#000000;stroke-linejoin:miter;\"/>\r\n   </g>\r\n   <g id=\"patch_5\">\r\n    <path clip-path=\"url(#p4c38ab4572)\" d=\"M 101.344598 328.6 \r\nL 121.864965 328.6 \r\nL 121.864965 163.779487 \r\nL 101.344598 163.779487 \r\nz\r\n\" style=\"fill:#1f77b4;fill-opacity:0.75;stroke:#000000;stroke-linejoin:miter;\"/>\r\n   </g>\r\n   <g id=\"patch_6\">\r\n    <path clip-path=\"url(#p4c38ab4572)\" d=\"M 121.864965 328.6 \r\nL 142.385332 328.6 \r\nL 142.385332 113.744689 \r\nL 121.864965 113.744689 \r\nz\r\n\" style=\"fill:#1f77b4;fill-opacity:0.75;stroke:#000000;stroke-linejoin:miter;\"/>\r\n   </g>\r\n   <g id=\"patch_7\">\r\n    <path clip-path=\"url(#p4c38ab4572)\" d=\"M 142.385332 328.6 \r\nL 162.905699 328.6 \r\nL 162.905699 128.460806 \r\nL 142.385332 128.460806 \r\nz\r\n\" style=\"fill:#1f77b4;fill-opacity:0.75;stroke:#000000;stroke-linejoin:miter;\"/>\r\n   </g>\r\n   <g id=\"patch_8\">\r\n    <path clip-path=\"url(#p4c38ab4572)\" d=\"M 162.905699 328.6 \r\nL 183.426066 328.6 \r\nL 183.426066 134.347253 \r\nL 162.905699 134.347253 \r\nz\r\n\" style=\"fill:#1f77b4;fill-opacity:0.75;stroke:#000000;stroke-linejoin:miter;\"/>\r\n   </g>\r\n   <g id=\"patch_9\">\r\n    <path clip-path=\"url(#p4c38ab4572)\" d=\"M 183.426066 328.6 \r\nL 203.946434 328.6 \r\nL 203.946434 128.460806 \r\nL 183.426066 128.460806 \r\nz\r\n\" style=\"fill:#1f77b4;fill-opacity:0.75;stroke:#000000;stroke-linejoin:miter;\"/>\r\n   </g>\r\n   <g id=\"patch_10\">\r\n    <path clip-path=\"url(#p4c38ab4572)\" d=\"M 203.946434 328.6 \r\nL 224.466801 328.6 \r\nL 224.466801 196.154945 \r\nL 203.946434 196.154945 \r\nz\r\n\" style=\"fill:#1f77b4;fill-opacity:0.75;stroke:#000000;stroke-linejoin:miter;\"/>\r\n   </g>\r\n   <g id=\"patch_11\">\r\n    <path clip-path=\"url(#p4c38ab4572)\" d=\"M 224.466801 328.6 \r\nL 244.987168 328.6 \r\nL 244.987168 281.508425 \r\nL 224.466801 281.508425 \r\nz\r\n\" style=\"fill:#1f77b4;fill-opacity:0.75;stroke:#000000;stroke-linejoin:miter;\"/>\r\n   </g>\r\n   <g id=\"patch_12\">\r\n    <path clip-path=\"url(#p4c38ab4572)\" d=\"M 244.987168 328.6 \r\nL 265.507535 328.6 \r\nL 265.507535 328.6 \r\nL 244.987168 328.6 \r\nz\r\n\" style=\"fill:#1f77b4;fill-opacity:0.75;stroke:#000000;stroke-linejoin:miter;\"/>\r\n   </g>\r\n   <g id=\"patch_13\">\r\n    <path clip-path=\"url(#p4c38ab4572)\" d=\"M 265.507535 328.6 \r\nL 286.027902 328.6 \r\nL 286.027902 322.713553 \r\nL 265.507535 322.713553 \r\nz\r\n\" style=\"fill:#1f77b4;fill-opacity:0.75;stroke:#000000;stroke-linejoin:miter;\"/>\r\n   </g>\r\n   <g id=\"patch_14\">\r\n    <path clip-path=\"url(#p4c38ab4572)\" d=\"M 286.027902 328.6 \r\nL 306.548269 328.6 \r\nL 306.548269 325.656777 \r\nL 286.027902 325.656777 \r\nz\r\n\" style=\"fill:#1f77b4;fill-opacity:0.75;stroke:#000000;stroke-linejoin:miter;\"/>\r\n   </g>\r\n   <g id=\"patch_15\">\r\n    <path clip-path=\"url(#p4c38ab4572)\" d=\"M 306.548269 328.6 \r\nL 327.068636 328.6 \r\nL 327.068636 325.656777 \r\nL 306.548269 325.656777 \r\nz\r\n\" style=\"fill:#1f77b4;fill-opacity:0.75;stroke:#000000;stroke-linejoin:miter;\"/>\r\n   </g>\r\n   <g id=\"matplotlib.axis_1\">\r\n    <g id=\"xtick_1\">\r\n     <g id=\"line2d_1\">\r\n      <defs>\r\n       <path d=\"M 0 0 \r\nL 0 3.5 \r\n\" id=\"m6083a91001\" style=\"stroke:#000000;stroke-width:0.8;\"/>\r\n      </defs>\r\n      <g>\r\n       <use style=\"stroke:#000000;stroke-width:0.8;\" x=\"59.386864\" xlink:href=\"#m6083a91001\" y=\"328.6\"/>\r\n      </g>\r\n     </g>\r\n     <g id=\"text_1\">\r\n      <!-- 0.0 -->\r\n      <g transform=\"translate(51.435301 343.198437)scale(0.1 -0.1)\">\r\n       <defs>\r\n        <path d=\"M 31.78125 66.40625 \r\nQ 24.171875 66.40625 20.328125 58.90625 \r\nQ 16.5 51.421875 16.5 36.375 \r\nQ 16.5 21.390625 20.328125 13.890625 \r\nQ 24.171875 6.390625 31.78125 6.390625 \r\nQ 39.453125 6.390625 43.28125 13.890625 \r\nQ 47.125 21.390625 47.125 36.375 \r\nQ 47.125 51.421875 43.28125 58.90625 \r\nQ 39.453125 66.40625 31.78125 66.40625 \r\nz\r\nM 31.78125 74.21875 \r\nQ 44.046875 74.21875 50.515625 64.515625 \r\nQ 56.984375 54.828125 56.984375 36.375 \r\nQ 56.984375 17.96875 50.515625 8.265625 \r\nQ 44.046875 -1.421875 31.78125 -1.421875 \r\nQ 19.53125 -1.421875 13.0625 8.265625 \r\nQ 6.59375 17.96875 6.59375 36.375 \r\nQ 6.59375 54.828125 13.0625 64.515625 \r\nQ 19.53125 74.21875 31.78125 74.21875 \r\nz\r\n\" id=\"DejaVuSans-48\"/>\r\n        <path d=\"M 10.6875 12.40625 \r\nL 21 12.40625 \r\nL 21 0 \r\nL 10.6875 0 \r\nz\r\n\" id=\"DejaVuSans-46\"/>\r\n       </defs>\r\n       <use xlink:href=\"#DejaVuSans-48\"/>\r\n       <use x=\"63.623047\" xlink:href=\"#DejaVuSans-46\"/>\r\n       <use x=\"95.410156\" xlink:href=\"#DejaVuSans-48\"/>\r\n      </g>\r\n     </g>\r\n    </g>\r\n    <g id=\"xtick_2\">\r\n     <g id=\"line2d_2\">\r\n      <g>\r\n       <use style=\"stroke:#000000;stroke-width:0.8;\" x=\"110.373868\" xlink:href=\"#m6083a91001\" y=\"328.6\"/>\r\n      </g>\r\n     </g>\r\n     <g id=\"text_2\">\r\n      <!-- 0.1 -->\r\n      <g transform=\"translate(102.422306 343.198437)scale(0.1 -0.1)\">\r\n       <defs>\r\n        <path d=\"M 12.40625 8.296875 \r\nL 28.515625 8.296875 \r\nL 28.515625 63.921875 \r\nL 10.984375 60.40625 \r\nL 10.984375 69.390625 \r\nL 28.421875 72.90625 \r\nL 38.28125 72.90625 \r\nL 38.28125 8.296875 \r\nL 54.390625 8.296875 \r\nL 54.390625 0 \r\nL 12.40625 0 \r\nz\r\n\" id=\"DejaVuSans-49\"/>\r\n       </defs>\r\n       <use xlink:href=\"#DejaVuSans-48\"/>\r\n       <use x=\"63.623047\" xlink:href=\"#DejaVuSans-46\"/>\r\n       <use x=\"95.410156\" xlink:href=\"#DejaVuSans-49\"/>\r\n      </g>\r\n     </g>\r\n    </g>\r\n    <g id=\"xtick_3\">\r\n     <g id=\"line2d_3\">\r\n      <g>\r\n       <use style=\"stroke:#000000;stroke-width:0.8;\" x=\"161.360872\" xlink:href=\"#m6083a91001\" y=\"328.6\"/>\r\n      </g>\r\n     </g>\r\n     <g id=\"text_3\">\r\n      <!-- 0.2 -->\r\n      <g transform=\"translate(153.40931 343.198437)scale(0.1 -0.1)\">\r\n       <defs>\r\n        <path d=\"M 19.1875 8.296875 \r\nL 53.609375 8.296875 \r\nL 53.609375 0 \r\nL 7.328125 0 \r\nL 7.328125 8.296875 \r\nQ 12.9375 14.109375 22.625 23.890625 \r\nQ 32.328125 33.6875 34.8125 36.53125 \r\nQ 39.546875 41.84375 41.421875 45.53125 \r\nQ 43.3125 49.21875 43.3125 52.78125 \r\nQ 43.3125 58.59375 39.234375 62.25 \r\nQ 35.15625 65.921875 28.609375 65.921875 \r\nQ 23.96875 65.921875 18.8125 64.3125 \r\nQ 13.671875 62.703125 7.8125 59.421875 \r\nL 7.8125 69.390625 \r\nQ 13.765625 71.78125 18.9375 73 \r\nQ 24.125 74.21875 28.421875 74.21875 \r\nQ 39.75 74.21875 46.484375 68.546875 \r\nQ 53.21875 62.890625 53.21875 53.421875 \r\nQ 53.21875 48.921875 51.53125 44.890625 \r\nQ 49.859375 40.875 45.40625 35.40625 \r\nQ 44.1875 33.984375 37.640625 27.21875 \r\nQ 31.109375 20.453125 19.1875 8.296875 \r\nz\r\n\" id=\"DejaVuSans-50\"/>\r\n       </defs>\r\n       <use xlink:href=\"#DejaVuSans-48\"/>\r\n       <use x=\"63.623047\" xlink:href=\"#DejaVuSans-46\"/>\r\n       <use x=\"95.410156\" xlink:href=\"#DejaVuSans-50\"/>\r\n      </g>\r\n     </g>\r\n    </g>\r\n    <g id=\"xtick_4\">\r\n     <g id=\"line2d_4\">\r\n      <g>\r\n       <use style=\"stroke:#000000;stroke-width:0.8;\" x=\"212.347877\" xlink:href=\"#m6083a91001\" y=\"328.6\"/>\r\n      </g>\r\n     </g>\r\n     <g id=\"text_4\">\r\n      <!-- 0.3 -->\r\n      <g transform=\"translate(204.396314 343.198437)scale(0.1 -0.1)\">\r\n       <defs>\r\n        <path d=\"M 40.578125 39.3125 \r\nQ 47.65625 37.796875 51.625 33 \r\nQ 55.609375 28.21875 55.609375 21.1875 \r\nQ 55.609375 10.40625 48.1875 4.484375 \r\nQ 40.765625 -1.421875 27.09375 -1.421875 \r\nQ 22.515625 -1.421875 17.65625 -0.515625 \r\nQ 12.796875 0.390625 7.625 2.203125 \r\nL 7.625 11.71875 \r\nQ 11.71875 9.328125 16.59375 8.109375 \r\nQ 21.484375 6.890625 26.8125 6.890625 \r\nQ 36.078125 6.890625 40.9375 10.546875 \r\nQ 45.796875 14.203125 45.796875 21.1875 \r\nQ 45.796875 27.640625 41.28125 31.265625 \r\nQ 36.765625 34.90625 28.71875 34.90625 \r\nL 20.21875 34.90625 \r\nL 20.21875 43.015625 \r\nL 29.109375 43.015625 \r\nQ 36.375 43.015625 40.234375 45.921875 \r\nQ 44.09375 48.828125 44.09375 54.296875 \r\nQ 44.09375 59.90625 40.109375 62.90625 \r\nQ 36.140625 65.921875 28.71875 65.921875 \r\nQ 24.65625 65.921875 20.015625 65.03125 \r\nQ 15.375 64.15625 9.8125 62.3125 \r\nL 9.8125 71.09375 \r\nQ 15.4375 72.65625 20.34375 73.4375 \r\nQ 25.25 74.21875 29.59375 74.21875 \r\nQ 40.828125 74.21875 47.359375 69.109375 \r\nQ 53.90625 64.015625 53.90625 55.328125 \r\nQ 53.90625 49.265625 50.4375 45.09375 \r\nQ 46.96875 40.921875 40.578125 39.3125 \r\nz\r\n\" id=\"DejaVuSans-51\"/>\r\n       </defs>\r\n       <use xlink:href=\"#DejaVuSans-48\"/>\r\n       <use x=\"63.623047\" xlink:href=\"#DejaVuSans-46\"/>\r\n       <use x=\"95.410156\" xlink:href=\"#DejaVuSans-51\"/>\r\n      </g>\r\n     </g>\r\n    </g>\r\n    <g id=\"xtick_5\">\r\n     <g id=\"line2d_5\">\r\n      <g>\r\n       <use style=\"stroke:#000000;stroke-width:0.8;\" x=\"263.334881\" xlink:href=\"#m6083a91001\" y=\"328.6\"/>\r\n      </g>\r\n     </g>\r\n     <g id=\"text_5\">\r\n      <!-- 0.4 -->\r\n      <g transform=\"translate(255.383318 343.198437)scale(0.1 -0.1)\">\r\n       <defs>\r\n        <path d=\"M 37.796875 64.3125 \r\nL 12.890625 25.390625 \r\nL 37.796875 25.390625 \r\nz\r\nM 35.203125 72.90625 \r\nL 47.609375 72.90625 \r\nL 47.609375 25.390625 \r\nL 58.015625 25.390625 \r\nL 58.015625 17.1875 \r\nL 47.609375 17.1875 \r\nL 47.609375 0 \r\nL 37.796875 0 \r\nL 37.796875 17.1875 \r\nL 4.890625 17.1875 \r\nL 4.890625 26.703125 \r\nz\r\n\" id=\"DejaVuSans-52\"/>\r\n       </defs>\r\n       <use xlink:href=\"#DejaVuSans-48\"/>\r\n       <use x=\"63.623047\" xlink:href=\"#DejaVuSans-46\"/>\r\n       <use x=\"95.410156\" xlink:href=\"#DejaVuSans-52\"/>\r\n      </g>\r\n     </g>\r\n    </g>\r\n    <g id=\"xtick_6\">\r\n     <g id=\"line2d_6\">\r\n      <g>\r\n       <use style=\"stroke:#000000;stroke-width:0.8;\" x=\"314.321885\" xlink:href=\"#m6083a91001\" y=\"328.6\"/>\r\n      </g>\r\n     </g>\r\n     <g id=\"text_6\">\r\n      <!-- 0.5 -->\r\n      <g transform=\"translate(306.370323 343.198437)scale(0.1 -0.1)\">\r\n       <defs>\r\n        <path d=\"M 10.796875 72.90625 \r\nL 49.515625 72.90625 \r\nL 49.515625 64.59375 \r\nL 19.828125 64.59375 \r\nL 19.828125 46.734375 \r\nQ 21.96875 47.46875 24.109375 47.828125 \r\nQ 26.265625 48.1875 28.421875 48.1875 \r\nQ 40.625 48.1875 47.75 41.5 \r\nQ 54.890625 34.8125 54.890625 23.390625 \r\nQ 54.890625 11.625 47.5625 5.09375 \r\nQ 40.234375 -1.421875 26.90625 -1.421875 \r\nQ 22.3125 -1.421875 17.546875 -0.640625 \r\nQ 12.796875 0.140625 7.71875 1.703125 \r\nL 7.71875 11.625 \r\nQ 12.109375 9.234375 16.796875 8.0625 \r\nQ 21.484375 6.890625 26.703125 6.890625 \r\nQ 35.15625 6.890625 40.078125 11.328125 \r\nQ 45.015625 15.765625 45.015625 23.390625 \r\nQ 45.015625 31 40.078125 35.4375 \r\nQ 35.15625 39.890625 26.703125 39.890625 \r\nQ 22.75 39.890625 18.8125 39.015625 \r\nQ 14.890625 38.140625 10.796875 36.28125 \r\nz\r\n\" id=\"DejaVuSans-53\"/>\r\n       </defs>\r\n       <use xlink:href=\"#DejaVuSans-48\"/>\r\n       <use x=\"63.623047\" xlink:href=\"#DejaVuSans-46\"/>\r\n       <use x=\"95.410156\" xlink:href=\"#DejaVuSans-53\"/>\r\n      </g>\r\n     </g>\r\n    </g>\r\n   </g>\r\n   <g id=\"matplotlib.axis_2\">\r\n    <g id=\"ytick_1\">\r\n     <g id=\"line2d_7\">\r\n      <defs>\r\n       <path d=\"M 0 0 \r\nL -3.5 0 \r\n\" id=\"m03f69fedd3\" style=\"stroke:#000000;stroke-width:0.8;\"/>\r\n      </defs>\r\n      <g>\r\n       <use style=\"stroke:#000000;stroke-width:0.8;\" x=\"46.965625\" xlink:href=\"#m03f69fedd3\" y=\"328.6\"/>\r\n      </g>\r\n     </g>\r\n     <g id=\"text_7\">\r\n      <!-- 0 -->\r\n      <g transform=\"translate(33.603125 332.399219)scale(0.1 -0.1)\">\r\n       <use xlink:href=\"#DejaVuSans-48\"/>\r\n      </g>\r\n     </g>\r\n    </g>\r\n    <g id=\"ytick_2\">\r\n     <g id=\"line2d_8\">\r\n      <g>\r\n       <use style=\"stroke:#000000;stroke-width:0.8;\" x=\"46.965625\" xlink:href=\"#m03f69fedd3\" y=\"269.735531\"/>\r\n      </g>\r\n     </g>\r\n     <g id=\"text_8\">\r\n      <!-- 20 -->\r\n      <g transform=\"translate(27.240625 273.53475)scale(0.1 -0.1)\">\r\n       <use xlink:href=\"#DejaVuSans-50\"/>\r\n       <use x=\"63.623047\" xlink:href=\"#DejaVuSans-48\"/>\r\n      </g>\r\n     </g>\r\n    </g>\r\n    <g id=\"ytick_3\">\r\n     <g id=\"line2d_9\">\r\n      <g>\r\n       <use style=\"stroke:#000000;stroke-width:0.8;\" x=\"46.965625\" xlink:href=\"#m03f69fedd3\" y=\"210.871062\"/>\r\n      </g>\r\n     </g>\r\n     <g id=\"text_9\">\r\n      <!-- 40 -->\r\n      <g transform=\"translate(27.240625 214.670281)scale(0.1 -0.1)\">\r\n       <use xlink:href=\"#DejaVuSans-52\"/>\r\n       <use x=\"63.623047\" xlink:href=\"#DejaVuSans-48\"/>\r\n      </g>\r\n     </g>\r\n    </g>\r\n    <g id=\"ytick_4\">\r\n     <g id=\"line2d_10\">\r\n      <g>\r\n       <use style=\"stroke:#000000;stroke-width:0.8;\" x=\"46.965625\" xlink:href=\"#m03f69fedd3\" y=\"152.006593\"/>\r\n      </g>\r\n     </g>\r\n     <g id=\"text_10\">\r\n      <!-- 60 -->\r\n      <g transform=\"translate(27.240625 155.805812)scale(0.1 -0.1)\">\r\n       <defs>\r\n        <path d=\"M 33.015625 40.375 \r\nQ 26.375 40.375 22.484375 35.828125 \r\nQ 18.609375 31.296875 18.609375 23.390625 \r\nQ 18.609375 15.53125 22.484375 10.953125 \r\nQ 26.375 6.390625 33.015625 6.390625 \r\nQ 39.65625 6.390625 43.53125 10.953125 \r\nQ 47.40625 15.53125 47.40625 23.390625 \r\nQ 47.40625 31.296875 43.53125 35.828125 \r\nQ 39.65625 40.375 33.015625 40.375 \r\nz\r\nM 52.59375 71.296875 \r\nL 52.59375 62.3125 \r\nQ 48.875 64.0625 45.09375 64.984375 \r\nQ 41.3125 65.921875 37.59375 65.921875 \r\nQ 27.828125 65.921875 22.671875 59.328125 \r\nQ 17.53125 52.734375 16.796875 39.40625 \r\nQ 19.671875 43.65625 24.015625 45.921875 \r\nQ 28.375 48.1875 33.59375 48.1875 \r\nQ 44.578125 48.1875 50.953125 41.515625 \r\nQ 57.328125 34.859375 57.328125 23.390625 \r\nQ 57.328125 12.15625 50.6875 5.359375 \r\nQ 44.046875 -1.421875 33.015625 -1.421875 \r\nQ 20.359375 -1.421875 13.671875 8.265625 \r\nQ 6.984375 17.96875 6.984375 36.375 \r\nQ 6.984375 53.65625 15.1875 63.9375 \r\nQ 23.390625 74.21875 37.203125 74.21875 \r\nQ 40.921875 74.21875 44.703125 73.484375 \r\nQ 48.484375 72.75 52.59375 71.296875 \r\nz\r\n\" id=\"DejaVuSans-54\"/>\r\n       </defs>\r\n       <use xlink:href=\"#DejaVuSans-54\"/>\r\n       <use x=\"63.623047\" xlink:href=\"#DejaVuSans-48\"/>\r\n      </g>\r\n     </g>\r\n    </g>\r\n    <g id=\"ytick_5\">\r\n     <g id=\"line2d_11\">\r\n      <g>\r\n       <use style=\"stroke:#000000;stroke-width:0.8;\" x=\"46.965625\" xlink:href=\"#m03f69fedd3\" y=\"93.142125\"/>\r\n      </g>\r\n     </g>\r\n     <g id=\"text_11\">\r\n      <!-- 80 -->\r\n      <g transform=\"translate(27.240625 96.941343)scale(0.1 -0.1)\">\r\n       <defs>\r\n        <path d=\"M 31.78125 34.625 \r\nQ 24.75 34.625 20.71875 30.859375 \r\nQ 16.703125 27.09375 16.703125 20.515625 \r\nQ 16.703125 13.921875 20.71875 10.15625 \r\nQ 24.75 6.390625 31.78125 6.390625 \r\nQ 38.8125 6.390625 42.859375 10.171875 \r\nQ 46.921875 13.96875 46.921875 20.515625 \r\nQ 46.921875 27.09375 42.890625 30.859375 \r\nQ 38.875 34.625 31.78125 34.625 \r\nz\r\nM 21.921875 38.8125 \r\nQ 15.578125 40.375 12.03125 44.71875 \r\nQ 8.5 49.078125 8.5 55.328125 \r\nQ 8.5 64.0625 14.71875 69.140625 \r\nQ 20.953125 74.21875 31.78125 74.21875 \r\nQ 42.671875 74.21875 48.875 69.140625 \r\nQ 55.078125 64.0625 55.078125 55.328125 \r\nQ 55.078125 49.078125 51.53125 44.71875 \r\nQ 48 40.375 41.703125 38.8125 \r\nQ 48.828125 37.15625 52.796875 32.3125 \r\nQ 56.78125 27.484375 56.78125 20.515625 \r\nQ 56.78125 9.90625 50.3125 4.234375 \r\nQ 43.84375 -1.421875 31.78125 -1.421875 \r\nQ 19.734375 -1.421875 13.25 4.234375 \r\nQ 6.78125 9.90625 6.78125 20.515625 \r\nQ 6.78125 27.484375 10.78125 32.3125 \r\nQ 14.796875 37.15625 21.921875 38.8125 \r\nz\r\nM 18.3125 54.390625 \r\nQ 18.3125 48.734375 21.84375 45.5625 \r\nQ 25.390625 42.390625 31.78125 42.390625 \r\nQ 38.140625 42.390625 41.71875 45.5625 \r\nQ 45.3125 48.734375 45.3125 54.390625 \r\nQ 45.3125 60.0625 41.71875 63.234375 \r\nQ 38.140625 66.40625 31.78125 66.40625 \r\nQ 25.390625 66.40625 21.84375 63.234375 \r\nQ 18.3125 60.0625 18.3125 54.390625 \r\nz\r\n\" id=\"DejaVuSans-56\"/>\r\n       </defs>\r\n       <use xlink:href=\"#DejaVuSans-56\"/>\r\n       <use x=\"63.623047\" xlink:href=\"#DejaVuSans-48\"/>\r\n      </g>\r\n     </g>\r\n    </g>\r\n    <g id=\"ytick_6\">\r\n     <g id=\"line2d_12\">\r\n      <g>\r\n       <use style=\"stroke:#000000;stroke-width:0.8;\" x=\"46.965625\" xlink:href=\"#m03f69fedd3\" y=\"34.277656\"/>\r\n      </g>\r\n     </g>\r\n     <g id=\"text_12\">\r\n      <!-- 100 -->\r\n      <g transform=\"translate(20.878125 38.076874)scale(0.1 -0.1)\">\r\n       <use xlink:href=\"#DejaVuSans-49\"/>\r\n       <use x=\"63.623047\" xlink:href=\"#DejaVuSans-48\"/>\r\n       <use x=\"127.246094\" xlink:href=\"#DejaVuSans-48\"/>\r\n      </g>\r\n     </g>\r\n    </g>\r\n    <g id=\"text_13\">\r\n     <!-- Count -->\r\n     <g transform=\"translate(14.798438 182.748437)rotate(-90)scale(0.1 -0.1)\">\r\n      <defs>\r\n       <path d=\"M 64.40625 67.28125 \r\nL 64.40625 56.890625 \r\nQ 59.421875 61.53125 53.78125 63.8125 \r\nQ 48.140625 66.109375 41.796875 66.109375 \r\nQ 29.296875 66.109375 22.65625 58.46875 \r\nQ 16.015625 50.828125 16.015625 36.375 \r\nQ 16.015625 21.96875 22.65625 14.328125 \r\nQ 29.296875 6.6875 41.796875 6.6875 \r\nQ 48.140625 6.6875 53.78125 8.984375 \r\nQ 59.421875 11.28125 64.40625 15.921875 \r\nL 64.40625 5.609375 \r\nQ 59.234375 2.09375 53.4375 0.328125 \r\nQ 47.65625 -1.421875 41.21875 -1.421875 \r\nQ 24.65625 -1.421875 15.125 8.703125 \r\nQ 5.609375 18.84375 5.609375 36.375 \r\nQ 5.609375 53.953125 15.125 64.078125 \r\nQ 24.65625 74.21875 41.21875 74.21875 \r\nQ 47.75 74.21875 53.53125 72.484375 \r\nQ 59.328125 70.75 64.40625 67.28125 \r\nz\r\n\" id=\"DejaVuSans-67\"/>\r\n       <path d=\"M 30.609375 48.390625 \r\nQ 23.390625 48.390625 19.1875 42.75 \r\nQ 14.984375 37.109375 14.984375 27.296875 \r\nQ 14.984375 17.484375 19.15625 11.84375 \r\nQ 23.34375 6.203125 30.609375 6.203125 \r\nQ 37.796875 6.203125 41.984375 11.859375 \r\nQ 46.1875 17.53125 46.1875 27.296875 \r\nQ 46.1875 37.015625 41.984375 42.703125 \r\nQ 37.796875 48.390625 30.609375 48.390625 \r\nz\r\nM 30.609375 56 \r\nQ 42.328125 56 49.015625 48.375 \r\nQ 55.71875 40.765625 55.71875 27.296875 \r\nQ 55.71875 13.875 49.015625 6.21875 \r\nQ 42.328125 -1.421875 30.609375 -1.421875 \r\nQ 18.84375 -1.421875 12.171875 6.21875 \r\nQ 5.515625 13.875 5.515625 27.296875 \r\nQ 5.515625 40.765625 12.171875 48.375 \r\nQ 18.84375 56 30.609375 56 \r\nz\r\n\" id=\"DejaVuSans-111\"/>\r\n       <path d=\"M 8.5 21.578125 \r\nL 8.5 54.6875 \r\nL 17.484375 54.6875 \r\nL 17.484375 21.921875 \r\nQ 17.484375 14.15625 20.5 10.265625 \r\nQ 23.53125 6.390625 29.59375 6.390625 \r\nQ 36.859375 6.390625 41.078125 11.03125 \r\nQ 45.3125 15.671875 45.3125 23.6875 \r\nL 45.3125 54.6875 \r\nL 54.296875 54.6875 \r\nL 54.296875 0 \r\nL 45.3125 0 \r\nL 45.3125 8.40625 \r\nQ 42.046875 3.421875 37.71875 1 \r\nQ 33.40625 -1.421875 27.6875 -1.421875 \r\nQ 18.265625 -1.421875 13.375 4.4375 \r\nQ 8.5 10.296875 8.5 21.578125 \r\nz\r\nM 31.109375 56 \r\nz\r\n\" id=\"DejaVuSans-117\"/>\r\n       <path d=\"M 54.890625 33.015625 \r\nL 54.890625 0 \r\nL 45.90625 0 \r\nL 45.90625 32.71875 \r\nQ 45.90625 40.484375 42.875 44.328125 \r\nQ 39.84375 48.1875 33.796875 48.1875 \r\nQ 26.515625 48.1875 22.3125 43.546875 \r\nQ 18.109375 38.921875 18.109375 30.90625 \r\nL 18.109375 0 \r\nL 9.078125 0 \r\nL 9.078125 54.6875 \r\nL 18.109375 54.6875 \r\nL 18.109375 46.1875 \r\nQ 21.34375 51.125 25.703125 53.5625 \r\nQ 30.078125 56 35.796875 56 \r\nQ 45.21875 56 50.046875 50.171875 \r\nQ 54.890625 44.34375 54.890625 33.015625 \r\nz\r\n\" id=\"DejaVuSans-110\"/>\r\n       <path d=\"M 18.3125 70.21875 \r\nL 18.3125 54.6875 \r\nL 36.8125 54.6875 \r\nL 36.8125 47.703125 \r\nL 18.3125 47.703125 \r\nL 18.3125 18.015625 \r\nQ 18.3125 11.328125 20.140625 9.421875 \r\nQ 21.96875 7.515625 27.59375 7.515625 \r\nL 36.8125 7.515625 \r\nL 36.8125 0 \r\nL 27.59375 0 \r\nQ 17.1875 0 13.234375 3.875 \r\nQ 9.28125 7.765625 9.28125 18.015625 \r\nL 9.28125 47.703125 \r\nL 2.6875 47.703125 \r\nL 2.6875 54.6875 \r\nL 9.28125 54.6875 \r\nL 9.28125 70.21875 \r\nz\r\n\" id=\"DejaVuSans-116\"/>\r\n      </defs>\r\n      <use xlink:href=\"#DejaVuSans-67\"/>\r\n      <use x=\"69.824219\" xlink:href=\"#DejaVuSans-111\"/>\r\n      <use x=\"131.005859\" xlink:href=\"#DejaVuSans-117\"/>\r\n      <use x=\"194.384766\" xlink:href=\"#DejaVuSans-110\"/>\r\n      <use x=\"257.763672\" xlink:href=\"#DejaVuSans-116\"/>\r\n     </g>\r\n    </g>\r\n   </g>\r\n   <g id=\"patch_16\">\r\n    <path d=\"M 46.965625 328.6 \r\nL 46.965625 7.2 \r\n\" style=\"fill:none;stroke:#000000;stroke-linecap:square;stroke-linejoin:miter;stroke-width:0.8;\"/>\r\n   </g>\r\n   <g id=\"patch_17\">\r\n    <path d=\"M 46.965625 328.6 \r\nL 340.406875 328.6 \r\n\" style=\"fill:none;stroke:#000000;stroke-linecap:square;stroke-linejoin:miter;stroke-width:0.8;\"/>\r\n   </g>\r\n  </g>\r\n  <g id=\"legend_1\">\r\n   <g id=\"patch_18\">\r\n    <path d=\"M 357.126562 178.859375 \r\nL 377.126562 178.859375 \r\nL 377.126562 171.859375 \r\nL 357.126562 171.859375 \r\nz\r\n\" style=\"fill:#1f77b4;fill-opacity:0.75;stroke:#000000;stroke-linejoin:miter;\"/>\r\n   </g>\r\n   <g id=\"text_14\">\r\n    <!-- cap_space_usage -->\r\n    <g transform=\"translate(385.126562 178.859375)scale(0.1 -0.1)\">\r\n     <defs>\r\n      <path d=\"M 48.78125 52.59375 \r\nL 48.78125 44.1875 \r\nQ 44.96875 46.296875 41.140625 47.34375 \r\nQ 37.3125 48.390625 33.40625 48.390625 \r\nQ 24.65625 48.390625 19.8125 42.84375 \r\nQ 14.984375 37.3125 14.984375 27.296875 \r\nQ 14.984375 17.28125 19.8125 11.734375 \r\nQ 24.65625 6.203125 33.40625 6.203125 \r\nQ 37.3125 6.203125 41.140625 7.25 \r\nQ 44.96875 8.296875 48.78125 10.40625 \r\nL 48.78125 2.09375 \r\nQ 45.015625 0.34375 40.984375 -0.53125 \r\nQ 36.96875 -1.421875 32.421875 -1.421875 \r\nQ 20.0625 -1.421875 12.78125 6.34375 \r\nQ 5.515625 14.109375 5.515625 27.296875 \r\nQ 5.515625 40.671875 12.859375 48.328125 \r\nQ 20.21875 56 33.015625 56 \r\nQ 37.15625 56 41.109375 55.140625 \r\nQ 45.0625 54.296875 48.78125 52.59375 \r\nz\r\n\" id=\"DejaVuSans-99\"/>\r\n      <path d=\"M 34.28125 27.484375 \r\nQ 23.390625 27.484375 19.1875 25 \r\nQ 14.984375 22.515625 14.984375 16.5 \r\nQ 14.984375 11.71875 18.140625 8.90625 \r\nQ 21.296875 6.109375 26.703125 6.109375 \r\nQ 34.1875 6.109375 38.703125 11.40625 \r\nQ 43.21875 16.703125 43.21875 25.484375 \r\nL 43.21875 27.484375 \r\nz\r\nM 52.203125 31.203125 \r\nL 52.203125 0 \r\nL 43.21875 0 \r\nL 43.21875 8.296875 \r\nQ 40.140625 3.328125 35.546875 0.953125 \r\nQ 30.953125 -1.421875 24.3125 -1.421875 \r\nQ 15.921875 -1.421875 10.953125 3.296875 \r\nQ 6 8.015625 6 15.921875 \r\nQ 6 25.140625 12.171875 29.828125 \r\nQ 18.359375 34.515625 30.609375 34.515625 \r\nL 43.21875 34.515625 \r\nL 43.21875 35.40625 \r\nQ 43.21875 41.609375 39.140625 45 \r\nQ 35.0625 48.390625 27.6875 48.390625 \r\nQ 23 48.390625 18.546875 47.265625 \r\nQ 14.109375 46.140625 10.015625 43.890625 \r\nL 10.015625 52.203125 \r\nQ 14.9375 54.109375 19.578125 55.046875 \r\nQ 24.21875 56 28.609375 56 \r\nQ 40.484375 56 46.34375 49.84375 \r\nQ 52.203125 43.703125 52.203125 31.203125 \r\nz\r\n\" id=\"DejaVuSans-97\"/>\r\n      <path d=\"M 18.109375 8.203125 \r\nL 18.109375 -20.796875 \r\nL 9.078125 -20.796875 \r\nL 9.078125 54.6875 \r\nL 18.109375 54.6875 \r\nL 18.109375 46.390625 \r\nQ 20.953125 51.265625 25.265625 53.625 \r\nQ 29.59375 56 35.59375 56 \r\nQ 45.5625 56 51.78125 48.09375 \r\nQ 58.015625 40.1875 58.015625 27.296875 \r\nQ 58.015625 14.40625 51.78125 6.484375 \r\nQ 45.5625 -1.421875 35.59375 -1.421875 \r\nQ 29.59375 -1.421875 25.265625 0.953125 \r\nQ 20.953125 3.328125 18.109375 8.203125 \r\nz\r\nM 48.6875 27.296875 \r\nQ 48.6875 37.203125 44.609375 42.84375 \r\nQ 40.53125 48.484375 33.40625 48.484375 \r\nQ 26.265625 48.484375 22.1875 42.84375 \r\nQ 18.109375 37.203125 18.109375 27.296875 \r\nQ 18.109375 17.390625 22.1875 11.75 \r\nQ 26.265625 6.109375 33.40625 6.109375 \r\nQ 40.53125 6.109375 44.609375 11.75 \r\nQ 48.6875 17.390625 48.6875 27.296875 \r\nz\r\n\" id=\"DejaVuSans-112\"/>\r\n      <path d=\"M 50.984375 -16.609375 \r\nL 50.984375 -23.578125 \r\nL -0.984375 -23.578125 \r\nL -0.984375 -16.609375 \r\nz\r\n\" id=\"DejaVuSans-95\"/>\r\n      <path d=\"M 44.28125 53.078125 \r\nL 44.28125 44.578125 \r\nQ 40.484375 46.53125 36.375 47.5 \r\nQ 32.28125 48.484375 27.875 48.484375 \r\nQ 21.1875 48.484375 17.84375 46.4375 \r\nQ 14.5 44.390625 14.5 40.28125 \r\nQ 14.5 37.15625 16.890625 35.375 \r\nQ 19.28125 33.59375 26.515625 31.984375 \r\nL 29.59375 31.296875 \r\nQ 39.15625 29.25 43.1875 25.515625 \r\nQ 47.21875 21.78125 47.21875 15.09375 \r\nQ 47.21875 7.46875 41.1875 3.015625 \r\nQ 35.15625 -1.421875 24.609375 -1.421875 \r\nQ 20.21875 -1.421875 15.453125 -0.5625 \r\nQ 10.6875 0.296875 5.421875 2 \r\nL 5.421875 11.28125 \r\nQ 10.40625 8.6875 15.234375 7.390625 \r\nQ 20.0625 6.109375 24.8125 6.109375 \r\nQ 31.15625 6.109375 34.5625 8.28125 \r\nQ 37.984375 10.453125 37.984375 14.40625 \r\nQ 37.984375 18.0625 35.515625 20.015625 \r\nQ 33.0625 21.96875 24.703125 23.78125 \r\nL 21.578125 24.515625 \r\nQ 13.234375 26.265625 9.515625 29.90625 \r\nQ 5.8125 33.546875 5.8125 39.890625 \r\nQ 5.8125 47.609375 11.28125 51.796875 \r\nQ 16.75 56 26.8125 56 \r\nQ 31.78125 56 36.171875 55.265625 \r\nQ 40.578125 54.546875 44.28125 53.078125 \r\nz\r\n\" id=\"DejaVuSans-115\"/>\r\n      <path d=\"M 56.203125 29.59375 \r\nL 56.203125 25.203125 \r\nL 14.890625 25.203125 \r\nQ 15.484375 15.921875 20.484375 11.0625 \r\nQ 25.484375 6.203125 34.421875 6.203125 \r\nQ 39.59375 6.203125 44.453125 7.46875 \r\nQ 49.3125 8.734375 54.109375 11.28125 \r\nL 54.109375 2.78125 \r\nQ 49.265625 0.734375 44.1875 -0.34375 \r\nQ 39.109375 -1.421875 33.890625 -1.421875 \r\nQ 20.796875 -1.421875 13.15625 6.1875 \r\nQ 5.515625 13.8125 5.515625 26.8125 \r\nQ 5.515625 40.234375 12.765625 48.109375 \r\nQ 20.015625 56 32.328125 56 \r\nQ 43.359375 56 49.78125 48.890625 \r\nQ 56.203125 41.796875 56.203125 29.59375 \r\nz\r\nM 47.21875 32.234375 \r\nQ 47.125 39.59375 43.09375 43.984375 \r\nQ 39.0625 48.390625 32.421875 48.390625 \r\nQ 24.90625 48.390625 20.390625 44.140625 \r\nQ 15.875 39.890625 15.1875 32.171875 \r\nz\r\n\" id=\"DejaVuSans-101\"/>\r\n      <path d=\"M 45.40625 27.984375 \r\nQ 45.40625 37.75 41.375 43.109375 \r\nQ 37.359375 48.484375 30.078125 48.484375 \r\nQ 22.859375 48.484375 18.828125 43.109375 \r\nQ 14.796875 37.75 14.796875 27.984375 \r\nQ 14.796875 18.265625 18.828125 12.890625 \r\nQ 22.859375 7.515625 30.078125 7.515625 \r\nQ 37.359375 7.515625 41.375 12.890625 \r\nQ 45.40625 18.265625 45.40625 27.984375 \r\nz\r\nM 54.390625 6.78125 \r\nQ 54.390625 -7.171875 48.1875 -13.984375 \r\nQ 42 -20.796875 29.203125 -20.796875 \r\nQ 24.46875 -20.796875 20.265625 -20.09375 \r\nQ 16.0625 -19.390625 12.109375 -17.921875 \r\nL 12.109375 -9.1875 \r\nQ 16.0625 -11.328125 19.921875 -12.34375 \r\nQ 23.78125 -13.375 27.78125 -13.375 \r\nQ 36.625 -13.375 41.015625 -8.765625 \r\nQ 45.40625 -4.15625 45.40625 5.171875 \r\nL 45.40625 9.625 \r\nQ 42.625 4.78125 38.28125 2.390625 \r\nQ 33.9375 0 27.875 0 \r\nQ 17.828125 0 11.671875 7.65625 \r\nQ 5.515625 15.328125 5.515625 27.984375 \r\nQ 5.515625 40.671875 11.671875 48.328125 \r\nQ 17.828125 56 27.875 56 \r\nQ 33.9375 56 38.28125 53.609375 \r\nQ 42.625 51.21875 45.40625 46.390625 \r\nL 45.40625 54.6875 \r\nL 54.390625 54.6875 \r\nz\r\n\" id=\"DejaVuSans-103\"/>\r\n     </defs>\r\n     <use xlink:href=\"#DejaVuSans-99\"/>\r\n     <use x=\"54.980469\" xlink:href=\"#DejaVuSans-97\"/>\r\n     <use x=\"116.259766\" xlink:href=\"#DejaVuSans-112\"/>\r\n     <use x=\"179.736328\" xlink:href=\"#DejaVuSans-95\"/>\r\n     <use x=\"229.736328\" xlink:href=\"#DejaVuSans-115\"/>\r\n     <use x=\"281.835938\" xlink:href=\"#DejaVuSans-112\"/>\r\n     <use x=\"345.3125\" xlink:href=\"#DejaVuSans-97\"/>\r\n     <use x=\"406.591797\" xlink:href=\"#DejaVuSans-99\"/>\r\n     <use x=\"461.572266\" xlink:href=\"#DejaVuSans-101\"/>\r\n     <use x=\"523.095703\" xlink:href=\"#DejaVuSans-95\"/>\r\n     <use x=\"573.095703\" xlink:href=\"#DejaVuSans-117\"/>\r\n     <use x=\"636.474609\" xlink:href=\"#DejaVuSans-115\"/>\r\n     <use x=\"688.574219\" xlink:href=\"#DejaVuSans-97\"/>\r\n     <use x=\"749.853516\" xlink:href=\"#DejaVuSans-103\"/>\r\n     <use x=\"813.330078\" xlink:href=\"#DejaVuSans-101\"/>\r\n    </g>\r\n   </g>\r\n  </g>\r\n </g>\r\n <defs>\r\n  <clipPath id=\"p4c38ab4572\">\r\n   <rect height=\"321.4\" width=\"293.44125\" x=\"46.965625\" y=\"7.2\"/>\r\n  </clipPath>\r\n </defs>\r\n</svg>\r\n",
      "image/png": "[encoded data removed]"
     },
     "metadata": {
      "needs_background": "light"
     }
    }
   ],
   "source": [
    "sns.displot(y)"
   ]
  },
  {
   "cell_type": "code",
   "execution_count": 7,
   "metadata": {},
   "outputs": [],
   "source": [
    "X = pd.read_excel('X.xlsx')\n",
    "y = pd.read_excel('y.xlsx')\n",
    "X_test = pd.read_excel('X_test.xlsx')\n",
    "y_test = pd.read_excel('y_test.xlsx')"
   ]
  },
  {
   "cell_type": "code",
   "execution_count": 8,
   "metadata": {},
   "outputs": [],
   "source": [
    "X.set_index('Unnamed: 0', inplace=True)\n",
    "X_test.set_index('Unnamed: 0', inplace=True)\n",
    "y.set_index('Unnamed: 0', inplace=True)\n",
    "y_test.set_index('Unnamed: 0', inplace=True)"
   ]
  },
  {
   "cell_type": "code",
   "execution_count": 9,
   "metadata": {},
   "outputs": [
    {
     "output_type": "stream",
     "name": "stderr",
     "text": [
      "/home/zach/miniconda3/envs/DataScience/lib/python3.8/site-packages/sklearn/utils/validation.py:63: DataConversionWarning: A column-vector y was passed when a 1d array was expected. Please change the shape of y to (n_samples, ), for example using ravel().\n  return f(*args, **kwargs)\n"
     ]
    }
   ],
   "source": [
    "from sklearn.feature_selection import SelectKBest, f_regression\n",
    "select = SelectKBest(f_regression, k=40)\n",
    "\n",
    "best_features = select.fit_transform(X, y)\n",
    "feature_scores = pd.concat([pd.Series(X.columns), pd.Series(select.scores_)], axis=1)\n",
    "feature_scores.columns = [\"features\", \"score\"]\n",
    "features = list(feature_scores.sort_values(by=[\"score\"], ascending=False).head(25)['features'])\n",
    "\n",
    "X_train, X_val, y_train, y_val = train_test_split(X, y, test_size=0.15, random_state=seed)\n",
    "\n",
    "X_train = X_train[features]\n",
    "X_test = X_test[features]\n",
    "X_val = X_val[features]"
   ]
  },
  {
   "cell_type": "code",
   "execution_count": 20,
   "metadata": {},
   "outputs": [],
   "source": [
    "from sklearn.model_selection import RandomizedSearchCV\n",
    "# Number of trees in tree\n",
    "n_estimators = range(25, 650, 25)\n",
    "\n",
    "# Maximum number of levels in tree\n",
    "max_depth = range(3, 10)\n",
    "\n",
    "min_child_weight = range(1,7)\n",
    "# Create the random grid\n",
    "random_grid = {'n_estimators': n_estimators,\n",
    "               'max_depth': max_depth,\n",
    "               'min_child_weight': min_child_weight,\n",
    "               'gamma':[i/10.0 for i in range(0,20)],\n",
    "               'colsample_bytree': [i/100.0 for i in range(60, 90, 5)],\n",
    "               'learning_rate': [i/100.0 for i in range(5, 20, 5)],\n",
    "               'reg_alpha':[1e-5, 1e-2, 0.1, 1, 100]}"
   ]
  },
  {
   "cell_type": "code",
   "execution_count": 21,
   "metadata": {},
   "outputs": [
    {
     "output_type": "stream",
     "name": "stdout",
     "text": [
      "Fitting 7 folds for each of 300 candidates, totalling 2100 fits\n"
     ]
    },
    {
     "output_type": "execute_result",
     "data": {
      "text/plain": [
       "RandomizedSearchCV(cv=7,\n",
       "                   estimator=XGBRegressor(base_score=None, booster=None,\n",
       "                                          colsample_bylevel=None,\n",
       "                                          colsample_bynode=None,\n",
       "                                          colsample_bytree=None, gamma=None,\n",
       "                                          gpu_id=None, importance_type='gain',\n",
       "                                          interaction_constraints=None,\n",
       "                                          learning_rate=None,\n",
       "                                          max_delta_step=None, max_depth=None,\n",
       "                                          min_child_weight=None, missing=nan,\n",
       "                                          monotone_constraints=None,\n",
       "                                          n_estimators=100, n...\n",
       "                   n_iter=300, n_jobs=-1,\n",
       "                   param_distributions={'colsample_bytree': [0.6, 0.65, 0.7,\n",
       "                                                             0.75, 0.8, 0.85],\n",
       "                                        'gamma': [0.0, 0.1, 0.2, 0.3, 0.4, 0.5,\n",
       "                                                  0.6, 0.7, 0.8, 0.9, 1.0, 1.1,\n",
       "                                                  1.2, 1.3, 1.4, 1.5, 1.6, 1.7,\n",
       "                                                  1.8, 1.9],\n",
       "                                        'learning_rate': [0.05, 0.1, 0.15],\n",
       "                                        'max_depth': range(3, 10),\n",
       "                                        'min_child_weight': range(1, 7),\n",
       "                                        'n_estimators': range(25, 650, 25),\n",
       "                                        'reg_alpha': [1e-05, 0.01, 0.1, 1,\n",
       "                                                      100]},\n",
       "                   random_state=8, verbose=3)"
      ]
     },
     "metadata": {},
     "execution_count": 21
    }
   ],
   "source": [
    "# Use the random grid to search for best hyperparameters\n",
    "# First create the base model to tune\n",
    "xgb = XGBRegressor()\n",
    "# Random search of parameters, using 3 fold cross validation, \n",
    "# search across 100 different combinations, and use all available cores\n",
    "xgb_random = RandomizedSearchCV(estimator = xgb, param_distributions = random_grid, n_iter = 300, cv = 7, verbose=3, random_state=seed, n_jobs = -1)\n",
    "# Fit the random search model\n",
    "xgb_random.fit(X_train, y_train)"
   ]
  },
  {
   "cell_type": "code",
   "execution_count": 22,
   "metadata": {},
   "outputs": [
    {
     "output_type": "execute_result",
     "data": {
      "text/plain": [
       "{'reg_alpha': 1e-05,\n",
       " 'n_estimators': 375,\n",
       " 'min_child_weight': 5,\n",
       " 'max_depth': 8,\n",
       " 'learning_rate': 0.1,\n",
       " 'gamma': 0.0,\n",
       " 'colsample_bytree': 0.65}"
      ]
     },
     "metadata": {},
     "execution_count": 22
    }
   ],
   "source": [
    "xgb_random.best_params_"
   ]
  },
  {
   "cell_type": "code",
   "execution_count": 78,
   "metadata": {},
   "outputs": [
    {
     "output_type": "execute_result",
     "data": {
      "text/plain": [
       "{'reg_alpha': 1e-05}"
      ]
     },
     "metadata": {},
     "execution_count": 78
    }
   ],
   "source": [
    "reg_alpha= 1e-05,\n",
    " n_estimators= 375,\n",
    " min_child_weight= 5,\n",
    " max_depth= 8,\n",
    " learning_rate= 0.11,\n",
    " gamma= 0.0,\n",
    " colsample_bytree= 0.65"
   ]
  },
  {
   "cell_type": "code",
   "execution_count": 65,
   "metadata": {},
   "outputs": [
    {
     "output_type": "stream",
     "name": "stdout",
     "text": [
      "[XGB] These are the results for the training set.\n",
      "r^2:  0.9823970559702921\n",
      "mse:  0.00018298462167115826\n",
      "variance_score:  0.982397055970383\n",
      "mse-log:  0.00014046744571752427\n",
      "--------------------------------------\n",
      "[XGB] These are the results for the validation set.\n",
      "r^2:  0.8442298687665639\n",
      "mse:  0.001596290055727733\n",
      "variance_score:  0.8448437238501463\n",
      "mse-log:  0.0011895435955914717\n",
      "_____________________________________________\n",
      "/home/zach/miniconda3/envs/DataScience/lib/python3.8/site-packages/xgboost/data.py:112: UserWarning: Use subset (sliced data) of np.ndarray is not recommended because it will generate extra copies and increase memory consumption\n",
      "  warnings.warn(\n",
      "/home/zach/miniconda3/envs/DataScience/lib/python3.8/site-packages/xgboost/data.py:112: UserWarning: Use subset (sliced data) of np.ndarray is not recommended because it will generate extra copies and increase memory consumption\n",
      "  warnings.warn(\n"
     ]
    }
   ],
   "source": [
    "xgb = XGBRegressor(reg_alpha= 1e-05,\n",
    " n_estimators= 475,\n",
    " min_child_weight= 5,\n",
    " max_depth= 8,\n",
    " learning_rate= 0.11,\n",
    " gamma= 0.002,\n",
    " colsample_bytree= 0.86)\n",
    "\n",
    "run(xgb, \"XGB\", X_train[features], X_val[features])"
   ]
  },
  {
   "cell_type": "code",
   "execution_count": 66,
   "metadata": {},
   "outputs": [
    {
     "output_type": "stream",
     "name": "stdout",
     "text": [
      "r^2:  0.8852489603343832\n",
      "mse:  0.0009075858181907569\n",
      "variance_score:  0.8852496461829983\n",
      "mse-log:  0.0007308972112913627\n",
      "/home/zach/miniconda3/envs/DataScience/lib/python3.8/site-packages/xgboost/data.py:112: UserWarning: Use subset (sliced data) of np.ndarray is not recommended because it will generate extra copies and increase memory consumption\n",
      "  warnings.warn(\n"
     ]
    }
   ],
   "source": [
    "evaluate(xgb.predict(X_test[features]), y_test)"
   ]
  },
  {
   "cell_type": "code",
   "execution_count": 67,
   "metadata": {},
   "outputs": [],
   "source": [
    "data = pd.read_excel(\"../spring21_data/fa_stats_v3.xlsx\")"
   ]
  },
  {
   "cell_type": "code",
   "execution_count": 68,
   "metadata": {},
   "outputs": [
    {
     "output_type": "stream",
     "name": "stderr",
     "text": [
      "/home/zach/miniconda3/envs/DataScience/lib/python3.8/site-packages/xgboost/data.py:112: UserWarning: Use subset (sliced data) of np.ndarray is not recommended because it will generate extra copies and increase memory consumption\n  warnings.warn(\n"
     ]
    }
   ],
   "source": [
    "test_index = X_test.index\n",
    "test_data = data.iloc[test_index][['clean_season','Player','MPG', 'attempted_field_goals', 'minutes_played', 'WS', 'Wins Added', 'poss','cap_space_usage']]\n",
    "results = pd.concat([test_data, pd.DataFrame(index=test_index, data=xgb.predict(X_test[features]))], axis=1)"
   ]
  },
  {
   "cell_type": "code",
   "execution_count": 69,
   "metadata": {},
   "outputs": [
    {
     "output_type": "execute_result",
     "data": {
      "text/plain": [
       "     clean_season               Player   MPG  attempted_field_goals  \\\n",
       "377          2019        Dragan Bender  18.0               4.282609   \n",
       "105          2016      Wayne Ellington  21.3               7.381579   \n",
       "60           2016       Dewayne Dedmon  12.2               3.051724   \n",
       "0            2016         Kevin Durant  35.8              19.180556   \n",
       "285          2019        Kawhi Leonard  34.0              18.816667   \n",
       "283          2018        Avery Bradley  31.2              14.250000   \n",
       "179          2017      Michael Beasley  16.7               7.250000   \n",
       "126          2017       Andre Iguodala  26.3               5.460526   \n",
       "327          2019           Tyus Jones  22.9               6.558824   \n",
       "86           2016       Terrence Jones  20.9               7.340000   \n",
       "315          2019          Ricky Rubio  27.9              10.735294   \n",
       "153          2017           Tony Snell  29.2               6.762500   \n",
       "390          2019  Sindarius Thornwell   4.9               0.765625   \n",
       "162          2017             Alex Len  20.3               6.012987   \n",
       "8            2016        Dirk Nowitzki  31.5              14.826667   \n",
       "356          2019           Alec Burks  21.5               6.705882   \n",
       "53           2016            Jon Leuer  18.7               6.955224   \n",
       "185          2017        Arron Afflalo  25.9               6.885246   \n",
       "167          2017       Justin Holiday  20.0               6.560976   \n",
       "298          2019         Kevon Looney  18.5               4.337500   \n",
       "316          2019      Harrison Barnes  32.9              14.632653   \n",
       "332          2019          George Hill  21.7               8.230769   \n",
       "25           2016     Chandler Parsons  29.5              10.672131   \n",
       "354          2019         Bobby Portis  26.0              12.318182   \n",
       "330          2019       T.J. McConnell  19.3               5.513158   \n",
       "169          2017          Tarik Black  16.3               4.388060   \n",
       "270          2018         Nerlens Noel  15.7               3.500000   \n",
       "136          2017          Patty Mills  21.9               7.762500   \n",
       "17           2016        Nicolas Batum  35.0              12.471429   \n",
       "363          2019        Iman Shumpert  23.9               8.285714   \n",
       "4            2016           Al Horford  32.1              12.780488   \n",
       "79           2016         Lance Thomas  22.3               6.474576   \n",
       "188          2017          Jodie Meeks  20.5               7.111111   \n",
       "39           2016       Jamal Crawford  26.9              11.886076   \n",
       "367          2019        Austin Rivers  26.7               6.689655   \n",
       "269          2018       Jamal Crawford  20.7               9.275000   \n",
       "58           2016           Quincy Acy  14.8               3.627119   \n",
       "124          2017          Jeff Teague  32.4              11.085366   \n",
       "364          2019          Rajon Rondo  29.8               9.391304   \n",
       "141          2017       Andre Roberson  30.1               5.860759   \n",
       "178          2017         Luke Babbitt  15.7               4.132353   \n",
       "307          2019     Patrick Beverley  27.4               6.115385   \n",
       "47           2016     Anthony Tolliver  18.6               4.611111   \n",
       "346          2019      Rodney McGruder  23.5               6.984848   \n",
       "165          2017     Shaun Livingston  17.7               4.157895   \n",
       "250          2018     Luc Mbah a Moute  25.6               5.655738   \n",
       "214          2018         Kevin Durant  34.2              17.970588   \n",
       "286          2019         Kyrie Irving  33.0              18.522388   \n",
       "151          2017         JaVale McGee   9.6               4.142857   \n",
       "11           2016          Ian Mahinmi  25.6               6.309859   \n",
       "56           2016          Matt Barnes  28.8               9.118421   \n",
       "31           2016         Courtney Lee  29.5               8.215686   \n",
       "219          2018        Dwight Howard  30.4              11.246914   \n",
       "157          2017           Nick Young  25.9              10.550000   \n",
       "\n",
       "     minutes_played    WS  Wins Added  poss  cap_space_usage         0  \n",
       "377       17.956522   0.5    0.797767  1778         0.015383  0.035452  \n",
       "105       21.250000   0.8   -1.193968  3266         0.063733  0.026912  \n",
       "60        12.155172   2.4    1.009431  1434         0.030783  0.034494  \n",
       "0         35.805556  14.5   12.406201  6806         0.281913  0.314710  \n",
       "285       34.000000   9.5    8.845318  6150         0.300000  0.305128  \n",
       "283       31.700000  -0.2    0.433693  2918         0.117798  0.130639  \n",
       "179       16.696429   1.8    0.622438  1991         0.014848  0.025044  \n",
       "126       26.289474   6.9    5.790783  5120         0.149504  0.126146  \n",
       "327       22.941176   3.0    3.210259  3329         0.077039  0.059790  \n",
       "86        20.880000   1.5   -0.660942  2167         0.011163  0.033124  \n",
       "315       27.926471   3.7    4.602349  4383         0.148346  0.157032  \n",
       "153       29.200000   3.4    0.709966  5014         0.099113  0.111701  \n",
       "390        4.890625   0.0   -0.014622   754         0.001678  0.015447  \n",
       "162       20.259740   3.0    0.335676  3318         0.042259  0.078547  \n",
       "8         31.520000   6.8    7.452673  5095         0.265553  0.236463  \n",
       "356       15.823529   1.5    0.672982  2850         0.021258  0.020225  \n",
       "53        18.731343   2.7    1.500670  2663         0.116758  0.047292  \n",
       "185       25.901639   1.4   -1.743250  3146         0.015137  0.035576  \n",
       "167       19.987805   2.5    2.115252  3346         0.046576  0.041356  \n",
       "298       18.512500   6.0    3.017451  4100         0.040904  0.064026  \n",
       "316       32.326531   3.6    0.327092  5395         0.221255  0.189787  \n",
       "332       26.461538   2.8    2.735414  3592         0.083690  0.045893  \n",
       "25        29.491803   4.3    2.176462  3585         0.234927  0.172293  \n",
       "354       24.136364   1.6    1.775649  2756         0.137438  0.064122  \n",
       "330       19.342105   2.9    1.528257  3322         0.032069  0.051202  \n",
       "169       16.283582   2.4    1.581889  2269         0.033201  0.029826  \n",
       "270       15.733333   1.3    0.703203   976         0.017252  0.058400  \n",
       "136       21.925000   5.1    3.634357  4463         0.108124  0.113852  \n",
       "17        34.971429   5.0    4.939924  5216         0.221679  0.212334  \n",
       "363       26.166667   1.4    0.107492  3432         0.003843  0.042823  \n",
       "4         32.085366   9.4    7.781375  6133         0.281913  0.227101  \n",
       "79        22.254237   1.7    0.280893  2642         0.065762  0.038789  \n",
       "188       20.500000   1.1    0.685160  1525         0.033201  0.045713  \n",
       "39        26.911392   3.3    1.364888  4760         0.140775  0.128472  \n",
       "367       23.551724   1.2    0.727550  4724         0.019922  0.043431  \n",
       "269       20.662500   1.3   -1.355448  3636         0.022620  0.049833  \n",
       "58        14.847458   2.5    0.876735  1852         0.020337  0.030596  \n",
       "124       32.402439   8.1    6.991121  5710         0.191739  0.259329  \n",
       "364       29.760870   1.3    0.410864  2982         0.023500  0.065056  \n",
       "141       30.075949   4.2    4.429594  5304         0.093440  0.106903  \n",
       "178       15.661765   1.8    0.659584  2129         0.019922  0.023288  \n",
       "307       27.397436   4.8    4.412834  4998         0.113118  0.132617  \n",
       "47        18.625000   2.8    2.470668  2733         0.084977  0.056481  \n",
       "346       23.484848   1.9    1.093347  3250         0.042419  0.056134  \n",
       "165       17.697368   2.6    0.423884  3197         0.077627  0.043847  \n",
       "250       25.639344   2.8    2.345739  3541         0.042412  0.069226  \n",
       "214       34.191176  10.4    9.362797  6604         0.294496  0.299990  \n",
       "286       33.044776   9.1    9.146498  5404         0.290837  0.291240  \n",
       "151        9.597403   3.5    2.141457  1940         0.014848  0.025069  \n",
       "11        25.577465   6.2    4.421376  4064         0.169361  0.110021  \n",
       "56        28.815789   2.6    1.056068  4624         0.065061  0.090788  \n",
       "31        29.196078   3.9    2.630354  5118         0.119414  0.090248  \n",
       "219       30.407407   6.8    6.497057  5101         0.185726  0.204539  \n",
       "157       25.933333   3.2    1.263888  3236         0.052395  0.046721  "
      ],
      "text/html": "<div>\n<style scoped>\n    .dataframe tbody tr th:only-of-type {\n        vertical-align: middle;\n    }\n\n    .dataframe tbody tr th {\n        vertical-align: top;\n    }\n\n    .dataframe thead th {\n        text-align: right;\n    }\n</style>\n<table border=\"1\" class=\"dataframe\">\n  <thead>\n    <tr style=\"text-align: right;\">\n      <th></th>\n      <th>clean_season</th>\n      <th>Player</th>\n      <th>MPG</th>\n      <th>attempted_field_goals</th>\n      <th>minutes_played</th>\n      <th>WS</th>\n      <th>Wins Added</th>\n      <th>poss</th>\n      <th>cap_space_usage</th>\n      <th>0</th>\n    </tr>\n  </thead>\n  <tbody>\n    <tr>\n      <th>377</th>\n      <td>2019</td>\n      <td>Dragan Bender</td>\n      <td>18.0</td>\n      <td>4.282609</td>\n      <td>17.956522</td>\n      <td>0.5</td>\n      <td>0.797767</td>\n      <td>1778</td>\n      <td>0.015383</td>\n      <td>0.035452</td>\n    </tr>\n    <tr>\n      <th>105</th>\n      <td>2016</td>\n      <td>Wayne Ellington</td>\n      <td>21.3</td>\n      <td>7.381579</td>\n      <td>21.250000</td>\n      <td>0.8</td>\n      <td>-1.193968</td>\n      <td>3266</td>\n      <td>0.063733</td>\n      <td>0.026912</td>\n    </tr>\n    <tr>\n      <th>60</th>\n      <td>2016</td>\n      <td>Dewayne Dedmon</td>\n      <td>12.2</td>\n      <td>3.051724</td>\n      <td>12.155172</td>\n      <td>2.4</td>\n      <td>1.009431</td>\n      <td>1434</td>\n      <td>0.030783</td>\n      <td>0.034494</td>\n    </tr>\n    <tr>\n      <th>0</th>\n      <td>2016</td>\n      <td>Kevin Durant</td>\n      <td>35.8</td>\n      <td>19.180556</td>\n      <td>35.805556</td>\n      <td>14.5</td>\n      <td>12.406201</td>\n      <td>6806</td>\n      <td>0.281913</td>\n      <td>0.314710</td>\n    </tr>\n    <tr>\n      <th>285</th>\n      <td>2019</td>\n      <td>Kawhi Leonard</td>\n      <td>34.0</td>\n      <td>18.816667</td>\n      <td>34.000000</td>\n      <td>9.5</td>\n      <td>8.845318</td>\n      <td>6150</td>\n      <td>0.300000</td>\n      <td>0.305128</td>\n    </tr>\n    <tr>\n      <th>283</th>\n      <td>2018</td>\n      <td>Avery Bradley</td>\n      <td>31.2</td>\n      <td>14.250000</td>\n      <td>31.700000</td>\n      <td>-0.2</td>\n      <td>0.433693</td>\n      <td>2918</td>\n      <td>0.117798</td>\n      <td>0.130639</td>\n    </tr>\n    <tr>\n      <th>179</th>\n      <td>2017</td>\n      <td>Michael Beasley</td>\n      <td>16.7</td>\n      <td>7.250000</td>\n      <td>16.696429</td>\n      <td>1.8</td>\n      <td>0.622438</td>\n      <td>1991</td>\n      <td>0.014848</td>\n      <td>0.025044</td>\n    </tr>\n    <tr>\n      <th>126</th>\n      <td>2017</td>\n      <td>Andre Iguodala</td>\n      <td>26.3</td>\n      <td>5.460526</td>\n      <td>26.289474</td>\n      <td>6.9</td>\n      <td>5.790783</td>\n      <td>5120</td>\n      <td>0.149504</td>\n      <td>0.126146</td>\n    </tr>\n    <tr>\n      <th>327</th>\n      <td>2019</td>\n      <td>Tyus Jones</td>\n      <td>22.9</td>\n      <td>6.558824</td>\n      <td>22.941176</td>\n      <td>3.0</td>\n      <td>3.210259</td>\n      <td>3329</td>\n      <td>0.077039</td>\n      <td>0.059790</td>\n    </tr>\n    <tr>\n      <th>86</th>\n      <td>2016</td>\n      <td>Terrence Jones</td>\n      <td>20.9</td>\n      <td>7.340000</td>\n      <td>20.880000</td>\n      <td>1.5</td>\n      <td>-0.660942</td>\n      <td>2167</td>\n      <td>0.011163</td>\n      <td>0.033124</td>\n    </tr>\n    <tr>\n      <th>315</th>\n      <td>2019</td>\n      <td>Ricky Rubio</td>\n      <td>27.9</td>\n      <td>10.735294</td>\n      <td>27.926471</td>\n      <td>3.7</td>\n      <td>4.602349</td>\n      <td>4383</td>\n      <td>0.148346</td>\n      <td>0.157032</td>\n    </tr>\n    <tr>\n      <th>153</th>\n      <td>2017</td>\n      <td>Tony Snell</td>\n      <td>29.2</td>\n      <td>6.762500</td>\n      <td>29.200000</td>\n      <td>3.4</td>\n      <td>0.709966</td>\n      <td>5014</td>\n      <td>0.099113</td>\n      <td>0.111701</td>\n    </tr>\n    <tr>\n      <th>390</th>\n      <td>2019</td>\n      <td>Sindarius Thornwell</td>\n      <td>4.9</td>\n      <td>0.765625</td>\n      <td>4.890625</td>\n      <td>0.0</td>\n      <td>-0.014622</td>\n      <td>754</td>\n      <td>0.001678</td>\n      <td>0.015447</td>\n    </tr>\n    <tr>\n      <th>162</th>\n      <td>2017</td>\n      <td>Alex Len</td>\n      <td>20.3</td>\n      <td>6.012987</td>\n      <td>20.259740</td>\n      <td>3.0</td>\n      <td>0.335676</td>\n      <td>3318</td>\n      <td>0.042259</td>\n      <td>0.078547</td>\n    </tr>\n    <tr>\n      <th>8</th>\n      <td>2016</td>\n      <td>Dirk Nowitzki</td>\n      <td>31.5</td>\n      <td>14.826667</td>\n      <td>31.520000</td>\n      <td>6.8</td>\n      <td>7.452673</td>\n      <td>5095</td>\n      <td>0.265553</td>\n      <td>0.236463</td>\n    </tr>\n    <tr>\n      <th>356</th>\n      <td>2019</td>\n      <td>Alec Burks</td>\n      <td>21.5</td>\n      <td>6.705882</td>\n      <td>15.823529</td>\n      <td>1.5</td>\n      <td>0.672982</td>\n      <td>2850</td>\n      <td>0.021258</td>\n      <td>0.020225</td>\n    </tr>\n    <tr>\n      <th>53</th>\n      <td>2016</td>\n      <td>Jon Leuer</td>\n      <td>18.7</td>\n      <td>6.955224</td>\n      <td>18.731343</td>\n      <td>2.7</td>\n      <td>1.500670</td>\n      <td>2663</td>\n      <td>0.116758</td>\n      <td>0.047292</td>\n    </tr>\n    <tr>\n      <th>185</th>\n      <td>2017</td>\n      <td>Arron Afflalo</td>\n      <td>25.9</td>\n      <td>6.885246</td>\n      <td>25.901639</td>\n      <td>1.4</td>\n      <td>-1.743250</td>\n      <td>3146</td>\n      <td>0.015137</td>\n      <td>0.035576</td>\n    </tr>\n    <tr>\n      <th>167</th>\n      <td>2017</td>\n      <td>Justin Holiday</td>\n      <td>20.0</td>\n      <td>6.560976</td>\n      <td>19.987805</td>\n      <td>2.5</td>\n      <td>2.115252</td>\n      <td>3346</td>\n      <td>0.046576</td>\n      <td>0.041356</td>\n    </tr>\n    <tr>\n      <th>298</th>\n      <td>2019</td>\n      <td>Kevon Looney</td>\n      <td>18.5</td>\n      <td>4.337500</td>\n      <td>18.512500</td>\n      <td>6.0</td>\n      <td>3.017451</td>\n      <td>4100</td>\n      <td>0.040904</td>\n      <td>0.064026</td>\n    </tr>\n    <tr>\n      <th>316</th>\n      <td>2019</td>\n      <td>Harrison Barnes</td>\n      <td>32.9</td>\n      <td>14.632653</td>\n      <td>32.326531</td>\n      <td>3.6</td>\n      <td>0.327092</td>\n      <td>5395</td>\n      <td>0.221255</td>\n      <td>0.189787</td>\n    </tr>\n    <tr>\n      <th>332</th>\n      <td>2019</td>\n      <td>George Hill</td>\n      <td>21.7</td>\n      <td>8.230769</td>\n      <td>26.461538</td>\n      <td>2.8</td>\n      <td>2.735414</td>\n      <td>3592</td>\n      <td>0.083690</td>\n      <td>0.045893</td>\n    </tr>\n    <tr>\n      <th>25</th>\n      <td>2016</td>\n      <td>Chandler Parsons</td>\n      <td>29.5</td>\n      <td>10.672131</td>\n      <td>29.491803</td>\n      <td>4.3</td>\n      <td>2.176462</td>\n      <td>3585</td>\n      <td>0.234927</td>\n      <td>0.172293</td>\n    </tr>\n    <tr>\n      <th>354</th>\n      <td>2019</td>\n      <td>Bobby Portis</td>\n      <td>26.0</td>\n      <td>12.318182</td>\n      <td>24.136364</td>\n      <td>1.6</td>\n      <td>1.775649</td>\n      <td>2756</td>\n      <td>0.137438</td>\n      <td>0.064122</td>\n    </tr>\n    <tr>\n      <th>330</th>\n      <td>2019</td>\n      <td>T.J. McConnell</td>\n      <td>19.3</td>\n      <td>5.513158</td>\n      <td>19.342105</td>\n      <td>2.9</td>\n      <td>1.528257</td>\n      <td>3322</td>\n      <td>0.032069</td>\n      <td>0.051202</td>\n    </tr>\n    <tr>\n      <th>169</th>\n      <td>2017</td>\n      <td>Tarik Black</td>\n      <td>16.3</td>\n      <td>4.388060</td>\n      <td>16.283582</td>\n      <td>2.4</td>\n      <td>1.581889</td>\n      <td>2269</td>\n      <td>0.033201</td>\n      <td>0.029826</td>\n    </tr>\n    <tr>\n      <th>270</th>\n      <td>2018</td>\n      <td>Nerlens Noel</td>\n      <td>15.7</td>\n      <td>3.500000</td>\n      <td>15.733333</td>\n      <td>1.3</td>\n      <td>0.703203</td>\n      <td>976</td>\n      <td>0.017252</td>\n      <td>0.058400</td>\n    </tr>\n    <tr>\n      <th>136</th>\n      <td>2017</td>\n      <td>Patty Mills</td>\n      <td>21.9</td>\n      <td>7.762500</td>\n      <td>21.925000</td>\n      <td>5.1</td>\n      <td>3.634357</td>\n      <td>4463</td>\n      <td>0.108124</td>\n      <td>0.113852</td>\n    </tr>\n    <tr>\n      <th>17</th>\n      <td>2016</td>\n      <td>Nicolas Batum</td>\n      <td>35.0</td>\n      <td>12.471429</td>\n      <td>34.971429</td>\n      <td>5.0</td>\n      <td>4.939924</td>\n      <td>5216</td>\n      <td>0.221679</td>\n      <td>0.212334</td>\n    </tr>\n    <tr>\n      <th>363</th>\n      <td>2019</td>\n      <td>Iman Shumpert</td>\n      <td>23.9</td>\n      <td>8.285714</td>\n      <td>26.166667</td>\n      <td>1.4</td>\n      <td>0.107492</td>\n      <td>3432</td>\n      <td>0.003843</td>\n      <td>0.042823</td>\n    </tr>\n    <tr>\n      <th>4</th>\n      <td>2016</td>\n      <td>Al Horford</td>\n      <td>32.1</td>\n      <td>12.780488</td>\n      <td>32.085366</td>\n      <td>9.4</td>\n      <td>7.781375</td>\n      <td>6133</td>\n      <td>0.281913</td>\n      <td>0.227101</td>\n    </tr>\n    <tr>\n      <th>79</th>\n      <td>2016</td>\n      <td>Lance Thomas</td>\n      <td>22.3</td>\n      <td>6.474576</td>\n      <td>22.254237</td>\n      <td>1.7</td>\n      <td>0.280893</td>\n      <td>2642</td>\n      <td>0.065762</td>\n      <td>0.038789</td>\n    </tr>\n    <tr>\n      <th>188</th>\n      <td>2017</td>\n      <td>Jodie Meeks</td>\n      <td>20.5</td>\n      <td>7.111111</td>\n      <td>20.500000</td>\n      <td>1.1</td>\n      <td>0.685160</td>\n      <td>1525</td>\n      <td>0.033201</td>\n      <td>0.045713</td>\n    </tr>\n    <tr>\n      <th>39</th>\n      <td>2016</td>\n      <td>Jamal Crawford</td>\n      <td>26.9</td>\n      <td>11.886076</td>\n      <td>26.911392</td>\n      <td>3.3</td>\n      <td>1.364888</td>\n      <td>4760</td>\n      <td>0.140775</td>\n      <td>0.128472</td>\n    </tr>\n    <tr>\n      <th>367</th>\n      <td>2019</td>\n      <td>Austin Rivers</td>\n      <td>26.7</td>\n      <td>6.689655</td>\n      <td>23.551724</td>\n      <td>1.2</td>\n      <td>0.727550</td>\n      <td>4724</td>\n      <td>0.019922</td>\n      <td>0.043431</td>\n    </tr>\n    <tr>\n      <th>269</th>\n      <td>2018</td>\n      <td>Jamal Crawford</td>\n      <td>20.7</td>\n      <td>9.275000</td>\n      <td>20.662500</td>\n      <td>1.3</td>\n      <td>-1.355448</td>\n      <td>3636</td>\n      <td>0.022620</td>\n      <td>0.049833</td>\n    </tr>\n    <tr>\n      <th>58</th>\n      <td>2016</td>\n      <td>Quincy Acy</td>\n      <td>14.8</td>\n      <td>3.627119</td>\n      <td>14.847458</td>\n      <td>2.5</td>\n      <td>0.876735</td>\n      <td>1852</td>\n      <td>0.020337</td>\n      <td>0.030596</td>\n    </tr>\n    <tr>\n      <th>124</th>\n      <td>2017</td>\n      <td>Jeff Teague</td>\n      <td>32.4</td>\n      <td>11.085366</td>\n      <td>32.402439</td>\n      <td>8.1</td>\n      <td>6.991121</td>\n      <td>5710</td>\n      <td>0.191739</td>\n      <td>0.259329</td>\n    </tr>\n    <tr>\n      <th>364</th>\n      <td>2019</td>\n      <td>Rajon Rondo</td>\n      <td>29.8</td>\n      <td>9.391304</td>\n      <td>29.760870</td>\n      <td>1.3</td>\n      <td>0.410864</td>\n      <td>2982</td>\n      <td>0.023500</td>\n      <td>0.065056</td>\n    </tr>\n    <tr>\n      <th>141</th>\n      <td>2017</td>\n      <td>Andre Roberson</td>\n      <td>30.1</td>\n      <td>5.860759</td>\n      <td>30.075949</td>\n      <td>4.2</td>\n      <td>4.429594</td>\n      <td>5304</td>\n      <td>0.093440</td>\n      <td>0.106903</td>\n    </tr>\n    <tr>\n      <th>178</th>\n      <td>2017</td>\n      <td>Luke Babbitt</td>\n      <td>15.7</td>\n      <td>4.132353</td>\n      <td>15.661765</td>\n      <td>1.8</td>\n      <td>0.659584</td>\n      <td>2129</td>\n      <td>0.019922</td>\n      <td>0.023288</td>\n    </tr>\n    <tr>\n      <th>307</th>\n      <td>2019</td>\n      <td>Patrick Beverley</td>\n      <td>27.4</td>\n      <td>6.115385</td>\n      <td>27.397436</td>\n      <td>4.8</td>\n      <td>4.412834</td>\n      <td>4998</td>\n      <td>0.113118</td>\n      <td>0.132617</td>\n    </tr>\n    <tr>\n      <th>47</th>\n      <td>2016</td>\n      <td>Anthony Tolliver</td>\n      <td>18.6</td>\n      <td>4.611111</td>\n      <td>18.625000</td>\n      <td>2.8</td>\n      <td>2.470668</td>\n      <td>2733</td>\n      <td>0.084977</td>\n      <td>0.056481</td>\n    </tr>\n    <tr>\n      <th>346</th>\n      <td>2019</td>\n      <td>Rodney McGruder</td>\n      <td>23.5</td>\n      <td>6.984848</td>\n      <td>23.484848</td>\n      <td>1.9</td>\n      <td>1.093347</td>\n      <td>3250</td>\n      <td>0.042419</td>\n      <td>0.056134</td>\n    </tr>\n    <tr>\n      <th>165</th>\n      <td>2017</td>\n      <td>Shaun Livingston</td>\n      <td>17.7</td>\n      <td>4.157895</td>\n      <td>17.697368</td>\n      <td>2.6</td>\n      <td>0.423884</td>\n      <td>3197</td>\n      <td>0.077627</td>\n      <td>0.043847</td>\n    </tr>\n    <tr>\n      <th>250</th>\n      <td>2018</td>\n      <td>Luc Mbah a Moute</td>\n      <td>25.6</td>\n      <td>5.655738</td>\n      <td>25.639344</td>\n      <td>2.8</td>\n      <td>2.345739</td>\n      <td>3541</td>\n      <td>0.042412</td>\n      <td>0.069226</td>\n    </tr>\n    <tr>\n      <th>214</th>\n      <td>2018</td>\n      <td>Kevin Durant</td>\n      <td>34.2</td>\n      <td>17.970588</td>\n      <td>34.191176</td>\n      <td>10.4</td>\n      <td>9.362797</td>\n      <td>6604</td>\n      <td>0.294496</td>\n      <td>0.299990</td>\n    </tr>\n    <tr>\n      <th>286</th>\n      <td>2019</td>\n      <td>Kyrie Irving</td>\n      <td>33.0</td>\n      <td>18.522388</td>\n      <td>33.044776</td>\n      <td>9.1</td>\n      <td>9.146498</td>\n      <td>5404</td>\n      <td>0.290837</td>\n      <td>0.291240</td>\n    </tr>\n    <tr>\n      <th>151</th>\n      <td>2017</td>\n      <td>JaVale McGee</td>\n      <td>9.6</td>\n      <td>4.142857</td>\n      <td>9.597403</td>\n      <td>3.5</td>\n      <td>2.141457</td>\n      <td>1940</td>\n      <td>0.014848</td>\n      <td>0.025069</td>\n    </tr>\n    <tr>\n      <th>11</th>\n      <td>2016</td>\n      <td>Ian Mahinmi</td>\n      <td>25.6</td>\n      <td>6.309859</td>\n      <td>25.577465</td>\n      <td>6.2</td>\n      <td>4.421376</td>\n      <td>4064</td>\n      <td>0.169361</td>\n      <td>0.110021</td>\n    </tr>\n    <tr>\n      <th>56</th>\n      <td>2016</td>\n      <td>Matt Barnes</td>\n      <td>28.8</td>\n      <td>9.118421</td>\n      <td>28.815789</td>\n      <td>2.6</td>\n      <td>1.056068</td>\n      <td>4624</td>\n      <td>0.065061</td>\n      <td>0.090788</td>\n    </tr>\n    <tr>\n      <th>31</th>\n      <td>2016</td>\n      <td>Courtney Lee</td>\n      <td>29.5</td>\n      <td>8.215686</td>\n      <td>29.196078</td>\n      <td>3.9</td>\n      <td>2.630354</td>\n      <td>5118</td>\n      <td>0.119414</td>\n      <td>0.090248</td>\n    </tr>\n    <tr>\n      <th>219</th>\n      <td>2018</td>\n      <td>Dwight Howard</td>\n      <td>30.4</td>\n      <td>11.246914</td>\n      <td>30.407407</td>\n      <td>6.8</td>\n      <td>6.497057</td>\n      <td>5101</td>\n      <td>0.185726</td>\n      <td>0.204539</td>\n    </tr>\n    <tr>\n      <th>157</th>\n      <td>2017</td>\n      <td>Nick Young</td>\n      <td>25.9</td>\n      <td>10.550000</td>\n      <td>25.933333</td>\n      <td>3.2</td>\n      <td>1.263888</td>\n      <td>3236</td>\n      <td>0.052395</td>\n      <td>0.046721</td>\n    </tr>\n  </tbody>\n</table>\n</div>"
     },
     "metadata": {},
     "execution_count": 69
    }
   ],
   "source": [
    "results"
   ]
  }
 ],
 "metadata": {
  "kernelspec": {
   "name": "python385jvsc74a57bd0af3454c02bfe4b546fe539e58f0e28e5fbe3d90ade7fdeba239d65c7463c6e6a",
   "display_name": "Python 3.8.5 64-bit ('DataScience': conda)"
  },
  "language_info": {
   "codemirror_mode": {
    "name": "ipython",
    "version": 3
   },
   "file_extension": ".py",
   "mimetype": "text/x-python",
   "name": "python",
   "nbconvert_exporter": "python",
   "pygments_lexer": "ipython3",
   "version": "3.8.5"
  },
  "metadata": {
   "interpreter": {
    "hash": "f6e5de00158004fca4bed140e7e3786d910834eb74025be550c3cf8f536996b9"
   }
  }
 },
 "nbformat": 4,
 "nbformat_minor": 4
}