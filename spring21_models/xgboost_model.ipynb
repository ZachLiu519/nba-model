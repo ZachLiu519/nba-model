{
 "cells": [
  {
   "cell_type": "code",
   "execution_count": 1,
   "metadata": {},
   "outputs": [],
   "source": [
    "import pandas as pd\n",
    "import numpy as np\n",
    "import sklearn\n",
    "from sklearn.model_selection import train_test_split\n",
    "from sklearn.preprocessing import StandardScaler\n",
    "from xgboost import XGBRegressor"
   ]
  },
  {
   "cell_type": "code",
   "execution_count": 419,
   "metadata": {},
   "outputs": [
    {
     "output_type": "stream",
     "name": "stderr",
     "text": [
      "dist_matrix: 100%|##########| 30/30 [00:00<00:00, 33.64it/s]\n",
      "synth_matrix: 100%|##########| 30/30 [00:02<00:00, 11.84it/s]\n",
      "r_index: 100%|##########| 2/2 [00:00<00:00, 94.78it/s]\n",
      "/home/zach/miniconda3/envs/DataScience/lib/python3.8/site-packages/sklearn/utils/validation.py:63: DataConversionWarning: A column-vector y was passed when a 1d array was expected. Please change the shape of y to (n_samples, ), for example using ravel().\n",
      "  return f(*args, **kwargs)\n"
     ]
    }
   ],
   "source": [
    "import smogn\n",
    "\n",
    "df = pd.read_excel(\"../spring21_data/fa_stats_v3.xlsx\")\n",
    "df = df.select_dtypes(exclude=['object'])\n",
    "df.drop(columns=[\"Unnamed: 0\", \"Minutes\", \"salary\", \"clean_season\", \"age\", \"end season_y\", \"season_end\"], inplace=True)\n",
    "\n",
    "X = df.drop(columns=[\"cap_space_usage\"])\n",
    "y = df[\"cap_space_usage\"]\n",
    "\n",
    "X_train, X_test, y_train, y_test = train_test_split(X, y, test_size=0.15, random_state=77)\n",
    "both = pd.concat([X_train, y_train], axis=1).reset_index().drop(columns=[\"index\"])\n",
    "smote_data = smogn.smoter(data = both,\n",
    "                           y = 'cap_space_usage',\n",
    "                           rel_xtrm_type = 'high',\n",
    "                           rel_thres = 0.9,\n",
    "                           k = 13,\n",
    "                           samp_method = 'extreme')\n",
    "sm = smote_data.sample(frac=1) ## make sure to shuffle the rows otherwise the cross validation will be scuffed\n",
    "y = sm[['cap_space_usage']]\n",
    "X = sm.drop(columns=['cap_space_usage'])\n",
    "\n",
    "X_train, X_val, y_train, y_val = train_test_split(X, y, test_size=0.15, random_state=77)\n",
    "\n",
    "# scale the numerical features only (this leaves out the dummy features from earlier)\n",
    "\n",
    "from sklearn.feature_selection import SelectKBest, f_regression\n",
    "select = SelectKBest(f_regression, k=20)\n",
    "\n",
    "best_features = select.fit_transform(X, y)\n",
    "feature_scores = pd.concat([pd.Series(X.columns), pd.Series(select.scores_)], axis=1)\n",
    "feature_scores.columns = [\"features\", \"score\"]\n",
    "features = list(feature_scores.sort_values(by=[\"score\"], ascending=False).head(40)['features'])\n",
    "\n",
    "scaler = StandardScaler()\n",
    "X_train = scaler.fit_transform(X_train[features])\n",
    "X_test = scaler.transform(X_test[features])\n",
    "X_val = scaler.transform(X_val[features])\n",
    "\n",
    "from sklearn.metrics import mean_squared_error, r2_score, explained_variance_score, mean_squared_log_error\n",
    "def evaluate(y_pred, y_test):\n",
    "    \"\"\" Prints out the evaluation metrics of the experiment\n",
    "        parameters:\n",
    "            y_pred\n",
    "                DataFrame or array-like, the predictions\n",
    "            y_test\n",
    "                DataFrame or array-like, the actual y-values\n",
    "                \n",
    "            these two parameters must have the same dimensions\n",
    "    \"\"\"\n",
    "    print(\"r^2: \", r2_score(y_test, y_pred))\n",
    "    print(\"mse: \", mean_squared_error(y_test, y_pred))\n",
    "    print(\"variance_score: \", explained_variance_score(y_test, y_pred))\n",
    "    print(\"mse-log: \", mean_squared_log_error(y_test, y_pred))\n",
    "    \n",
    "def run(model, model_name, x_train, x_val):\n",
    "    \"\"\" Fits the model and prints out results from calling evaluate on the training and validation set\n",
    "        parameters:\n",
    "            model\n",
    "                the unfitted model, from sklearn (has to have a fit and predict method)\n",
    "            model_name\n",
    "                String, the name of the model\n",
    "            x_train\n",
    "                DataFrame, the training set\n",
    "            x_val\n",
    "                DataFrame, the validation set\n",
    "                \n",
    "        returns:\n",
    "            nothing\n",
    "        \n",
    "    \"\"\"\n",
    "    model = model.fit(x_train, y_train)\n",
    "    y_pred = np.clip(model.predict(x_train), 0, 1000) # since negative results are meaningless\n",
    "    \n",
    "    print(\"[{0}] These are the results for the training set.\".format(model_name))\n",
    "    \n",
    "    evaluate(y_pred, y_train)\n",
    "    print(\"--------------------------------------\")\n",
    "    \n",
    "    print(\"[{0}] These are the results for the validation set.\".format(model_name))\n",
    "    y_pred = np.clip(model.predict(x_val), 0, 1000) # since negative results are meaningless\n",
    "    \n",
    "    evaluate(y_pred, y_val)\n",
    "    \n",
    "    print(\"_____________________________________________\")"
   ]
  },
  {
   "cell_type": "code",
   "execution_count": 223,
   "metadata": {},
   "outputs": [],
   "source": [
    "from sklearn.model_selection import RandomizedSearchCV\n",
    "# Number of trees in tree\n",
    "n_estimators = range(25, 300, 10)\n",
    "\n",
    "# Maximum number of levels in tree\n",
    "max_depth = range(3, 10, 2)\n",
    "\n",
    "min_child_weight = range(1,6,2)\n",
    "# Create the random grid\n",
    "random_grid = {'n_estimators': n_estimators,\n",
    "               'max_depth': max_depth,\n",
    "               'min_child_weight': min_child_weight,\n",
    "               'gamma':[i/10.0 for i in range(0,20)],\n",
    "               'colsample_bytree': [i/100.0 for i in range(60, 90, 5)],\n",
    "               'learning_rate': [i/100.0 for i in range(5, 20, 5)]}"
   ]
  },
  {
   "cell_type": "code",
   "execution_count": 224,
   "metadata": {},
   "outputs": [
    {
     "output_type": "stream",
     "name": "stdout",
     "text": [
      "Fitting 6 folds for each of 200 candidates, totalling 1200 fits\n"
     ]
    },
    {
     "output_type": "execute_result",
     "data": {
      "text/plain": [
       "RandomizedSearchCV(cv=6,\n",
       "                   estimator=XGBRegressor(base_score=None, booster=None,\n",
       "                                          colsample_bylevel=None,\n",
       "                                          colsample_bynode=None,\n",
       "                                          colsample_bytree=None, gamma=None,\n",
       "                                          gpu_id=None, importance_type='gain',\n",
       "                                          interaction_constraints=None,\n",
       "                                          learning_rate=None,\n",
       "                                          max_delta_step=None, max_depth=None,\n",
       "                                          min_child_weight=None, missing=nan,\n",
       "                                          monotone_constraints=None,\n",
       "                                          n_estimators=100, n...\n",
       "                                          validate_parameters=None,\n",
       "                                          verbosity=None),\n",
       "                   n_iter=200, n_jobs=-1,\n",
       "                   param_distributions={'colsample_bytree': [0.6, 0.65, 0.7,\n",
       "                                                             0.75, 0.8, 0.85],\n",
       "                                        'gamma': [0.0, 0.1, 0.2, 0.3, 0.4, 0.5,\n",
       "                                                  0.6, 0.7, 0.8, 0.9, 1.0, 1.1,\n",
       "                                                  1.2, 1.3, 1.4, 1.5, 1.6, 1.7,\n",
       "                                                  1.8, 1.9],\n",
       "                                        'learning_rate': [0.05, 0.1, 0.15],\n",
       "                                        'max_depth': range(3, 10, 2),\n",
       "                                        'min_child_weight': range(1, 6, 2),\n",
       "                                        'n_estimators': range(25, 300, 10)},\n",
       "                   random_state=42, verbose=2)"
      ]
     },
     "metadata": {},
     "execution_count": 224
    }
   ],
   "source": [
    "# Use the random grid to search for best hyperparameters\n",
    "# First create the base model to tune\n",
    "xgb = XGBRegressor()\n",
    "# Random search of parameters, using 3 fold cross validation, \n",
    "# search across 100 different combinations, and use all available cores\n",
    "xgb_random = RandomizedSearchCV(estimator = xgb, param_distributions = random_grid, n_iter = 200, cv = 6, verbose=2, random_state=42, n_jobs = -1)\n",
    "# Fit the random search model\n",
    "xgb_random.fit(X_train, y_train)"
   ]
  },
  {
   "cell_type": "code",
   "execution_count": 66,
   "metadata": {},
   "outputs": [],
   "source": [
    "from sklearn.model_selection import GridSearchCV"
   ]
  },
  {
   "cell_type": "code",
   "execution_count": 72,
   "metadata": {},
   "outputs": [
    {
     "output_type": "execute_result",
     "data": {
      "text/plain": [
       "GridSearchCV(cv=5,\n",
       "             estimator=XGBRegressor(base_score=None, booster=None,\n",
       "                                    colsample_bylevel=None,\n",
       "                                    colsample_bynode=None,\n",
       "                                    colsample_bytree=0.75, gamma=0.0,\n",
       "                                    gpu_id=None, importance_type='gain',\n",
       "                                    interaction_constraints=None,\n",
       "                                    learning_rate=0.1, max_delta_step=None,\n",
       "                                    max_depth=5, min_child_weight=3,\n",
       "                                    missing=nan, monotone_constraints=None,\n",
       "                                    n_estimators=75, n_jobs=None,\n",
       "                                    num_parallel_tree=None, random_state=None,\n",
       "                                    reg_alpha=None, reg_lambda=None,\n",
       "                                    scale_pos_weight=1, subsample=1,\n",
       "                                    tree_method=None, validate_parameters=None,\n",
       "                                    verbosity=None),\n",
       "             n_jobs=-1, param_grid={'reg_alpha': [1e-05, 0.01, 0.1, 1, 100]})"
      ]
     },
     "metadata": {},
     "execution_count": 72
    }
   ],
   "source": [
    "xgb = XGBRegressor(n_estimators=75, max_depth=5, learning_rate=0.1, subsample=1, min_child_weight= 3, gamma=0.0, colsample_bytree=0.75,\n",
    "scale_pos_weight = 1)\n",
    "\n",
    "grid = {\n",
    "    'reg_alpha':[1e-5, 1e-2, 0.1, 1, 100]\n",
    "}\n",
    "\n",
    "gsearch = GridSearchCV(estimator = xgb, \n",
    "                       param_grid = grid, n_jobs=-1, cv=5)\n",
    "gsearch.fit(X_train, y_train)"
   ]
  },
  {
   "cell_type": "code",
   "execution_count": 73,
   "metadata": {},
   "outputs": [
    {
     "output_type": "execute_result",
     "data": {
      "text/plain": [
       "{'reg_alpha': 0.1}"
      ]
     },
     "metadata": {},
     "execution_count": 73
    }
   ],
   "source": [
    "gsearch.best_params_"
   ]
  },
  {
   "cell_type": "code",
   "execution_count": 225,
   "metadata": {},
   "outputs": [
    {
     "output_type": "execute_result",
     "data": {
      "text/plain": [
       "{'n_estimators': 235,\n",
       " 'min_child_weight': 5,\n",
       " 'max_depth': 3,\n",
       " 'learning_rate': 0.05,\n",
       " 'gamma': 0.0,\n",
       " 'colsample_bytree': 0.7}"
      ]
     },
     "metadata": {},
     "execution_count": 225
    }
   ],
   "source": [
    "xgb_random.best_params_"
   ]
  },
  {
   "cell_type": "code",
   "execution_count": 462,
   "metadata": {},
   "outputs": [
    {
     "output_type": "stream",
     "name": "stdout",
     "text": [
      "[XGB] These are the results for the training set.\n",
      "r^2:  0.9967286432613292\n",
      "mse:  4.488002298115169e-05\n",
      "variance_score:  0.9967292630558048\n",
      "mse-log:  3.313981980353039e-05\n",
      "--------------------------------------\n",
      "[XGB] These are the results for the validation set.\n",
      "r^2:  0.825271118041037\n",
      "mse:  0.002021783528651452\n",
      "variance_score:  0.8407784129919451\n",
      "mse-log:  0.0015653554988806998\n",
      "_____________________________________________\n",
      "/home/zach/miniconda3/envs/DataScience/lib/python3.8/site-packages/xgboost/data.py:112: UserWarning: Use subset (sliced data) of np.ndarray is not recommended because it will generate extra copies and increase memory consumption\n",
      "  warnings.warn(\n",
      "/home/zach/miniconda3/envs/DataScience/lib/python3.8/site-packages/xgboost/data.py:112: UserWarning: Use subset (sliced data) of np.ndarray is not recommended because it will generate extra copies and increase memory consumption\n",
      "  warnings.warn(\n"
     ]
    }
   ],
   "source": [
    "xgb = XGBRegressor(n_estimators=275, max_depth=8, learning_rate=0.11, min_child_weight= 3, gamma=0, colsample_bytree=0.7, reg_alpha=0.1, seed=0)\n",
    "\n",
    "run(xgb, \"XGB\", X_train, X_val)"
   ]
  },
  {
   "cell_type": "code",
   "execution_count": 463,
   "metadata": {},
   "outputs": [
    {
     "output_type": "stream",
     "name": "stdout",
     "text": [
      "r^2:  0.7959330572401353\n",
      "mse:  0.0012979697072703425\n",
      "variance_score:  0.8108885390479148\n",
      "mse-log:  0.0010518812378606396\n",
      "/home/zach/miniconda3/envs/DataScience/lib/python3.8/site-packages/xgboost/data.py:112: UserWarning: Use subset (sliced data) of np.ndarray is not recommended because it will generate extra copies and increase memory consumption\n",
      "  warnings.warn(\n"
     ]
    }
   ],
   "source": [
    "evaluate(xgb.predict(X_test), y_test)"
   ]
  }
 ],
 "metadata": {
  "kernelspec": {
   "name": "python38264bitdatascienceconda6647aa692cd647ca976aaa01095ed2f6",
   "display_name": "Python 3.8.5 64-bit ('DataScience': conda)"
  },
  "language_info": {
   "codemirror_mode": {
    "name": "ipython",
    "version": 3
   },
   "file_extension": ".py",
   "mimetype": "text/x-python",
   "name": "python",
   "nbconvert_exporter": "python",
   "pygments_lexer": "ipython3",
   "version": "3.8.5"
  },
  "metadata": {
   "interpreter": {
    "hash": "af3454c02bfe4b546fe539e58f0e28e5fbe3d90ade7fdeba239d65c7463c6e6a"
   }
  }
 },
 "nbformat": 4,
 "nbformat_minor": 4
}