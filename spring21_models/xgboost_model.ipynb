{
 "cells": [
  {
   "cell_type": "code",
   "execution_count": 115,
   "metadata": {},
   "outputs": [],
   "source": [
    "import pandas as pd\n",
    "import numpy as np\n",
    "import sklearn\n",
    "from sklearn.model_selection import train_test_split\n",
    "from sklearn.preprocessing import StandardScaler\n",
    "from xgboost import XGBRegressor\n",
    "import smogn\n",
    "import seaborn as sns"
   ]
  },
  {
   "cell_type": "code",
   "execution_count": 238,
   "metadata": {},
   "outputs": [],
   "source": [
    "seed = 3"
   ]
  },
  {
   "cell_type": "code",
   "execution_count": 186,
   "metadata": {},
   "outputs": [],
   "source": [
    "from sklearn.metrics import mean_squared_error, r2_score, explained_variance_score, mean_squared_log_error\n",
    "def evaluate(y_pred, y_test):\n",
    "    \"\"\" Prints out the evaluation metrics of the experiment\n",
    "        parameters:\n",
    "            y_pred\n",
    "                DataFrame or array-like, the predictions\n",
    "            y_test\n",
    "                DataFrame or array-like, the actual y-values\n",
    "                \n",
    "            these two parameters must have the same dimensions\n",
    "    \"\"\"\n",
    "    print(\"r^2: \", r2_score(y_test, y_pred))\n",
    "    print(\"mse: \", mean_squared_error(y_test, y_pred))\n",
    "    print(\"variance_score: \", explained_variance_score(y_test, y_pred))\n",
    "    print(\"mse-log: \", mean_squared_log_error(y_test, y_pred))"
   ]
  },
  {
   "cell_type": "code",
   "execution_count": 187,
   "metadata": {},
   "outputs": [],
   "source": [
    "def run(model, model_name, x_train, x_val):\n",
    "    \"\"\" Fits the model and prints out results from calling evaluate on the training and validation set\n",
    "        parameters:\n",
    "            model\n",
    "                the unfitted model, from sklearn (has to have a fit and predict method)\n",
    "            model_name\n",
    "                String, the name of the model\n",
    "            x_train\n",
    "                DataFrame, the training set\n",
    "            x_val\n",
    "                DataFrame, the validation set\n",
    "                \n",
    "        returns:\n",
    "            nothing\n",
    "        \n",
    "    \"\"\"\n",
    "    model = model.fit(x_train, y_train)\n",
    "    y_pred = np.clip(model.predict(x_train), 0, 1000) # since negative results are meaningless\n",
    "    \n",
    "    print(\"[{0}] These are the results for the training set.\".format(model_name))\n",
    "    \n",
    "    evaluate(y_pred, y_train)\n",
    "    print(\"--------------------------------------\")\n",
    "    \n",
    "    print(\"[{0}] These are the results for the validation set.\".format(model_name))\n",
    "    y_pred = np.clip(model.predict(x_val), 0, 1000) # since negative results are meaningless\n",
    "    \n",
    "    evaluate(y_pred, y_val)\n",
    "    \n",
    "    print(\"_____________________________________________\")"
   ]
  },
  {
   "cell_type": "code",
   "execution_count": 247,
   "metadata": {},
   "outputs": [
    {
     "output_type": "stream",
     "name": "stderr",
     "text": [
      "dist_matrix: 100%|##########| 30/30 [00:00<00:00, 40.72it/s]\n",
      "synth_matrix: 100%|##########| 30/30 [00:00<00:00, 34.33it/s]\n",
      "dist_matrix: 100%|##########| 75/75 [00:04<00:00, 16.20it/s]\n",
      "synth_matrix: 100%|##########| 75/75 [00:00<00:00, 143.82it/s]\n",
      "dist_matrix: 100%|##########| 139/139 [00:15<00:00,  8.79it/s]\n",
      "r_index: 100%|##########| 27/27 [00:00<00:00, 299.72it/s]\n"
     ]
    }
   ],
   "source": [
    "df = pd.read_excel(\"../spring21_data/fa_stats_v3.xlsx\")\n",
    "df = df[df['poss'] >= 500]\n",
    "injury = pd.read_excel(\"../spring21_data/season_ending_injury.xlsx\")\n",
    "injury_fa = df.merge(right=injury, how='inner', left_on=['clean_season', 'Player'], right_on=['clean_season', 'Player']).rename(columns={'Unnamed: 0': 'index'})\n",
    "df = df[~df['Unnamed: 0'].isin(injury_fa['index'])]\n",
    "df = df.select_dtypes(exclude=['object'])\n",
    "df.drop(columns=[\"Unnamed: 0\", \"Minutes\", \"salary\", \"clean_season\", \"age\", \"end season_y\", \"season_end\"], inplace=True)\n",
    "\n",
    "X = df.drop(columns=[\"cap_space_usage\"])\n",
    "y = df[\"cap_space_usage\"]\n",
    "\n",
    "X_train, X_test, y_train, y_test = train_test_split(X, y, test_size=0.15, random_state=seed)\n",
    "both = pd.concat([X_train, y_train], axis=1).reset_index().drop(columns=[\"index\"])\n",
    "smote_data_high = smogn.smoter(data = both,\n",
    "                           y = 'cap_space_usage',\n",
    "                           rel_xtrm_type = 'high',\n",
    "                           rel_thres = 0.85,\n",
    "                           k = 11,\n",
    "                           drop_na_col = True,       ## boolean (True or False)\n",
    "                           drop_na_row = True,\n",
    "                           samp_method = 'balance')\n",
    "smote_data_mid = smogn.smoter(data = both,\n",
    "                           y = 'cap_space_usage',\n",
    "                           rel_xtrm_type = 'both',\n",
    "                           rel_thres = 0.25,\n",
    "                           k = 11,\n",
    "                           drop_na_col = True,       ## boolean (True or False)\n",
    "                           drop_na_row = True,\n",
    "                           samp_method = 'extreme')\n",
    "smote_data_low = smogn.smoter(data = both,\n",
    "                           y = 'cap_space_usage',\n",
    "                           rel_xtrm_type = 'both',\n",
    "                           rel_thres = 0.001,\n",
    "                           k = 11,\n",
    "                           drop_na_col = True,       ## boolean (True or False)\n",
    "                           drop_na_row = True,\n",
    "                           samp_method = 'extreme')\n",
    "smote_data = pd.concat([smote_data_high, smote_data_mid, smote_data_low], ignore_index=True).drop_duplicates()\n",
    "sm = smote_data.sample(frac=1) ## make sure to shuffle the rows otherwise the cross validation will be scuffed\n",
    "y = sm[['cap_space_usage']]\n",
    "X = sm.drop(columns=['cap_space_usage'])"
   ]
  },
  {
   "cell_type": "code",
   "execution_count": 248,
   "metadata": {},
   "outputs": [
    {
     "output_type": "execute_result",
     "data": {
      "text/plain": [
       "<seaborn.axisgrid.FacetGrid at 0x2b58cfe4190>"
      ]
     },
     "metadata": {},
     "execution_count": 248
    },
    {
     "output_type": "display_data",
     "data": {
      "text/plain": "<Figure size 483.375x360 with 1 Axes>",
      "image/svg+xml": "<?xml version=\"1.0\" encoding=\"utf-8\" standalone=\"no\"?>\r\n<!DOCTYPE svg PUBLIC \"-//W3C//DTD SVG 1.1//EN\"\r\n  \"http://www.w3.org/Graphics/SVG/1.1/DTD/svg11.dtd\">\r\n<!-- Created with matplotlib (https://matplotlib.org/) -->\r\n<svg height=\"352.478125pt\" version=\"1.1\" viewBox=\"0 0 481.615625 352.478125\" width=\"481.615625pt\" xmlns=\"http://www.w3.org/2000/svg\" xmlns:xlink=\"http://www.w3.org/1999/xlink\">\r\n <metadata>\r\n  <rdf:RDF xmlns:cc=\"http://creativecommons.org/ns#\" xmlns:dc=\"http://purl.org/dc/elements/1.1/\" xmlns:rdf=\"http://www.w3.org/1999/02/22-rdf-syntax-ns#\">\r\n   <cc:Work>\r\n    <dc:type rdf:resource=\"http://purl.org/dc/dcmitype/StillImage\"/>\r\n    <dc:date>2021-05-28T17:17:58.565787</dc:date>\r\n    <dc:format>image/svg+xml</dc:format>\r\n    <dc:creator>\r\n     <cc:Agent>\r\n      <dc:title>Matplotlib v3.3.4, https://matplotlib.org/</dc:title>\r\n     </cc:Agent>\r\n    </dc:creator>\r\n   </cc:Work>\r\n  </rdf:RDF>\r\n </metadata>\r\n <defs>\r\n  <style type=\"text/css\">*{stroke-linecap:butt;stroke-linejoin:round;}</style>\r\n </defs>\r\n <g id=\"figure_1\">\r\n  <g id=\"patch_1\">\r\n   <path d=\"M 0 352.478125 \r\nL 481.615625 352.478125 \r\nL 481.615625 0 \r\nL 0 0 \r\nz\r\n\" style=\"fill:none;\"/>\r\n  </g>\r\n  <g id=\"axes_1\">\r\n   <g id=\"patch_2\">\r\n    <path d=\"M 46.965625 328.6 \r\nL 340.406875 328.6 \r\nL 340.406875 7.2 \r\nL 46.965625 7.2 \r\nz\r\n\" style=\"fill:#ffffff;\"/>\r\n   </g>\r\n   <g id=\"patch_3\">\r\n    <path clip-path=\"url(#p4c38ab4572)\" d=\"M 60.303864 328.6 \r\nL 80.824231 328.6 \r\nL 80.824231 22.504762 \r\nL 60.303864 22.504762 \r\nz\r\n\" style=\"fill:#1f77b4;fill-opacity:0.75;stroke:#000000;stroke-linejoin:miter;\"/>\r\n   </g>\r\n   <g id=\"patch_4\">\r\n    <path clip-path=\"url(#p4c38ab4572)\" d=\"M 80.824231 328.6 \r\nL 101.344598 328.6 \r\nL 101.344598 110.801465 \r\nL 80.824231 110.801465 \r\nz\r\n\" style=\"fill:#1f77b4;fill-opacity:0.75;stroke:#000000;stroke-linejoin:miter;\"/>\r\n   </g>\r\n   <g id=\"patch_5\">\r\n    <path clip-path=\"url(#p4c38ab4572)\" d=\"M 101.344598 328.6 \r\nL 121.864965 328.6 \r\nL 121.864965 163.779487 \r\nL 101.344598 163.779487 \r\nz\r\n\" style=\"fill:#1f77b4;fill-opacity:0.75;stroke:#000000;stroke-linejoin:miter;\"/>\r\n   </g>\r\n   <g id=\"patch_6\">\r\n    <path clip-path=\"url(#p4c38ab4572)\" d=\"M 121.864965 328.6 \r\nL 142.385332 328.6 \r\nL 142.385332 113.744689 \r\nL 121.864965 113.744689 \r\nz\r\n\" style=\"fill:#1f77b4;fill-opacity:0.75;stroke:#000000;stroke-linejoin:miter;\"/>\r\n   </g>\r\n   <g id=\"patch_7\">\r\n    <path clip-path=\"url(#p4c38ab4572)\" d=\"M 142.385332 328.6 \r\nL 162.905699 328.6 \r\nL 162.905699 128.460806 \r\nL 142.385332 128.460806 \r\nz\r\n\" style=\"fill:#1f77b4;fill-opacity:0.75;stroke:#000000;stroke-linejoin:miter;\"/>\r\n   </g>\r\n   <g id=\"patch_8\">\r\n    <path clip-path=\"url(#p4c38ab4572)\" d=\"M 162.905699 328.6 \r\nL 183.426066 328.6 \r\nL 183.426066 134.347253 \r\nL 162.905699 134.347253 \r\nz\r\n\" style=\"fill:#1f77b4;fill-opacity:0.75;stroke:#000000;stroke-linejoin:miter;\"/>\r\n   </g>\r\n   <g id=\"patch_9\">\r\n    <path clip-path=\"url(#p4c38ab4572)\" d=\"M 183.426066 328.6 \r\nL 203.946434 328.6 \r\nL 203.946434 128.460806 \r\nL 183.426066 128.460806 \r\nz\r\n\" style=\"fill:#1f77b4;fill-opacity:0.75;stroke:#000000;stroke-linejoin:miter;\"/>\r\n   </g>\r\n   <g id=\"patch_10\">\r\n    <path clip-path=\"url(#p4c38ab4572)\" d=\"M 203.946434 328.6 \r\nL 224.466801 328.6 \r\nL 224.466801 196.154945 \r\nL 203.946434 196.154945 \r\nz\r\n\" style=\"fill:#1f77b4;fill-opacity:0.75;stroke:#000000;stroke-linejoin:miter;\"/>\r\n   </g>\r\n   <g id=\"patch_11\">\r\n    <path clip-path=\"url(#p4c38ab4572)\" d=\"M 224.466801 328.6 \r\nL 244.987168 328.6 \r\nL 244.987168 281.508425 \r\nL 224.466801 281.508425 \r\nz\r\n\" style=\"fill:#1f77b4;fill-opacity:0.75;stroke:#000000;stroke-linejoin:miter;\"/>\r\n   </g>\r\n   <g id=\"patch_12\">\r\n    <path clip-path=\"url(#p4c38ab4572)\" d=\"M 244.987168 328.6 \r\nL 265.507535 328.6 \r\nL 265.507535 328.6 \r\nL 244.987168 328.6 \r\nz\r\n\" style=\"fill:#1f77b4;fill-opacity:0.75;stroke:#000000;stroke-linejoin:miter;\"/>\r\n   </g>\r\n   <g id=\"patch_13\">\r\n    <path clip-path=\"url(#p4c38ab4572)\" d=\"M 265.507535 328.6 \r\nL 286.027902 328.6 \r\nL 286.027902 322.713553 \r\nL 265.507535 322.713553 \r\nz\r\n\" style=\"fill:#1f77b4;fill-opacity:0.75;stroke:#000000;stroke-linejoin:miter;\"/>\r\n   </g>\r\n   <g id=\"patch_14\">\r\n    <path clip-path=\"url(#p4c38ab4572)\" d=\"M 286.027902 328.6 \r\nL 306.548269 328.6 \r\nL 306.548269 325.656777 \r\nL 286.027902 325.656777 \r\nz\r\n\" style=\"fill:#1f77b4;fill-opacity:0.75;stroke:#000000;stroke-linejoin:miter;\"/>\r\n   </g>\r\n   <g id=\"patch_15\">\r\n    <path clip-path=\"url(#p4c38ab4572)\" d=\"M 306.548269 328.6 \r\nL 327.068636 328.6 \r\nL 327.068636 325.656777 \r\nL 306.548269 325.656777 \r\nz\r\n\" style=\"fill:#1f77b4;fill-opacity:0.75;stroke:#000000;stroke-linejoin:miter;\"/>\r\n   </g>\r\n   <g id=\"matplotlib.axis_1\">\r\n    <g id=\"xtick_1\">\r\n     <g id=\"line2d_1\">\r\n      <defs>\r\n       <path d=\"M 0 0 \r\nL 0 3.5 \r\n\" id=\"m6083a91001\" style=\"stroke:#000000;stroke-width:0.8;\"/>\r\n      </defs>\r\n      <g>\r\n       <use style=\"stroke:#000000;stroke-width:0.8;\" x=\"59.386864\" xlink:href=\"#m6083a91001\" y=\"328.6\"/>\r\n      </g>\r\n     </g>\r\n     <g id=\"text_1\">\r\n      <!-- 0.0 -->\r\n      <g transform=\"translate(51.435301 343.198437)scale(0.1 -0.1)\">\r\n       <defs>\r\n        <path d=\"M 31.78125 66.40625 \r\nQ 24.171875 66.40625 20.328125 58.90625 \r\nQ 16.5 51.421875 16.5 36.375 \r\nQ 16.5 21.390625 20.328125 13.890625 \r\nQ 24.171875 6.390625 31.78125 6.390625 \r\nQ 39.453125 6.390625 43.28125 13.890625 \r\nQ 47.125 21.390625 47.125 36.375 \r\nQ 47.125 51.421875 43.28125 58.90625 \r\nQ 39.453125 66.40625 31.78125 66.40625 \r\nz\r\nM 31.78125 74.21875 \r\nQ 44.046875 74.21875 50.515625 64.515625 \r\nQ 56.984375 54.828125 56.984375 36.375 \r\nQ 56.984375 17.96875 50.515625 8.265625 \r\nQ 44.046875 -1.421875 31.78125 -1.421875 \r\nQ 19.53125 -1.421875 13.0625 8.265625 \r\nQ 6.59375 17.96875 6.59375 36.375 \r\nQ 6.59375 54.828125 13.0625 64.515625 \r\nQ 19.53125 74.21875 31.78125 74.21875 \r\nz\r\n\" id=\"DejaVuSans-48\"/>\r\n        <path d=\"M 10.6875 12.40625 \r\nL 21 12.40625 \r\nL 21 0 \r\nL 10.6875 0 \r\nz\r\n\" id=\"DejaVuSans-46\"/>\r\n       </defs>\r\n       <use xlink:href=\"#DejaVuSans-48\"/>\r\n       <use x=\"63.623047\" xlink:href=\"#DejaVuSans-46\"/>\r\n       <use x=\"95.410156\" xlink:href=\"#DejaVuSans-48\"/>\r\n      </g>\r\n     </g>\r\n    </g>\r\n    <g id=\"xtick_2\">\r\n     <g id=\"line2d_2\">\r\n      <g>\r\n       <use style=\"stroke:#000000;stroke-width:0.8;\" x=\"110.373868\" xlink:href=\"#m6083a91001\" y=\"328.6\"/>\r\n      </g>\r\n     </g>\r\n     <g id=\"text_2\">\r\n      <!-- 0.1 -->\r\n      <g transform=\"translate(102.422306 343.198437)scale(0.1 -0.1)\">\r\n       <defs>\r\n        <path d=\"M 12.40625 8.296875 \r\nL 28.515625 8.296875 \r\nL 28.515625 63.921875 \r\nL 10.984375 60.40625 \r\nL 10.984375 69.390625 \r\nL 28.421875 72.90625 \r\nL 38.28125 72.90625 \r\nL 38.28125 8.296875 \r\nL 54.390625 8.296875 \r\nL 54.390625 0 \r\nL 12.40625 0 \r\nz\r\n\" id=\"DejaVuSans-49\"/>\r\n       </defs>\r\n       <use xlink:href=\"#DejaVuSans-48\"/>\r\n       <use x=\"63.623047\" xlink:href=\"#DejaVuSans-46\"/>\r\n       <use x=\"95.410156\" xlink:href=\"#DejaVuSans-49\"/>\r\n      </g>\r\n     </g>\r\n    </g>\r\n    <g id=\"xtick_3\">\r\n     <g id=\"line2d_3\">\r\n      <g>\r\n       <use style=\"stroke:#000000;stroke-width:0.8;\" x=\"161.360872\" xlink:href=\"#m6083a91001\" y=\"328.6\"/>\r\n      </g>\r\n     </g>\r\n     <g id=\"text_3\">\r\n      <!-- 0.2 -->\r\n      <g transform=\"translate(153.40931 343.198437)scale(0.1 -0.1)\">\r\n       <defs>\r\n        <path d=\"M 19.1875 8.296875 \r\nL 53.609375 8.296875 \r\nL 53.609375 0 \r\nL 7.328125 0 \r\nL 7.328125 8.296875 \r\nQ 12.9375 14.109375 22.625 23.890625 \r\nQ 32.328125 33.6875 34.8125 36.53125 \r\nQ 39.546875 41.84375 41.421875 45.53125 \r\nQ 43.3125 49.21875 43.3125 52.78125 \r\nQ 43.3125 58.59375 39.234375 62.25 \r\nQ 35.15625 65.921875 28.609375 65.921875 \r\nQ 23.96875 65.921875 18.8125 64.3125 \r\nQ 13.671875 62.703125 7.8125 59.421875 \r\nL 7.8125 69.390625 \r\nQ 13.765625 71.78125 18.9375 73 \r\nQ 24.125 74.21875 28.421875 74.21875 \r\nQ 39.75 74.21875 46.484375 68.546875 \r\nQ 53.21875 62.890625 53.21875 53.421875 \r\nQ 53.21875 48.921875 51.53125 44.890625 \r\nQ 49.859375 40.875 45.40625 35.40625 \r\nQ 44.1875 33.984375 37.640625 27.21875 \r\nQ 31.109375 20.453125 19.1875 8.296875 \r\nz\r\n\" id=\"DejaVuSans-50\"/>\r\n       </defs>\r\n       <use xlink:href=\"#DejaVuSans-48\"/>\r\n       <use x=\"63.623047\" xlink:href=\"#DejaVuSans-46\"/>\r\n       <use x=\"95.410156\" xlink:href=\"#DejaVuSans-50\"/>\r\n      </g>\r\n     </g>\r\n    </g>\r\n    <g id=\"xtick_4\">\r\n     <g id=\"line2d_4\">\r\n      <g>\r\n       <use style=\"stroke:#000000;stroke-width:0.8;\" x=\"212.347877\" xlink:href=\"#m6083a91001\" y=\"328.6\"/>\r\n      </g>\r\n     </g>\r\n     <g id=\"text_4\">\r\n      <!-- 0.3 -->\r\n      <g transform=\"translate(204.396314 343.198437)scale(0.1 -0.1)\">\r\n       <defs>\r\n        <path d=\"M 40.578125 39.3125 \r\nQ 47.65625 37.796875 51.625 33 \r\nQ 55.609375 28.21875 55.609375 21.1875 \r\nQ 55.609375 10.40625 48.1875 4.484375 \r\nQ 40.765625 -1.421875 27.09375 -1.421875 \r\nQ 22.515625 -1.421875 17.65625 -0.515625 \r\nQ 12.796875 0.390625 7.625 2.203125 \r\nL 7.625 11.71875 \r\nQ 11.71875 9.328125 16.59375 8.109375 \r\nQ 21.484375 6.890625 26.8125 6.890625 \r\nQ 36.078125 6.890625 40.9375 10.546875 \r\nQ 45.796875 14.203125 45.796875 21.1875 \r\nQ 45.796875 27.640625 41.28125 31.265625 \r\nQ 36.765625 34.90625 28.71875 34.90625 \r\nL 20.21875 34.90625 \r\nL 20.21875 43.015625 \r\nL 29.109375 43.015625 \r\nQ 36.375 43.015625 40.234375 45.921875 \r\nQ 44.09375 48.828125 44.09375 54.296875 \r\nQ 44.09375 59.90625 40.109375 62.90625 \r\nQ 36.140625 65.921875 28.71875 65.921875 \r\nQ 24.65625 65.921875 20.015625 65.03125 \r\nQ 15.375 64.15625 9.8125 62.3125 \r\nL 9.8125 71.09375 \r\nQ 15.4375 72.65625 20.34375 73.4375 \r\nQ 25.25 74.21875 29.59375 74.21875 \r\nQ 40.828125 74.21875 47.359375 69.109375 \r\nQ 53.90625 64.015625 53.90625 55.328125 \r\nQ 53.90625 49.265625 50.4375 45.09375 \r\nQ 46.96875 40.921875 40.578125 39.3125 \r\nz\r\n\" id=\"DejaVuSans-51\"/>\r\n       </defs>\r\n       <use xlink:href=\"#DejaVuSans-48\"/>\r\n       <use x=\"63.623047\" xlink:href=\"#DejaVuSans-46\"/>\r\n       <use x=\"95.410156\" xlink:href=\"#DejaVuSans-51\"/>\r\n      </g>\r\n     </g>\r\n    </g>\r\n    <g id=\"xtick_5\">\r\n     <g id=\"line2d_5\">\r\n      <g>\r\n       <use style=\"stroke:#000000;stroke-width:0.8;\" x=\"263.334881\" xlink:href=\"#m6083a91001\" y=\"328.6\"/>\r\n      </g>\r\n     </g>\r\n     <g id=\"text_5\">\r\n      <!-- 0.4 -->\r\n      <g transform=\"translate(255.383318 343.198437)scale(0.1 -0.1)\">\r\n       <defs>\r\n        <path d=\"M 37.796875 64.3125 \r\nL 12.890625 25.390625 \r\nL 37.796875 25.390625 \r\nz\r\nM 35.203125 72.90625 \r\nL 47.609375 72.90625 \r\nL 47.609375 25.390625 \r\nL 58.015625 25.390625 \r\nL 58.015625 17.1875 \r\nL 47.609375 17.1875 \r\nL 47.609375 0 \r\nL 37.796875 0 \r\nL 37.796875 17.1875 \r\nL 4.890625 17.1875 \r\nL 4.890625 26.703125 \r\nz\r\n\" id=\"DejaVuSans-52\"/>\r\n       </defs>\r\n       <use xlink:href=\"#DejaVuSans-48\"/>\r\n       <use x=\"63.623047\" xlink:href=\"#DejaVuSans-46\"/>\r\n       <use x=\"95.410156\" xlink:href=\"#DejaVuSans-52\"/>\r\n      </g>\r\n     </g>\r\n    </g>\r\n    <g id=\"xtick_6\">\r\n     <g id=\"line2d_6\">\r\n      <g>\r\n       <use style=\"stroke:#000000;stroke-width:0.8;\" x=\"314.321885\" xlink:href=\"#m6083a91001\" y=\"328.6\"/>\r\n      </g>\r\n     </g>\r\n     <g id=\"text_6\">\r\n      <!-- 0.5 -->\r\n      <g transform=\"translate(306.370323 343.198437)scale(0.1 -0.1)\">\r\n       <defs>\r\n        <path d=\"M 10.796875 72.90625 \r\nL 49.515625 72.90625 \r\nL 49.515625 64.59375 \r\nL 19.828125 64.59375 \r\nL 19.828125 46.734375 \r\nQ 21.96875 47.46875 24.109375 47.828125 \r\nQ 26.265625 48.1875 28.421875 48.1875 \r\nQ 40.625 48.1875 47.75 41.5 \r\nQ 54.890625 34.8125 54.890625 23.390625 \r\nQ 54.890625 11.625 47.5625 5.09375 \r\nQ 40.234375 -1.421875 26.90625 -1.421875 \r\nQ 22.3125 -1.421875 17.546875 -0.640625 \r\nQ 12.796875 0.140625 7.71875 1.703125 \r\nL 7.71875 11.625 \r\nQ 12.109375 9.234375 16.796875 8.0625 \r\nQ 21.484375 6.890625 26.703125 6.890625 \r\nQ 35.15625 6.890625 40.078125 11.328125 \r\nQ 45.015625 15.765625 45.015625 23.390625 \r\nQ 45.015625 31 40.078125 35.4375 \r\nQ 35.15625 39.890625 26.703125 39.890625 \r\nQ 22.75 39.890625 18.8125 39.015625 \r\nQ 14.890625 38.140625 10.796875 36.28125 \r\nz\r\n\" id=\"DejaVuSans-53\"/>\r\n       </defs>\r\n       <use xlink:href=\"#DejaVuSans-48\"/>\r\n       <use x=\"63.623047\" xlink:href=\"#DejaVuSans-46\"/>\r\n       <use x=\"95.410156\" xlink:href=\"#DejaVuSans-53\"/>\r\n      </g>\r\n     </g>\r\n    </g>\r\n   </g>\r\n   <g id=\"matplotlib.axis_2\">\r\n    <g id=\"ytick_1\">\r\n     <g id=\"line2d_7\">\r\n      <defs>\r\n       <path d=\"M 0 0 \r\nL -3.5 0 \r\n\" id=\"m03f69fedd3\" style=\"stroke:#000000;stroke-width:0.8;\"/>\r\n      </defs>\r\n      <g>\r\n       <use style=\"stroke:#000000;stroke-width:0.8;\" x=\"46.965625\" xlink:href=\"#m03f69fedd3\" y=\"328.6\"/>\r\n      </g>\r\n     </g>\r\n     <g id=\"text_7\">\r\n      <!-- 0 -->\r\n      <g transform=\"translate(33.603125 332.399219)scale(0.1 -0.1)\">\r\n       <use xlink:href=\"#DejaVuSans-48\"/>\r\n      </g>\r\n     </g>\r\n    </g>\r\n    <g id=\"ytick_2\">\r\n     <g id=\"line2d_8\">\r\n      <g>\r\n       <use style=\"stroke:#000000;stroke-width:0.8;\" x=\"46.965625\" xlink:href=\"#m03f69fedd3\" y=\"269.735531\"/>\r\n      </g>\r\n     </g>\r\n     <g id=\"text_8\">\r\n      <!-- 20 -->\r\n      <g transform=\"translate(27.240625 273.53475)scale(0.1 -0.1)\">\r\n       <use xlink:href=\"#DejaVuSans-50\"/>\r\n       <use x=\"63.623047\" xlink:href=\"#DejaVuSans-48\"/>\r\n      </g>\r\n     </g>\r\n    </g>\r\n    <g id=\"ytick_3\">\r\n     <g id=\"line2d_9\">\r\n      <g>\r\n       <use style=\"stroke:#000000;stroke-width:0.8;\" x=\"46.965625\" xlink:href=\"#m03f69fedd3\" y=\"210.871062\"/>\r\n      </g>\r\n     </g>\r\n     <g id=\"text_9\">\r\n      <!-- 40 -->\r\n      <g transform=\"translate(27.240625 214.670281)scale(0.1 -0.1)\">\r\n       <use xlink:href=\"#DejaVuSans-52\"/>\r\n       <use x=\"63.623047\" xlink:href=\"#DejaVuSans-48\"/>\r\n      </g>\r\n     </g>\r\n    </g>\r\n    <g id=\"ytick_4\">\r\n     <g id=\"line2d_10\">\r\n      <g>\r\n       <use style=\"stroke:#000000;stroke-width:0.8;\" x=\"46.965625\" xlink:href=\"#m03f69fedd3\" y=\"152.006593\"/>\r\n      </g>\r\n     </g>\r\n     <g id=\"text_10\">\r\n      <!-- 60 -->\r\n      <g transform=\"translate(27.240625 155.805812)scale(0.1 -0.1)\">\r\n       <defs>\r\n        <path d=\"M 33.015625 40.375 \r\nQ 26.375 40.375 22.484375 35.828125 \r\nQ 18.609375 31.296875 18.609375 23.390625 \r\nQ 18.609375 15.53125 22.484375 10.953125 \r\nQ 26.375 6.390625 33.015625 6.390625 \r\nQ 39.65625 6.390625 43.53125 10.953125 \r\nQ 47.40625 15.53125 47.40625 23.390625 \r\nQ 47.40625 31.296875 43.53125 35.828125 \r\nQ 39.65625 40.375 33.015625 40.375 \r\nz\r\nM 52.59375 71.296875 \r\nL 52.59375 62.3125 \r\nQ 48.875 64.0625 45.09375 64.984375 \r\nQ 41.3125 65.921875 37.59375 65.921875 \r\nQ 27.828125 65.921875 22.671875 59.328125 \r\nQ 17.53125 52.734375 16.796875 39.40625 \r\nQ 19.671875 43.65625 24.015625 45.921875 \r\nQ 28.375 48.1875 33.59375 48.1875 \r\nQ 44.578125 48.1875 50.953125 41.515625 \r\nQ 57.328125 34.859375 57.328125 23.390625 \r\nQ 57.328125 12.15625 50.6875 5.359375 \r\nQ 44.046875 -1.421875 33.015625 -1.421875 \r\nQ 20.359375 -1.421875 13.671875 8.265625 \r\nQ 6.984375 17.96875 6.984375 36.375 \r\nQ 6.984375 53.65625 15.1875 63.9375 \r\nQ 23.390625 74.21875 37.203125 74.21875 \r\nQ 40.921875 74.21875 44.703125 73.484375 \r\nQ 48.484375 72.75 52.59375 71.296875 \r\nz\r\n\" id=\"DejaVuSans-54\"/>\r\n       </defs>\r\n       <use xlink:href=\"#DejaVuSans-54\"/>\r\n       <use x=\"63.623047\" xlink:href=\"#DejaVuSans-48\"/>\r\n      </g>\r\n     </g>\r\n    </g>\r\n    <g id=\"ytick_5\">\r\n     <g id=\"line2d_11\">\r\n      <g>\r\n       <use style=\"stroke:#000000;stroke-width:0.8;\" x=\"46.965625\" xlink:href=\"#m03f69fedd3\" y=\"93.142125\"/>\r\n      </g>\r\n     </g>\r\n     <g id=\"text_11\">\r\n      <!-- 80 -->\r\n      <g transform=\"translate(27.240625 96.941343)scale(0.1 -0.1)\">\r\n       <defs>\r\n        <path d=\"M 31.78125 34.625 \r\nQ 24.75 34.625 20.71875 30.859375 \r\nQ 16.703125 27.09375 16.703125 20.515625 \r\nQ 16.703125 13.921875 20.71875 10.15625 \r\nQ 24.75 6.390625 31.78125 6.390625 \r\nQ 38.8125 6.390625 42.859375 10.171875 \r\nQ 46.921875 13.96875 46.921875 20.515625 \r\nQ 46.921875 27.09375 42.890625 30.859375 \r\nQ 38.875 34.625 31.78125 34.625 \r\nz\r\nM 21.921875 38.8125 \r\nQ 15.578125 40.375 12.03125 44.71875 \r\nQ 8.5 49.078125 8.5 55.328125 \r\nQ 8.5 64.0625 14.71875 69.140625 \r\nQ 20.953125 74.21875 31.78125 74.21875 \r\nQ 42.671875 74.21875 48.875 69.140625 \r\nQ 55.078125 64.0625 55.078125 55.328125 \r\nQ 55.078125 49.078125 51.53125 44.71875 \r\nQ 48 40.375 41.703125 38.8125 \r\nQ 48.828125 37.15625 52.796875 32.3125 \r\nQ 56.78125 27.484375 56.78125 20.515625 \r\nQ 56.78125 9.90625 50.3125 4.234375 \r\nQ 43.84375 -1.421875 31.78125 -1.421875 \r\nQ 19.734375 -1.421875 13.25 4.234375 \r\nQ 6.78125 9.90625 6.78125 20.515625 \r\nQ 6.78125 27.484375 10.78125 32.3125 \r\nQ 14.796875 37.15625 21.921875 38.8125 \r\nz\r\nM 18.3125 54.390625 \r\nQ 18.3125 48.734375 21.84375 45.5625 \r\nQ 25.390625 42.390625 31.78125 42.390625 \r\nQ 38.140625 42.390625 41.71875 45.5625 \r\nQ 45.3125 48.734375 45.3125 54.390625 \r\nQ 45.3125 60.0625 41.71875 63.234375 \r\nQ 38.140625 66.40625 31.78125 66.40625 \r\nQ 25.390625 66.40625 21.84375 63.234375 \r\nQ 18.3125 60.0625 18.3125 54.390625 \r\nz\r\n\" id=\"DejaVuSans-56\"/>\r\n       </defs>\r\n       <use xlink:href=\"#DejaVuSans-56\"/>\r\n       <use x=\"63.623047\" xlink:href=\"#DejaVuSans-48\"/>\r\n      </g>\r\n     </g>\r\n    </g>\r\n    <g id=\"ytick_6\">\r\n     <g id=\"line2d_12\">\r\n      <g>\r\n       <use style=\"stroke:#000000;stroke-width:0.8;\" x=\"46.965625\" xlink:href=\"#m03f69fedd3\" y=\"34.277656\"/>\r\n      </g>\r\n     </g>\r\n     <g id=\"text_12\">\r\n      <!-- 100 -->\r\n      <g transform=\"translate(20.878125 38.076874)scale(0.1 -0.1)\">\r\n       <use xlink:href=\"#DejaVuSans-49\"/>\r\n       <use x=\"63.623047\" xlink:href=\"#DejaVuSans-48\"/>\r\n       <use x=\"127.246094\" xlink:href=\"#DejaVuSans-48\"/>\r\n      </g>\r\n     </g>\r\n    </g>\r\n    <g id=\"text_13\">\r\n     <!-- Count -->\r\n     <g transform=\"translate(14.798438 182.748437)rotate(-90)scale(0.1 -0.1)\">\r\n      <defs>\r\n       <path d=\"M 64.40625 67.28125 \r\nL 64.40625 56.890625 \r\nQ 59.421875 61.53125 53.78125 63.8125 \r\nQ 48.140625 66.109375 41.796875 66.109375 \r\nQ 29.296875 66.109375 22.65625 58.46875 \r\nQ 16.015625 50.828125 16.015625 36.375 \r\nQ 16.015625 21.96875 22.65625 14.328125 \r\nQ 29.296875 6.6875 41.796875 6.6875 \r\nQ 48.140625 6.6875 53.78125 8.984375 \r\nQ 59.421875 11.28125 64.40625 15.921875 \r\nL 64.40625 5.609375 \r\nQ 59.234375 2.09375 53.4375 0.328125 \r\nQ 47.65625 -1.421875 41.21875 -1.421875 \r\nQ 24.65625 -1.421875 15.125 8.703125 \r\nQ 5.609375 18.84375 5.609375 36.375 \r\nQ 5.609375 53.953125 15.125 64.078125 \r\nQ 24.65625 74.21875 41.21875 74.21875 \r\nQ 47.75 74.21875 53.53125 72.484375 \r\nQ 59.328125 70.75 64.40625 67.28125 \r\nz\r\n\" id=\"DejaVuSans-67\"/>\r\n       <path d=\"M 30.609375 48.390625 \r\nQ 23.390625 48.390625 19.1875 42.75 \r\nQ 14.984375 37.109375 14.984375 27.296875 \r\nQ 14.984375 17.484375 19.15625 11.84375 \r\nQ 23.34375 6.203125 30.609375 6.203125 \r\nQ 37.796875 6.203125 41.984375 11.859375 \r\nQ 46.1875 17.53125 46.1875 27.296875 \r\nQ 46.1875 37.015625 41.984375 42.703125 \r\nQ 37.796875 48.390625 30.609375 48.390625 \r\nz\r\nM 30.609375 56 \r\nQ 42.328125 56 49.015625 48.375 \r\nQ 55.71875 40.765625 55.71875 27.296875 \r\nQ 55.71875 13.875 49.015625 6.21875 \r\nQ 42.328125 -1.421875 30.609375 -1.421875 \r\nQ 18.84375 -1.421875 12.171875 6.21875 \r\nQ 5.515625 13.875 5.515625 27.296875 \r\nQ 5.515625 40.765625 12.171875 48.375 \r\nQ 18.84375 56 30.609375 56 \r\nz\r\n\" id=\"DejaVuSans-111\"/>\r\n       <path d=\"M 8.5 21.578125 \r\nL 8.5 54.6875 \r\nL 17.484375 54.6875 \r\nL 17.484375 21.921875 \r\nQ 17.484375 14.15625 20.5 10.265625 \r\nQ 23.53125 6.390625 29.59375 6.390625 \r\nQ 36.859375 6.390625 41.078125 11.03125 \r\nQ 45.3125 15.671875 45.3125 23.6875 \r\nL 45.3125 54.6875 \r\nL 54.296875 54.6875 \r\nL 54.296875 0 \r\nL 45.3125 0 \r\nL 45.3125 8.40625 \r\nQ 42.046875 3.421875 37.71875 1 \r\nQ 33.40625 -1.421875 27.6875 -1.421875 \r\nQ 18.265625 -1.421875 13.375 4.4375 \r\nQ 8.5 10.296875 8.5 21.578125 \r\nz\r\nM 31.109375 56 \r\nz\r\n\" id=\"DejaVuSans-117\"/>\r\n       <path d=\"M 54.890625 33.015625 \r\nL 54.890625 0 \r\nL 45.90625 0 \r\nL 45.90625 32.71875 \r\nQ 45.90625 40.484375 42.875 44.328125 \r\nQ 39.84375 48.1875 33.796875 48.1875 \r\nQ 26.515625 48.1875 22.3125 43.546875 \r\nQ 18.109375 38.921875 18.109375 30.90625 \r\nL 18.109375 0 \r\nL 9.078125 0 \r\nL 9.078125 54.6875 \r\nL 18.109375 54.6875 \r\nL 18.109375 46.1875 \r\nQ 21.34375 51.125 25.703125 53.5625 \r\nQ 30.078125 56 35.796875 56 \r\nQ 45.21875 56 50.046875 50.171875 \r\nQ 54.890625 44.34375 54.890625 33.015625 \r\nz\r\n\" id=\"DejaVuSans-110\"/>\r\n       <path d=\"M 18.3125 70.21875 \r\nL 18.3125 54.6875 \r\nL 36.8125 54.6875 \r\nL 36.8125 47.703125 \r\nL 18.3125 47.703125 \r\nL 18.3125 18.015625 \r\nQ 18.3125 11.328125 20.140625 9.421875 \r\nQ 21.96875 7.515625 27.59375 7.515625 \r\nL 36.8125 7.515625 \r\nL 36.8125 0 \r\nL 27.59375 0 \r\nQ 17.1875 0 13.234375 3.875 \r\nQ 9.28125 7.765625 9.28125 18.015625 \r\nL 9.28125 47.703125 \r\nL 2.6875 47.703125 \r\nL 2.6875 54.6875 \r\nL 9.28125 54.6875 \r\nL 9.28125 70.21875 \r\nz\r\n\" id=\"DejaVuSans-116\"/>\r\n      </defs>\r\n      <use xlink:href=\"#DejaVuSans-67\"/>\r\n      <use x=\"69.824219\" xlink:href=\"#DejaVuSans-111\"/>\r\n      <use x=\"131.005859\" xlink:href=\"#DejaVuSans-117\"/>\r\n      <use x=\"194.384766\" xlink:href=\"#DejaVuSans-110\"/>\r\n      <use x=\"257.763672\" xlink:href=\"#DejaVuSans-116\"/>\r\n     </g>\r\n    </g>\r\n   </g>\r\n   <g id=\"patch_16\">\r\n    <path d=\"M 46.965625 328.6 \r\nL 46.965625 7.2 \r\n\" style=\"fill:none;stroke:#000000;stroke-linecap:square;stroke-linejoin:miter;stroke-width:0.8;\"/>\r\n   </g>\r\n   <g id=\"patch_17\">\r\n    <path d=\"M 46.965625 328.6 \r\nL 340.406875 328.6 \r\n\" style=\"fill:none;stroke:#000000;stroke-linecap:square;stroke-linejoin:miter;stroke-width:0.8;\"/>\r\n   </g>\r\n  </g>\r\n  <g id=\"legend_1\">\r\n   <g id=\"patch_18\">\r\n    <path d=\"M 357.126562 178.859375 \r\nL 377.126562 178.859375 \r\nL 377.126562 171.859375 \r\nL 357.126562 171.859375 \r\nz\r\n\" style=\"fill:#1f77b4;fill-opacity:0.75;stroke:#000000;stroke-linejoin:miter;\"/>\r\n   </g>\r\n   <g id=\"text_14\">\r\n    <!-- cap_space_usage -->\r\n    <g transform=\"translate(385.126562 178.859375)scale(0.1 -0.1)\">\r\n     <defs>\r\n      <path d=\"M 48.78125 52.59375 \r\nL 48.78125 44.1875 \r\nQ 44.96875 46.296875 41.140625 47.34375 \r\nQ 37.3125 48.390625 33.40625 48.390625 \r\nQ 24.65625 48.390625 19.8125 42.84375 \r\nQ 14.984375 37.3125 14.984375 27.296875 \r\nQ 14.984375 17.28125 19.8125 11.734375 \r\nQ 24.65625 6.203125 33.40625 6.203125 \r\nQ 37.3125 6.203125 41.140625 7.25 \r\nQ 44.96875 8.296875 48.78125 10.40625 \r\nL 48.78125 2.09375 \r\nQ 45.015625 0.34375 40.984375 -0.53125 \r\nQ 36.96875 -1.421875 32.421875 -1.421875 \r\nQ 20.0625 -1.421875 12.78125 6.34375 \r\nQ 5.515625 14.109375 5.515625 27.296875 \r\nQ 5.515625 40.671875 12.859375 48.328125 \r\nQ 20.21875 56 33.015625 56 \r\nQ 37.15625 56 41.109375 55.140625 \r\nQ 45.0625 54.296875 48.78125 52.59375 \r\nz\r\n\" id=\"DejaVuSans-99\"/>\r\n      <path d=\"M 34.28125 27.484375 \r\nQ 23.390625 27.484375 19.1875 25 \r\nQ 14.984375 22.515625 14.984375 16.5 \r\nQ 14.984375 11.71875 18.140625 8.90625 \r\nQ 21.296875 6.109375 26.703125 6.109375 \r\nQ 34.1875 6.109375 38.703125 11.40625 \r\nQ 43.21875 16.703125 43.21875 25.484375 \r\nL 43.21875 27.484375 \r\nz\r\nM 52.203125 31.203125 \r\nL 52.203125 0 \r\nL 43.21875 0 \r\nL 43.21875 8.296875 \r\nQ 40.140625 3.328125 35.546875 0.953125 \r\nQ 30.953125 -1.421875 24.3125 -1.421875 \r\nQ 15.921875 -1.421875 10.953125 3.296875 \r\nQ 6 8.015625 6 15.921875 \r\nQ 6 25.140625 12.171875 29.828125 \r\nQ 18.359375 34.515625 30.609375 34.515625 \r\nL 43.21875 34.515625 \r\nL 43.21875 35.40625 \r\nQ 43.21875 41.609375 39.140625 45 \r\nQ 35.0625 48.390625 27.6875 48.390625 \r\nQ 23 48.390625 18.546875 47.265625 \r\nQ 14.109375 46.140625 10.015625 43.890625 \r\nL 10.015625 52.203125 \r\nQ 14.9375 54.109375 19.578125 55.046875 \r\nQ 24.21875 56 28.609375 56 \r\nQ 40.484375 56 46.34375 49.84375 \r\nQ 52.203125 43.703125 52.203125 31.203125 \r\nz\r\n\" id=\"DejaVuSans-97\"/>\r\n      <path d=\"M 18.109375 8.203125 \r\nL 18.109375 -20.796875 \r\nL 9.078125 -20.796875 \r\nL 9.078125 54.6875 \r\nL 18.109375 54.6875 \r\nL 18.109375 46.390625 \r\nQ 20.953125 51.265625 25.265625 53.625 \r\nQ 29.59375 56 35.59375 56 \r\nQ 45.5625 56 51.78125 48.09375 \r\nQ 58.015625 40.1875 58.015625 27.296875 \r\nQ 58.015625 14.40625 51.78125 6.484375 \r\nQ 45.5625 -1.421875 35.59375 -1.421875 \r\nQ 29.59375 -1.421875 25.265625 0.953125 \r\nQ 20.953125 3.328125 18.109375 8.203125 \r\nz\r\nM 48.6875 27.296875 \r\nQ 48.6875 37.203125 44.609375 42.84375 \r\nQ 40.53125 48.484375 33.40625 48.484375 \r\nQ 26.265625 48.484375 22.1875 42.84375 \r\nQ 18.109375 37.203125 18.109375 27.296875 \r\nQ 18.109375 17.390625 22.1875 11.75 \r\nQ 26.265625 6.109375 33.40625 6.109375 \r\nQ 40.53125 6.109375 44.609375 11.75 \r\nQ 48.6875 17.390625 48.6875 27.296875 \r\nz\r\n\" id=\"DejaVuSans-112\"/>\r\n      <path d=\"M 50.984375 -16.609375 \r\nL 50.984375 -23.578125 \r\nL -0.984375 -23.578125 \r\nL -0.984375 -16.609375 \r\nz\r\n\" id=\"DejaVuSans-95\"/>\r\n      <path d=\"M 44.28125 53.078125 \r\nL 44.28125 44.578125 \r\nQ 40.484375 46.53125 36.375 47.5 \r\nQ 32.28125 48.484375 27.875 48.484375 \r\nQ 21.1875 48.484375 17.84375 46.4375 \r\nQ 14.5 44.390625 14.5 40.28125 \r\nQ 14.5 37.15625 16.890625 35.375 \r\nQ 19.28125 33.59375 26.515625 31.984375 \r\nL 29.59375 31.296875 \r\nQ 39.15625 29.25 43.1875 25.515625 \r\nQ 47.21875 21.78125 47.21875 15.09375 \r\nQ 47.21875 7.46875 41.1875 3.015625 \r\nQ 35.15625 -1.421875 24.609375 -1.421875 \r\nQ 20.21875 -1.421875 15.453125 -0.5625 \r\nQ 10.6875 0.296875 5.421875 2 \r\nL 5.421875 11.28125 \r\nQ 10.40625 8.6875 15.234375 7.390625 \r\nQ 20.0625 6.109375 24.8125 6.109375 \r\nQ 31.15625 6.109375 34.5625 8.28125 \r\nQ 37.984375 10.453125 37.984375 14.40625 \r\nQ 37.984375 18.0625 35.515625 20.015625 \r\nQ 33.0625 21.96875 24.703125 23.78125 \r\nL 21.578125 24.515625 \r\nQ 13.234375 26.265625 9.515625 29.90625 \r\nQ 5.8125 33.546875 5.8125 39.890625 \r\nQ 5.8125 47.609375 11.28125 51.796875 \r\nQ 16.75 56 26.8125 56 \r\nQ 31.78125 56 36.171875 55.265625 \r\nQ 40.578125 54.546875 44.28125 53.078125 \r\nz\r\n\" id=\"DejaVuSans-115\"/>\r\n      <path d=\"M 56.203125 29.59375 \r\nL 56.203125 25.203125 \r\nL 14.890625 25.203125 \r\nQ 15.484375 15.921875 20.484375 11.0625 \r\nQ 25.484375 6.203125 34.421875 6.203125 \r\nQ 39.59375 6.203125 44.453125 7.46875 \r\nQ 49.3125 8.734375 54.109375 11.28125 \r\nL 54.109375 2.78125 \r\nQ 49.265625 0.734375 44.1875 -0.34375 \r\nQ 39.109375 -1.421875 33.890625 -1.421875 \r\nQ 20.796875 -1.421875 13.15625 6.1875 \r\nQ 5.515625 13.8125 5.515625 26.8125 \r\nQ 5.515625 40.234375 12.765625 48.109375 \r\nQ 20.015625 56 32.328125 56 \r\nQ 43.359375 56 49.78125 48.890625 \r\nQ 56.203125 41.796875 56.203125 29.59375 \r\nz\r\nM 47.21875 32.234375 \r\nQ 47.125 39.59375 43.09375 43.984375 \r\nQ 39.0625 48.390625 32.421875 48.390625 \r\nQ 24.90625 48.390625 20.390625 44.140625 \r\nQ 15.875 39.890625 15.1875 32.171875 \r\nz\r\n\" id=\"DejaVuSans-101\"/>\r\n      <path d=\"M 45.40625 27.984375 \r\nQ 45.40625 37.75 41.375 43.109375 \r\nQ 37.359375 48.484375 30.078125 48.484375 \r\nQ 22.859375 48.484375 18.828125 43.109375 \r\nQ 14.796875 37.75 14.796875 27.984375 \r\nQ 14.796875 18.265625 18.828125 12.890625 \r\nQ 22.859375 7.515625 30.078125 7.515625 \r\nQ 37.359375 7.515625 41.375 12.890625 \r\nQ 45.40625 18.265625 45.40625 27.984375 \r\nz\r\nM 54.390625 6.78125 \r\nQ 54.390625 -7.171875 48.1875 -13.984375 \r\nQ 42 -20.796875 29.203125 -20.796875 \r\nQ 24.46875 -20.796875 20.265625 -20.09375 \r\nQ 16.0625 -19.390625 12.109375 -17.921875 \r\nL 12.109375 -9.1875 \r\nQ 16.0625 -11.328125 19.921875 -12.34375 \r\nQ 23.78125 -13.375 27.78125 -13.375 \r\nQ 36.625 -13.375 41.015625 -8.765625 \r\nQ 45.40625 -4.15625 45.40625 5.171875 \r\nL 45.40625 9.625 \r\nQ 42.625 4.78125 38.28125 2.390625 \r\nQ 33.9375 0 27.875 0 \r\nQ 17.828125 0 11.671875 7.65625 \r\nQ 5.515625 15.328125 5.515625 27.984375 \r\nQ 5.515625 40.671875 11.671875 48.328125 \r\nQ 17.828125 56 27.875 56 \r\nQ 33.9375 56 38.28125 53.609375 \r\nQ 42.625 51.21875 45.40625 46.390625 \r\nL 45.40625 54.6875 \r\nL 54.390625 54.6875 \r\nz\r\n\" id=\"DejaVuSans-103\"/>\r\n     </defs>\r\n     <use xlink:href=\"#DejaVuSans-99\"/>\r\n     <use x=\"54.980469\" xlink:href=\"#DejaVuSans-97\"/>\r\n     <use x=\"116.259766\" xlink:href=\"#DejaVuSans-112\"/>\r\n     <use x=\"179.736328\" xlink:href=\"#DejaVuSans-95\"/>\r\n     <use x=\"229.736328\" xlink:href=\"#DejaVuSans-115\"/>\r\n     <use x=\"281.835938\" xlink:href=\"#DejaVuSans-112\"/>\r\n     <use x=\"345.3125\" xlink:href=\"#DejaVuSans-97\"/>\r\n     <use x=\"406.591797\" xlink:href=\"#DejaVuSans-99\"/>\r\n     <use x=\"461.572266\" xlink:href=\"#DejaVuSans-101\"/>\r\n     <use x=\"523.095703\" xlink:href=\"#DejaVuSans-95\"/>\r\n     <use x=\"573.095703\" xlink:href=\"#DejaVuSans-117\"/>\r\n     <use x=\"636.474609\" xlink:href=\"#DejaVuSans-115\"/>\r\n     <use x=\"688.574219\" xlink:href=\"#DejaVuSans-97\"/>\r\n     <use x=\"749.853516\" xlink:href=\"#DejaVuSans-103\"/>\r\n     <use x=\"813.330078\" xlink:href=\"#DejaVuSans-101\"/>\r\n    </g>\r\n   </g>\r\n  </g>\r\n </g>\r\n <defs>\r\n  <clipPath id=\"p4c38ab4572\">\r\n   <rect height=\"321.4\" width=\"293.44125\" x=\"46.965625\" y=\"7.2\"/>\r\n  </clipPath>\r\n </defs>\r\n</svg>\r\n",
      "image/png": "[encoded data removed]"
     },
     "metadata": {
      "needs_background": "light"
     }
    }
   ],
   "source": [
    "sns.displot(y)"
   ]
  },
  {
   "cell_type": "code",
   "execution_count": 249,
   "metadata": {},
   "outputs": [
    {
     "output_type": "stream",
     "name": "stderr",
     "text": [
      "D:\\Users\\chengmingliu\\Anaconda3\\envs\\nba-model\\lib\\site-packages\\sklearn\\utils\\validation.py:63: DataConversionWarning: A column-vector y was passed when a 1d array was expected. Please change the shape of y to (n_samples, ), for example using ravel().\n  return f(*args, **kwargs)\n"
     ]
    }
   ],
   "source": [
    "from sklearn.feature_selection import SelectKBest, f_regression\n",
    "select = SelectKBest(f_regression, k=45)\n",
    "\n",
    "best_features = select.fit_transform(X, y)\n",
    "feature_scores = pd.concat([pd.Series(X.columns), pd.Series(select.scores_)], axis=1)\n",
    "feature_scores.columns = [\"features\", \"score\"]\n",
    "features = list(feature_scores.sort_values(by=[\"score\"], ascending=False).head(25)['features'])"
   ]
  },
  {
   "cell_type": "code",
   "execution_count": 194,
   "metadata": {},
   "outputs": [],
   "source": [
    "from sklearn.model_selection import RandomizedSearchCV\n",
    "# Number of trees in tree\n",
    "n_estimators = range(25, 450, 15)\n",
    "\n",
    "# Maximum number of levels in tree\n",
    "max_depth = range(3, 10, 2)\n",
    "\n",
    "min_child_weight = range(1,7)\n",
    "# Create the random grid\n",
    "random_grid = {'n_estimators': n_estimators,\n",
    "               'max_depth': max_depth,\n",
    "               'min_child_weight': min_child_weight,\n",
    "               'gamma':[i/10.0 for i in range(0,20)],\n",
    "               'colsample_bytree': [i/100.0 for i in range(60, 90, 5)],\n",
    "               'learning_rate': [i/100.0 for i in range(5, 20, 5)],\n",
    "               'reg_alpha':[1e-5, 1e-2, 0.1, 1, 100]}"
   ]
  },
  {
   "cell_type": "code",
   "execution_count": 195,
   "metadata": {},
   "outputs": [
    {
     "output_type": "stream",
     "name": "stdout",
     "text": [
      "Fitting 7 folds for each of 300 candidates, totalling 2100 fits\n"
     ]
    },
    {
     "output_type": "execute_result",
     "data": {
      "text/plain": [
       "RandomizedSearchCV(cv=7,\n",
       "                   estimator=XGBRegressor(base_score=None, booster=None,\n",
       "                                          colsample_bylevel=None,\n",
       "                                          colsample_bynode=None,\n",
       "                                          colsample_bytree=None, gamma=None,\n",
       "                                          gpu_id=None, importance_type='gain',\n",
       "                                          interaction_constraints=None,\n",
       "                                          learning_rate=None,\n",
       "                                          max_delta_step=None, max_depth=None,\n",
       "                                          min_child_weight=None, missing=nan,\n",
       "                                          monotone_constraints=None,\n",
       "                                          n_estimators=100, n...\n",
       "                   n_iter=300, n_jobs=-1,\n",
       "                   param_distributions={'colsample_bytree': [0.6, 0.65, 0.7,\n",
       "                                                             0.75, 0.8, 0.85],\n",
       "                                        'gamma': [0.0, 0.1, 0.2, 0.3, 0.4, 0.5,\n",
       "                                                  0.6, 0.7, 0.8, 0.9, 1.0, 1.1,\n",
       "                                                  1.2, 1.3, 1.4, 1.5, 1.6, 1.7,\n",
       "                                                  1.8, 1.9],\n",
       "                                        'learning_rate': [0.05, 0.1, 0.15],\n",
       "                                        'max_depth': range(3, 10, 2),\n",
       "                                        'min_child_weight': range(1, 7),\n",
       "                                        'n_estimators': range(25, 450, 15),\n",
       "                                        'reg_alpha': [1e-05, 0.01, 0.1, 1,\n",
       "                                                      100]},\n",
       "                   random_state=2, verbose=3)"
      ]
     },
     "metadata": {},
     "execution_count": 195
    }
   ],
   "source": [
    "# Use the random grid to search for best hyperparameters\n",
    "# First create the base model to tune\n",
    "xgb = XGBRegressor()\n",
    "# Random search of parameters, using 3 fold cross validation, \n",
    "# search across 100 different combinations, and use all available cores\n",
    "xgb_random = RandomizedSearchCV(estimator = xgb, param_distributions = random_grid, n_iter = 300, cv = 7, verbose=3, random_state=seed, n_jobs = -1)\n",
    "# Fit the random search model\n",
    "xgb_random.fit(X_train, y_train)"
   ]
  },
  {
   "cell_type": "code",
   "execution_count": 197,
   "metadata": {},
   "outputs": [
    {
     "output_type": "execute_result",
     "data": {
      "text/plain": [
       "{'reg_alpha': 1e-05,\n",
       " 'n_estimators': 235,\n",
       " 'min_child_weight': 2,\n",
       " 'max_depth': 3,\n",
       " 'learning_rate': 0.15,\n",
       " 'gamma': 0.0,\n",
       " 'colsample_bytree': 0.8}"
      ]
     },
     "metadata": {},
     "execution_count": 197
    }
   ],
   "source": [
    "xgb_random.best_params_"
   ]
  },
  {
   "cell_type": "code",
   "execution_count": 78,
   "metadata": {},
   "outputs": [
    {
     "output_type": "execute_result",
     "data": {
      "text/plain": [
       "{'reg_alpha': 1e-05}"
      ]
     },
     "metadata": {},
     "execution_count": 78
    }
   ],
   "source": [
    "reg_alpha= 1e-05,\n",
    " n_estimators= 235,\n",
    " min_child_weight= 2,\n",
    " max_depth= 3,\n",
    " learning_rate= 0.15,\n",
    " gamma= 0.0,\n",
    " colsample_bytree= 0.8"
   ]
  },
  {
   "cell_type": "code",
   "execution_count": 250,
   "metadata": {},
   "outputs": [
    {
     "output_type": "stream",
     "name": "stdout",
     "text": [
      "[XGB] These are the results for the training set.\nr^2:  0.9997984966264358\nmse:  1.2442649581664238e-06\nvariance_score:  0.9997984969066619\nmse-log:  1.0768120481642415e-06\n--------------------------------------\n[XGB] These are the results for the validation set.\nr^2:  0.8060094065121647\nmse:  0.0022548907005845785\nvariance_score:  0.8325100578170372\nmse-log:  0.0016280992250265335\n_____________________________________________\n"
     ]
    }
   ],
   "source": [
    "xgb = XGBRegressor(reg_alpha= 1e-05,\n",
    " n_estimators= 335,\n",
    " min_child_weight= 2,\n",
    " max_depth= 3,\n",
    " learning_rate= 0.15,\n",
    " gamma= 0.0,\n",
    " colsample_bytree= 0.75)\n",
    "\n",
    "run(xgb, \"XGB\", X_train[features], X_val[features])"
   ]
  },
  {
   "cell_type": "code",
   "execution_count": 251,
   "metadata": {},
   "outputs": [
    {
     "output_type": "stream",
     "name": "stdout",
     "text": [
      "r^2:  0.7851823454827249\nmse:  0.0017543089612584036\nvariance_score:  0.7910333952251198\nmse-log:  0.0013656174096295275\n"
     ]
    }
   ],
   "source": [
    "evaluate(xgb.predict(X_test[features]), y_test)"
   ]
  },
  {
   "cell_type": "code",
   "execution_count": 252,
   "metadata": {},
   "outputs": [],
   "source": [
    "data = pd.read_excel(\"../spring21_data/fa_stats_v3.xlsx\")"
   ]
  },
  {
   "cell_type": "code",
   "execution_count": 253,
   "metadata": {},
   "outputs": [],
   "source": [
    "test_index = X_test.index\n",
    "test_data = data.iloc[test_index][['clean_season','Player','MPG', 'attempted_field_goals', 'minutes_played', 'WS', 'Wins Added', 'poss','cap_space_usage']]\n",
    "results = pd.concat([test_data, pd.DataFrame(index=test_index, data=xgb.predict(X_test[features]))], axis=1)"
   ]
  },
  {
   "cell_type": "code",
   "execution_count": 254,
   "metadata": {},
   "outputs": [
    {
     "output_type": "execute_result",
     "data": {
      "text/plain": [
       "     clean_season                    Player   MPG  attempted_field_goals  \\\n",
       "250          2018          Luc Mbah a Moute  25.6               5.655738   \n",
       "353          2019           Markieff Morris  21.9               9.647059   \n",
       "87           2016               Jason Terry  17.5               5.222222   \n",
       "32           2016       Matthew Dellavedova  24.6               6.723684   \n",
       "318          2019               Cory Joseph  25.2               6.682927   \n",
       "247          2018              Aaron Gordon  32.9              14.913793   \n",
       "72           2016             Tyler Johnson  24.0               6.750000   \n",
       "60           2016            Dewayne Dedmon  12.2               3.051724   \n",
       "15           2016                David West  18.0               5.743590   \n",
       "268          2018               Tony Parker  19.5               7.054545   \n",
       "144          2017              Vince Carter  24.7               6.712329   \n",
       "24           2016              Allen Crabbe  26.0               8.370370   \n",
       "150          2017               Willie Reed  14.5               4.014085   \n",
       "224          2018              Jerami Grant  20.3               5.629630   \n",
       "354          2019              Bobby Portis  26.0              12.318182   \n",
       "169          2017               Tarik Black  16.3               4.388060   \n",
       "319          2019               Maxi Kleber  21.2               5.436620   \n",
       "313          2019  Kentavious Caldwell-Pope  24.8               9.219512   \n",
       "115          2016                Ryan Kelly  13.1               4.138889   \n",
       "39           2016            Jamal Crawford  26.9              11.886076   \n",
       "91           2016              Ronnie Price  19.5               4.870968   \n",
       "305          2019               Jeremy Lamb  28.5              12.392405   \n",
       "131          2017               George Hill  31.5              12.367347   \n",
       "369          2019            Furkan Korkmaz  14.1               5.104167   \n",
       "198          2017               Omri Casspi  17.9               5.318182   \n",
       "272          2018                 Ian Clark  19.6               6.689189   \n",
       "81           2016              Tyler Zeller  11.8               4.833333   \n",
       "297          2019             Julius Randle  30.6              14.917808   \n",
       "339          2019                Seth Curry  18.9               6.283784   \n",
       "16           2016               Mike Conley  31.4              12.428571   \n",
       "122          2017            Gordon Hayward  34.5              15.835616   \n",
       "258          2018             Mario Hezonja  22.1               8.226667   \n",
       "66           2016           Leandro Barbosa  15.9               5.441176   \n",
       "254          2018           Pat Connaughton  18.1               4.756098   \n",
       "92           2016            Chris Andersen  14.9               1.428571   \n",
       "171          2017               Rajon Rondo  26.7               8.130435   \n",
       "27           2016             Kent Bazemore  27.8               9.666667   \n",
       "267          2018             Channing Frye  13.1               3.840909   \n",
       "90           2016                 Gary Neal  20.2               8.125000   \n",
       "58           2016                Quincy Acy  14.8               3.627119   \n",
       "282          2018               Abdel Nader  10.9               3.104167   \n",
       "286          2019              Kyrie Irving  33.0              18.522388   \n",
       "244          2018                  Rudy Gay  21.6               9.421053   \n",
       "332          2019               George Hill  21.7               8.230769   \n",
       "215          2018                Chris Paul  31.8              13.758621   \n",
       "340          2019               Kyle Korver  19.1               4.750000   \n",
       "347          2019                Quinn Cook  14.3               5.932432   \n",
       "216          2018            DeAndre Jordan  31.5               7.506494   \n",
       "139          2017             Zaza Pachulia  18.1               4.385714   \n",
       "210          2017              Wayne Selden  16.9               2.666667   \n",
       "80           2016           Marcus Thornton  18.2               9.255319   \n",
       "170          2017                 Ian Clark  14.8               5.623377   \n",
       "218          2018            Derrick Favors  28.0               9.116883   \n",
       "287          2019              Jimmy Butler  33.6              15.700000   \n",
       "\n",
       "     minutes_played    WS  Wins Added  poss  cap_space_usage         0  \n",
       "250       25.639344   2.8    2.345739  3541         0.042412  0.072775  \n",
       "353       25.970588   1.6    0.060003  2841         0.020541  0.024235  \n",
       "87        17.472222   1.5    0.185474  2883         0.016482  0.031512  \n",
       "32        24.565789   3.8    3.885353  4174         0.102052  0.071801  \n",
       "318       25.158537   3.5    4.323144  4453         0.109951  0.082163  \n",
       "247       32.913793   2.9    4.144279  3994         0.206147  0.174316  \n",
       "72        23.972222   2.0    0.677395  1806         0.059781  0.057193  \n",
       "60        12.155172   2.4    1.009431  1434         0.030783  0.031737  \n",
       "15        18.000000   5.4    3.495108  3163         0.016482  0.070158  \n",
       "268       19.472727   1.4    0.142373  2302         0.049083  0.040519  \n",
       "144       24.643836   4.0    3.756652  3872         0.080732  0.082876  \n",
       "24        25.987654   4.3    1.163052  4976         0.196510  0.056272  \n",
       "150       14.521127   3.6    1.737431  2114         0.014848  0.085071  \n",
       "224       20.333333   5.4    2.808625  3648         0.084951  0.061477  \n",
       "354       24.136364   1.6    1.775649  2756         0.137438  0.085433  \n",
       "169       16.283582   2.4    1.581889  2269         0.033201  0.020932  \n",
       "319       21.154930   3.5    3.342344  3140         0.073300  0.061709  \n",
       "313       24.817073   4.0    1.091649  4420         0.074118  0.088728  \n",
       "115       13.055556   0.1    0.651169   979         0.004442  0.022701  \n",
       "39        26.911392   3.3    1.364888  4760         0.140775  0.080218  \n",
       "91        19.532258   1.4    1.487105  2533         0.027167  0.051585  \n",
       "305       28.481013   5.3    5.337501  4675         0.096207  0.172855  \n",
       "131       31.510204   5.9    5.365130  3515         0.201831  0.204562  \n",
       "369       14.145833   1.1    0.969801  1568         0.014848  0.016838  \n",
       "198       18.045455   0.5    0.514966  1300         0.014848  0.023850  \n",
       "272       19.662162   1.1    0.016477  3514         0.016782  0.032924  \n",
       "81        11.833333   1.7    0.107051  1584         0.084977  0.017018  \n",
       "297       30.575342   6.1    3.351027  4858         0.164926  0.245386  \n",
       "339       18.905405   2.4    0.708087  3580         0.068186  0.053168  \n",
       "16        31.446429   5.3    5.954051  3439         0.281913  0.188051  \n",
       "122       34.465753  10.4    9.341639  5655         0.300000  0.274217  \n",
       "258       22.093333   2.3    0.891390  3407         0.063807  0.059971  \n",
       "66        15.867647   2.1    0.468624  2813         0.042489  0.021428  \n",
       "254       18.146341   2.5    0.995255  3195         0.016109  0.022420  \n",
       "92         5.142857   1.3    0.666488   934         0.016482  0.028353  \n",
       "171       26.710145   2.3    2.631597  3856         0.033302  0.058165  \n",
       "27        27.773333   4.1    3.348596  4991         0.167090  0.117884  \n",
       "267       12.386364   1.5    1.106729  1454         0.023500  0.025059  \n",
       "90        20.175000   1.4   -0.060994  1684         0.000767  0.034347  \n",
       "58        14.847458   2.5    0.876735  1852         0.020337  0.047784  \n",
       "282       10.875000  -0.1   -0.027702  1159         0.013530  0.009272  \n",
       "286       33.044776   9.1    9.146498  5404         0.290837  0.267225  \n",
       "244       21.596491   3.1    2.124497  2801         0.099021  0.071350  \n",
       "332       26.461538   2.8    2.735414  3592         0.083690  0.040982  \n",
       "215       31.844828  10.2    9.189805  4854         0.350000  0.284155  \n",
       "340       15.687500   2.3    1.438199  2934         0.031519  0.040980  \n",
       "347       14.310811   1.8   -0.405645  2626         0.027488  0.032306  \n",
       "216       31.480519   9.4    4.781019  4980         0.224799  0.170766  \n",
       "139       18.114286   4.7    2.653222  3140         0.035094  0.056567  \n",
       "210       15.666667   0.1    0.091500   662         0.013246  0.032717  \n",
       "80        18.829787   1.7    0.623531  2354         0.013973  0.044740  \n",
       "170       14.766234   2.3   -0.341139  2838         0.014848  0.053783  \n",
       "218       27.961039   8.0    5.924521  4948         0.165899  0.114538  \n",
       "287       36.100000   7.9    6.199849  5528         0.300000  0.223193  "
      ],
      "text/html": "<div>\n<style scoped>\n    .dataframe tbody tr th:only-of-type {\n        vertical-align: middle;\n    }\n\n    .dataframe tbody tr th {\n        vertical-align: top;\n    }\n\n    .dataframe thead th {\n        text-align: right;\n    }\n</style>\n<table border=\"1\" class=\"dataframe\">\n  <thead>\n    <tr style=\"text-align: right;\">\n      <th></th>\n      <th>clean_season</th>\n      <th>Player</th>\n      <th>MPG</th>\n      <th>attempted_field_goals</th>\n      <th>minutes_played</th>\n      <th>WS</th>\n      <th>Wins Added</th>\n      <th>poss</th>\n      <th>cap_space_usage</th>\n      <th>0</th>\n    </tr>\n  </thead>\n  <tbody>\n    <tr>\n      <th>250</th>\n      <td>2018</td>\n      <td>Luc Mbah a Moute</td>\n      <td>25.6</td>\n      <td>5.655738</td>\n      <td>25.639344</td>\n      <td>2.8</td>\n      <td>2.345739</td>\n      <td>3541</td>\n      <td>0.042412</td>\n      <td>0.072775</td>\n    </tr>\n    <tr>\n      <th>353</th>\n      <td>2019</td>\n      <td>Markieff Morris</td>\n      <td>21.9</td>\n      <td>9.647059</td>\n      <td>25.970588</td>\n      <td>1.6</td>\n      <td>0.060003</td>\n      <td>2841</td>\n      <td>0.020541</td>\n      <td>0.024235</td>\n    </tr>\n    <tr>\n      <th>87</th>\n      <td>2016</td>\n      <td>Jason Terry</td>\n      <td>17.5</td>\n      <td>5.222222</td>\n      <td>17.472222</td>\n      <td>1.5</td>\n      <td>0.185474</td>\n      <td>2883</td>\n      <td>0.016482</td>\n      <td>0.031512</td>\n    </tr>\n    <tr>\n      <th>32</th>\n      <td>2016</td>\n      <td>Matthew Dellavedova</td>\n      <td>24.6</td>\n      <td>6.723684</td>\n      <td>24.565789</td>\n      <td>3.8</td>\n      <td>3.885353</td>\n      <td>4174</td>\n      <td>0.102052</td>\n      <td>0.071801</td>\n    </tr>\n    <tr>\n      <th>318</th>\n      <td>2019</td>\n      <td>Cory Joseph</td>\n      <td>25.2</td>\n      <td>6.682927</td>\n      <td>25.158537</td>\n      <td>3.5</td>\n      <td>4.323144</td>\n      <td>4453</td>\n      <td>0.109951</td>\n      <td>0.082163</td>\n    </tr>\n    <tr>\n      <th>247</th>\n      <td>2018</td>\n      <td>Aaron Gordon</td>\n      <td>32.9</td>\n      <td>14.913793</td>\n      <td>32.913793</td>\n      <td>2.9</td>\n      <td>4.144279</td>\n      <td>3994</td>\n      <td>0.206147</td>\n      <td>0.174316</td>\n    </tr>\n    <tr>\n      <th>72</th>\n      <td>2016</td>\n      <td>Tyler Johnson</td>\n      <td>24.0</td>\n      <td>6.750000</td>\n      <td>23.972222</td>\n      <td>2.0</td>\n      <td>0.677395</td>\n      <td>1806</td>\n      <td>0.059781</td>\n      <td>0.057193</td>\n    </tr>\n    <tr>\n      <th>60</th>\n      <td>2016</td>\n      <td>Dewayne Dedmon</td>\n      <td>12.2</td>\n      <td>3.051724</td>\n      <td>12.155172</td>\n      <td>2.4</td>\n      <td>1.009431</td>\n      <td>1434</td>\n      <td>0.030783</td>\n      <td>0.031737</td>\n    </tr>\n    <tr>\n      <th>15</th>\n      <td>2016</td>\n      <td>David West</td>\n      <td>18.0</td>\n      <td>5.743590</td>\n      <td>18.000000</td>\n      <td>5.4</td>\n      <td>3.495108</td>\n      <td>3163</td>\n      <td>0.016482</td>\n      <td>0.070158</td>\n    </tr>\n    <tr>\n      <th>268</th>\n      <td>2018</td>\n      <td>Tony Parker</td>\n      <td>19.5</td>\n      <td>7.054545</td>\n      <td>19.472727</td>\n      <td>1.4</td>\n      <td>0.142373</td>\n      <td>2302</td>\n      <td>0.049083</td>\n      <td>0.040519</td>\n    </tr>\n    <tr>\n      <th>144</th>\n      <td>2017</td>\n      <td>Vince Carter</td>\n      <td>24.7</td>\n      <td>6.712329</td>\n      <td>24.643836</td>\n      <td>4.0</td>\n      <td>3.756652</td>\n      <td>3872</td>\n      <td>0.080732</td>\n      <td>0.082876</td>\n    </tr>\n    <tr>\n      <th>24</th>\n      <td>2016</td>\n      <td>Allen Crabbe</td>\n      <td>26.0</td>\n      <td>8.370370</td>\n      <td>25.987654</td>\n      <td>4.3</td>\n      <td>1.163052</td>\n      <td>4976</td>\n      <td>0.196510</td>\n      <td>0.056272</td>\n    </tr>\n    <tr>\n      <th>150</th>\n      <td>2017</td>\n      <td>Willie Reed</td>\n      <td>14.5</td>\n      <td>4.014085</td>\n      <td>14.521127</td>\n      <td>3.6</td>\n      <td>1.737431</td>\n      <td>2114</td>\n      <td>0.014848</td>\n      <td>0.085071</td>\n    </tr>\n    <tr>\n      <th>224</th>\n      <td>2018</td>\n      <td>Jerami Grant</td>\n      <td>20.3</td>\n      <td>5.629630</td>\n      <td>20.333333</td>\n      <td>5.4</td>\n      <td>2.808625</td>\n      <td>3648</td>\n      <td>0.084951</td>\n      <td>0.061477</td>\n    </tr>\n    <tr>\n      <th>354</th>\n      <td>2019</td>\n      <td>Bobby Portis</td>\n      <td>26.0</td>\n      <td>12.318182</td>\n      <td>24.136364</td>\n      <td>1.6</td>\n      <td>1.775649</td>\n      <td>2756</td>\n      <td>0.137438</td>\n      <td>0.085433</td>\n    </tr>\n    <tr>\n      <th>169</th>\n      <td>2017</td>\n      <td>Tarik Black</td>\n      <td>16.3</td>\n      <td>4.388060</td>\n      <td>16.283582</td>\n      <td>2.4</td>\n      <td>1.581889</td>\n      <td>2269</td>\n      <td>0.033201</td>\n      <td>0.020932</td>\n    </tr>\n    <tr>\n      <th>319</th>\n      <td>2019</td>\n      <td>Maxi Kleber</td>\n      <td>21.2</td>\n      <td>5.436620</td>\n      <td>21.154930</td>\n      <td>3.5</td>\n      <td>3.342344</td>\n      <td>3140</td>\n      <td>0.073300</td>\n      <td>0.061709</td>\n    </tr>\n    <tr>\n      <th>313</th>\n      <td>2019</td>\n      <td>Kentavious Caldwell-Pope</td>\n      <td>24.8</td>\n      <td>9.219512</td>\n      <td>24.817073</td>\n      <td>4.0</td>\n      <td>1.091649</td>\n      <td>4420</td>\n      <td>0.074118</td>\n      <td>0.088728</td>\n    </tr>\n    <tr>\n      <th>115</th>\n      <td>2016</td>\n      <td>Ryan Kelly</td>\n      <td>13.1</td>\n      <td>4.138889</td>\n      <td>13.055556</td>\n      <td>0.1</td>\n      <td>0.651169</td>\n      <td>979</td>\n      <td>0.004442</td>\n      <td>0.022701</td>\n    </tr>\n    <tr>\n      <th>39</th>\n      <td>2016</td>\n      <td>Jamal Crawford</td>\n      <td>26.9</td>\n      <td>11.886076</td>\n      <td>26.911392</td>\n      <td>3.3</td>\n      <td>1.364888</td>\n      <td>4760</td>\n      <td>0.140775</td>\n      <td>0.080218</td>\n    </tr>\n    <tr>\n      <th>91</th>\n      <td>2016</td>\n      <td>Ronnie Price</td>\n      <td>19.5</td>\n      <td>4.870968</td>\n      <td>19.532258</td>\n      <td>1.4</td>\n      <td>1.487105</td>\n      <td>2533</td>\n      <td>0.027167</td>\n      <td>0.051585</td>\n    </tr>\n    <tr>\n      <th>305</th>\n      <td>2019</td>\n      <td>Jeremy Lamb</td>\n      <td>28.5</td>\n      <td>12.392405</td>\n      <td>28.481013</td>\n      <td>5.3</td>\n      <td>5.337501</td>\n      <td>4675</td>\n      <td>0.096207</td>\n      <td>0.172855</td>\n    </tr>\n    <tr>\n      <th>131</th>\n      <td>2017</td>\n      <td>George Hill</td>\n      <td>31.5</td>\n      <td>12.367347</td>\n      <td>31.510204</td>\n      <td>5.9</td>\n      <td>5.365130</td>\n      <td>3515</td>\n      <td>0.201831</td>\n      <td>0.204562</td>\n    </tr>\n    <tr>\n      <th>369</th>\n      <td>2019</td>\n      <td>Furkan Korkmaz</td>\n      <td>14.1</td>\n      <td>5.104167</td>\n      <td>14.145833</td>\n      <td>1.1</td>\n      <td>0.969801</td>\n      <td>1568</td>\n      <td>0.014848</td>\n      <td>0.016838</td>\n    </tr>\n    <tr>\n      <th>198</th>\n      <td>2017</td>\n      <td>Omri Casspi</td>\n      <td>17.9</td>\n      <td>5.318182</td>\n      <td>18.045455</td>\n      <td>0.5</td>\n      <td>0.514966</td>\n      <td>1300</td>\n      <td>0.014848</td>\n      <td>0.023850</td>\n    </tr>\n    <tr>\n      <th>272</th>\n      <td>2018</td>\n      <td>Ian Clark</td>\n      <td>19.6</td>\n      <td>6.689189</td>\n      <td>19.662162</td>\n      <td>1.1</td>\n      <td>0.016477</td>\n      <td>3514</td>\n      <td>0.016782</td>\n      <td>0.032924</td>\n    </tr>\n    <tr>\n      <th>81</th>\n      <td>2016</td>\n      <td>Tyler Zeller</td>\n      <td>11.8</td>\n      <td>4.833333</td>\n      <td>11.833333</td>\n      <td>1.7</td>\n      <td>0.107051</td>\n      <td>1584</td>\n      <td>0.084977</td>\n      <td>0.017018</td>\n    </tr>\n    <tr>\n      <th>297</th>\n      <td>2019</td>\n      <td>Julius Randle</td>\n      <td>30.6</td>\n      <td>14.917808</td>\n      <td>30.575342</td>\n      <td>6.1</td>\n      <td>3.351027</td>\n      <td>4858</td>\n      <td>0.164926</td>\n      <td>0.245386</td>\n    </tr>\n    <tr>\n      <th>339</th>\n      <td>2019</td>\n      <td>Seth Curry</td>\n      <td>18.9</td>\n      <td>6.283784</td>\n      <td>18.905405</td>\n      <td>2.4</td>\n      <td>0.708087</td>\n      <td>3580</td>\n      <td>0.068186</td>\n      <td>0.053168</td>\n    </tr>\n    <tr>\n      <th>16</th>\n      <td>2016</td>\n      <td>Mike Conley</td>\n      <td>31.4</td>\n      <td>12.428571</td>\n      <td>31.446429</td>\n      <td>5.3</td>\n      <td>5.954051</td>\n      <td>3439</td>\n      <td>0.281913</td>\n      <td>0.188051</td>\n    </tr>\n    <tr>\n      <th>122</th>\n      <td>2017</td>\n      <td>Gordon Hayward</td>\n      <td>34.5</td>\n      <td>15.835616</td>\n      <td>34.465753</td>\n      <td>10.4</td>\n      <td>9.341639</td>\n      <td>5655</td>\n      <td>0.300000</td>\n      <td>0.274217</td>\n    </tr>\n    <tr>\n      <th>258</th>\n      <td>2018</td>\n      <td>Mario Hezonja</td>\n      <td>22.1</td>\n      <td>8.226667</td>\n      <td>22.093333</td>\n      <td>2.3</td>\n      <td>0.891390</td>\n      <td>3407</td>\n      <td>0.063807</td>\n      <td>0.059971</td>\n    </tr>\n    <tr>\n      <th>66</th>\n      <td>2016</td>\n      <td>Leandro Barbosa</td>\n      <td>15.9</td>\n      <td>5.441176</td>\n      <td>15.867647</td>\n      <td>2.1</td>\n      <td>0.468624</td>\n      <td>2813</td>\n      <td>0.042489</td>\n      <td>0.021428</td>\n    </tr>\n    <tr>\n      <th>254</th>\n      <td>2018</td>\n      <td>Pat Connaughton</td>\n      <td>18.1</td>\n      <td>4.756098</td>\n      <td>18.146341</td>\n      <td>2.5</td>\n      <td>0.995255</td>\n      <td>3195</td>\n      <td>0.016109</td>\n      <td>0.022420</td>\n    </tr>\n    <tr>\n      <th>92</th>\n      <td>2016</td>\n      <td>Chris Andersen</td>\n      <td>14.9</td>\n      <td>1.428571</td>\n      <td>5.142857</td>\n      <td>1.3</td>\n      <td>0.666488</td>\n      <td>934</td>\n      <td>0.016482</td>\n      <td>0.028353</td>\n    </tr>\n    <tr>\n      <th>171</th>\n      <td>2017</td>\n      <td>Rajon Rondo</td>\n      <td>26.7</td>\n      <td>8.130435</td>\n      <td>26.710145</td>\n      <td>2.3</td>\n      <td>2.631597</td>\n      <td>3856</td>\n      <td>0.033302</td>\n      <td>0.058165</td>\n    </tr>\n    <tr>\n      <th>27</th>\n      <td>2016</td>\n      <td>Kent Bazemore</td>\n      <td>27.8</td>\n      <td>9.666667</td>\n      <td>27.773333</td>\n      <td>4.1</td>\n      <td>3.348596</td>\n      <td>4991</td>\n      <td>0.167090</td>\n      <td>0.117884</td>\n    </tr>\n    <tr>\n      <th>267</th>\n      <td>2018</td>\n      <td>Channing Frye</td>\n      <td>13.1</td>\n      <td>3.840909</td>\n      <td>12.386364</td>\n      <td>1.5</td>\n      <td>1.106729</td>\n      <td>1454</td>\n      <td>0.023500</td>\n      <td>0.025059</td>\n    </tr>\n    <tr>\n      <th>90</th>\n      <td>2016</td>\n      <td>Gary Neal</td>\n      <td>20.2</td>\n      <td>8.125000</td>\n      <td>20.175000</td>\n      <td>1.4</td>\n      <td>-0.060994</td>\n      <td>1684</td>\n      <td>0.000767</td>\n      <td>0.034347</td>\n    </tr>\n    <tr>\n      <th>58</th>\n      <td>2016</td>\n      <td>Quincy Acy</td>\n      <td>14.8</td>\n      <td>3.627119</td>\n      <td>14.847458</td>\n      <td>2.5</td>\n      <td>0.876735</td>\n      <td>1852</td>\n      <td>0.020337</td>\n      <td>0.047784</td>\n    </tr>\n    <tr>\n      <th>282</th>\n      <td>2018</td>\n      <td>Abdel Nader</td>\n      <td>10.9</td>\n      <td>3.104167</td>\n      <td>10.875000</td>\n      <td>-0.1</td>\n      <td>-0.027702</td>\n      <td>1159</td>\n      <td>0.013530</td>\n      <td>0.009272</td>\n    </tr>\n    <tr>\n      <th>286</th>\n      <td>2019</td>\n      <td>Kyrie Irving</td>\n      <td>33.0</td>\n      <td>18.522388</td>\n      <td>33.044776</td>\n      <td>9.1</td>\n      <td>9.146498</td>\n      <td>5404</td>\n      <td>0.290837</td>\n      <td>0.267225</td>\n    </tr>\n    <tr>\n      <th>244</th>\n      <td>2018</td>\n      <td>Rudy Gay</td>\n      <td>21.6</td>\n      <td>9.421053</td>\n      <td>21.596491</td>\n      <td>3.1</td>\n      <td>2.124497</td>\n      <td>2801</td>\n      <td>0.099021</td>\n      <td>0.071350</td>\n    </tr>\n    <tr>\n      <th>332</th>\n      <td>2019</td>\n      <td>George Hill</td>\n      <td>21.7</td>\n      <td>8.230769</td>\n      <td>26.461538</td>\n      <td>2.8</td>\n      <td>2.735414</td>\n      <td>3592</td>\n      <td>0.083690</td>\n      <td>0.040982</td>\n    </tr>\n    <tr>\n      <th>215</th>\n      <td>2018</td>\n      <td>Chris Paul</td>\n      <td>31.8</td>\n      <td>13.758621</td>\n      <td>31.844828</td>\n      <td>10.2</td>\n      <td>9.189805</td>\n      <td>4854</td>\n      <td>0.350000</td>\n      <td>0.284155</td>\n    </tr>\n    <tr>\n      <th>340</th>\n      <td>2019</td>\n      <td>Kyle Korver</td>\n      <td>19.1</td>\n      <td>4.750000</td>\n      <td>15.687500</td>\n      <td>2.3</td>\n      <td>1.438199</td>\n      <td>2934</td>\n      <td>0.031519</td>\n      <td>0.040980</td>\n    </tr>\n    <tr>\n      <th>347</th>\n      <td>2019</td>\n      <td>Quinn Cook</td>\n      <td>14.3</td>\n      <td>5.932432</td>\n      <td>14.310811</td>\n      <td>1.8</td>\n      <td>-0.405645</td>\n      <td>2626</td>\n      <td>0.027488</td>\n      <td>0.032306</td>\n    </tr>\n    <tr>\n      <th>216</th>\n      <td>2018</td>\n      <td>DeAndre Jordan</td>\n      <td>31.5</td>\n      <td>7.506494</td>\n      <td>31.480519</td>\n      <td>9.4</td>\n      <td>4.781019</td>\n      <td>4980</td>\n      <td>0.224799</td>\n      <td>0.170766</td>\n    </tr>\n    <tr>\n      <th>139</th>\n      <td>2017</td>\n      <td>Zaza Pachulia</td>\n      <td>18.1</td>\n      <td>4.385714</td>\n      <td>18.114286</td>\n      <td>4.7</td>\n      <td>2.653222</td>\n      <td>3140</td>\n      <td>0.035094</td>\n      <td>0.056567</td>\n    </tr>\n    <tr>\n      <th>210</th>\n      <td>2017</td>\n      <td>Wayne Selden</td>\n      <td>16.9</td>\n      <td>2.666667</td>\n      <td>15.666667</td>\n      <td>0.1</td>\n      <td>0.091500</td>\n      <td>662</td>\n      <td>0.013246</td>\n      <td>0.032717</td>\n    </tr>\n    <tr>\n      <th>80</th>\n      <td>2016</td>\n      <td>Marcus Thornton</td>\n      <td>18.2</td>\n      <td>9.255319</td>\n      <td>18.829787</td>\n      <td>1.7</td>\n      <td>0.623531</td>\n      <td>2354</td>\n      <td>0.013973</td>\n      <td>0.044740</td>\n    </tr>\n    <tr>\n      <th>170</th>\n      <td>2017</td>\n      <td>Ian Clark</td>\n      <td>14.8</td>\n      <td>5.623377</td>\n      <td>14.766234</td>\n      <td>2.3</td>\n      <td>-0.341139</td>\n      <td>2838</td>\n      <td>0.014848</td>\n      <td>0.053783</td>\n    </tr>\n    <tr>\n      <th>218</th>\n      <td>2018</td>\n      <td>Derrick Favors</td>\n      <td>28.0</td>\n      <td>9.116883</td>\n      <td>27.961039</td>\n      <td>8.0</td>\n      <td>5.924521</td>\n      <td>4948</td>\n      <td>0.165899</td>\n      <td>0.114538</td>\n    </tr>\n    <tr>\n      <th>287</th>\n      <td>2019</td>\n      <td>Jimmy Butler</td>\n      <td>33.6</td>\n      <td>15.700000</td>\n      <td>36.100000</td>\n      <td>7.9</td>\n      <td>6.199849</td>\n      <td>5528</td>\n      <td>0.300000</td>\n      <td>0.223193</td>\n    </tr>\n  </tbody>\n</table>\n</div>"
     },
     "metadata": {},
     "execution_count": 254
    }
   ],
   "source": [
    "results"
   ]
  }
 ],
 "metadata": {
  "kernelspec": {
   "name": "python382jvsc74a57bd0f6e5de00158004fca4bed140e7e3786d910834eb74025be550c3cf8f536996b9",
   "display_name": "Python 3.8.2 64-bit ('nba-model': conda)"
  },
  "language_info": {
   "codemirror_mode": {
    "name": "ipython",
    "version": 3
   },
   "file_extension": ".py",
   "mimetype": "text/x-python",
   "name": "python",
   "nbconvert_exporter": "python",
   "pygments_lexer": "ipython3",
   "version": "3.8.2"
  },
  "metadata": {
   "interpreter": {
    "hash": "f6e5de00158004fca4bed140e7e3786d910834eb74025be550c3cf8f536996b9"
   }
  }
 },
 "nbformat": 4,
 "nbformat_minor": 4
}