{
 "metadata": {
  "language_info": {
   "codemirror_mode": {
    "name": "ipython",
    "version": 3
   },
   "file_extension": ".py",
   "mimetype": "text/x-python",
   "name": "python",
   "nbconvert_exporter": "python",
   "pygments_lexer": "ipython3",
   "version": "3.8.5-final"
  },
  "orig_nbformat": 2,
  "kernelspec": {
   "name": "python385jvsc74a57bd0af3454c02bfe4b546fe539e58f0e28e5fbe3d90ade7fdeba239d65c7463c6e6a",
   "display_name": "Python 3.8.5 64-bit ('DataScience': conda)"
  }
 },
 "nbformat": 4,
 "nbformat_minor": 2,
 "cells": [
  {
   "cell_type": "code",
   "execution_count": 1,
   "metadata": {},
   "outputs": [],
   "source": [
    "import pandas as pd\n",
    "import numpy as np\n",
    "import matplotlib.pyplot as plt\n",
    "import seaborn as sns\n",
    "import sklearn as sk"
   ]
  },
  {
   "source": [
    "## Import data"
   ],
   "cell_type": "markdown",
   "metadata": {}
  },
  {
   "cell_type": "code",
   "execution_count": 2,
   "metadata": {},
   "outputs": [],
   "source": [
    "df = pd.read_excel(\"../spring21_data/fa_stats_v2.xlsx\")"
   ]
  },
  {
   "source": [
    "## Feature Cleaning"
   ],
   "cell_type": "markdown",
   "metadata": {}
  },
  {
   "cell_type": "code",
   "execution_count": null,
   "metadata": {},
   "outputs": [],
   "source": [
    "numerical = ['age',\n",
    "       'games_played', 'minutes_played', \n",
    "       'player_efficiency_rating', 'true_shooting_percentage',\n",
    "       'three_point_attempt_rate', 'free_throw_attempt_rate',\n",
    "       'offensive_rebound_percentage', 'defensive_rebound_percentage',\n",
    "       'assist_percentage', 'steal_percentage',\n",
    "       'block_percentage', 'turnover_percentage', 'usage_percentage',\n",
    "       'offensive_win_shares', 'defensive_win_shares',\n",
    "       'win_shares_per_48_minutes', 'offensive_box_plus_minus',\n",
    "       'defensive_box_plus_minus',\n",
    "       'value_over_replacement_player','O-LEBRON', 'D-LEBRON', 'Wins Added', 'ORPM', 'DRPM', 'poss',\n",
    "       'raptor_offense', 'raptor_defense', 'war_total', 'war_reg_season',\n",
    "       'war_playoffs', 'predator_offense', 'predator_defense', 'pace_impact',\n",
    "       'LA_RAPM__Def', 'LA_RAPM__Off', 'RA_EFG__Def', 'RA_EFG__Off',\n",
    "       'RA_FTR__Def', 'RA_FTR__Off', 'RA_ORBD__Def', 'RA_ORBD__Off',\n",
    "       'RA_TOV__Def', 'RA_TOV__Off', 'RAPM__Def', 'RAPM__Off']\n",
    "\n",
    "categorical = [\"Type\"]\n",
    "other = [col for col in df.columns.values if (col not in categorical+numerical+[\"cap_space_usage\"])]\n",
    "dum_df = pd.get_dummies(df, columns=categorical) # convert the categorical features into dummy features (numerical)"
   ]
  },
  {
   "cell_type": "code",
   "execution_count": null,
   "metadata": {},
   "outputs": [],
   "source": [
    "df = dum_df.drop(columns=other) # drop the non-feature columns\n",
    "df.dropna(inplace=True) # drop all rows with a null value (there should be none)"
   ]
  },
  {
   "source": [
    "Split the dataset into training set, validation set, and test set (this is for the final run)"
   ],
   "cell_type": "markdown",
   "metadata": {}
  },
  {
   "cell_type": "code",
   "execution_count": null,
   "metadata": {},
   "outputs": [],
   "source": [
    "X = df.drop(columns=[\"cap_space_usage\"])\n",
    "y = df[\"cap_space_usage\"]\n",
    "\n",
    "X_train, X_test, y_train, y_test = train_test_split(X, y, test_size=0.13, random_state=22)\n",
    "X_train, X_val, y_train, y_val = train_test_split(X_train, y_train, test_size=0.13, random_state=22)"
   ]
  },
  {
   "cell_type": "code",
   "execution_count": null,
   "metadata": {},
   "outputs": [],
   "source": [
    "# scale the numerical features only (this leaves out the dummy features from earlier)\n",
    "from sklearn.preprocessing import StandardScaler\n",
    "features = numerical\n",
    "scaler = StandardScaler()\n",
    "\n",
    "X_train[features] = scaler.fit_transform(X_train[features])\n",
    "X_test[features] = scaler.transform(X_test[features])\n",
    "X_val[features] = scaler.transform(X_val[features])"
   ]
  },
  {
   "source": [
    "Feature Selection"
   ],
   "cell_type": "markdown",
   "metadata": {}
  },
  {
   "cell_type": "code",
   "execution_count": null,
   "metadata": {},
   "outputs": [],
   "source": [
    "from sklearn.feature_selection import SelectKBest, f_regression\n",
    "select = SelectKBest(f_regression, k=20)\n",
    "\n",
    "best_features = select.fit_transform(X_train, y_train)\n",
    "feature_scores = pd.concat([pd.Series(X_train.columns), pd.Series(select.scores_)], axis=1)\n",
    "feature_scores.columns = [\"features\", \"score\"]"
   ]
  },
  {
   "cell_type": "code",
   "execution_count": null,
   "metadata": {},
   "outputs": [],
   "source": [
    "feature_scores.sort_values(by=[\"score\"], ascending=False)"
   ]
  },
  {
   "cell_type": "code",
   "execution_count": null,
   "metadata": {},
   "outputs": [],
   "source": [
    "features = list(feature_scores.sort_values(by=[\"score\"], ascending=False).head(10)['features'])\n",
    "\n",
    "X_train = X_train[features]\n",
    "X_test = X_test[features]\n",
    "X_val = X_val[features]"
   ]
  },
  {
   "source": [
    "helper functions\n",
    "run(model, model_name, x_train, x_val) fits the model on the training set, evaluates the fit on the training set and on the validation set.\n",
    "\n",
    "evaluate(y_pred, y_test) prints out the evaluation metrics of a prediction."
   ],
   "cell_type": "markdown",
   "metadata": {}
  },
  {
   "cell_type": "code",
   "execution_count": null,
   "metadata": {},
   "outputs": [],
   "source": [
    "def run(model, model_name, x_train, x_val):\n",
    "    \"\"\" Fits the model and prints out results from calling evaluate on the training and validation set\n",
    "        parameters:\n",
    "            model\n",
    "                the unfitted model, from sklearn (has to have a fit and predict method)\n",
    "            model_name\n",
    "                String, the name of the model\n",
    "            x_train\n",
    "                DataFrame, the training set\n",
    "            x_val\n",
    "                DataFrame, the validation set\n",
    "                \n",
    "        returns:\n",
    "            nothing\n",
    "        \n",
    "    \"\"\"\n",
    "    model = model.fit(x_train, y_train)\n",
    "    y_pred = np.clip(model.predict(x_train), 0, 1000) # since negative results are meaningless\n",
    "    \n",
    "    print(\"[{0}] These are the results for the training set.\".format(model_name))\n",
    "    \n",
    "    evaluate(y_pred, y_train)\n",
    "    print(\"--------------------------------------\")\n",
    "    \n",
    "    print(\"[{0}] These are the results for the validation set.\".format(model_name))\n",
    "    y_pred = np.clip(model.predict(x_val), 0, 1000) # since negative results are meaningless\n",
    "    \n",
    "    evaluate(y_pred, y_val)\n",
    "    \n",
    "    print(\"_____________________________________________\")"
   ]
  },
  {
   "cell_type": "code",
   "execution_count": null,
   "metadata": {},
   "outputs": [],
   "source": [
    "def evaluate(y_pred, y_test):\n",
    "    \"\"\" Prints out the evaluation metrics of the experiment\n",
    "        parameters:\n",
    "            y_pred\n",
    "                DataFrame or array-like, the predictions\n",
    "            y_test\n",
    "                DataFrame or array-like, the actual y-values\n",
    "                \n",
    "            these two parameters must have the same dimensions\n",
    "    \"\"\"\n",
    "    print(\"r^2: \", r2_score(y_test, y_pred))\n",
    "    print(\"mse: \", mean_squared_error(y_test, y_pred))\n",
    "    print(\"variance_score: \", explained_variance_score(y_test, y_pred))\n",
    "    print(\"mse-log: \", mean_squared_log_error(y_test, y_pred))"
   ]
  },
  {
   "cell_type": "code",
   "execution_count": null,
   "metadata": {},
   "outputs": [],
   "source": [
    "from sklearn.linear_model import LinearRegression, RidgeCV, LassoCV, ElasticNetCV, LassoLarsCV\n",
    "from sklearn.metrics import mean_squared_error, r2_score, explained_variance_score, mean_squared_log_error\n",
    "\n",
    "lstsq = LinearRegression()\n",
    "ridge = RidgeCV()\n",
    "lasso = LassoCV(max_iter=5000, random_state = 0)\n",
    "elasticNet = ElasticNetCV(n_alphas = 1000)\n",
    "lassoLars = LassoLarsCV()\n",
    "\n",
    "run(ridge, \"Ridge\", X_train, X_val)\n",
    "run(lstsq, \"Least Squares\", X_train,  X_val)\n",
    "run(lasso, \"Lasso\", X_train,  X_val)\n",
    "run(elasticNet, \"ElasticNetCV\", X_train,  X_val)\n",
    "run(lassoLars, \"Lasso LARS\", X_train,  X_val)"
   ]
  },
  {
   "cell_type": "code",
   "execution_count": null,
   "metadata": {},
   "outputs": [],
   "source": [
    "from sklearn.preprocessing import PolynomialFeatures\n",
    "\n",
    "poly = PolynomialFeatures(degree=2)\n",
    "\n",
    "X_trainPF = poly.fit_transform(X_train)\n",
    "X_valPF = poly.transform(X_val)\n",
    "X_valPF = poly.transform(X_val)\n",
    "\n",
    "lstsq = LinearRegression()\n",
    "ridge = RidgeCV()\n",
    "lasso = LassoCV(max_iter=50000, random_state = 0)\n",
    "elasticNet = ElasticNetCV(max_iter=50000, n_alphas = 1000)\n",
    "lassoLars = LassoLarsCV()\n",
    "\n",
    "run(ridge, \"Ridge\", X_trainPF, X_valPF)\n",
    "run(lstsq, \"Least Squares\", X_trainPF, X_valPF)\n",
    "run(lasso, \"Lasso\", X_trainPF, X_valPF)\n",
    "run(elasticNet, \"ElasticNetCV\", X_trainPF, X_valPF)\n",
    "run(lassoLars, \"Lasso LARS\", X_trainPF, X_valPF)"
   ]
  }
 ]
}