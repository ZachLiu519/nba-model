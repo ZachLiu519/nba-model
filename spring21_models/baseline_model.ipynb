{
 "cells": [
  {
   "cell_type": "code",
   "execution_count": 1,
   "metadata": {},
   "outputs": [],
   "source": [
    "import pandas as pd\n",
    "import numpy as np\n",
    "import matplotlib.pyplot as plt\n",
    "import seaborn as sns\n",
    "import sklearn as sk\n",
    "from sklearn.feature_selection import SelectKBest, f_regression\n",
    "import smogn\n",
    "from sklearn.model_selection import train_test_split\n",
    "from sklearn.linear_model import LinearRegression, RidgeCV, LassoCV, ElasticNetCV, LassoLarsCV\n",
    "from sklearn.metrics import mean_squared_error, r2_score, explained_variance_score, mean_squared_log_error"
   ]
  },
  {
   "cell_type": "code",
   "execution_count": 2,
   "metadata": {},
   "outputs": [],
   "source": [
    "seeds = np.arange(0, 48)"
   ]
  },
  {
   "cell_type": "code",
   "execution_count": 14,
   "metadata": {},
   "outputs": [],
   "source": [
    "def preparation(seed):\n",
    "    df = pd.read_excel(\"../spring21_data/fa_stats_v3.xlsx\")\n",
    "    df = df[df['poss'] >= 500]\n",
    "    injury = pd.read_excel(\"../spring21_data/season_ending_injury.xlsx\")\n",
    "    injury_fa = df.merge(right=injury, how='inner', left_on=['clean_season', 'Player'], right_on=['clean_season', 'Player']).rename(columns={'Unnamed: 0': 'index'})\n",
    "    df = df[~df['Unnamed: 0'].isin(injury_fa['index'])]\n",
    "    df = df.select_dtypes(exclude=['object'])\n",
    "    df.drop(columns=[\"Unnamed: 0\", \"Minutes\", \"salary\", \"clean_season\", \"age\", \"end season_y\", \"season_end\"], inplace=True)\n",
    "\n",
    "    X = df.drop(columns=[\"cap_space_usage\"])\n",
    "    y = df[\"cap_space_usage\"]\n",
    "\n",
    "    X_train, X_test, y_train, y_test = train_test_split(X, y, test_size=0.15, random_state=seed)\n",
    "    both = pd.concat([X_train, y_train], axis=1).reset_index().drop(columns=[\"index\"])\n",
    "    smote_data_high = smogn.smoter(data = both,\n",
    "                            y = 'cap_space_usage',\n",
    "                            rel_xtrm_type = 'high',\n",
    "                            rel_thres = 0.8,\n",
    "                            k = 9,\n",
    "                            drop_na_col = True,       ## boolean (True or False)\n",
    "                            drop_na_row = True,\n",
    "                            samp_method = 'balance')\n",
    "    smote_data_mid = smogn.smoter(data = both,\n",
    "                            y = 'cap_space_usage',\n",
    "                            rel_xtrm_type = 'both',\n",
    "                            rel_thres = 0.2,\n",
    "                            k = 9,\n",
    "                            drop_na_col = True,       ## boolean (True or False)\n",
    "                            drop_na_row = True,\n",
    "                            samp_method = 'extreme')\n",
    "    smote_data_low = smogn.smoter(data = both,\n",
    "                            y = 'cap_space_usage',\n",
    "                            rel_xtrm_type = 'both',\n",
    "                            rel_thres = 0.05,\n",
    "                            k = 9,\n",
    "                            drop_na_col = True,       ## boolean (True or False)\n",
    "                            drop_na_row = True,\n",
    "                            samp_method = 'balance')\n",
    "    smote_data = pd.concat([smote_data_high, smote_data_mid, smote_data_low], ignore_index=True).drop_duplicates()\n",
    "    sm = smote_data.sample(frac=1) ## make sure to shuffle the rows otherwise the cross validation will be scuffed\n",
    "    y = sm[['cap_space_usage']]\n",
    "    X = sm.drop(columns=['cap_space_usage'])\n",
    "\n",
    "    select = SelectKBest(f_regression, k=20)\n",
    "\n",
    "    best_features = select.fit_transform(X, y)\n",
    "    feature_scores = pd.concat([pd.Series(X.columns), pd.Series(select.scores_)], axis=1)\n",
    "    feature_scores.columns = [\"features\", \"score\"]\n",
    "    features = list(feature_scores.sort_values(by=[\"score\"], ascending=False).head(10)['features'])\n",
    "\n",
    "    X = X[features]\n",
    "\n",
    "    X = X[features]\n",
    "    X_test = X_test[features]\n",
    "    X_train, X_val, y_train, y_val = train_test_split(X, y, test_size=0.15, random_state=seed)\n",
    "\n",
    "    return X_train, y_train, X_val, y_val, X_test, y_test"
   ]
  },
  {
   "cell_type": "markdown",
   "metadata": {},
   "source": [
    "helper functions\n",
    "run(model, model_name, x_train, x_val) fits the model on the training set, evaluates the fit on the training set and on the validation set.\n",
    "\n",
    "evaluate(y_pred, y_test) prints out the evaluation metrics of a prediction."
   ]
  },
  {
   "cell_type": "code",
   "execution_count": 5,
   "metadata": {},
   "outputs": [],
   "source": [
    "def run(model, model_name, x_train, x_val):\n",
    "    \"\"\" Fits the model and prints out results from calling evaluate on the training and validation set\n",
    "        parameters:\n",
    "            model\n",
    "                the unfitted model, from sklearn (has to have a fit and predict method)\n",
    "            model_name\n",
    "                String, the name of the model\n",
    "            x_train\n",
    "                DataFrame, the training set\n",
    "            x_val\n",
    "                DataFrame, the validation set\n",
    "                \n",
    "        returns:\n",
    "            nothing\n",
    "        \n",
    "    \"\"\"\n",
    "    model = model.fit(x_train, y_train)\n",
    "    y_pred = np.clip(model.predict(x_train), 0, 1000) # since negative results are meaningless\n",
    "    \n",
    "    print(\"[{0}] These are the results for the training set.\".format(model_name))\n",
    "    \n",
    "    evaluate(y_pred, y_train)\n",
    "    print(\"--------------------------------------\")\n",
    "    \n",
    "    print(\"[{0}] These are the results for the validation set.\".format(model_name))\n",
    "    y_pred = np.clip(model.predict(x_val), 0, 1000) # since negative results are meaningless\n",
    "    \n",
    "    evaluate(y_pred, y_val)\n",
    "    \n",
    "    print(\"_____________________________________________\")"
   ]
  },
  {
   "cell_type": "code",
   "execution_count": 6,
   "metadata": {},
   "outputs": [],
   "source": [
    "def evaluate(y_pred, y_test):\n",
    "    \"\"\" Prints out the evaluation metrics of the experiment\n",
    "        parameters:\n",
    "            y_pred\n",
    "                DataFrame or array-like, the predictions\n",
    "            y_test\n",
    "                DataFrame or array-like, the actual y-values\n",
    "                \n",
    "            these two parameters must have the same dimensions\n",
    "    \"\"\"\n",
    "    print(\"r^2: \", r2_score(y_test, y_pred))\n",
    "    print(\"variance_score: \", explained_variance_score(y_test, y_pred))\n",
    "    return explained_variance_score(y_test, y_pred)"
   ]
  },
  {
   "cell_type": "code",
   "execution_count": null,
   "metadata": {},
   "outputs": [],
   "source": [
    "from sklearn.linear_model import LinearRegression, RidgeCV, LassoCV, ElasticNetCV, LassoLarsCV\n",
    "from sklearn.metrics import mean_squared_error, r2_score, explained_variance_score, mean_squared_log_error\n",
    "run(lasso, \"Lasso\", X_train,  X_val)\n",
    "run(elasticNet, \"ElasticNetCV\", X_train,  X_val)\n",
    "run(lassoLars, \"Lasso LARS\", X_train,  X_val)"
   ]
  },
  {
   "cell_type": "code",
   "execution_count": 15,
   "metadata": {},
   "outputs": [],
   "source": [
    "from joblib import Parallel, delayed\n",
    "def store(seed):\n",
    "    X_train, y_train, X_val, y_val, X_test, y_test = preparation(seed)\n",
    "    lassoLars = LassoLarsCV(cv=7)\n",
    "    lassoLars.fit(X_train, y_train)\n",
    "    return evaluate(lassoLars.predict(X_test), y_test)\n",
    "\n",
    "results = Parallel(n_jobs=12)(delayed(store)(seed) for seed in seeds)"
   ]
  },
  {
   "cell_type": "code",
   "execution_count": 16,
   "metadata": {},
   "outputs": [
    {
     "output_type": "execute_result",
     "data": {
      "text/plain": [
       "[0.5607701133590086,\n",
       " 0.6807372893519879,\n",
       " 0.7081317709668267,\n",
       " 0.803911085457428,\n",
       " 0.6186652849835786,\n",
       " 0.5536890484472761,\n",
       " 0.7848786444837904,\n",
       " 0.5380353218575276,\n",
       " 0.8211114215036499,\n",
       " 0.7565450887437738,\n",
       " 0.5927203211546082,\n",
       " 0.6014361081723946,\n",
       " 0.7316900575016609,\n",
       " 0.7352776267077323,\n",
       " 0.7589797015928377,\n",
       " 0.5129405583929796,\n",
       " 0.7693517375968494,\n",
       " 0.6800108284730655,\n",
       " 0.6675079306850489,\n",
       " 0.7130305659185092,\n",
       " 0.522698093419063,\n",
       " 0.7202236966216,\n",
       " 0.6807109394932493,\n",
       " 0.5689795129620209,\n",
       " 0.7895913303657802,\n",
       " 0.709576283037358,\n",
       " 0.6156674485058642,\n",
       " 0.6283996302553395,\n",
       " 0.6267116143401924,\n",
       " 0.7254839744767227,\n",
       " 0.7040583801750749,\n",
       " 0.7930557440523409,\n",
       " 0.6352790455782862,\n",
       " 0.6826987718622513,\n",
       " 0.470253844190071,\n",
       " 0.6952940240274981,\n",
       " 0.6057003365857316,\n",
       " 0.6226144872130414,\n",
       " 0.6020772845495697,\n",
       " 0.8165002938997583,\n",
       " 0.5713763752225922,\n",
       " 0.40852732114448453,\n",
       " 0.3679072582290931,\n",
       " 0.7201682566737162,\n",
       " 0.6549800457653094,\n",
       " 0.6273740757043038,\n",
       " 0.7591871824269717,\n",
       " 0.7150787500682314]"
      ]
     },
     "metadata": {},
     "execution_count": 16
    }
   ],
   "source": [
    "results"
   ]
  },
  {
   "cell_type": "code",
   "execution_count": 17,
   "metadata": {},
   "outputs": [
    {
     "output_type": "execute_result",
     "data": {
      "text/plain": [
       "0.6589498855457511"
      ]
     },
     "metadata": {},
     "execution_count": 17
    }
   ],
   "source": [
    "np.mean(results)"
   ]
  },
  {
   "cell_type": "code",
   "execution_count": null,
   "metadata": {},
   "outputs": [],
   "source": [
    "data = pd.read_excel(\"../spring21_data/fa_stats_v3.xlsx\")\n",
    "test_index = X_test.index\n",
    "test_data = data.iloc[test_index][['clean_season','Player','MPG', 'attempted_field_goals', 'minutes_played', 'WS', 'Wins Added', 'poss','cap_space_usage']]\n",
    "results = pd.concat([test_data, pd.DataFrame(index=test_index, data=lassoLars.predict(X_test))], axis=1)\n"
   ]
  },
  {
   "cell_type": "code",
   "execution_count": null,
   "metadata": {},
   "outputs": [],
   "source": [
    "results"
   ]
  },
  {
   "cell_type": "code",
   "execution_count": null,
   "metadata": {},
   "outputs": [],
   "source": [
    "from sklearn.preprocessing import PolynomialFeatures\n",
    "\n",
    "poly = PolynomialFeatures(degree=2)\n",
    "\n",
    "X_trainPF = poly.fit_transform(X_train)\n",
    "X_valPF = poly.transform(X_val)\n",
    "X_valPF = poly.transform(X_val)\n",
    "\n",
    "lstsq = LinearRegression()\n",
    "ridge = RidgeCV()\n",
    "lasso = LassoCV(max_iter=50000)\n",
    "elasticNet = ElasticNetCV(max_iter=50000, n_alphas = 1000)\n",
    "lassoLars = LassoLarsCV()\n",
    "\n",
    "run(ridge, \"Ridge\", X_trainPF, X_valPF)\n",
    "run(lstsq, \"Least Squares\", X_trainPF, X_valPF)\n",
    "run(lasso, \"Lasso\", X_trainPF, X_valPF)\n",
    "run(elasticNet, \"ElasticNetCV\", X_trainPF, X_valPF)\n",
    "run(lassoLars, \"Lasso LARS\", X_trainPF, X_valPF)"
   ]
  },
  {
   "cell_type": "code",
   "execution_count": null,
   "metadata": {},
   "outputs": [],
   "source": [
    "evaluate(lassoLars.predict(poly.transform(X_test)), y_test)"
   ]
  }
 ],
 "metadata": {
  "kernelspec": {
   "name": "python38264bitdatascienceconda6647aa692cd647ca976aaa01095ed2f6",
   "display_name": "Python 3.8.5 64-bit ('DataScience': conda)"
  },
  "language_info": {
   "codemirror_mode": {
    "name": "ipython",
    "version": 3
   },
   "file_extension": ".py",
   "mimetype": "text/x-python",
   "name": "python",
   "nbconvert_exporter": "python",
   "pygments_lexer": "ipython3",
   "version": "3.8.5"
  },
  "metadata": {
   "interpreter": {
    "hash": "af3454c02bfe4b546fe539e58f0e28e5fbe3d90ade7fdeba239d65c7463c6e6a"
   }
  }
 },
 "nbformat": 4,
 "nbformat_minor": 2
}