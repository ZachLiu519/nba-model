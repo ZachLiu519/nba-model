{
 "cells": [
  {
   "cell_type": "code",
   "execution_count": 1,
   "metadata": {},
   "outputs": [],
   "source": [
    "import pandas as pd\n",
    "import numpy as np\n",
    "import matplotlib.pyplot as plt\n",
    "import seaborn as sns\n",
    "import sklearn as sk\n",
    "from sklearn.feature_selection import SelectKBest, f_regression\n",
    "import smogn\n",
    "from sklearn.model_selection import train_test_split\n",
    "from sklearn.linear_model import LinearRegression, RidgeCV, LassoCV, ElasticNetCV, LassoLarsCV\n",
    "from sklearn.metrics import mean_squared_error, r2_score, explained_variance_score, mean_squared_log_error"
   ]
  },
  {
   "cell_type": "code",
   "execution_count": 23,
   "metadata": {},
   "outputs": [],
   "source": [
    "seeds = np.arange(0, 48)"
   ]
  },
  {
   "cell_type": "code",
   "execution_count": 28,
   "metadata": {},
   "outputs": [],
   "source": [
    "def preparation(seed):\n",
    "    df = pd.read_excel(\"../spring21_data/fa_stats_v3.xlsx\")\n",
    "    df = df.select_dtypes(exclude=['object'])\n",
    "    df.drop(columns=[\"Unnamed: 0\", \"Minutes\", \"salary\", \"clean_season\", \"age\", \"end season_y\", \"season_end\"], inplace=True)\n",
    "\n",
    "    X = df.drop(columns=[\"cap_space_usage\"])\n",
    "    y = df[\"cap_space_usage\"]\n",
    "\n",
    "    X_train, X_test, y_train, y_test = train_test_split(X, y, test_size=0.15, random_state=seed)\n",
    "    both = pd.concat([X_train, y_train], axis=1).reset_index().drop(columns=[\"index\"])\n",
    "    smote_data_high = smogn.smoter(data = both,\n",
    "                            y = 'cap_space_usage',\n",
    "                            rel_xtrm_type = 'high',\n",
    "                            rel_thres = 0.9,\n",
    "                            k = 9,\n",
    "                            drop_na_col = True,       ## boolean (True or False)\n",
    "                            drop_na_row = True,\n",
    "                            samp_method = 'balance')\n",
    "    smote_data_mid = smogn.smoter(data = both,\n",
    "                            y = 'cap_space_usage',\n",
    "                            rel_xtrm_type = 'both',\n",
    "                            rel_thres = 0.25,\n",
    "                            k = 9,\n",
    "                            drop_na_col = True,       ## boolean (True or False)\n",
    "                            drop_na_row = True,\n",
    "                            samp_method = 'extreme')\n",
    "    smote_data_low = smogn.smoter(data = both,\n",
    "                            y = 'cap_space_usage',\n",
    "                            rel_xtrm_type = 'both',\n",
    "                            rel_thres = 0.01,\n",
    "                            k = 9,\n",
    "                            drop_na_col = True,       ## boolean (True or False)\n",
    "                            drop_na_row = True,\n",
    "                            samp_method = 'balance')\n",
    "    smote_data = pd.concat([smote_data_high, smote_data_mid, smote_data_low], ignore_index=True).drop_duplicates()\n",
    "    sm = smote_data.sample(frac=1) ## make sure to shuffle the rows otherwise the cross validation will be scuffed\n",
    "    y = sm[['cap_space_usage']]\n",
    "    X = sm.drop(columns=['cap_space_usage'])\n",
    "\n",
    "    select = SelectKBest(f_regression, k=20)\n",
    "\n",
    "    best_features = select.fit_transform(X, y)\n",
    "    feature_scores = pd.concat([pd.Series(X.columns), pd.Series(select.scores_)], axis=1)\n",
    "    feature_scores.columns = [\"features\", \"score\"]\n",
    "    features = list(feature_scores.sort_values(by=[\"score\"], ascending=False).head(10)['features'])\n",
    "\n",
    "    X = X[features]\n",
    "\n",
    "    X = X[features]\n",
    "    X_test = X_test[features]\n",
    "    X_train, X_val, y_train, y_val = train_test_split(X, y, test_size=0.15, random_state=seed)\n",
    "\n",
    "    return X_train, y_train, X_val, y_val, X_test, y_test"
   ]
  },
  {
   "cell_type": "markdown",
   "metadata": {},
   "source": [
    "helper functions\n",
    "run(model, model_name, x_train, x_val) fits the model on the training set, evaluates the fit on the training set and on the validation set.\n",
    "\n",
    "evaluate(y_pred, y_test) prints out the evaluation metrics of a prediction."
   ]
  },
  {
   "cell_type": "code",
   "execution_count": null,
   "metadata": {},
   "outputs": [],
   "source": [
    "def run(model, model_name, x_train, x_val):\n",
    "    \"\"\" Fits the model and prints out results from calling evaluate on the training and validation set\n",
    "        parameters:\n",
    "            model\n",
    "                the unfitted model, from sklearn (has to have a fit and predict method)\n",
    "            model_name\n",
    "                String, the name of the model\n",
    "            x_train\n",
    "                DataFrame, the training set\n",
    "            x_val\n",
    "                DataFrame, the validation set\n",
    "                \n",
    "        returns:\n",
    "            nothing\n",
    "        \n",
    "    \"\"\"\n",
    "    model = model.fit(x_train, y_train)\n",
    "    y_pred = np.clip(model.predict(x_train), 0, 1000) # since negative results are meaningless\n",
    "    \n",
    "    print(\"[{0}] These are the results for the training set.\".format(model_name))\n",
    "    \n",
    "    evaluate(y_pred, y_train)\n",
    "    print(\"--------------------------------------\")\n",
    "    \n",
    "    print(\"[{0}] These are the results for the validation set.\".format(model_name))\n",
    "    y_pred = np.clip(model.predict(x_val), 0, 1000) # since negative results are meaningless\n",
    "    \n",
    "    evaluate(y_pred, y_val)\n",
    "    \n",
    "    print(\"_____________________________________________\")"
   ]
  },
  {
   "cell_type": "code",
   "execution_count": 4,
   "metadata": {},
   "outputs": [],
   "source": [
    "def evaluate(y_pred, y_test):\n",
    "    \"\"\" Prints out the evaluation metrics of the experiment\n",
    "        parameters:\n",
    "            y_pred\n",
    "                DataFrame or array-like, the predictions\n",
    "            y_test\n",
    "                DataFrame or array-like, the actual y-values\n",
    "                \n",
    "            these two parameters must have the same dimensions\n",
    "    \"\"\"\n",
    "    print(\"r^2: \", r2_score(y_test, y_pred))\n",
    "    print(\"variance_score: \", explained_variance_score(y_test, y_pred))\n",
    "    return explained_variance_score(y_test, y_pred)"
   ]
  },
  {
   "cell_type": "code",
   "execution_count": null,
   "metadata": {},
   "outputs": [],
   "source": [
    "from sklearn.linear_model import LinearRegression, RidgeCV, LassoCV, ElasticNetCV, LassoLarsCV\n",
    "from sklearn.metrics import mean_squared_error, r2_score, explained_variance_score, mean_squared_log_error\n",
    "run(lasso, \"Lasso\", X_train,  X_val)\n",
    "run(elasticNet, \"ElasticNetCV\", X_train,  X_val)\n",
    "run(lassoLars, \"Lasso LARS\", X_train,  X_val)"
   ]
  },
  {
   "cell_type": "code",
   "execution_count": 29,
   "metadata": {},
   "outputs": [],
   "source": [
    "from joblib import Parallel, delayed\n",
    "def store(seed):\n",
    "    X_train, y_train, X_val, y_val, X_test, y_test = preparation(seed)\n",
    "    lassoLars.fit(X_train, y_train)\n",
    "    return evaluate(lassoLars.predict(X_test), y_test)\n",
    "\n",
    "results = Parallel(n_jobs=12)(delayed(store)(seed) for seed in seeds)"
   ]
  },
  {
   "cell_type": "code",
   "execution_count": null,
   "metadata": {},
   "outputs": [],
   "source": [
    "data = pd.read_excel(\"../spring21_data/fa_stats_v3.xlsx\")\n",
    "test_index = X_test.index\n",
    "test_data = data.iloc[test_index][['clean_season','Player','MPG', 'attempted_field_goals', 'minutes_played', 'WS', 'Wins Added', 'poss','cap_space_usage']]\n",
    "results = pd.concat([test_data, pd.DataFrame(index=test_index, data=lassoLars.predict(X_test))], axis=1)\n"
   ]
  },
  {
   "cell_type": "code",
   "execution_count": null,
   "metadata": {},
   "outputs": [],
   "source": [
    "from sklearn.preprocessing import PolynomialFeatures\n",
    "\n",
    "poly = PolynomialFeatures(degree=2)\n",
    "\n",
    "X_trainPF = poly.fit_transform(X_train)\n",
    "X_valPF = poly.transform(X_val)\n",
    "X_valPF = poly.transform(X_val)\n",
    "\n",
    "lstsq = LinearRegression()\n",
    "ridge = RidgeCV()\n",
    "lasso = LassoCV(max_iter=50000)\n",
    "elasticNet = ElasticNetCV(max_iter=50000, n_alphas = 1000)\n",
    "lassoLars = LassoLarsCV()\n",
    "\n",
    "run(ridge, \"Ridge\", X_trainPF, X_valPF)\n",
    "run(lstsq, \"Least Squares\", X_trainPF, X_valPF)\n",
    "run(lasso, \"Lasso\", X_trainPF, X_valPF)\n",
    "run(elasticNet, \"ElasticNetCV\", X_trainPF, X_valPF)\n",
    "run(lassoLars, \"Lasso LARS\", X_trainPF, X_valPF)"
   ]
  },
  {
   "cell_type": "code",
   "execution_count": null,
   "metadata": {},
   "outputs": [],
   "source": [
    "evaluate(lassoLars.predict(poly.transform(X_test)), y_test)"
   ]
  }
 ],
 "metadata": {
  "kernelspec": {
   "name": "python382jvsc74a57bd0f6e5de00158004fca4bed140e7e3786d910834eb74025be550c3cf8f536996b9",
   "display_name": "Python 3.8.2 64-bit ('nba-model': conda)"
  },
  "language_info": {
   "codemirror_mode": {
    "name": "ipython",
    "version": 3
   },
   "file_extension": ".py",
   "mimetype": "text/x-python",
   "name": "python",
   "nbconvert_exporter": "python",
   "pygments_lexer": "ipython3",
   "version": "3.8.2"
  },
  "metadata": {
   "interpreter": {
    "hash": "f6e5de00158004fca4bed140e7e3786d910834eb74025be550c3cf8f536996b9"
   }
  }
 },
 "nbformat": 4,
 "nbformat_minor": 2
}