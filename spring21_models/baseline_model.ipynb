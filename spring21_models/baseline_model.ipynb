{
 "cells": [
  {
   "cell_type": "code",
   "execution_count": 12,
   "metadata": {},
   "outputs": [],
   "source": [
    "import pandas as pd\n",
    "import numpy as np\n",
    "import matplotlib.pyplot as plt\n",
    "import seaborn as sns\n",
    "import sklearn as sk\n",
    "import smogn"
   ]
  },
  {
   "cell_type": "markdown",
   "metadata": {},
   "source": [
    "# Import Data"
   ]
  },
  {
   "cell_type": "code",
   "execution_count": 2,
   "metadata": {},
   "outputs": [],
   "source": [
    "df = pd.read_excel(\"../spring21_data/fa_stats_v2.xlsx\")"
   ]
  },
  {
   "cell_type": "markdown",
   "metadata": {},
   "source": [
    "# Feature Cleaning"
   ]
  },
  {
   "cell_type": "code",
   "execution_count": 3,
   "metadata": {},
   "outputs": [],
   "source": [
    "numerical = ['age',\n",
    "       'games_played', 'minutes_played', \n",
    "       'player_efficiency_rating', 'true_shooting_percentage',\n",
    "       'three_point_attempt_rate', 'free_throw_attempt_rate',\n",
    "       'offensive_rebound_percentage', 'defensive_rebound_percentage',\n",
    "       'assist_percentage', 'steal_percentage',\n",
    "       'block_percentage', 'turnover_percentage', 'usage_percentage',\n",
    "       'offensive_win_shares', 'defensive_win_shares',\n",
    "       'win_shares_per_48_minutes', 'offensive_box_plus_minus',\n",
    "       'defensive_box_plus_minus',\n",
    "       'value_over_replacement_player','O-LEBRON', 'D-LEBRON', 'Wins Added', 'ORPM', 'DRPM', 'poss',\n",
    "       'raptor_offense', 'raptor_defense', 'war_total', 'war_reg_season',\n",
    "       'war_playoffs', 'predator_offense', 'predator_defense', 'pace_impact',\n",
    "       'LA_RAPM__Def', 'LA_RAPM__Off', 'RA_EFG__Def', 'RA_EFG__Off',\n",
    "       'RA_FTR__Def', 'RA_FTR__Off', 'RA_ORBD__Def', 'RA_ORBD__Off',\n",
    "       'RA_TOV__Def', 'RA_TOV__Off', 'RAPM__Def', 'RAPM__Off']\n",
    "\n",
    "categorical = [\"Type\"]\n",
    "other = [col for col in df.columns.values if (col not in categorical+numerical+[\"cap_space_usage\"])]\n",
    "dum_df = pd.get_dummies(df, columns=categorical) # convert the categorical features into dummy features (numerical)"
   ]
  },
  {
   "cell_type": "code",
   "execution_count": 4,
   "metadata": {},
   "outputs": [],
   "source": [
    "df = dum_df.drop(columns=other) # drop the non-feature columns\n",
    "df.dropna(inplace=True) # drop all rows with a null value (there should be none)"
   ]
  },
  {
   "cell_type": "code",
   "execution_count": 58,
   "metadata": {},
   "outputs": [
    {
     "data": {
      "text/plain": [
       "<AxesSubplot:xlabel='cap_space_usage'>"
      ]
     },
     "execution_count": 58,
     "metadata": {},
     "output_type": "execute_result"
    },
    {
     "data": {
      "image/png": "[encoded data removed]",
      "text/plain": [
       "<Figure size 432x288 with 1 Axes>"
      ]
     },
     "metadata": {
      "needs_background": "light"
     },
     "output_type": "display_data"
    }
   ],
   "source": [
    "sns.distplot(df['cap_space_usage'])"
   ]
  },
  {
   "cell_type": "markdown",
   "metadata": {},
   "source": [
    "Split the dataset into training set, validation set, and test set (this is for the final run)"
   ]
  },
  {
   "cell_type": "code",
   "execution_count": 7,
   "metadata": {},
   "outputs": [],
   "source": [
    "from sklearn.model_selection import train_test_split"
   ]
  },
  {
   "cell_type": "code",
   "execution_count": 35,
   "metadata": {},
   "outputs": [],
   "source": [
    "X = df.drop(columns=[\"cap_space_usage\"])\n",
    "y = df[\"cap_space_usage\"]"
   ]
  },
  {
   "cell_type": "code",
   "execution_count": 143,
   "metadata": {},
   "outputs": [
    {
     "name": "stderr",
     "output_type": "stream",
     "text": [
      "dist_matrix: 100%|##########| 41/41 [00:01<00:00, 30.91it/s]\n",
      "synth_matrix: 100%|##########| 41/41 [00:01<00:00, 36.81it/s]\n",
      "r_index: 100%|##########| 16/16 [00:00<00:00, 222.96it/s]\n"
     ]
    }
   ],
   "source": [
    "X_train, X_test, y_train, y_test = train_test_split(X, y, test_size=0.13, random_state=41)\n",
    "smote_data = smogn.smoter(data = pd.concat([X_train, y_train], axis=1),\n",
    "                           y = 'cap_space_usage',\n",
    "                           rel_xtrm_type = 'high',\n",
    "                           rel_thres = 0.75,\n",
    "                              k = 9,\n",
    "                          samp_method = 'extreme',\n",
    "                         drop_na_col = True,\n",
    "                        drop_na_row = True)\n",
    "y_train = smote_data[['cap_space_usage']]\n",
    "X_train = smote_data.drop(columns=['cap_space_usage'])\n",
    "X_train, X_val, y_train, y_val = train_test_split(X_train, y_train, test_size=0.13, random_state=41)"
   ]
  },
  {
   "cell_type": "code",
   "execution_count": 144,
   "metadata": {},
   "outputs": [
    {
     "data": {
      "text/plain": [
       "<AxesSubplot:>"
      ]
     },
     "execution_count": 144,
     "metadata": {},
     "output_type": "execute_result"
    },
    {
     "data": {
      "image/png": "[encoded data removed]",
      "text/plain": [
       "<Figure size 432x288 with 1 Axes>"
      ]
     },
     "metadata": {
      "needs_background": "light"
     },
     "output_type": "display_data"
    }
   ],
   "source": [
    "sns.distplot(y_train)"
   ]
  },
  {
   "cell_type": "code",
   "execution_count": 9,
   "metadata": {},
   "outputs": [],
   "source": [
    "X.to_excel(\"X.xlsx\")\n",
    "y.to_excel(\"y.xlsx\")"
   ]
  },
  {
   "cell_type": "code",
   "execution_count": 145,
   "metadata": {},
   "outputs": [
    {
     "name": "stderr",
     "output_type": "stream",
     "text": [
      "<ipython-input-145-130c03cd7c68>:7: SettingWithCopyWarning: \n",
      "A value is trying to be set on a copy of a slice from a DataFrame.\n",
      "Try using .loc[row_indexer,col_indexer] = value instead\n",
      "\n",
      "See the caveats in the documentation: https://pandas.pydata.org/pandas-docs/stable/user_guide/indexing.html#returning-a-view-versus-a-copy\n",
      "  X_test[features] = scaler.transform(X_test[features])\n",
      "/home/zach/miniconda3/envs/DataScience/lib/python3.8/site-packages/pandas/core/indexing.py:966: SettingWithCopyWarning: \n",
      "A value is trying to be set on a copy of a slice from a DataFrame.\n",
      "Try using .loc[row_indexer,col_indexer] = value instead\n",
      "\n",
      "See the caveats in the documentation: https://pandas.pydata.org/pandas-docs/stable/user_guide/indexing.html#returning-a-view-versus-a-copy\n",
      "  self.obj[item] = s\n"
     ]
    }
   ],
   "source": [
    "# scale the numerical features only (this leaves out the dummy features from earlier)\n",
    "from sklearn.preprocessing import StandardScaler\n",
    "features = numerical\n",
    "scaler = StandardScaler()\n",
    "\n",
    "X_train[features] = scaler.fit_transform(X_train[features])\n",
    "X_test[features] = scaler.transform(X_test[features])\n",
    "X_val[features] = scaler.transform(X_val[features])"
   ]
  },
  {
   "cell_type": "markdown",
   "metadata": {},
   "source": [
    "# Feature Selection"
   ]
  },
  {
   "cell_type": "code",
   "execution_count": 146,
   "metadata": {},
   "outputs": [
    {
     "name": "stderr",
     "output_type": "stream",
     "text": [
      "/home/zach/miniconda3/envs/DataScience/lib/python3.8/site-packages/sklearn/utils/validation.py:63: DataConversionWarning: A column-vector y was passed when a 1d array was expected. Please change the shape of y to (n_samples, ), for example using ravel().\n",
      "  return f(*args, **kwargs)\n"
     ]
    }
   ],
   "source": [
    "from sklearn.feature_selection import SelectKBest, f_regression\n",
    "select = SelectKBest(f_regression, k=20)\n",
    "\n",
    "best_features = select.fit_transform(X_train, y_train)\n",
    "feature_scores = pd.concat([pd.Series(X_train.columns), pd.Series(select.scores_)], axis=1)\n",
    "feature_scores.columns = [\"features\", \"score\"]"
   ]
  },
  {
   "cell_type": "code",
   "execution_count": 37,
   "metadata": {},
   "outputs": [],
   "source": [
    "pd.options.display.max_columns = 100\n",
    "pd.options.display.max_rows = 100"
   ]
  },
  {
   "cell_type": "code",
   "execution_count": 147,
   "metadata": {},
   "outputs": [
    {
     "data": {
      "text/html": [
       "<div>\n",
       "<style scoped>\n",
       "    .dataframe tbody tr th:only-of-type {\n",
       "        vertical-align: middle;\n",
       "    }\n",
       "\n",
       "    .dataframe tbody tr th {\n",
       "        vertical-align: top;\n",
       "    }\n",
       "\n",
       "    .dataframe thead th {\n",
       "        text-align: right;\n",
       "    }\n",
       "</style>\n",
       "<table border=\"1\" class=\"dataframe\">\n",
       "  <thead>\n",
       "    <tr style=\"text-align: right;\">\n",
       "      <th></th>\n",
       "      <th>features</th>\n",
       "      <th>score</th>\n",
       "    </tr>\n",
       "  </thead>\n",
       "  <tbody>\n",
       "    <tr>\n",
       "      <th>2</th>\n",
       "      <td>Wins Added</td>\n",
       "      <td>585.211586</td>\n",
       "    </tr>\n",
       "    <tr>\n",
       "      <th>45</th>\n",
       "      <td>value_over_replacement_player</td>\n",
       "      <td>554.631043</td>\n",
       "    </tr>\n",
       "    <tr>\n",
       "      <th>40</th>\n",
       "      <td>offensive_win_shares</td>\n",
       "      <td>465.923354</td>\n",
       "    </tr>\n",
       "    <tr>\n",
       "      <th>8</th>\n",
       "      <td>war_total</td>\n",
       "      <td>449.285591</td>\n",
       "    </tr>\n",
       "    <tr>\n",
       "      <th>5</th>\n",
       "      <td>poss</td>\n",
       "      <td>402.892805</td>\n",
       "    </tr>\n",
       "    <tr>\n",
       "      <th>9</th>\n",
       "      <td>war_reg_season</td>\n",
       "      <td>398.129473</td>\n",
       "    </tr>\n",
       "    <tr>\n",
       "      <th>28</th>\n",
       "      <td>minutes_played</td>\n",
       "      <td>371.681778</td>\n",
       "    </tr>\n",
       "    <tr>\n",
       "      <th>43</th>\n",
       "      <td>offensive_box_plus_minus</td>\n",
       "      <td>285.188437</td>\n",
       "    </tr>\n",
       "    <tr>\n",
       "      <th>41</th>\n",
       "      <td>defensive_win_shares</td>\n",
       "      <td>281.172717</td>\n",
       "    </tr>\n",
       "    <tr>\n",
       "      <th>0</th>\n",
       "      <td>O-LEBRON</td>\n",
       "      <td>252.871797</td>\n",
       "    </tr>\n",
       "    <tr>\n",
       "      <th>10</th>\n",
       "      <td>war_playoffs</td>\n",
       "      <td>232.680010</td>\n",
       "    </tr>\n",
       "    <tr>\n",
       "      <th>29</th>\n",
       "      <td>player_efficiency_rating</td>\n",
       "      <td>231.616479</td>\n",
       "    </tr>\n",
       "    <tr>\n",
       "      <th>11</th>\n",
       "      <td>predator_offense</td>\n",
       "      <td>228.538047</td>\n",
       "    </tr>\n",
       "    <tr>\n",
       "      <th>3</th>\n",
       "      <td>ORPM</td>\n",
       "      <td>208.337331</td>\n",
       "    </tr>\n",
       "    <tr>\n",
       "      <th>6</th>\n",
       "      <td>raptor_offense</td>\n",
       "      <td>186.479831</td>\n",
       "    </tr>\n",
       "    <tr>\n",
       "      <th>42</th>\n",
       "      <td>win_shares_per_48_minutes</td>\n",
       "      <td>169.068011</td>\n",
       "    </tr>\n",
       "    <tr>\n",
       "      <th>25</th>\n",
       "      <td>RAPM__Off</td>\n",
       "      <td>165.652154</td>\n",
       "    </tr>\n",
       "    <tr>\n",
       "      <th>17</th>\n",
       "      <td>RA_EFG__Off</td>\n",
       "      <td>149.889871</td>\n",
       "    </tr>\n",
       "    <tr>\n",
       "      <th>15</th>\n",
       "      <td>LA_RAPM__Off</td>\n",
       "      <td>140.670302</td>\n",
       "    </tr>\n",
       "    <tr>\n",
       "      <th>39</th>\n",
       "      <td>usage_percentage</td>\n",
       "      <td>95.121183</td>\n",
       "    </tr>\n",
       "    <tr>\n",
       "      <th>27</th>\n",
       "      <td>games_played</td>\n",
       "      <td>69.375716</td>\n",
       "    </tr>\n",
       "    <tr>\n",
       "      <th>30</th>\n",
       "      <td>true_shooting_percentage</td>\n",
       "      <td>44.802135</td>\n",
       "    </tr>\n",
       "    <tr>\n",
       "      <th>13</th>\n",
       "      <td>pace_impact</td>\n",
       "      <td>31.055264</td>\n",
       "    </tr>\n",
       "    <tr>\n",
       "      <th>35</th>\n",
       "      <td>assist_percentage</td>\n",
       "      <td>28.338568</td>\n",
       "    </tr>\n",
       "    <tr>\n",
       "      <th>18</th>\n",
       "      <td>RA_FTR__Def</td>\n",
       "      <td>26.745820</td>\n",
       "    </tr>\n",
       "    <tr>\n",
       "      <th>19</th>\n",
       "      <td>RA_FTR__Off</td>\n",
       "      <td>24.924280</td>\n",
       "    </tr>\n",
       "    <tr>\n",
       "      <th>24</th>\n",
       "      <td>RAPM__Def</td>\n",
       "      <td>17.675173</td>\n",
       "    </tr>\n",
       "    <tr>\n",
       "      <th>44</th>\n",
       "      <td>defensive_box_plus_minus</td>\n",
       "      <td>17.604999</td>\n",
       "    </tr>\n",
       "    <tr>\n",
       "      <th>12</th>\n",
       "      <td>predator_defense</td>\n",
       "      <td>16.794984</td>\n",
       "    </tr>\n",
       "    <tr>\n",
       "      <th>47</th>\n",
       "      <td>Type_UFA</td>\n",
       "      <td>16.366492</td>\n",
       "    </tr>\n",
       "    <tr>\n",
       "      <th>1</th>\n",
       "      <td>D-LEBRON</td>\n",
       "      <td>13.543446</td>\n",
       "    </tr>\n",
       "    <tr>\n",
       "      <th>34</th>\n",
       "      <td>defensive_rebound_percentage</td>\n",
       "      <td>12.380894</td>\n",
       "    </tr>\n",
       "    <tr>\n",
       "      <th>14</th>\n",
       "      <td>LA_RAPM__Def</td>\n",
       "      <td>11.438017</td>\n",
       "    </tr>\n",
       "    <tr>\n",
       "      <th>32</th>\n",
       "      <td>free_throw_attempt_rate</td>\n",
       "      <td>9.967012</td>\n",
       "    </tr>\n",
       "    <tr>\n",
       "      <th>23</th>\n",
       "      <td>RA_TOV__Off</td>\n",
       "      <td>8.618639</td>\n",
       "    </tr>\n",
       "    <tr>\n",
       "      <th>7</th>\n",
       "      <td>raptor_defense</td>\n",
       "      <td>8.477201</td>\n",
       "    </tr>\n",
       "    <tr>\n",
       "      <th>16</th>\n",
       "      <td>RA_EFG__Def</td>\n",
       "      <td>8.392027</td>\n",
       "    </tr>\n",
       "    <tr>\n",
       "      <th>20</th>\n",
       "      <td>RA_ORBD__Def</td>\n",
       "      <td>7.294856</td>\n",
       "    </tr>\n",
       "    <tr>\n",
       "      <th>37</th>\n",
       "      <td>block_percentage</td>\n",
       "      <td>6.707349</td>\n",
       "    </tr>\n",
       "    <tr>\n",
       "      <th>31</th>\n",
       "      <td>three_point_attempt_rate</td>\n",
       "      <td>3.108018</td>\n",
       "    </tr>\n",
       "    <tr>\n",
       "      <th>4</th>\n",
       "      <td>DRPM</td>\n",
       "      <td>2.742460</td>\n",
       "    </tr>\n",
       "    <tr>\n",
       "      <th>38</th>\n",
       "      <td>turnover_percentage</td>\n",
       "      <td>2.362270</td>\n",
       "    </tr>\n",
       "    <tr>\n",
       "      <th>46</th>\n",
       "      <td>Type_RFA</td>\n",
       "      <td>2.052850</td>\n",
       "    </tr>\n",
       "    <tr>\n",
       "      <th>36</th>\n",
       "      <td>steal_percentage</td>\n",
       "      <td>1.848633</td>\n",
       "    </tr>\n",
       "    <tr>\n",
       "      <th>33</th>\n",
       "      <td>offensive_rebound_percentage</td>\n",
       "      <td>0.838636</td>\n",
       "    </tr>\n",
       "    <tr>\n",
       "      <th>22</th>\n",
       "      <td>RA_TOV__Def</td>\n",
       "      <td>0.677919</td>\n",
       "    </tr>\n",
       "    <tr>\n",
       "      <th>21</th>\n",
       "      <td>RA_ORBD__Off</td>\n",
       "      <td>0.634968</td>\n",
       "    </tr>\n",
       "    <tr>\n",
       "      <th>26</th>\n",
       "      <td>age</td>\n",
       "      <td>0.073607</td>\n",
       "    </tr>\n",
       "  </tbody>\n",
       "</table>\n",
       "</div>"
      ],
      "text/plain": [
       "                         features       score\n",
       "2                      Wins Added  585.211586\n",
       "45  value_over_replacement_player  554.631043\n",
       "40           offensive_win_shares  465.923354\n",
       "8                       war_total  449.285591\n",
       "5                            poss  402.892805\n",
       "9                  war_reg_season  398.129473\n",
       "28                 minutes_played  371.681778\n",
       "43       offensive_box_plus_minus  285.188437\n",
       "41           defensive_win_shares  281.172717\n",
       "0                        O-LEBRON  252.871797\n",
       "10                   war_playoffs  232.680010\n",
       "29       player_efficiency_rating  231.616479\n",
       "11               predator_offense  228.538047\n",
       "3                            ORPM  208.337331\n",
       "6                  raptor_offense  186.479831\n",
       "42      win_shares_per_48_minutes  169.068011\n",
       "25                      RAPM__Off  165.652154\n",
       "17                    RA_EFG__Off  149.889871\n",
       "15                   LA_RAPM__Off  140.670302\n",
       "39               usage_percentage   95.121183\n",
       "27                   games_played   69.375716\n",
       "30       true_shooting_percentage   44.802135\n",
       "13                    pace_impact   31.055264\n",
       "35              assist_percentage   28.338568\n",
       "18                    RA_FTR__Def   26.745820\n",
       "19                    RA_FTR__Off   24.924280\n",
       "24                      RAPM__Def   17.675173\n",
       "44       defensive_box_plus_minus   17.604999\n",
       "12               predator_defense   16.794984\n",
       "47                       Type_UFA   16.366492\n",
       "1                        D-LEBRON   13.543446\n",
       "34   defensive_rebound_percentage   12.380894\n",
       "14                   LA_RAPM__Def   11.438017\n",
       "32        free_throw_attempt_rate    9.967012\n",
       "23                    RA_TOV__Off    8.618639\n",
       "7                  raptor_defense    8.477201\n",
       "16                    RA_EFG__Def    8.392027\n",
       "20                   RA_ORBD__Def    7.294856\n",
       "37               block_percentage    6.707349\n",
       "31       three_point_attempt_rate    3.108018\n",
       "4                            DRPM    2.742460\n",
       "38            turnover_percentage    2.362270\n",
       "46                       Type_RFA    2.052850\n",
       "36               steal_percentage    1.848633\n",
       "33   offensive_rebound_percentage    0.838636\n",
       "22                    RA_TOV__Def    0.677919\n",
       "21                   RA_ORBD__Off    0.634968\n",
       "26                            age    0.073607"
      ]
     },
     "execution_count": 147,
     "metadata": {},
     "output_type": "execute_result"
    }
   ],
   "source": [
    "feature_scores.sort_values(by=[\"score\"], ascending=False)"
   ]
  },
  {
   "cell_type": "markdown",
   "metadata": {},
   "source": [
    "Since this is the baseline model I decided just to use these features and call it a day for now."
   ]
  },
  {
   "cell_type": "code",
   "execution_count": 148,
   "metadata": {},
   "outputs": [],
   "source": [
    "features = list(feature_scores.sort_values(by=[\"score\"], ascending=False).head(15)['features'])"
   ]
  },
  {
   "cell_type": "code",
   "execution_count": 149,
   "metadata": {},
   "outputs": [],
   "source": [
    "X_train = X_train[features]\n",
    "X_test = X_test[features]\n",
    "X_val = X_val[features]"
   ]
  },
  {
   "cell_type": "code",
   "execution_count": 30,
   "metadata": {},
   "outputs": [],
   "source": [
    "X_train.to_excel(\"training_set.xlsx\")\n",
    "X_test.to_excel(\"test_set.xlsx\")\n",
    "X_val.to_excel(\"validation_set.xlsx\")"
   ]
  },
  {
   "cell_type": "markdown",
   "metadata": {},
   "source": [
    "### helper functions\n",
    "\n",
    "run(model, model_name, x_train, x_val) fits the model on the training set, evaluates the fit on the training set and on the validation set. \n",
    "\n",
    "evaluate(y_pred, y_test) prints out the evaluation metrics of a prediction."
   ]
  },
  {
   "cell_type": "code",
   "execution_count": 80,
   "metadata": {},
   "outputs": [],
   "source": [
    "def run(model, model_name, x_train, x_val):\n",
    "    \"\"\" Fits the model and prints out results from calling evaluate on the training and validation set\n",
    "        parameters:\n",
    "            model\n",
    "                the unfitted model, from sklearn (has to have a fit and predict method)\n",
    "            model_name\n",
    "                String, the name of the model\n",
    "            x_train\n",
    "                DataFrame, the training set\n",
    "            x_val\n",
    "                DataFrame, the validation set\n",
    "                \n",
    "        returns:\n",
    "            nothing\n",
    "        \n",
    "    \"\"\"\n",
    "    model = model.fit(x_train, y_train)\n",
    "    y_pred = np.clip(model.predict(x_train), 0, 1000) # since negative results are meaningless\n",
    "    \n",
    "    print(\"[{0}] These are the results for the training set.\".format(model_name))\n",
    "    \n",
    "    evaluate(y_pred, y_train)\n",
    "    print(\"--------------------------------------\")\n",
    "    \n",
    "    print(\"[{0}] These are the results for the validation set.\".format(model_name))\n",
    "    y_pred = np.clip(model.predict(x_val), 0, 1000) # since negative results are meaningless\n",
    "    \n",
    "    evaluate(y_pred, y_val)\n",
    "    \n",
    "    print(\"_____________________________________________\")"
   ]
  },
  {
   "cell_type": "code",
   "execution_count": 81,
   "metadata": {},
   "outputs": [],
   "source": [
    "def evaluate(y_pred, y_test):\n",
    "    \"\"\" Prints out the evaluation metrics of the experiment\n",
    "        parameters:\n",
    "            y_pred\n",
    "                DataFrame or array-like, the predictions\n",
    "            y_test\n",
    "                DataFrame or array-like, the actual y-values\n",
    "                \n",
    "            these two parameters must have the same dimensions\n",
    "    \"\"\"\n",
    "    print(\"r^2: \", r2_score(y_test, y_pred))\n",
    "    print(\"mse: \", mean_squared_error(y_test, y_pred))\n",
    "    print(\"variance_score: \", explained_variance_score(y_test, y_pred))\n",
    "    print(\"mse-log: \", mean_squared_log_error(y_test, y_pred))"
   ]
  },
  {
   "cell_type": "markdown",
   "metadata": {},
   "source": [
    "Here I'm trying those five linear models without any tuning and testing the performance."
   ]
  },
  {
   "cell_type": "code",
   "execution_count": 150,
   "metadata": {},
   "outputs": [
    {
     "name": "stdout",
     "output_type": "stream",
     "text": [
      "[Ridge] These are the results for the training set.\n",
      "r^2:  0.6270640306411897\n",
      "mse:  0.0021560330450506415\n",
      "variance_score:  0.6270652141541937\n",
      "mse-log:  0.0017186667876685714\n",
      "--------------------------------------\n",
      "[Ridge] These are the results for the validation set.\n",
      "r^2:  0.514223178509277\n",
      "mse:  0.003265569925637849\n",
      "variance_score:  0.522646092752316\n",
      "mse-log:  0.002558970796581035\n",
      "_____________________________________________\n",
      "[Least Squares] These are the results for the training set.\n",
      "r^2:  0.6290538083692703\n",
      "mse:  0.002144529658714849\n",
      "variance_score:  0.6290548716499582\n",
      "mse-log:  0.0017073500860847065\n",
      "--------------------------------------\n",
      "[Least Squares] These are the results for the validation set.\n",
      "r^2:  0.5106710875957743\n",
      "mse:  0.003289448383289801\n",
      "variance_score:  0.517765808953179\n",
      "mse-log:  0.0025801225132342166\n",
      "_____________________________________________\n",
      "[Lasso] These are the results for the training set.\n",
      "r^2:  0.6187695687624575\n",
      "mse:  0.002203985335445708\n",
      "variance_score:  0.6187696287672183\n",
      "mse-log:  0.0017593642703522218\n",
      "--------------------------------------\n",
      "[Lasso] These are the results for the validation set.\n",
      "r^2:  0.518753772469859\n",
      "mse:  0.0032351136116919696\n",
      "variance_score:  0.5311802917753541\n",
      "mse-log:  0.0025427451365132745\n",
      "_____________________________________________\n"
     ]
    },
    {
     "name": "stderr",
     "output_type": "stream",
     "text": [
      "/home/zach/miniconda3/envs/DataScience/lib/python3.8/site-packages/sklearn/utils/validation.py:63: DataConversionWarning: A column-vector y was passed when a 1d array was expected. Please change the shape of y to (n_samples, ), for example using ravel().\n",
      "  return f(*args, **kwargs)\n",
      "/home/zach/miniconda3/envs/DataScience/lib/python3.8/site-packages/sklearn/utils/validation.py:63: DataConversionWarning: A column-vector y was passed when a 1d array was expected. Please change the shape of y to (n_samples, ), for example using ravel().\n",
      "  return f(*args, **kwargs)\n"
     ]
    },
    {
     "name": "stdout",
     "output_type": "stream",
     "text": [
      "[ElasticNetCV] These are the results for the training set.\n",
      "r^2:  0.6188033848282866\n",
      "mse:  0.002203789836589681\n",
      "variance_score:  0.6188034481036704\n",
      "mse-log:  0.0017592631014944566\n",
      "--------------------------------------\n",
      "[ElasticNetCV] These are the results for the validation set.\n",
      "r^2:  0.519621558660923\n",
      "mse:  0.0032292800347034135\n",
      "variance_score:  0.5320696323615297\n",
      "mse-log:  0.002538161741584001\n",
      "_____________________________________________\n",
      "[Lasso LARS] These are the results for the training set.\n",
      "r^2:  0.6185130795025733\n",
      "mse:  0.0022054681618970205\n",
      "variance_score:  0.6185131187956928\n",
      "mse-log:  0.0017603232195926991\n",
      "--------------------------------------\n",
      "[Lasso LARS] These are the results for the validation set.\n",
      "r^2:  0.5184209970664309\n",
      "mse:  0.0032373506499806474\n",
      "variance_score:  0.5308977911173931\n",
      "mse-log:  0.002543831510738568\n",
      "_____________________________________________\n"
     ]
    },
    {
     "name": "stderr",
     "output_type": "stream",
     "text": [
      "/home/zach/miniconda3/envs/DataScience/lib/python3.8/site-packages/sklearn/utils/validation.py:63: DataConversionWarning: A column-vector y was passed when a 1d array was expected. Please change the shape of y to (n_samples, ), for example using ravel().\n",
      "  return f(*args, **kwargs)\n"
     ]
    }
   ],
   "source": [
    "from sklearn.linear_model import LinearRegression, RidgeCV, LassoCV, ElasticNetCV, LassoLarsCV\n",
    "from sklearn.metrics import mean_squared_error, r2_score, explained_variance_score, mean_squared_log_error\n",
    "\n",
    "lstsq = LinearRegression()\n",
    "ridge = RidgeCV()\n",
    "lasso = LassoCV(max_iter=5000, random_state = 0)\n",
    "elasticNet = ElasticNetCV(n_alphas = 1000)\n",
    "lassoLars = LassoLarsCV()\n",
    "\n",
    "run(ridge, \"Ridge\", X_train, X_val)\n",
    "run(lstsq, \"Least Squares\", X_train,  X_val)\n",
    "run(lasso, \"Lasso\", X_train,  X_val)\n",
    "run(elasticNet, \"ElasticNetCV\", X_train,  X_val)\n",
    "run(lassoLars, \"Lasso LARS\", X_train,  X_val)"
   ]
  },
  {
   "cell_type": "code",
   "execution_count": 151,
   "metadata": {},
   "outputs": [
    {
     "name": "stdout",
     "output_type": "stream",
     "text": [
      "r^2:  0.6061856526905073\n",
      "mse:  0.0019539532905239313\n",
      "variance_score:  0.6152000281512098\n"
     ]
    },
    {
     "ename": "ValueError",
     "evalue": "Mean Squared Logarithmic Error cannot be used when targets contain negative values.",
     "output_type": "error",
     "traceback": [
      "\u001b[0;31m---------------------------------------------------------\u001b[0m",
      "\u001b[0;31mValueError\u001b[0m              Traceback (most recent call last)",
      "\u001b[0;32m<ipython-input-151-fecac8696500>\u001b[0m in \u001b[0;36m<module>\u001b[0;34m\u001b[0m\n\u001b[0;32m----> 1\u001b[0;31m \u001b[0mevaluate\u001b[0m\u001b[0;34m(\u001b[0m\u001b[0mlstsq\u001b[0m\u001b[0;34m.\u001b[0m\u001b[0mpredict\u001b[0m\u001b[0;34m(\u001b[0m\u001b[0mX_test\u001b[0m\u001b[0;34m)\u001b[0m\u001b[0;34m,\u001b[0m \u001b[0my_test\u001b[0m\u001b[0;34m)\u001b[0m\u001b[0;34m\u001b[0m\u001b[0;34m\u001b[0m\u001b[0m\n\u001b[0m",
      "\u001b[0;32m<ipython-input-81-befb6852d9e7>\u001b[0m in \u001b[0;36mevaluate\u001b[0;34m(y_pred, y_test)\u001b[0m\n\u001b[1;32m     12\u001b[0m     \u001b[0mprint\u001b[0m\u001b[0;34m(\u001b[0m\u001b[0;34m\"mse: \"\u001b[0m\u001b[0;34m,\u001b[0m \u001b[0mmean_squared_error\u001b[0m\u001b[0;34m(\u001b[0m\u001b[0my_test\u001b[0m\u001b[0;34m,\u001b[0m \u001b[0my_pred\u001b[0m\u001b[0;34m)\u001b[0m\u001b[0;34m)\u001b[0m\u001b[0;34m\u001b[0m\u001b[0;34m\u001b[0m\u001b[0m\n\u001b[1;32m     13\u001b[0m     \u001b[0mprint\u001b[0m\u001b[0;34m(\u001b[0m\u001b[0;34m\"variance_score: \"\u001b[0m\u001b[0;34m,\u001b[0m \u001b[0mexplained_variance_score\u001b[0m\u001b[0;34m(\u001b[0m\u001b[0my_test\u001b[0m\u001b[0;34m,\u001b[0m \u001b[0my_pred\u001b[0m\u001b[0;34m)\u001b[0m\u001b[0;34m)\u001b[0m\u001b[0;34m\u001b[0m\u001b[0;34m\u001b[0m\u001b[0m\n\u001b[0;32m---> 14\u001b[0;31m     \u001b[0mprint\u001b[0m\u001b[0;34m(\u001b[0m\u001b[0;34m\"mse-log: \"\u001b[0m\u001b[0;34m,\u001b[0m \u001b[0mmean_squared_log_error\u001b[0m\u001b[0;34m(\u001b[0m\u001b[0my_test\u001b[0m\u001b[0;34m,\u001b[0m \u001b[0my_pred\u001b[0m\u001b[0;34m)\u001b[0m\u001b[0;34m)\u001b[0m\u001b[0;34m\u001b[0m\u001b[0;34m\u001b[0m\u001b[0m\n\u001b[0m",
      "\u001b[0;32m~/miniconda3/envs/DataScience/lib/python3.8/site-packages/sklearn/utils/validation.py\u001b[0m in \u001b[0;36minner_f\u001b[0;34m(*args, **kwargs)\u001b[0m\n\u001b[1;32m     61\u001b[0m             \u001b[0mextra_args\u001b[0m \u001b[0;34m=\u001b[0m \u001b[0mlen\u001b[0m\u001b[0;34m(\u001b[0m\u001b[0margs\u001b[0m\u001b[0;34m)\u001b[0m \u001b[0;34m-\u001b[0m \u001b[0mlen\u001b[0m\u001b[0;34m(\u001b[0m\u001b[0mall_args\u001b[0m\u001b[0;34m)\u001b[0m\u001b[0;34m\u001b[0m\u001b[0;34m\u001b[0m\u001b[0m\n\u001b[1;32m     62\u001b[0m             \u001b[0;32mif\u001b[0m \u001b[0mextra_args\u001b[0m \u001b[0;34m<=\u001b[0m \u001b[0;36m0\u001b[0m\u001b[0;34m:\u001b[0m\u001b[0;34m\u001b[0m\u001b[0;34m\u001b[0m\u001b[0m\n\u001b[0;32m---> 63\u001b[0;31m                 \u001b[0;32mreturn\u001b[0m \u001b[0mf\u001b[0m\u001b[0;34m(\u001b[0m\u001b[0;34m*\u001b[0m\u001b[0margs\u001b[0m\u001b[0;34m,\u001b[0m \u001b[0;34m**\u001b[0m\u001b[0mkwargs\u001b[0m\u001b[0;34m)\u001b[0m\u001b[0;34m\u001b[0m\u001b[0;34m\u001b[0m\u001b[0m\n\u001b[0m\u001b[1;32m     64\u001b[0m \u001b[0;34m\u001b[0m\u001b[0m\n\u001b[1;32m     65\u001b[0m             \u001b[0;31m# extra_args > 0\u001b[0m\u001b[0;34m\u001b[0m\u001b[0;34m\u001b[0m\u001b[0;34m\u001b[0m\u001b[0m\n",
      "\u001b[0;32m~/miniconda3/envs/DataScience/lib/python3.8/site-packages/sklearn/metrics/_regression.py\u001b[0m in \u001b[0;36mmean_squared_log_error\u001b[0;34m(y_true, y_pred, sample_weight, multioutput)\u001b[0m\n\u001b[1;32m    411\u001b[0m \u001b[0;34m\u001b[0m\u001b[0m\n\u001b[1;32m    412\u001b[0m     \u001b[0;32mif\u001b[0m \u001b[0;34m(\u001b[0m\u001b[0my_true\u001b[0m \u001b[0;34m<\u001b[0m \u001b[0;36m0\u001b[0m\u001b[0;34m)\u001b[0m\u001b[0;34m.\u001b[0m\u001b[0many\u001b[0m\u001b[0;34m(\u001b[0m\u001b[0;34m)\u001b[0m \u001b[0;32mor\u001b[0m \u001b[0;34m(\u001b[0m\u001b[0my_pred\u001b[0m \u001b[0;34m<\u001b[0m \u001b[0;36m0\u001b[0m\u001b[0;34m)\u001b[0m\u001b[0;34m.\u001b[0m\u001b[0many\u001b[0m\u001b[0;34m(\u001b[0m\u001b[0;34m)\u001b[0m\u001b[0;34m:\u001b[0m\u001b[0;34m\u001b[0m\u001b[0;34m\u001b[0m\u001b[0m\n\u001b[0;32m--> 413\u001b[0;31m         raise ValueError(\"Mean Squared Logarithmic Error cannot be used when \"\n\u001b[0m\u001b[1;32m    414\u001b[0m                          \"targets contain negative values.\")\n\u001b[1;32m    415\u001b[0m \u001b[0;34m\u001b[0m\u001b[0m\n",
      "\u001b[0;31mValueError\u001b[0m: Mean Squared Logarithmic Error cannot be used when targets contain negative values."
     ]
    }
   ],
   "source": [
    "evaluate(lstsq.predict(X_test), y_test)"
   ]
  },
  {
   "cell_type": "markdown",
   "metadata": {},
   "source": [
    "Here I'm transforming the datasets to include quadratic features (eecs16b). This means that for feature: points, the PolynomialFeatures transformer will add a column of points-squared to the dataset."
   ]
  },
  {
   "cell_type": "code",
   "execution_count": 84,
   "metadata": {},
   "outputs": [
    {
     "name": "stdout",
     "output_type": "stream",
     "text": [
      "[Ridge] These are the results for the training set.\n",
      "r^2:  0.7932874116818396\n",
      "mse:  0.0011953469092273877\n",
      "variance_score:  0.7932877970849546\n",
      "mse-log:  0.0009689919799544719\n",
      "--------------------------------------\n",
      "[Ridge] These are the results for the validation set.\n",
      "r^2:  0.6534486578991971\n",
      "mse:  0.002365270492104977\n",
      "variance_score:  0.6534517043069517\n",
      "mse-log:  0.001839755964184997\n",
      "_____________________________________________\n",
      "[Least Squares] These are the results for the training set.\n",
      "r^2:  0.847567200243941\n",
      "mse:  0.0008814657952656216\n",
      "variance_score:  0.8475683287990223\n",
      "mse-log:  0.0007283556499101402\n",
      "--------------------------------------\n",
      "[Least Squares] These are the results for the validation set.\n",
      "r^2:  0.12081313901958723\n",
      "mse:  0.006000596410094105\n",
      "variance_score:  0.12476056200503416\n",
      "mse-log:  0.004548711733501853\n",
      "_____________________________________________\n"
     ]
    },
    {
     "name": "stderr",
     "output_type": "stream",
     "text": [
      "/home/zach/miniconda3/envs/DataScience/lib/python3.8/site-packages/sklearn/utils/validation.py:63: DataConversionWarning: A column-vector y was passed when a 1d array was expected. Please change the shape of y to (n_samples, ), for example using ravel().\n",
      "  return f(*args, **kwargs)\n"
     ]
    },
    {
     "name": "stdout",
     "output_type": "stream",
     "text": [
      "[Lasso] These are the results for the training set.\n",
      "r^2:  0.7289196140494273\n",
      "mse:  0.0015675634664273459\n",
      "variance_score:  0.7289197530588876\n",
      "mse-log:  0.0012508523836296042\n",
      "--------------------------------------\n",
      "[Lasso] These are the results for the validation set.\n",
      "r^2:  0.7470571222865509\n",
      "mse:  0.0017263771688690076\n",
      "variance_score:  0.7470630595052424\n",
      "mse-log:  0.001329311323708087\n",
      "_____________________________________________\n"
     ]
    },
    {
     "name": "stderr",
     "output_type": "stream",
     "text": [
      "/home/zach/miniconda3/envs/DataScience/lib/python3.8/site-packages/sklearn/utils/validation.py:63: DataConversionWarning: A column-vector y was passed when a 1d array was expected. Please change the shape of y to (n_samples, ), for example using ravel().\n",
      "  return f(*args, **kwargs)\n"
     ]
    },
    {
     "name": "stdout",
     "output_type": "stream",
     "text": [
      "[ElasticNetCV] These are the results for the training set.\n",
      "r^2:  0.728298489198743\n",
      "mse:  0.0015711552151280444\n",
      "variance_score:  0.7282986323641552\n",
      "mse-log:  0.0012535802228081975\n",
      "--------------------------------------\n",
      "[ElasticNetCV] These are the results for the validation set.\n",
      "r^2:  0.7462230475351634\n",
      "mse:  0.0017320698676353931\n",
      "variance_score:  0.7462281730552989\n",
      "mse-log:  0.0013332804953005025\n",
      "_____________________________________________\n"
     ]
    },
    {
     "name": "stderr",
     "output_type": "stream",
     "text": [
      "/home/zach/miniconda3/envs/DataScience/lib/python3.8/site-packages/sklearn/utils/validation.py:63: DataConversionWarning: A column-vector y was passed when a 1d array was expected. Please change the shape of y to (n_samples, ), for example using ravel().\n",
      "  return f(*args, **kwargs)\n"
     ]
    },
    {
     "name": "stdout",
     "output_type": "stream",
     "text": [
      "[Lasso LARS] These are the results for the training set.\n",
      "r^2:  0.7322734782518008\n",
      "mse:  0.0015481692377502562\n",
      "variance_score:  0.7322736817200837\n",
      "mse-log:  0.001235080203411712\n",
      "--------------------------------------\n",
      "[Lasso LARS] These are the results for the validation set.\n",
      "r^2:  0.7369577054511383\n",
      "mse:  0.0017953073668692835\n",
      "variance_score:  0.7369589318539691\n",
      "mse-log:  0.0013755299589300026\n",
      "_____________________________________________\n"
     ]
    }
   ],
   "source": [
    "from sklearn.preprocessing import PolynomialFeatures\n",
    "\n",
    "poly = PolynomialFeatures(degree=2)\n",
    "\n",
    "X_trainPF = poly.fit_transform(X_train)\n",
    "X_valPF = poly.transform(X_val)\n",
    "X_valPF = poly.transform(X_val)\n",
    "\n",
    "lstsq = LinearRegression()\n",
    "ridge = RidgeCV()\n",
    "lasso = LassoCV(max_iter=50000, random_state = 0)\n",
    "elasticNet = ElasticNetCV(max_iter=50000, n_alphas = 1000)\n",
    "lassoLars = LassoLarsCV()\n",
    "\n",
    "run(ridge, \"Ridge\", X_trainPF, X_valPF)\n",
    "run(lstsq, \"Least Squares\", X_trainPF, X_valPF)\n",
    "run(lasso, \"Lasso\", X_trainPF, X_valPF)\n",
    "run(elasticNet, \"ElasticNetCV\", X_trainPF, X_valPF)\n",
    "run(lassoLars, \"Lasso LARS\", X_trainPF, X_valPF)"
   ]
  },
  {
   "cell_type": "markdown",
   "metadata": {},
   "source": [
    "Since these results are much better (except least squares), we're probably going to need to look beyond just linear-models."
   ]
  },
  {
   "cell_type": "markdown",
   "metadata": {},
   "source": [
    "**To put the result of baseline model into contexts, we also need to look into data entries manually to do some sanity checks**"
   ]
  },
  {
   "cell_type": "code",
   "execution_count": 20,
   "metadata": {},
   "outputs": [],
   "source": [
    "train_indexes = X_train.index"
   ]
  },
  {
   "cell_type": "code",
   "execution_count": 21,
   "metadata": {},
   "outputs": [],
   "source": [
    "sanity_check_train_df = dum_df.iloc[train_indexes][['key', 'cap_space_usage', 'Wins Added', 'value_over_replacement_player',\n",
    "                                                      'war_total', 'win_shares','salary']]\n",
    "sanity_check_train_df['val_cap_usage'] = elasticNet.predict(X_trainPF)\n",
    "sanity_check_train_df['diff'] = sanity_check_train_df['val_cap_usage'] - sanity_check_train_df['cap_space_usage']"
   ]
  },
  {
   "cell_type": "code",
   "execution_count": 22,
   "metadata": {},
   "outputs": [],
   "source": [
    "training_set = sanity_check_train_df.sort_values('diff', ascending=False)"
   ]
  },
  {
   "cell_type": "code",
   "execution_count": 23,
   "metadata": {},
   "outputs": [],
   "source": [
    "validation_indexes = X_val.index"
   ]
  },
  {
   "cell_type": "code",
   "execution_count": 24,
   "metadata": {},
   "outputs": [],
   "source": [
    "sanity_check_val_df = dum_df.iloc[validation_indexes][['key', 'cap_space_usage', 'Wins Added', 'value_over_replacement_player',\n",
    "                                                      'war_total', 'win_shares']]\n",
    "sanity_check_val_df['val_cap_usage'] = elasticNet.predict(X_valPF)\n",
    "sanity_check_val_df['diff'] = sanity_check_val_df['val_cap_usage'] - sanity_check_val_df['cap_space_usage']"
   ]
  },
  {
   "cell_type": "code",
   "execution_count": 25,
   "metadata": {},
   "outputs": [],
   "source": [
    "validation_set = sanity_check_val_df.sort_values('diff', ascending=False)\n",
    "validation_set['category'] = validation_set['diff'].apply(lambda x: 'Increase' if x >= 0.015 else 'Decrease' if x <= -0.015 else 'Match')\n",
    "validation_set['abs_diff'] = abs(validation_set['diff'])"
   ]
  },
  {
   "cell_type": "code",
   "execution_count": 26,
   "metadata": {},
   "outputs": [
    {
     "data": {
      "text/html": [
       "<div>\n",
       "<style scoped>\n",
       "    .dataframe tbody tr th:only-of-type {\n",
       "        vertical-align: middle;\n",
       "    }\n",
       "\n",
       "    .dataframe tbody tr th {\n",
       "        vertical-align: top;\n",
       "    }\n",
       "\n",
       "    .dataframe thead th {\n",
       "        text-align: right;\n",
       "    }\n",
       "</style>\n",
       "<table border=\"1\" class=\"dataframe\">\n",
       "  <thead>\n",
       "    <tr style=\"text-align: right;\">\n",
       "      <th></th>\n",
       "      <th>key</th>\n",
       "      <th>cap_space_usage</th>\n",
       "      <th>val_cap_usage</th>\n",
       "      <th>diff</th>\n",
       "    </tr>\n",
       "  </thead>\n",
       "  <tbody>\n",
       "    <tr>\n",
       "      <th>293</th>\n",
       "      <td>Willie Cauley-Stein2019</td>\n",
       "      <td>0.019951</td>\n",
       "      <td>0.141732</td>\n",
       "      <td>0.121781</td>\n",
       "    </tr>\n",
       "    <tr>\n",
       "      <th>163</th>\n",
       "      <td>Derrick Rose2017</td>\n",
       "      <td>0.013691</td>\n",
       "      <td>0.110592</td>\n",
       "      <td>0.096901</td>\n",
       "    </tr>\n",
       "    <tr>\n",
       "      <th>294</th>\n",
       "      <td>Brook Lopez2019</td>\n",
       "      <td>0.110803</td>\n",
       "      <td>0.197544</td>\n",
       "      <td>0.086741</td>\n",
       "    </tr>\n",
       "    <tr>\n",
       "      <th>301</th>\n",
       "      <td>Al-Farouq Aminu2019</td>\n",
       "      <td>0.084827</td>\n",
       "      <td>0.171066</td>\n",
       "      <td>0.086239</td>\n",
       "    </tr>\n",
       "    <tr>\n",
       "      <th>230</th>\n",
       "      <td>DeMarcus Cousins2018</td>\n",
       "      <td>0.052391</td>\n",
       "      <td>0.138173</td>\n",
       "      <td>0.085783</td>\n",
       "    </tr>\n",
       "    <tr>\n",
       "      <th>12</th>\n",
       "      <td>Zaza Pachulia2016</td>\n",
       "      <td>0.030783</td>\n",
       "      <td>0.110990</td>\n",
       "      <td>0.080207</td>\n",
       "    </tr>\n",
       "    <tr>\n",
       "      <th>236</th>\n",
       "      <td>Jeff Green2018</td>\n",
       "      <td>0.023500</td>\n",
       "      <td>0.101944</td>\n",
       "      <td>0.078444</td>\n",
       "    </tr>\n",
       "    <tr>\n",
       "      <th>299</th>\n",
       "      <td>Danny Green2019</td>\n",
       "      <td>0.134086</td>\n",
       "      <td>0.203071</td>\n",
       "      <td>0.068985</td>\n",
       "    </tr>\n",
       "    <tr>\n",
       "      <th>300</th>\n",
       "      <td>JaVale McGee2019</td>\n",
       "      <td>0.036650</td>\n",
       "      <td>0.104724</td>\n",
       "      <td>0.068074</td>\n",
       "    </tr>\n",
       "    <tr>\n",
       "      <th>20</th>\n",
       "      <td>Jared Sullinger2016</td>\n",
       "      <td>0.059781</td>\n",
       "      <td>0.127665</td>\n",
       "      <td>0.067884</td>\n",
       "    </tr>\n",
       "    <tr>\n",
       "      <th>182</th>\n",
       "      <td>Brandon Jennings2017</td>\n",
       "      <td>0.002999</td>\n",
       "      <td>0.070529</td>\n",
       "      <td>0.067530</td>\n",
       "    </tr>\n",
       "    <tr>\n",
       "      <th>237</th>\n",
       "      <td>Brook Lopez2018</td>\n",
       "      <td>0.033200</td>\n",
       "      <td>0.100241</td>\n",
       "      <td>0.067041</td>\n",
       "    </tr>\n",
       "    <tr>\n",
       "      <th>5</th>\n",
       "      <td>Marvin Williams2016</td>\n",
       "      <td>0.130121</td>\n",
       "      <td>0.195415</td>\n",
       "      <td>0.065294</td>\n",
       "    </tr>\n",
       "    <tr>\n",
       "      <th>142</th>\n",
       "      <td>Marreese Speights2017</td>\n",
       "      <td>0.014848</td>\n",
       "      <td>0.079824</td>\n",
       "      <td>0.064976</td>\n",
       "    </tr>\n",
       "    <tr>\n",
       "      <th>158</th>\n",
       "      <td>Tony Allen2017</td>\n",
       "      <td>0.014848</td>\n",
       "      <td>0.079075</td>\n",
       "      <td>0.064227</td>\n",
       "    </tr>\n",
       "    <tr>\n",
       "      <th>232</th>\n",
       "      <td>Wayne Ellington2018</td>\n",
       "      <td>0.061550</td>\n",
       "      <td>0.125303</td>\n",
       "      <td>0.063753</td>\n",
       "    </tr>\n",
       "    <tr>\n",
       "      <th>292</th>\n",
       "      <td>Thaddeus Young2019</td>\n",
       "      <td>0.118197</td>\n",
       "      <td>0.180841</td>\n",
       "      <td>0.062644</td>\n",
       "    </tr>\n",
       "    <tr>\n",
       "      <th>159</th>\n",
       "      <td>Luc Mbah a Moute2017</td>\n",
       "      <td>0.014848</td>\n",
       "      <td>0.075424</td>\n",
       "      <td>0.060576</td>\n",
       "    </tr>\n",
       "    <tr>\n",
       "      <th>334</th>\n",
       "      <td>Wesley Matthews2019</td>\n",
       "      <td>0.023500</td>\n",
       "      <td>0.083204</td>\n",
       "      <td>0.059705</td>\n",
       "    </tr>\n",
       "    <tr>\n",
       "      <th>298</th>\n",
       "      <td>Kevon Looney2019</td>\n",
       "      <td>0.040904</td>\n",
       "      <td>0.098587</td>\n",
       "      <td>0.057683</td>\n",
       "    </tr>\n",
       "    <tr>\n",
       "      <th>88</th>\n",
       "      <td>Isaiah Canaan2016</td>\n",
       "      <td>0.010789</td>\n",
       "      <td>0.067774</td>\n",
       "      <td>0.056985</td>\n",
       "    </tr>\n",
       "    <tr>\n",
       "      <th>305</th>\n",
       "      <td>Jeremy Lamb2019</td>\n",
       "      <td>0.096207</td>\n",
       "      <td>0.152403</td>\n",
       "      <td>0.056196</td>\n",
       "    </tr>\n",
       "    <tr>\n",
       "      <th>0</th>\n",
       "      <td>Kevin Durant2016</td>\n",
       "      <td>0.281913</td>\n",
       "      <td>0.332128</td>\n",
       "      <td>0.050216</td>\n",
       "    </tr>\n",
       "    <tr>\n",
       "      <th>151</th>\n",
       "      <td>JaVale McGee2017</td>\n",
       "      <td>0.014848</td>\n",
       "      <td>0.064853</td>\n",
       "      <td>0.050004</td>\n",
       "    </tr>\n",
       "    <tr>\n",
       "      <th>177</th>\n",
       "      <td>Raymond Felton2017</td>\n",
       "      <td>0.014848</td>\n",
       "      <td>0.064325</td>\n",
       "      <td>0.049477</td>\n",
       "    </tr>\n",
       "  </tbody>\n",
       "</table>\n",
       "</div>"
      ],
      "text/plain": [
       "                         key  cap_space_usage  val_cap_usage      diff\n",
       "293  Willie Cauley-Stein2019         0.019951       0.141732  0.121781\n",
       "163         Derrick Rose2017         0.013691       0.110592  0.096901\n",
       "294          Brook Lopez2019         0.110803       0.197544  0.086741\n",
       "301      Al-Farouq Aminu2019         0.084827       0.171066  0.086239\n",
       "230     DeMarcus Cousins2018         0.052391       0.138173  0.085783\n",
       "12         Zaza Pachulia2016         0.030783       0.110990  0.080207\n",
       "236           Jeff Green2018         0.023500       0.101944  0.078444\n",
       "299          Danny Green2019         0.134086       0.203071  0.068985\n",
       "300         JaVale McGee2019         0.036650       0.104724  0.068074\n",
       "20       Jared Sullinger2016         0.059781       0.127665  0.067884\n",
       "182     Brandon Jennings2017         0.002999       0.070529  0.067530\n",
       "237          Brook Lopez2018         0.033200       0.100241  0.067041\n",
       "5        Marvin Williams2016         0.130121       0.195415  0.065294\n",
       "142    Marreese Speights2017         0.014848       0.079824  0.064976\n",
       "158           Tony Allen2017         0.014848       0.079075  0.064227\n",
       "232      Wayne Ellington2018         0.061550       0.125303  0.063753\n",
       "292       Thaddeus Young2019         0.118197       0.180841  0.062644\n",
       "159     Luc Mbah a Moute2017         0.014848       0.075424  0.060576\n",
       "334      Wesley Matthews2019         0.023500       0.083204  0.059705\n",
       "298         Kevon Looney2019         0.040904       0.098587  0.057683\n",
       "88         Isaiah Canaan2016         0.010789       0.067774  0.056985\n",
       "305          Jeremy Lamb2019         0.096207       0.152403  0.056196\n",
       "0           Kevin Durant2016         0.281913       0.332128  0.050216\n",
       "151         JaVale McGee2017         0.014848       0.064853  0.050004\n",
       "177       Raymond Felton2017         0.014848       0.064325  0.049477"
      ]
     },
     "execution_count": 26,
     "metadata": {},
     "output_type": "execute_result"
    }
   ],
   "source": [
    "training_set[['key', 'cap_space_usage', 'val_cap_usage', 'diff']].head(25)"
   ]
  },
  {
   "cell_type": "code",
   "execution_count": 27,
   "metadata": {},
   "outputs": [
    {
     "data": {
      "text/html": [
       "<div>\n",
       "<style scoped>\n",
       "    .dataframe tbody tr th:only-of-type {\n",
       "        vertical-align: middle;\n",
       "    }\n",
       "\n",
       "    .dataframe tbody tr th {\n",
       "        vertical-align: top;\n",
       "    }\n",
       "\n",
       "    .dataframe thead th {\n",
       "        text-align: right;\n",
       "    }\n",
       "</style>\n",
       "<table border=\"1\" class=\"dataframe\">\n",
       "  <thead>\n",
       "    <tr style=\"text-align: right;\">\n",
       "      <th></th>\n",
       "      <th>key</th>\n",
       "      <th>cap_space_usage</th>\n",
       "      <th>val_cap_usage</th>\n",
       "      <th>diff</th>\n",
       "    </tr>\n",
       "  </thead>\n",
       "  <tbody>\n",
       "    <tr>\n",
       "      <th>50</th>\n",
       "      <td>Raymond Felton2016</td>\n",
       "      <td>0.016482</td>\n",
       "      <td>0.095273</td>\n",
       "      <td>0.078791</td>\n",
       "    </tr>\n",
       "    <tr>\n",
       "      <th>70</th>\n",
       "      <td>Dion Waiters2016</td>\n",
       "      <td>0.030783</td>\n",
       "      <td>0.106745</td>\n",
       "      <td>0.075962</td>\n",
       "    </tr>\n",
       "    <tr>\n",
       "      <th>222</th>\n",
       "      <td>Will Barton2018</td>\n",
       "      <td>0.117798</td>\n",
       "      <td>0.192421</td>\n",
       "      <td>0.074622</td>\n",
       "    </tr>\n",
       "    <tr>\n",
       "      <th>246</th>\n",
       "      <td>Yogi Ferrell2018</td>\n",
       "      <td>0.029450</td>\n",
       "      <td>0.099550</td>\n",
       "      <td>0.070101</td>\n",
       "    </tr>\n",
       "    <tr>\n",
       "      <th>220</th>\n",
       "      <td>Julius Randle2018</td>\n",
       "      <td>0.084825</td>\n",
       "      <td>0.138738</td>\n",
       "      <td>0.053913</td>\n",
       "    </tr>\n",
       "    <tr>\n",
       "      <th>171</th>\n",
       "      <td>Rajon Rondo2017</td>\n",
       "      <td>0.033302</td>\n",
       "      <td>0.085727</td>\n",
       "      <td>0.052425</td>\n",
       "    </tr>\n",
       "    <tr>\n",
       "      <th>227</th>\n",
       "      <td>Anthony Tolliver2018</td>\n",
       "      <td>0.056445</td>\n",
       "      <td>0.105844</td>\n",
       "      <td>0.049399</td>\n",
       "    </tr>\n",
       "    <tr>\n",
       "      <th>321</th>\n",
       "      <td>Dorian Finney-Smith2019</td>\n",
       "      <td>0.036650</td>\n",
       "      <td>0.081912</td>\n",
       "      <td>0.045262</td>\n",
       "    </tr>\n",
       "    <tr>\n",
       "      <th>164</th>\n",
       "      <td>Shabazz Muhammad2017</td>\n",
       "      <td>0.012500</td>\n",
       "      <td>0.055788</td>\n",
       "      <td>0.043289</td>\n",
       "    </tr>\n",
       "    <tr>\n",
       "      <th>139</th>\n",
       "      <td>Zaza Pachulia2017</td>\n",
       "      <td>0.035094</td>\n",
       "      <td>0.071845</td>\n",
       "      <td>0.036750</td>\n",
       "    </tr>\n",
       "    <tr>\n",
       "      <th>166</th>\n",
       "      <td>David West2017</td>\n",
       "      <td>0.014848</td>\n",
       "      <td>0.050646</td>\n",
       "      <td>0.035798</td>\n",
       "    </tr>\n",
       "    <tr>\n",
       "      <th>302</th>\n",
       "      <td>Ed Davis2019</td>\n",
       "      <td>0.043678</td>\n",
       "      <td>0.077545</td>\n",
       "      <td>0.033867</td>\n",
       "    </tr>\n",
       "    <tr>\n",
       "      <th>161</th>\n",
       "      <td>Dante Cunningham2017</td>\n",
       "      <td>0.023211</td>\n",
       "      <td>0.054633</td>\n",
       "      <td>0.031422</td>\n",
       "    </tr>\n",
       "    <tr>\n",
       "      <th>124</th>\n",
       "      <td>Jeff Teague2017</td>\n",
       "      <td>0.191739</td>\n",
       "      <td>0.216752</td>\n",
       "      <td>0.025013</td>\n",
       "    </tr>\n",
       "    <tr>\n",
       "      <th>253</th>\n",
       "      <td>Salah Mejri2018</td>\n",
       "      <td>0.015383</td>\n",
       "      <td>0.039049</td>\n",
       "      <td>0.023667</td>\n",
       "    </tr>\n",
       "    <tr>\n",
       "      <th>172</th>\n",
       "      <td>Anthony Tolliver2017</td>\n",
       "      <td>0.033201</td>\n",
       "      <td>0.056251</td>\n",
       "      <td>0.023049</td>\n",
       "    </tr>\n",
       "    <tr>\n",
       "      <th>257</th>\n",
       "      <td>Dante Cunningham2018</td>\n",
       "      <td>0.024541</td>\n",
       "      <td>0.045288</td>\n",
       "      <td>0.020747</td>\n",
       "    </tr>\n",
       "    <tr>\n",
       "      <th>379</th>\n",
       "      <td>Cameron Payne2019</td>\n",
       "      <td>0.001798</td>\n",
       "      <td>0.019289</td>\n",
       "      <td>0.017490</td>\n",
       "    </tr>\n",
       "    <tr>\n",
       "      <th>370</th>\n",
       "      <td>Raul Neto2019</td>\n",
       "      <td>0.015917</td>\n",
       "      <td>0.030914</td>\n",
       "      <td>0.014997</td>\n",
       "    </tr>\n",
       "    <tr>\n",
       "      <th>309</th>\n",
       "      <td>Richaun Holmes2019</td>\n",
       "      <td>0.043678</td>\n",
       "      <td>0.058386</td>\n",
       "      <td>0.014708</td>\n",
       "    </tr>\n",
       "    <tr>\n",
       "      <th>214</th>\n",
       "      <td>Kevin Durant2018</td>\n",
       "      <td>0.294496</td>\n",
       "      <td>0.303991</td>\n",
       "      <td>0.009495</td>\n",
       "    </tr>\n",
       "    <tr>\n",
       "      <th>162</th>\n",
       "      <td>Alex Len2017</td>\n",
       "      <td>0.042259</td>\n",
       "      <td>0.049261</td>\n",
       "      <td>0.007002</td>\n",
       "    </tr>\n",
       "    <tr>\n",
       "      <th>89</th>\n",
       "      <td>Seth Curry2016</td>\n",
       "      <td>0.030783</td>\n",
       "      <td>0.036506</td>\n",
       "      <td>0.005723</td>\n",
       "    </tr>\n",
       "    <tr>\n",
       "      <th>218</th>\n",
       "      <td>Derrick Favors2018</td>\n",
       "      <td>0.165899</td>\n",
       "      <td>0.164353</td>\n",
       "      <td>-0.001546</td>\n",
       "    </tr>\n",
       "    <tr>\n",
       "      <th>3</th>\n",
       "      <td>DeMar DeRozan2016</td>\n",
       "      <td>0.281913</td>\n",
       "      <td>0.276306</td>\n",
       "      <td>-0.005607</td>\n",
       "    </tr>\n",
       "  </tbody>\n",
       "</table>\n",
       "</div>"
      ],
      "text/plain": [
       "                         key  cap_space_usage  val_cap_usage      diff\n",
       "50        Raymond Felton2016         0.016482       0.095273  0.078791\n",
       "70          Dion Waiters2016         0.030783       0.106745  0.075962\n",
       "222          Will Barton2018         0.117798       0.192421  0.074622\n",
       "246         Yogi Ferrell2018         0.029450       0.099550  0.070101\n",
       "220        Julius Randle2018         0.084825       0.138738  0.053913\n",
       "171          Rajon Rondo2017         0.033302       0.085727  0.052425\n",
       "227     Anthony Tolliver2018         0.056445       0.105844  0.049399\n",
       "321  Dorian Finney-Smith2019         0.036650       0.081912  0.045262\n",
       "164     Shabazz Muhammad2017         0.012500       0.055788  0.043289\n",
       "139        Zaza Pachulia2017         0.035094       0.071845  0.036750\n",
       "166           David West2017         0.014848       0.050646  0.035798\n",
       "302             Ed Davis2019         0.043678       0.077545  0.033867\n",
       "161     Dante Cunningham2017         0.023211       0.054633  0.031422\n",
       "124          Jeff Teague2017         0.191739       0.216752  0.025013\n",
       "253          Salah Mejri2018         0.015383       0.039049  0.023667\n",
       "172     Anthony Tolliver2017         0.033201       0.056251  0.023049\n",
       "257     Dante Cunningham2018         0.024541       0.045288  0.020747\n",
       "379        Cameron Payne2019         0.001798       0.019289  0.017490\n",
       "370            Raul Neto2019         0.015917       0.030914  0.014997\n",
       "309       Richaun Holmes2019         0.043678       0.058386  0.014708\n",
       "214         Kevin Durant2018         0.294496       0.303991  0.009495\n",
       "162             Alex Len2017         0.042259       0.049261  0.007002\n",
       "89            Seth Curry2016         0.030783       0.036506  0.005723\n",
       "218       Derrick Favors2018         0.165899       0.164353 -0.001546\n",
       "3          DeMar DeRozan2016         0.281913       0.276306 -0.005607"
      ]
     },
     "execution_count": 27,
     "metadata": {},
     "output_type": "execute_result"
    }
   ],
   "source": [
    "validation_set[['key', 'cap_space_usage', 'val_cap_usage', 'diff']].head(25)"
   ]
  },
  {
   "cell_type": "markdown",
   "metadata": {},
   "source": [
    "**The following is for visualization**"
   ]
  },
  {
   "cell_type": "code",
   "execution_count": 28,
   "metadata": {},
   "outputs": [
    {
     "ename": "ModuleNotFoundError",
     "evalue": "No module named 'adjustText'",
     "output_type": "error",
     "traceback": [
      "\u001b[1;31m---------------------------------------------------------------------------\u001b[0m",
      "\u001b[1;31mModuleNotFoundError\u001b[0m                       Traceback (most recent call last)",
      "\u001b[1;32m<ipython-input-28-94dad6b7afc3>\u001b[0m in \u001b[0;36m<module>\u001b[1;34m\u001b[0m\n\u001b[1;32m----> 1\u001b[1;33m \u001b[1;32mfrom\u001b[0m \u001b[0madjustText\u001b[0m \u001b[1;32mimport\u001b[0m \u001b[0madjust_text\u001b[0m\u001b[1;33m\u001b[0m\u001b[1;33m\u001b[0m\u001b[0m\n\u001b[0m",
      "\u001b[1;31mModuleNotFoundError\u001b[0m: No module named 'adjustText'"
     ]
    }
   ],
   "source": [
    "from adjustText import adjust_text"
   ]
  },
  {
   "cell_type": "code",
   "execution_count": null,
   "metadata": {},
   "outputs": [],
   "source": [
    "sns.set(rc={'figure.figsize':(20, 20)})"
   ]
  },
  {
   "cell_type": "code",
   "execution_count": null,
   "metadata": {},
   "outputs": [],
   "source": [
    "sns.scatterplot(data=training_set, x=\"value_over_replacement_player\", y=\"val_cap_usage\", hue='win_shares',\n",
    "                size='diff', sizes=(10, 100))\n",
    "plt.text(training_set['Wins Added'][training_set.key=='Derrick Rose2017'],\n",
    "         training_set['val_cap_usage'][training_set.key=='Derrick Rose2017'],\n",
    "         'Derrick Rose2017', \n",
    " fontdict=dict(color='black', alpha=0.5, size=8))"
   ]
  },
  {
   "cell_type": "code",
   "execution_count": null,
   "metadata": {},
   "outputs": [],
   "source": [
    "sns.set(rc={'figure.figsize':(35, 20)}, style='darkgrid')"
   ]
  },
  {
   "cell_type": "code",
   "execution_count": null,
   "metadata": {
    "scrolled": true
   },
   "outputs": [],
   "source": [
    "sns.scatterplot(data=validation_set, x=\"value_over_replacement_player\", y=\"val_cap_usage\", hue='win_shares',\n",
    "                size='abs_diff', sizes=(50, 500), style='category')\n",
    "texts = []\n",
    "for key in validation_set.key:\n",
    "    texts.append(plt.text(validation_set['value_over_replacement_player'][validation_set.key==key],\n",
    "         validation_set['val_cap_usage'][validation_set.key==key],\n",
    "         key, \n",
    "            fontdict=dict(color='black', alpha=1, size=9, ma='center')))\n",
    "adjust_text(texts, only_move={'texts':'y'})\n",
    "plt.show()\n"
   ]
  },
  {
   "cell_type": "code",
   "execution_count": null,
   "metadata": {},
   "outputs": [],
   "source": []
  },
  {
   "cell_type": "code",
   "execution_count": null,
   "metadata": {},
   "outputs": [],
   "source": []
  }
 ],
 "metadata": {
  "kernelspec": {
   "display_name": "Python 3",
   "language": "python",
   "name": "python3"
  },
  "language_info": {
   "codemirror_mode": {
    "name": "ipython",
    "version": 3
   },
   "file_extension": ".py",
   "mimetype": "text/x-python",
   "name": "python",
   "nbconvert_exporter": "python",
   "pygments_lexer": "ipython3",
   "version": "3.8.5"
  }
 },
 "nbformat": 4,
 "nbformat_minor": 4
}
