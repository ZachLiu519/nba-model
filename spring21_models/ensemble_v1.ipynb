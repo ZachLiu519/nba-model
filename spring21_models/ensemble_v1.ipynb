{
 "cells": [
  {
   "cell_type": "code",
   "execution_count": 27,
   "metadata": {},
   "outputs": [],
   "source": [
    "import numpy as np\n",
    "import pandas as pd\n",
    "import sklearn\n",
    "from xgboost import XGBRegressor\n",
    "from sklearn.model_selection import train_test_split"
   ]
  },
  {
   "cell_type": "code",
   "execution_count": 32,
   "metadata": {},
   "outputs": [],
   "source": [
    "import warnings\n",
    "warnings.filterwarnings('ignore')"
   ]
  },
  {
   "cell_type": "code",
   "execution_count": 29,
   "metadata": {},
   "outputs": [],
   "source": [
    "seed = 8"
   ]
  },
  {
   "cell_type": "code",
   "execution_count": 25,
   "metadata": {},
   "outputs": [],
   "source": [
    "X = pd.read_excel('X.xlsx')\n",
    "y = pd.read_excel('y.xlsx')\n",
    "X_test = pd.read_excel('X_test.xlsx')\n",
    "y_test = pd.read_excel('y_test.xlsx')\n",
    "X.set_index('Unnamed: 0', inplace=True)\n",
    "X_test.set_index('Unnamed: 0', inplace=True)\n",
    "y.set_index('Unnamed: 0', inplace=True)\n",
    "y_test.set_index('Unnamed: 0', inplace=True)"
   ]
  },
  {
   "cell_type": "code",
   "execution_count": 30,
   "metadata": {},
   "outputs": [
    {
     "output_type": "stream",
     "name": "stdout",
     "text": [
      "['points' 'made_field_goals' 'attempted_field_goals' 'MPG'\n",
      " 'minutes_played' 'Wins Added' 'WS' 'made_free_throws'\n",
      " 'attempted_free_throws' 'offensive_box_plus_minus' 'poss' 'win_shares'\n",
      " 'value_over_replacement_player' 'box_plus_minus' 'games_started'\n",
      " 'war_reg_season' 'O-LEBRON' 'war_total' 'turnovers' 'predator_offense'\n",
      " 'offensive_win_shares' 'player_efficiency_rating' 'raptor_offense'\n",
      " 'steals' 'ORPM']\n",
      "/home/zach/miniconda3/envs/DataScience/lib/python3.8/site-packages/sklearn/utils/validation.py:63: DataConversionWarning: A column-vector y was passed when a 1d array was expected. Please change the shape of y to (n_samples, ), for example using ravel().\n",
      "  return f(*args, **kwargs)\n"
     ]
    }
   ],
   "source": [
    "from sklearn.feature_selection import SelectKBest, f_regression\n",
    "select = SelectKBest(f_regression, k=40)\n",
    "\n",
    "best_features = select.fit_transform(X, y)\n",
    "feature_scores = pd.concat([pd.Series(X.columns), pd.Series(select.scores_)], axis=1)\n",
    "feature_scores.columns = [\"features\", \"score\"]\n",
    "features = list(feature_scores.sort_values(by=[\"score\"], ascending=False).head(25)['features'])\n",
    "X_train, X_val, y_train, y_val = train_test_split(X, y, test_size=0.15, random_state=seed)\n",
    "\n",
    "X_train = X_train[features]\n",
    "X_test = X_test[features]\n",
    "X_val = X_val[features]\n",
    "print(X_train.columns.values)"
   ]
  },
  {
   "cell_type": "code",
   "execution_count": 5,
   "metadata": {},
   "outputs": [],
   "source": [
    "from sklearn.preprocessing import StandardScaler\n",
    "from sklearn.pipeline import make_pipeline, Pipeline\n",
    "from sklearn.ensemble import RandomForestRegressor, GradientBoostingRegressor, ExtraTreesRegressor\n",
    "from sklearn.preprocessing import Normalizer"
   ]
  },
  {
   "cell_type": "code",
   "execution_count": 46,
   "metadata": {},
   "outputs": [],
   "source": [
    "from sklearn.model_selection import cross_val_score\n",
    "def performance(model):\n",
    "    p = make_pipeline(model)\n",
    "    scores = cross_val_score(p, X_train, y_train, cv=8, scoring=\"explained_variance\")\n",
    "    print(\"%0.2f accuracy with a standard deviation of %0.2f\" % (scores.mean(), scores.std()))\n",
    "    return scores, p"
   ]
  },
  {
   "cell_type": "markdown",
   "metadata": {},
   "source": [
    "## Ensemble"
   ]
  },
  {
   "cell_type": "code",
   "execution_count": 7,
   "metadata": {},
   "outputs": [],
   "source": [
    "params = {'n_estimators': 688,\n",
    " 'min_samples_split': 6,\n",
    " 'min_samples_leaf': 5,\n",
    " 'max_features': 'log2',\n",
    " 'max_depth': None,\n",
    " 'learning_rate': 0.025000000000000015,\n",
    " 'alpha': 0.5500000000000002,\n",
    " 'subsample': 0.95,\n",
    " 'loss': 'quantile'}\n",
    "gbr = GradientBoostingRegressor(**params)"
   ]
  },
  {
   "cell_type": "code",
   "execution_count": 8,
   "metadata": {},
   "outputs": [],
   "source": [
    "rf = RandomForestRegressor(n_estimators=806,\n",
    "                                  max_depth=234, min_samples_split=4, min_samples_leaf=2, \n",
    "                                  max_features='log2', \n",
    "                                  bootstrap=True, oob_score=True, n_jobs=-1, random_state = 8)"
   ]
  },
  {
   "cell_type": "code",
   "execution_count": 11,
   "metadata": {},
   "outputs": [],
   "source": [
    "xgb = XGBRegressor(reg_alpha= 1e-05,\n",
    " n_estimators= 475,\n",
    " min_child_weight= 5,\n",
    " max_depth= 8,\n",
    " learning_rate= 0.11,\n",
    " gamma= 0.002,\n",
    " colsample_bytree= 0.86)"
   ]
  },
  {
   "cell_type": "code",
   "execution_count": 12,
   "metadata": {},
   "outputs": [],
   "source": [
    "estimators = [\n",
    "    (\"gbr\", gbr),\n",
    "    (\"rf\", rf),\n",
    "    ('xgb', xgb)\n",
    "]"
   ]
  },
  {
   "cell_type": "code",
   "execution_count": 11,
   "metadata": {},
   "outputs": [],
   "source": [
    "from sklearn.ensemble import VotingRegressor, StackingRegressor"
   ]
  },
  {
   "cell_type": "code",
   "execution_count": 59,
   "metadata": {},
   "outputs": [
    {
     "output_type": "stream",
     "name": "stdout",
     "text": [
      "0.83 accuracy with a standard deviation of 0.07\n"
     ]
    }
   ],
   "source": [
    "voting = VotingRegressor(estimators=estimators, n_jobs=-1, weights=[0.13, 0.12, 0.75])\n",
    "scores, p = performance(voting)"
   ]
  },
  {
   "cell_type": "code",
   "execution_count": 60,
   "metadata": {},
   "outputs": [
    {
     "output_type": "execute_result",
     "data": {
      "text/plain": [
       "Pipeline(steps=[('votingregressor',\n",
       "                 VotingRegressor(estimators=[('gbr',\n",
       "                                              GradientBoostingRegressor(alpha=0.5500000000000002,\n",
       "                                                                        learning_rate=0.025000000000000015,\n",
       "                                                                        loss='quantile',\n",
       "                                                                        max_depth=None,\n",
       "                                                                        max_features='log2',\n",
       "                                                                        min_samples_leaf=5,\n",
       "                                                                        min_samples_split=6,\n",
       "                                                                        n_estimators=688,\n",
       "                                                                        subsample=0.95)),\n",
       "                                             ('rf',\n",
       "                                              RandomForestRegressor(max_depth=234,\n",
       "                                                                    max_features='log2',\n",
       "                                                                    min_samp...\n",
       "                                                           interaction_constraints=None,\n",
       "                                                           learning_rate=0.11,\n",
       "                                                           max_delta_step=None,\n",
       "                                                           max_depth=8,\n",
       "                                                           min_child_weight=5,\n",
       "                                                           missing=nan,\n",
       "                                                           monotone_constraints=None,\n",
       "                                                           n_estimators=475,\n",
       "                                                           n_jobs=None,\n",
       "                                                           num_parallel_tree=None,\n",
       "                                                           random_state=None,\n",
       "                                                           reg_alpha=1e-05,\n",
       "                                                           reg_lambda=None,\n",
       "                                                           scale_pos_weight=None,\n",
       "                                                           subsample=None,\n",
       "                                                           tree_method=None,\n",
       "                                                           validate_parameters=None,\n",
       "                                                           verbosity=None))],\n",
       "                                 n_jobs=-1, weights=[0.13, 0.12, 0.75]))])"
      ]
     },
     "metadata": {},
     "execution_count": 60
    }
   ],
   "source": [
    "p.fit(X_train, y_train)"
   ]
  },
  {
   "cell_type": "code",
   "execution_count": 61,
   "metadata": {},
   "outputs": [
    {
     "output_type": "execute_result",
     "data": {
      "text/plain": [
       "0.8497247013953071"
      ]
     },
     "metadata": {},
     "execution_count": 61
    }
   ],
   "source": [
    "p.score(X_val, y_val)"
   ]
  },
  {
   "cell_type": "code",
   "execution_count": 62,
   "metadata": {},
   "outputs": [
    {
     "output_type": "execute_result",
     "data": {
      "text/plain": [
       "0.8884933973141513"
      ]
     },
     "metadata": {},
     "execution_count": 62
    }
   ],
   "source": [
    "p.score(X_test, y_test)"
   ]
  },
  {
   "cell_type": "code",
   "execution_count": 39,
   "metadata": {},
   "outputs": [
    {
     "output_type": "stream",
     "name": "stdout",
     "text": [
      "0.81 accuracy with a standard deviation of 0.07\n"
     ]
    }
   ],
   "source": [
    "stack = StackingRegressor(estimators=estimators, final_estimator=RandomForestRegressor(n_estimators=806,\n",
    "                                  max_depth=234, min_samples_split=4, min_samples_leaf=2, \n",
    "                                  max_features='log2', \n",
    "                                  bootstrap=True, oob_score=True, n_jobs=-1, random_state = 8), n_jobs=-1)\n",
    "scores_stacking, p_stacking = performance(stack)"
   ]
  },
  {
   "cell_type": "code",
   "execution_count": 43,
   "metadata": {},
   "outputs": [
    {
     "output_type": "execute_result",
     "data": {
      "text/plain": [
       "Pipeline(steps=[('normalizer', Normalizer()),\n",
       "                ('stackingregressor',\n",
       "                 StackingRegressor(estimators=[('gbr',\n",
       "                                                GradientBoostingRegressor(alpha=0.5500000000000002,\n",
       "                                                                          learning_rate=0.025000000000000015,\n",
       "                                                                          loss='quantile',\n",
       "                                                                          max_depth=None,\n",
       "                                                                          max_features='log2',\n",
       "                                                                          min_samples_leaf=5,\n",
       "                                                                          min_samples_split=6,\n",
       "                                                                          n_estimators=688,\n",
       "                                                                          subsample=0.95)),\n",
       "                                               ('rf',\n",
       "                                                RandomForestRegressor(max_depth=...\n",
       "                                                             num_parallel_tree=None,\n",
       "                                                             random_state=None,\n",
       "                                                             reg_alpha=1e-05,\n",
       "                                                             reg_lambda=None,\n",
       "                                                             scale_pos_weight=None,\n",
       "                                                             subsample=None,\n",
       "                                                             tree_method=None,\n",
       "                                                             validate_parameters=None,\n",
       "                                                             verbosity=None))],\n",
       "                                   final_estimator=RandomForestRegressor(max_depth=234,\n",
       "                                                                         max_features='log2',\n",
       "                                                                         min_samples_leaf=2,\n",
       "                                                                         min_samples_split=4,\n",
       "                                                                         n_estimators=806,\n",
       "                                                                         n_jobs=-1,\n",
       "                                                                         oob_score=True,\n",
       "                                                                         random_state=8),\n",
       "                                   n_jobs=-1))])"
      ]
     },
     "metadata": {},
     "execution_count": 43
    }
   ],
   "source": [
    "p_stacking.fit(X_train, y_train)"
   ]
  },
  {
   "cell_type": "code",
   "execution_count": 44,
   "metadata": {},
   "outputs": [
    {
     "output_type": "execute_result",
     "data": {
      "text/plain": [
       "0.8349615619997149"
      ]
     },
     "metadata": {},
     "execution_count": 44
    }
   ],
   "source": [
    "p_stacking.score(X_val, y_val)"
   ]
  },
  {
   "cell_type": "code",
   "execution_count": 45,
   "metadata": {},
   "outputs": [
    {
     "output_type": "execute_result",
     "data": {
      "text/plain": [
       "0.717790135335179"
      ]
     },
     "metadata": {},
     "execution_count": 45
    }
   ],
   "source": [
    "p_stacking.score(X_test, y_test)"
   ]
  },
  {
   "cell_type": "code",
   "execution_count": 14,
   "metadata": {},
   "outputs": [
    {
     "name": "stderr",
     "output_type": "stream",
     "text": [
      "C:\\Users\\Rishab\\anaconda3\\lib\\site-packages\\sklearn\\utils\\validation.py:73: DataConversionWarning: A column-vector y was passed when a 1d array was expected. Please change the shape of y to (n_samples, ), for example using ravel().\n",
      "  return f(**kwargs)\n",
      "C:\\Users\\Rishab\\anaconda3\\lib\\site-packages\\sklearn\\utils\\validation.py:73: DataConversionWarning: A column-vector y was passed when a 1d array was expected. Please change the shape of y to (n_samples, ), for example using ravel().\n",
      "  return f(**kwargs)\n",
      "C:\\Users\\Rishab\\anaconda3\\lib\\site-packages\\sklearn\\utils\\validation.py:73: DataConversionWarning: A column-vector y was passed when a 1d array was expected. Please change the shape of y to (n_samples, ), for example using ravel().\n",
      "  return f(**kwargs)\n",
      "C:\\Users\\Rishab\\anaconda3\\lib\\site-packages\\sklearn\\utils\\validation.py:73: DataConversionWarning: A column-vector y was passed when a 1d array was expected. Please change the shape of y to (n_samples, ), for example using ravel().\n",
      "  return f(**kwargs)\n",
      "C:\\Users\\Rishab\\anaconda3\\lib\\site-packages\\sklearn\\utils\\validation.py:73: DataConversionWarning: A column-vector y was passed when a 1d array was expected. Please change the shape of y to (n_samples, ), for example using ravel().\n",
      "  return f(**kwargs)\n"
     ]
    },
    {
     "name": "stdout",
     "output_type": "stream",
     "text": [
      "0.57 accuracy with a standard deviation of 0.04\n"
     ]
    },
    {
     "data": {
      "text/plain": [
       "array([0.6223825 , 0.56008695, 0.58215641, 0.5107953 , 0.55020298])"
      ]
     },
     "execution_count": 14,
     "metadata": {},
     "output_type": "execute_result"
    }
   ],
   "source": [
    "stack = StackingRegressor(estimators=estimators, final_estimator=ExtraTreesRegressor())\n",
    "performance(stack)"
   ]
  },
  {
   "cell_type": "code",
   "execution_count": 15,
   "metadata": {},
   "outputs": [
    {
     "name": "stderr",
     "output_type": "stream",
     "text": [
      "C:\\Users\\Rishab\\anaconda3\\lib\\site-packages\\sklearn\\utils\\validation.py:73: DataConversionWarning: A column-vector y was passed when a 1d array was expected. Please change the shape of y to (n_samples, ), for example using ravel().\n",
      "  return f(**kwargs)\n",
      "C:\\Users\\Rishab\\anaconda3\\lib\\site-packages\\sklearn\\utils\\validation.py:73: DataConversionWarning: A column-vector y was passed when a 1d array was expected. Please change the shape of y to (n_samples, ), for example using ravel().\n",
      "  return f(**kwargs)\n",
      "C:\\Users\\Rishab\\anaconda3\\lib\\site-packages\\sklearn\\utils\\validation.py:73: DataConversionWarning: A column-vector y was passed when a 1d array was expected. Please change the shape of y to (n_samples, ), for example using ravel().\n",
      "  return f(**kwargs)\n",
      "C:\\Users\\Rishab\\anaconda3\\lib\\site-packages\\sklearn\\utils\\validation.py:73: DataConversionWarning: A column-vector y was passed when a 1d array was expected. Please change the shape of y to (n_samples, ), for example using ravel().\n",
      "  return f(**kwargs)\n",
      "C:\\Users\\Rishab\\anaconda3\\lib\\site-packages\\sklearn\\utils\\validation.py:73: DataConversionWarning: A column-vector y was passed when a 1d array was expected. Please change the shape of y to (n_samples, ), for example using ravel().\n",
      "  return f(**kwargs)\n"
     ]
    },
    {
     "name": "stdout",
     "output_type": "stream",
     "text": [
      "0.59 accuracy with a standard deviation of 0.07\n"
     ]
    },
    {
     "data": {
      "text/plain": [
       "array([0.65195003, 0.63162309, 0.63239501, 0.4730435 , 0.55254162])"
      ]
     },
     "execution_count": 15,
     "metadata": {},
     "output_type": "execute_result"
    }
   ],
   "source": [
    "stack = StackingRegressor(estimators=estimators, final_estimator=GradientBoostingRegressor())\n",
    "performance(stack)"
   ]
  },
  {
   "cell_type": "code",
   "execution_count": 16,
   "metadata": {},
   "outputs": [
    {
     "name": "stderr",
     "output_type": "stream",
     "text": [
      "C:\\Users\\Rishab\\anaconda3\\lib\\site-packages\\sklearn\\utils\\validation.py:73: DataConversionWarning: A column-vector y was passed when a 1d array was expected. Please change the shape of y to (n_samples, ), for example using ravel().\n",
      "  return f(**kwargs)\n",
      "C:\\Users\\Rishab\\anaconda3\\lib\\site-packages\\sklearn\\utils\\validation.py:73: DataConversionWarning: A column-vector y was passed when a 1d array was expected. Please change the shape of y to (n_samples, ), for example using ravel().\n",
      "  return f(**kwargs)\n",
      "C:\\Users\\Rishab\\anaconda3\\lib\\site-packages\\sklearn\\utils\\validation.py:73: DataConversionWarning: A column-vector y was passed when a 1d array was expected. Please change the shape of y to (n_samples, ), for example using ravel().\n",
      "  return f(**kwargs)\n",
      "C:\\Users\\Rishab\\anaconda3\\lib\\site-packages\\sklearn\\utils\\validation.py:73: DataConversionWarning: A column-vector y was passed when a 1d array was expected. Please change the shape of y to (n_samples, ), for example using ravel().\n",
      "  return f(**kwargs)\n",
      "C:\\Users\\Rishab\\anaconda3\\lib\\site-packages\\sklearn\\utils\\validation.py:73: DataConversionWarning: A column-vector y was passed when a 1d array was expected. Please change the shape of y to (n_samples, ), for example using ravel().\n",
      "  return f(**kwargs)\n"
     ]
    },
    {
     "name": "stdout",
     "output_type": "stream",
     "text": [
      "0.62 accuracy with a standard deviation of 0.10\n"
     ]
    },
    {
     "data": {
      "text/plain": [
       "array([0.72432419, 0.63563556, 0.70060434, 0.45291745, 0.59728051])"
      ]
     },
     "execution_count": 16,
     "metadata": {},
     "output_type": "execute_result"
    }
   ],
   "source": [
    "stack = StackingRegressor(estimators=estimators, final_estimator=voting)\n",
    "performance(stack)"
   ]
  },
  {
   "cell_type": "code",
   "execution_count": 19,
   "metadata": {},
   "outputs": [
    {
     "name": "stderr",
     "output_type": "stream",
     "text": [
      "C:\\Users\\Rishab\\anaconda3\\lib\\site-packages\\sklearn\\utils\\validation.py:73: DataConversionWarning: A column-vector y was passed when a 1d array was expected. Please change the shape of y to (n_samples, ), for example using ravel().\n",
      "  return f(**kwargs)\n",
      "C:\\Users\\Rishab\\anaconda3\\lib\\site-packages\\sklearn\\utils\\validation.py:73: DataConversionWarning: A column-vector y was passed when a 1d array was expected. Please change the shape of y to (n_samples, ), for example using ravel().\n",
      "  return f(**kwargs)\n",
      "C:\\Users\\Rishab\\anaconda3\\lib\\site-packages\\sklearn\\utils\\validation.py:73: DataConversionWarning: A column-vector y was passed when a 1d array was expected. Please change the shape of y to (n_samples, ), for example using ravel().\n",
      "  return f(**kwargs)\n",
      "C:\\Users\\Rishab\\anaconda3\\lib\\site-packages\\sklearn\\utils\\validation.py:73: DataConversionWarning: A column-vector y was passed when a 1d array was expected. Please change the shape of y to (n_samples, ), for example using ravel().\n",
      "  return f(**kwargs)\n",
      "C:\\Users\\Rishab\\anaconda3\\lib\\site-packages\\sklearn\\utils\\validation.py:73: DataConversionWarning: A column-vector y was passed when a 1d array was expected. Please change the shape of y to (n_samples, ), for example using ravel().\n",
      "  return f(**kwargs)\n"
     ]
    },
    {
     "name": "stdout",
     "output_type": "stream",
     "text": [
      "0.57 accuracy with a standard deviation of 0.06\n"
     ]
    },
    {
     "data": {
      "text/plain": [
       "array([0.56713567, 0.6259441 , 0.63199989, 0.46984662, 0.56212234])"
      ]
     },
     "execution_count": 19,
     "metadata": {},
     "output_type": "execute_result"
    }
   ],
   "source": [
    "stack = StackingRegressor(estimators=estimators, final_estimator=stack)\n",
    "performance(stack)"
   ]
  },
  {
   "cell_type": "code",
   "execution_count": 20,
   "metadata": {},
   "outputs": [
    {
     "name": "stderr",
     "output_type": "stream",
     "text": [
      "C:\\Users\\Rishab\\anaconda3\\lib\\site-packages\\sklearn\\utils\\validation.py:73: DataConversionWarning: A column-vector y was passed when a 1d array was expected. Please change the shape of y to (n_samples, ), for example using ravel().\n",
      "  return f(**kwargs)\n",
      "C:\\Users\\Rishab\\anaconda3\\lib\\site-packages\\sklearn\\utils\\validation.py:73: DataConversionWarning: A column-vector y was passed when a 1d array was expected. Please change the shape of y to (n_samples, ), for example using ravel().\n",
      "  return f(**kwargs)\n",
      "C:\\Users\\Rishab\\anaconda3\\lib\\site-packages\\sklearn\\utils\\validation.py:73: DataConversionWarning: A column-vector y was passed when a 1d array was expected. Please change the shape of y to (n_samples, ), for example using ravel().\n",
      "  return f(**kwargs)\n",
      "C:\\Users\\Rishab\\anaconda3\\lib\\site-packages\\sklearn\\utils\\validation.py:73: DataConversionWarning: A column-vector y was passed when a 1d array was expected. Please change the shape of y to (n_samples, ), for example using ravel().\n",
      "  return f(**kwargs)\n",
      "C:\\Users\\Rishab\\anaconda3\\lib\\site-packages\\sklearn\\utils\\validation.py:73: DataConversionWarning: A column-vector y was passed when a 1d array was expected. Please change the shape of y to (n_samples, ), for example using ravel().\n",
      "  return f(**kwargs)\n"
     ]
    },
    {
     "name": "stdout",
     "output_type": "stream",
     "text": [
      "0.51 accuracy with a standard deviation of 0.12\n"
     ]
    },
    {
     "data": {
      "text/plain": [
       "array([0.6124694 , 0.49305645, 0.67400245, 0.36714067, 0.40269671])"
      ]
     },
     "execution_count": 20,
     "metadata": {},
     "output_type": "execute_result"
    }
   ],
   "source": [
    "stack = StackingRegressor(estimators=estimators, final_estimator=stack)\n",
    "performance(stack)"
   ]
  },
  {
   "cell_type": "code",
   "execution_count": null,
   "metadata": {},
   "outputs": [],
   "source": []
  }
 ],
 "metadata": {
  "kernelspec": {
   "name": "python385jvsc74a57bd0af3454c02bfe4b546fe539e58f0e28e5fbe3d90ade7fdeba239d65c7463c6e6a",
   "display_name": "Python 3.8.5 64-bit ('DataScience': conda)"
  },
  "language_info": {
   "codemirror_mode": {
    "name": "ipython",
    "version": 3
   },
   "file_extension": ".py",
   "mimetype": "text/x-python",
   "name": "python",
   "nbconvert_exporter": "python",
   "pygments_lexer": "ipython3",
   "version": "3.8.5"
  }
 },
 "nbformat": 4,
 "nbformat_minor": 4
}